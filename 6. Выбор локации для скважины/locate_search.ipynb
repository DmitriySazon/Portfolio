{
 "cells": [
  {
   "cell_type": "markdown",
   "metadata": {},
   "source": [
    "# Выбор локации для скважины"
   ]
  },
  {
   "cell_type": "markdown",
   "metadata": {},
   "source": [
    "Допустим, вы работаете в добывающей компании «ГлавРосГосНефть». Нужно решить, где бурить новую скважину.\n",
    "\n",
    "Вам предоставлены пробы нефти в трёх регионах: в каждом 10 000 месторождений, где измерили качество нефти и объём её запасов. Постройте модель машинного обучения, которая поможет определить регион, где добыча принесёт наибольшую прибыль. Проанализируйте возможную прибыль и риски техникой *Bootstrap.*\n",
    "\n",
    "Шаги для выбора локации:\n",
    "\n",
    "- В избранном регионе ищут месторождения, для каждого определяют значения признаков;\n",
    "- Строят модель и оценивают объём запасов;\n",
    "- Выбирают месторождения с самым высокими оценками значений. Количество месторождений зависит от бюджета компании и стоимости разработки одной скважины;\n",
    "- Прибыль равна суммарной прибыли отобранных месторождений."
   ]
  },
  {
   "cell_type": "markdown",
   "metadata": {},
   "source": [
    "#                           Инструкция по выполнению проекта  \n",
    "\n",
    "  - Загрузите и подготовьте данные. Поясните порядок действий.    \n",
    "\n",
    "  - Обучите и проверьте модель для каждого региона:    \n",
    "\n",
    "       * Разбейте данные на обучающую и валидационную выборки в соотношении 75:25.  \n",
    "       * Обучите модель и сделайте предсказания на валидационной выборке.  \n",
    "       * Сохраните предсказания и правильные ответы на валидационной выборке.  \n",
    "       * Напечатайте на экране средний запас предсказанного сырья и RMSE модели.  \n",
    "       * Проанализируйте результаты.    \n",
    "\n",
    "  - Подготовьтесь к расчёту прибыли:\n",
    "\n",
    "       * Все ключевые значения для расчётов сохраните в отдельных переменных.  \n",
    "       * Рассчитайте достаточный объём сырья для безубыточной разработки новой скважины. Сравните полученный объём сырья со средним   запасом в каждом регионе.  \n",
    "       * Напишите выводы по этапу подготовки расчёта прибыли.  \n",
    "\n",
    "  - Напишите функцию для расчёта прибыли по выбранным скважинам и предсказаниям модели:  \n",
    "\n",
    "      * Выберите скважины с максимальными значениями предсказаний.  \n",
    "      * Просуммируйте целевое значение объёма сырья, соответствующее этим предсказаниям.  \n",
    "      * Рассчитайте прибыль для полученного объёма сырья.  \n",
    "\n",
    "  - Посчитайте риски и прибыль для каждого региона:  \n",
    "\n",
    "      * Примените технику Bootstrap с 1000 выборок, чтобы найти распределение прибыли.  \n",
    "      * Найдите среднюю прибыль, 95%-й доверительный интервал и риск убытков. Убыток — это отрицательная прибыль.  \n",
    "      * Напишите выводы: предложите регион для разработки скважин и обоснуйте выбор.  "
   ]
  },
  {
   "cell_type": "markdown",
   "metadata": {},
   "source": [
    "# Описание данных  \n",
    "\n",
    " **Данные геологоразведки трёх регионов находятся в файлах:**     \n",
    "- /datasets/geo_data_0.csv.   \n",
    "- /datasets/geo_data_1.csv.   \n",
    "- /datasets/geo_data_2.csv.  \n",
    "- id — уникальный идентификатор скважины;  \n",
    "- f0, f1, f2 — три признака точек (неважно, что они означают, но сами признаки значимы);  \n",
    "- product — объём запасов в скважине (тыс. баррелей).  "
   ]
  },
  {
   "cell_type": "markdown",
   "metadata": {},
   "source": [
    "## Загрузка и подготовка данных"
   ]
  },
  {
   "cell_type": "code",
   "execution_count": 33,
   "metadata": {},
   "outputs": [],
   "source": [
    "import matplotlib.pyplot as plt\n",
    "import numpy as np\n",
    "import pandas as pd\n",
    "import seaborn as sns\n",
    "from sklearn.model_selection import train_test_split\n",
    "from sklearn.linear_model import LinearRegression\n",
    "from sklearn.metrics import mean_squared_error\n",
    "from sklearn.preprocessing import StandardScaler\n",
    "from sklearn.utils import shuffle"
   ]
  },
  {
   "cell_type": "markdown",
   "metadata": {},
   "source": [
    "**Уберем экспонентациальные формы при выводе данных**"
   ]
  },
  {
   "cell_type": "code",
   "execution_count": 18,
   "metadata": {},
   "outputs": [],
   "source": [
    "pd.set_option('display.float_format', '{:,.2f}'.format)"
   ]
  },
  {
   "cell_type": "markdown",
   "metadata": {},
   "source": [
    "**Сбросим ограничение на количество выводимых столбцов, что бы просмотреть все столбцы**"
   ]
  },
  {
   "cell_type": "code",
   "execution_count": 19,
   "metadata": {},
   "outputs": [],
   "source": [
    "pd.set_option('display.max_columns', None)"
   ]
  },
  {
   "cell_type": "markdown",
   "metadata": {},
   "source": [
    "**Чтобы предупреждение SettingWithCopy не появлялось добавим строчку кода**"
   ]
  },
  {
   "cell_type": "code",
   "execution_count": 20,
   "metadata": {},
   "outputs": [],
   "source": [
    "pd.options.mode.chained_assignment = None"
   ]
  },
  {
   "cell_type": "code",
   "execution_count": 21,
   "metadata": {},
   "outputs": [],
   "source": [
    "df1 = pd.read_csv('/datasets/geo_data_0.csv')\n",
    "df2 = pd.read_csv('/datasets/geo_data_1.csv')\n",
    "df3 = pd.read_csv('/datasets/geo_data_2.csv')"
   ]
  },
  {
   "cell_type": "code",
   "execution_count": 22,
   "metadata": {},
   "outputs": [
    {
     "data": {
      "text/html": [
       "<div>\n",
       "<style scoped>\n",
       "    .dataframe tbody tr th:only-of-type {\n",
       "        vertical-align: middle;\n",
       "    }\n",
       "\n",
       "    .dataframe tbody tr th {\n",
       "        vertical-align: top;\n",
       "    }\n",
       "\n",
       "    .dataframe thead th {\n",
       "        text-align: right;\n",
       "    }\n",
       "</style>\n",
       "<table border=\"1\" class=\"dataframe\">\n",
       "  <thead>\n",
       "    <tr style=\"text-align: right;\">\n",
       "      <th></th>\n",
       "      <th>id</th>\n",
       "      <th>f0</th>\n",
       "      <th>f1</th>\n",
       "      <th>f2</th>\n",
       "      <th>product</th>\n",
       "    </tr>\n",
       "  </thead>\n",
       "  <tbody>\n",
       "    <tr>\n",
       "      <th>0</th>\n",
       "      <td>txEyH</td>\n",
       "      <td>0.71</td>\n",
       "      <td>-0.50</td>\n",
       "      <td>1.22</td>\n",
       "      <td>105.28</td>\n",
       "    </tr>\n",
       "    <tr>\n",
       "      <th>1</th>\n",
       "      <td>2acmU</td>\n",
       "      <td>1.33</td>\n",
       "      <td>-0.34</td>\n",
       "      <td>4.37</td>\n",
       "      <td>73.04</td>\n",
       "    </tr>\n",
       "    <tr>\n",
       "      <th>2</th>\n",
       "      <td>409Wp</td>\n",
       "      <td>1.02</td>\n",
       "      <td>0.15</td>\n",
       "      <td>1.42</td>\n",
       "      <td>85.27</td>\n",
       "    </tr>\n",
       "    <tr>\n",
       "      <th>3</th>\n",
       "      <td>iJLyR</td>\n",
       "      <td>-0.03</td>\n",
       "      <td>0.14</td>\n",
       "      <td>2.98</td>\n",
       "      <td>168.62</td>\n",
       "    </tr>\n",
       "    <tr>\n",
       "      <th>4</th>\n",
       "      <td>Xdl7t</td>\n",
       "      <td>1.99</td>\n",
       "      <td>0.16</td>\n",
       "      <td>4.75</td>\n",
       "      <td>154.04</td>\n",
       "    </tr>\n",
       "  </tbody>\n",
       "</table>\n",
       "</div>"
      ],
      "text/plain": [
       "      id    f0    f1   f2  product\n",
       "0  txEyH  0.71 -0.50 1.22   105.28\n",
       "1  2acmU  1.33 -0.34 4.37    73.04\n",
       "2  409Wp  1.02  0.15 1.42    85.27\n",
       "3  iJLyR -0.03  0.14 2.98   168.62\n",
       "4  Xdl7t  1.99  0.16 4.75   154.04"
      ]
     },
     "execution_count": 22,
     "metadata": {},
     "output_type": "execute_result"
    }
   ],
   "source": [
    "df1.head()"
   ]
  },
  {
   "cell_type": "code",
   "execution_count": 23,
   "metadata": {},
   "outputs": [
    {
     "data": {
      "text/html": [
       "<div>\n",
       "<style scoped>\n",
       "    .dataframe tbody tr th:only-of-type {\n",
       "        vertical-align: middle;\n",
       "    }\n",
       "\n",
       "    .dataframe tbody tr th {\n",
       "        vertical-align: top;\n",
       "    }\n",
       "\n",
       "    .dataframe thead th {\n",
       "        text-align: right;\n",
       "    }\n",
       "</style>\n",
       "<table border=\"1\" class=\"dataframe\">\n",
       "  <thead>\n",
       "    <tr style=\"text-align: right;\">\n",
       "      <th></th>\n",
       "      <th>id</th>\n",
       "      <th>f0</th>\n",
       "      <th>f1</th>\n",
       "      <th>f2</th>\n",
       "      <th>product</th>\n",
       "    </tr>\n",
       "  </thead>\n",
       "  <tbody>\n",
       "    <tr>\n",
       "      <th>0</th>\n",
       "      <td>kBEdx</td>\n",
       "      <td>-15.00</td>\n",
       "      <td>-8.28</td>\n",
       "      <td>-0.01</td>\n",
       "      <td>3.18</td>\n",
       "    </tr>\n",
       "    <tr>\n",
       "      <th>1</th>\n",
       "      <td>62mP7</td>\n",
       "      <td>14.27</td>\n",
       "      <td>-3.48</td>\n",
       "      <td>1.00</td>\n",
       "      <td>26.95</td>\n",
       "    </tr>\n",
       "    <tr>\n",
       "      <th>2</th>\n",
       "      <td>vyE1P</td>\n",
       "      <td>6.26</td>\n",
       "      <td>-5.95</td>\n",
       "      <td>5.00</td>\n",
       "      <td>134.77</td>\n",
       "    </tr>\n",
       "    <tr>\n",
       "      <th>3</th>\n",
       "      <td>KcrkZ</td>\n",
       "      <td>-13.08</td>\n",
       "      <td>-11.51</td>\n",
       "      <td>5.00</td>\n",
       "      <td>137.95</td>\n",
       "    </tr>\n",
       "    <tr>\n",
       "      <th>4</th>\n",
       "      <td>AHL4O</td>\n",
       "      <td>12.70</td>\n",
       "      <td>-8.15</td>\n",
       "      <td>5.00</td>\n",
       "      <td>134.77</td>\n",
       "    </tr>\n",
       "  </tbody>\n",
       "</table>\n",
       "</div>"
      ],
      "text/plain": [
       "      id     f0     f1    f2  product\n",
       "0  kBEdx -15.00  -8.28 -0.01     3.18\n",
       "1  62mP7  14.27  -3.48  1.00    26.95\n",
       "2  vyE1P   6.26  -5.95  5.00   134.77\n",
       "3  KcrkZ -13.08 -11.51  5.00   137.95\n",
       "4  AHL4O  12.70  -8.15  5.00   134.77"
      ]
     },
     "execution_count": 23,
     "metadata": {},
     "output_type": "execute_result"
    }
   ],
   "source": [
    "df2.head()"
   ]
  },
  {
   "cell_type": "code",
   "execution_count": 24,
   "metadata": {},
   "outputs": [
    {
     "data": {
      "text/html": [
       "<div>\n",
       "<style scoped>\n",
       "    .dataframe tbody tr th:only-of-type {\n",
       "        vertical-align: middle;\n",
       "    }\n",
       "\n",
       "    .dataframe tbody tr th {\n",
       "        vertical-align: top;\n",
       "    }\n",
       "\n",
       "    .dataframe thead th {\n",
       "        text-align: right;\n",
       "    }\n",
       "</style>\n",
       "<table border=\"1\" class=\"dataframe\">\n",
       "  <thead>\n",
       "    <tr style=\"text-align: right;\">\n",
       "      <th></th>\n",
       "      <th>id</th>\n",
       "      <th>f0</th>\n",
       "      <th>f1</th>\n",
       "      <th>f2</th>\n",
       "      <th>product</th>\n",
       "    </tr>\n",
       "  </thead>\n",
       "  <tbody>\n",
       "    <tr>\n",
       "      <th>0</th>\n",
       "      <td>fwXo0</td>\n",
       "      <td>-1.15</td>\n",
       "      <td>0.96</td>\n",
       "      <td>-0.83</td>\n",
       "      <td>27.76</td>\n",
       "    </tr>\n",
       "    <tr>\n",
       "      <th>1</th>\n",
       "      <td>WJtFt</td>\n",
       "      <td>0.26</td>\n",
       "      <td>0.27</td>\n",
       "      <td>-2.53</td>\n",
       "      <td>56.07</td>\n",
       "    </tr>\n",
       "    <tr>\n",
       "      <th>2</th>\n",
       "      <td>ovLUW</td>\n",
       "      <td>0.19</td>\n",
       "      <td>0.29</td>\n",
       "      <td>-5.59</td>\n",
       "      <td>62.87</td>\n",
       "    </tr>\n",
       "    <tr>\n",
       "      <th>3</th>\n",
       "      <td>q6cA6</td>\n",
       "      <td>2.24</td>\n",
       "      <td>-0.55</td>\n",
       "      <td>0.93</td>\n",
       "      <td>114.57</td>\n",
       "    </tr>\n",
       "    <tr>\n",
       "      <th>4</th>\n",
       "      <td>WPMUX</td>\n",
       "      <td>-0.52</td>\n",
       "      <td>1.72</td>\n",
       "      <td>5.90</td>\n",
       "      <td>149.60</td>\n",
       "    </tr>\n",
       "  </tbody>\n",
       "</table>\n",
       "</div>"
      ],
      "text/plain": [
       "      id    f0    f1    f2  product\n",
       "0  fwXo0 -1.15  0.96 -0.83    27.76\n",
       "1  WJtFt  0.26  0.27 -2.53    56.07\n",
       "2  ovLUW  0.19  0.29 -5.59    62.87\n",
       "3  q6cA6  2.24 -0.55  0.93   114.57\n",
       "4  WPMUX -0.52  1.72  5.90   149.60"
      ]
     },
     "execution_count": 24,
     "metadata": {},
     "output_type": "execute_result"
    }
   ],
   "source": [
    "df3.head()"
   ]
  },
  {
   "cell_type": "code",
   "execution_count": 25,
   "metadata": {},
   "outputs": [
    {
     "name": "stdout",
     "output_type": "stream",
     "text": [
      "<class 'pandas.core.frame.DataFrame'>\n",
      "RangeIndex: 100000 entries, 0 to 99999\n",
      "Data columns (total 5 columns):\n",
      " #   Column   Non-Null Count   Dtype  \n",
      "---  ------   --------------   -----  \n",
      " 0   id       100000 non-null  object \n",
      " 1   f0       100000 non-null  float64\n",
      " 2   f1       100000 non-null  float64\n",
      " 3   f2       100000 non-null  float64\n",
      " 4   product  100000 non-null  float64\n",
      "dtypes: float64(4), object(1)\n",
      "memory usage: 3.8+ MB\n"
     ]
    }
   ],
   "source": [
    "df1.info()"
   ]
  },
  {
   "cell_type": "code",
   "execution_count": 26,
   "metadata": {},
   "outputs": [
    {
     "name": "stdout",
     "output_type": "stream",
     "text": [
      "<class 'pandas.core.frame.DataFrame'>\n",
      "RangeIndex: 100000 entries, 0 to 99999\n",
      "Data columns (total 5 columns):\n",
      " #   Column   Non-Null Count   Dtype  \n",
      "---  ------   --------------   -----  \n",
      " 0   id       100000 non-null  object \n",
      " 1   f0       100000 non-null  float64\n",
      " 2   f1       100000 non-null  float64\n",
      " 3   f2       100000 non-null  float64\n",
      " 4   product  100000 non-null  float64\n",
      "dtypes: float64(4), object(1)\n",
      "memory usage: 3.8+ MB\n"
     ]
    }
   ],
   "source": [
    "df2.info()"
   ]
  },
  {
   "cell_type": "code",
   "execution_count": 27,
   "metadata": {},
   "outputs": [
    {
     "name": "stdout",
     "output_type": "stream",
     "text": [
      "<class 'pandas.core.frame.DataFrame'>\n",
      "RangeIndex: 100000 entries, 0 to 99999\n",
      "Data columns (total 5 columns):\n",
      " #   Column   Non-Null Count   Dtype  \n",
      "---  ------   --------------   -----  \n",
      " 0   id       100000 non-null  object \n",
      " 1   f0       100000 non-null  float64\n",
      " 2   f1       100000 non-null  float64\n",
      " 3   f2       100000 non-null  float64\n",
      " 4   product  100000 non-null  float64\n",
      "dtypes: float64(4), object(1)\n",
      "memory usage: 3.8+ MB\n"
     ]
    }
   ],
   "source": [
    "df3.info()"
   ]
  },
  {
   "cell_type": "markdown",
   "metadata": {},
   "source": [
    "**Проверка на явные дубликаты**"
   ]
  },
  {
   "cell_type": "code",
   "execution_count": 37,
   "metadata": {},
   "outputs": [
    {
     "name": "stdout",
     "output_type": "stream",
     "text": [
      "\n",
      "Явных дубликатов в данных первого региона: 0\n",
      "\n",
      "Явных дубликатов в данных второго региона: 0\n",
      "\n",
      "Явных дубликатов в данных третьего региона: 0\n"
     ]
    }
   ],
   "source": [
    "print(f'\\nЯвных дубликатов в данных первого региона: {df1.duplicated().sum()}')\n",
    "print(f'\\nЯвных дубликатов в данных второго региона: {df2.duplicated().sum()}')\n",
    "print(f'\\nЯвных дубликатов в данных третьего региона: {df3.duplicated().sum()}')"
   ]
  },
  {
   "cell_type": "markdown",
   "metadata": {},
   "source": [
    "**Поиск пропущенных значений**"
   ]
  },
  {
   "cell_type": "code",
   "execution_count": 38,
   "metadata": {},
   "outputs": [
    {
     "name": "stdout",
     "output_type": "stream",
     "text": [
      "\n",
      "Пропусков в данных первого региона\n",
      "\n",
      "f0         0\n",
      "f1         0\n",
      "f2         0\n",
      "product    0\n",
      "dtype: int64\n",
      "\n",
      "Пропусков в данных второго региона\n",
      "\n",
      "f0         0\n",
      "f1         0\n",
      "f2         0\n",
      "product    0\n",
      "dtype: int64\n",
      "\n",
      "Пропусков в данных третьего региона\n",
      "\n",
      "f0         0\n",
      "f1         0\n",
      "f2         0\n",
      "product    0\n",
      "dtype: int64\n"
     ]
    }
   ],
   "source": [
    "print('\\nПропусков в данных первого региона\\n')\n",
    "print(df1.isna().sum())\n",
    "\n",
    "print('\\nПропусков в данных второго региона\\n')\n",
    "print(df2.isna().sum())\n",
    "\n",
    "print('\\nПропусков в данных третьего региона\\n')\n",
    "print(df3.isna().sum())"
   ]
  },
  {
   "cell_type": "markdown",
   "metadata": {},
   "source": [
    "**Удалим из каждого датафрейма столбец id. Он не несет значимости для для модели.**"
   ]
  },
  {
   "cell_type": "code",
   "execution_count": 28,
   "metadata": {},
   "outputs": [],
   "source": [
    "df1 = df1.drop(['id'], axis=1)\n",
    "df2 = df2.drop(['id'], axis=1)\n",
    "df3 = df3.drop(['id'], axis=1)"
   ]
  },
  {
   "cell_type": "markdown",
   "metadata": {},
   "source": [
    "**Посмотрим на матрицу корреляции между параметрами по каждому региону**"
   ]
  },
  {
   "cell_type": "code",
   "execution_count": 34,
   "metadata": {},
   "outputs": [
    {
     "data": {
      "image/png": "[encoded data removed]",
      "text/plain": [
       "<Figure size 648x432 with 2 Axes>"
      ]
     },
     "metadata": {
      "needs_background": "light"
     },
     "output_type": "display_data"
    }
   ],
   "source": [
    "# Для региона 1\n",
    "plt.figure(figsize=(9, 6))\n",
    "sns.heatmap(df1.corr(), cmap=\"YlGnBu\", annot=True)\n",
    "plt.title('Матрица корреляции для региона 1')\n",
    "plt.show()"
   ]
  },
  {
   "cell_type": "code",
   "execution_count": 35,
   "metadata": {},
   "outputs": [
    {
     "data": {
      "image/png": "[encoded data removed]",
      "text/plain": [
       "<Figure size 648x432 with 2 Axes>"
      ]
     },
     "metadata": {
      "needs_background": "light"
     },
     "output_type": "display_data"
    }
   ],
   "source": [
    "# Для региона 2\n",
    "plt.figure(figsize=(9, 6))\n",
    "sns.heatmap(df2.corr(), cmap=\"YlGnBu\", annot=True)\n",
    "plt.title('Матрица корреляции для региона 2')\n",
    "plt.show()"
   ]
  },
  {
   "cell_type": "code",
   "execution_count": 36,
   "metadata": {},
   "outputs": [
    {
     "data": {
      "image/png": "[encoded data removed]",
      "text/plain": [
       "<Figure size 648x432 with 2 Axes>"
      ]
     },
     "metadata": {
      "needs_background": "light"
     },
     "output_type": "display_data"
    }
   ],
   "source": [
    "# Для региона 3\n",
    "plt.figure(figsize=(9, 6))\n",
    "sns.heatmap(df3.corr(), cmap=\"YlGnBu\", annot=True)\n",
    "plt.title('Матрица корреляции для региона 3')\n",
    "plt.show()"
   ]
  },
  {
   "cell_type": "markdown",
   "metadata": {},
   "source": [
    "**Гистограммы признаков**"
   ]
  },
  {
   "cell_type": "code",
   "execution_count": 39,
   "metadata": {},
   "outputs": [
    {
     "data": {
      "image/png": "[encoded data removed]",
      "text/plain": [
       "<Figure size 648x504 with 4 Axes>"
      ]
     },
     "metadata": {
      "needs_background": "light"
     },
     "output_type": "display_data"
    }
   ],
   "source": [
    "# Построим гистограмму признаков для df1\n",
    "df1.hist(bins=50, figsize=(9, 7), edgecolor='black', linewidth=2)\n",
    "plt.show()"
   ]
  },
  {
   "cell_type": "code",
   "execution_count": 40,
   "metadata": {},
   "outputs": [
    {
     "data": {
      "image/png": "[encoded data removed]",
      "text/plain": [
       "<Figure size 648x504 with 4 Axes>"
      ]
     },
     "metadata": {
      "needs_background": "light"
     },
     "output_type": "display_data"
    }
   ],
   "source": [
    "# Построим гистограмму признаков для df2\n",
    "df2.hist(bins=50, figsize=(9, 7), edgecolor='black', linewidth=2)\n",
    "plt.show()"
   ]
  },
  {
   "cell_type": "code",
   "execution_count": 41,
   "metadata": {},
   "outputs": [
    {
     "data": {
      "image/png": "[encoded data removed]",
      "text/plain": [
       "<Figure size 648x504 with 4 Axes>"
      ]
     },
     "metadata": {
      "needs_background": "light"
     },
     "output_type": "display_data"
    }
   ],
   "source": [
    "# Построим гистограмму признаков для df3\n",
    "df3.hist(bins=50, figsize=(9, 7), edgecolor='black', linewidth=2)\n",
    "plt.show()"
   ]
  },
  {
   "cell_type": "markdown",
   "metadata": {},
   "source": [
    "**Краткий вывод**  \n",
    "В первой части нашего исследования мы сохранили предоставленные нам данные по регионам в соответствующие переменные, проверили на отсутсвие явных дубликатов и пропусков. Проверив данные на взаимосвязь, видим среднее положительное влияние признаков f2 и product в регионах 1 и 3, а так же сильное положительное влияние в регионе 2. Относительно региона 2 - это также проявляется и на гистограммах распределения."
   ]
  },
  {
   "cell_type": "markdown",
   "metadata": {},
   "source": [
    "## Обучение и проверка модели"
   ]
  },
  {
   "cell_type": "markdown",
   "metadata": {},
   "source": [
    "**Создание функции обучения модели**  \n",
    "Функция принимает на вход датасет и производит с ним полный цикл,\n",
    "         - разбиение на выборки,\n",
    "         - масштабирование численных признаков,\n",
    "         - обучение модели,\n",
    "         - оценка качества модели"
   ]
  },
  {
   "cell_type": "code",
   "execution_count": 87,
   "metadata": {},
   "outputs": [],
   "source": [
    "# Примем значение аргумента random_state в переменной STATE\n",
    "STATE = np.random.RandomState(1234)\n",
    "\n",
    "def split_scale_learn(df):\n",
    "    # Делим данные на target и features\n",
    "    target = df['product']\n",
    "    features = df.drop(['product'], axis=1)\n",
    "\n",
    "    # Делим данные на обучающую и валидационную выборки\n",
    "    features_train, features_valid, target_train, target_valid = train_test_split(\n",
    "        features,\n",
    "        target,\n",
    "        test_size=0.25,\n",
    "        random_state=STATE)\n",
    "\n",
    "    # Масштабируем признаки\n",
    "    numeric = ['f0', 'f1', 'f2']\n",
    "\n",
    "    scaler = StandardScaler()\n",
    "    scaler.fit(features_train[numeric])\n",
    "    features_train[numeric] = scaler.transform(features_train[numeric])\n",
    "    features_valid[numeric] = scaler.transform(features_valid[numeric])\n",
    "\n",
    "    # Обучаем модель\n",
    "    model = LinearRegression()\n",
    "    model.fit(features_train, target_train)\n",
    "    predicted = model.predict(features_valid)\n",
    "\n",
    "    # Оцениваем модель\n",
    "    rmse = mean_squared_error(predicted, target_valid) ** .5\n",
    "\n",
    "    return rmse, predicted, features_train, features_valid, target_valid"
   ]
  },
  {
   "cell_type": "code",
   "execution_count": 88,
   "metadata": {},
   "outputs": [],
   "source": [
    "# Вызов функции и сохранение переменных для региона 1\n",
    "rmse1, predicted1, features_train1, features_valid1, target_valid1 = split_scale_learn(df1)\n",
    "\n",
    "# Вызов функции и сохранение переменных для региона 2\n",
    "rmse2, predicted2, features_train2, features_valid2, target_valid2 = split_scale_learn(df2)\n",
    "\n",
    "# Вызов функции и сохранение переменных для региона 3\n",
    "rmse3, predicted3, features_train, features_valid3, target_valid3 = split_scale_learn(df3)"
   ]
  },
  {
   "cell_type": "markdown",
   "metadata": {},
   "source": [
    "**Вывод результатов**"
   ]
  },
  {
   "cell_type": "code",
   "execution_count": 89,
   "metadata": {},
   "outputs": [
    {
     "name": "stdout",
     "output_type": "stream",
     "text": [
      "Регион 1:\n",
      "\n",
      "\tКоличество строк в обучающей выборке: 75000, или 75.0% от исходных данных\n",
      "\tКоличество строк в валидационной выборке: 25000, или 25.0% от исходных данных\n",
      "\tСредний предсказанный запас сырья: 92.430\n",
      "\tСредний истинный запас сырья: 92.500\n",
      "\tRMSE модели: 37.56\n",
      "\n",
      "Регион 2:\n",
      "\n",
      "\tКоличество строк в обучающей выборке: 75000, или 75.0% от исходных данных\n",
      "\tКоличество строк в валидационной выборке: 25000, или 25.0% от исходных данных\n",
      "\tСредний предсказанный запас сырья: 68.983\n",
      "\tСредний истинный запас сырья: 68.825\n",
      "\tRMSE модели: 0.89\n",
      "\n",
      "Регион 3:\n",
      "\n",
      "\tКоличество строк в обучающей выборке: 75000, или 75.0% от исходных данных\n",
      "\tКоличество строк в валидационной выборке: 25000, или 25.0% от исходных данных\n",
      "\tСредний предсказанный запас сырья: 94.779\n",
      "\tСредний истинный запас сырья: 95.000\n",
      "\tRMSE модели: 40.12\n"
     ]
    }
   ],
   "source": [
    "print(f'Регион 1:\\n')\n",
    "print(f'\\tКоличество строк в обучающей выборке: {features_train1.shape[0]}, или {(len(features_train1) / len(df1)):.1%} от исходных данных')\n",
    "print(f'\\tКоличество строк в валидационной выборке: {features_valid1.shape[0]}, или {(len(features_valid1) / len(df1)):.1%} от исходных данных')\n",
    "print(f'\\tСредний предсказанный запас сырья: {predicted1.mean():.3f}')\n",
    "print(f'\\tСредний истинный запас сырья: {df1[\"product\"].mean():.3f}')\n",
    "print(f'\\tRMSE модели: {rmse1:.2f}')\n",
    "\n",
    "print(f'\\nРегион 2:\\n')\n",
    "print(f'\\tКоличество строк в обучающей выборке: {features_train2.shape[0]}, или {(len(features_train2) / len(df2)):.1%} от исходных данных')\n",
    "print(f'\\tКоличество строк в валидационной выборке: {features_valid2.shape[0]}, или {(len(features_valid2) / len(df2)):.1%} от исходных данных')\n",
    "print(f'\\tСредний предсказанный запас сырья: {predicted2.mean():.3f}')\n",
    "print(f'\\tСредний истинный запас сырья: {df2[\"product\"].mean():.3f}')\n",
    "print(f'\\tRMSE модели: {rmse2:.2f}')\n",
    "\n",
    "print(f'\\nРегион 3:\\n')\n",
    "print(f'\\tКоличество строк в обучающей выборке: {features_train3.shape[0]}, или {(len(features_train3) / len(df3)):.1%} от исходных данных')\n",
    "print(f'\\tКоличество строк в валидационной выборке: {features_valid3.shape[0]}, или {(len(features_valid3) / len(df3)):.1%} от исходных данных')\n",
    "print(f'\\tСредний предсказанный запас сырья: {predicted3.mean():.3f}')\n",
    "print(f'\\tСредний истинный запас сырья: {df3[\"product\"].mean():.3f}')\n",
    "print(f'\\tRMSE модели: {rmse3:.2f}')"
   ]
  },
  {
   "cell_type": "markdown",
   "metadata": {},
   "source": [
    "**Анализ результатов**  \n",
    "Во второй части исследования мы разбили исходные данные на обучающую и валидационную выборки. Вычислили показатели среднего предсказанного запаса сырья и оценили качество модели с помощью метрики RMSE. Данная метрика вычисляет квадратный корень из значения средней квадратичной ошибки, что позволяет оценивать величину ошибки в понятных единицах измерения.\n",
    "\n",
    "Согласно предсказаниям построенных моделей для каждого региона, средний запас предсказанного сырья больше в третьем регионе - модель предсказала залежи в 94.779 тыс. баррелей. В первом регионе запасы сопоставимы - 92.430 тыс. баррелей. Второй регион показал самые низкие значения - 68.983 тыс. баррелей.\n"
   ]
  },
  {
   "cell_type": "markdown",
   "metadata": {},
   "source": [
    "## Подготовка к расчёту прибыли"
   ]
  },
  {
   "cell_type": "markdown",
   "metadata": {},
   "source": [
    "**Определим ключевые значения**  \n",
    "При разведке региона исследуюем 500 точек, из которых с помощью машинного обучения выберем 200 лучших для разработки.  \n",
    "Бюджет на разработку скважин в регионе — 10 млрд рублей.  \n",
    "При нынешних ценах один баррель сырья приносит 450 рублей дохода. Доход с каждой единицы продукта составляет 450 тыс.  \n",
    "рублей, поскольку объём указан в тысячах баррелей.  \n",
    "После оценки рисков оставим лишь те регионы, в которых вероятность убытков меньше 2.5%. Среди них выберем регион с наибольшей   средней прибылью."
   ]
  },
  {
   "cell_type": "code",
   "execution_count": 55,
   "metadata": {},
   "outputs": [],
   "source": [
    "BUDGET = 10000000000      #Бюджет на разработку скважин в регионе\n",
    "POINTS = 500              #Количество иследуемых точек \n",
    "POINTS_PER_BUDGET = 200   #Какое количество наилучших точек будет отбираться для разработки \n",
    "INCOME_PER_UNIT = 450000  #Стоимость тысячи баррелей сырья"
   ]
  },
  {
   "cell_type": "markdown",
   "metadata": {},
   "source": [
    "**Определение величины запаса сырья для безубыточной разработки**"
   ]
  },
  {
   "cell_type": "code",
   "execution_count": 56,
   "metadata": {},
   "outputs": [
    {
     "name": "stdout",
     "output_type": "stream",
     "text": [
      "Для безубыточной разработки одной скважины необходимо 111.0 тыс. баррелей\n"
     ]
    }
   ],
   "source": [
    "# Бюджет на разработку скважины\n",
    "COST_PER_UNIT = BUDGET / POINTS_PER_BUDGET\n",
    "\n",
    "# Достаточный объем сырья для безубыточной разработки\n",
    "LOSSLESS_POINT = COST_PER_UNIT / INCOME_PER_UNIT\n",
    "\n",
    "print(f'Для безубыточной разработки одной скважины необходимо {round(LOSSLESS_POINT, 0)} тыс. баррелей')"
   ]
  },
  {
   "cell_type": "markdown",
   "metadata": {},
   "source": [
    "**Краткий вывод**  \n",
    "Судя по данным полученным в третьей части исследования, для безубыточной разработки скважины необходим запас в 111 тыс. баррелей. В предыдущей части мы определили среднее предсказанное значение добычи нефти по регионам. Во всех трех регионах, средние показатели меньше безубыточных"
   ]
  },
  {
   "cell_type": "markdown",
   "metadata": {},
   "source": [
    "## Расчёт прибыли и рисков "
   ]
  },
  {
   "cell_type": "markdown",
   "metadata": {},
   "source": [
    "**Создание функции расчета прибыли**  \n",
    "Функция принимает на вход набор предсказаний и целевого\n",
    " признака валидационной выборки каждого региона\n",
    "        и производит расчет прибыли от строительства скважины\n"
   ]
  },
  {
   "cell_type": "code",
   "execution_count": 81,
   "metadata": {},
   "outputs": [],
   "source": [
    "def profit(predictions, target):\n",
    "    # Отсортируем предсказанные данные по убыванию\n",
    "    probs_sorted = pd.Series(predictions).sort_values(ascending=False)\n",
    "\n",
    "    # Выберем 200 точек с самым высоким значением запасов нефти\n",
    "    top_target = target[probs_sorted.index][:POINTS_PER_BUDGET]\n",
    "\n",
    "    # Вычислим значение прибыли по этим точкам\n",
    "    revenue = top_target.sum() * INCOME_PER_UNIT\n",
    "\n",
    "    return revenue - BUDGET"
   ]
  },
  {
   "cell_type": "markdown",
   "metadata": {},
   "source": [
    "**Создание функции расчета целевых показателей**  \n",
    "Функция применяет технику Bootstrap с 1000 выборок\n",
    "        предсказанных значений по каждому региону\n",
    "        для распределение прибыли"
   ]
  },
  {
   "cell_type": "code",
   "execution_count": 90,
   "metadata": {},
   "outputs": [],
   "source": [
    "def mean_rev_interval_risk(predictions, target):\n",
    "    values = []\n",
    "\n",
    "    # Заведем цикл перебора для выборок Bootstrap\n",
    "    for i in range(1000):\n",
    "        predictions_sample = pd.Series(predictions).sample(n=POINTS, replace=True, random_state=STATE)\n",
    "        values.append(profit(predictions_sample, target.reset_index(drop=True)))\n",
    "\n",
    "    # Запишем значение распределения выборок в объект Series\n",
    "    values = pd.Series(values)\n",
    "\n",
    "    # Определим целевые показатели\n",
    "    lower = values.quantile(.025)\n",
    "    upper = values.quantile(.975)\n",
    "    mean_revenue = sum(values) / len(values)\n",
    "    risk_loss = len(values[values<0])/len(values)\n",
    "\n",
    "    return mean_revenue, lower, upper, risk_loss, values"
   ]
  },
  {
   "cell_type": "code",
   "execution_count": 91,
   "metadata": {},
   "outputs": [],
   "source": [
    "mean1, lower1, upper1, risk_loss1, values1 = mean_rev_interval_risk(predicted1, target_valid1)\n",
    "mean2, lower2, upper2, risk_loss2, values2 = mean_rev_interval_risk(predicted2, target_valid2)\n",
    "mean3, lower3, upper3, risk_loss3, values3 = mean_rev_interval_risk(predicted3, target_valid3)"
   ]
  },
  {
   "cell_type": "code",
   "execution_count": 92,
   "metadata": {},
   "outputs": [
    {
     "data": {
      "text/html": [
       "<div>\n",
       "<style scoped>\n",
       "    .dataframe tbody tr th:only-of-type {\n",
       "        vertical-align: middle;\n",
       "    }\n",
       "\n",
       "    .dataframe tbody tr th {\n",
       "        vertical-align: top;\n",
       "    }\n",
       "\n",
       "    .dataframe thead th {\n",
       "        text-align: right;\n",
       "    }\n",
       "</style>\n",
       "<table border=\"1\" class=\"dataframe\">\n",
       "  <thead>\n",
       "    <tr style=\"text-align: right;\">\n",
       "      <th></th>\n",
       "      <th>Регион 1</th>\n",
       "      <th>Регион 2</th>\n",
       "      <th>Регион 3</th>\n",
       "    </tr>\n",
       "  </thead>\n",
       "  <tbody>\n",
       "    <tr>\n",
       "      <th>0</th>\n",
       "      <td>518,538,693.74</td>\n",
       "      <td>410,697,073.43</td>\n",
       "      <td>349,615,236.57</td>\n",
       "    </tr>\n",
       "    <tr>\n",
       "      <th>1</th>\n",
       "      <td>3,166,419.16</td>\n",
       "      <td>518,364,984.61</td>\n",
       "      <td>309,759,052.32</td>\n",
       "    </tr>\n",
       "    <tr>\n",
       "      <th>2</th>\n",
       "      <td>495,082,253.73</td>\n",
       "      <td>681,763,946.30</td>\n",
       "      <td>324,067,936.32</td>\n",
       "    </tr>\n",
       "    <tr>\n",
       "      <th>3</th>\n",
       "      <td>-11,099,088.39</td>\n",
       "      <td>242,259,925.26</td>\n",
       "      <td>524,947,475.78</td>\n",
       "    </tr>\n",
       "    <tr>\n",
       "      <th>4</th>\n",
       "      <td>512,795,184.69</td>\n",
       "      <td>643,946,447.74</td>\n",
       "      <td>564,877,088.96</td>\n",
       "    </tr>\n",
       "    <tr>\n",
       "      <th>...</th>\n",
       "      <td>...</td>\n",
       "      <td>...</td>\n",
       "      <td>...</td>\n",
       "    </tr>\n",
       "    <tr>\n",
       "      <th>995</th>\n",
       "      <td>237,746,776.10</td>\n",
       "      <td>656,075,415.21</td>\n",
       "      <td>509,631,102.74</td>\n",
       "    </tr>\n",
       "    <tr>\n",
       "      <th>996</th>\n",
       "      <td>546,173,956.41</td>\n",
       "      <td>483,408,678.38</td>\n",
       "      <td>503,902,331.44</td>\n",
       "    </tr>\n",
       "    <tr>\n",
       "      <th>997</th>\n",
       "      <td>457,877,593.80</td>\n",
       "      <td>432,778,014.20</td>\n",
       "      <td>205,373,295.19</td>\n",
       "    </tr>\n",
       "    <tr>\n",
       "      <th>998</th>\n",
       "      <td>357,691,548.58</td>\n",
       "      <td>723,811,033.51</td>\n",
       "      <td>84,188,534.97</td>\n",
       "    </tr>\n",
       "    <tr>\n",
       "      <th>999</th>\n",
       "      <td>493,308,987.33</td>\n",
       "      <td>621,865,506.98</td>\n",
       "      <td>561,384,592.54</td>\n",
       "    </tr>\n",
       "  </tbody>\n",
       "</table>\n",
       "<p>1000 rows × 3 columns</p>\n",
       "</div>"
      ],
      "text/plain": [
       "          Регион 1       Регион 2       Регион 3\n",
       "0   518,538,693.74 410,697,073.43 349,615,236.57\n",
       "1     3,166,419.16 518,364,984.61 309,759,052.32\n",
       "2   495,082,253.73 681,763,946.30 324,067,936.32\n",
       "3   -11,099,088.39 242,259,925.26 524,947,475.78\n",
       "4   512,795,184.69 643,946,447.74 564,877,088.96\n",
       "..             ...            ...            ...\n",
       "995 237,746,776.10 656,075,415.21 509,631,102.74\n",
       "996 546,173,956.41 483,408,678.38 503,902,331.44\n",
       "997 457,877,593.80 432,778,014.20 205,373,295.19\n",
       "998 357,691,548.58 723,811,033.51  84,188,534.97\n",
       "999 493,308,987.33 621,865,506.98 561,384,592.54\n",
       "\n",
       "[1000 rows x 3 columns]"
      ]
     },
     "execution_count": 92,
     "metadata": {},
     "output_type": "execute_result"
    }
   ],
   "source": [
    "values_result = pd.DataFrame({'Регион 1': values1,\n",
    "                              'Регион 2': values2,\n",
    "                              'Регион 3': values3})\n",
    "values_result"
   ]
  },
  {
   "cell_type": "markdown",
   "metadata": {},
   "source": [
    "**Определение показателей прибыли для Региона 1**"
   ]
  },
  {
   "cell_type": "code",
   "execution_count": 93,
   "metadata": {},
   "outputs": [
    {
     "name": "stdout",
     "output_type": "stream",
     "text": [
      "Регион 1:\n",
      "\n",
      "\tСредняя прибыль: 392853884.51\n",
      "\tДоверительный интервал: -120448195.90 - 899077102.22\n",
      "\tРиск убытков: 6.10%\n"
     ]
    }
   ],
   "source": [
    "print('Регион 1:\\n')\n",
    "print(f'\\tСредняя прибыль: {mean1:.2f}')\n",
    "print(f'\\tДоверительный интервал: {lower1:.2f} - {upper1:.2f}')\n",
    "print(f'\\tРиск убытков: {risk_loss1:.2%}')"
   ]
  },
  {
   "cell_type": "markdown",
   "metadata": {},
   "source": [
    "**Определение показателей прибыли для Региона 2**"
   ]
  },
  {
   "cell_type": "code",
   "execution_count": 94,
   "metadata": {},
   "outputs": [
    {
     "name": "stdout",
     "output_type": "stream",
     "text": [
      "Регион 2:\n",
      "\n",
      "\tСредняя прибыль: 458572160.61\n",
      "\tДоверительный интервал: 65141235.38 - 858678931.73\n",
      "\tРиск убытков: 0.60%\n"
     ]
    }
   ],
   "source": [
    "print('Регион 2:\\n')\n",
    "print(f'\\tСредняя прибыль: {mean2:.2f}')\n",
    "print(f'\\tДоверительный интервал: {lower2:.2f} - {upper2:.2f}')\n",
    "print(f'\\tРиск убытков: {risk_loss2:.2%}')"
   ]
  },
  {
   "cell_type": "markdown",
   "metadata": {},
   "source": [
    "**Определение показателей прибыли для Региона 3**"
   ]
  },
  {
   "cell_type": "code",
   "execution_count": 95,
   "metadata": {},
   "outputs": [
    {
     "name": "stdout",
     "output_type": "stream",
     "text": [
      "Регион 3:\n",
      "\n",
      "\tСредняя прибыль: 381761274.44\n",
      "\tДоверительный интервал: -156487445.47 - 873879619.54\n",
      "\tРиск убытков: 7.80%\n"
     ]
    }
   ],
   "source": [
    "print('Регион 3:\\n')\n",
    "print(f'\\tСредняя прибыль: {mean3:.2f}')\n",
    "print(f'\\tДоверительный интервал: {lower3:.2f} - {upper3:.2f}')\n",
    "print(f'\\tРиск убытков: {risk_loss3:.2%}')"
   ]
  },
  {
   "cell_type": "code",
   "execution_count": 96,
   "metadata": {},
   "outputs": [
    {
     "data": {
      "image/png": "[encoded data removed]",
      "text/plain": [
       "<Figure size 864x288 with 1 Axes>"
      ]
     },
     "metadata": {
      "needs_background": "light"
     },
     "output_type": "display_data"
    }
   ],
   "source": [
    "plt.figure(figsize=(12, 4))\n",
    "sns.boxplot(data=values_result, whis=0.95, orient='h')\n",
    "plt.title('Диаграмма распределения прибыли')\n",
    "plt.xlabel('Прибыль, млрд. руб')\n",
    "plt.show();"
   ]
  },
  {
   "cell_type": "markdown",
   "metadata": {},
   "source": [
    "**Краткий вывод**  \n",
    "В результате расчетов получены следующие результаты: Риск убытков во втором регионе самый низкий и составляет 0.6%. В 1 и 3 регионе этот показатель составил 6.1% и 7.8%, соответственно - Средняя прибыль во втором регионе - самая высокая и составляет примерно, 459 млн. рублей. В 1 и 3 регионе этот показатель составил 393 млн. и 382 млн. рублей, соответственно.    \n",
    "На основании этих данных, предлагаем остановиться на выборе региона №2 для строительства новых скважин."
   ]
  },
  {
   "cell_type": "markdown",
   "metadata": {},
   "source": [
    "# Вывод  \n",
    "В данном исследовании, на основании данных проб нефти из трех регионов нам нужно было решить, в каком из регионов наиболее    эффективно бурить новую скважину.  \n",
    "\n",
    "В первой части исследования мы загрузили данные, предоставленные компанией и сохранили в соответствующие переменные, рассмотрели  общую информацию о данных, произвели проверку данных на явные дубликаты и пропущенные значения.  \n",
    "\n",
    "Во второй части, при помощи созданный функции, произвели разделение датасетов на обучающие признаки (features) и целевой (target) признаки, масштабировали числовые признаки в обучающих выборках и обучили модели линейной регрессии по данным каждого региона. В результате работы модели получили следующие результаты о качестве модели: средний запас сырья в регионах 1 и 3 оказались, примерно, на одном уровне - 92430 и 94779 баррелей, соответственно, а в регионе 2 - 68983 баррелей. Однако, по метрике RMSE - лучший результат, как раз у региона 2 (0.89). Регоны 1 и 3  37.56 и 40.12, соответственно.\n",
    "\n",
    "В третьей части исследования мы определили ключевые значения и определили значение запасов для безубыточного строительства скважины - 111 тыс. баррелей, что не соответсвтвует средним показателям по регионам.\n",
    "\n",
    "В четвертой части, при помощи техники Bootstrap разделили предсказанные значения каждого региона на 1000 выборок по 500 скважин в каждой, чтобы определить распределение прибыли. Далее определили 200 самых прибыльных скважин в каждом регионе и для них вычислили среднюю прибыль, 95%-й доверительный интервал и риск убытков.\n",
    "\n",
    "В результате полученных данных предложили регион для строительства скважины с наименьшим риском убытка. Таким регионом оказался регион 2 со значением доли убыточного строительства 0.6%"
   ]
  }
 ],
 "metadata": {
  "ExecuteTimeLog": [
   {
    "duration": 1519,
    "start_time": "2023-07-23T03:39:03.037Z"
   },
   {
    "duration": 4,
    "start_time": "2023-07-23T03:40:03.363Z"
   },
   {
    "duration": 140,
    "start_time": "2023-07-23T03:40:14.526Z"
   },
   {
    "duration": 2,
    "start_time": "2023-07-23T03:40:33.530Z"
   },
   {
    "duration": 3,
    "start_time": "2023-07-23T03:41:01.431Z"
   },
   {
    "duration": 900,
    "start_time": "2023-07-23T03:41:46.919Z"
   },
   {
    "duration": 20,
    "start_time": "2023-07-23T03:43:03.818Z"
   },
   {
    "duration": 7,
    "start_time": "2023-07-23T03:47:55.287Z"
   },
   {
    "duration": 8,
    "start_time": "2023-07-23T03:48:08.009Z"
   },
   {
    "duration": 14,
    "start_time": "2023-07-23T03:49:15.955Z"
   },
   {
    "duration": 18,
    "start_time": "2023-07-23T03:49:32.357Z"
   },
   {
    "duration": 14,
    "start_time": "2023-07-23T03:49:46.998Z"
   },
   {
    "duration": 14,
    "start_time": "2023-07-23T04:04:49.645Z"
   },
   {
    "duration": 33,
    "start_time": "2023-07-23T04:05:30.164Z"
   },
   {
    "duration": 21,
    "start_time": "2023-07-23T04:05:39.985Z"
   },
   {
    "duration": 38,
    "start_time": "2023-07-23T04:05:47.064Z"
   },
   {
    "duration": 52,
    "start_time": "2023-07-23T09:15:35.525Z"
   },
   {
    "duration": 1398,
    "start_time": "2023-07-23T09:15:58.003Z"
   },
   {
    "duration": 2,
    "start_time": "2023-07-23T09:15:59.403Z"
   },
   {
    "duration": 15,
    "start_time": "2023-07-23T09:15:59.407Z"
   },
   {
    "duration": 3,
    "start_time": "2023-07-23T09:15:59.424Z"
   },
   {
    "duration": 1693,
    "start_time": "2023-07-23T09:15:59.428Z"
   },
   {
    "duration": 11,
    "start_time": "2023-07-23T09:16:01.122Z"
   },
   {
    "duration": 31,
    "start_time": "2023-07-23T09:16:01.135Z"
   },
   {
    "duration": 28,
    "start_time": "2023-07-23T09:16:01.168Z"
   },
   {
    "duration": 49,
    "start_time": "2023-07-23T09:16:01.198Z"
   },
   {
    "duration": 55,
    "start_time": "2023-07-23T09:16:01.250Z"
   },
   {
    "duration": 38,
    "start_time": "2023-07-23T09:16:01.306Z"
   },
   {
    "duration": 33,
    "start_time": "2023-07-23T09:16:01.346Z"
   },
   {
    "duration": 60,
    "start_time": "2023-07-23T09:16:01.380Z"
   },
   {
    "duration": 27,
    "start_time": "2023-07-23T09:16:01.441Z"
   },
   {
    "duration": 35,
    "start_time": "2023-07-23T09:16:01.470Z"
   },
   {
    "duration": 3,
    "start_time": "2023-07-23T09:16:23.192Z"
   },
   {
    "duration": 41,
    "start_time": "2023-07-23T09:16:23.197Z"
   },
   {
    "duration": 18,
    "start_time": "2023-07-23T09:16:23.239Z"
   },
   {
    "duration": 3,
    "start_time": "2023-07-23T09:16:23.259Z"
   },
   {
    "duration": 353,
    "start_time": "2023-07-23T09:16:23.263Z"
   },
   {
    "duration": 7,
    "start_time": "2023-07-23T09:16:23.622Z"
   },
   {
    "duration": 16,
    "start_time": "2023-07-23T09:16:23.631Z"
   },
   {
    "duration": 20,
    "start_time": "2023-07-23T09:16:23.649Z"
   },
   {
    "duration": 70,
    "start_time": "2023-07-23T09:16:23.671Z"
   },
   {
    "duration": 25,
    "start_time": "2023-07-23T09:16:23.744Z"
   },
   {
    "duration": 12,
    "start_time": "2023-07-23T09:16:23.771Z"
   },
   {
    "duration": 8,
    "start_time": "2023-07-23T09:16:23.784Z"
   },
   {
    "duration": 36,
    "start_time": "2023-07-23T09:16:23.793Z"
   },
   {
    "duration": 18,
    "start_time": "2023-07-23T09:16:23.831Z"
   },
   {
    "duration": 27,
    "start_time": "2023-07-23T09:16:23.851Z"
   },
   {
    "duration": 71,
    "start_time": "2023-07-23T09:17:48.745Z"
   },
   {
    "duration": 53,
    "start_time": "2023-07-23T09:18:21.837Z"
   },
   {
    "duration": 403,
    "start_time": "2023-07-23T09:18:27.084Z"
   },
   {
    "duration": 279,
    "start_time": "2023-07-23T09:19:04.859Z"
   },
   {
    "duration": 295,
    "start_time": "2023-07-23T09:19:18.917Z"
   },
   {
    "duration": 66,
    "start_time": "2023-07-23T09:22:12.255Z"
   },
   {
    "duration": 10,
    "start_time": "2023-07-23T09:23:41.052Z"
   },
   {
    "duration": 661,
    "start_time": "2023-07-23T09:29:15.782Z"
   },
   {
    "duration": 583,
    "start_time": "2023-07-23T09:29:32.956Z"
   },
   {
    "duration": 598,
    "start_time": "2023-07-23T09:30:07.587Z"
   },
   {
    "duration": 10,
    "start_time": "2023-07-23T09:46:31.274Z"
   },
   {
    "duration": 3,
    "start_time": "2023-07-23T09:52:48.145Z"
   },
   {
    "duration": 43,
    "start_time": "2023-07-23T09:55:19.174Z"
   },
   {
    "duration": 134,
    "start_time": "2023-07-23T09:57:19.497Z"
   },
   {
    "duration": 14,
    "start_time": "2023-07-23T09:58:47.048Z"
   },
   {
    "duration": 3,
    "start_time": "2023-07-23T09:59:23.901Z"
   },
   {
    "duration": 14,
    "start_time": "2023-07-23T10:00:33.221Z"
   },
   {
    "duration": 4,
    "start_time": "2023-07-23T10:00:51.055Z"
   },
   {
    "duration": 4,
    "start_time": "2023-07-23T10:02:22.661Z"
   },
   {
    "duration": 5,
    "start_time": "2023-07-23T10:02:48.232Z"
   },
   {
    "duration": 23,
    "start_time": "2023-07-23T10:04:47.172Z"
   },
   {
    "duration": 267,
    "start_time": "2023-07-23T10:09:33.953Z"
   },
   {
    "duration": 9,
    "start_time": "2023-07-23T10:25:53.688Z"
   },
   {
    "duration": 8,
    "start_time": "2023-07-23T10:26:20.707Z"
   },
   {
    "duration": 3,
    "start_time": "2023-07-23T10:26:22.783Z"
   },
   {
    "duration": 3,
    "start_time": "2023-07-23T10:41:55.094Z"
   },
   {
    "duration": 5,
    "start_time": "2023-07-23T10:46:02.618Z"
   },
   {
    "duration": 4,
    "start_time": "2023-07-23T10:46:31.495Z"
   },
   {
    "duration": 4,
    "start_time": "2023-07-23T10:48:58.153Z"
   },
   {
    "duration": 9,
    "start_time": "2023-07-23T10:49:13.367Z"
   },
   {
    "duration": 10,
    "start_time": "2023-07-23T10:50:42.424Z"
   },
   {
    "duration": 9,
    "start_time": "2023-07-23T10:52:29.359Z"
   },
   {
    "duration": 2868,
    "start_time": "2023-07-23T10:57:06.296Z"
   },
   {
    "duration": 9,
    "start_time": "2023-07-23T10:57:39.096Z"
   },
   {
    "duration": 10,
    "start_time": "2023-07-23T10:57:50.904Z"
   },
   {
    "duration": 3,
    "start_time": "2023-07-23T10:59:10.941Z"
   },
   {
    "duration": 3,
    "start_time": "2023-07-23T11:00:51.605Z"
   },
   {
    "duration": 3,
    "start_time": "2023-07-23T11:01:47.832Z"
   },
   {
    "duration": 3,
    "start_time": "2023-07-23T11:02:20.346Z"
   },
   {
    "duration": 4,
    "start_time": "2023-07-23T11:02:27.727Z"
   },
   {
    "duration": 4,
    "start_time": "2023-07-23T11:02:40.214Z"
   },
   {
    "duration": 4,
    "start_time": "2023-07-23T11:07:19.701Z"
   },
   {
    "duration": 2999,
    "start_time": "2023-07-23T11:07:22.854Z"
   },
   {
    "duration": 11,
    "start_time": "2023-07-23T11:07:26.101Z"
   },
   {
    "duration": 3,
    "start_time": "2023-07-23T11:07:32.193Z"
   },
   {
    "duration": 3,
    "start_time": "2023-07-23T11:07:34.756Z"
   },
   {
    "duration": 3,
    "start_time": "2023-07-23T11:07:38.825Z"
   },
   {
    "duration": 4,
    "start_time": "2023-07-23T11:07:49.523Z"
   },
   {
    "duration": 5,
    "start_time": "2023-07-23T11:09:02.472Z"
   },
   {
    "duration": 3,
    "start_time": "2023-07-23T11:09:03.326Z"
   },
   {
    "duration": 4,
    "start_time": "2023-07-23T11:09:06.537Z"
   },
   {
    "duration": 2938,
    "start_time": "2023-07-23T11:09:08.905Z"
   },
   {
    "duration": 8,
    "start_time": "2023-07-23T11:09:11.845Z"
   },
   {
    "duration": 4,
    "start_time": "2023-07-23T11:09:15.827Z"
   },
   {
    "duration": 4,
    "start_time": "2023-07-23T11:09:19.439Z"
   },
   {
    "duration": 7,
    "start_time": "2023-07-23T11:17:44.060Z"
   },
   {
    "duration": 432,
    "start_time": "2023-07-23T11:19:17.500Z"
   },
   {
    "duration": 11,
    "start_time": "2023-07-23T11:21:55.461Z"
   },
   {
    "duration": 4,
    "start_time": "2023-07-23T11:24:19.626Z"
   },
   {
    "duration": 2377,
    "start_time": "2023-07-23T11:24:58.092Z"
   },
   {
    "duration": 11,
    "start_time": "2023-07-23T11:25:01.713Z"
   },
   {
    "duration": 4,
    "start_time": "2023-07-23T11:25:06.345Z"
   },
   {
    "duration": 4,
    "start_time": "2023-07-23T11:25:10.098Z"
   },
   {
    "duration": 4,
    "start_time": "2023-07-23T11:25:12.804Z"
   },
   {
    "duration": 126,
    "start_time": "2023-07-23T11:26:59.953Z"
   }
  ],
  "kernelspec": {
   "display_name": "Python 3 (ipykernel)",
   "language": "python",
   "name": "python3"
  },
  "language_info": {
   "codemirror_mode": {
    "name": "ipython",
    "version": 3
   },
   "file_extension": ".py",
   "mimetype": "text/x-python",
   "name": "python",
   "nbconvert_exporter": "python",
   "pygments_lexer": "ipython3",
   "version": "3.9.5"
  },
  "toc": {
   "base_numbering": 1,
   "nav_menu": {},
   "number_sections": true,
   "sideBar": true,
   "skip_h1_title": true,
   "title_cell": "Table of Contents",
   "title_sidebar": "Contents",
   "toc_cell": false,
   "toc_position": {},
   "toc_section_display": true,
   "toc_window_display": false
  }
 },
 "nbformat": 4,
 "nbformat_minor": 2
}
