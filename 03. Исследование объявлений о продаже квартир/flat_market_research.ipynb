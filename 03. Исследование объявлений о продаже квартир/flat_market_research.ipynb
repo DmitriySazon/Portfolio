{
 "cells": [
  {
   "cell_type": "markdown",
   "metadata": {},
   "source": [
    "# Исследование объявлений о продаже квартир\n",
    "\n",
    "В вашем распоряжении данные сервиса Яндекс.Недвижимость — архив объявлений о продаже квартир в Санкт-Петербурге и соседних населённых пунктов за несколько лет. Нужно научиться определять рыночную стоимость объектов недвижимости. Ваша задача — установить параметры. Это позволит построить автоматизированную систему: она отследит аномалии и мошенническую деятельность. \n",
    "\n",
    "По каждой квартире на продажу доступны два вида данных. Первые вписаны пользователем, вторые — получены автоматически на основе картографических данных. Например, расстояние до центра, аэропорта, ближайшего парка и водоёма.  "
   ]
  },
  {
   "cell_type": "markdown",
   "metadata": {},
   "source": [
    "### Цель исследования:   \n",
    "1. Определить рыночную стоимость обьектов недвижимости.  \n",
    "2. Построить автоматизированную систему, которая отследит аномалии и мошенническую деятельность.  \n",
    "3. Установить какие факторы влияют на ценообразование стоимости квартир. "
   ]
  },
  {
   "cell_type": "markdown",
   "metadata": {},
   "source": [
    "### Ход исследования  \n",
    "Данные о недвижимости я получу из файла /datasets/real_estate_data.csv. О качестве данных  \n",
    "ничего не известно. Поэтому перед тем, как приступать к целям исследования, понадобится обзор данных. Я проверю данные на ошибки и оценю их влияние на исследование. Затем, на этапе предобработки  \n",
    "я поищу возможность исправить все ошибки данных, которые не приведут к искажению конечного  \n",
    "результата. Далее создадим необходимые столбцы и приступим к проведению исследовательского  \n",
    "анализа.  \n",
    "Таким образом мое исследование пройдет в семь этапов:  \n",
    "1. Обзор данных  \n",
    "2. Предобработка данных  \n",
    "3. Расчеты и добавление результатов в таблицу  \n",
    "4. Проведение анализа для Ленинградской области  \n",
    "5. Проведение анализа для Санкт-Петербурга  \n",
    "6. Различаются ли факторы, которые влияют на ценообразование стоимости квартир  \n",
    "7. Написание общего вывода"
   ]
  },
  {
   "cell_type": "markdown",
   "metadata": {},
   "source": [
    "### Откройте файл с данными и изучите общую информацию. "
   ]
  },
  {
   "cell_type": "code",
   "execution_count": 2,
   "metadata": {},
   "outputs": [
    {
     "data": {
      "text/html": [
       "<div>\n",
       "<style scoped>\n",
       "    .dataframe tbody tr th:only-of-type {\n",
       "        vertical-align: middle;\n",
       "    }\n",
       "\n",
       "    .dataframe tbody tr th {\n",
       "        vertical-align: top;\n",
       "    }\n",
       "\n",
       "    .dataframe thead th {\n",
       "        text-align: right;\n",
       "    }\n",
       "</style>\n",
       "<table border=\"1\" class=\"dataframe\">\n",
       "  <thead>\n",
       "    <tr style=\"text-align: right;\">\n",
       "      <th></th>\n",
       "      <th>total_images</th>\n",
       "      <th>last_price</th>\n",
       "      <th>total_area</th>\n",
       "      <th>first_day_exposition</th>\n",
       "      <th>rooms</th>\n",
       "      <th>ceiling_height</th>\n",
       "      <th>floors_total</th>\n",
       "      <th>living_area</th>\n",
       "      <th>floor</th>\n",
       "      <th>is_apartment</th>\n",
       "      <th>...</th>\n",
       "      <th>kitchen_area</th>\n",
       "      <th>balcony</th>\n",
       "      <th>locality_name</th>\n",
       "      <th>airports_nearest</th>\n",
       "      <th>cityCenters_nearest</th>\n",
       "      <th>parks_around3000</th>\n",
       "      <th>parks_nearest</th>\n",
       "      <th>ponds_around3000</th>\n",
       "      <th>ponds_nearest</th>\n",
       "      <th>days_exposition</th>\n",
       "    </tr>\n",
       "  </thead>\n",
       "  <tbody>\n",
       "    <tr>\n",
       "      <th>0</th>\n",
       "      <td>20</td>\n",
       "      <td>13000000.0</td>\n",
       "      <td>108.00</td>\n",
       "      <td>2019-03-07T00:00:00</td>\n",
       "      <td>3</td>\n",
       "      <td>2.70</td>\n",
       "      <td>16.0</td>\n",
       "      <td>51.00</td>\n",
       "      <td>8</td>\n",
       "      <td>NaN</td>\n",
       "      <td>...</td>\n",
       "      <td>25.00</td>\n",
       "      <td>NaN</td>\n",
       "      <td>Санкт-Петербург</td>\n",
       "      <td>18863.0</td>\n",
       "      <td>16028.0</td>\n",
       "      <td>1.0</td>\n",
       "      <td>482.0</td>\n",
       "      <td>2.0</td>\n",
       "      <td>755.0</td>\n",
       "      <td>NaN</td>\n",
       "    </tr>\n",
       "    <tr>\n",
       "      <th>1</th>\n",
       "      <td>7</td>\n",
       "      <td>3350000.0</td>\n",
       "      <td>40.40</td>\n",
       "      <td>2018-12-04T00:00:00</td>\n",
       "      <td>1</td>\n",
       "      <td>NaN</td>\n",
       "      <td>11.0</td>\n",
       "      <td>18.60</td>\n",
       "      <td>1</td>\n",
       "      <td>NaN</td>\n",
       "      <td>...</td>\n",
       "      <td>11.00</td>\n",
       "      <td>2.0</td>\n",
       "      <td>посёлок Шушары</td>\n",
       "      <td>12817.0</td>\n",
       "      <td>18603.0</td>\n",
       "      <td>0.0</td>\n",
       "      <td>NaN</td>\n",
       "      <td>0.0</td>\n",
       "      <td>NaN</td>\n",
       "      <td>81.0</td>\n",
       "    </tr>\n",
       "    <tr>\n",
       "      <th>2</th>\n",
       "      <td>10</td>\n",
       "      <td>5196000.0</td>\n",
       "      <td>56.00</td>\n",
       "      <td>2015-08-20T00:00:00</td>\n",
       "      <td>2</td>\n",
       "      <td>NaN</td>\n",
       "      <td>5.0</td>\n",
       "      <td>34.30</td>\n",
       "      <td>4</td>\n",
       "      <td>NaN</td>\n",
       "      <td>...</td>\n",
       "      <td>8.30</td>\n",
       "      <td>0.0</td>\n",
       "      <td>Санкт-Петербург</td>\n",
       "      <td>21741.0</td>\n",
       "      <td>13933.0</td>\n",
       "      <td>1.0</td>\n",
       "      <td>90.0</td>\n",
       "      <td>2.0</td>\n",
       "      <td>574.0</td>\n",
       "      <td>558.0</td>\n",
       "    </tr>\n",
       "    <tr>\n",
       "      <th>3</th>\n",
       "      <td>0</td>\n",
       "      <td>64900000.0</td>\n",
       "      <td>159.00</td>\n",
       "      <td>2015-07-24T00:00:00</td>\n",
       "      <td>3</td>\n",
       "      <td>NaN</td>\n",
       "      <td>14.0</td>\n",
       "      <td>NaN</td>\n",
       "      <td>9</td>\n",
       "      <td>NaN</td>\n",
       "      <td>...</td>\n",
       "      <td>NaN</td>\n",
       "      <td>0.0</td>\n",
       "      <td>Санкт-Петербург</td>\n",
       "      <td>28098.0</td>\n",
       "      <td>6800.0</td>\n",
       "      <td>2.0</td>\n",
       "      <td>84.0</td>\n",
       "      <td>3.0</td>\n",
       "      <td>234.0</td>\n",
       "      <td>424.0</td>\n",
       "    </tr>\n",
       "    <tr>\n",
       "      <th>4</th>\n",
       "      <td>2</td>\n",
       "      <td>10000000.0</td>\n",
       "      <td>100.00</td>\n",
       "      <td>2018-06-19T00:00:00</td>\n",
       "      <td>2</td>\n",
       "      <td>3.03</td>\n",
       "      <td>14.0</td>\n",
       "      <td>32.00</td>\n",
       "      <td>13</td>\n",
       "      <td>NaN</td>\n",
       "      <td>...</td>\n",
       "      <td>41.00</td>\n",
       "      <td>NaN</td>\n",
       "      <td>Санкт-Петербург</td>\n",
       "      <td>31856.0</td>\n",
       "      <td>8098.0</td>\n",
       "      <td>2.0</td>\n",
       "      <td>112.0</td>\n",
       "      <td>1.0</td>\n",
       "      <td>48.0</td>\n",
       "      <td>121.0</td>\n",
       "    </tr>\n",
       "    <tr>\n",
       "      <th>5</th>\n",
       "      <td>10</td>\n",
       "      <td>2890000.0</td>\n",
       "      <td>30.40</td>\n",
       "      <td>2018-09-10T00:00:00</td>\n",
       "      <td>1</td>\n",
       "      <td>NaN</td>\n",
       "      <td>12.0</td>\n",
       "      <td>14.40</td>\n",
       "      <td>5</td>\n",
       "      <td>NaN</td>\n",
       "      <td>...</td>\n",
       "      <td>9.10</td>\n",
       "      <td>NaN</td>\n",
       "      <td>городской посёлок Янино-1</td>\n",
       "      <td>NaN</td>\n",
       "      <td>NaN</td>\n",
       "      <td>NaN</td>\n",
       "      <td>NaN</td>\n",
       "      <td>NaN</td>\n",
       "      <td>NaN</td>\n",
       "      <td>55.0</td>\n",
       "    </tr>\n",
       "    <tr>\n",
       "      <th>6</th>\n",
       "      <td>6</td>\n",
       "      <td>3700000.0</td>\n",
       "      <td>37.30</td>\n",
       "      <td>2017-11-02T00:00:00</td>\n",
       "      <td>1</td>\n",
       "      <td>NaN</td>\n",
       "      <td>26.0</td>\n",
       "      <td>10.60</td>\n",
       "      <td>6</td>\n",
       "      <td>NaN</td>\n",
       "      <td>...</td>\n",
       "      <td>14.40</td>\n",
       "      <td>1.0</td>\n",
       "      <td>посёлок Парголово</td>\n",
       "      <td>52996.0</td>\n",
       "      <td>19143.0</td>\n",
       "      <td>0.0</td>\n",
       "      <td>NaN</td>\n",
       "      <td>0.0</td>\n",
       "      <td>NaN</td>\n",
       "      <td>155.0</td>\n",
       "    </tr>\n",
       "    <tr>\n",
       "      <th>7</th>\n",
       "      <td>5</td>\n",
       "      <td>7915000.0</td>\n",
       "      <td>71.60</td>\n",
       "      <td>2019-04-18T00:00:00</td>\n",
       "      <td>2</td>\n",
       "      <td>NaN</td>\n",
       "      <td>24.0</td>\n",
       "      <td>NaN</td>\n",
       "      <td>22</td>\n",
       "      <td>NaN</td>\n",
       "      <td>...</td>\n",
       "      <td>18.90</td>\n",
       "      <td>2.0</td>\n",
       "      <td>Санкт-Петербург</td>\n",
       "      <td>23982.0</td>\n",
       "      <td>11634.0</td>\n",
       "      <td>0.0</td>\n",
       "      <td>NaN</td>\n",
       "      <td>0.0</td>\n",
       "      <td>NaN</td>\n",
       "      <td>NaN</td>\n",
       "    </tr>\n",
       "    <tr>\n",
       "      <th>8</th>\n",
       "      <td>20</td>\n",
       "      <td>2900000.0</td>\n",
       "      <td>33.16</td>\n",
       "      <td>2018-05-23T00:00:00</td>\n",
       "      <td>1</td>\n",
       "      <td>NaN</td>\n",
       "      <td>27.0</td>\n",
       "      <td>15.43</td>\n",
       "      <td>26</td>\n",
       "      <td>NaN</td>\n",
       "      <td>...</td>\n",
       "      <td>8.81</td>\n",
       "      <td>NaN</td>\n",
       "      <td>посёлок Мурино</td>\n",
       "      <td>NaN</td>\n",
       "      <td>NaN</td>\n",
       "      <td>NaN</td>\n",
       "      <td>NaN</td>\n",
       "      <td>NaN</td>\n",
       "      <td>NaN</td>\n",
       "      <td>189.0</td>\n",
       "    </tr>\n",
       "    <tr>\n",
       "      <th>9</th>\n",
       "      <td>18</td>\n",
       "      <td>5400000.0</td>\n",
       "      <td>61.00</td>\n",
       "      <td>2017-02-26T00:00:00</td>\n",
       "      <td>3</td>\n",
       "      <td>2.50</td>\n",
       "      <td>9.0</td>\n",
       "      <td>43.60</td>\n",
       "      <td>7</td>\n",
       "      <td>NaN</td>\n",
       "      <td>...</td>\n",
       "      <td>6.50</td>\n",
       "      <td>2.0</td>\n",
       "      <td>Санкт-Петербург</td>\n",
       "      <td>50898.0</td>\n",
       "      <td>15008.0</td>\n",
       "      <td>0.0</td>\n",
       "      <td>NaN</td>\n",
       "      <td>0.0</td>\n",
       "      <td>NaN</td>\n",
       "      <td>289.0</td>\n",
       "    </tr>\n",
       "    <tr>\n",
       "      <th>10</th>\n",
       "      <td>5</td>\n",
       "      <td>5050000.0</td>\n",
       "      <td>39.60</td>\n",
       "      <td>2017-11-16T00:00:00</td>\n",
       "      <td>1</td>\n",
       "      <td>2.67</td>\n",
       "      <td>12.0</td>\n",
       "      <td>20.30</td>\n",
       "      <td>3</td>\n",
       "      <td>NaN</td>\n",
       "      <td>...</td>\n",
       "      <td>8.50</td>\n",
       "      <td>NaN</td>\n",
       "      <td>Санкт-Петербург</td>\n",
       "      <td>38357.0</td>\n",
       "      <td>13878.0</td>\n",
       "      <td>1.0</td>\n",
       "      <td>310.0</td>\n",
       "      <td>2.0</td>\n",
       "      <td>553.0</td>\n",
       "      <td>137.0</td>\n",
       "    </tr>\n",
       "    <tr>\n",
       "      <th>11</th>\n",
       "      <td>9</td>\n",
       "      <td>3300000.0</td>\n",
       "      <td>44.00</td>\n",
       "      <td>2018-08-27T00:00:00</td>\n",
       "      <td>2</td>\n",
       "      <td>NaN</td>\n",
       "      <td>5.0</td>\n",
       "      <td>31.00</td>\n",
       "      <td>4</td>\n",
       "      <td>False</td>\n",
       "      <td>...</td>\n",
       "      <td>6.00</td>\n",
       "      <td>1.0</td>\n",
       "      <td>Ломоносов</td>\n",
       "      <td>48252.0</td>\n",
       "      <td>51677.0</td>\n",
       "      <td>0.0</td>\n",
       "      <td>NaN</td>\n",
       "      <td>0.0</td>\n",
       "      <td>NaN</td>\n",
       "      <td>7.0</td>\n",
       "    </tr>\n",
       "    <tr>\n",
       "      <th>12</th>\n",
       "      <td>10</td>\n",
       "      <td>3890000.0</td>\n",
       "      <td>54.00</td>\n",
       "      <td>2016-06-30T00:00:00</td>\n",
       "      <td>2</td>\n",
       "      <td>NaN</td>\n",
       "      <td>5.0</td>\n",
       "      <td>30.00</td>\n",
       "      <td>5</td>\n",
       "      <td>NaN</td>\n",
       "      <td>...</td>\n",
       "      <td>9.00</td>\n",
       "      <td>0.0</td>\n",
       "      <td>Сертолово</td>\n",
       "      <td>NaN</td>\n",
       "      <td>NaN</td>\n",
       "      <td>NaN</td>\n",
       "      <td>NaN</td>\n",
       "      <td>NaN</td>\n",
       "      <td>NaN</td>\n",
       "      <td>90.0</td>\n",
       "    </tr>\n",
       "    <tr>\n",
       "      <th>13</th>\n",
       "      <td>20</td>\n",
       "      <td>3550000.0</td>\n",
       "      <td>42.80</td>\n",
       "      <td>2017-07-01T00:00:00</td>\n",
       "      <td>2</td>\n",
       "      <td>2.56</td>\n",
       "      <td>5.0</td>\n",
       "      <td>27.00</td>\n",
       "      <td>5</td>\n",
       "      <td>NaN</td>\n",
       "      <td>...</td>\n",
       "      <td>5.20</td>\n",
       "      <td>1.0</td>\n",
       "      <td>Петергоф</td>\n",
       "      <td>37868.0</td>\n",
       "      <td>33058.0</td>\n",
       "      <td>1.0</td>\n",
       "      <td>294.0</td>\n",
       "      <td>3.0</td>\n",
       "      <td>298.0</td>\n",
       "      <td>366.0</td>\n",
       "    </tr>\n",
       "    <tr>\n",
       "      <th>14</th>\n",
       "      <td>1</td>\n",
       "      <td>4400000.0</td>\n",
       "      <td>36.00</td>\n",
       "      <td>2016-06-23T00:00:00</td>\n",
       "      <td>1</td>\n",
       "      <td>NaN</td>\n",
       "      <td>6.0</td>\n",
       "      <td>17.00</td>\n",
       "      <td>1</td>\n",
       "      <td>NaN</td>\n",
       "      <td>...</td>\n",
       "      <td>8.00</td>\n",
       "      <td>0.0</td>\n",
       "      <td>Пушкин</td>\n",
       "      <td>20782.0</td>\n",
       "      <td>30759.0</td>\n",
       "      <td>0.0</td>\n",
       "      <td>NaN</td>\n",
       "      <td>1.0</td>\n",
       "      <td>96.0</td>\n",
       "      <td>203.0</td>\n",
       "    </tr>\n",
       "    <tr>\n",
       "      <th>15</th>\n",
       "      <td>16</td>\n",
       "      <td>4650000.0</td>\n",
       "      <td>39.00</td>\n",
       "      <td>2017-11-18T00:00:00</td>\n",
       "      <td>1</td>\n",
       "      <td>NaN</td>\n",
       "      <td>14.0</td>\n",
       "      <td>20.50</td>\n",
       "      <td>5</td>\n",
       "      <td>NaN</td>\n",
       "      <td>...</td>\n",
       "      <td>7.60</td>\n",
       "      <td>1.0</td>\n",
       "      <td>Санкт-Петербург</td>\n",
       "      <td>12900.0</td>\n",
       "      <td>14259.0</td>\n",
       "      <td>1.0</td>\n",
       "      <td>590.0</td>\n",
       "      <td>1.0</td>\n",
       "      <td>296.0</td>\n",
       "      <td>19.0</td>\n",
       "    </tr>\n",
       "    <tr>\n",
       "      <th>16</th>\n",
       "      <td>11</td>\n",
       "      <td>6700000.0</td>\n",
       "      <td>82.00</td>\n",
       "      <td>2017-11-23T00:00:00</td>\n",
       "      <td>3</td>\n",
       "      <td>3.05</td>\n",
       "      <td>5.0</td>\n",
       "      <td>55.60</td>\n",
       "      <td>1</td>\n",
       "      <td>NaN</td>\n",
       "      <td>...</td>\n",
       "      <td>9.00</td>\n",
       "      <td>NaN</td>\n",
       "      <td>Санкт-Петербург</td>\n",
       "      <td>22108.0</td>\n",
       "      <td>10698.0</td>\n",
       "      <td>3.0</td>\n",
       "      <td>420.0</td>\n",
       "      <td>0.0</td>\n",
       "      <td>NaN</td>\n",
       "      <td>397.0</td>\n",
       "    </tr>\n",
       "    <tr>\n",
       "      <th>17</th>\n",
       "      <td>6</td>\n",
       "      <td>4180000.0</td>\n",
       "      <td>36.00</td>\n",
       "      <td>2016-09-09T00:00:00</td>\n",
       "      <td>1</td>\n",
       "      <td>NaN</td>\n",
       "      <td>17.0</td>\n",
       "      <td>16.50</td>\n",
       "      <td>7</td>\n",
       "      <td>NaN</td>\n",
       "      <td>...</td>\n",
       "      <td>11.00</td>\n",
       "      <td>1.0</td>\n",
       "      <td>Санкт-Петербург</td>\n",
       "      <td>33564.0</td>\n",
       "      <td>14616.0</td>\n",
       "      <td>0.0</td>\n",
       "      <td>NaN</td>\n",
       "      <td>1.0</td>\n",
       "      <td>859.0</td>\n",
       "      <td>571.0</td>\n",
       "    </tr>\n",
       "    <tr>\n",
       "      <th>18</th>\n",
       "      <td>8</td>\n",
       "      <td>3250000.0</td>\n",
       "      <td>31.00</td>\n",
       "      <td>2017-01-27T00:00:00</td>\n",
       "      <td>1</td>\n",
       "      <td>2.50</td>\n",
       "      <td>5.0</td>\n",
       "      <td>19.40</td>\n",
       "      <td>2</td>\n",
       "      <td>NaN</td>\n",
       "      <td>...</td>\n",
       "      <td>5.60</td>\n",
       "      <td>1.0</td>\n",
       "      <td>Санкт-Петербург</td>\n",
       "      <td>44060.0</td>\n",
       "      <td>10842.0</td>\n",
       "      <td>1.0</td>\n",
       "      <td>759.0</td>\n",
       "      <td>0.0</td>\n",
       "      <td>NaN</td>\n",
       "      <td>168.0</td>\n",
       "    </tr>\n",
       "    <tr>\n",
       "      <th>19</th>\n",
       "      <td>16</td>\n",
       "      <td>14200000.0</td>\n",
       "      <td>121.00</td>\n",
       "      <td>2019-01-09T00:00:00</td>\n",
       "      <td>3</td>\n",
       "      <td>2.75</td>\n",
       "      <td>16.0</td>\n",
       "      <td>76.00</td>\n",
       "      <td>8</td>\n",
       "      <td>NaN</td>\n",
       "      <td>...</td>\n",
       "      <td>12.00</td>\n",
       "      <td>NaN</td>\n",
       "      <td>Санкт-Петербург</td>\n",
       "      <td>38900.0</td>\n",
       "      <td>12843.0</td>\n",
       "      <td>0.0</td>\n",
       "      <td>NaN</td>\n",
       "      <td>0.0</td>\n",
       "      <td>NaN</td>\n",
       "      <td>97.0</td>\n",
       "    </tr>\n",
       "  </tbody>\n",
       "</table>\n",
       "<p>20 rows × 22 columns</p>\n",
       "</div>"
      ],
      "text/plain": [
       "    total_images  last_price  total_area first_day_exposition  rooms  \\\n",
       "0             20  13000000.0      108.00  2019-03-07T00:00:00      3   \n",
       "1              7   3350000.0       40.40  2018-12-04T00:00:00      1   \n",
       "2             10   5196000.0       56.00  2015-08-20T00:00:00      2   \n",
       "3              0  64900000.0      159.00  2015-07-24T00:00:00      3   \n",
       "4              2  10000000.0      100.00  2018-06-19T00:00:00      2   \n",
       "5             10   2890000.0       30.40  2018-09-10T00:00:00      1   \n",
       "6              6   3700000.0       37.30  2017-11-02T00:00:00      1   \n",
       "7              5   7915000.0       71.60  2019-04-18T00:00:00      2   \n",
       "8             20   2900000.0       33.16  2018-05-23T00:00:00      1   \n",
       "9             18   5400000.0       61.00  2017-02-26T00:00:00      3   \n",
       "10             5   5050000.0       39.60  2017-11-16T00:00:00      1   \n",
       "11             9   3300000.0       44.00  2018-08-27T00:00:00      2   \n",
       "12            10   3890000.0       54.00  2016-06-30T00:00:00      2   \n",
       "13            20   3550000.0       42.80  2017-07-01T00:00:00      2   \n",
       "14             1   4400000.0       36.00  2016-06-23T00:00:00      1   \n",
       "15            16   4650000.0       39.00  2017-11-18T00:00:00      1   \n",
       "16            11   6700000.0       82.00  2017-11-23T00:00:00      3   \n",
       "17             6   4180000.0       36.00  2016-09-09T00:00:00      1   \n",
       "18             8   3250000.0       31.00  2017-01-27T00:00:00      1   \n",
       "19            16  14200000.0      121.00  2019-01-09T00:00:00      3   \n",
       "\n",
       "    ceiling_height  floors_total  living_area  floor is_apartment  ...  \\\n",
       "0             2.70          16.0        51.00      8          NaN  ...   \n",
       "1              NaN          11.0        18.60      1          NaN  ...   \n",
       "2              NaN           5.0        34.30      4          NaN  ...   \n",
       "3              NaN          14.0          NaN      9          NaN  ...   \n",
       "4             3.03          14.0        32.00     13          NaN  ...   \n",
       "5              NaN          12.0        14.40      5          NaN  ...   \n",
       "6              NaN          26.0        10.60      6          NaN  ...   \n",
       "7              NaN          24.0          NaN     22          NaN  ...   \n",
       "8              NaN          27.0        15.43     26          NaN  ...   \n",
       "9             2.50           9.0        43.60      7          NaN  ...   \n",
       "10            2.67          12.0        20.30      3          NaN  ...   \n",
       "11             NaN           5.0        31.00      4        False  ...   \n",
       "12             NaN           5.0        30.00      5          NaN  ...   \n",
       "13            2.56           5.0        27.00      5          NaN  ...   \n",
       "14             NaN           6.0        17.00      1          NaN  ...   \n",
       "15             NaN          14.0        20.50      5          NaN  ...   \n",
       "16            3.05           5.0        55.60      1          NaN  ...   \n",
       "17             NaN          17.0        16.50      7          NaN  ...   \n",
       "18            2.50           5.0        19.40      2          NaN  ...   \n",
       "19            2.75          16.0        76.00      8          NaN  ...   \n",
       "\n",
       "    kitchen_area  balcony              locality_name  airports_nearest  \\\n",
       "0          25.00      NaN            Санкт-Петербург           18863.0   \n",
       "1          11.00      2.0             посёлок Шушары           12817.0   \n",
       "2           8.30      0.0            Санкт-Петербург           21741.0   \n",
       "3            NaN      0.0            Санкт-Петербург           28098.0   \n",
       "4          41.00      NaN            Санкт-Петербург           31856.0   \n",
       "5           9.10      NaN  городской посёлок Янино-1               NaN   \n",
       "6          14.40      1.0          посёлок Парголово           52996.0   \n",
       "7          18.90      2.0            Санкт-Петербург           23982.0   \n",
       "8           8.81      NaN             посёлок Мурино               NaN   \n",
       "9           6.50      2.0            Санкт-Петербург           50898.0   \n",
       "10          8.50      NaN            Санкт-Петербург           38357.0   \n",
       "11          6.00      1.0                  Ломоносов           48252.0   \n",
       "12          9.00      0.0                  Сертолово               NaN   \n",
       "13          5.20      1.0                   Петергоф           37868.0   \n",
       "14          8.00      0.0                     Пушкин           20782.0   \n",
       "15          7.60      1.0            Санкт-Петербург           12900.0   \n",
       "16          9.00      NaN            Санкт-Петербург           22108.0   \n",
       "17         11.00      1.0            Санкт-Петербург           33564.0   \n",
       "18          5.60      1.0            Санкт-Петербург           44060.0   \n",
       "19         12.00      NaN            Санкт-Петербург           38900.0   \n",
       "\n",
       "   cityCenters_nearest  parks_around3000  parks_nearest  ponds_around3000  \\\n",
       "0              16028.0               1.0          482.0               2.0   \n",
       "1              18603.0               0.0            NaN               0.0   \n",
       "2              13933.0               1.0           90.0               2.0   \n",
       "3               6800.0               2.0           84.0               3.0   \n",
       "4               8098.0               2.0          112.0               1.0   \n",
       "5                  NaN               NaN            NaN               NaN   \n",
       "6              19143.0               0.0            NaN               0.0   \n",
       "7              11634.0               0.0            NaN               0.0   \n",
       "8                  NaN               NaN            NaN               NaN   \n",
       "9              15008.0               0.0            NaN               0.0   \n",
       "10             13878.0               1.0          310.0               2.0   \n",
       "11             51677.0               0.0            NaN               0.0   \n",
       "12                 NaN               NaN            NaN               NaN   \n",
       "13             33058.0               1.0          294.0               3.0   \n",
       "14             30759.0               0.0            NaN               1.0   \n",
       "15             14259.0               1.0          590.0               1.0   \n",
       "16             10698.0               3.0          420.0               0.0   \n",
       "17             14616.0               0.0            NaN               1.0   \n",
       "18             10842.0               1.0          759.0               0.0   \n",
       "19             12843.0               0.0            NaN               0.0   \n",
       "\n",
       "    ponds_nearest  days_exposition  \n",
       "0           755.0              NaN  \n",
       "1             NaN             81.0  \n",
       "2           574.0            558.0  \n",
       "3           234.0            424.0  \n",
       "4            48.0            121.0  \n",
       "5             NaN             55.0  \n",
       "6             NaN            155.0  \n",
       "7             NaN              NaN  \n",
       "8             NaN            189.0  \n",
       "9             NaN            289.0  \n",
       "10          553.0            137.0  \n",
       "11            NaN              7.0  \n",
       "12            NaN             90.0  \n",
       "13          298.0            366.0  \n",
       "14           96.0            203.0  \n",
       "15          296.0             19.0  \n",
       "16            NaN            397.0  \n",
       "17          859.0            571.0  \n",
       "18            NaN            168.0  \n",
       "19            NaN             97.0  \n",
       "\n",
       "[20 rows x 22 columns]"
      ]
     },
     "execution_count": 2,
     "metadata": {},
     "output_type": "execute_result"
    }
   ],
   "source": [
    "import pandas as pd\n",
    "import matplotlib.pyplot as plt\n",
    "import seaborn as sns\n",
    "data = pd.read_csv('/datasets/real_estate_data.csv', sep=\"\\t\")\n",
    "data.head(20)"
   ]
  },
  {
   "cell_type": "markdown",
   "metadata": {},
   "source": [
    "Запросим атрибуты таблицы методом info():"
   ]
  },
  {
   "cell_type": "code",
   "execution_count": 3,
   "metadata": {},
   "outputs": [
    {
     "name": "stdout",
     "output_type": "stream",
     "text": [
      "<class 'pandas.core.frame.DataFrame'>\n",
      "RangeIndex: 23699 entries, 0 to 23698\n",
      "Data columns (total 22 columns):\n",
      " #   Column                Non-Null Count  Dtype  \n",
      "---  ------                --------------  -----  \n",
      " 0   total_images          23699 non-null  int64  \n",
      " 1   last_price            23699 non-null  float64\n",
      " 2   total_area            23699 non-null  float64\n",
      " 3   first_day_exposition  23699 non-null  object \n",
      " 4   rooms                 23699 non-null  int64  \n",
      " 5   ceiling_height        14504 non-null  float64\n",
      " 6   floors_total          23613 non-null  float64\n",
      " 7   living_area           21796 non-null  float64\n",
      " 8   floor                 23699 non-null  int64  \n",
      " 9   is_apartment          2775 non-null   object \n",
      " 10  studio                23699 non-null  bool   \n",
      " 11  open_plan             23699 non-null  bool   \n",
      " 12  kitchen_area          21421 non-null  float64\n",
      " 13  balcony               12180 non-null  float64\n",
      " 14  locality_name         23650 non-null  object \n",
      " 15  airports_nearest      18157 non-null  float64\n",
      " 16  cityCenters_nearest   18180 non-null  float64\n",
      " 17  parks_around3000      18181 non-null  float64\n",
      " 18  parks_nearest         8079 non-null   float64\n",
      " 19  ponds_around3000      18181 non-null  float64\n",
      " 20  ponds_nearest         9110 non-null   float64\n",
      " 21  days_exposition       20518 non-null  float64\n",
      "dtypes: bool(2), float64(14), int64(3), object(3)\n",
      "memory usage: 3.7+ MB\n"
     ]
    }
   ],
   "source": [
    "data.info()"
   ]
  },
  {
   "cell_type": "markdown",
   "metadata": {},
   "source": [
    "Вывод  \n",
    "В данных заметил следующее:  \n",
    "first_day_exposition - должен быть тип datetime;  \n",
    "ceiling_height - есть нулевые значения;  \n",
    "floors_total - должен быть тип int, есть нулевые значения;  \n",
    "living_area - есть нулевые значения;  \n",
    "is_apartment - должен быть тип bool, есть нулевые значения;  \n",
    "kitchen_area - есть нулевые значения;  \n",
    "balcony - есть нулевые значения;  \n",
    "locality_name - есть нулевые значения;  \n",
    "airports_nearest - есть нулевые значения;  \n",
    "cityCenters_nearest - есть нулевые значения;  \n",
    "parks_around3000 - должен быть тип int, есть нулевые значения;  \n",
    "parks_nearest - есть нулевые значения;  \n",
    "ponds_around3000 - должен быть тип int, есть нулевые значения;  \n",
    "ponds_nearest - есть нулевые значения;  \n",
    "days_exposition - должен быть тип int, есть нулевые значения.  "
   ]
  },
  {
   "cell_type": "markdown",
   "metadata": {},
   "source": [
    "Построим гистограммы, посмотрим на общуую картину."
   ]
  },
  {
   "cell_type": "code",
   "execution_count": 4,
   "metadata": {},
   "outputs": [
    {
     "data": {
      "image/png": "[encoded data removed]",
      "text/plain": [
       "<Figure size 1080x1440 with 20 Axes>"
      ]
     },
     "metadata": {
      "needs_background": "light"
     },
     "output_type": "display_data"
    }
   ],
   "source": [
    "data.hist(figsize=(15, 20))\n",
    "plt.show()"
   ]
  },
  {
   "cell_type": "markdown",
   "metadata": {},
   "source": [
    "### Предобработка данных."
   ]
  },
  {
   "cell_type": "markdown",
   "metadata": {},
   "source": [
    "Выведим количество пропущенных значений для каждого столбца"
   ]
  },
  {
   "cell_type": "code",
   "execution_count": 5,
   "metadata": {},
   "outputs": [
    {
     "data": {
      "text/plain": [
       "total_images                0\n",
       "last_price                  0\n",
       "total_area                  0\n",
       "first_day_exposition        0\n",
       "rooms                       0\n",
       "ceiling_height           9195\n",
       "floors_total               86\n",
       "living_area              1903\n",
       "floor                       0\n",
       "is_apartment            20924\n",
       "studio                      0\n",
       "open_plan                   0\n",
       "kitchen_area             2278\n",
       "balcony                 11519\n",
       "locality_name              49\n",
       "airports_nearest         5542\n",
       "cityCenters_nearest      5519\n",
       "parks_around3000         5518\n",
       "parks_nearest           15620\n",
       "ponds_around3000         5518\n",
       "ponds_nearest           14589\n",
       "days_exposition          3181\n",
       "dtype: int64"
      ]
     },
     "execution_count": 5,
     "metadata": {},
     "output_type": "execute_result"
    }
   ],
   "source": [
    "data.isna().sum()"
   ]
  },
  {
   "cell_type": "markdown",
   "metadata": {},
   "source": [
    "Приведем к типу int last_price(стоимость квартир) для удобства прочтения."
   ]
  },
  {
   "cell_type": "code",
   "execution_count": 6,
   "metadata": {},
   "outputs": [],
   "source": [
    "data['last_price'] = data['last_price'].astype(int)"
   ]
  },
  {
   "cell_type": "markdown",
   "metadata": {},
   "source": [
    "Приведем first_day_exposition(дата публикации) к типу datetime"
   ]
  },
  {
   "cell_type": "code",
   "execution_count": 7,
   "metadata": {},
   "outputs": [],
   "source": [
    "data['first_day_exposition'] = pd.to_datetime(data['first_day_exposition'], format='%Y-%m-%dT%H:%M:%S')"
   ]
  },
  {
   "cell_type": "markdown",
   "metadata": {},
   "source": [
    "Смотрим количество значений в is_apartment(апартаментах). Всего 50. Возможно это связано с тем, что люди не видят разницы в названиях квартир и апартаментов. Предлагаю заменить пропущенные значения на false. А так же поменять на тип bool."
   ]
  },
  {
   "cell_type": "code",
   "execution_count": 8,
   "metadata": {},
   "outputs": [],
   "source": [
    "data['is_apartment'].value_counts()\n",
    "data['is_apartment'] = data['is_apartment'].fillna(value=False).astype('bool')"
   ]
  },
  {
   "cell_type": "markdown",
   "metadata": {},
   "source": [
    "balcony(число балконов) - предполагаю, что пропущенные значения это отсутствие балконов, люди просто не заморачиваясь не писали ничего. Заменим пропущенные значения на 0, а так же приведем к типу int."
   ]
  },
  {
   "cell_type": "code",
   "execution_count": 9,
   "metadata": {},
   "outputs": [],
   "source": [
    "data['balcony'] = data['balcony'].fillna(value=0).astype(int)"
   ]
  },
  {
   "cell_type": "markdown",
   "metadata": {},
   "source": [
    "parks_around3000(число парков в радиусе 3 км) - та же история, что и с балконами, заменим пропущенные значения на 0 и приведем к типу int."
   ]
  },
  {
   "cell_type": "code",
   "execution_count": 10,
   "metadata": {},
   "outputs": [],
   "source": [
    "data['parks_around3000'] = data['parks_around3000'].fillna(value=0).astype(int)"
   ]
  },
  {
   "cell_type": "markdown",
   "metadata": {},
   "source": [
    "ponds_around3000(число водоёмов в радиусе 3 км) - заменим пропущенные значения на 0 и приведем к типу int."
   ]
  },
  {
   "cell_type": "code",
   "execution_count": 11,
   "metadata": {},
   "outputs": [],
   "source": [
    "data['ponds_around3000'] = data['ponds_around3000'].fillna(value=0).astype(int)"
   ]
  },
  {
   "cell_type": "markdown",
   "metadata": {},
   "source": [
    "locality_name(название населённого пункта) - довольно странно почему люди не указывают название населенного пункта, так как это влияет на цену, пропусков здесь не так много, поэтому удаляю пропущенные записи."
   ]
  },
  {
   "cell_type": "code",
   "execution_count": 12,
   "metadata": {},
   "outputs": [],
   "source": [
    "data.dropna(subset=['locality_name'], inplace=True)"
   ]
  },
  {
   "cell_type": "markdown",
   "metadata": {},
   "source": [
    "floors_total(всего этажей в доме) - так же есть пропуски, но их не так много, поэтому тоже удаляем и меняем тип на int."
   ]
  },
  {
   "cell_type": "code",
   "execution_count": 13,
   "metadata": {},
   "outputs": [],
   "source": [
    "data.dropna(subset=['floors_total'], inplace=True)\n",
    "data['floors_total'] = data['floors_total'].astype(int)"
   ]
  },
  {
   "cell_type": "markdown",
   "metadata": {},
   "source": [
    "ceiling_height(высота потолков) - могу предположить, что многие пропустили этот пункт, решив, что это неважная информация. Предлагаю заменить отсутствующие данные на медианное значение."
   ]
  },
  {
   "cell_type": "code",
   "execution_count": 14,
   "metadata": {},
   "outputs": [],
   "source": [
    "data['ceiling_height'].fillna(data['ceiling_height'].median(), inplace=True)"
   ]
  },
  {
   "cell_type": "markdown",
   "metadata": {},
   "source": [
    "living_area(жилая площадь в квадратных метрах (м²)) и kitchen_area(площадь кухни в квадратных метрах (м²)) - так же пропуска, возможно люди просто не заморачивались, либо данные были необязательные к заполнению. Тут предлагаю заполнить пропуска средним значением"
   ]
  },
  {
   "cell_type": "code",
   "execution_count": 15,
   "metadata": {},
   "outputs": [],
   "source": [
    "living_ratio = data['living_area'].mean() / data['total_area'].mean()\n",
    "kitchen_ratio = data['kitchen_area'].mean() / data['total_area'].mean()\n",
    "data['living_area'].fillna(living_ratio * data['total_area'], inplace=True)\n",
    "data['kitchen_area'].fillna(kitchen_ratio * data['total_area'], inplace=True)"
   ]
  },
  {
   "cell_type": "markdown",
   "metadata": {},
   "source": [
    "Пропуски в cityCenters_nearest(расстояние до центра города (м)), airports_nearest(расстояние до ближайшего аэропорта в метрах (м)), parks_nearest(расстояние до ближайшего парка (м)), ponds_nearest(расстояние до ближайшего водоёма (м)) предлагаю не трогатью"
   ]
  },
  {
   "cell_type": "code",
   "execution_count": 16,
   "metadata": {},
   "outputs": [
    {
     "data": {
      "text/plain": [
       "total_images                0\n",
       "last_price                  0\n",
       "total_area                  0\n",
       "first_day_exposition        0\n",
       "rooms                       0\n",
       "ceiling_height              0\n",
       "floors_total                0\n",
       "living_area                 0\n",
       "floor                       0\n",
       "is_apartment                0\n",
       "studio                      0\n",
       "open_plan                   0\n",
       "kitchen_area                0\n",
       "balcony                     0\n",
       "locality_name               0\n",
       "airports_nearest         5524\n",
       "cityCenters_nearest      5501\n",
       "parks_around3000            0\n",
       "parks_nearest           15535\n",
       "ponds_around3000            0\n",
       "ponds_nearest           14529\n",
       "days_exposition          3171\n",
       "dtype: int64"
      ]
     },
     "execution_count": 16,
     "metadata": {},
     "output_type": "execute_result"
    }
   ],
   "source": [
    "data.isnull().sum()"
   ]
  },
  {
   "cell_type": "markdown",
   "metadata": {},
   "source": [
    "Поищем неявные дубликаты в названиях населённых пунктов."
   ]
  },
  {
   "cell_type": "code",
   "execution_count": 17,
   "metadata": {},
   "outputs": [
    {
     "data": {
      "text/plain": [
       "array(['Санкт-Петербург', 'посёлок Шушары', 'городской посёлок Янино-1',\n",
       "       'посёлок Парголово', 'посёлок Мурино', 'Ломоносов', 'Сертолово',\n",
       "       'Петергоф', 'Пушкин', 'деревня Кудрово', 'Коммунар', 'Колпино',\n",
       "       'поселок городского типа Красный Бор', 'Гатчина', 'поселок Мурино',\n",
       "       'деревня Фёдоровское', 'Выборг', 'Кронштадт', 'Кировск',\n",
       "       'деревня Новое Девяткино', 'посёлок Металлострой',\n",
       "       'посёлок городского типа Лебяжье',\n",
       "       'посёлок городского типа Сиверский', 'поселок Молодцово',\n",
       "       'поселок городского типа Кузьмоловский',\n",
       "       'садовое товарищество Новая Ропша', 'Павловск',\n",
       "       'деревня Пикколово', 'Всеволожск', 'Волхов', 'Кингисепп',\n",
       "       'Приозерск', 'Сестрорецк', 'деревня Куттузи', 'посёлок Аннино',\n",
       "       'поселок городского типа Ефимовский', 'посёлок Плодовое',\n",
       "       'деревня Заклинье', 'поселок Торковичи', 'поселок Первомайское',\n",
       "       'Красное Село', 'посёлок Понтонный', 'Сясьстрой', 'деревня Старая',\n",
       "       'деревня Лесколово', 'посёлок Новый Свет', 'Сланцы',\n",
       "       'село Путилово', 'Ивангород', 'Мурино', 'Шлиссельбург',\n",
       "       'Никольское', 'Зеленогорск', 'Сосновый Бор', 'поселок Новый Свет',\n",
       "       'деревня Оржицы', 'деревня Кальтино', 'Кудрово',\n",
       "       'поселок Романовка', 'посёлок Бугры', 'поселок Бугры',\n",
       "       'поселок городского типа Рощино', 'Кириши', 'Луга', 'Волосово',\n",
       "       'Отрадное', 'село Павлово', 'поселок Оредеж', 'село Копорье',\n",
       "       'посёлок городского типа Красный Бор', 'посёлок Молодёжное',\n",
       "       'Тихвин', 'посёлок Победа', 'деревня Нурма',\n",
       "       'поселок городского типа Синявино', 'Тосно',\n",
       "       'посёлок городского типа Кузьмоловский', 'посёлок Стрельна',\n",
       "       'Бокситогорск', 'посёлок Александровская', 'деревня Лопухинка',\n",
       "       'Пикалёво', 'поселок Терволово',\n",
       "       'поселок городского типа Советский', 'Подпорожье',\n",
       "       'посёлок Петровское', 'посёлок городского типа Токсово',\n",
       "       'поселок Сельцо', 'посёлок городского типа Вырица',\n",
       "       'деревня Кипень', 'деревня Келози', 'деревня Вартемяги',\n",
       "       'посёлок Тельмана', 'поселок Севастьяново',\n",
       "       'городской поселок Большая Ижора', 'городской посёлок Павлово',\n",
       "       'деревня Агалатово', 'посёлок Новогорелово',\n",
       "       'городской посёлок Лесогорский', 'деревня Лаголово',\n",
       "       'поселок Цвелодубово', 'поселок городского типа Рахья',\n",
       "       'поселок городского типа Вырица', 'деревня Белогорка',\n",
       "       'поселок Заводской', 'городской посёлок Новоселье',\n",
       "       'деревня Большие Колпаны', 'деревня Горбунки', 'деревня Батово',\n",
       "       'деревня Заневка', 'деревня Иссад', 'Приморск',\n",
       "       'городской посёлок Фёдоровское', 'деревня Мистолово',\n",
       "       'Новая Ладога', 'поселок Зимитицы', 'поселок Барышево',\n",
       "       'деревня Разметелево', 'поселок городского типа имени Свердлова',\n",
       "       'деревня Пеники', 'поселок Рябово', 'деревня Пудомяги',\n",
       "       'поселок станции Корнево', 'деревня Низино', 'деревня Бегуницы',\n",
       "       'посёлок Поляны', 'городской посёлок Мга', 'поселок Елизаветино',\n",
       "       'посёлок городского типа Кузнечное', 'деревня Колтуши',\n",
       "       'поселок Запорожское', 'посёлок городского типа Рощино',\n",
       "       'деревня Гостилицы', 'деревня Малое Карлино',\n",
       "       'посёлок Мичуринское', 'посёлок городского типа имени Морозова',\n",
       "       'посёлок Песочный', 'посёлок Сосново', 'деревня Аро',\n",
       "       'поселок Ильичёво', 'посёлок городского типа Тайцы',\n",
       "       'деревня Малое Верево', 'деревня Извара', 'поселок станции Вещево',\n",
       "       'село Паша', 'деревня Калитино',\n",
       "       'посёлок городского типа Ульяновка', 'деревня Чудской Бор',\n",
       "       'поселок городского типа Дубровка', 'деревня Мины',\n",
       "       'поселок Войсковицы', 'посёлок городского типа имени Свердлова',\n",
       "       'деревня Коркино', 'посёлок Ропша',\n",
       "       'поселок городского типа Приладожский', 'посёлок Щеглово',\n",
       "       'посёлок Гаврилово', 'Лодейное Поле', 'деревня Рабитицы',\n",
       "       'поселок городского типа Никольский', 'деревня Кузьмолово',\n",
       "       'деревня Малые Колпаны', 'поселок Тельмана',\n",
       "       'посёлок Петро-Славянка', 'городской посёлок Назия',\n",
       "       'посёлок Репино', 'посёлок Ильичёво', 'поселок Углово',\n",
       "       'поселок Старая Малукса', 'садовое товарищество Рахья',\n",
       "       'поселок Аннино', 'поселок Победа', 'деревня Меньково',\n",
       "       'деревня Старые Бегуницы', 'посёлок Сапёрный', 'поселок Семрино',\n",
       "       'поселок Гаврилово', 'поселок Глажево', 'поселок Кобринское',\n",
       "       'деревня Гарболово', 'деревня Юкки',\n",
       "       'поселок станции Приветнинское', 'деревня Мануйлово',\n",
       "       'деревня Пчева', 'поселок Поляны', 'поселок Цвылёво',\n",
       "       'поселок Мельниково', 'посёлок Пудость', 'посёлок Усть-Луга',\n",
       "       'Светогорск', 'Любань', 'поселок Селезнёво',\n",
       "       'поселок городского типа Рябово', 'Каменногорск', 'деревня Кривко',\n",
       "       'поселок Глебычево', 'деревня Парицы', 'поселок Жилпосёлок',\n",
       "       'посёлок городского типа Мга', 'городской поселок Янино-1',\n",
       "       'посёлок Войскорово', 'село Никольское', 'посёлок Терволово',\n",
       "       'поселок Стеклянный', 'посёлок городского типа Важины',\n",
       "       'посёлок Мыза-Ивановка', 'село Русско-Высоцкое',\n",
       "       'поселок городского типа Лебяжье',\n",
       "       'поселок городского типа Форносово', 'село Старая Ладога',\n",
       "       'поселок Житково', 'городской посёлок Виллози', 'деревня Лампово',\n",
       "       'деревня Шпаньково', 'деревня Лаврики', 'посёлок Сумино',\n",
       "       'посёлок Возрождение', 'деревня Старосиверская',\n",
       "       'посёлок Кикерино', 'поселок Возрождение',\n",
       "       'деревня Старое Хинколово', 'посёлок Пригородный',\n",
       "       'посёлок Торфяное', 'городской посёлок Будогощь',\n",
       "       'поселок Суходолье', 'поселок Красная Долина', 'деревня Хапо-Ое',\n",
       "       'поселок городского типа Дружная Горка', 'поселок Лисий Нос',\n",
       "       'деревня Яльгелево', 'посёлок Стеклянный', 'село Рождествено',\n",
       "       'деревня Старополье', 'посёлок Левашово', 'деревня Сяськелево',\n",
       "       'деревня Камышовка',\n",
       "       'садоводческое некоммерческое товарищество Лесная Поляна',\n",
       "       'деревня Хязельки', 'поселок Жилгородок',\n",
       "       'посёлок городского типа Павлово', 'деревня Ялгино',\n",
       "       'поселок Новый Учхоз', 'городской посёлок Рощино',\n",
       "       'поселок Гончарово', 'поселок Почап', 'посёлок Сапёрное',\n",
       "       'посёлок Платформа 69-й километр', 'поселок Каложицы',\n",
       "       'деревня Фалилеево', 'деревня Пельгора',\n",
       "       'поселок городского типа Лесогорский', 'деревня Торошковичи',\n",
       "       'посёлок Белоостров', 'посёлок Алексеевка', 'поселок Серебрянский',\n",
       "       'поселок Лукаши', 'поселок Петровское', 'деревня Щеглово',\n",
       "       'поселок Мичуринское', 'деревня Тарасово', 'поселок Кингисеппский',\n",
       "       'посёлок при железнодорожной станции Вещево', 'поселок Ушаки',\n",
       "       'деревня Котлы', 'деревня Сижно', 'деревня Торосово',\n",
       "       'посёлок Форт Красная Горка', 'деревня Новолисино',\n",
       "       'посёлок станции Громово', 'деревня Глинка', 'посёлок Мельниково',\n",
       "       'поселок городского типа Назия', 'деревня Старая Пустошь',\n",
       "       'поселок Коммунары', 'поселок Починок',\n",
       "       'посёлок городского типа Вознесенье', 'деревня Разбегаево',\n",
       "       'посёлок городского типа Рябово', 'поселок Гладкое',\n",
       "       'посёлок при железнодорожной станции Приветнинское',\n",
       "       'поселок Тёсово-4', 'посёлок Жилгородок', 'деревня Бор',\n",
       "       'посёлок Коробицыно', 'деревня Большая Вруда', 'деревня Курковицы',\n",
       "       'посёлок Лисий Нос', 'городской посёлок Советский',\n",
       "       'посёлок Кобралово', 'деревня Суоранда', 'поселок Кобралово',\n",
       "       'поселок городского типа Кондратьево',\n",
       "       'коттеджный поселок Счастье', 'поселок Любань', 'деревня Реброво',\n",
       "       'деревня Зимитицы', 'деревня Тойворово', 'поселок Семиозерье',\n",
       "       'поселок Лесное', 'поселок Совхозный', 'поселок Усть-Луга',\n",
       "       'посёлок Ленинское', 'посёлок Суйда',\n",
       "       'посёлок городского типа Форносово', 'деревня Нижние Осельки',\n",
       "       'посёлок станции Свирь', 'поселок Перово', 'Высоцк',\n",
       "       'поселок Гарболово', 'село Шум', 'поселок Котельский',\n",
       "       'поселок станции Лужайка', 'деревня Большая Пустомержа',\n",
       "       'поселок Красносельское', 'деревня Вахнова Кара', 'деревня Пижма',\n",
       "       'коттеджный поселок Кивеннапа Север', 'поселок Коробицыно',\n",
       "       'поселок Ромашки', 'посёлок Перово', 'деревня Каськово',\n",
       "       'деревня Куровицы', 'посёлок Плоское', 'поселок Сумино',\n",
       "       'поселок городского типа Большая Ижора', 'поселок Кирпичное',\n",
       "       'деревня Ям-Тесово', 'деревня Раздолье', 'деревня Терпилицы',\n",
       "       'поселок городского типа Токсово', 'посёлок Шугозеро',\n",
       "       'деревня Ваганово', 'поселок Пушное', 'садовое товарищество Садко',\n",
       "       'посёлок Усть-Ижора', 'деревня Выскатка',\n",
       "       'городской посёлок Свирьстрой', 'поселок Громово',\n",
       "       'деревня Кисельня', 'посёлок Старая Малукса',\n",
       "       'деревня Трубников Бор', 'поселок Калитино',\n",
       "       'посёлок Высокоключевой', 'садовое товарищество Приладожский',\n",
       "       'посёлок Пансионат Зелёный Бор', 'деревня Ненимяки',\n",
       "       'поселок Пансионат Зелёный Бор', 'деревня Снегирёвка',\n",
       "       'деревня Рапполово', 'деревня Пустынка', 'поселок Рабитицы',\n",
       "       'деревня Большой Сабск', 'деревня Русско', 'деревня Лупполово',\n",
       "       'деревня Большое Рейзино', 'деревня Малая Романовка',\n",
       "       'поселок Дружноселье', 'поселок Пчевжа', 'поселок Володарское',\n",
       "       'деревня Нижняя', 'коттеджный посёлок Лесное', 'деревня Тихковицы',\n",
       "       'деревня Борисова Грива', 'посёлок Дзержинского'], dtype=object)"
      ]
     },
     "execution_count": 17,
     "metadata": {},
     "output_type": "execute_result"
    }
   ],
   "source": [
    "data['locality_name'].unique()"
   ]
  },
  {
   "cell_type": "markdown",
   "metadata": {},
   "source": [
    "Нашли следующие дубликаты :  \n",
    "'посёлок Мурино' 'поселок Мурино' 'Мурино'  \n",
    "'поселок Новый Свет' 'посёлок Новый Свет'  \n",
    "'посёлок Бугры' 'поселок Бугры'  \n",
    "'поселок городского типа Красный Бор' 'посёлок городского типа Красный Бор'  \n",
    "\n",
    "'посёлок Пансионат Зелёный Бор' 'поселок Пансионат Зелёный Бор'  \n",
    "\n",
    "'посёлок Усть-Луга' 'поселок Усть-Луга'  \n",
    "'поселок городского типа Лебяжье' 'посёлок городского типа Лебяжье'  \n",
    "'посёлок городского типа имени Свердлова' 'поселок городского типа имени Свердлова'  \n",
    "'поселок Тельмана' 'посёлок Тельмана'  \n",
    "'поселок Рябово' 'поселок городского типа Рябово' 'посёлок городского типа Рябово'  \n",
    "\n",
    "Устраним неявные дубликаты.  "
   ]
  },
  {
   "cell_type": "code",
   "execution_count": 18,
   "metadata": {},
   "outputs": [],
   "source": [
    "data['locality_name'] = data['locality_name'].replace('поселок Мурино','посёлок Мурино')\n",
    "data['locality_name'] = data['locality_name'].replace('Мурино','посёлок Мурино')\n",
    "data['locality_name'] = data['locality_name'].replace('поселок Новый Свет','посёлок Новый Свет')\n",
    "data['locality_name'] = data['locality_name'].replace('поселок Бугры','посёлок Бугры')\n",
    "data['locality_name'] = data['locality_name'].replace('поселок городского типа Красный Бор','посёлок городского типа Красный Бор')\n",
    "data['locality_name'] = data['locality_name'].replace('поселок Пансионат Зелёный Бор','посёлок Пансионат Зелёный Бор')\n",
    "data['locality_name'] = data['locality_name'].replace('поселок Усть-Луга' ,'посёлок Усть-Луга')\n",
    "data['locality_name'] = data['locality_name'].replace('поселок городского типа Лебяжье' ,'посёлок городского типа Лебяжье')\n",
    "data['locality_name'] = data['locality_name'].replace('поселок городского типа имени Свердлова' ,'посёлок городского типа имени Свердлова')\n",
    "data['locality_name'] = data['locality_name'].replace('поселок Тельмана' ,'посёлок Тельмана')\n",
    "data['locality_name'] = data['locality_name'].replace('поселок Рябово' ,'посёлок городского типа Рябово')\n",
    "data['locality_name'] = data['locality_name'].replace('поселок городского типа Рябово' ,'посёлок городского типа Рябово')"
   ]
  },
  {
   "cell_type": "markdown",
   "metadata": {},
   "source": [
    "Проверим аномальные значения в столбце ceiling_height."
   ]
  },
  {
   "cell_type": "code",
   "execution_count": 19,
   "metadata": {},
   "outputs": [
    {
     "data": {
      "text/plain": [
       "(-5.0, 40.0)"
      ]
     },
     "execution_count": 19,
     "metadata": {},
     "output_type": "execute_result"
    },
    {
     "data": {
      "image/png": "[encoded data removed]",
      "text/plain": [
       "<Figure size 432x288 with 1 Axes>"
      ]
     },
     "metadata": {
      "needs_background": "light"
     },
     "output_type": "display_data"
    }
   ],
   "source": [
    "sns.boxplot(data=data['ceiling_height'], orient=\"h\")\n",
    "plt.title(\"Распределение по высоте потолков\")\n",
    "plt.xlabel(\"Высота\")\n",
    "plt.xlim(-5, 40)"
   ]
  },
  {
   "cell_type": "markdown",
   "metadata": {},
   "source": [
    "Видны выбросы, таких высоких потолков даже в царских хоромах думаю нет)"
   ]
  },
  {
   "cell_type": "code",
   "execution_count": 20,
   "metadata": {},
   "outputs": [
    {
     "data": {
      "text/html": [
       "<div>\n",
       "<style scoped>\n",
       "    .dataframe tbody tr th:only-of-type {\n",
       "        vertical-align: middle;\n",
       "    }\n",
       "\n",
       "    .dataframe tbody tr th {\n",
       "        vertical-align: top;\n",
       "    }\n",
       "\n",
       "    .dataframe thead th {\n",
       "        text-align: right;\n",
       "    }\n",
       "</style>\n",
       "<table border=\"1\" class=\"dataframe\">\n",
       "  <thead>\n",
       "    <tr style=\"text-align: right;\">\n",
       "      <th></th>\n",
       "      <th>total_images</th>\n",
       "      <th>last_price</th>\n",
       "      <th>total_area</th>\n",
       "      <th>first_day_exposition</th>\n",
       "      <th>rooms</th>\n",
       "      <th>ceiling_height</th>\n",
       "      <th>floors_total</th>\n",
       "      <th>living_area</th>\n",
       "      <th>floor</th>\n",
       "      <th>is_apartment</th>\n",
       "      <th>...</th>\n",
       "      <th>kitchen_area</th>\n",
       "      <th>balcony</th>\n",
       "      <th>locality_name</th>\n",
       "      <th>airports_nearest</th>\n",
       "      <th>cityCenters_nearest</th>\n",
       "      <th>parks_around3000</th>\n",
       "      <th>parks_nearest</th>\n",
       "      <th>ponds_around3000</th>\n",
       "      <th>ponds_nearest</th>\n",
       "      <th>days_exposition</th>\n",
       "    </tr>\n",
       "  </thead>\n",
       "  <tbody>\n",
       "    <tr>\n",
       "      <th>5863</th>\n",
       "      <td>20</td>\n",
       "      <td>5650000</td>\n",
       "      <td>45.0</td>\n",
       "      <td>2018-08-15</td>\n",
       "      <td>1</td>\n",
       "      <td>8.3</td>\n",
       "      <td>16</td>\n",
       "      <td>19.3</td>\n",
       "      <td>14</td>\n",
       "      <td>False</td>\n",
       "      <td>...</td>\n",
       "      <td>8.300000</td>\n",
       "      <td>1</td>\n",
       "      <td>Санкт-Петербург</td>\n",
       "      <td>13069.0</td>\n",
       "      <td>10763.0</td>\n",
       "      <td>0</td>\n",
       "      <td>NaN</td>\n",
       "      <td>1</td>\n",
       "      <td>613.0</td>\n",
       "      <td>14.0</td>\n",
       "    </tr>\n",
       "    <tr>\n",
       "      <th>22309</th>\n",
       "      <td>20</td>\n",
       "      <td>5300000</td>\n",
       "      <td>45.0</td>\n",
       "      <td>2017-09-30</td>\n",
       "      <td>1</td>\n",
       "      <td>10.3</td>\n",
       "      <td>16</td>\n",
       "      <td>15.5</td>\n",
       "      <td>15</td>\n",
       "      <td>False</td>\n",
       "      <td>...</td>\n",
       "      <td>7.878357</td>\n",
       "      <td>0</td>\n",
       "      <td>Санкт-Петербург</td>\n",
       "      <td>36353.0</td>\n",
       "      <td>11936.0</td>\n",
       "      <td>2</td>\n",
       "      <td>440.0</td>\n",
       "      <td>2</td>\n",
       "      <td>450.0</td>\n",
       "      <td>136.0</td>\n",
       "    </tr>\n",
       "    <tr>\n",
       "      <th>15061</th>\n",
       "      <td>19</td>\n",
       "      <td>5600000</td>\n",
       "      <td>56.4</td>\n",
       "      <td>2018-05-11</td>\n",
       "      <td>2</td>\n",
       "      <td>14.0</td>\n",
       "      <td>14</td>\n",
       "      <td>32.4</td>\n",
       "      <td>5</td>\n",
       "      <td>False</td>\n",
       "      <td>...</td>\n",
       "      <td>9.100000</td>\n",
       "      <td>2</td>\n",
       "      <td>Санкт-Петербург</td>\n",
       "      <td>14814.0</td>\n",
       "      <td>13610.0</td>\n",
       "      <td>0</td>\n",
       "      <td>NaN</td>\n",
       "      <td>0</td>\n",
       "      <td>NaN</td>\n",
       "      <td>315.0</td>\n",
       "    </tr>\n",
       "    <tr>\n",
       "      <th>17496</th>\n",
       "      <td>15</td>\n",
       "      <td>6700000</td>\n",
       "      <td>92.9</td>\n",
       "      <td>2019-02-19</td>\n",
       "      <td>3</td>\n",
       "      <td>20.0</td>\n",
       "      <td>17</td>\n",
       "      <td>53.2</td>\n",
       "      <td>14</td>\n",
       "      <td>False</td>\n",
       "      <td>...</td>\n",
       "      <td>12.000000</td>\n",
       "      <td>5</td>\n",
       "      <td>Санкт-Петербург</td>\n",
       "      <td>16295.0</td>\n",
       "      <td>15092.0</td>\n",
       "      <td>1</td>\n",
       "      <td>967.0</td>\n",
       "      <td>0</td>\n",
       "      <td>NaN</td>\n",
       "      <td>NaN</td>\n",
       "    </tr>\n",
       "    <tr>\n",
       "      <th>20507</th>\n",
       "      <td>12</td>\n",
       "      <td>5950000</td>\n",
       "      <td>60.0</td>\n",
       "      <td>2018-02-19</td>\n",
       "      <td>2</td>\n",
       "      <td>22.6</td>\n",
       "      <td>14</td>\n",
       "      <td>35.0</td>\n",
       "      <td>11</td>\n",
       "      <td>False</td>\n",
       "      <td>...</td>\n",
       "      <td>13.000000</td>\n",
       "      <td>1</td>\n",
       "      <td>Санкт-Петербург</td>\n",
       "      <td>27028.0</td>\n",
       "      <td>12570.0</td>\n",
       "      <td>0</td>\n",
       "      <td>NaN</td>\n",
       "      <td>0</td>\n",
       "      <td>NaN</td>\n",
       "      <td>40.0</td>\n",
       "    </tr>\n",
       "    <tr>\n",
       "      <th>5076</th>\n",
       "      <td>0</td>\n",
       "      <td>3850000</td>\n",
       "      <td>30.5</td>\n",
       "      <td>2018-10-03</td>\n",
       "      <td>1</td>\n",
       "      <td>24.0</td>\n",
       "      <td>5</td>\n",
       "      <td>19.5</td>\n",
       "      <td>1</td>\n",
       "      <td>True</td>\n",
       "      <td>...</td>\n",
       "      <td>5.500000</td>\n",
       "      <td>0</td>\n",
       "      <td>Санкт-Петербург</td>\n",
       "      <td>29686.0</td>\n",
       "      <td>8389.0</td>\n",
       "      <td>3</td>\n",
       "      <td>397.0</td>\n",
       "      <td>1</td>\n",
       "      <td>578.0</td>\n",
       "      <td>7.0</td>\n",
       "    </tr>\n",
       "    <tr>\n",
       "      <th>355</th>\n",
       "      <td>17</td>\n",
       "      <td>3600000</td>\n",
       "      <td>55.2</td>\n",
       "      <td>2018-07-12</td>\n",
       "      <td>2</td>\n",
       "      <td>25.0</td>\n",
       "      <td>5</td>\n",
       "      <td>32.0</td>\n",
       "      <td>2</td>\n",
       "      <td>False</td>\n",
       "      <td>...</td>\n",
       "      <td>9.664118</td>\n",
       "      <td>2</td>\n",
       "      <td>Гатчина</td>\n",
       "      <td>NaN</td>\n",
       "      <td>NaN</td>\n",
       "      <td>0</td>\n",
       "      <td>NaN</td>\n",
       "      <td>0</td>\n",
       "      <td>NaN</td>\n",
       "      <td>259.0</td>\n",
       "    </tr>\n",
       "    <tr>\n",
       "      <th>18545</th>\n",
       "      <td>6</td>\n",
       "      <td>3750000</td>\n",
       "      <td>43.0</td>\n",
       "      <td>2019-03-18</td>\n",
       "      <td>2</td>\n",
       "      <td>25.0</td>\n",
       "      <td>5</td>\n",
       "      <td>29.0</td>\n",
       "      <td>3</td>\n",
       "      <td>False</td>\n",
       "      <td>...</td>\n",
       "      <td>7.528208</td>\n",
       "      <td>0</td>\n",
       "      <td>Санкт-Петербург</td>\n",
       "      <td>27054.0</td>\n",
       "      <td>8033.0</td>\n",
       "      <td>1</td>\n",
       "      <td>540.0</td>\n",
       "      <td>0</td>\n",
       "      <td>NaN</td>\n",
       "      <td>12.0</td>\n",
       "    </tr>\n",
       "    <tr>\n",
       "      <th>14382</th>\n",
       "      <td>9</td>\n",
       "      <td>1700000</td>\n",
       "      <td>35.0</td>\n",
       "      <td>2015-12-04</td>\n",
       "      <td>1</td>\n",
       "      <td>25.0</td>\n",
       "      <td>5</td>\n",
       "      <td>20.0</td>\n",
       "      <td>2</td>\n",
       "      <td>False</td>\n",
       "      <td>...</td>\n",
       "      <td>8.000000</td>\n",
       "      <td>1</td>\n",
       "      <td>посёлок Новый Свет</td>\n",
       "      <td>NaN</td>\n",
       "      <td>NaN</td>\n",
       "      <td>0</td>\n",
       "      <td>NaN</td>\n",
       "      <td>0</td>\n",
       "      <td>NaN</td>\n",
       "      <td>206.0</td>\n",
       "    </tr>\n",
       "    <tr>\n",
       "      <th>9379</th>\n",
       "      <td>5</td>\n",
       "      <td>3950000</td>\n",
       "      <td>42.0</td>\n",
       "      <td>2017-03-26</td>\n",
       "      <td>3</td>\n",
       "      <td>25.0</td>\n",
       "      <td>5</td>\n",
       "      <td>30.0</td>\n",
       "      <td>2</td>\n",
       "      <td>False</td>\n",
       "      <td>...</td>\n",
       "      <td>5.200000</td>\n",
       "      <td>0</td>\n",
       "      <td>Санкт-Петербург</td>\n",
       "      <td>11647.0</td>\n",
       "      <td>13581.0</td>\n",
       "      <td>0</td>\n",
       "      <td>NaN</td>\n",
       "      <td>0</td>\n",
       "      <td>NaN</td>\n",
       "      <td>NaN</td>\n",
       "    </tr>\n",
       "    <tr>\n",
       "      <th>11285</th>\n",
       "      <td>0</td>\n",
       "      <td>1950000</td>\n",
       "      <td>37.0</td>\n",
       "      <td>2019-03-20</td>\n",
       "      <td>1</td>\n",
       "      <td>25.0</td>\n",
       "      <td>5</td>\n",
       "      <td>17.0</td>\n",
       "      <td>4</td>\n",
       "      <td>False</td>\n",
       "      <td>...</td>\n",
       "      <td>9.000000</td>\n",
       "      <td>2</td>\n",
       "      <td>Луга</td>\n",
       "      <td>NaN</td>\n",
       "      <td>NaN</td>\n",
       "      <td>0</td>\n",
       "      <td>NaN</td>\n",
       "      <td>0</td>\n",
       "      <td>NaN</td>\n",
       "      <td>18.0</td>\n",
       "    </tr>\n",
       "    <tr>\n",
       "      <th>4643</th>\n",
       "      <td>0</td>\n",
       "      <td>4300000</td>\n",
       "      <td>45.0</td>\n",
       "      <td>2018-02-01</td>\n",
       "      <td>2</td>\n",
       "      <td>25.0</td>\n",
       "      <td>9</td>\n",
       "      <td>30.0</td>\n",
       "      <td>2</td>\n",
       "      <td>False</td>\n",
       "      <td>...</td>\n",
       "      <td>7.000000</td>\n",
       "      <td>1</td>\n",
       "      <td>Санкт-Петербург</td>\n",
       "      <td>12016.0</td>\n",
       "      <td>13256.0</td>\n",
       "      <td>1</td>\n",
       "      <td>658.0</td>\n",
       "      <td>1</td>\n",
       "      <td>331.0</td>\n",
       "      <td>181.0</td>\n",
       "    </tr>\n",
       "    <tr>\n",
       "      <th>6246</th>\n",
       "      <td>6</td>\n",
       "      <td>3300000</td>\n",
       "      <td>44.4</td>\n",
       "      <td>2019-03-25</td>\n",
       "      <td>2</td>\n",
       "      <td>25.0</td>\n",
       "      <td>5</td>\n",
       "      <td>31.3</td>\n",
       "      <td>5</td>\n",
       "      <td>False</td>\n",
       "      <td>...</td>\n",
       "      <td>5.700000</td>\n",
       "      <td>0</td>\n",
       "      <td>Кронштадт</td>\n",
       "      <td>68923.0</td>\n",
       "      <td>50649.0</td>\n",
       "      <td>1</td>\n",
       "      <td>417.0</td>\n",
       "      <td>2</td>\n",
       "      <td>73.0</td>\n",
       "      <td>NaN</td>\n",
       "    </tr>\n",
       "    <tr>\n",
       "      <th>5669</th>\n",
       "      <td>4</td>\n",
       "      <td>4400000</td>\n",
       "      <td>50.0</td>\n",
       "      <td>2017-08-08</td>\n",
       "      <td>2</td>\n",
       "      <td>26.0</td>\n",
       "      <td>9</td>\n",
       "      <td>21.3</td>\n",
       "      <td>3</td>\n",
       "      <td>False</td>\n",
       "      <td>...</td>\n",
       "      <td>7.000000</td>\n",
       "      <td>2</td>\n",
       "      <td>Санкт-Петербург</td>\n",
       "      <td>28981.0</td>\n",
       "      <td>10912.0</td>\n",
       "      <td>1</td>\n",
       "      <td>305.0</td>\n",
       "      <td>0</td>\n",
       "      <td>NaN</td>\n",
       "      <td>267.0</td>\n",
       "    </tr>\n",
       "    <tr>\n",
       "      <th>10773</th>\n",
       "      <td>8</td>\n",
       "      <td>3800000</td>\n",
       "      <td>58.0</td>\n",
       "      <td>2017-10-13</td>\n",
       "      <td>2</td>\n",
       "      <td>27.0</td>\n",
       "      <td>10</td>\n",
       "      <td>30.1</td>\n",
       "      <td>3</td>\n",
       "      <td>False</td>\n",
       "      <td>...</td>\n",
       "      <td>8.100000</td>\n",
       "      <td>2</td>\n",
       "      <td>посёлок Мурино</td>\n",
       "      <td>NaN</td>\n",
       "      <td>NaN</td>\n",
       "      <td>0</td>\n",
       "      <td>NaN</td>\n",
       "      <td>0</td>\n",
       "      <td>NaN</td>\n",
       "      <td>71.0</td>\n",
       "    </tr>\n",
       "    <tr>\n",
       "      <th>5807</th>\n",
       "      <td>17</td>\n",
       "      <td>8150000</td>\n",
       "      <td>80.0</td>\n",
       "      <td>2019-01-09</td>\n",
       "      <td>2</td>\n",
       "      <td>27.0</td>\n",
       "      <td>36</td>\n",
       "      <td>41.0</td>\n",
       "      <td>13</td>\n",
       "      <td>False</td>\n",
       "      <td>...</td>\n",
       "      <td>12.000000</td>\n",
       "      <td>5</td>\n",
       "      <td>Санкт-Петербург</td>\n",
       "      <td>18732.0</td>\n",
       "      <td>20444.0</td>\n",
       "      <td>0</td>\n",
       "      <td>NaN</td>\n",
       "      <td>3</td>\n",
       "      <td>80.0</td>\n",
       "      <td>38.0</td>\n",
       "    </tr>\n",
       "    <tr>\n",
       "      <th>5246</th>\n",
       "      <td>0</td>\n",
       "      <td>2500000</td>\n",
       "      <td>54.0</td>\n",
       "      <td>2017-10-13</td>\n",
       "      <td>2</td>\n",
       "      <td>27.0</td>\n",
       "      <td>5</td>\n",
       "      <td>30.0</td>\n",
       "      <td>3</td>\n",
       "      <td>False</td>\n",
       "      <td>...</td>\n",
       "      <td>9.000000</td>\n",
       "      <td>2</td>\n",
       "      <td>деревня Мины</td>\n",
       "      <td>NaN</td>\n",
       "      <td>NaN</td>\n",
       "      <td>0</td>\n",
       "      <td>NaN</td>\n",
       "      <td>0</td>\n",
       "      <td>NaN</td>\n",
       "      <td>540.0</td>\n",
       "    </tr>\n",
       "    <tr>\n",
       "      <th>17857</th>\n",
       "      <td>1</td>\n",
       "      <td>3900000</td>\n",
       "      <td>56.0</td>\n",
       "      <td>2017-12-22</td>\n",
       "      <td>3</td>\n",
       "      <td>27.0</td>\n",
       "      <td>5</td>\n",
       "      <td>33.0</td>\n",
       "      <td>4</td>\n",
       "      <td>False</td>\n",
       "      <td>...</td>\n",
       "      <td>9.804178</td>\n",
       "      <td>0</td>\n",
       "      <td>Санкт-Петербург</td>\n",
       "      <td>41030.0</td>\n",
       "      <td>15543.0</td>\n",
       "      <td>0</td>\n",
       "      <td>NaN</td>\n",
       "      <td>0</td>\n",
       "      <td>NaN</td>\n",
       "      <td>73.0</td>\n",
       "    </tr>\n",
       "    <tr>\n",
       "      <th>4876</th>\n",
       "      <td>7</td>\n",
       "      <td>3000000</td>\n",
       "      <td>25.0</td>\n",
       "      <td>2017-09-27</td>\n",
       "      <td>0</td>\n",
       "      <td>27.0</td>\n",
       "      <td>25</td>\n",
       "      <td>17.0</td>\n",
       "      <td>17</td>\n",
       "      <td>False</td>\n",
       "      <td>...</td>\n",
       "      <td>4.376865</td>\n",
       "      <td>2</td>\n",
       "      <td>посёлок Мурино</td>\n",
       "      <td>NaN</td>\n",
       "      <td>NaN</td>\n",
       "      <td>0</td>\n",
       "      <td>NaN</td>\n",
       "      <td>0</td>\n",
       "      <td>NaN</td>\n",
       "      <td>28.0</td>\n",
       "    </tr>\n",
       "    <tr>\n",
       "      <th>20478</th>\n",
       "      <td>11</td>\n",
       "      <td>8000000</td>\n",
       "      <td>45.0</td>\n",
       "      <td>2017-07-18</td>\n",
       "      <td>1</td>\n",
       "      <td>27.0</td>\n",
       "      <td>4</td>\n",
       "      <td>22.0</td>\n",
       "      <td>2</td>\n",
       "      <td>False</td>\n",
       "      <td>...</td>\n",
       "      <td>10.000000</td>\n",
       "      <td>1</td>\n",
       "      <td>Санкт-Петербург</td>\n",
       "      <td>18975.0</td>\n",
       "      <td>3246.0</td>\n",
       "      <td>0</td>\n",
       "      <td>NaN</td>\n",
       "      <td>3</td>\n",
       "      <td>449.0</td>\n",
       "      <td>429.0</td>\n",
       "    </tr>\n",
       "    <tr>\n",
       "      <th>21824</th>\n",
       "      <td>20</td>\n",
       "      <td>2450000</td>\n",
       "      <td>44.0</td>\n",
       "      <td>2019-02-12</td>\n",
       "      <td>2</td>\n",
       "      <td>27.0</td>\n",
       "      <td>2</td>\n",
       "      <td>38.0</td>\n",
       "      <td>2</td>\n",
       "      <td>False</td>\n",
       "      <td>...</td>\n",
       "      <td>8.600000</td>\n",
       "      <td>2</td>\n",
       "      <td>городской поселок Большая Ижора</td>\n",
       "      <td>NaN</td>\n",
       "      <td>NaN</td>\n",
       "      <td>0</td>\n",
       "      <td>NaN</td>\n",
       "      <td>0</td>\n",
       "      <td>NaN</td>\n",
       "      <td>NaN</td>\n",
       "    </tr>\n",
       "    <tr>\n",
       "      <th>22938</th>\n",
       "      <td>14</td>\n",
       "      <td>4000000</td>\n",
       "      <td>98.0</td>\n",
       "      <td>2018-03-15</td>\n",
       "      <td>4</td>\n",
       "      <td>27.0</td>\n",
       "      <td>2</td>\n",
       "      <td>73.0</td>\n",
       "      <td>2</td>\n",
       "      <td>True</td>\n",
       "      <td>...</td>\n",
       "      <td>9.000000</td>\n",
       "      <td>1</td>\n",
       "      <td>деревня Нижняя</td>\n",
       "      <td>NaN</td>\n",
       "      <td>NaN</td>\n",
       "      <td>0</td>\n",
       "      <td>NaN</td>\n",
       "      <td>0</td>\n",
       "      <td>NaN</td>\n",
       "      <td>27.0</td>\n",
       "    </tr>\n",
       "    <tr>\n",
       "      <th>21377</th>\n",
       "      <td>19</td>\n",
       "      <td>4900000</td>\n",
       "      <td>42.0</td>\n",
       "      <td>2017-04-18</td>\n",
       "      <td>1</td>\n",
       "      <td>27.5</td>\n",
       "      <td>24</td>\n",
       "      <td>37.7</td>\n",
       "      <td>19</td>\n",
       "      <td>False</td>\n",
       "      <td>...</td>\n",
       "      <td>11.000000</td>\n",
       "      <td>2</td>\n",
       "      <td>Санкт-Петербург</td>\n",
       "      <td>42742.0</td>\n",
       "      <td>9760.0</td>\n",
       "      <td>0</td>\n",
       "      <td>NaN</td>\n",
       "      <td>0</td>\n",
       "      <td>NaN</td>\n",
       "      <td>61.0</td>\n",
       "    </tr>\n",
       "    <tr>\n",
       "      <th>3148</th>\n",
       "      <td>14</td>\n",
       "      <td>2900000</td>\n",
       "      <td>75.0</td>\n",
       "      <td>2018-11-12</td>\n",
       "      <td>3</td>\n",
       "      <td>32.0</td>\n",
       "      <td>3</td>\n",
       "      <td>53.0</td>\n",
       "      <td>2</td>\n",
       "      <td>False</td>\n",
       "      <td>...</td>\n",
       "      <td>8.000000</td>\n",
       "      <td>0</td>\n",
       "      <td>Волхов</td>\n",
       "      <td>NaN</td>\n",
       "      <td>NaN</td>\n",
       "      <td>0</td>\n",
       "      <td>NaN</td>\n",
       "      <td>0</td>\n",
       "      <td>NaN</td>\n",
       "      <td>NaN</td>\n",
       "    </tr>\n",
       "    <tr>\n",
       "      <th>22336</th>\n",
       "      <td>19</td>\n",
       "      <td>9999000</td>\n",
       "      <td>92.4</td>\n",
       "      <td>2019-04-05</td>\n",
       "      <td>2</td>\n",
       "      <td>32.0</td>\n",
       "      <td>6</td>\n",
       "      <td>55.5</td>\n",
       "      <td>5</td>\n",
       "      <td>False</td>\n",
       "      <td>...</td>\n",
       "      <td>16.500000</td>\n",
       "      <td>4</td>\n",
       "      <td>Санкт-Петербург</td>\n",
       "      <td>18838.0</td>\n",
       "      <td>3506.0</td>\n",
       "      <td>0</td>\n",
       "      <td>NaN</td>\n",
       "      <td>3</td>\n",
       "      <td>511.0</td>\n",
       "      <td>NaN</td>\n",
       "    </tr>\n",
       "    <tr>\n",
       "      <th>22869</th>\n",
       "      <td>0</td>\n",
       "      <td>15000000</td>\n",
       "      <td>25.0</td>\n",
       "      <td>2018-07-25</td>\n",
       "      <td>1</td>\n",
       "      <td>100.0</td>\n",
       "      <td>5</td>\n",
       "      <td>14.0</td>\n",
       "      <td>5</td>\n",
       "      <td>True</td>\n",
       "      <td>...</td>\n",
       "      <td>11.000000</td>\n",
       "      <td>5</td>\n",
       "      <td>Санкт-Петербург</td>\n",
       "      <td>34963.0</td>\n",
       "      <td>8283.0</td>\n",
       "      <td>1</td>\n",
       "      <td>223.0</td>\n",
       "      <td>3</td>\n",
       "      <td>30.0</td>\n",
       "      <td>19.0</td>\n",
       "    </tr>\n",
       "  </tbody>\n",
       "</table>\n",
       "<p>26 rows × 22 columns</p>\n",
       "</div>"
      ],
      "text/plain": [
       "       total_images  last_price  total_area first_day_exposition  rooms  \\\n",
       "5863             20     5650000        45.0           2018-08-15      1   \n",
       "22309            20     5300000        45.0           2017-09-30      1   \n",
       "15061            19     5600000        56.4           2018-05-11      2   \n",
       "17496            15     6700000        92.9           2019-02-19      3   \n",
       "20507            12     5950000        60.0           2018-02-19      2   \n",
       "5076              0     3850000        30.5           2018-10-03      1   \n",
       "355              17     3600000        55.2           2018-07-12      2   \n",
       "18545             6     3750000        43.0           2019-03-18      2   \n",
       "14382             9     1700000        35.0           2015-12-04      1   \n",
       "9379              5     3950000        42.0           2017-03-26      3   \n",
       "11285             0     1950000        37.0           2019-03-20      1   \n",
       "4643              0     4300000        45.0           2018-02-01      2   \n",
       "6246              6     3300000        44.4           2019-03-25      2   \n",
       "5669              4     4400000        50.0           2017-08-08      2   \n",
       "10773             8     3800000        58.0           2017-10-13      2   \n",
       "5807             17     8150000        80.0           2019-01-09      2   \n",
       "5246              0     2500000        54.0           2017-10-13      2   \n",
       "17857             1     3900000        56.0           2017-12-22      3   \n",
       "4876              7     3000000        25.0           2017-09-27      0   \n",
       "20478            11     8000000        45.0           2017-07-18      1   \n",
       "21824            20     2450000        44.0           2019-02-12      2   \n",
       "22938            14     4000000        98.0           2018-03-15      4   \n",
       "21377            19     4900000        42.0           2017-04-18      1   \n",
       "3148             14     2900000        75.0           2018-11-12      3   \n",
       "22336            19     9999000        92.4           2019-04-05      2   \n",
       "22869             0    15000000        25.0           2018-07-25      1   \n",
       "\n",
       "       ceiling_height  floors_total  living_area  floor  is_apartment  ...  \\\n",
       "5863              8.3            16         19.3     14         False  ...   \n",
       "22309            10.3            16         15.5     15         False  ...   \n",
       "15061            14.0            14         32.4      5         False  ...   \n",
       "17496            20.0            17         53.2     14         False  ...   \n",
       "20507            22.6            14         35.0     11         False  ...   \n",
       "5076             24.0             5         19.5      1          True  ...   \n",
       "355              25.0             5         32.0      2         False  ...   \n",
       "18545            25.0             5         29.0      3         False  ...   \n",
       "14382            25.0             5         20.0      2         False  ...   \n",
       "9379             25.0             5         30.0      2         False  ...   \n",
       "11285            25.0             5         17.0      4         False  ...   \n",
       "4643             25.0             9         30.0      2         False  ...   \n",
       "6246             25.0             5         31.3      5         False  ...   \n",
       "5669             26.0             9         21.3      3         False  ...   \n",
       "10773            27.0            10         30.1      3         False  ...   \n",
       "5807             27.0            36         41.0     13         False  ...   \n",
       "5246             27.0             5         30.0      3         False  ...   \n",
       "17857            27.0             5         33.0      4         False  ...   \n",
       "4876             27.0            25         17.0     17         False  ...   \n",
       "20478            27.0             4         22.0      2         False  ...   \n",
       "21824            27.0             2         38.0      2         False  ...   \n",
       "22938            27.0             2         73.0      2          True  ...   \n",
       "21377            27.5            24         37.7     19         False  ...   \n",
       "3148             32.0             3         53.0      2         False  ...   \n",
       "22336            32.0             6         55.5      5         False  ...   \n",
       "22869           100.0             5         14.0      5          True  ...   \n",
       "\n",
       "       kitchen_area  balcony                    locality_name  \\\n",
       "5863       8.300000        1                  Санкт-Петербург   \n",
       "22309      7.878357        0                  Санкт-Петербург   \n",
       "15061      9.100000        2                  Санкт-Петербург   \n",
       "17496     12.000000        5                  Санкт-Петербург   \n",
       "20507     13.000000        1                  Санкт-Петербург   \n",
       "5076       5.500000        0                  Санкт-Петербург   \n",
       "355        9.664118        2                          Гатчина   \n",
       "18545      7.528208        0                  Санкт-Петербург   \n",
       "14382      8.000000        1               посёлок Новый Свет   \n",
       "9379       5.200000        0                  Санкт-Петербург   \n",
       "11285      9.000000        2                             Луга   \n",
       "4643       7.000000        1                  Санкт-Петербург   \n",
       "6246       5.700000        0                        Кронштадт   \n",
       "5669       7.000000        2                  Санкт-Петербург   \n",
       "10773      8.100000        2                   посёлок Мурино   \n",
       "5807      12.000000        5                  Санкт-Петербург   \n",
       "5246       9.000000        2                     деревня Мины   \n",
       "17857      9.804178        0                  Санкт-Петербург   \n",
       "4876       4.376865        2                   посёлок Мурино   \n",
       "20478     10.000000        1                  Санкт-Петербург   \n",
       "21824      8.600000        2  городской поселок Большая Ижора   \n",
       "22938      9.000000        1                   деревня Нижняя   \n",
       "21377     11.000000        2                  Санкт-Петербург   \n",
       "3148       8.000000        0                           Волхов   \n",
       "22336     16.500000        4                  Санкт-Петербург   \n",
       "22869     11.000000        5                  Санкт-Петербург   \n",
       "\n",
       "       airports_nearest cityCenters_nearest  parks_around3000  parks_nearest  \\\n",
       "5863            13069.0             10763.0                 0            NaN   \n",
       "22309           36353.0             11936.0                 2          440.0   \n",
       "15061           14814.0             13610.0                 0            NaN   \n",
       "17496           16295.0             15092.0                 1          967.0   \n",
       "20507           27028.0             12570.0                 0            NaN   \n",
       "5076            29686.0              8389.0                 3          397.0   \n",
       "355                 NaN                 NaN                 0            NaN   \n",
       "18545           27054.0              8033.0                 1          540.0   \n",
       "14382               NaN                 NaN                 0            NaN   \n",
       "9379            11647.0             13581.0                 0            NaN   \n",
       "11285               NaN                 NaN                 0            NaN   \n",
       "4643            12016.0             13256.0                 1          658.0   \n",
       "6246            68923.0             50649.0                 1          417.0   \n",
       "5669            28981.0             10912.0                 1          305.0   \n",
       "10773               NaN                 NaN                 0            NaN   \n",
       "5807            18732.0             20444.0                 0            NaN   \n",
       "5246                NaN                 NaN                 0            NaN   \n",
       "17857           41030.0             15543.0                 0            NaN   \n",
       "4876                NaN                 NaN                 0            NaN   \n",
       "20478           18975.0              3246.0                 0            NaN   \n",
       "21824               NaN                 NaN                 0            NaN   \n",
       "22938               NaN                 NaN                 0            NaN   \n",
       "21377           42742.0              9760.0                 0            NaN   \n",
       "3148                NaN                 NaN                 0            NaN   \n",
       "22336           18838.0              3506.0                 0            NaN   \n",
       "22869           34963.0              8283.0                 1          223.0   \n",
       "\n",
       "       ponds_around3000  ponds_nearest  days_exposition  \n",
       "5863                  1          613.0             14.0  \n",
       "22309                 2          450.0            136.0  \n",
       "15061                 0            NaN            315.0  \n",
       "17496                 0            NaN              NaN  \n",
       "20507                 0            NaN             40.0  \n",
       "5076                  1          578.0              7.0  \n",
       "355                   0            NaN            259.0  \n",
       "18545                 0            NaN             12.0  \n",
       "14382                 0            NaN            206.0  \n",
       "9379                  0            NaN              NaN  \n",
       "11285                 0            NaN             18.0  \n",
       "4643                  1          331.0            181.0  \n",
       "6246                  2           73.0              NaN  \n",
       "5669                  0            NaN            267.0  \n",
       "10773                 0            NaN             71.0  \n",
       "5807                  3           80.0             38.0  \n",
       "5246                  0            NaN            540.0  \n",
       "17857                 0            NaN             73.0  \n",
       "4876                  0            NaN             28.0  \n",
       "20478                 3          449.0            429.0  \n",
       "21824                 0            NaN              NaN  \n",
       "22938                 0            NaN             27.0  \n",
       "21377                 0            NaN             61.0  \n",
       "3148                  0            NaN              NaN  \n",
       "22336                 3          511.0              NaN  \n",
       "22869                 3           30.0             19.0  \n",
       "\n",
       "[26 rows x 22 columns]"
      ]
     },
     "execution_count": 20,
     "metadata": {},
     "output_type": "execute_result"
    }
   ],
   "source": [
    "data['ceiling_height'].sort_values()\n",
    "data[data['ceiling_height'] > 8].sort_values('ceiling_height').head(30)\n"
   ]
  },
  {
   "cell_type": "markdown",
   "metadata": {},
   "source": [
    "Аномальный значения высоты потолков, решил заменить медианой."
   ]
  },
  {
   "cell_type": "code",
   "execution_count": 21,
   "metadata": {},
   "outputs": [],
   "source": [
    "data.loc[data['ceiling_height'] > 8, 'ceiling_height'] = data['ceiling_height'].median()"
   ]
  },
  {
   "cell_type": "markdown",
   "metadata": {},
   "source": [
    "Проверим, что получилось."
   ]
  },
  {
   "cell_type": "code",
   "execution_count": 22,
   "metadata": {},
   "outputs": [
    {
     "data": {
      "text/plain": [
       "(0.0, 3.0)"
      ]
     },
     "execution_count": 22,
     "metadata": {},
     "output_type": "execute_result"
    },
    {
     "data": {
      "image/png": "[encoded data removed]",
      "text/plain": [
       "<Figure size 432x288 with 1 Axes>"
      ]
     },
     "metadata": {
      "needs_background": "light"
     },
     "output_type": "display_data"
    }
   ],
   "source": [
    "sns.boxplot(data=data['ceiling_height'], orient=\"h\")\n",
    "plt.title(\"Распределение по высоте потолков\")\n",
    "plt.xlabel(\"Высота\")\n",
    "plt.xlim(0, 3)\n"
   ]
  },
  {
   "cell_type": "markdown",
   "metadata": {},
   "source": [
    "Потолок в 8 м., мне тоже кажется высоко, ну допустим в Питере я не был, мало ли."
   ]
  },
  {
   "cell_type": "markdown",
   "metadata": {},
   "source": [
    "Проверим на явные дубликаты."
   ]
  },
  {
   "cell_type": "code",
   "execution_count": 23,
   "metadata": {},
   "outputs": [
    {
     "data": {
      "text/plain": [
       "0"
      ]
     },
     "execution_count": 23,
     "metadata": {},
     "output_type": "execute_result"
    }
   ],
   "source": [
    "data.duplicated().sum()"
   ]
  },
  {
   "cell_type": "markdown",
   "metadata": {},
   "source": [
    "### Вывод:\n",
    "Данные довольно 'грязные', много пропущенных значений, есть аномальные значения, присутствуют  \n",
    "неявные дубликаты в названии населенных пунктов. Явных дубликатов не обнаруженно."
   ]
  },
  {
   "cell_type": "markdown",
   "metadata": {},
   "source": [
    "### Посчитайте и добавьте в таблицу новые столбцы"
   ]
  },
  {
   "cell_type": "markdown",
   "metadata": {},
   "source": [
    "Добавим столбец со стоимостью квадратного метра (sq_price) и приведем к типу int."
   ]
  },
  {
   "cell_type": "code",
   "execution_count": 24,
   "metadata": {},
   "outputs": [],
   "source": [
    "data['sq_price'] = data['last_price'] / data['total_area']\n",
    "data['sq_price'] = data['sq_price'].astype(int)"
   ]
  },
  {
   "cell_type": "markdown",
   "metadata": {},
   "source": [
    "Добавим столбцы дня недели, месяца и года"
   ]
  },
  {
   "cell_type": "code",
   "execution_count": 55,
   "metadata": {},
   "outputs": [],
   "source": [
    "data['weekday'] = data['first_day_exposition'].dt.weekday\n",
    "data['month'] = data['first_day_exposition'].dt.month\n",
    "data['year'] = data['first_day_exposition'].dt.year"
   ]
  },
  {
   "cell_type": "markdown",
   "metadata": {},
   "source": [
    "Создадим функцию для заполнения нового столбца по типу этажа квартиры."
   ]
  },
  {
   "cell_type": "code",
   "execution_count": 26,
   "metadata": {},
   "outputs": [],
   "source": [
    "def floor_category(row):\n",
    "    floors_total = row['floors_total']\n",
    "    floor = row['floor']\n",
    "    if floor == 1:\n",
    "        return 'первый'\n",
    "    elif floor == floors_total:\n",
    "        return 'последний'\n",
    "    elif 1 < floor < floors_total:\n",
    "        return 'другой' \n",
    "data['floor_category'] = data.apply(floor_category, axis = 1)"
   ]
  },
  {
   "cell_type": "markdown",
   "metadata": {},
   "source": [
    "Посчитаем и добавим в таблицу: расстояние в км до центра города и округлим до целых значений."
   ]
  },
  {
   "cell_type": "markdown",
   "metadata": {},
   "source": [
    "### Проведите исследовательский анализ данных"
   ]
  },
  {
   "cell_type": "markdown",
   "metadata": {},
   "source": [
    "Изучим и опишем общую площадь."
   ]
  },
  {
   "cell_type": "code",
   "execution_count": 27,
   "metadata": {},
   "outputs": [
    {
     "data": {
      "image/png": "[encoded data removed]",
      "text/plain": [
       "<Figure size 432x288 with 1 Axes>"
      ]
     },
     "metadata": {
      "needs_background": "light"
     },
     "output_type": "display_data"
    },
    {
     "data": {
      "text/plain": [
       "count    23565.000000\n",
       "mean        60.322824\n",
       "std         35.657060\n",
       "min         12.000000\n",
       "25%         40.000000\n",
       "50%         52.000000\n",
       "75%         69.700000\n",
       "max        900.000000\n",
       "Name: total_area, dtype: float64"
      ]
     },
     "execution_count": 27,
     "metadata": {},
     "output_type": "execute_result"
    }
   ],
   "source": [
    "plt.hist(data['total_area'], bins=30, range=(10,200))\n",
    "plt.title('Площадь квартир')\n",
    "plt.xlabel('Квадратные метры')\n",
    "plt.ylabel('Количество квартир')\n",
    "plt.show()\n",
    "\n",
    "data['total_area'].describe()\n"
   ]
  },
  {
   "cell_type": "markdown",
   "metadata": {},
   "source": [
    "Распределение данных нормальное, есть выбросы но они не сильно влияют на данные, большинство квартир до 100 кв м., пик приходится на 52 кв.м."
   ]
  },
  {
   "cell_type": "markdown",
   "metadata": {},
   "source": [
    "Изучим и опишем жилую площадь."
   ]
  },
  {
   "cell_type": "code",
   "execution_count": 28,
   "metadata": {},
   "outputs": [
    {
     "data": {
      "image/png": "[encoded data removed]",
      "text/plain": [
       "<Figure size 432x288 with 1 Axes>"
      ]
     },
     "metadata": {
      "needs_background": "light"
     },
     "output_type": "display_data"
    },
    {
     "data": {
      "text/plain": [
       "count    23565.000000\n",
       "mean        34.592277\n",
       "std         22.373679\n",
       "min          2.000000\n",
       "25%         19.000000\n",
       "50%         30.000000\n",
       "75%         42.100000\n",
       "max        409.700000\n",
       "Name: living_area, dtype: float64"
      ]
     },
     "execution_count": 28,
     "metadata": {},
     "output_type": "execute_result"
    }
   ],
   "source": [
    "plt.hist(data['living_area'], bins=70, range=(10,80))\n",
    "plt.title('Жилая площадь')\n",
    "plt.xlabel('Квадратные метры')\n",
    "plt.ylabel('Количество квартир')\n",
    "plt.show()\n",
    "data['living_area'].describe()"
   ]
  },
  {
   "cell_type": "markdown",
   "metadata": {},
   "source": [
    "Распределение нормальное, пик приходится на 30 кв.м., средняя площадь 34.6 кв.м."
   ]
  },
  {
   "cell_type": "markdown",
   "metadata": {},
   "source": [
    "Изучим и опишем площадь кухни."
   ]
  },
  {
   "cell_type": "code",
   "execution_count": 29,
   "metadata": {},
   "outputs": [
    {
     "data": {
      "image/png": "[encoded data removed]",
      "text/plain": [
       "<Figure size 432x288 with 1 Axes>"
      ]
     },
     "metadata": {
      "needs_background": "light"
     },
     "output_type": "display_data"
    },
    {
     "data": {
      "text/plain": [
       "count    23565.000000\n",
       "mean        10.499898\n",
       "std          6.037750\n",
       "min          1.300000\n",
       "25%          7.000000\n",
       "50%          9.000000\n",
       "75%         12.000000\n",
       "max        112.000000\n",
       "Name: kitchen_area, dtype: float64"
      ]
     },
     "execution_count": 29,
     "metadata": {},
     "output_type": "execute_result"
    }
   ],
   "source": [
    "plt.hist(data['kitchen_area'], bins=30, range=(0,30))\n",
    "plt.title('Площадь кухни')\n",
    "plt.xlabel('Квадратные метры')\n",
    "plt.ylabel('Количество квартир')\n",
    "plt.show()\n",
    "data['kitchen_area'].describe()"
   ]
  },
  {
   "cell_type": "markdown",
   "metadata": {},
   "source": [
    "Средняя площадь кухни составляет 10.49 кв.м., большинство кухонь размером 9 кв.м."
   ]
  },
  {
   "cell_type": "markdown",
   "metadata": {},
   "source": [
    "Изучим и опишем цену квартир."
   ]
  },
  {
   "cell_type": "code",
   "execution_count": 30,
   "metadata": {},
   "outputs": [
    {
     "data": {
      "image/png": "[encoded data removed]",
      "text/plain": [
       "<Figure size 432x288 with 1 Axes>"
      ]
     },
     "metadata": {
      "needs_background": "light"
     },
     "output_type": "display_data"
    },
    {
     "data": {
      "text/plain": [
       "count    2.356500e+04\n",
       "mean     6.540058e+06\n",
       "std      1.091093e+07\n",
       "min      1.219000e+04\n",
       "25%      3.400000e+06\n",
       "50%      4.646000e+06\n",
       "75%      6.790000e+06\n",
       "max      7.630000e+08\n",
       "Name: last_price, dtype: float64"
      ]
     },
     "execution_count": 30,
     "metadata": {},
     "output_type": "execute_result"
    }
   ],
   "source": [
    "plt.hist(data['last_price'], bins=30, range=(0,20000000))\n",
    "plt.title('Стоимость квартир')\n",
    "plt.xlabel('Стоимость')\n",
    "plt.ylabel('Количество квартир')\n",
    "plt.show()\n",
    "\n",
    "data['last_price'].describe()"
   ]
  },
  {
   "cell_type": "markdown",
   "metadata": {},
   "source": [
    "В среднем квартиры стоят 6.54 млн., пик стоимости 4.64 млн."
   ]
  },
  {
   "cell_type": "markdown",
   "metadata": {},
   "source": [
    "Изучим количество комнат."
   ]
  },
  {
   "cell_type": "code",
   "execution_count": 31,
   "metadata": {},
   "outputs": [
    {
     "data": {
      "image/png": "[encoded data removed]",
      "text/plain": [
       "<Figure size 432x288 with 1 Axes>"
      ]
     },
     "metadata": {
      "needs_background": "light"
     },
     "output_type": "display_data"
    },
    {
     "data": {
      "text/plain": [
       "count    23565.000000\n",
       "mean         2.070656\n",
       "std          1.078591\n",
       "min          0.000000\n",
       "25%          1.000000\n",
       "50%          2.000000\n",
       "75%          3.000000\n",
       "max         19.000000\n",
       "Name: rooms, dtype: float64"
      ]
     },
     "execution_count": 31,
     "metadata": {},
     "output_type": "execute_result"
    }
   ],
   "source": [
    "plt.hist(data['rooms'], bins=7, range=(1,7))\n",
    "plt.title('Комнаты')\n",
    "plt.xlabel('Количество комнат')\n",
    "plt.ylabel('Количество квартир')\n",
    "plt.show()\n",
    "data['rooms'].describe()"
   ]
  },
  {
   "cell_type": "markdown",
   "metadata": {},
   "source": [
    "Количество комнат колеблется от 1 до 19. Больше всего однокомнатных квартир."
   ]
  },
  {
   "cell_type": "markdown",
   "metadata": {},
   "source": [
    "Изучим высоту потолков."
   ]
  },
  {
   "cell_type": "code",
   "execution_count": 32,
   "metadata": {},
   "outputs": [
    {
     "data": {
      "image/png": "[encoded data removed]",
      "text/plain": [
       "<Figure size 432x288 with 1 Axes>"
      ]
     },
     "metadata": {
      "needs_background": "light"
     },
     "output_type": "display_data"
    },
    {
     "data": {
      "text/plain": [
       "count    23565.000000\n",
       "mean         2.697422\n",
       "std          0.229776\n",
       "min          1.000000\n",
       "25%          2.600000\n",
       "50%          2.650000\n",
       "75%          2.700000\n",
       "max          8.000000\n",
       "Name: ceiling_height, dtype: float64"
      ]
     },
     "execution_count": 32,
     "metadata": {},
     "output_type": "execute_result"
    }
   ],
   "source": [
    "plt.hist(data['ceiling_height'], bins=100, range=(0,8))\n",
    "plt.title('Высота потолков')\n",
    "plt.xlabel('Метры')\n",
    "plt.ylabel('Количество квартир')\n",
    "plt.show()\n",
    "data['ceiling_height'].describe()"
   ]
  },
  {
   "cell_type": "markdown",
   "metadata": {},
   "source": [
    "Высота потолков в среднем составляет 2,77 м, медиана 2,65 м."
   ]
  },
  {
   "cell_type": "markdown",
   "metadata": {},
   "source": [
    "Оценим этажи квартир."
   ]
  },
  {
   "cell_type": "code",
   "execution_count": 33,
   "metadata": {},
   "outputs": [
    {
     "data": {
      "image/png": "[encoded data removed]",
      "text/plain": [
       "<Figure size 432x288 with 1 Axes>"
      ]
     },
     "metadata": {
      "needs_background": "light"
     },
     "output_type": "display_data"
    },
    {
     "data": {
      "text/plain": [
       "count    23565.000000\n",
       "mean         5.878124\n",
       "std          4.871485\n",
       "min          1.000000\n",
       "25%          2.000000\n",
       "50%          4.000000\n",
       "75%          8.000000\n",
       "max         33.000000\n",
       "Name: floor, dtype: float64"
      ]
     },
     "execution_count": 33,
     "metadata": {},
     "output_type": "execute_result"
    }
   ],
   "source": [
    "plt.hist(data['floor'], bins=100, range=(0,20))\n",
    "plt.title('Этажи')\n",
    "plt.xlabel('Этаж')\n",
    "plt.ylabel('Количество квартир')\n",
    "plt.show()\n",
    "\n",
    "data['floor'].describe()"
   ]
  },
  {
   "cell_type": "markdown",
   "metadata": {},
   "source": [
    "Большинство квартир находится на 4 этаже."
   ]
  },
  {
   "cell_type": "markdown",
   "metadata": {},
   "source": [
    "Изучим тип этажа квартир («первый», «последний», «другой»)"
   ]
  },
  {
   "cell_type": "code",
   "execution_count": 34,
   "metadata": {},
   "outputs": [
    {
     "data": {
      "text/plain": [
       "другой       17326\n",
       "последний     3330\n",
       "первый        2909\n",
       "Name: floor_category, dtype: int64"
      ]
     },
     "execution_count": 34,
     "metadata": {},
     "output_type": "execute_result"
    },
    {
     "data": {
      "image/png": "[encoded data removed]",
      "text/plain": [
       "<Figure size 432x288 with 1 Axes>"
      ]
     },
     "metadata": {
      "needs_background": "light"
     },
     "output_type": "display_data"
    }
   ],
   "source": [
    "data['floor_category'].hist()\n",
    "data['floor_category'].value_counts()\n"
   ]
  },
  {
   "cell_type": "markdown",
   "metadata": {},
   "source": [
    "Как и ожидал, большинство квартир расположены между первым и последним этажом) "
   ]
  },
  {
   "cell_type": "markdown",
   "metadata": {},
   "source": [
    "Изучим общее количество этажей в домах."
   ]
  },
  {
   "cell_type": "code",
   "execution_count": 35,
   "metadata": {},
   "outputs": [
    {
     "data": {
      "text/plain": [
       "count    23565.000000\n",
       "mean        10.675875\n",
       "std          6.594823\n",
       "min          1.000000\n",
       "25%          5.000000\n",
       "50%          9.000000\n",
       "75%         16.000000\n",
       "max         60.000000\n",
       "Name: floors_total, dtype: float64"
      ]
     },
     "execution_count": 35,
     "metadata": {},
     "output_type": "execute_result"
    },
    {
     "data": {
      "image/png": "[encoded data removed]",
      "text/plain": [
       "<Figure size 360x216 with 1 Axes>"
      ]
     },
     "metadata": {
      "needs_background": "light"
     },
     "output_type": "display_data"
    }
   ],
   "source": [
    "data.plot(y = 'floors_total', kind = 'hist', bins = 20, range = (1,30), grid=True, figsize = (5,3))\n",
    "data['floors_total'].describe()\n"
   ]
  },
  {
   "cell_type": "markdown",
   "metadata": {},
   "source": [
    "Большинство зданий 5  и 9 этажные."
   ]
  },
  {
   "cell_type": "markdown",
   "metadata": {},
   "source": [
    "Изучим расстояние до центра города."
   ]
  },
  {
   "cell_type": "code",
   "execution_count": 36,
   "metadata": {},
   "outputs": [
    {
     "data": {
      "text/plain": [
       "count    18064.000000\n",
       "mean     14192.656056\n",
       "std       8613.348153\n",
       "min        181.000000\n",
       "25%       9238.000000\n",
       "50%      13096.500000\n",
       "75%      16285.000000\n",
       "max      65968.000000\n",
       "Name: cityCenters_nearest, dtype: float64"
      ]
     },
     "execution_count": 36,
     "metadata": {},
     "output_type": "execute_result"
    },
    {
     "data": {
      "image/png": "[encoded data removed]",
      "text/plain": [
       "<Figure size 360x216 with 1 Axes>"
      ]
     },
     "metadata": {
      "needs_background": "light"
     },
     "output_type": "display_data"
    }
   ],
   "source": [
    "data.plot(y = 'cityCenters_nearest', kind = 'hist', bins = 100, range = (1,5000), grid=True, figsize = (5,3))\n",
    "data['cityCenters_nearest'].describe()"
   ]
  },
  {
   "cell_type": "markdown",
   "metadata": {},
   "source": [
    "Большинство домов расположены в пределах 13 км от центра города."
   ]
  },
  {
   "cell_type": "markdown",
   "metadata": {},
   "source": [
    "Изучим расстояние до ближайшего аэропорта."
   ]
  },
  {
   "cell_type": "code",
   "execution_count": 37,
   "metadata": {},
   "outputs": [
    {
     "data": {
      "text/plain": [
       "count    18041.000000\n",
       "mean     28797.082701\n",
       "std      12632.499735\n",
       "min          0.000000\n",
       "25%      18565.000000\n",
       "50%      26757.000000\n",
       "75%      37273.000000\n",
       "max      84869.000000\n",
       "Name: airports_nearest, dtype: float64"
      ]
     },
     "execution_count": 37,
     "metadata": {},
     "output_type": "execute_result"
    },
    {
     "data": {
      "image/png": "[encoded data removed]",
      "text/plain": [
       "<Figure size 360x216 with 1 Axes>"
      ]
     },
     "metadata": {
      "needs_background": "light"
     },
     "output_type": "display_data"
    }
   ],
   "source": [
    "data.plot(y = 'airports_nearest', kind = 'hist', bins = 100, range = (1,50000), grid=True, figsize = (5,3))\n",
    "data['airports_nearest'].describe()"
   ]
  },
  {
   "cell_type": "markdown",
   "metadata": {},
   "source": [
    "Большинство квартир расположены на расстоянии 26,7 км"
   ]
  },
  {
   "cell_type": "markdown",
   "metadata": {},
   "source": [
    "Изучим расстояние расстояние до ближайшего парка."
   ]
  },
  {
   "cell_type": "code",
   "execution_count": 38,
   "metadata": {},
   "outputs": [
    {
     "data": {
      "text/plain": [
       "count    8030.000000\n",
       "mean      490.580448\n",
       "std       341.572956\n",
       "min         1.000000\n",
       "25%       288.000000\n",
       "50%       455.000000\n",
       "75%       612.000000\n",
       "max      3190.000000\n",
       "Name: parks_nearest, dtype: float64"
      ]
     },
     "execution_count": 38,
     "metadata": {},
     "output_type": "execute_result"
    },
    {
     "data": {
      "image/png": "[encoded data removed]",
      "text/plain": [
       "<Figure size 360x216 with 1 Axes>"
      ]
     },
     "metadata": {
      "needs_background": "light"
     },
     "output_type": "display_data"
    }
   ],
   "source": [
    "data.plot(y = 'parks_nearest', kind = 'hist', bins = 100, range = (1,1000), grid=True, figsize = (5,3))\n",
    "data['parks_nearest'].describe()"
   ]
  },
  {
   "cell_type": "markdown",
   "metadata": {},
   "source": [
    "У большинства квартир парк находится на расстоянии 450 м."
   ]
  },
  {
   "cell_type": "markdown",
   "metadata": {},
   "source": [
    "Посмотрим на день, месяц и год публикации объявления"
   ]
  },
  {
   "cell_type": "code",
   "execution_count": 39,
   "metadata": {},
   "outputs": [
    {
     "data": {
      "text/plain": [
       "count    23565.000000\n",
       "mean      2017.371016\n",
       "std          1.037393\n",
       "min       2014.000000\n",
       "25%       2017.000000\n",
       "50%       2017.000000\n",
       "75%       2018.000000\n",
       "max       2019.000000\n",
       "Name: year, dtype: float64"
      ]
     },
     "execution_count": 39,
     "metadata": {},
     "output_type": "execute_result"
    },
    {
     "data": {
      "image/png": "[encoded data removed]",
      "text/plain": [
       "<Figure size 432x288 with 1 Axes>"
      ]
     },
     "metadata": {
      "needs_background": "light"
     },
     "output_type": "display_data"
    }
   ],
   "source": [
    "data['year'].hist(bins=100, range=(2014,2019))\n",
    "data['year'].describe()\n"
   ]
  },
  {
   "cell_type": "markdown",
   "metadata": {},
   "source": [
    "Большинство обьявлений выложены на сайте 2018 и 2017."
   ]
  },
  {
   "cell_type": "code",
   "execution_count": 40,
   "metadata": {},
   "outputs": [
    {
     "data": {
      "text/plain": [
       "count    23565.000000\n",
       "mean         2.567367\n",
       "std          1.788279\n",
       "min          0.000000\n",
       "25%          1.000000\n",
       "50%          3.000000\n",
       "75%          4.000000\n",
       "max          6.000000\n",
       "Name: weekday, dtype: float64"
      ]
     },
     "execution_count": 40,
     "metadata": {},
     "output_type": "execute_result"
    },
    {
     "data": {
      "image/png": "[encoded data removed]",
      "text/plain": [
       "<Figure size 432x288 with 1 Axes>"
      ]
     },
     "metadata": {
      "needs_background": "light"
     },
     "output_type": "display_data"
    }
   ],
   "source": [
    "data['weekday'].hist(bins=100, range=(0,6))\n",
    "data['weekday'].describe()"
   ]
  },
  {
   "cell_type": "markdown",
   "metadata": {},
   "source": [
    "В основном обьявления выкладывались в будни."
   ]
  },
  {
   "cell_type": "code",
   "execution_count": 41,
   "metadata": {},
   "outputs": [
    {
     "data": {
      "text/plain": [
       "count    23565.000000\n",
       "mean         6.401570\n",
       "std          3.492948\n",
       "min          1.000000\n",
       "25%          3.000000\n",
       "50%          6.000000\n",
       "75%         10.000000\n",
       "max         12.000000\n",
       "Name: month, dtype: float64"
      ]
     },
     "execution_count": 41,
     "metadata": {},
     "output_type": "execute_result"
    },
    {
     "data": {
      "image/png": "[encoded data removed]",
      "text/plain": [
       "<Figure size 432x288 with 1 Axes>"
      ]
     },
     "metadata": {
      "needs_background": "light"
     },
     "output_type": "display_data"
    }
   ],
   "source": [
    "data['month'].hist(bins=100, range=(0,12))\n",
    "data['month'].describe()\n"
   ]
  },
  {
   "cell_type": "markdown",
   "metadata": {},
   "source": [
    "В основном зимой выкладывалтсь обьявления, летом активность снижается"
   ]
  },
  {
   "cell_type": "markdown",
   "metadata": {},
   "source": [
    "### Определение факторов, влияющих на стоимость квартиры  \n",
    "Начнем с общей площади.  "
   ]
  },
  {
   "cell_type": "code",
   "execution_count": 42,
   "metadata": {},
   "outputs": [
    {
     "data": {
      "text/plain": [
       "0.6536213939252808"
      ]
     },
     "execution_count": 42,
     "metadata": {},
     "output_type": "execute_result"
    },
    {
     "data": {
      "image/png": "[encoded data removed]",
      "text/plain": [
       "<Figure size 360x360 with 1 Axes>"
      ]
     },
     "metadata": {
      "needs_background": "light"
     },
     "output_type": "display_data"
    }
   ],
   "source": [
    "data.plot( kind='scatter',x= 'total_area', y='last_price', grid=True, style='o', figsize=(5, 5))\n",
    "\n",
    "data['total_area'].corr(data['last_price'])\n"
   ]
  },
  {
   "cell_type": "markdown",
   "metadata": {},
   "source": [
    "Жилая площадь"
   ]
  },
  {
   "cell_type": "code",
   "execution_count": 43,
   "metadata": {},
   "outputs": [
    {
     "data": {
      "text/plain": [
       "0.5856800396382067"
      ]
     },
     "execution_count": 43,
     "metadata": {},
     "output_type": "execute_result"
    },
    {
     "data": {
      "image/png": "[encoded data removed]",
      "text/plain": [
       "<Figure size 360x360 with 1 Axes>"
      ]
     },
     "metadata": {
      "needs_background": "light"
     },
     "output_type": "display_data"
    }
   ],
   "source": [
    "data.plot( kind='scatter',x= 'living_area', y='last_price', grid=True, style='o', figsize=(5, 5))\n",
    "\n",
    "data['living_area'].corr(data['last_price'])\n"
   ]
  },
  {
   "cell_type": "markdown",
   "metadata": {},
   "source": [
    "Зависимость меньше чем от общей площади, но так же чем больше жилая площадь, тем дороже"
   ]
  },
  {
   "cell_type": "markdown",
   "metadata": {},
   "source": [
    "Зависимость цены от площади кухни"
   ]
  },
  {
   "cell_type": "code",
   "execution_count": 44,
   "metadata": {},
   "outputs": [
    {
     "data": {
      "text/plain": [
       "0.5145308032223361"
      ]
     },
     "execution_count": 44,
     "metadata": {},
     "output_type": "execute_result"
    },
    {
     "data": {
      "image/png": "[encoded data removed]",
      "text/plain": [
       "<Figure size 360x360 with 1 Axes>"
      ]
     },
     "metadata": {
      "needs_background": "light"
     },
     "output_type": "display_data"
    }
   ],
   "source": [
    "data.plot( kind='scatter',x= 'kitchen_area', y='last_price', grid=True, style='o', figsize=(5, 5))\n",
    "\n",
    "data['kitchen_area'].corr(data['last_price'])"
   ]
  },
  {
   "cell_type": "markdown",
   "metadata": {},
   "source": [
    "Корреляция еще меньше, чем у жилой площади."
   ]
  },
  {
   "cell_type": "markdown",
   "metadata": {},
   "source": [
    "Зависимость цены от количества комнат"
   ]
  },
  {
   "cell_type": "code",
   "execution_count": 45,
   "metadata": {},
   "outputs": [
    {
     "data": {
      "text/plain": [
       "0.3631905485065752"
      ]
     },
     "execution_count": 45,
     "metadata": {},
     "output_type": "execute_result"
    },
    {
     "data": {
      "image/png": "[encoded data removed]",
      "text/plain": [
       "<Figure size 360x360 with 1 Axes>"
      ]
     },
     "metadata": {
      "needs_background": "light"
     },
     "output_type": "display_data"
    }
   ],
   "source": [
    "data.plot( kind='scatter',x= 'rooms', y='last_price', grid=True, style='o', figsize=(5, 5))\n",
    "\n",
    "data['rooms'].corr(data['last_price'])"
   ]
  },
  {
   "cell_type": "markdown",
   "metadata": {},
   "source": [
    "Корреляция слабая, количество комнат не сильно влияют на цену."
   ]
  },
  {
   "cell_type": "markdown",
   "metadata": {},
   "source": [
    "Зависимость цены от типа этажа, на котором расположена квартира (первый, последний, другой);"
   ]
  },
  {
   "cell_type": "code",
   "execution_count": 46,
   "metadata": {},
   "outputs": [
    {
     "data": {
      "text/plain": [
       "<AxesSubplot:xlabel='floor_category', ylabel='last_price'>"
      ]
     },
     "execution_count": 46,
     "metadata": {},
     "output_type": "execute_result"
    },
    {
     "data": {
      "image/png": "[encoded data removed]",
      "text/plain": [
       "<Figure size 360x360 with 1 Axes>"
      ]
     },
     "metadata": {
      "needs_background": "light"
     },
     "output_type": "display_data"
    }
   ],
   "source": [
    "data.plot( kind='scatter',x= 'floor_category', y='last_price', grid=True, style='o', figsize=(5, 5))\n",
    "\n"
   ]
  },
  {
   "cell_type": "markdown",
   "metadata": {},
   "source": [
    "Первый этаж самый дешевый, последний подороже. Самы дорогие этаже между первым и последним."
   ]
  },
  {
   "cell_type": "markdown",
   "metadata": {},
   "source": [
    "Зависимость цены от даты размещения (день недели, месяц, год)"
   ]
  },
  {
   "cell_type": "code",
   "execution_count": 47,
   "metadata": {},
   "outputs": [
    {
     "data": {
      "image/png": "[encoded data removed]",
      "text/plain": [
       "<Figure size 360x360 with 1 Axes>"
      ]
     },
     "metadata": {
      "needs_background": "light"
     },
     "output_type": "display_data"
    },
    {
     "data": {
      "image/png": "[encoded data removed]",
      "text/plain": [
       "<Figure size 720x360 with 1 Axes>"
      ]
     },
     "metadata": {
      "needs_background": "light"
     },
     "output_type": "display_data"
    },
    {
     "data": {
      "image/png": "[encoded data removed]",
      "text/plain": [
       "<Figure size 360x360 with 1 Axes>"
      ]
     },
     "metadata": {
      "needs_background": "light"
     },
     "output_type": "display_data"
    }
   ],
   "source": [
    "(\n",
    "    data.pivot_table(index='weekday', values='last_price')\n",
    "    .plot(grid=True, style='o-', figsize=(5, 5))\n",
    ")\n",
    "plt.show()\n",
    "\n",
    "(\n",
    "    data.pivot_table(index='month', values='last_price')\n",
    "    .plot(grid=True, style='o-', xlim=(1,12), figsize=(10, 5))\n",
    ")\n",
    "plt.show()\n",
    "\n",
    "(\n",
    "    data.pivot_table(index='year', values='last_price')\n",
    "    .plot(grid=True, style='o-', figsize=(5, 5))\n",
    ")\n",
    "plt.show()"
   ]
  },
  {
   "cell_type": "markdown",
   "metadata": {},
   "source": [
    "Как видно на графике цены на квартиры падали до 2018 года, дальше пошел рост. Самые дорогие квартиры в декабре. Ну и квартиры опубликованные в субботу самые дорогие."
   ]
  },
  {
   "cell_type": "code",
   "execution_count": 48,
   "metadata": {},
   "outputs": [
    {
     "data": {
      "image/png": "[encoded data removed]",
      "text/plain": [
       "<Figure size 360x360 with 1 Axes>"
      ]
     },
     "metadata": {
      "needs_background": "light"
     },
     "output_type": "display_data"
    }
   ],
   "source": [
    "(\n",
    "    data.pivot_table(index='year', values='total_area')\n",
    "    .plot(grid=True, style='o-', figsize=(5, 5))\n",
    ")\n",
    "plt.show()"
   ]
  },
  {
   "cell_type": "markdown",
   "metadata": {},
   "source": [
    "Динамика цены и площади продаваемых квартир"
   ]
  },
  {
   "cell_type": "code",
   "execution_count": 49,
   "metadata": {},
   "outputs": [
    {
     "data": {
      "image/png": "[encoded data removed]",
      "text/plain": [
       "<Figure size 504x504 with 1 Axes>"
      ]
     },
     "metadata": {
      "needs_background": "light"
     },
     "output_type": "display_data"
    }
   ],
   "source": [
    "(\n",
    "    data.pivot_table(index='total_area', values=['last_price', 'year'])\n",
    "    .plot(grid=True, figsize=(7, 7))\n",
    ")\n",
    "plt.show()"
   ]
  },
  {
   "cell_type": "markdown",
   "metadata": {},
   "source": [
    "По графику можно отметить следующее, есть резкие подьемы и спады, но в целом цена растет по мере увеличения площади и с течением времени."
   ]
  },
  {
   "cell_type": "markdown",
   "metadata": {},
   "source": [
    "### Изучите время продажи квартиры. Постройте гистограмму. Посчитайте среднее и медиану. Опишите, сколько обычно занимает продажа. Когда можно считать, что продажи прошли очень быстро, а когда необычно долго?"
   ]
  },
  {
   "cell_type": "code",
   "execution_count": 50,
   "metadata": {},
   "outputs": [
    {
     "data": {
      "text/plain": [
       "(0.0, 1500.0)"
      ]
     },
     "execution_count": 50,
     "metadata": {},
     "output_type": "execute_result"
    },
    {
     "data": {
      "image/png": "[encoded data removed]",
      "text/plain": [
       "<Figure size 720x216 with 1 Axes>"
      ]
     },
     "metadata": {
      "needs_background": "light"
     },
     "output_type": "display_data"
    }
   ],
   "source": [
    "data['days_exposition'].hist(bins=100, figsize=(10, 3))\n",
    "plt.title(\"Время продажи квартир\")\n",
    "plt.ylabel(\"Колличество\")\n",
    "plt.xlabel(\"Дни\")\n",
    "plt.xlim(0, 1500)"
   ]
  },
  {
   "cell_type": "code",
   "execution_count": 51,
   "metadata": {},
   "outputs": [
    {
     "data": {
      "text/plain": [
       "Text(0.5, 0, 'Дни')"
      ]
     },
     "execution_count": 51,
     "metadata": {},
     "output_type": "execute_result"
    },
    {
     "data": {
      "image/png": "[encoded data removed]",
      "text/plain": [
       "<Figure size 432x288 with 1 Axes>"
      ]
     },
     "metadata": {
      "needs_background": "light"
     },
     "output_type": "display_data"
    }
   ],
   "source": [
    "sns.boxplot(data=data['days_exposition'], orient=\"h\")\n",
    "plt.xlim(0, 600)\n",
    "plt.title(\"Время продажи квартир\")\n",
    "plt.xlabel(\"Дни\")"
   ]
  },
  {
   "cell_type": "code",
   "execution_count": 52,
   "metadata": {},
   "outputs": [
    {
     "data": {
      "text/plain": [
       "count    20394.000000\n",
       "mean       180.741395\n",
       "std        219.732782\n",
       "min          1.000000\n",
       "25%         45.000000\n",
       "50%         95.000000\n",
       "75%        231.000000\n",
       "max       1580.000000\n",
       "Name: days_exposition, dtype: float64"
      ]
     },
     "execution_count": 52,
     "metadata": {},
     "output_type": "execute_result"
    }
   ],
   "source": [
    "data['days_exposition'].describe()"
   ]
  },
  {
   "cell_type": "markdown",
   "metadata": {},
   "source": [
    "Судя по полученным данным, продажа в среднем занимает 95 дней. Если квартира продана за 45 дней считайте, это очень хорошо (возможно вы оценили квартиру ниже рынка, надо не забыть это проверить) Если же квартира не продалась за 231 дней, то что-то не так, это слишком долго."
   ]
  },
  {
   "cell_type": "markdown",
   "metadata": {},
   "source": [
    "### Посчитайте среднюю цену одного квадратного метра в 10 населённых пунктах с наибольшим числом объявлений. Выделите населённые пункты с самой высокой и низкой стоимостью квадратного метра. "
   ]
  },
  {
   "cell_type": "code",
   "execution_count": 53,
   "metadata": {},
   "outputs": [
    {
     "data": {
      "text/html": [
       "<div>\n",
       "<style scoped>\n",
       "    .dataframe tbody tr th:only-of-type {\n",
       "        vertical-align: middle;\n",
       "    }\n",
       "\n",
       "    .dataframe tbody tr th {\n",
       "        vertical-align: top;\n",
       "    }\n",
       "\n",
       "    .dataframe thead th {\n",
       "        text-align: right;\n",
       "    }\n",
       "</style>\n",
       "<table border=\"1\" class=\"dataframe\">\n",
       "  <thead>\n",
       "    <tr style=\"text-align: right;\">\n",
       "      <th></th>\n",
       "      <th>count</th>\n",
       "      <th>median</th>\n",
       "    </tr>\n",
       "    <tr>\n",
       "      <th>locality_name</th>\n",
       "      <th></th>\n",
       "      <th></th>\n",
       "    </tr>\n",
       "  </thead>\n",
       "  <tbody>\n",
       "    <tr>\n",
       "      <th>Санкт-Петербург</th>\n",
       "      <td>15651</td>\n",
       "      <td>104774.0</td>\n",
       "    </tr>\n",
       "    <tr>\n",
       "      <th>посёлок Мурино</th>\n",
       "      <td>586</td>\n",
       "      <td>86249.5</td>\n",
       "    </tr>\n",
       "    <tr>\n",
       "      <th>посёлок Шушары</th>\n",
       "      <td>439</td>\n",
       "      <td>76829.0</td>\n",
       "    </tr>\n",
       "    <tr>\n",
       "      <th>Всеволожск</th>\n",
       "      <td>398</td>\n",
       "      <td>65789.0</td>\n",
       "    </tr>\n",
       "    <tr>\n",
       "      <th>Пушкин</th>\n",
       "      <td>369</td>\n",
       "      <td>100000.0</td>\n",
       "    </tr>\n",
       "    <tr>\n",
       "      <th>Колпино</th>\n",
       "      <td>338</td>\n",
       "      <td>74723.5</td>\n",
       "    </tr>\n",
       "    <tr>\n",
       "      <th>посёлок Парголово</th>\n",
       "      <td>327</td>\n",
       "      <td>91642.0</td>\n",
       "    </tr>\n",
       "    <tr>\n",
       "      <th>Гатчина</th>\n",
       "      <td>307</td>\n",
       "      <td>67796.0</td>\n",
       "    </tr>\n",
       "    <tr>\n",
       "      <th>деревня Кудрово</th>\n",
       "      <td>299</td>\n",
       "      <td>91860.0</td>\n",
       "    </tr>\n",
       "    <tr>\n",
       "      <th>Выборг</th>\n",
       "      <td>237</td>\n",
       "      <td>58158.0</td>\n",
       "    </tr>\n",
       "  </tbody>\n",
       "</table>\n",
       "</div>"
      ],
      "text/plain": [
       "                   count    median\n",
       "locality_name                     \n",
       "Санкт-Петербург    15651  104774.0\n",
       "посёлок Мурино       586   86249.5\n",
       "посёлок Шушары       439   76829.0\n",
       "Всеволожск           398   65789.0\n",
       "Пушкин               369  100000.0\n",
       "Колпино              338   74723.5\n",
       "посёлок Парголово    327   91642.0\n",
       "Гатчина              307   67796.0\n",
       "деревня Кудрово      299   91860.0\n",
       "Выборг               237   58158.0"
      ]
     },
     "execution_count": 53,
     "metadata": {},
     "output_type": "execute_result"
    }
   ],
   "source": [
    "data_pivot_locality_name = data.pivot_table(index='locality_name', values='sq_price', aggfunc=['count', 'median'])\n",
    "data_pivot_locality_name.columns = ['count', 'median']\n",
    "data_pivot_locality_name.sort_values('count', ascending=False).head(10)"
   ]
  },
  {
   "cell_type": "markdown",
   "metadata": {},
   "source": [
    "Самое дорогое жилье и больше всего предложений в Санкт-Петербурге, а самое дешевое и меньше всего предложений в Выборге."
   ]
  },
  {
   "cell_type": "markdown",
   "metadata": {},
   "source": [
    "### Выделите квартиры в Санкт-Петербурге с помощью столбца locality_name и вычислите среднюю цену каждого километра. "
   ]
  },
  {
   "cell_type": "code",
   "execution_count": 54,
   "metadata": {},
   "outputs": [
    {
     "data": {
      "image/png": "[encoded data removed]",
      "text/plain": [
       "<Figure size 720x360 with 1 Axes>"
      ]
     },
     "metadata": {
      "needs_background": "light"
     },
     "output_type": "display_data"
    },
    {
     "data": {
      "text/plain": [
       "count    2.356500e+04\n",
       "mean     2.292455e-06\n",
       "std      5.514389e-06\n",
       "min      0.000000e+00\n",
       "25%      1.055409e-07\n",
       "50%      1.739130e-06\n",
       "75%      3.200000e-06\n",
       "max      7.383101e-04\n",
       "dtype: float64"
      ]
     },
     "execution_count": 54,
     "metadata": {},
     "output_type": "execute_result"
    }
   ],
   "source": [
    "\n",
    "data['center_km'] = data['cityCenters_nearest'] / 1000\n",
    "data['center_km'] = data['center_km'].fillna(value=0).astype(int)\n",
    "(\n",
    "    data.query('locality_name == \"Санкт-Петербург\"')\n",
    "    .pivot_table(index='center_km', values='last_price')\n",
    "    .plot(grid=True, style='o-', xlim=(0,15), figsize=(10, 5), title = 'Заголовок')\n",
    ");\n",
    "plt.show()\n",
    "km_cost = data['center_km']/data['last_price']\n",
    "km_cost.describe()"
   ]
  },
  {
   "cell_type": "markdown",
   "metadata": {},
   "source": [
    "Судя по графику отдаляясь от центра квартиры дешевеют, в районе 7 км. идет обвал цен, судя по всему на этом центр Санкт-Петербурга заканчивается. Средняя цена за километр в Санкт-Петербурге составляет 2.29 млн."
   ]
  },
  {
   "cell_type": "markdown",
   "metadata": {},
   "source": [
    "### Общий вывод"
   ]
  },
  {
   "cell_type": "markdown",
   "metadata": {},
   "source": [
    "В наших данных средняя площадь квартир составляет 60 кв.м.  \n",
    "Больше всего однокомнатных квартир.  \n",
    "Большинство зданий 5 и 9 этажные.  \n",
    "Цена квартир зависит от площади, расстоянии до центра. Первый этаж значительно дешевле остальных вариантов.    \n",
    "Судя по полученным данным, продажа в среднем занимает 95 дней. Если квартира продана за 45 дней считайте, это очень хорошо. Если же квартира не продалась за 231 дней, то что-то не так, это слишком долго.Есть большое число квартир, проданных всего за несколько дней после публикации. Также есть варианты, которые продавались несколько десятков месяцев.  \n",
    "Дороже всего квадратный метр в Санкт-Петербурге - 104774\n",
    "Дешевле всего квадратный метр в Выборге - 58158  \n",
    "Самые дорогие квартиры в Санкт Петербурге, находятся в радиусе 7 км от центра.\n",
    "\n",
    "\n",
    "\n"
   ]
  },
  {
   "cell_type": "markdown",
   "metadata": {},
   "source": []
  }
 ],
 "metadata": {
  "ExecuteTimeLog": [
   {
    "duration": 695,
    "start_time": "2023-02-27T07:29:06.762Z"
   },
   {
    "duration": 106,
    "start_time": "2023-02-28T10:13:46.172Z"
   },
   {
    "duration": 490,
    "start_time": "2023-02-28T10:14:48.822Z"
   },
   {
    "duration": 90,
    "start_time": "2023-02-28T10:15:12.498Z"
   },
   {
    "duration": 98,
    "start_time": "2023-02-28T14:43:56.020Z"
   },
   {
    "duration": 144,
    "start_time": "2023-02-28T14:44:09.086Z"
   },
   {
    "duration": 15,
    "start_time": "2023-02-28T14:45:28.483Z"
   },
   {
    "duration": 58,
    "start_time": "2023-02-28T14:52:19.185Z"
   },
   {
    "duration": 536,
    "start_time": "2023-02-28T14:52:28.040Z"
   },
   {
    "duration": 26,
    "start_time": "2023-02-28T14:52:30.244Z"
   },
   {
    "duration": 10,
    "start_time": "2023-02-28T14:52:34.046Z"
   },
   {
    "duration": 4,
    "start_time": "2023-02-28T14:53:01.562Z"
   },
   {
    "duration": 12,
    "start_time": "2023-02-28T14:54:20.951Z"
   },
   {
    "duration": 74,
    "start_time": "2023-02-28T14:54:34.137Z"
   },
   {
    "duration": 10,
    "start_time": "2023-02-28T14:55:13.399Z"
   },
   {
    "duration": 7,
    "start_time": "2023-02-28T14:55:37.502Z"
   },
   {
    "duration": 5,
    "start_time": "2023-02-28T14:56:00.842Z"
   },
   {
    "duration": 78,
    "start_time": "2023-02-28T14:56:15.538Z"
   },
   {
    "duration": 8,
    "start_time": "2023-02-28T14:56:32.172Z"
   },
   {
    "duration": 16,
    "start_time": "2023-02-28T14:56:53.120Z"
   },
   {
    "duration": 11,
    "start_time": "2023-02-28T14:57:17.476Z"
   },
   {
    "duration": 9,
    "start_time": "2023-02-28T14:57:37.284Z"
   },
   {
    "duration": 9,
    "start_time": "2023-02-28T14:58:06.640Z"
   },
   {
    "duration": 16,
    "start_time": "2023-02-28T14:58:32.887Z"
   },
   {
    "duration": 9,
    "start_time": "2023-02-28T14:58:59.187Z"
   },
   {
    "duration": 28,
    "start_time": "2023-02-28T15:02:00.469Z"
   },
   {
    "duration": 692,
    "start_time": "2023-02-28T15:02:23.965Z"
   },
   {
    "duration": 7,
    "start_time": "2023-02-28T15:03:12.241Z"
   },
   {
    "duration": 5,
    "start_time": "2023-02-28T15:04:44.028Z"
   },
   {
    "duration": 7,
    "start_time": "2023-02-28T15:05:19.919Z"
   },
   {
    "duration": 14,
    "start_time": "2023-02-28T15:05:36.605Z"
   },
   {
    "duration": 449,
    "start_time": "2023-02-28T15:05:57.540Z"
   },
   {
    "duration": 6,
    "start_time": "2023-02-28T15:06:29.878Z"
   },
   {
    "duration": 404,
    "start_time": "2023-02-28T15:06:47.359Z"
   },
   {
    "duration": 369,
    "start_time": "2023-02-28T15:08:02.487Z"
   },
   {
    "duration": 425,
    "start_time": "2023-02-28T15:08:39.866Z"
   },
   {
    "duration": 5,
    "start_time": "2023-02-28T15:09:30.297Z"
   },
   {
    "duration": 488,
    "start_time": "2023-02-28T15:10:16.294Z"
   },
   {
    "duration": 313,
    "start_time": "2023-02-28T15:26:57.360Z"
   },
   {
    "duration": 377,
    "start_time": "2023-02-28T15:28:47.756Z"
   },
   {
    "duration": 345,
    "start_time": "2023-02-28T15:30:01.146Z"
   },
   {
    "duration": 253,
    "start_time": "2023-02-28T15:33:27.687Z"
   },
   {
    "duration": 226,
    "start_time": "2023-02-28T15:35:06.086Z"
   },
   {
    "duration": 209,
    "start_time": "2023-02-28T15:39:07.895Z"
   },
   {
    "duration": 201,
    "start_time": "2023-02-28T15:40:01.450Z"
   },
   {
    "duration": 194,
    "start_time": "2023-02-28T15:40:13.457Z"
   },
   {
    "duration": 47,
    "start_time": "2023-02-28T15:44:14.597Z"
   },
   {
    "duration": 12,
    "start_time": "2023-02-28T15:44:50.088Z"
   },
   {
    "duration": 17,
    "start_time": "2023-02-28T15:45:38.980Z"
   },
   {
    "duration": 9,
    "start_time": "2023-02-28T15:46:06.092Z"
   },
   {
    "duration": 9,
    "start_time": "2023-02-28T15:47:52.492Z"
   },
   {
    "duration": 6,
    "start_time": "2023-02-28T15:49:37.333Z"
   },
   {
    "duration": 9,
    "start_time": "2023-02-28T15:50:16.345Z"
   },
   {
    "duration": 4,
    "start_time": "2023-02-28T15:52:46.437Z"
   },
   {
    "duration": 10,
    "start_time": "2023-02-28T15:53:09.529Z"
   },
   {
    "duration": 7,
    "start_time": "2023-02-28T15:56:49.821Z"
   },
   {
    "duration": 460,
    "start_time": "2023-02-28T15:58:35.213Z"
   },
   {
    "duration": 247,
    "start_time": "2023-02-28T16:01:25.157Z"
   },
   {
    "duration": 457,
    "start_time": "2023-02-28T16:02:21.788Z"
   },
   {
    "duration": 211,
    "start_time": "2023-02-28T16:02:30.671Z"
   },
   {
    "duration": 222,
    "start_time": "2023-02-28T16:05:21.476Z"
   },
   {
    "duration": 79,
    "start_time": "2023-02-28T16:06:01.019Z"
   },
   {
    "duration": 59,
    "start_time": "2023-03-02T04:59:04.027Z"
   },
   {
    "duration": 541,
    "start_time": "2023-03-02T04:59:18.495Z"
   },
   {
    "duration": 14,
    "start_time": "2023-03-02T04:59:21.926Z"
   },
   {
    "duration": 8,
    "start_time": "2023-03-02T04:59:24.452Z"
   },
   {
    "duration": 4,
    "start_time": "2023-03-02T04:59:25.179Z"
   },
   {
    "duration": 7,
    "start_time": "2023-03-02T04:59:25.825Z"
   },
   {
    "duration": 7,
    "start_time": "2023-03-02T04:59:26.506Z"
   },
   {
    "duration": 5,
    "start_time": "2023-03-02T04:59:27.162Z"
   },
   {
    "duration": 5,
    "start_time": "2023-03-02T04:59:27.871Z"
   },
   {
    "duration": 5,
    "start_time": "2023-03-02T04:59:28.539Z"
   },
   {
    "duration": 12,
    "start_time": "2023-03-02T04:59:29.138Z"
   },
   {
    "duration": 8,
    "start_time": "2023-03-02T04:59:29.724Z"
   },
   {
    "duration": 4,
    "start_time": "2023-03-02T04:59:30.227Z"
   },
   {
    "duration": 6,
    "start_time": "2023-03-02T04:59:30.743Z"
   },
   {
    "duration": 8,
    "start_time": "2023-03-02T04:59:31.203Z"
   },
   {
    "duration": 7,
    "start_time": "2023-03-02T04:59:31.784Z"
   },
   {
    "duration": 20,
    "start_time": "2023-03-02T04:59:32.423Z"
   },
   {
    "duration": 645,
    "start_time": "2023-03-02T04:59:33.376Z"
   },
   {
    "duration": 6,
    "start_time": "2023-03-02T04:59:34.122Z"
   },
   {
    "duration": 6,
    "start_time": "2023-03-02T04:59:35.227Z"
   },
   {
    "duration": 13,
    "start_time": "2023-03-02T04:59:35.740Z"
   },
   {
    "duration": 320,
    "start_time": "2023-03-02T04:59:36.383Z"
   },
   {
    "duration": 6,
    "start_time": "2023-03-02T04:59:37.035Z"
   },
   {
    "duration": 283,
    "start_time": "2023-03-02T04:59:37.945Z"
   },
   {
    "duration": 258,
    "start_time": "2023-03-02T04:59:39.517Z"
   },
   {
    "duration": 282,
    "start_time": "2023-03-02T04:59:40.563Z"
   },
   {
    "duration": 287,
    "start_time": "2023-03-02T04:59:42.274Z"
   },
   {
    "duration": 183,
    "start_time": "2023-03-02T04:59:43.607Z"
   },
   {
    "duration": 182,
    "start_time": "2023-03-02T04:59:45.153Z"
   },
   {
    "duration": 247,
    "start_time": "2023-03-02T04:59:47.213Z"
   },
   {
    "duration": 7,
    "start_time": "2023-03-02T04:59:48.790Z"
   },
   {
    "duration": 173,
    "start_time": "2023-03-02T04:59:50.527Z"
   },
   {
    "duration": 159,
    "start_time": "2023-03-02T04:59:53.676Z"
   },
   {
    "duration": 174,
    "start_time": "2023-03-02T05:00:17.981Z"
   },
   {
    "duration": 283,
    "start_time": "2023-03-02T05:00:29.139Z"
   },
   {
    "duration": 294,
    "start_time": "2023-03-02T05:00:37.958Z"
   },
   {
    "duration": 1859,
    "start_time": "2023-03-02T07:28:38.035Z"
   },
   {
    "duration": 27,
    "start_time": "2023-03-02T07:28:39.896Z"
   },
   {
    "duration": 99,
    "start_time": "2023-03-02T07:28:39.925Z"
   },
   {
    "duration": 48,
    "start_time": "2023-03-02T07:28:40.030Z"
   },
   {
    "duration": 23,
    "start_time": "2023-03-02T07:28:40.081Z"
   },
   {
    "duration": 75,
    "start_time": "2023-03-02T07:28:40.108Z"
   },
   {
    "duration": 21,
    "start_time": "2023-03-02T07:28:40.185Z"
   },
   {
    "duration": 73,
    "start_time": "2023-03-02T07:28:40.209Z"
   },
   {
    "duration": 15,
    "start_time": "2023-03-02T07:28:40.284Z"
   },
   {
    "duration": 64,
    "start_time": "2023-03-02T07:28:40.302Z"
   },
   {
    "duration": 31,
    "start_time": "2023-03-02T07:28:40.367Z"
   },
   {
    "duration": 83,
    "start_time": "2023-03-02T07:28:40.400Z"
   },
   {
    "duration": 18,
    "start_time": "2023-03-02T07:28:40.485Z"
   },
   {
    "duration": 87,
    "start_time": "2023-03-02T07:28:40.508Z"
   },
   {
    "duration": 15,
    "start_time": "2023-03-02T07:28:40.600Z"
   },
   {
    "duration": 97,
    "start_time": "2023-03-02T07:28:40.618Z"
   },
   {
    "duration": 1068,
    "start_time": "2023-03-02T07:28:40.717Z"
   },
   {
    "duration": 25,
    "start_time": "2023-03-02T07:28:41.787Z"
   },
   {
    "duration": 63,
    "start_time": "2023-03-02T07:28:41.823Z"
   },
   {
    "duration": 36,
    "start_time": "2023-03-02T07:28:41.896Z"
   },
   {
    "duration": 818,
    "start_time": "2023-03-02T07:28:41.938Z"
   },
   {
    "duration": 5,
    "start_time": "2023-03-02T07:28:42.759Z"
   },
   {
    "duration": 493,
    "start_time": "2023-03-02T07:28:42.767Z"
   },
   {
    "duration": 507,
    "start_time": "2023-03-02T07:28:43.276Z"
   },
   {
    "duration": 534,
    "start_time": "2023-03-02T07:28:43.791Z"
   },
   {
    "duration": 404,
    "start_time": "2023-03-02T07:28:44.331Z"
   },
   {
    "duration": 361,
    "start_time": "2023-03-02T07:28:44.742Z"
   },
   {
    "duration": 373,
    "start_time": "2023-03-02T07:28:45.110Z"
   },
   {
    "duration": 429,
    "start_time": "2023-03-02T07:28:45.489Z"
   },
   {
    "duration": 23,
    "start_time": "2023-03-02T07:28:45.923Z"
   },
   {
    "duration": 441,
    "start_time": "2023-03-02T07:28:45.949Z"
   },
   {
    "duration": 736,
    "start_time": "2023-03-02T07:28:46.392Z"
   },
   {
    "duration": 154,
    "start_time": "2023-03-02T07:40:16.049Z"
   },
   {
    "duration": 118,
    "start_time": "2023-03-02T07:41:48.486Z"
   },
   {
    "duration": 799,
    "start_time": "2023-03-02T07:42:16.814Z"
   },
   {
    "duration": 50,
    "start_time": "2023-03-02T07:42:25.023Z"
   },
   {
    "duration": 21,
    "start_time": "2023-03-02T07:42:44.225Z"
   },
   {
    "duration": 25,
    "start_time": "2023-03-02T07:43:07.886Z"
   },
   {
    "duration": 262,
    "start_time": "2023-03-02T07:44:29.152Z"
   },
   {
    "duration": 266,
    "start_time": "2023-03-02T07:50:21.008Z"
   },
   {
    "duration": 325,
    "start_time": "2023-03-02T07:52:04.365Z"
   },
   {
    "duration": 354,
    "start_time": "2023-03-02T07:54:45.308Z"
   },
   {
    "duration": 266,
    "start_time": "2023-03-02T07:55:24.610Z"
   },
   {
    "duration": 330,
    "start_time": "2023-03-02T07:57:04.255Z"
   },
   {
    "duration": 204,
    "start_time": "2023-03-02T07:57:51.665Z"
   },
   {
    "duration": 233,
    "start_time": "2023-03-02T08:00:16.676Z"
   },
   {
    "duration": 220,
    "start_time": "2023-03-02T08:01:08.159Z"
   },
   {
    "duration": 366,
    "start_time": "2023-03-02T08:01:30.281Z"
   },
   {
    "duration": 454,
    "start_time": "2023-03-02T08:01:36.808Z"
   },
   {
    "duration": 417,
    "start_time": "2023-03-02T08:01:42.335Z"
   },
   {
    "duration": 542,
    "start_time": "2023-03-02T08:01:56.640Z"
   },
   {
    "duration": 390,
    "start_time": "2023-03-02T08:02:05.518Z"
   },
   {
    "duration": 385,
    "start_time": "2023-03-02T08:03:31.521Z"
   },
   {
    "duration": 295,
    "start_time": "2023-03-02T08:04:30.866Z"
   },
   {
    "duration": 474,
    "start_time": "2023-03-02T08:05:01.324Z"
   },
   {
    "duration": 630,
    "start_time": "2023-03-02T08:05:07.028Z"
   },
   {
    "duration": 440,
    "start_time": "2023-03-02T08:07:48.246Z"
   },
   {
    "duration": 163,
    "start_time": "2023-03-02T08:08:04.080Z"
   },
   {
    "duration": 13,
    "start_time": "2023-03-02T08:08:04.244Z"
   },
   {
    "duration": 7,
    "start_time": "2023-03-02T08:08:04.258Z"
   },
   {
    "duration": 5,
    "start_time": "2023-03-02T08:08:04.267Z"
   },
   {
    "duration": 12,
    "start_time": "2023-03-02T08:08:04.296Z"
   },
   {
    "duration": 37,
    "start_time": "2023-03-02T08:08:04.310Z"
   },
   {
    "duration": 6,
    "start_time": "2023-03-02T08:08:04.348Z"
   },
   {
    "duration": 6,
    "start_time": "2023-03-02T08:08:04.355Z"
   },
   {
    "duration": 4,
    "start_time": "2023-03-02T08:08:04.362Z"
   },
   {
    "duration": 10,
    "start_time": "2023-03-02T08:08:04.367Z"
   },
   {
    "duration": 7,
    "start_time": "2023-03-02T08:08:04.951Z"
   },
   {
    "duration": 3,
    "start_time": "2023-03-02T08:08:04.961Z"
   },
   {
    "duration": 6,
    "start_time": "2023-03-02T08:08:04.965Z"
   },
   {
    "duration": 11,
    "start_time": "2023-03-02T08:08:04.973Z"
   },
   {
    "duration": 9,
    "start_time": "2023-03-02T08:08:04.985Z"
   },
   {
    "duration": 26,
    "start_time": "2023-03-02T08:08:06.419Z"
   },
   {
    "duration": 304,
    "start_time": "2023-03-02T08:08:06.448Z"
   },
   {
    "duration": 6,
    "start_time": "2023-03-02T08:08:06.754Z"
   },
   {
    "duration": 24,
    "start_time": "2023-03-02T08:08:06.762Z"
   },
   {
    "duration": 76,
    "start_time": "2023-03-02T08:08:06.788Z"
   },
   {
    "duration": 330,
    "start_time": "2023-03-02T08:08:06.866Z"
   },
   {
    "duration": 213,
    "start_time": "2023-03-02T08:08:07.202Z"
   },
   {
    "duration": 287,
    "start_time": "2023-03-02T08:08:07.416Z"
   },
   {
    "duration": 222,
    "start_time": "2023-03-02T08:08:07.712Z"
   },
   {
    "duration": 232,
    "start_time": "2023-03-02T08:08:07.936Z"
   },
   {
    "duration": 192,
    "start_time": "2023-03-02T08:08:08.170Z"
   },
   {
    "duration": 423,
    "start_time": "2023-03-02T08:08:08.363Z"
   },
   {
    "duration": 340,
    "start_time": "2023-03-02T08:08:08.788Z"
   },
   {
    "duration": 11,
    "start_time": "2023-03-02T08:08:09.130Z"
   },
   {
    "duration": 254,
    "start_time": "2023-03-02T08:08:09.143Z"
   },
   {
    "duration": 330,
    "start_time": "2023-03-02T08:08:09.399Z"
   },
   {
    "duration": 324,
    "start_time": "2023-03-02T08:08:58.452Z"
   },
   {
    "duration": 339,
    "start_time": "2023-03-02T08:12:10.977Z"
   },
   {
    "duration": 461,
    "start_time": "2023-03-02T08:12:28.819Z"
   },
   {
    "duration": 297,
    "start_time": "2023-03-02T08:13:13.939Z"
   },
   {
    "duration": 109,
    "start_time": "2023-03-02T08:13:47.160Z"
   },
   {
    "duration": 340,
    "start_time": "2023-03-02T08:14:27.135Z"
   },
   {
    "duration": 379,
    "start_time": "2023-03-02T08:14:38.182Z"
   },
   {
    "duration": 381,
    "start_time": "2023-03-02T08:14:42.645Z"
   },
   {
    "duration": 359,
    "start_time": "2023-03-02T08:14:49.309Z"
   },
   {
    "duration": 344,
    "start_time": "2023-03-02T08:18:41.642Z"
   },
   {
    "duration": 12,
    "start_time": "2023-03-02T08:20:54.334Z"
   },
   {
    "duration": 22,
    "start_time": "2023-03-02T08:21:21.821Z"
   },
   {
    "duration": 7,
    "start_time": "2023-03-02T08:21:36.676Z"
   },
   {
    "duration": 2132,
    "start_time": "2023-03-02T09:52:11.024Z"
   },
   {
    "duration": 15,
    "start_time": "2023-03-02T09:52:13.158Z"
   },
   {
    "duration": 7,
    "start_time": "2023-03-02T09:52:13.174Z"
   },
   {
    "duration": 13,
    "start_time": "2023-03-02T09:52:13.183Z"
   },
   {
    "duration": 25,
    "start_time": "2023-03-02T09:52:13.207Z"
   },
   {
    "duration": 25,
    "start_time": "2023-03-02T09:52:13.233Z"
   },
   {
    "duration": 6,
    "start_time": "2023-03-02T09:52:13.260Z"
   },
   {
    "duration": 4,
    "start_time": "2023-03-02T09:52:13.267Z"
   },
   {
    "duration": 5,
    "start_time": "2023-03-02T09:52:13.273Z"
   },
   {
    "duration": 11,
    "start_time": "2023-03-02T09:52:13.279Z"
   },
   {
    "duration": 13,
    "start_time": "2023-03-02T09:52:13.300Z"
   },
   {
    "duration": 45,
    "start_time": "2023-03-02T09:52:13.316Z"
   },
   {
    "duration": 8,
    "start_time": "2023-03-02T09:52:13.363Z"
   },
   {
    "duration": 8,
    "start_time": "2023-03-02T09:52:13.374Z"
   },
   {
    "duration": 5,
    "start_time": "2023-03-02T09:52:13.384Z"
   },
   {
    "duration": 68,
    "start_time": "2023-03-02T09:52:13.391Z"
   },
   {
    "duration": 240,
    "start_time": "2023-03-02T09:52:13.461Z"
   },
   {
    "duration": 14,
    "start_time": "2023-03-02T09:52:13.709Z"
   },
   {
    "duration": 32,
    "start_time": "2023-03-02T09:52:13.725Z"
   },
   {
    "duration": 14,
    "start_time": "2023-03-02T09:52:13.759Z"
   },
   {
    "duration": 361,
    "start_time": "2023-03-02T09:52:13.775Z"
   },
   {
    "duration": 206,
    "start_time": "2023-03-02T09:52:14.138Z"
   },
   {
    "duration": 240,
    "start_time": "2023-03-02T09:52:14.346Z"
   },
   {
    "duration": 185,
    "start_time": "2023-03-02T09:52:14.591Z"
   },
   {
    "duration": 277,
    "start_time": "2023-03-02T09:52:14.778Z"
   },
   {
    "duration": 172,
    "start_time": "2023-03-02T09:52:15.058Z"
   },
   {
    "duration": 271,
    "start_time": "2023-03-02T09:52:15.232Z"
   },
   {
    "duration": 310,
    "start_time": "2023-03-02T09:52:15.507Z"
   },
   {
    "duration": 15,
    "start_time": "2023-03-02T09:52:15.822Z"
   },
   {
    "duration": 291,
    "start_time": "2023-03-02T09:52:15.839Z"
   },
   {
    "duration": 358,
    "start_time": "2023-03-02T09:52:16.132Z"
   },
   {
    "duration": 376,
    "start_time": "2023-03-02T09:52:16.500Z"
   },
   {
    "duration": 483,
    "start_time": "2023-03-02T09:52:16.877Z"
   },
   {
    "duration": 11,
    "start_time": "2023-03-02T09:52:17.364Z"
   },
   {
    "duration": 246,
    "start_time": "2023-03-02T10:05:51.721Z"
   },
   {
    "duration": 289,
    "start_time": "2023-03-02T10:09:31.159Z"
   },
   {
    "duration": 202,
    "start_time": "2023-03-02T10:14:35.980Z"
   },
   {
    "duration": 176,
    "start_time": "2023-03-02T10:16:20.046Z"
   },
   {
    "duration": 191,
    "start_time": "2023-03-02T10:24:21.109Z"
   },
   {
    "duration": 231,
    "start_time": "2023-03-02T10:26:42.754Z"
   },
   {
    "duration": 196,
    "start_time": "2023-03-02T10:28:02.559Z"
   },
   {
    "duration": 180,
    "start_time": "2023-03-02T10:30:53.946Z"
   },
   {
    "duration": 182,
    "start_time": "2023-03-02T10:31:40.385Z"
   },
   {
    "duration": 56,
    "start_time": "2023-03-02T10:32:02.697Z"
   },
   {
    "duration": 37,
    "start_time": "2023-03-02T10:32:09.583Z"
   },
   {
    "duration": 260,
    "start_time": "2023-03-02T10:33:02.341Z"
   },
   {
    "duration": 163,
    "start_time": "2023-03-02T10:34:15.020Z"
   },
   {
    "duration": 182,
    "start_time": "2023-03-02T10:34:49.282Z"
   },
   {
    "duration": 169,
    "start_time": "2023-03-02T10:35:21.811Z"
   },
   {
    "duration": 195,
    "start_time": "2023-03-02T10:35:31.347Z"
   },
   {
    "duration": 157,
    "start_time": "2023-03-02T10:36:02.074Z"
   },
   {
    "duration": 160,
    "start_time": "2023-03-02T10:36:21.314Z"
   },
   {
    "duration": 175,
    "start_time": "2023-03-02T10:37:14.475Z"
   },
   {
    "duration": 15,
    "start_time": "2023-03-02T10:42:54.533Z"
   },
   {
    "duration": 33,
    "start_time": "2023-03-02T10:43:58.621Z"
   },
   {
    "duration": 136,
    "start_time": "2023-03-02T10:44:20.142Z"
   },
   {
    "duration": 484,
    "start_time": "2023-03-02T10:51:12.621Z"
   },
   {
    "duration": 334,
    "start_time": "2023-03-02T10:59:01.293Z"
   },
   {
    "duration": 98,
    "start_time": "2023-03-02T10:59:19.865Z"
   },
   {
    "duration": 12,
    "start_time": "2023-03-02T10:59:38.918Z"
   },
   {
    "duration": 32,
    "start_time": "2023-03-02T11:08:37.092Z"
   },
   {
    "duration": 10,
    "start_time": "2023-03-02T11:08:55.877Z"
   },
   {
    "duration": 31,
    "start_time": "2023-03-02T11:09:06.978Z"
   },
   {
    "duration": 22,
    "start_time": "2023-03-02T12:58:58.966Z"
   },
   {
    "duration": 239,
    "start_time": "2023-03-02T12:59:15.513Z"
   },
   {
    "duration": 181,
    "start_time": "2023-03-02T13:02:04.186Z"
   },
   {
    "duration": 181,
    "start_time": "2023-03-02T13:07:52.916Z"
   },
   {
    "duration": 174,
    "start_time": "2023-03-02T13:17:37.268Z"
   },
   {
    "duration": 199,
    "start_time": "2023-03-02T13:18:09.798Z"
   },
   {
    "duration": 210,
    "start_time": "2023-03-02T13:19:26.824Z"
   },
   {
    "duration": 202,
    "start_time": "2023-03-02T13:19:49.694Z"
   },
   {
    "duration": 178,
    "start_time": "2023-03-02T13:20:16.842Z"
   },
   {
    "duration": 274,
    "start_time": "2023-03-02T13:22:51.091Z"
   },
   {
    "duration": 1490,
    "start_time": "2023-03-02T13:43:13.312Z"
   },
   {
    "duration": 16,
    "start_time": "2023-03-02T13:43:14.804Z"
   },
   {
    "duration": 27,
    "start_time": "2023-03-02T13:43:14.822Z"
   },
   {
    "duration": 6,
    "start_time": "2023-03-02T13:43:14.852Z"
   },
   {
    "duration": 13,
    "start_time": "2023-03-02T13:43:14.861Z"
   },
   {
    "duration": 14,
    "start_time": "2023-03-02T13:43:14.876Z"
   },
   {
    "duration": 11,
    "start_time": "2023-03-02T13:43:14.891Z"
   },
   {
    "duration": 14,
    "start_time": "2023-03-02T13:43:14.903Z"
   },
   {
    "duration": 22,
    "start_time": "2023-03-02T13:43:14.919Z"
   },
   {
    "duration": 15,
    "start_time": "2023-03-02T13:43:14.945Z"
   },
   {
    "duration": 18,
    "start_time": "2023-03-02T13:43:14.962Z"
   },
   {
    "duration": 6,
    "start_time": "2023-03-02T13:43:14.982Z"
   },
   {
    "duration": 8,
    "start_time": "2023-03-02T13:43:14.990Z"
   },
   {
    "duration": 18,
    "start_time": "2023-03-02T13:43:14.999Z"
   },
   {
    "duration": 35,
    "start_time": "2023-03-02T13:43:15.019Z"
   },
   {
    "duration": 29,
    "start_time": "2023-03-02T13:43:15.056Z"
   },
   {
    "duration": 298,
    "start_time": "2023-03-02T13:43:15.087Z"
   },
   {
    "duration": 6,
    "start_time": "2023-03-02T13:43:15.386Z"
   },
   {
    "duration": 8,
    "start_time": "2023-03-02T13:43:15.393Z"
   },
   {
    "duration": 13,
    "start_time": "2023-03-02T13:43:15.402Z"
   },
   {
    "duration": 401,
    "start_time": "2023-03-02T13:43:15.417Z"
   },
   {
    "duration": 210,
    "start_time": "2023-03-02T13:43:15.820Z"
   },
   {
    "duration": 375,
    "start_time": "2023-03-02T13:43:16.032Z"
   },
   {
    "duration": 255,
    "start_time": "2023-03-02T13:43:16.409Z"
   },
   {
    "duration": 323,
    "start_time": "2023-03-02T13:43:16.670Z"
   },
   {
    "duration": 219,
    "start_time": "2023-03-02T13:43:16.995Z"
   },
   {
    "duration": 361,
    "start_time": "2023-03-02T13:43:17.216Z"
   },
   {
    "duration": 468,
    "start_time": "2023-03-02T13:43:17.581Z"
   },
   {
    "duration": 13,
    "start_time": "2023-03-02T13:43:18.051Z"
   },
   {
    "duration": 289,
    "start_time": "2023-03-02T13:43:18.066Z"
   },
   {
    "duration": 374,
    "start_time": "2023-03-02T13:43:18.357Z"
   },
   {
    "duration": 369,
    "start_time": "2023-03-02T13:43:18.733Z"
   },
   {
    "duration": 477,
    "start_time": "2023-03-02T13:43:19.104Z"
   },
   {
    "duration": 11,
    "start_time": "2023-03-02T13:43:19.584Z"
   },
   {
    "duration": 195,
    "start_time": "2023-03-02T13:43:19.597Z"
   },
   {
    "duration": 223,
    "start_time": "2023-03-02T13:43:19.795Z"
   },
   {
    "duration": 202,
    "start_time": "2023-03-02T13:43:20.019Z"
   },
   {
    "duration": 231,
    "start_time": "2023-03-02T13:43:20.223Z"
   },
   {
    "duration": 159,
    "start_time": "2023-03-02T13:43:20.457Z"
   },
   {
    "duration": 549,
    "start_time": "2023-03-02T13:43:20.618Z"
   },
   {
    "duration": 399,
    "start_time": "2023-03-02T13:43:21.169Z"
   },
   {
    "duration": 117,
    "start_time": "2023-03-02T13:43:21.570Z"
   },
   {
    "duration": 10,
    "start_time": "2023-03-02T13:43:21.689Z"
   },
   {
    "duration": 61,
    "start_time": "2023-03-02T13:43:21.701Z"
   },
   {
    "duration": 263,
    "start_time": "2023-03-02T13:43:21.764Z"
   },
   {
    "duration": 24,
    "start_time": "2023-03-02T13:45:59.926Z"
   },
   {
    "duration": 113,
    "start_time": "2023-03-02T13:46:16.193Z"
   },
   {
    "duration": 107,
    "start_time": "2023-03-02T13:52:44.267Z"
   },
   {
    "duration": 316,
    "start_time": "2023-03-02T13:52:47.639Z"
   },
   {
    "duration": 44,
    "start_time": "2023-03-04T02:50:27.314Z"
   },
   {
    "duration": 1622,
    "start_time": "2023-03-04T02:50:39.500Z"
   },
   {
    "duration": 15,
    "start_time": "2023-03-04T02:50:41.124Z"
   },
   {
    "duration": 15335,
    "start_time": "2023-03-04T02:50:41.141Z"
   },
   {
    "duration": 0,
    "start_time": "2023-03-04T02:50:56.479Z"
   },
   {
    "duration": 0,
    "start_time": "2023-03-04T02:50:56.479Z"
   },
   {
    "duration": 0,
    "start_time": "2023-03-04T02:50:56.481Z"
   },
   {
    "duration": 0,
    "start_time": "2023-03-04T02:50:56.482Z"
   },
   {
    "duration": 0,
    "start_time": "2023-03-04T02:50:56.482Z"
   },
   {
    "duration": 0,
    "start_time": "2023-03-04T02:50:56.483Z"
   },
   {
    "duration": 0,
    "start_time": "2023-03-04T02:50:56.485Z"
   },
   {
    "duration": 0,
    "start_time": "2023-03-04T02:50:56.485Z"
   },
   {
    "duration": 0,
    "start_time": "2023-03-04T02:50:56.486Z"
   },
   {
    "duration": 0,
    "start_time": "2023-03-04T02:50:56.487Z"
   },
   {
    "duration": 0,
    "start_time": "2023-03-04T02:50:56.488Z"
   },
   {
    "duration": 0,
    "start_time": "2023-03-04T02:50:56.489Z"
   },
   {
    "duration": 0,
    "start_time": "2023-03-04T02:50:56.490Z"
   },
   {
    "duration": 0,
    "start_time": "2023-03-04T02:50:56.491Z"
   },
   {
    "duration": 0,
    "start_time": "2023-03-04T02:50:56.492Z"
   },
   {
    "duration": 0,
    "start_time": "2023-03-04T02:50:56.493Z"
   },
   {
    "duration": 0,
    "start_time": "2023-03-04T02:50:56.494Z"
   },
   {
    "duration": 1,
    "start_time": "2023-03-04T02:50:56.494Z"
   },
   {
    "duration": 0,
    "start_time": "2023-03-04T02:50:56.496Z"
   },
   {
    "duration": 0,
    "start_time": "2023-03-04T02:50:56.496Z"
   },
   {
    "duration": 0,
    "start_time": "2023-03-04T02:50:56.497Z"
   },
   {
    "duration": 0,
    "start_time": "2023-03-04T02:50:56.498Z"
   },
   {
    "duration": 0,
    "start_time": "2023-03-04T02:50:56.499Z"
   },
   {
    "duration": 0,
    "start_time": "2023-03-04T02:50:56.501Z"
   },
   {
    "duration": 0,
    "start_time": "2023-03-04T02:50:56.502Z"
   },
   {
    "duration": 0,
    "start_time": "2023-03-04T02:50:56.503Z"
   },
   {
    "duration": 0,
    "start_time": "2023-03-04T02:50:56.504Z"
   },
   {
    "duration": 0,
    "start_time": "2023-03-04T02:50:56.549Z"
   },
   {
    "duration": 0,
    "start_time": "2023-03-04T02:50:56.550Z"
   },
   {
    "duration": 0,
    "start_time": "2023-03-04T02:50:56.551Z"
   },
   {
    "duration": 0,
    "start_time": "2023-03-04T02:50:56.552Z"
   },
   {
    "duration": 0,
    "start_time": "2023-03-04T02:50:56.554Z"
   },
   {
    "duration": 0,
    "start_time": "2023-03-04T02:50:56.555Z"
   },
   {
    "duration": 0,
    "start_time": "2023-03-04T02:50:56.556Z"
   },
   {
    "duration": 0,
    "start_time": "2023-03-04T02:50:56.558Z"
   },
   {
    "duration": 0,
    "start_time": "2023-03-04T02:50:56.559Z"
   },
   {
    "duration": 0,
    "start_time": "2023-03-04T02:50:56.560Z"
   },
   {
    "duration": 0,
    "start_time": "2023-03-04T02:50:56.561Z"
   },
   {
    "duration": 0,
    "start_time": "2023-03-04T02:50:56.562Z"
   },
   {
    "duration": 0,
    "start_time": "2023-03-04T02:50:56.564Z"
   },
   {
    "duration": 0,
    "start_time": "2023-03-04T02:50:56.565Z"
   },
   {
    "duration": 0,
    "start_time": "2023-03-04T02:50:56.566Z"
   },
   {
    "duration": 0,
    "start_time": "2023-03-04T02:50:56.567Z"
   },
   {
    "duration": 18219,
    "start_time": "2023-03-04T02:51:34.846Z"
   },
   {
    "duration": 3010,
    "start_time": "2023-03-04T02:53:46.853Z"
   },
   {
    "duration": 2594,
    "start_time": "2023-03-04T02:55:00.936Z"
   },
   {
    "duration": 10,
    "start_time": "2023-03-04T02:57:29.550Z"
   },
   {
    "duration": 6,
    "start_time": "2023-03-04T03:01:07.762Z"
   },
   {
    "duration": 12,
    "start_time": "2023-03-04T03:06:02.843Z"
   },
   {
    "duration": 183,
    "start_time": "2023-03-04T03:08:28.281Z"
   },
   {
    "duration": 86,
    "start_time": "2023-03-04T03:09:04.390Z"
   },
   {
    "duration": 205,
    "start_time": "2023-03-04T03:09:09.001Z"
   },
   {
    "duration": 89,
    "start_time": "2023-03-04T03:09:17.570Z"
   },
   {
    "duration": 99,
    "start_time": "2023-03-04T03:10:39.787Z"
   },
   {
    "duration": 109,
    "start_time": "2023-03-04T03:10:56.178Z"
   },
   {
    "duration": 118,
    "start_time": "2023-03-04T03:11:34.085Z"
   },
   {
    "duration": 98,
    "start_time": "2023-03-04T03:12:06.553Z"
   },
   {
    "duration": 105,
    "start_time": "2023-03-04T03:12:13.945Z"
   },
   {
    "duration": 101,
    "start_time": "2023-03-04T03:12:21.657Z"
   },
   {
    "duration": 101,
    "start_time": "2023-03-04T03:12:28.672Z"
   },
   {
    "duration": 109,
    "start_time": "2023-03-04T03:12:35.948Z"
   },
   {
    "duration": 44,
    "start_time": "2023-03-04T03:14:45.985Z"
   },
   {
    "duration": 113,
    "start_time": "2023-03-04T03:14:58.939Z"
   },
   {
    "duration": 45,
    "start_time": "2023-03-04T03:15:23.533Z"
   },
   {
    "duration": 104,
    "start_time": "2023-03-04T03:16:02.175Z"
   },
   {
    "duration": 109,
    "start_time": "2023-03-04T03:16:50.501Z"
   },
   {
    "duration": 4,
    "start_time": "2023-03-04T03:17:03.484Z"
   },
   {
    "duration": 121,
    "start_time": "2023-03-04T03:17:12.098Z"
   },
   {
    "duration": 30,
    "start_time": "2023-03-04T03:17:12.221Z"
   },
   {
    "duration": 1825,
    "start_time": "2023-03-04T03:17:12.252Z"
   },
   {
    "duration": 10,
    "start_time": "2023-03-04T03:17:14.079Z"
   },
   {
    "duration": 11,
    "start_time": "2023-03-04T03:17:14.091Z"
   },
   {
    "duration": 14,
    "start_time": "2023-03-04T03:17:14.104Z"
   },
   {
    "duration": 9,
    "start_time": "2023-03-04T03:17:14.120Z"
   },
   {
    "duration": 25,
    "start_time": "2023-03-04T03:17:14.131Z"
   },
   {
    "duration": 4,
    "start_time": "2023-03-04T03:17:14.158Z"
   },
   {
    "duration": 5,
    "start_time": "2023-03-04T03:17:14.165Z"
   },
   {
    "duration": 8,
    "start_time": "2023-03-04T03:17:14.172Z"
   },
   {
    "duration": 8,
    "start_time": "2023-03-04T03:17:14.182Z"
   },
   {
    "duration": 5,
    "start_time": "2023-03-04T03:17:14.192Z"
   },
   {
    "duration": 9,
    "start_time": "2023-03-04T03:17:14.199Z"
   },
   {
    "duration": 39,
    "start_time": "2023-03-04T03:17:14.210Z"
   },
   {
    "duration": 8,
    "start_time": "2023-03-04T03:17:14.251Z"
   },
   {
    "duration": 18,
    "start_time": "2023-03-04T03:17:14.261Z"
   },
   {
    "duration": 136,
    "start_time": "2023-03-04T03:17:14.281Z"
   },
   {
    "duration": 54,
    "start_time": "2023-03-04T03:17:14.419Z"
   },
   {
    "duration": 6,
    "start_time": "2023-03-04T03:17:14.476Z"
   },
   {
    "duration": 5,
    "start_time": "2023-03-04T03:17:14.484Z"
   },
   {
    "duration": 8,
    "start_time": "2023-03-04T03:17:14.490Z"
   },
   {
    "duration": 13,
    "start_time": "2023-03-04T03:17:14.500Z"
   },
   {
    "duration": 281,
    "start_time": "2023-03-04T03:17:14.515Z"
   },
   {
    "duration": 172,
    "start_time": "2023-03-04T03:17:14.798Z"
   },
   {
    "duration": 234,
    "start_time": "2023-03-04T03:17:14.972Z"
   },
   {
    "duration": 175,
    "start_time": "2023-03-04T03:17:15.208Z"
   },
   {
    "duration": 190,
    "start_time": "2023-03-04T03:17:15.386Z"
   },
   {
    "duration": 169,
    "start_time": "2023-03-04T03:17:15.577Z"
   },
   {
    "duration": 251,
    "start_time": "2023-03-04T03:17:15.747Z"
   },
   {
    "duration": 280,
    "start_time": "2023-03-04T03:17:16.000Z"
   },
   {
    "duration": 9,
    "start_time": "2023-03-04T03:17:16.282Z"
   },
   {
    "duration": 201,
    "start_time": "2023-03-04T03:17:16.293Z"
   },
   {
    "duration": 282,
    "start_time": "2023-03-04T03:17:16.495Z"
   },
   {
    "duration": 749,
    "start_time": "2023-03-04T03:17:16.779Z"
   },
   {
    "duration": 290,
    "start_time": "2023-03-04T03:17:17.529Z"
   },
   {
    "duration": 6,
    "start_time": "2023-03-04T03:17:17.821Z"
   },
   {
    "duration": 157,
    "start_time": "2023-03-04T03:17:17.828Z"
   },
   {
    "duration": 167,
    "start_time": "2023-03-04T03:17:17.986Z"
   },
   {
    "duration": 155,
    "start_time": "2023-03-04T03:17:18.155Z"
   },
   {
    "duration": 164,
    "start_time": "2023-03-04T03:17:18.312Z"
   },
   {
    "duration": 135,
    "start_time": "2023-03-04T03:17:18.478Z"
   },
   {
    "duration": 437,
    "start_time": "2023-03-04T03:17:18.614Z"
   },
   {
    "duration": 251,
    "start_time": "2023-03-04T03:17:19.053Z"
   },
   {
    "duration": 113,
    "start_time": "2023-03-04T03:17:19.306Z"
   },
   {
    "duration": 10,
    "start_time": "2023-03-04T03:17:19.420Z"
   },
   {
    "duration": 39,
    "start_time": "2023-03-04T03:17:19.432Z"
   },
   {
    "duration": 185,
    "start_time": "2023-03-04T03:17:19.473Z"
   },
   {
    "duration": 114,
    "start_time": "2023-03-04T03:17:57.640Z"
   },
   {
    "duration": 116,
    "start_time": "2023-03-04T03:18:17.060Z"
   },
   {
    "duration": 108,
    "start_time": "2023-03-04T03:18:24.732Z"
   },
   {
    "duration": 74,
    "start_time": "2023-03-04T03:19:09.706Z"
   },
   {
    "duration": 26,
    "start_time": "2023-03-04T03:21:48.585Z"
   },
   {
    "duration": 23,
    "start_time": "2023-03-04T03:46:03.016Z"
   },
   {
    "duration": 321,
    "start_time": "2023-03-04T03:50:26.152Z"
   },
   {
    "duration": 137,
    "start_time": "2023-03-04T03:53:05.945Z"
   },
   {
    "duration": 252,
    "start_time": "2023-03-04T03:54:00.292Z"
   },
   {
    "duration": 164,
    "start_time": "2023-03-04T03:54:49.787Z"
   },
   {
    "duration": 134,
    "start_time": "2023-03-04T03:55:01.362Z"
   },
   {
    "duration": 334,
    "start_time": "2023-03-04T03:56:04.055Z"
   },
   {
    "duration": 238,
    "start_time": "2023-03-04T03:56:56.522Z"
   },
   {
    "duration": 261,
    "start_time": "2023-03-04T03:57:03.169Z"
   },
   {
    "duration": 237,
    "start_time": "2023-03-04T03:57:08.754Z"
   },
   {
    "duration": 271,
    "start_time": "2023-03-04T03:57:13.151Z"
   },
   {
    "duration": 235,
    "start_time": "2023-03-04T03:57:22.285Z"
   },
   {
    "duration": 238,
    "start_time": "2023-03-04T03:57:35.381Z"
   },
   {
    "duration": 248,
    "start_time": "2023-03-04T03:57:56.749Z"
   },
   {
    "duration": 267,
    "start_time": "2023-03-04T03:58:14.988Z"
   },
   {
    "duration": 228,
    "start_time": "2023-03-04T03:58:23.108Z"
   },
   {
    "duration": 234,
    "start_time": "2023-03-04T03:58:36.815Z"
   },
   {
    "duration": 265,
    "start_time": "2023-03-04T03:58:46.941Z"
   },
   {
    "duration": 240,
    "start_time": "2023-03-04T03:58:55.804Z"
   },
   {
    "duration": 242,
    "start_time": "2023-03-04T03:59:11.175Z"
   },
   {
    "duration": 1147,
    "start_time": "2023-03-04T03:59:23.233Z"
   },
   {
    "duration": 230,
    "start_time": "2023-03-04T03:59:32.758Z"
   },
   {
    "duration": 261,
    "start_time": "2023-03-04T03:59:37.364Z"
   },
   {
    "duration": 256,
    "start_time": "2023-03-04T03:59:43.624Z"
   },
   {
    "duration": 274,
    "start_time": "2023-03-04T03:59:49.203Z"
   },
   {
    "duration": 304,
    "start_time": "2023-03-04T04:07:57.255Z"
   },
   {
    "duration": 180,
    "start_time": "2023-03-04T04:08:42.085Z"
   },
   {
    "duration": 179,
    "start_time": "2023-03-04T04:09:41.017Z"
   },
   {
    "duration": 214,
    "start_time": "2023-03-04T04:10:56.399Z"
   },
   {
    "duration": 181,
    "start_time": "2023-03-04T04:11:05.863Z"
   },
   {
    "duration": 176,
    "start_time": "2023-03-04T04:11:50.500Z"
   },
   {
    "duration": 207,
    "start_time": "2023-03-04T04:13:27.702Z"
   },
   {
    "duration": 182,
    "start_time": "2023-03-04T04:14:10.275Z"
   },
   {
    "duration": 184,
    "start_time": "2023-03-04T04:15:05.414Z"
   },
   {
    "duration": 192,
    "start_time": "2023-03-04T04:15:21.904Z"
   },
   {
    "duration": 545,
    "start_time": "2023-03-04T04:16:10.592Z"
   },
   {
    "duration": 166,
    "start_time": "2023-03-04T04:16:40.202Z"
   },
   {
    "duration": 143,
    "start_time": "2023-03-04T04:24:44.013Z"
   },
   {
    "duration": 180,
    "start_time": "2023-03-04T04:25:10.599Z"
   },
   {
    "duration": 180,
    "start_time": "2023-03-04T04:25:30.221Z"
   },
   {
    "duration": 94,
    "start_time": "2023-03-04T04:26:00.807Z"
   },
   {
    "duration": 141,
    "start_time": "2023-03-04T04:26:06.450Z"
   },
   {
    "duration": 143,
    "start_time": "2023-03-04T04:26:23.566Z"
   },
   {
    "duration": 173,
    "start_time": "2023-03-04T04:29:29.659Z"
   },
   {
    "duration": 465,
    "start_time": "2023-03-04T04:37:39.481Z"
   },
   {
    "duration": 127,
    "start_time": "2023-03-04T04:52:45.501Z"
   },
   {
    "duration": 32,
    "start_time": "2023-03-04T04:52:45.629Z"
   },
   {
    "duration": 2004,
    "start_time": "2023-03-04T04:52:45.663Z"
   },
   {
    "duration": 11,
    "start_time": "2023-03-04T04:52:47.670Z"
   },
   {
    "duration": 5,
    "start_time": "2023-03-04T04:52:47.682Z"
   },
   {
    "duration": 25,
    "start_time": "2023-03-04T04:52:47.689Z"
   },
   {
    "duration": 25,
    "start_time": "2023-03-04T04:52:47.715Z"
   },
   {
    "duration": 8,
    "start_time": "2023-03-04T04:52:47.743Z"
   },
   {
    "duration": 28,
    "start_time": "2023-03-04T04:52:47.753Z"
   },
   {
    "duration": 7,
    "start_time": "2023-03-04T04:52:47.784Z"
   },
   {
    "duration": 21,
    "start_time": "2023-03-04T04:52:47.793Z"
   },
   {
    "duration": 10,
    "start_time": "2023-03-04T04:52:47.815Z"
   },
   {
    "duration": 6,
    "start_time": "2023-03-04T04:52:47.827Z"
   },
   {
    "duration": 9,
    "start_time": "2023-03-04T04:52:47.835Z"
   },
   {
    "duration": 13,
    "start_time": "2023-03-04T04:52:47.845Z"
   },
   {
    "duration": 8,
    "start_time": "2023-03-04T04:52:47.860Z"
   },
   {
    "duration": 21,
    "start_time": "2023-03-04T04:52:47.871Z"
   },
   {
    "duration": 158,
    "start_time": "2023-03-04T04:52:47.893Z"
   },
   {
    "duration": 41,
    "start_time": "2023-03-04T04:52:48.054Z"
   },
   {
    "duration": 5,
    "start_time": "2023-03-04T04:52:48.096Z"
   },
   {
    "duration": 151,
    "start_time": "2023-03-04T04:52:48.103Z"
   },
   {
    "duration": 24,
    "start_time": "2023-03-04T04:52:48.256Z"
   },
   {
    "duration": 6,
    "start_time": "2023-03-04T04:52:48.283Z"
   },
   {
    "duration": 29,
    "start_time": "2023-03-04T04:52:48.292Z"
   },
   {
    "duration": 331,
    "start_time": "2023-03-04T04:52:48.324Z"
   },
   {
    "duration": 200,
    "start_time": "2023-03-04T04:52:48.657Z"
   },
   {
    "duration": 246,
    "start_time": "2023-03-04T04:52:48.859Z"
   },
   {
    "duration": 194,
    "start_time": "2023-03-04T04:52:49.109Z"
   },
   {
    "duration": 430,
    "start_time": "2023-03-04T04:52:49.308Z"
   },
   {
    "duration": 172,
    "start_time": "2023-03-04T04:52:49.740Z"
   },
   {
    "duration": 307,
    "start_time": "2023-03-04T04:52:49.914Z"
   },
   {
    "duration": 285,
    "start_time": "2023-03-04T04:52:50.223Z"
   },
   {
    "duration": 128,
    "start_time": "2023-03-04T04:52:50.511Z"
   },
   {
    "duration": 193,
    "start_time": "2023-03-04T04:52:50.641Z"
   },
   {
    "duration": 293,
    "start_time": "2023-03-04T04:52:50.835Z"
   },
   {
    "duration": 312,
    "start_time": "2023-03-04T04:52:51.130Z"
   },
   {
    "duration": 307,
    "start_time": "2023-03-04T04:52:51.443Z"
   },
   {
    "duration": 261,
    "start_time": "2023-03-04T04:52:51.753Z"
   },
   {
    "duration": 187,
    "start_time": "2023-03-04T04:52:52.015Z"
   },
   {
    "duration": 199,
    "start_time": "2023-03-04T04:52:52.203Z"
   },
   {
    "duration": 189,
    "start_time": "2023-03-04T04:52:52.404Z"
   },
   {
    "duration": 192,
    "start_time": "2023-03-04T04:52:52.595Z"
   },
   {
    "duration": 173,
    "start_time": "2023-03-04T04:52:52.789Z"
   },
   {
    "duration": 480,
    "start_time": "2023-03-04T04:52:52.964Z"
   },
   {
    "duration": 170,
    "start_time": "2023-03-04T04:52:53.449Z"
   },
   {
    "duration": 562,
    "start_time": "2023-03-04T04:52:53.620Z"
   },
   {
    "duration": 122,
    "start_time": "2023-03-04T04:52:54.185Z"
   },
   {
    "duration": 10,
    "start_time": "2023-03-04T04:52:54.308Z"
   },
   {
    "duration": 40,
    "start_time": "2023-03-04T04:52:54.319Z"
   },
   {
    "duration": 191,
    "start_time": "2023-03-04T04:52:54.361Z"
   },
   {
    "duration": 1209,
    "start_time": "2023-03-04T19:11:19.629Z"
   },
   {
    "duration": 13,
    "start_time": "2023-03-04T19:11:20.840Z"
   },
   {
    "duration": 1841,
    "start_time": "2023-03-04T19:11:20.855Z"
   },
   {
    "duration": 9,
    "start_time": "2023-03-04T19:11:22.698Z"
   },
   {
    "duration": 7,
    "start_time": "2023-03-04T19:11:22.708Z"
   },
   {
    "duration": 27,
    "start_time": "2023-03-04T19:11:22.716Z"
   },
   {
    "duration": 9,
    "start_time": "2023-03-04T19:11:22.744Z"
   },
   {
    "duration": 7,
    "start_time": "2023-03-04T19:11:22.754Z"
   },
   {
    "duration": 8,
    "start_time": "2023-03-04T19:11:22.763Z"
   },
   {
    "duration": 5,
    "start_time": "2023-03-04T19:11:22.773Z"
   },
   {
    "duration": 17,
    "start_time": "2023-03-04T19:11:22.779Z"
   },
   {
    "duration": 7,
    "start_time": "2023-03-04T19:11:22.798Z"
   },
   {
    "duration": 28,
    "start_time": "2023-03-04T19:11:22.807Z"
   },
   {
    "duration": 10,
    "start_time": "2023-03-04T19:11:22.837Z"
   },
   {
    "duration": 11,
    "start_time": "2023-03-04T19:11:22.848Z"
   },
   {
    "duration": 32,
    "start_time": "2023-03-04T19:11:22.860Z"
   },
   {
    "duration": 17,
    "start_time": "2023-03-04T19:11:22.894Z"
   },
   {
    "duration": 116,
    "start_time": "2023-03-04T19:11:22.913Z"
   },
   {
    "duration": 52,
    "start_time": "2023-03-04T19:11:23.031Z"
   },
   {
    "duration": 6,
    "start_time": "2023-03-04T19:11:23.085Z"
   },
   {
    "duration": 124,
    "start_time": "2023-03-04T19:11:23.092Z"
   },
   {
    "duration": 32,
    "start_time": "2023-03-04T19:11:23.219Z"
   },
   {
    "duration": 4,
    "start_time": "2023-03-04T19:11:23.253Z"
   },
   {
    "duration": 19,
    "start_time": "2023-03-04T19:11:23.258Z"
   },
   {
    "duration": 262,
    "start_time": "2023-03-04T19:11:23.278Z"
   },
   {
    "duration": 165,
    "start_time": "2023-03-04T19:11:23.544Z"
   },
   {
    "duration": 214,
    "start_time": "2023-03-04T19:11:23.711Z"
   },
   {
    "duration": 160,
    "start_time": "2023-03-04T19:11:23.928Z"
   },
   {
    "duration": 167,
    "start_time": "2023-03-04T19:11:24.089Z"
   },
   {
    "duration": 231,
    "start_time": "2023-03-04T19:11:24.258Z"
   },
   {
    "duration": 242,
    "start_time": "2023-03-04T19:11:24.490Z"
   },
   {
    "duration": 237,
    "start_time": "2023-03-04T19:11:24.733Z"
   },
   {
    "duration": 122,
    "start_time": "2023-03-04T19:11:24.971Z"
   },
   {
    "duration": 175,
    "start_time": "2023-03-04T19:11:25.094Z"
   },
   {
    "duration": 261,
    "start_time": "2023-03-04T19:11:25.271Z"
   },
   {
    "duration": 277,
    "start_time": "2023-03-04T19:11:25.533Z"
   },
   {
    "duration": 388,
    "start_time": "2023-03-04T19:11:25.812Z"
   },
   {
    "duration": 315,
    "start_time": "2023-03-04T19:11:26.201Z"
   },
   {
    "duration": 181,
    "start_time": "2023-03-04T19:11:26.517Z"
   },
   {
    "duration": 190,
    "start_time": "2023-03-04T19:11:26.700Z"
   },
   {
    "duration": 190,
    "start_time": "2023-03-04T19:11:26.891Z"
   },
   {
    "duration": 199,
    "start_time": "2023-03-04T19:11:27.083Z"
   },
   {
    "duration": 159,
    "start_time": "2023-03-04T19:11:27.284Z"
   },
   {
    "duration": 521,
    "start_time": "2023-03-04T19:11:27.445Z"
   },
   {
    "duration": 146,
    "start_time": "2023-03-04T19:11:27.968Z"
   },
   {
    "duration": 236,
    "start_time": "2023-03-04T19:11:28.115Z"
   },
   {
    "duration": 98,
    "start_time": "2023-03-04T19:11:28.353Z"
   },
   {
    "duration": 9,
    "start_time": "2023-03-04T19:11:28.453Z"
   },
   {
    "duration": 24,
    "start_time": "2023-03-04T19:11:28.463Z"
   },
   {
    "duration": 184,
    "start_time": "2023-03-04T19:11:28.488Z"
   },
   {
    "duration": 124,
    "start_time": "2023-03-04T19:15:30.961Z"
   },
   {
    "duration": 43,
    "start_time": "2023-03-05T00:17:50.560Z"
   },
   {
    "duration": 2022,
    "start_time": "2023-03-05T00:17:55.168Z"
   },
   {
    "duration": 15,
    "start_time": "2023-03-05T00:17:57.192Z"
   },
   {
    "duration": 1812,
    "start_time": "2023-03-05T00:17:57.208Z"
   },
   {
    "duration": 13,
    "start_time": "2023-03-05T00:17:59.023Z"
   },
   {
    "duration": 6,
    "start_time": "2023-03-05T00:17:59.038Z"
   },
   {
    "duration": 11,
    "start_time": "2023-03-05T00:17:59.045Z"
   },
   {
    "duration": 10,
    "start_time": "2023-03-05T00:17:59.058Z"
   },
   {
    "duration": 9,
    "start_time": "2023-03-05T00:17:59.070Z"
   },
   {
    "duration": 10,
    "start_time": "2023-03-05T00:17:59.081Z"
   },
   {
    "duration": 4,
    "start_time": "2023-03-05T00:17:59.095Z"
   },
   {
    "duration": 14,
    "start_time": "2023-03-05T00:17:59.100Z"
   },
   {
    "duration": 9,
    "start_time": "2023-03-05T00:17:59.115Z"
   },
   {
    "duration": 4,
    "start_time": "2023-03-05T00:17:59.126Z"
   },
   {
    "duration": 7,
    "start_time": "2023-03-05T00:17:59.132Z"
   },
   {
    "duration": 8,
    "start_time": "2023-03-05T00:17:59.140Z"
   },
   {
    "duration": 43,
    "start_time": "2023-03-05T00:17:59.150Z"
   },
   {
    "duration": 17,
    "start_time": "2023-03-05T00:17:59.195Z"
   },
   {
    "duration": 123,
    "start_time": "2023-03-05T00:17:59.214Z"
   },
   {
    "duration": 37,
    "start_time": "2023-03-05T00:17:59.338Z"
   },
   {
    "duration": 18,
    "start_time": "2023-03-05T00:17:59.376Z"
   },
   {
    "duration": 126,
    "start_time": "2023-03-05T00:17:59.396Z"
   },
   {
    "duration": 21,
    "start_time": "2023-03-05T00:17:59.523Z"
   },
   {
    "duration": 4,
    "start_time": "2023-03-05T00:17:59.546Z"
   },
   {
    "duration": 13,
    "start_time": "2023-03-05T00:17:59.551Z"
   },
   {
    "duration": 276,
    "start_time": "2023-03-05T00:17:59.565Z"
   },
   {
    "duration": 198,
    "start_time": "2023-03-05T00:17:59.843Z"
   },
   {
    "duration": 241,
    "start_time": "2023-03-05T00:18:00.043Z"
   },
   {
    "duration": 161,
    "start_time": "2023-03-05T00:18:00.293Z"
   },
   {
    "duration": 171,
    "start_time": "2023-03-05T00:18:00.456Z"
   },
   {
    "duration": 271,
    "start_time": "2023-03-05T00:18:00.629Z"
   },
   {
    "duration": 244,
    "start_time": "2023-03-05T00:18:00.901Z"
   },
   {
    "duration": 248,
    "start_time": "2023-03-05T00:18:01.147Z"
   },
   {
    "duration": 133,
    "start_time": "2023-03-05T00:18:01.397Z"
   },
   {
    "duration": 187,
    "start_time": "2023-03-05T00:18:01.532Z"
   },
   {
    "duration": 302,
    "start_time": "2023-03-05T00:18:01.720Z"
   },
   {
    "duration": 303,
    "start_time": "2023-03-05T00:18:02.024Z"
   },
   {
    "duration": 384,
    "start_time": "2023-03-05T00:18:02.328Z"
   },
   {
    "duration": 334,
    "start_time": "2023-03-05T00:18:02.714Z"
   },
   {
    "duration": 187,
    "start_time": "2023-03-05T00:18:03.049Z"
   },
   {
    "duration": 214,
    "start_time": "2023-03-05T00:18:03.238Z"
   },
   {
    "duration": 188,
    "start_time": "2023-03-05T00:18:03.454Z"
   },
   {
    "duration": 198,
    "start_time": "2023-03-05T00:18:03.644Z"
   },
   {
    "duration": 198,
    "start_time": "2023-03-05T00:18:03.844Z"
   },
   {
    "duration": 541,
    "start_time": "2023-03-05T00:18:04.044Z"
   },
   {
    "duration": 130,
    "start_time": "2023-03-05T00:18:04.590Z"
   },
   {
    "duration": 144,
    "start_time": "2023-03-05T00:18:04.722Z"
   },
   {
    "duration": 232,
    "start_time": "2023-03-05T00:18:04.867Z"
   },
   {
    "duration": 96,
    "start_time": "2023-03-05T00:18:05.101Z"
   },
   {
    "duration": 8,
    "start_time": "2023-03-05T00:18:05.199Z"
   },
   {
    "duration": 27,
    "start_time": "2023-03-05T00:18:05.209Z"
   },
   {
    "duration": 182,
    "start_time": "2023-03-05T00:18:05.237Z"
   },
   {
    "duration": 111,
    "start_time": "2023-03-05T00:22:04.436Z"
   },
   {
    "duration": 89,
    "start_time": "2023-03-05T00:22:14.539Z"
   },
   {
    "duration": 94,
    "start_time": "2023-03-05T00:22:34.654Z"
   },
   {
    "duration": 183,
    "start_time": "2023-03-05T00:22:53.309Z"
   },
   {
    "duration": 113,
    "start_time": "2023-03-05T00:23:06.995Z"
   },
   {
    "duration": 101,
    "start_time": "2023-03-05T00:23:17.096Z"
   },
   {
    "duration": 454,
    "start_time": "2023-03-05T00:31:42.324Z"
   },
   {
    "duration": 213,
    "start_time": "2023-03-05T00:33:42.812Z"
   },
   {
    "duration": 283,
    "start_time": "2023-03-05T00:34:00.358Z"
   },
   {
    "duration": 319,
    "start_time": "2023-03-05T00:36:24.694Z"
   },
   {
    "duration": 223,
    "start_time": "2023-03-05T00:36:39.477Z"
   },
   {
    "duration": 90,
    "start_time": "2023-03-05T00:37:40.246Z"
   },
   {
    "duration": 217,
    "start_time": "2023-03-05T00:38:47.463Z"
   },
   {
    "duration": 227,
    "start_time": "2023-03-05T00:39:09.996Z"
   },
   {
    "duration": 52,
    "start_time": "2023-03-13T07:40:11.899Z"
   },
   {
    "duration": 1685,
    "start_time": "2023-03-13T07:40:17.379Z"
   },
   {
    "duration": 18,
    "start_time": "2023-03-13T07:40:19.066Z"
   },
   {
    "duration": 2230,
    "start_time": "2023-03-13T07:40:19.085Z"
   },
   {
    "duration": 10,
    "start_time": "2023-03-13T07:40:21.318Z"
   },
   {
    "duration": 8,
    "start_time": "2023-03-13T07:40:21.330Z"
   },
   {
    "duration": 15,
    "start_time": "2023-03-13T07:40:21.340Z"
   },
   {
    "duration": 27,
    "start_time": "2023-03-13T07:40:21.357Z"
   },
   {
    "duration": 14,
    "start_time": "2023-03-13T07:40:21.386Z"
   },
   {
    "duration": 13,
    "start_time": "2023-03-13T07:40:21.402Z"
   },
   {
    "duration": 16,
    "start_time": "2023-03-13T07:40:21.418Z"
   },
   {
    "duration": 21,
    "start_time": "2023-03-13T07:40:21.436Z"
   },
   {
    "duration": 20,
    "start_time": "2023-03-13T07:40:21.459Z"
   },
   {
    "duration": 14,
    "start_time": "2023-03-13T07:40:21.481Z"
   },
   {
    "duration": 10,
    "start_time": "2023-03-13T07:40:21.497Z"
   },
   {
    "duration": 16,
    "start_time": "2023-03-13T07:40:21.509Z"
   },
   {
    "duration": 12,
    "start_time": "2023-03-13T07:40:21.527Z"
   },
   {
    "duration": 25,
    "start_time": "2023-03-13T07:40:21.541Z"
   },
   {
    "duration": 159,
    "start_time": "2023-03-13T07:40:21.578Z"
   },
   {
    "duration": 48,
    "start_time": "2023-03-13T07:40:21.739Z"
   },
   {
    "duration": 5,
    "start_time": "2023-03-13T07:40:21.788Z"
   },
   {
    "duration": 134,
    "start_time": "2023-03-13T07:40:21.795Z"
   },
   {
    "duration": 24,
    "start_time": "2023-03-13T07:40:21.931Z"
   },
   {
    "duration": 23,
    "start_time": "2023-03-13T07:40:21.958Z"
   },
   {
    "duration": 16,
    "start_time": "2023-03-13T07:40:21.983Z"
   },
   {
    "duration": 314,
    "start_time": "2023-03-13T07:40:22.001Z"
   },
   {
    "duration": 271,
    "start_time": "2023-03-13T07:40:22.317Z"
   },
   {
    "duration": 402,
    "start_time": "2023-03-13T07:40:22.590Z"
   },
   {
    "duration": 228,
    "start_time": "2023-03-13T07:40:22.996Z"
   },
   {
    "duration": 211,
    "start_time": "2023-03-13T07:40:23.226Z"
   },
   {
    "duration": 330,
    "start_time": "2023-03-13T07:40:23.439Z"
   },
   {
    "duration": 296,
    "start_time": "2023-03-13T07:40:23.777Z"
   },
   {
    "duration": 311,
    "start_time": "2023-03-13T07:40:24.077Z"
   },
   {
    "duration": 167,
    "start_time": "2023-03-13T07:40:24.390Z"
   },
   {
    "duration": 189,
    "start_time": "2023-03-13T07:40:24.558Z"
   },
   {
    "duration": 340,
    "start_time": "2023-03-13T07:40:24.749Z"
   },
   {
    "duration": 331,
    "start_time": "2023-03-13T07:40:25.091Z"
   },
   {
    "duration": 429,
    "start_time": "2023-03-13T07:40:25.424Z"
   },
   {
    "duration": 274,
    "start_time": "2023-03-13T07:40:25.856Z"
   },
   {
    "duration": 277,
    "start_time": "2023-03-13T07:40:26.132Z"
   },
   {
    "duration": 261,
    "start_time": "2023-03-13T07:40:26.411Z"
   },
   {
    "duration": 211,
    "start_time": "2023-03-13T07:40:26.676Z"
   },
   {
    "duration": 231,
    "start_time": "2023-03-13T07:40:26.889Z"
   },
   {
    "duration": 217,
    "start_time": "2023-03-13T07:40:27.122Z"
   },
   {
    "duration": 318,
    "start_time": "2023-03-13T07:40:27.342Z"
   },
   {
    "duration": 194,
    "start_time": "2023-03-13T07:40:27.662Z"
   },
   {
    "duration": 508,
    "start_time": "2023-03-13T07:40:27.858Z"
   },
   {
    "duration": 145,
    "start_time": "2023-03-13T07:40:28.367Z"
   },
   {
    "duration": 175,
    "start_time": "2023-03-13T07:40:28.514Z"
   },
   {
    "duration": 277,
    "start_time": "2023-03-13T07:40:28.691Z"
   },
   {
    "duration": 107,
    "start_time": "2023-03-13T07:40:28.977Z"
   },
   {
    "duration": 10,
    "start_time": "2023-03-13T07:40:29.086Z"
   },
   {
    "duration": 27,
    "start_time": "2023-03-13T07:40:29.098Z"
   },
   {
    "duration": 216,
    "start_time": "2023-03-13T07:40:29.127Z"
   },
   {
    "duration": 13,
    "start_time": "2023-03-13T07:40:36.319Z"
   }
  ],
  "kernelspec": {
   "display_name": "Python 3 (ipykernel)",
   "language": "python",
   "name": "python3"
  },
  "language_info": {
   "codemirror_mode": {
    "name": "ipython",
    "version": 3
   },
   "file_extension": ".py",
   "mimetype": "text/x-python",
   "name": "python",
   "nbconvert_exporter": "python",
   "pygments_lexer": "ipython3",
   "version": "3.9.5"
  },
  "toc": {
   "base_numbering": 1,
   "nav_menu": {},
   "number_sections": true,
   "sideBar": true,
   "skip_h1_title": true,
   "title_cell": "Table of Contents",
   "title_sidebar": "Contents",
   "toc_cell": false,
   "toc_position": {
    "height": "calc(100% - 180px)",
    "left": "10px",
    "top": "150px",
    "width": "165px"
   },
   "toc_section_display": true,
   "toc_window_display": true
  }
 },
 "nbformat": 4,
 "nbformat_minor": 2
}
