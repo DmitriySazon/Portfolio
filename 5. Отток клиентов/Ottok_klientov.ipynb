{
 "cells": [
  {
   "cell_type": "markdown",
   "metadata": {},
   "source": [
    "# Отток клиентов"
   ]
  },
  {
   "cell_type": "markdown",
   "metadata": {},
   "source": [
    "Из «Бета-Банка» стали уходить клиенты. Каждый месяц. Немного, но заметно. Банковские маркетологи посчитали: сохранять текущих клиентов дешевле, чем привлекать новых.\n",
    "\n",
    "Нужно спрогнозировать, уйдёт клиент из банка в ближайшее время или нет. Вам предоставлены исторические данные о поведении клиентов и расторжении договоров с банком. \n",
    "\n",
    "Постройте модель с предельно большим значением *F1*-меры. Чтобы сдать проект успешно, нужно довести метрику до 0.59. Проверьте *F1*-меру на тестовой выборке самостоятельно.\n",
    "\n",
    "Дополнительно измеряйте *AUC-ROC*, сравнивайте её значение с *F1*-мерой.\n",
    "\n"
   ]
  },
  {
   "cell_type": "markdown",
   "metadata": {},
   "source": [
    "# Инструкция по выполнению проекта"
   ]
  },
  {
   "cell_type": "markdown",
   "metadata": {},
   "source": [
    "Загрузите и подготовьте данные. Поясните порядок действий.\n",
    "Исследуйте баланс классов, обучите модель без учёта дисбаланса. Кратко опишите выводы.\n",
    "Улучшите качество модели, учитывая дисбаланс классов. Обучите разные модели и найдите лучшую. Кратко опишите выводы.\n",
    "Проведите финальное тестирование.\n",
    "Описание данных\n",
    "Данные находятся в файле /datasets/Churn.csv\n",
    "\n"
   ]
  },
  {
   "cell_type": "markdown",
   "metadata": {},
   "source": [
    "# Признаки"
   ]
  },
  {
   "cell_type": "markdown",
   "metadata": {},
   "source": [
    "RowNumber — индекс строки в данных  \n",
    "CustomerId — уникальный идентификатор клиента  \n",
    "Surname — фамилия  \n",
    "CreditScore — кредитный рейтинг  \n",
    "Geography — страна проживания  \n",
    "Gender — пол  \n",
    "Age — возраст  \n",
    "Tenure — сколько лет человек является клиентом банка  \n",
    "Balance — баланс на счёте  \n",
    "NumOfProducts — количество продуктов банка, используемых клиентом  \n",
    "HasCrCard — наличие кредитной карты  \n",
    "IsActiveMember — активность клиента  \n",
    "EstimatedSalary — предполагаемая зарплата  \n",
    "\n",
    "Целевой признак    \n",
    "Exited — факт ухода клиента  \n",
    "\n"
   ]
  },
  {
   "cell_type": "markdown",
   "metadata": {},
   "source": [
    "## Подготовка данных"
   ]
  },
  {
   "cell_type": "markdown",
   "metadata": {},
   "source": [
    "Импортируем необходимые библиотеки"
   ]
  },
  {
   "cell_type": "code",
   "execution_count": 50,
   "metadata": {},
   "outputs": [],
   "source": [
    "import pandas as pd\n",
    "import seaborn as sbn\n",
    "import matplotlib.pyplot as plt\n",
    "from sklearn.model_selection import train_test_split, GridSearchCV\n",
    "from sklearn.preprocessing import OrdinalEncoder\n",
    "from sklearn.preprocessing import StandardScaler\n",
    "from sklearn.tree import DecisionTreeClassifier\n",
    "from sklearn.metrics import accuracy_score,roc_auc_score,f1_score,precision_score, recall_score\n",
    "from sklearn.ensemble import RandomForestClassifier\n",
    "from sklearn.linear_model import LogisticRegression\n",
    "from sklearn.utils import shuffle\n",
    "from sklearn.metrics import roc_curve \n",
    "from sklearn.dummy import DummyClassifier\n",
    "from sklearn.ensemble import GradientBoostingClassifier"
   ]
  },
  {
   "cell_type": "markdown",
   "metadata": {},
   "source": [
    "Уберем экспонентациальные формы при выводе данных"
   ]
  },
  {
   "cell_type": "code",
   "execution_count": 2,
   "metadata": {},
   "outputs": [],
   "source": [
    "pd.set_option('display.float_format', '{:,.2f}'.format)"
   ]
  },
  {
   "cell_type": "markdown",
   "metadata": {},
   "source": [
    "Сбросим ограничение на количество выводимых столбцов, что бы просмотреть все столбцы"
   ]
  },
  {
   "cell_type": "code",
   "execution_count": 3,
   "metadata": {},
   "outputs": [],
   "source": [
    "pd.set_option('display.max_columns', None)"
   ]
  },
  {
   "cell_type": "markdown",
   "metadata": {},
   "source": [
    "Чтобы предупреждение SettingWithCopy не появлялось добавим строчку кода"
   ]
  },
  {
   "cell_type": "code",
   "execution_count": 4,
   "metadata": {},
   "outputs": [],
   "source": [
    "pd.options.mode.chained_assignment = None"
   ]
  },
  {
   "cell_type": "markdown",
   "metadata": {},
   "source": [
    "Чтение файла с данными и сохранение в DataFrame"
   ]
  },
  {
   "cell_type": "code",
   "execution_count": 5,
   "metadata": {},
   "outputs": [],
   "source": [
    "try:\n",
    "    df = pd.read_csv('C:/Users/КоньковаМария/Desktop/git/Churn.csv')\n",
    "except:\n",
    "    df = pd.read_csv('/datasets/Churn.csv')"
   ]
  },
  {
   "cell_type": "markdown",
   "metadata": {},
   "source": [
    "Посмотрим на первые 5 строк таблицы df"
   ]
  },
  {
   "cell_type": "code",
   "execution_count": 6,
   "metadata": {},
   "outputs": [
    {
     "data": {
      "text/html": [
       "<div>\n",
       "<style scoped>\n",
       "    .dataframe tbody tr th:only-of-type {\n",
       "        vertical-align: middle;\n",
       "    }\n",
       "\n",
       "    .dataframe tbody tr th {\n",
       "        vertical-align: top;\n",
       "    }\n",
       "\n",
       "    .dataframe thead th {\n",
       "        text-align: right;\n",
       "    }\n",
       "</style>\n",
       "<table border=\"1\" class=\"dataframe\">\n",
       "  <thead>\n",
       "    <tr style=\"text-align: right;\">\n",
       "      <th></th>\n",
       "      <th>RowNumber</th>\n",
       "      <th>CustomerId</th>\n",
       "      <th>Surname</th>\n",
       "      <th>CreditScore</th>\n",
       "      <th>Geography</th>\n",
       "      <th>Gender</th>\n",
       "      <th>Age</th>\n",
       "      <th>Tenure</th>\n",
       "      <th>Balance</th>\n",
       "      <th>NumOfProducts</th>\n",
       "      <th>HasCrCard</th>\n",
       "      <th>IsActiveMember</th>\n",
       "      <th>EstimatedSalary</th>\n",
       "      <th>Exited</th>\n",
       "    </tr>\n",
       "  </thead>\n",
       "  <tbody>\n",
       "    <tr>\n",
       "      <th>0</th>\n",
       "      <td>1</td>\n",
       "      <td>15634602</td>\n",
       "      <td>Hargrave</td>\n",
       "      <td>619</td>\n",
       "      <td>France</td>\n",
       "      <td>Female</td>\n",
       "      <td>42</td>\n",
       "      <td>2.00</td>\n",
       "      <td>0.00</td>\n",
       "      <td>1</td>\n",
       "      <td>1</td>\n",
       "      <td>1</td>\n",
       "      <td>101,348.88</td>\n",
       "      <td>1</td>\n",
       "    </tr>\n",
       "    <tr>\n",
       "      <th>1</th>\n",
       "      <td>2</td>\n",
       "      <td>15647311</td>\n",
       "      <td>Hill</td>\n",
       "      <td>608</td>\n",
       "      <td>Spain</td>\n",
       "      <td>Female</td>\n",
       "      <td>41</td>\n",
       "      <td>1.00</td>\n",
       "      <td>83,807.86</td>\n",
       "      <td>1</td>\n",
       "      <td>0</td>\n",
       "      <td>1</td>\n",
       "      <td>112,542.58</td>\n",
       "      <td>0</td>\n",
       "    </tr>\n",
       "    <tr>\n",
       "      <th>2</th>\n",
       "      <td>3</td>\n",
       "      <td>15619304</td>\n",
       "      <td>Onio</td>\n",
       "      <td>502</td>\n",
       "      <td>France</td>\n",
       "      <td>Female</td>\n",
       "      <td>42</td>\n",
       "      <td>8.00</td>\n",
       "      <td>159,660.80</td>\n",
       "      <td>3</td>\n",
       "      <td>1</td>\n",
       "      <td>0</td>\n",
       "      <td>113,931.57</td>\n",
       "      <td>1</td>\n",
       "    </tr>\n",
       "    <tr>\n",
       "      <th>3</th>\n",
       "      <td>4</td>\n",
       "      <td>15701354</td>\n",
       "      <td>Boni</td>\n",
       "      <td>699</td>\n",
       "      <td>France</td>\n",
       "      <td>Female</td>\n",
       "      <td>39</td>\n",
       "      <td>1.00</td>\n",
       "      <td>0.00</td>\n",
       "      <td>2</td>\n",
       "      <td>0</td>\n",
       "      <td>0</td>\n",
       "      <td>93,826.63</td>\n",
       "      <td>0</td>\n",
       "    </tr>\n",
       "    <tr>\n",
       "      <th>4</th>\n",
       "      <td>5</td>\n",
       "      <td>15737888</td>\n",
       "      <td>Mitchell</td>\n",
       "      <td>850</td>\n",
       "      <td>Spain</td>\n",
       "      <td>Female</td>\n",
       "      <td>43</td>\n",
       "      <td>2.00</td>\n",
       "      <td>125,510.82</td>\n",
       "      <td>1</td>\n",
       "      <td>1</td>\n",
       "      <td>1</td>\n",
       "      <td>79,084.10</td>\n",
       "      <td>0</td>\n",
       "    </tr>\n",
       "  </tbody>\n",
       "</table>\n",
       "</div>"
      ],
      "text/plain": [
       "   RowNumber  CustomerId   Surname  CreditScore Geography  Gender  Age  \\\n",
       "0          1    15634602  Hargrave          619    France  Female   42   \n",
       "1          2    15647311      Hill          608     Spain  Female   41   \n",
       "2          3    15619304      Onio          502    France  Female   42   \n",
       "3          4    15701354      Boni          699    France  Female   39   \n",
       "4          5    15737888  Mitchell          850     Spain  Female   43   \n",
       "\n",
       "   Tenure    Balance  NumOfProducts  HasCrCard  IsActiveMember  \\\n",
       "0    2.00       0.00              1          1               1   \n",
       "1    1.00  83,807.86              1          0               1   \n",
       "2    8.00 159,660.80              3          1               0   \n",
       "3    1.00       0.00              2          0               0   \n",
       "4    2.00 125,510.82              1          1               1   \n",
       "\n",
       "   EstimatedSalary  Exited  \n",
       "0       101,348.88       1  \n",
       "1       112,542.58       0  \n",
       "2       113,931.57       1  \n",
       "3        93,826.63       0  \n",
       "4        79,084.10       0  "
      ]
     },
     "execution_count": 6,
     "metadata": {},
     "output_type": "execute_result"
    }
   ],
   "source": [
    "df.head()"
   ]
  },
  {
   "cell_type": "code",
   "execution_count": 7,
   "metadata": {},
   "outputs": [
    {
     "name": "stdout",
     "output_type": "stream",
     "text": [
      "<class 'pandas.core.frame.DataFrame'>\n",
      "RangeIndex: 10000 entries, 0 to 9999\n",
      "Data columns (total 14 columns):\n",
      " #   Column           Non-Null Count  Dtype  \n",
      "---  ------           --------------  -----  \n",
      " 0   RowNumber        10000 non-null  int64  \n",
      " 1   CustomerId       10000 non-null  int64  \n",
      " 2   Surname          10000 non-null  object \n",
      " 3   CreditScore      10000 non-null  int64  \n",
      " 4   Geography        10000 non-null  object \n",
      " 5   Gender           10000 non-null  object \n",
      " 6   Age              10000 non-null  int64  \n",
      " 7   Tenure           9091 non-null   float64\n",
      " 8   Balance          10000 non-null  float64\n",
      " 9   NumOfProducts    10000 non-null  int64  \n",
      " 10  HasCrCard        10000 non-null  int64  \n",
      " 11  IsActiveMember   10000 non-null  int64  \n",
      " 12  EstimatedSalary  10000 non-null  float64\n",
      " 13  Exited           10000 non-null  int64  \n",
      "dtypes: float64(3), int64(8), object(3)\n",
      "memory usage: 1.1+ MB\n"
     ]
    }
   ],
   "source": [
    "df.info()"
   ]
  },
  {
   "cell_type": "markdown",
   "metadata": {},
   "source": [
    "Заметил следующее:  \n",
    "Пропуски в столбце Tenure;  \n",
    "Ненужные столбцы RowNumber, CustomerId, Surname;  \n",
    "Категориальные признаки - столбцы Geography и Gender"
   ]
  },
  {
   "cell_type": "markdown",
   "metadata": {},
   "source": [
    "Заменим пропуски на 0"
   ]
  },
  {
   "cell_type": "code",
   "execution_count": 8,
   "metadata": {},
   "outputs": [],
   "source": [
    "df['Tenure'] = df['Tenure'].fillna(df['Tenure'].median())"
   ]
  },
  {
   "cell_type": "markdown",
   "metadata": {},
   "source": [
    "Удалим ненужные столбцы"
   ]
  },
  {
   "cell_type": "code",
   "execution_count": 9,
   "metadata": {},
   "outputs": [],
   "source": [
    "df.drop(['RowNumber', 'CustomerId', 'Surname'], axis='columns', inplace=True)"
   ]
  },
  {
   "cell_type": "markdown",
   "metadata": {},
   "source": [
    "Задействуем технику прямого кодирования, чтобы преобразовать категориальные признаки в численные."
   ]
  },
  {
   "cell_type": "code",
   "execution_count": 10,
   "metadata": {},
   "outputs": [],
   "source": [
    "df = pd.get_dummies(df, drop_first=True)"
   ]
  },
  {
   "cell_type": "code",
   "execution_count": 11,
   "metadata": {},
   "outputs": [
    {
     "name": "stdout",
     "output_type": "stream",
     "text": [
      "<class 'pandas.core.frame.DataFrame'>\n",
      "RangeIndex: 10000 entries, 0 to 9999\n",
      "Data columns (total 12 columns):\n",
      " #   Column             Non-Null Count  Dtype  \n",
      "---  ------             --------------  -----  \n",
      " 0   CreditScore        10000 non-null  int64  \n",
      " 1   Age                10000 non-null  int64  \n",
      " 2   Tenure             10000 non-null  float64\n",
      " 3   Balance            10000 non-null  float64\n",
      " 4   NumOfProducts      10000 non-null  int64  \n",
      " 5   HasCrCard          10000 non-null  int64  \n",
      " 6   IsActiveMember     10000 non-null  int64  \n",
      " 7   EstimatedSalary    10000 non-null  float64\n",
      " 8   Exited             10000 non-null  int64  \n",
      " 9   Geography_Germany  10000 non-null  uint8  \n",
      " 10  Geography_Spain    10000 non-null  uint8  \n",
      " 11  Gender_Male        10000 non-null  uint8  \n",
      "dtypes: float64(3), int64(6), uint8(3)\n",
      "memory usage: 732.5 KB\n"
     ]
    }
   ],
   "source": [
    "df.info()"
   ]
  },
  {
   "cell_type": "code",
   "execution_count": 12,
   "metadata": {},
   "outputs": [
    {
     "data": {
      "text/html": [
       "<div>\n",
       "<style scoped>\n",
       "    .dataframe tbody tr th:only-of-type {\n",
       "        vertical-align: middle;\n",
       "    }\n",
       "\n",
       "    .dataframe tbody tr th {\n",
       "        vertical-align: top;\n",
       "    }\n",
       "\n",
       "    .dataframe thead th {\n",
       "        text-align: right;\n",
       "    }\n",
       "</style>\n",
       "<table border=\"1\" class=\"dataframe\">\n",
       "  <thead>\n",
       "    <tr style=\"text-align: right;\">\n",
       "      <th></th>\n",
       "      <th>CreditScore</th>\n",
       "      <th>Age</th>\n",
       "      <th>Tenure</th>\n",
       "      <th>Balance</th>\n",
       "      <th>NumOfProducts</th>\n",
       "      <th>HasCrCard</th>\n",
       "      <th>IsActiveMember</th>\n",
       "      <th>EstimatedSalary</th>\n",
       "      <th>Exited</th>\n",
       "      <th>Geography_Germany</th>\n",
       "      <th>Geography_Spain</th>\n",
       "      <th>Gender_Male</th>\n",
       "    </tr>\n",
       "  </thead>\n",
       "  <tbody>\n",
       "    <tr>\n",
       "      <th>0</th>\n",
       "      <td>619</td>\n",
       "      <td>42</td>\n",
       "      <td>2.00</td>\n",
       "      <td>0.00</td>\n",
       "      <td>1</td>\n",
       "      <td>1</td>\n",
       "      <td>1</td>\n",
       "      <td>101,348.88</td>\n",
       "      <td>1</td>\n",
       "      <td>0</td>\n",
       "      <td>0</td>\n",
       "      <td>0</td>\n",
       "    </tr>\n",
       "    <tr>\n",
       "      <th>1</th>\n",
       "      <td>608</td>\n",
       "      <td>41</td>\n",
       "      <td>1.00</td>\n",
       "      <td>83,807.86</td>\n",
       "      <td>1</td>\n",
       "      <td>0</td>\n",
       "      <td>1</td>\n",
       "      <td>112,542.58</td>\n",
       "      <td>0</td>\n",
       "      <td>0</td>\n",
       "      <td>1</td>\n",
       "      <td>0</td>\n",
       "    </tr>\n",
       "    <tr>\n",
       "      <th>2</th>\n",
       "      <td>502</td>\n",
       "      <td>42</td>\n",
       "      <td>8.00</td>\n",
       "      <td>159,660.80</td>\n",
       "      <td>3</td>\n",
       "      <td>1</td>\n",
       "      <td>0</td>\n",
       "      <td>113,931.57</td>\n",
       "      <td>1</td>\n",
       "      <td>0</td>\n",
       "      <td>0</td>\n",
       "      <td>0</td>\n",
       "    </tr>\n",
       "    <tr>\n",
       "      <th>3</th>\n",
       "      <td>699</td>\n",
       "      <td>39</td>\n",
       "      <td>1.00</td>\n",
       "      <td>0.00</td>\n",
       "      <td>2</td>\n",
       "      <td>0</td>\n",
       "      <td>0</td>\n",
       "      <td>93,826.63</td>\n",
       "      <td>0</td>\n",
       "      <td>0</td>\n",
       "      <td>0</td>\n",
       "      <td>0</td>\n",
       "    </tr>\n",
       "    <tr>\n",
       "      <th>4</th>\n",
       "      <td>850</td>\n",
       "      <td>43</td>\n",
       "      <td>2.00</td>\n",
       "      <td>125,510.82</td>\n",
       "      <td>1</td>\n",
       "      <td>1</td>\n",
       "      <td>1</td>\n",
       "      <td>79,084.10</td>\n",
       "      <td>0</td>\n",
       "      <td>0</td>\n",
       "      <td>1</td>\n",
       "      <td>0</td>\n",
       "    </tr>\n",
       "  </tbody>\n",
       "</table>\n",
       "</div>"
      ],
      "text/plain": [
       "   CreditScore  Age  Tenure    Balance  NumOfProducts  HasCrCard  \\\n",
       "0          619   42    2.00       0.00              1          1   \n",
       "1          608   41    1.00  83,807.86              1          0   \n",
       "2          502   42    8.00 159,660.80              3          1   \n",
       "3          699   39    1.00       0.00              2          0   \n",
       "4          850   43    2.00 125,510.82              1          1   \n",
       "\n",
       "   IsActiveMember  EstimatedSalary  Exited  Geography_Germany  \\\n",
       "0               1       101,348.88       1                  0   \n",
       "1               1       112,542.58       0                  0   \n",
       "2               0       113,931.57       1                  0   \n",
       "3               0        93,826.63       0                  0   \n",
       "4               1        79,084.10       0                  0   \n",
       "\n",
       "   Geography_Spain  Gender_Male  \n",
       "0                0            0  \n",
       "1                1            0  \n",
       "2                0            0  \n",
       "3                0            0  \n",
       "4                1            0  "
      ]
     },
     "execution_count": 12,
     "metadata": {},
     "output_type": "execute_result"
    }
   ],
   "source": [
    "df.head()"
   ]
  },
  {
   "cell_type": "markdown",
   "metadata": {},
   "source": [
    "Изучим корреляции в данных. Так мы сможем оценить взаимосвязи в данных и влияние параметров на целевой признак."
   ]
  },
  {
   "cell_type": "code",
   "execution_count": 13,
   "metadata": {},
   "outputs": [],
   "source": [
    "sbn.pairplot(df, hue = 'Exited')\n",
    "plt.show()"
   ]
  },
  {
   "cell_type": "markdown",
   "metadata": {},
   "source": [
    "## Исследование задачи"
   ]
  },
  {
   "cell_type": "markdown",
   "metadata": {},
   "source": [
    "Разобьем данные на выборки"
   ]
  },
  {
   "cell_type": "code",
   "execution_count": 14,
   "metadata": {},
   "outputs": [],
   "source": [
    "target=df['Exited'] \n",
    "features=df.drop(['Exited'],axis=1) "
   ]
  },
  {
   "cell_type": "code",
   "execution_count": 15,
   "metadata": {},
   "outputs": [],
   "source": [
    "features_train, features_test, target_train, target_test = train_test_split(\n",
    "    features, target, test_size=0.40, random_state=12345\n",
    ")\n",
    "features_test, features_valid, target_test, target_valid = train_test_split(\n",
    "    features_test, target_test, test_size=0.50, random_state=12345\n",
    ")"
   ]
  },
  {
   "cell_type": "code",
   "execution_count": 16,
   "metadata": {},
   "outputs": [
    {
     "name": "stdout",
     "output_type": "stream",
     "text": [
      "Разделение выборки в следующих пропорциях:\n",
      "60% — тренировочная;\n",
      "20% — тестовая;\n",
      "20% — валидационная.\n"
     ]
    }
   ],
   "source": [
    "print('Разделение выборки в следующих пропорциях:')\n",
    "print(f'{(len(features_train)/len(df)):.0%} — тренировочная;')\n",
    "print(f'{(len(features_test)/len(df)):.0%} — тестовая;')\n",
    "print(f'{(len(features_valid)/len(df)):.0%} — валидационная.')"
   ]
  },
  {
   "cell_type": "markdown",
   "metadata": {},
   "source": [
    "Масштабируем признаки методом стандартизации"
   ]
  },
  {
   "cell_type": "code",
   "execution_count": 17,
   "metadata": {},
   "outputs": [],
   "source": [
    "numeric = ['CreditScore', 'Age', 'Balance', 'EstimatedSalary', 'Tenure', 'NumOfProducts']"
   ]
  },
  {
   "cell_type": "code",
   "execution_count": 18,
   "metadata": {},
   "outputs": [],
   "source": [
    "scaler = StandardScaler()\n",
    "scaler.fit(features_train[numeric])\n",
    "features_train[numeric] = scaler.transform(features_train[numeric])\n",
    "features_valid[numeric] = scaler.transform(features_valid[numeric])\n",
    "features_test[numeric] = scaler.transform(features_test[numeric])"
   ]
  },
  {
   "cell_type": "markdown",
   "metadata": {},
   "source": [
    "Посмотрим количество объектов отрицательного и положительно класса"
   ]
  },
  {
   "cell_type": "code",
   "execution_count": 19,
   "metadata": {},
   "outputs": [
    {
     "data": {
      "text/plain": [
       "((7963, 11), (2037, 11))"
      ]
     },
     "execution_count": 19,
     "metadata": {},
     "output_type": "execute_result"
    }
   ],
   "source": [
    "features[target == 0].shape, features[target == 1].shape"
   ]
  },
  {
   "cell_type": "markdown",
   "metadata": {},
   "source": [
    "Наблюдается дисбаланс классов, объектов отрицаткльного класса почти в 4 раза больше , чем объектов положительного. Рассчитаем базовые модели на несбалансированных данных."
   ]
  },
  {
   "cell_type": "markdown",
   "metadata": {},
   "source": [
    "Построим модели без учета баланса"
   ]
  },
  {
   "cell_type": "markdown",
   "metadata": {},
   "source": [
    "Функция для показа метрик"
   ]
  },
  {
   "cell_type": "code",
   "execution_count": 20,
   "metadata": {},
   "outputs": [],
   "source": [
    "def show_metrics(model, features, target, model_name):\n",
    "    predictions = model.predict(features)\n",
    "    probabilities = model.predict_proba(features)[:, 1]\n",
    "    metrics = {\n",
    "        'F1-мера': [f'{f1_score(target, predictions):.2%}'],\n",
    "        'Полнота (recall)': [f'{recall_score(target, predictions):.2%}'],\n",
    "        'AUC-ROC метрика': [f'{roc_auc_score(target, probabilities):.2%}'],\n",
    "        'Точность (precision)': [f'{precision_score(target, predictions):.2%}'],\n",
    "        'Доля правильных ответов (accuracy)': [f'{accuracy_score(target, predictions):.2%}'],\n",
    "    }\n",
    "    df_metrics = pd.DataFrame.from_dict(metrics, orient='index')\n",
    "    df_metrics = df_metrics.rename(columns={0: model_name})\n",
    "    display(df_metrics)"
   ]
  },
  {
   "cell_type": "markdown",
   "metadata": {},
   "source": [
    "Обучение с помощью модели Дерева решения"
   ]
  },
  {
   "cell_type": "code",
   "execution_count": 21,
   "metadata": {},
   "outputs": [
    {
     "name": "stdout",
     "output_type": "stream",
     "text": [
      "Наилучшая метрика F1: 52.63% при глубине 9\n"
     ]
    }
   ],
   "source": [
    "best_depth = 0\n",
    "best_f1 = 0\n",
    "for depth in range(1,10,1):\n",
    "    model_tree=DecisionTreeClassifier(max_depth=depth,random_state=1234).fit(features_train,target_train)\n",
    "    predictions_valid=model_tree.predict(features_valid)\n",
    "    f1 = f1_score(target_valid, predictions_valid)\n",
    "    if f1 > best_f1:\n",
    "        best_f1 = f1\n",
    "        best_depth = depth\n",
    "print(f'Наилучшая метрика F1: {best_f1:.2%} при глубине {best_depth}')"
   ]
  },
  {
   "cell_type": "code",
   "execution_count": 22,
   "metadata": {},
   "outputs": [
    {
     "data": {
      "text/html": [
       "<div>\n",
       "<style scoped>\n",
       "    .dataframe tbody tr th:only-of-type {\n",
       "        vertical-align: middle;\n",
       "    }\n",
       "\n",
       "    .dataframe tbody tr th {\n",
       "        vertical-align: top;\n",
       "    }\n",
       "\n",
       "    .dataframe thead th {\n",
       "        text-align: right;\n",
       "    }\n",
       "</style>\n",
       "<table border=\"1\" class=\"dataframe\">\n",
       "  <thead>\n",
       "    <tr style=\"text-align: right;\">\n",
       "      <th></th>\n",
       "      <th>Дерево решений</th>\n",
       "    </tr>\n",
       "  </thead>\n",
       "  <tbody>\n",
       "    <tr>\n",
       "      <th>F1-мера</th>\n",
       "      <td>52.54%</td>\n",
       "    </tr>\n",
       "    <tr>\n",
       "      <th>Полнота (recall)</th>\n",
       "      <td>45.15%</td>\n",
       "    </tr>\n",
       "    <tr>\n",
       "      <th>AUC-ROC метрика</th>\n",
       "      <td>77.82%</td>\n",
       "    </tr>\n",
       "    <tr>\n",
       "      <th>Точность (precision)</th>\n",
       "      <td>62.83%</td>\n",
       "    </tr>\n",
       "    <tr>\n",
       "      <th>Доля правильных ответов (accuracy)</th>\n",
       "      <td>82.75%</td>\n",
       "    </tr>\n",
       "  </tbody>\n",
       "</table>\n",
       "</div>"
      ],
      "text/plain": [
       "                                   Дерево решений\n",
       "F1-мера                                    52.54%\n",
       "Полнота (recall)                           45.15%\n",
       "AUC-ROC метрика                            77.82%\n",
       "Точность (precision)                       62.83%\n",
       "Доля правильных ответов (accuracy)         82.75%"
      ]
     },
     "metadata": {},
     "output_type": "display_data"
    }
   ],
   "source": [
    "model = DecisionTreeClassifier(max_depth=best_depth, random_state=12345)\n",
    "model.fit(features_train, target_train)\n",
    "show_metrics(model, features_valid, target_valid, 'Дерево решений')"
   ]
  },
  {
   "cell_type": "markdown",
   "metadata": {},
   "source": [
    "Обучение с помощью модели Случайный лес"
   ]
  },
  {
   "cell_type": "code",
   "execution_count": 23,
   "metadata": {},
   "outputs": [
    {
     "name": "stdout",
     "output_type": "stream",
     "text": [
      "Наилучшая метрика F1: 52.8% при количестве «деревьев» 81 и при глубине 17\n"
     ]
    }
   ],
   "source": [
    "best_depth = 0\n",
    "best_est = 0\n",
    "best_f1 = 0\n",
    "for est in range(51, 110, 10):\n",
    "    for depth in range(17, 18):\n",
    "        model = RandomForestClassifier(n_estimators=est, max_depth=depth, random_state=12345)\n",
    "        model.fit(features_train, target_train)\n",
    "        predictions_valid = model.predict(features_valid)\n",
    "        f1 = f1_score(target_valid, predictions_valid)\n",
    "        if f1 > best_f1:\n",
    "            best_f1 = f1\n",
    "            best_depth = depth\n",
    "            best_est = est\n",
    "print(f'Наилучшая метрика F1: {best_f1:.1%} при количестве «деревьев» {best_est} и при глубине {best_depth}')"
   ]
  },
  {
   "cell_type": "code",
   "execution_count": 24,
   "metadata": {},
   "outputs": [
    {
     "data": {
      "text/html": [
       "<div>\n",
       "<style scoped>\n",
       "    .dataframe tbody tr th:only-of-type {\n",
       "        vertical-align: middle;\n",
       "    }\n",
       "\n",
       "    .dataframe tbody tr th {\n",
       "        vertical-align: top;\n",
       "    }\n",
       "\n",
       "    .dataframe thead th {\n",
       "        text-align: right;\n",
       "    }\n",
       "</style>\n",
       "<table border=\"1\" class=\"dataframe\">\n",
       "  <thead>\n",
       "    <tr style=\"text-align: right;\">\n",
       "      <th></th>\n",
       "      <th>Случайный лес</th>\n",
       "    </tr>\n",
       "  </thead>\n",
       "  <tbody>\n",
       "    <tr>\n",
       "      <th>F1-мера</th>\n",
       "      <td>52.79%</td>\n",
       "    </tr>\n",
       "    <tr>\n",
       "      <th>Полнота (recall)</th>\n",
       "      <td>41.37%</td>\n",
       "    </tr>\n",
       "    <tr>\n",
       "      <th>AUC-ROC метрика</th>\n",
       "      <td>85.12%</td>\n",
       "    </tr>\n",
       "    <tr>\n",
       "      <th>Точность (precision)</th>\n",
       "      <td>72.92%</td>\n",
       "    </tr>\n",
       "    <tr>\n",
       "      <th>Доля правильных ответов (accuracy)</th>\n",
       "      <td>84.35%</td>\n",
       "    </tr>\n",
       "  </tbody>\n",
       "</table>\n",
       "</div>"
      ],
      "text/plain": [
       "                                   Случайный лес\n",
       "F1-мера                                   52.79%\n",
       "Полнота (recall)                          41.37%\n",
       "AUC-ROC метрика                           85.12%\n",
       "Точность (precision)                      72.92%\n",
       "Доля правильных ответов (accuracy)        84.35%"
      ]
     },
     "metadata": {},
     "output_type": "display_data"
    }
   ],
   "source": [
    "model = RandomForestClassifier(n_estimators=best_est, max_depth=best_depth, random_state=12345)\n",
    "model.fit(features_train, target_train)\n",
    "show_metrics(model, features_valid, target_valid, 'Случайный лес')"
   ]
  },
  {
   "cell_type": "markdown",
   "metadata": {},
   "source": [
    "Обучение с помощью модели Логистической регрессии"
   ]
  },
  {
   "cell_type": "markdown",
   "metadata": {},
   "source": [
    "Рассматривая данные с дисбалансом (но, с переведенными категориальными и стандартизированными данными) тремя моделями можно сделать вывод, что саммая лучшая модель оказалась Случайный лес. При лучшем значении F1: 52.8% при количестве «деревьев» 81 и при глубине 17."
   ]
  },
  {
   "cell_type": "markdown",
   "metadata": {},
   "source": [
    "## Борьба с дисбалансом"
   ]
  },
  {
   "cell_type": "markdown",
   "metadata": {},
   "source": [
    "Параметр class_weight для борьбы с дисбалансом"
   ]
  },
  {
   "cell_type": "markdown",
   "metadata": {},
   "source": [
    "Начнем с логистической регрессии"
   ]
  },
  {
   "cell_type": "code",
   "execution_count": 25,
   "metadata": {},
   "outputs": [
    {
     "data": {
      "text/html": [
       "<div>\n",
       "<style scoped>\n",
       "    .dataframe tbody tr th:only-of-type {\n",
       "        vertical-align: middle;\n",
       "    }\n",
       "\n",
       "    .dataframe tbody tr th {\n",
       "        vertical-align: top;\n",
       "    }\n",
       "\n",
       "    .dataframe thead th {\n",
       "        text-align: right;\n",
       "    }\n",
       "</style>\n",
       "<table border=\"1\" class=\"dataframe\">\n",
       "  <thead>\n",
       "    <tr style=\"text-align: right;\">\n",
       "      <th></th>\n",
       "      <th>Логистическая регрессия</th>\n",
       "    </tr>\n",
       "  </thead>\n",
       "  <tbody>\n",
       "    <tr>\n",
       "      <th>F1-мера</th>\n",
       "      <td>47.88%</td>\n",
       "    </tr>\n",
       "    <tr>\n",
       "      <th>Полнота (recall)</th>\n",
       "      <td>65.48%</td>\n",
       "    </tr>\n",
       "    <tr>\n",
       "      <th>AUC-ROC метрика</th>\n",
       "      <td>74.18%</td>\n",
       "    </tr>\n",
       "    <tr>\n",
       "      <th>Точность (precision)</th>\n",
       "      <td>37.74%</td>\n",
       "    </tr>\n",
       "    <tr>\n",
       "      <th>Доля правильных ответов (accuracy)</th>\n",
       "      <td>69.85%</td>\n",
       "    </tr>\n",
       "  </tbody>\n",
       "</table>\n",
       "</div>"
      ],
      "text/plain": [
       "                                   Логистическая регрессия\n",
       "F1-мера                                             47.88%\n",
       "Полнота (recall)                                    65.48%\n",
       "AUC-ROC метрика                                     74.18%\n",
       "Точность (precision)                                37.74%\n",
       "Доля правильных ответов (accuracy)                  69.85%"
      ]
     },
     "metadata": {},
     "output_type": "display_data"
    }
   ],
   "source": [
    "model = LogisticRegression(solver='liblinear', class_weight='balanced', random_state=12345)\n",
    "model.fit(features_train, target_train)\n",
    "show_metrics(model, features_valid, target_valid, 'Логистическая регрессия')"
   ]
  },
  {
   "cell_type": "markdown",
   "metadata": {},
   "source": [
    "Значение с параметром class_weight, лучше чем без него."
   ]
  },
  {
   "cell_type": "markdown",
   "metadata": {},
   "source": [
    "Решающее дерево"
   ]
  },
  {
   "cell_type": "code",
   "execution_count": 26,
   "metadata": {},
   "outputs": [
    {
     "name": "stdout",
     "output_type": "stream",
     "text": [
      "Наилучшая метрика F1: 58.1% при глубине 5\n"
     ]
    }
   ],
   "source": [
    "best_depth = 0\n",
    "best_f1 = 0\n",
    "for depth in range(1, 10):\n",
    "    model = DecisionTreeClassifier(max_depth=depth, random_state=12345, class_weight='balanced')\n",
    "    model.fit(features_train, target_train)\n",
    "    predictions_valid = model.predict(features_valid)\n",
    "    f1 = f1_score(target_valid, predictions_valid)\n",
    "    if f1 > best_f1:\n",
    "        best_f1 = f1\n",
    "        best_depth = depth\n",
    "print(f'Наилучшая метрика F1: {best_f1:.1%} при глубине {best_depth}')"
   ]
  },
  {
   "cell_type": "code",
   "execution_count": 27,
   "metadata": {},
   "outputs": [
    {
     "data": {
      "text/html": [
       "<div>\n",
       "<style scoped>\n",
       "    .dataframe tbody tr th:only-of-type {\n",
       "        vertical-align: middle;\n",
       "    }\n",
       "\n",
       "    .dataframe tbody tr th {\n",
       "        vertical-align: top;\n",
       "    }\n",
       "\n",
       "    .dataframe thead th {\n",
       "        text-align: right;\n",
       "    }\n",
       "</style>\n",
       "<table border=\"1\" class=\"dataframe\">\n",
       "  <thead>\n",
       "    <tr style=\"text-align: right;\">\n",
       "      <th></th>\n",
       "      <th>Дерево решений</th>\n",
       "    </tr>\n",
       "  </thead>\n",
       "  <tbody>\n",
       "    <tr>\n",
       "      <th>F1-мера</th>\n",
       "      <td>58.09%</td>\n",
       "    </tr>\n",
       "    <tr>\n",
       "      <th>Полнота (recall)</th>\n",
       "      <td>66.19%</td>\n",
       "    </tr>\n",
       "    <tr>\n",
       "      <th>AUC-ROC метрика</th>\n",
       "      <td>83.55%</td>\n",
       "    </tr>\n",
       "    <tr>\n",
       "      <th>Точность (precision)</th>\n",
       "      <td>51.76%</td>\n",
       "    </tr>\n",
       "    <tr>\n",
       "      <th>Доля правильных ответов (accuracy)</th>\n",
       "      <td>79.80%</td>\n",
       "    </tr>\n",
       "  </tbody>\n",
       "</table>\n",
       "</div>"
      ],
      "text/plain": [
       "                                   Дерево решений\n",
       "F1-мера                                    58.09%\n",
       "Полнота (recall)                           66.19%\n",
       "AUC-ROC метрика                            83.55%\n",
       "Точность (precision)                       51.76%\n",
       "Доля правильных ответов (accuracy)         79.80%"
      ]
     },
     "metadata": {},
     "output_type": "display_data"
    }
   ],
   "source": [
    "model = DecisionTreeClassifier(max_depth=best_depth, random_state=12345, class_weight='balanced')\n",
    "model.fit(features_train, target_train)\n",
    "show_metrics(model, features_valid, target_valid, 'Дерево решений')"
   ]
  },
  {
   "cell_type": "markdown",
   "metadata": {},
   "source": [
    "Случайный лес"
   ]
  },
  {
   "cell_type": "code",
   "execution_count": 28,
   "metadata": {},
   "outputs": [
    {
     "name": "stdout",
     "output_type": "stream",
     "text": [
      "Наилучшая метрика F1: 61.3% при количестве «деревьев» 71 и при глубине 8\n"
     ]
    }
   ],
   "source": [
    "best_depth = 0\n",
    "best_est = 0\n",
    "best_f1 = 0\n",
    "for est in range(51, 110, 10):\n",
    "    for depth in range(8, 9):\n",
    "        model = RandomForestClassifier(n_estimators=est, max_depth=depth, random_state=12345, class_weight='balanced')\n",
    "        model.fit(features_train, target_train)\n",
    "        predictions_valid = model.predict(features_valid)\n",
    "        f1 = f1_score(target_valid, predictions_valid)\n",
    "        if f1 > best_f1:\n",
    "            best_f1 = f1\n",
    "            best_depth = depth\n",
    "            best_est = est\n",
    "print(f'Наилучшая метрика F1: {best_f1:.1%} при количестве «деревьев» {best_est} и при глубине {best_depth}')"
   ]
  },
  {
   "cell_type": "code",
   "execution_count": 29,
   "metadata": {},
   "outputs": [
    {
     "data": {
      "text/html": [
       "<div>\n",
       "<style scoped>\n",
       "    .dataframe tbody tr th:only-of-type {\n",
       "        vertical-align: middle;\n",
       "    }\n",
       "\n",
       "    .dataframe tbody tr th {\n",
       "        vertical-align: top;\n",
       "    }\n",
       "\n",
       "    .dataframe thead th {\n",
       "        text-align: right;\n",
       "    }\n",
       "</style>\n",
       "<table border=\"1\" class=\"dataframe\">\n",
       "  <thead>\n",
       "    <tr style=\"text-align: right;\">\n",
       "      <th></th>\n",
       "      <th>Случайный лес</th>\n",
       "    </tr>\n",
       "  </thead>\n",
       "  <tbody>\n",
       "    <tr>\n",
       "      <th>F1-мера</th>\n",
       "      <td>61.34%</td>\n",
       "    </tr>\n",
       "    <tr>\n",
       "      <th>Полнота (recall)</th>\n",
       "      <td>67.14%</td>\n",
       "    </tr>\n",
       "    <tr>\n",
       "      <th>AUC-ROC метрика</th>\n",
       "      <td>85.52%</td>\n",
       "    </tr>\n",
       "    <tr>\n",
       "      <th>Точность (precision)</th>\n",
       "      <td>56.46%</td>\n",
       "    </tr>\n",
       "    <tr>\n",
       "      <th>Доля правильных ответов (accuracy)</th>\n",
       "      <td>82.10%</td>\n",
       "    </tr>\n",
       "  </tbody>\n",
       "</table>\n",
       "</div>"
      ],
      "text/plain": [
       "                                   Случайный лес\n",
       "F1-мера                                   61.34%\n",
       "Полнота (recall)                          67.14%\n",
       "AUC-ROC метрика                           85.52%\n",
       "Точность (precision)                      56.46%\n",
       "Доля правильных ответов (accuracy)        82.10%"
      ]
     },
     "metadata": {},
     "output_type": "display_data"
    }
   ],
   "source": [
    "model = RandomForestClassifier(n_estimators=best_est, max_depth=best_depth, random_state=12345, class_weight='balanced')\n",
    "model.fit(features_train, target_train)\n",
    "show_metrics(model, features_valid, target_valid, 'Случайный лес')"
   ]
  },
  {
   "cell_type": "markdown",
   "metadata": {},
   "source": [
    "Лучшее значение у модели Случайный лес при max_depth=8 и n_estimators=61 при котором F1=61.57%.  \n"
   ]
  },
  {
   "cell_type": "markdown",
   "metadata": {},
   "source": [
    "Увеличение выборки техникой upsampling"
   ]
  },
  {
   "cell_type": "code",
   "execution_count": 30,
   "metadata": {},
   "outputs": [],
   "source": [
    "def upsample(features, target, repeat):\n",
    "    features_zeros = features[target == 0]\n",
    "    features_ones = features[target == 1]\n",
    "    target_zeros = target[target == 0]\n",
    "    target_ones = target[target == 1]\n",
    "\n",
    "    features_upsampled = pd.concat([features_zeros] + [features_ones] * repeat)\n",
    "    target_upsampled = pd.concat([target_zeros] + [target_ones] * repeat)\n",
    "    \n",
    "    features_upsampled, target_upsampled = shuffle(\n",
    "        features_upsampled, target_upsampled, random_state=12345)\n",
    "    \n",
    "    return features_upsampled, target_upsampled\n",
    "\n",
    "features_upsampled, target_upsampled = upsample(features_train, target_train, 4)"
   ]
  },
  {
   "cell_type": "markdown",
   "metadata": {},
   "source": [
    "Далее обучим логистическую регрессию, дерево решений и случайный лес на признаках увеличенной обучающей выборки, и рассчитаем метрики f1"
   ]
  },
  {
   "cell_type": "code",
   "execution_count": 31,
   "metadata": {},
   "outputs": [
    {
     "data": {
      "text/html": [
       "<div>\n",
       "<style scoped>\n",
       "    .dataframe tbody tr th:only-of-type {\n",
       "        vertical-align: middle;\n",
       "    }\n",
       "\n",
       "    .dataframe tbody tr th {\n",
       "        vertical-align: top;\n",
       "    }\n",
       "\n",
       "    .dataframe thead th {\n",
       "        text-align: right;\n",
       "    }\n",
       "</style>\n",
       "<table border=\"1\" class=\"dataframe\">\n",
       "  <thead>\n",
       "    <tr style=\"text-align: right;\">\n",
       "      <th></th>\n",
       "      <th>Логистическая регрессия</th>\n",
       "    </tr>\n",
       "  </thead>\n",
       "  <tbody>\n",
       "    <tr>\n",
       "      <th>F1-мера</th>\n",
       "      <td>47.62%</td>\n",
       "    </tr>\n",
       "    <tr>\n",
       "      <th>Полнота (recall)</th>\n",
       "      <td>65.01%</td>\n",
       "    </tr>\n",
       "    <tr>\n",
       "      <th>AUC-ROC метрика</th>\n",
       "      <td>74.18%</td>\n",
       "    </tr>\n",
       "    <tr>\n",
       "      <th>Точность (precision)</th>\n",
       "      <td>37.57%</td>\n",
       "    </tr>\n",
       "    <tr>\n",
       "      <th>Доля правильных ответов (accuracy)</th>\n",
       "      <td>69.75%</td>\n",
       "    </tr>\n",
       "  </tbody>\n",
       "</table>\n",
       "</div>"
      ],
      "text/plain": [
       "                                   Логистическая регрессия\n",
       "F1-мера                                             47.62%\n",
       "Полнота (recall)                                    65.01%\n",
       "AUC-ROC метрика                                     74.18%\n",
       "Точность (precision)                                37.57%\n",
       "Доля правильных ответов (accuracy)                  69.75%"
      ]
     },
     "metadata": {},
     "output_type": "display_data"
    }
   ],
   "source": [
    "model = LogisticRegression(solver='liblinear', random_state=12345)\n",
    "model.fit(features_upsampled, target_upsampled)\n",
    "show_metrics(model, features_valid, target_valid, 'Логистическая регрессия')"
   ]
  },
  {
   "cell_type": "code",
   "execution_count": 32,
   "metadata": {},
   "outputs": [
    {
     "name": "stdout",
     "output_type": "stream",
     "text": [
      "Наилучшая метрика F1: 58.1% при глубине 5\n"
     ]
    }
   ],
   "source": [
    "best_depth = 0\n",
    "best_f1 = 0\n",
    "for depth in range(1, 10):\n",
    "    model = DecisionTreeClassifier(max_depth=depth, random_state=12345)\n",
    "    model.fit(features_upsampled, target_upsampled)\n",
    "    predictions_valid = model.predict(features_valid)\n",
    "    f1 = f1_score(target_valid, predictions_valid)\n",
    "    if f1 > best_f1:\n",
    "        best_f1 = f1\n",
    "        best_depth = depth\n",
    "print(f'Наилучшая метрика F1: {best_f1:.1%} при глубине {best_depth}')"
   ]
  },
  {
   "cell_type": "code",
   "execution_count": 33,
   "metadata": {},
   "outputs": [
    {
     "data": {
      "text/html": [
       "<div>\n",
       "<style scoped>\n",
       "    .dataframe tbody tr th:only-of-type {\n",
       "        vertical-align: middle;\n",
       "    }\n",
       "\n",
       "    .dataframe tbody tr th {\n",
       "        vertical-align: top;\n",
       "    }\n",
       "\n",
       "    .dataframe thead th {\n",
       "        text-align: right;\n",
       "    }\n",
       "</style>\n",
       "<table border=\"1\" class=\"dataframe\">\n",
       "  <thead>\n",
       "    <tr style=\"text-align: right;\">\n",
       "      <th></th>\n",
       "      <th>Дерево решений</th>\n",
       "    </tr>\n",
       "  </thead>\n",
       "  <tbody>\n",
       "    <tr>\n",
       "      <th>F1-мера</th>\n",
       "      <td>58.09%</td>\n",
       "    </tr>\n",
       "    <tr>\n",
       "      <th>Полнота (recall)</th>\n",
       "      <td>66.19%</td>\n",
       "    </tr>\n",
       "    <tr>\n",
       "      <th>AUC-ROC метрика</th>\n",
       "      <td>83.55%</td>\n",
       "    </tr>\n",
       "    <tr>\n",
       "      <th>Точность (precision)</th>\n",
       "      <td>51.76%</td>\n",
       "    </tr>\n",
       "    <tr>\n",
       "      <th>Доля правильных ответов (accuracy)</th>\n",
       "      <td>79.80%</td>\n",
       "    </tr>\n",
       "  </tbody>\n",
       "</table>\n",
       "</div>"
      ],
      "text/plain": [
       "                                   Дерево решений\n",
       "F1-мера                                    58.09%\n",
       "Полнота (recall)                           66.19%\n",
       "AUC-ROC метрика                            83.55%\n",
       "Точность (precision)                       51.76%\n",
       "Доля правильных ответов (accuracy)         79.80%"
      ]
     },
     "metadata": {},
     "output_type": "display_data"
    }
   ],
   "source": [
    "model = DecisionTreeClassifier(max_depth=best_depth, random_state=12345)\n",
    "model.fit(features_upsampled, target_upsampled)\n",
    "show_metrics(model, features_valid, target_valid, 'Дерево решений')"
   ]
  },
  {
   "cell_type": "code",
   "execution_count": 34,
   "metadata": {},
   "outputs": [
    {
     "name": "stdout",
     "output_type": "stream",
     "text": [
      "Наилучшая метрика F1: 61.9% при количестве «деревьев» 51 и при глубине 8\n"
     ]
    }
   ],
   "source": [
    "best_depth = 0\n",
    "best_est = 0\n",
    "best_f1 = 0\n",
    "for est in range(51, 110, 101):\n",
    "    for depth in range(1, 10):\n",
    "        model = RandomForestClassifier(n_estimators=est, max_depth=depth, random_state=12345)\n",
    "        model.fit(features_upsampled, target_upsampled)\n",
    "        predictions_valid = model.predict(features_valid)\n",
    "        f1 = f1_score(target_valid, predictions_valid)\n",
    "        if f1 > best_f1:\n",
    "            best_f1 = f1\n",
    "            best_depth = depth\n",
    "            best_est = est\n",
    "print(f'Наилучшая метрика F1: {best_f1:.1%} при количестве «деревьев» {best_est} и при глубине {best_depth}')"
   ]
  },
  {
   "cell_type": "code",
   "execution_count": 35,
   "metadata": {},
   "outputs": [
    {
     "data": {
      "text/html": [
       "<div>\n",
       "<style scoped>\n",
       "    .dataframe tbody tr th:only-of-type {\n",
       "        vertical-align: middle;\n",
       "    }\n",
       "\n",
       "    .dataframe tbody tr th {\n",
       "        vertical-align: top;\n",
       "    }\n",
       "\n",
       "    .dataframe thead th {\n",
       "        text-align: right;\n",
       "    }\n",
       "</style>\n",
       "<table border=\"1\" class=\"dataframe\">\n",
       "  <thead>\n",
       "    <tr style=\"text-align: right;\">\n",
       "      <th></th>\n",
       "      <th>Случайный лес</th>\n",
       "    </tr>\n",
       "  </thead>\n",
       "  <tbody>\n",
       "    <tr>\n",
       "      <th>F1-мера</th>\n",
       "      <td>61.90%</td>\n",
       "    </tr>\n",
       "    <tr>\n",
       "      <th>Полнота (recall)</th>\n",
       "      <td>72.58%</td>\n",
       "    </tr>\n",
       "    <tr>\n",
       "      <th>AUC-ROC метрика</th>\n",
       "      <td>85.79%</td>\n",
       "    </tr>\n",
       "    <tr>\n",
       "      <th>Точность (precision)</th>\n",
       "      <td>53.95%</td>\n",
       "    </tr>\n",
       "    <tr>\n",
       "      <th>Доля правильных ответов (accuracy)</th>\n",
       "      <td>81.10%</td>\n",
       "    </tr>\n",
       "  </tbody>\n",
       "</table>\n",
       "</div>"
      ],
      "text/plain": [
       "                                   Случайный лес\n",
       "F1-мера                                   61.90%\n",
       "Полнота (recall)                          72.58%\n",
       "AUC-ROC метрика                           85.79%\n",
       "Точность (precision)                      53.95%\n",
       "Доля правильных ответов (accuracy)        81.10%"
      ]
     },
     "metadata": {},
     "output_type": "display_data"
    }
   ],
   "source": [
    "model = RandomForestClassifier(n_estimators=best_est, max_depth=best_depth, random_state=12345)\n",
    "model.fit(features_upsampled, target_upsampled)\n",
    "show_metrics(model, features_valid, target_valid, 'Случайный лес')"
   ]
  },
  {
   "cell_type": "markdown",
   "metadata": {},
   "source": [
    "Лучшее значение с техникой upsampling у модели Случайный лес с F1: 61.9% при количестве «деревьев» 51 и при глубине 8"
   ]
  },
  {
   "cell_type": "markdown",
   "metadata": {},
   "source": [
    "Уменьшение выборки техникой downsampling "
   ]
  },
  {
   "cell_type": "code",
   "execution_count": 36,
   "metadata": {},
   "outputs": [],
   "source": [
    "def downsample(features, target, fraction):\n",
    "    features_zeros = features[target == 0]\n",
    "    features_ones = features[target == 1]\n",
    "    target_zeros = target[target == 0]\n",
    "    target_ones = target[target == 1]\n",
    "\n",
    "    features_downsampled = pd.concat(\n",
    "        [features_zeros.sample(frac=fraction, random_state=12345)] + [features_ones])\n",
    "    target_downsampled = pd.concat(\n",
    "        [target_zeros.sample(frac=fraction, random_state=12345)] + [target_ones])\n",
    "    \n",
    "    features_downsampled, target_downsampled = shuffle(\n",
    "        features_downsampled, target_downsampled, random_state=12345)\n",
    "    \n",
    "    return features_downsampled, target_downsampled\n",
    "\n",
    "features_downsampled, target_downsampled = downsample(features_train, target_train, 0.25)\n"
   ]
  },
  {
   "cell_type": "markdown",
   "metadata": {},
   "source": [
    "Далее обучим логистическую регрессию, дерево решений и случайный лес на признаках уменьшенной обучающей выборки, и рассчитаем метрики f1"
   ]
  },
  {
   "cell_type": "code",
   "execution_count": 37,
   "metadata": {},
   "outputs": [
    {
     "data": {
      "text/html": [
       "<div>\n",
       "<style scoped>\n",
       "    .dataframe tbody tr th:only-of-type {\n",
       "        vertical-align: middle;\n",
       "    }\n",
       "\n",
       "    .dataframe tbody tr th {\n",
       "        vertical-align: top;\n",
       "    }\n",
       "\n",
       "    .dataframe thead th {\n",
       "        text-align: right;\n",
       "    }\n",
       "</style>\n",
       "<table border=\"1\" class=\"dataframe\">\n",
       "  <thead>\n",
       "    <tr style=\"text-align: right;\">\n",
       "      <th></th>\n",
       "      <th>Логистическая регрессия</th>\n",
       "    </tr>\n",
       "  </thead>\n",
       "  <tbody>\n",
       "    <tr>\n",
       "      <th>F1-мера</th>\n",
       "      <td>48.42%</td>\n",
       "    </tr>\n",
       "    <tr>\n",
       "      <th>Полнота (recall)</th>\n",
       "      <td>66.90%</td>\n",
       "    </tr>\n",
       "    <tr>\n",
       "      <th>AUC-ROC метрика</th>\n",
       "      <td>74.13%</td>\n",
       "    </tr>\n",
       "    <tr>\n",
       "      <th>Точность (precision)</th>\n",
       "      <td>37.94%</td>\n",
       "    </tr>\n",
       "    <tr>\n",
       "      <th>Доля правильных ответов (accuracy)</th>\n",
       "      <td>69.85%</td>\n",
       "    </tr>\n",
       "  </tbody>\n",
       "</table>\n",
       "</div>"
      ],
      "text/plain": [
       "                                   Логистическая регрессия\n",
       "F1-мера                                             48.42%\n",
       "Полнота (recall)                                    66.90%\n",
       "AUC-ROC метрика                                     74.13%\n",
       "Точность (precision)                                37.94%\n",
       "Доля правильных ответов (accuracy)                  69.85%"
      ]
     },
     "metadata": {},
     "output_type": "display_data"
    }
   ],
   "source": [
    "model = LogisticRegression(solver='liblinear', random_state=12345)\n",
    "model.fit(features_downsampled, target_downsampled)\n",
    "show_metrics(model, features_valid, target_valid, 'Логистическая регрессия')"
   ]
  },
  {
   "cell_type": "code",
   "execution_count": 38,
   "metadata": {},
   "outputs": [
    {
     "name": "stdout",
     "output_type": "stream",
     "text": [
      "Наилучшая метрика F1: 60.8% при глубине 5\n"
     ]
    }
   ],
   "source": [
    "best_depth = 0\n",
    "best_f1 = 0\n",
    "for depth in range(1, 10):\n",
    "    model = DecisionTreeClassifier(max_depth=depth, random_state=12345)\n",
    "    model.fit(features_downsampled, target_downsampled)\n",
    "    predictions_valid = model.predict(features_valid)\n",
    "    f1 = f1_score(target_valid, predictions_valid)\n",
    "    if f1 > best_f1:\n",
    "        best_f1 = f1\n",
    "        best_depth = depth\n",
    "print(f'Наилучшая метрика F1: {best_f1:.1%} при глубине {best_depth}')"
   ]
  },
  {
   "cell_type": "code",
   "execution_count": 39,
   "metadata": {},
   "outputs": [
    {
     "data": {
      "text/html": [
       "<div>\n",
       "<style scoped>\n",
       "    .dataframe tbody tr th:only-of-type {\n",
       "        vertical-align: middle;\n",
       "    }\n",
       "\n",
       "    .dataframe tbody tr th {\n",
       "        vertical-align: top;\n",
       "    }\n",
       "\n",
       "    .dataframe thead th {\n",
       "        text-align: right;\n",
       "    }\n",
       "</style>\n",
       "<table border=\"1\" class=\"dataframe\">\n",
       "  <thead>\n",
       "    <tr style=\"text-align: right;\">\n",
       "      <th></th>\n",
       "      <th>Дерево решений</th>\n",
       "    </tr>\n",
       "  </thead>\n",
       "  <tbody>\n",
       "    <tr>\n",
       "      <th>F1-мера</th>\n",
       "      <td>60.81%</td>\n",
       "    </tr>\n",
       "    <tr>\n",
       "      <th>Полнота (recall)</th>\n",
       "      <td>69.50%</td>\n",
       "    </tr>\n",
       "    <tr>\n",
       "      <th>AUC-ROC метрика</th>\n",
       "      <td>83.78%</td>\n",
       "    </tr>\n",
       "    <tr>\n",
       "      <th>Точность (precision)</th>\n",
       "      <td>54.04%</td>\n",
       "    </tr>\n",
       "    <tr>\n",
       "      <th>Доля правильных ответов (accuracy)</th>\n",
       "      <td>81.05%</td>\n",
       "    </tr>\n",
       "  </tbody>\n",
       "</table>\n",
       "</div>"
      ],
      "text/plain": [
       "                                   Дерево решений\n",
       "F1-мера                                    60.81%\n",
       "Полнота (recall)                           69.50%\n",
       "AUC-ROC метрика                            83.78%\n",
       "Точность (precision)                       54.04%\n",
       "Доля правильных ответов (accuracy)         81.05%"
      ]
     },
     "metadata": {},
     "output_type": "display_data"
    }
   ],
   "source": [
    "model = DecisionTreeClassifier(max_depth=best_depth, random_state=12345)\n",
    "model.fit(features_downsampled, target_downsampled)\n",
    "show_metrics(model, features_valid, target_valid, 'Дерево решений')"
   ]
  },
  {
   "cell_type": "code",
   "execution_count": 40,
   "metadata": {},
   "outputs": [
    {
     "name": "stdout",
     "output_type": "stream",
     "text": [
      "Наилучшая метрика F1: 58.7% при количестве «деревьев» 101 и при глубине 6\n"
     ]
    }
   ],
   "source": [
    "best_depth = 0\n",
    "best_est = 0\n",
    "best_f1 = 0\n",
    "for est in range(51, 110, 10):\n",
    "    for depth in range(6, 7):\n",
    "        model = RandomForestClassifier(n_estimators=est, max_depth=depth, random_state=12345)\n",
    "        model.fit(features_downsampled, target_downsampled)\n",
    "        predictions_valid = model.predict(features_valid)\n",
    "        f1 = f1_score(target_valid, predictions_valid)\n",
    "        if f1 > best_f1:\n",
    "            best_f1 = f1\n",
    "            best_depth = depth\n",
    "            best_est = est\n",
    "print(f'Наилучшая метрика F1: {best_f1:.1%} при количестве «деревьев» {best_est} и при глубине {best_depth}')"
   ]
  },
  {
   "cell_type": "code",
   "execution_count": 41,
   "metadata": {},
   "outputs": [
    {
     "data": {
      "text/html": [
       "<div>\n",
       "<style scoped>\n",
       "    .dataframe tbody tr th:only-of-type {\n",
       "        vertical-align: middle;\n",
       "    }\n",
       "\n",
       "    .dataframe tbody tr th {\n",
       "        vertical-align: top;\n",
       "    }\n",
       "\n",
       "    .dataframe thead th {\n",
       "        text-align: right;\n",
       "    }\n",
       "</style>\n",
       "<table border=\"1\" class=\"dataframe\">\n",
       "  <thead>\n",
       "    <tr style=\"text-align: right;\">\n",
       "      <th></th>\n",
       "      <th>Случайный лес</th>\n",
       "    </tr>\n",
       "  </thead>\n",
       "  <tbody>\n",
       "    <tr>\n",
       "      <th>F1-мера</th>\n",
       "      <td>58.71%</td>\n",
       "    </tr>\n",
       "    <tr>\n",
       "      <th>Полнота (recall)</th>\n",
       "      <td>74.47%</td>\n",
       "    </tr>\n",
       "    <tr>\n",
       "      <th>AUC-ROC метрика</th>\n",
       "      <td>84.53%</td>\n",
       "    </tr>\n",
       "    <tr>\n",
       "      <th>Точность (precision)</th>\n",
       "      <td>48.46%</td>\n",
       "    </tr>\n",
       "    <tr>\n",
       "      <th>Доля правильных ответов (accuracy)</th>\n",
       "      <td>77.85%</td>\n",
       "    </tr>\n",
       "  </tbody>\n",
       "</table>\n",
       "</div>"
      ],
      "text/plain": [
       "                                   Случайный лес\n",
       "F1-мера                                   58.71%\n",
       "Полнота (recall)                          74.47%\n",
       "AUC-ROC метрика                           84.53%\n",
       "Точность (precision)                      48.46%\n",
       "Доля правильных ответов (accuracy)        77.85%"
      ]
     },
     "metadata": {},
     "output_type": "display_data"
    }
   ],
   "source": [
    "model = RandomForestClassifier(n_estimators=best_est, max_depth=best_depth, random_state=12345)\n",
    "model.fit(features_downsampled, target_downsampled)\n",
    "show_metrics(model, features_valid, target_valid, 'Случайный лес')"
   ]
  },
  {
   "cell_type": "markdown",
   "metadata": {},
   "source": [
    "Лучшее значение с техникой downsampling у модели Дерево решений с F1: 60.8% при глубине 5"
   ]
  },
  {
   "cell_type": "markdown",
   "metadata": {},
   "source": [
    "Вывод  \n",
    "Из результатов по борьбе дисбаланса классов следует что наибольше значения метрики f1 получили при применении техники upsampling у модели Случайный лес с F1: 61.9% при количестве «деревьев» 51 и при глубине 8.\n"
   ]
  },
  {
   "cell_type": "markdown",
   "metadata": {},
   "source": [
    "## Тестирование модели"
   ]
  },
  {
   "cell_type": "markdown",
   "metadata": {},
   "source": [
    "### Формирование финальной модели"
   ]
  },
  {
   "cell_type": "markdown",
   "metadata": {},
   "source": [
    "Финальная модель — «Случайный лес».  \n",
    "Которая показала наилучшую метрику F1:61.9%  \n",
    "При количестве «деревьев» 51  \n",
    "При глубине 8."
   ]
  },
  {
   "cell_type": "code",
   "execution_count": 42,
   "metadata": {},
   "outputs": [
    {
     "data": {
      "text/html": [
       "<div>\n",
       "<style scoped>\n",
       "    .dataframe tbody tr th:only-of-type {\n",
       "        vertical-align: middle;\n",
       "    }\n",
       "\n",
       "    .dataframe tbody tr th {\n",
       "        vertical-align: top;\n",
       "    }\n",
       "\n",
       "    .dataframe thead th {\n",
       "        text-align: right;\n",
       "    }\n",
       "</style>\n",
       "<table border=\"1\" class=\"dataframe\">\n",
       "  <thead>\n",
       "    <tr style=\"text-align: right;\">\n",
       "      <th></th>\n",
       "      <th>Случайный лес</th>\n",
       "    </tr>\n",
       "  </thead>\n",
       "  <tbody>\n",
       "    <tr>\n",
       "      <th>F1-мера</th>\n",
       "      <td>61.90%</td>\n",
       "    </tr>\n",
       "    <tr>\n",
       "      <th>Полнота (recall)</th>\n",
       "      <td>72.58%</td>\n",
       "    </tr>\n",
       "    <tr>\n",
       "      <th>AUC-ROC метрика</th>\n",
       "      <td>85.79%</td>\n",
       "    </tr>\n",
       "    <tr>\n",
       "      <th>Точность (precision)</th>\n",
       "      <td>53.95%</td>\n",
       "    </tr>\n",
       "    <tr>\n",
       "      <th>Доля правильных ответов (accuracy)</th>\n",
       "      <td>81.10%</td>\n",
       "    </tr>\n",
       "  </tbody>\n",
       "</table>\n",
       "</div>"
      ],
      "text/plain": [
       "                                   Случайный лес\n",
       "F1-мера                                   61.90%\n",
       "Полнота (recall)                          72.58%\n",
       "AUC-ROC метрика                           85.79%\n",
       "Точность (precision)                      53.95%\n",
       "Доля правильных ответов (accuracy)        81.10%"
      ]
     },
     "metadata": {},
     "output_type": "display_data"
    }
   ],
   "source": [
    "final_model = RandomForestClassifier(n_estimators=51, max_depth=8, random_state=12345)\n",
    "final_model.fit(features_upsampled, target_upsampled)\n",
    "show_metrics(final_model, features_valid, target_valid, 'Случайный лес')"
   ]
  },
  {
   "cell_type": "markdown",
   "metadata": {},
   "source": [
    "Тестирование финальной модели"
   ]
  },
  {
   "cell_type": "code",
   "execution_count": 43,
   "metadata": {},
   "outputs": [
    {
     "data": {
      "text/html": [
       "<div>\n",
       "<style scoped>\n",
       "    .dataframe tbody tr th:only-of-type {\n",
       "        vertical-align: middle;\n",
       "    }\n",
       "\n",
       "    .dataframe tbody tr th {\n",
       "        vertical-align: top;\n",
       "    }\n",
       "\n",
       "    .dataframe thead th {\n",
       "        text-align: right;\n",
       "    }\n",
       "</style>\n",
       "<table border=\"1\" class=\"dataframe\">\n",
       "  <thead>\n",
       "    <tr style=\"text-align: right;\">\n",
       "      <th></th>\n",
       "      <th>Финальная модель</th>\n",
       "    </tr>\n",
       "  </thead>\n",
       "  <tbody>\n",
       "    <tr>\n",
       "      <th>F1-мера</th>\n",
       "      <td>62.34%</td>\n",
       "    </tr>\n",
       "    <tr>\n",
       "      <th>Полнота (recall)</th>\n",
       "      <td>71.29%</td>\n",
       "    </tr>\n",
       "    <tr>\n",
       "      <th>AUC-ROC метрика</th>\n",
       "      <td>85.44%</td>\n",
       "    </tr>\n",
       "    <tr>\n",
       "      <th>Точность (precision)</th>\n",
       "      <td>55.39%</td>\n",
       "    </tr>\n",
       "    <tr>\n",
       "      <th>Доля правильных ответов (accuracy)</th>\n",
       "      <td>82.00%</td>\n",
       "    </tr>\n",
       "  </tbody>\n",
       "</table>\n",
       "</div>"
      ],
      "text/plain": [
       "                                   Финальная модель\n",
       "F1-мера                                      62.34%\n",
       "Полнота (recall)                             71.29%\n",
       "AUC-ROC метрика                              85.44%\n",
       "Точность (precision)                         55.39%\n",
       "Доля правильных ответов (accuracy)           82.00%"
      ]
     },
     "metadata": {},
     "output_type": "display_data"
    }
   ],
   "source": [
    "show_metrics(final_model, features_test, target_test, 'Финальная модель')"
   ]
  },
  {
   "cell_type": "code",
   "execution_count": 44,
   "metadata": {},
   "outputs": [
    {
     "name": "stdout",
     "output_type": "stream",
     "text": [
      "Точность константной модели: 79%\n",
      "Точность финальной модели: 81%\n",
      "AUC-ROC метрика константной модели: 50%\n",
      "AUC-ROC метрика финальной модели: 86%\n"
     ]
    }
   ],
   "source": [
    "target_constraint = pd.Series([0]*len(target_valid))\n",
    "final_predictions = final_model.predict(features_valid)\n",
    "final_probabilities = final_model.predict_proba(features_valid)[:, 1]\n",
    "print(f'Точность константной модели: {accuracy_score(target_valid, target_constraint):.0%}')\n",
    "print(f'Точность финальной модели: {accuracy_score(target_valid, final_predictions):.0%}')\n",
    "print(f'AUC-ROC метрика константной модели: {roc_auc_score(target_valid, target_constraint):.0%}')\n",
    "print(f'AUC-ROC метрика финальной модели: {roc_auc_score(target_valid, final_probabilities):.0%}')"
   ]
  },
  {
   "cell_type": "markdown",
   "metadata": {},
   "source": [
    "Точность финальной модели выше константной, можно считать финальную модель «рабочей»."
   ]
  },
  {
   "cell_type": "markdown",
   "metadata": {},
   "source": [
    "Построим ROC-кривую"
   ]
  },
  {
   "cell_type": "code",
   "execution_count": 45,
   "metadata": {},
   "outputs": [
    {
     "data": {
      "image/png": "[encoded data removed]",
      "text/plain": [
       "<Figure size 576x576 with 1 Axes>"
      ]
     },
     "metadata": {
      "needs_background": "light"
     },
     "output_type": "display_data"
    }
   ],
   "source": [
    "probabilities_valid = final_model.predict_proba(features_valid)\n",
    "probabilities_one_valid = probabilities_valid[:, 1]\n",
    "fpr, tpr, thresholds = roc_curve(target_valid, probabilities_one_valid)\n",
    "plt.figure(figsize=(8, 8))\n",
    "plt.title('ROC-кривая (кривая ошибок)')\n",
    "plt.plot([0, 1], [0, 1], linestyle='--')\n",
    "plt.plot(fpr, tpr)\n",
    "plt.legend(('Случайная модель', 'Финальная модель'))\n",
    "plt.show()"
   ]
  },
  {
   "cell_type": "markdown",
   "metadata": {},
   "source": [
    "## Вывод  \n",
    "Ознакомились с данными и подготовили их к исследованию (преобразовали категориальные признаки в численные с помощью техники прямого кодирования One-Hot Encoding, масштабировали признаки методом стандартизации).  \n",
    "Исследовали баланс классов - они оказались несбалансированы, изучили модели без учёта дисбаланса, выяснили, что саммая лучшая модель оказалась Случайный лес. При лучшем значении F1: 52.8% при количестве «деревьев» 81 и при глубине 17. \n",
    "Применили 3 способа борьбы с дисбалансом - аргумент class_weight, уменьшение выборки и увеличение выборки. Лучшие результаты показал способы борьбы с дисбалансом получили при применении техники upsampling у модели Случайный лес с F1: 61.9% при количестве «деревьев» 51 и при глубине 8, что больше чем заданное по проекту 0,59.  \n",
    "AUC-ROC метрика финальной модели — 86% — сильно выше показателя случайной модели. Точность финальной модели выше константной, можно считать финальную модель «рабочей».\n"
   ]
  }
 ],
 "metadata": {
  "ExecuteTimeLog": [
   {
    "duration": 449,
    "start_time": "2023-06-24T07:00:11.595Z"
   },
   {
    "duration": 3,
    "start_time": "2023-06-24T07:03:20.323Z"
   },
   {
    "duration": 3,
    "start_time": "2023-06-24T07:03:49.260Z"
   },
   {
    "duration": 112,
    "start_time": "2023-06-24T07:05:02.373Z"
   },
   {
    "duration": 23,
    "start_time": "2023-06-24T07:05:54.226Z"
   },
   {
    "duration": 44,
    "start_time": "2023-06-24T07:06:19.973Z"
   },
   {
    "duration": 9,
    "start_time": "2023-06-24T07:06:23.079Z"
   },
   {
    "duration": 17,
    "start_time": "2023-06-24T11:48:26.059Z"
   },
   {
    "duration": 9,
    "start_time": "2023-06-24T11:56:16.824Z"
   },
   {
    "duration": 3,
    "start_time": "2023-06-24T12:12:47.366Z"
   },
   {
    "duration": 17,
    "start_time": "2023-06-24T12:13:52.825Z"
   },
   {
    "duration": 17,
    "start_time": "2023-06-24T12:14:05.029Z"
   },
   {
    "duration": 11,
    "start_time": "2023-06-24T12:14:36.574Z"
   },
   {
    "duration": 956,
    "start_time": "2023-06-24T12:17:27.662Z"
   },
   {
    "duration": 9690,
    "start_time": "2023-06-24T12:17:50.723Z"
   },
   {
    "duration": 68972,
    "start_time": "2023-06-24T12:18:19.975Z"
   },
   {
    "duration": 2,
    "start_time": "2023-06-24T12:19:39.237Z"
   },
   {
    "duration": 65597,
    "start_time": "2023-06-24T12:19:47.682Z"
   },
   {
    "duration": 4,
    "start_time": "2023-06-24T12:34:55.462Z"
   },
   {
    "duration": 276,
    "start_time": "2023-06-24T12:36:00.261Z"
   },
   {
    "duration": 12,
    "start_time": "2023-06-24T12:36:06.816Z"
   },
   {
    "duration": 16,
    "start_time": "2023-06-24T12:36:49.128Z"
   },
   {
    "duration": 7,
    "start_time": "2023-06-24T12:37:53.744Z"
   },
   {
    "duration": 3,
    "start_time": "2023-06-24T12:37:56.244Z"
   },
   {
    "duration": 6,
    "start_time": "2023-06-24T12:39:16.460Z"
   },
   {
    "duration": 3,
    "start_time": "2023-06-24T12:40:56.053Z"
   },
   {
    "duration": 9,
    "start_time": "2023-06-24T12:41:16.768Z"
   },
   {
    "duration": 14,
    "start_time": "2023-06-24T12:42:01.719Z"
   },
   {
    "duration": 7,
    "start_time": "2023-06-24T12:42:06.326Z"
   },
   {
    "duration": 21,
    "start_time": "2023-06-24T12:42:06.335Z"
   },
   {
    "duration": 8,
    "start_time": "2023-06-24T12:42:06.358Z"
   },
   {
    "duration": 82,
    "start_time": "2023-06-24T12:42:06.367Z"
   },
   {
    "duration": 11,
    "start_time": "2023-06-24T12:42:06.452Z"
   },
   {
    "duration": 18,
    "start_time": "2023-06-24T12:42:06.464Z"
   },
   {
    "duration": 7,
    "start_time": "2023-06-24T12:42:06.483Z"
   },
   {
    "duration": 49,
    "start_time": "2023-06-24T12:42:06.492Z"
   },
   {
    "duration": 16,
    "start_time": "2023-06-24T12:42:06.544Z"
   },
   {
    "duration": 17,
    "start_time": "2023-06-24T12:42:06.561Z"
   },
   {
    "duration": 9,
    "start_time": "2023-06-24T12:42:06.579Z"
   },
   {
    "duration": 17,
    "start_time": "2023-06-24T12:43:25.524Z"
   },
   {
    "duration": 34,
    "start_time": "2023-06-24T12:43:25.543Z"
   },
   {
    "duration": 58,
    "start_time": "2023-06-24T12:43:25.579Z"
   },
   {
    "duration": 78,
    "start_time": "2023-06-24T12:43:25.639Z"
   },
   {
    "duration": 35,
    "start_time": "2023-06-24T12:43:25.720Z"
   },
   {
    "duration": 14,
    "start_time": "2023-06-24T12:43:25.760Z"
   },
   {
    "duration": 13,
    "start_time": "2023-06-24T12:43:25.776Z"
   },
   {
    "duration": 58,
    "start_time": "2023-06-24T12:43:25.791Z"
   },
   {
    "duration": 27,
    "start_time": "2023-06-24T12:43:25.851Z"
   },
   {
    "duration": 13,
    "start_time": "2023-06-24T12:43:25.880Z"
   },
   {
    "duration": 79,
    "start_time": "2023-06-24T12:43:25.895Z"
   },
   {
    "duration": 18,
    "start_time": "2023-06-24T12:43:25.976Z"
   },
   {
    "duration": 69,
    "start_time": "2023-06-24T12:43:25.996Z"
   },
   {
    "duration": 44,
    "start_time": "2023-06-24T12:43:26.069Z"
   },
   {
    "duration": 64,
    "start_time": "2023-06-24T12:43:26.114Z"
   },
   {
    "duration": 99,
    "start_time": "2023-06-24T12:43:26.179Z"
   },
   {
    "duration": 84,
    "start_time": "2023-06-24T12:43:26.280Z"
   },
   {
    "duration": 2,
    "start_time": "2023-06-24T12:48:38.493Z"
   },
   {
    "duration": 3,
    "start_time": "2023-06-24T12:48:43.345Z"
   },
   {
    "duration": 15,
    "start_time": "2023-06-24T12:48:43.350Z"
   },
   {
    "duration": 9,
    "start_time": "2023-06-24T12:48:43.366Z"
   },
   {
    "duration": 9,
    "start_time": "2023-06-24T12:48:43.377Z"
   },
   {
    "duration": 63,
    "start_time": "2023-06-24T12:48:43.387Z"
   },
   {
    "duration": 10,
    "start_time": "2023-06-24T12:48:43.451Z"
   },
   {
    "duration": 34,
    "start_time": "2023-06-24T12:48:43.462Z"
   },
   {
    "duration": 24,
    "start_time": "2023-06-24T12:48:43.497Z"
   },
   {
    "duration": 25,
    "start_time": "2023-06-24T12:48:43.522Z"
   },
   {
    "duration": 10,
    "start_time": "2023-06-24T12:48:43.550Z"
   },
   {
    "duration": 10,
    "start_time": "2023-06-24T12:48:43.561Z"
   },
   {
    "duration": 9,
    "start_time": "2023-06-24T12:48:43.573Z"
   },
   {
    "duration": 4,
    "start_time": "2023-06-24T12:48:43.584Z"
   },
   {
    "duration": 8,
    "start_time": "2023-06-24T12:48:43.589Z"
   },
   {
    "duration": 52,
    "start_time": "2023-06-24T12:48:43.599Z"
   },
   {
    "duration": 5,
    "start_time": "2023-06-24T12:48:43.652Z"
   },
   {
    "duration": 9,
    "start_time": "2023-06-24T12:48:43.658Z"
   },
   {
    "duration": 51,
    "start_time": "2023-06-24T12:48:43.668Z"
   },
   {
    "duration": 7,
    "start_time": "2023-06-24T13:00:16.623Z"
   },
   {
    "duration": 8,
    "start_time": "2023-06-24T13:09:12.821Z"
   },
   {
    "duration": 41,
    "start_time": "2023-06-24T13:10:47.748Z"
   },
   {
    "duration": 11,
    "start_time": "2023-06-24T13:10:51.498Z"
   },
   {
    "duration": 16,
    "start_time": "2023-06-24T13:10:51.514Z"
   },
   {
    "duration": 14,
    "start_time": "2023-06-24T13:10:51.531Z"
   },
   {
    "duration": 11,
    "start_time": "2023-06-24T13:10:51.546Z"
   },
   {
    "duration": 54,
    "start_time": "2023-06-24T13:10:51.558Z"
   },
   {
    "duration": 11,
    "start_time": "2023-06-24T13:10:51.613Z"
   },
   {
    "duration": 36,
    "start_time": "2023-06-24T13:10:51.626Z"
   },
   {
    "duration": 6,
    "start_time": "2023-06-24T13:10:51.664Z"
   },
   {
    "duration": 20,
    "start_time": "2023-06-24T13:10:51.671Z"
   },
   {
    "duration": 18,
    "start_time": "2023-06-24T13:10:51.692Z"
   },
   {
    "duration": 25,
    "start_time": "2023-06-24T13:10:51.711Z"
   },
   {
    "duration": 10,
    "start_time": "2023-06-24T13:10:51.737Z"
   },
   {
    "duration": 12,
    "start_time": "2023-06-24T13:10:51.748Z"
   },
   {
    "duration": 32,
    "start_time": "2023-06-24T13:10:51.762Z"
   },
   {
    "duration": 25,
    "start_time": "2023-06-24T13:10:51.795Z"
   },
   {
    "duration": 9,
    "start_time": "2023-06-24T13:10:51.821Z"
   },
   {
    "duration": 10,
    "start_time": "2023-06-24T13:10:51.831Z"
   },
   {
    "duration": 29,
    "start_time": "2023-06-24T13:10:51.842Z"
   },
   {
    "duration": 7,
    "start_time": "2023-06-24T13:10:51.873Z"
   },
   {
    "duration": 29,
    "start_time": "2023-06-24T13:10:51.882Z"
   },
   {
    "duration": 3,
    "start_time": "2023-06-24T13:11:24.156Z"
   },
   {
    "duration": 4,
    "start_time": "2023-06-24T13:11:27.227Z"
   },
   {
    "duration": 11,
    "start_time": "2023-06-24T13:11:27.232Z"
   },
   {
    "duration": 7,
    "start_time": "2023-06-24T13:11:27.244Z"
   },
   {
    "duration": 5,
    "start_time": "2023-06-24T13:11:27.253Z"
   },
   {
    "duration": 34,
    "start_time": "2023-06-24T13:11:27.260Z"
   },
   {
    "duration": 13,
    "start_time": "2023-06-24T13:11:27.295Z"
   },
   {
    "duration": 16,
    "start_time": "2023-06-24T13:11:27.310Z"
   },
   {
    "duration": 3,
    "start_time": "2023-06-24T13:11:27.328Z"
   },
   {
    "duration": 16,
    "start_time": "2023-06-24T13:11:27.333Z"
   },
   {
    "duration": 12,
    "start_time": "2023-06-24T13:11:27.351Z"
   },
   {
    "duration": 13,
    "start_time": "2023-06-24T13:11:27.365Z"
   },
   {
    "duration": 9,
    "start_time": "2023-06-24T13:11:27.380Z"
   },
   {
    "duration": 4,
    "start_time": "2023-06-24T13:11:27.390Z"
   },
   {
    "duration": 12,
    "start_time": "2023-06-24T13:11:27.402Z"
   },
   {
    "duration": 16,
    "start_time": "2023-06-24T13:11:27.415Z"
   },
   {
    "duration": 4,
    "start_time": "2023-06-24T13:11:27.432Z"
   },
   {
    "duration": 4,
    "start_time": "2023-06-24T13:11:27.438Z"
   },
   {
    "duration": 29,
    "start_time": "2023-06-24T13:11:27.444Z"
   },
   {
    "duration": 5,
    "start_time": "2023-06-24T13:11:27.475Z"
   },
   {
    "duration": 203,
    "start_time": "2023-06-24T13:11:27.481Z"
   },
   {
    "duration": 6066,
    "start_time": "2023-06-24T13:23:05.508Z"
   },
   {
    "duration": 39628,
    "start_time": "2023-06-24T13:24:03.026Z"
   },
   {
    "duration": 5967,
    "start_time": "2023-06-24T13:24:56.823Z"
   },
   {
    "duration": 5029,
    "start_time": "2023-06-24T13:29:04.849Z"
   },
   {
    "duration": 99,
    "start_time": "2023-06-24T13:30:33.702Z"
   },
   {
    "duration": 64,
    "start_time": "2023-06-24T13:40:21.639Z"
   },
   {
    "duration": 2086,
    "start_time": "2023-06-26T03:04:20.127Z"
   },
   {
    "duration": 16,
    "start_time": "2023-06-26T03:04:22.217Z"
   },
   {
    "duration": 4,
    "start_time": "2023-06-26T03:04:22.235Z"
   },
   {
    "duration": 51,
    "start_time": "2023-06-26T03:04:22.242Z"
   },
   {
    "duration": 139,
    "start_time": "2023-06-26T03:04:22.294Z"
   },
   {
    "duration": 15,
    "start_time": "2023-06-26T03:04:22.434Z"
   },
   {
    "duration": 16,
    "start_time": "2023-06-26T03:04:22.450Z"
   },
   {
    "duration": 4,
    "start_time": "2023-06-26T03:04:22.468Z"
   },
   {
    "duration": 7,
    "start_time": "2023-06-26T03:04:22.473Z"
   },
   {
    "duration": 42,
    "start_time": "2023-06-26T03:04:22.483Z"
   },
   {
    "duration": 13,
    "start_time": "2023-06-26T03:04:22.532Z"
   },
   {
    "duration": 13,
    "start_time": "2023-06-26T03:04:22.546Z"
   },
   {
    "duration": 3,
    "start_time": "2023-06-26T03:04:22.561Z"
   },
   {
    "duration": 7,
    "start_time": "2023-06-26T03:04:22.566Z"
   },
   {
    "duration": 11,
    "start_time": "2023-06-26T03:04:22.574Z"
   },
   {
    "duration": 10,
    "start_time": "2023-06-26T03:04:22.586Z"
   },
   {
    "duration": 52,
    "start_time": "2023-06-26T03:04:22.599Z"
   },
   {
    "duration": 24,
    "start_time": "2023-06-26T03:04:22.652Z"
   },
   {
    "duration": 7,
    "start_time": "2023-06-26T03:04:22.677Z"
   },
   {
    "duration": 236,
    "start_time": "2023-06-26T03:04:22.685Z"
   },
   {
    "duration": 6630,
    "start_time": "2023-06-26T03:04:22.933Z"
   },
   {
    "duration": 5494,
    "start_time": "2023-06-26T03:04:29.565Z"
   },
   {
    "duration": 679,
    "start_time": "2023-06-26T03:04:35.061Z"
   },
   {
    "duration": 139,
    "start_time": "2023-06-26T03:04:35.800Z"
   },
   {
    "duration": 199,
    "start_time": "2023-06-26T03:06:40.942Z"
   },
   {
    "duration": 6713,
    "start_time": "2023-06-26T03:11:51.276Z"
   },
   {
    "duration": 5273,
    "start_time": "2023-06-26T03:14:05.822Z"
   },
   {
    "duration": 4396,
    "start_time": "2023-06-26T03:15:03.995Z"
   },
   {
    "duration": 3,
    "start_time": "2023-06-26T03:38:56.642Z"
   },
   {
    "duration": 14,
    "start_time": "2023-06-26T03:39:08.420Z"
   },
   {
    "duration": 65,
    "start_time": "2023-06-26T03:42:15.365Z"
   },
   {
    "duration": 340,
    "start_time": "2023-06-26T03:45:42.320Z"
   },
   {
    "duration": 341,
    "start_time": "2023-06-26T03:45:54.252Z"
   },
   {
    "duration": 12370,
    "start_time": "2023-06-26T03:47:52.547Z"
   },
   {
    "duration": 9887,
    "start_time": "2023-06-26T03:49:03.667Z"
   },
   {
    "duration": 13,
    "start_time": "2023-06-26T03:53:27.505Z"
   },
   {
    "duration": 82,
    "start_time": "2023-06-26T03:54:14.817Z"
   },
   {
    "duration": 128,
    "start_time": "2023-06-26T03:55:23.642Z"
   },
   {
    "duration": 2652,
    "start_time": "2023-06-26T03:56:40.931Z"
   },
   {
    "duration": 2207,
    "start_time": "2023-06-26T03:57:24.637Z"
   },
   {
    "duration": 2201,
    "start_time": "2023-06-26T03:57:58.542Z"
   },
   {
    "duration": 4,
    "start_time": "2023-06-26T04:10:15.877Z"
   },
   {
    "duration": 122,
    "start_time": "2023-06-26T04:32:58.451Z"
   },
   {
    "duration": 18,
    "start_time": "2023-06-26T04:34:36.678Z"
   },
   {
    "duration": 176,
    "start_time": "2023-06-26T04:34:47.744Z"
   },
   {
    "duration": 52,
    "start_time": "2023-06-26T04:35:10.551Z"
   },
   {
    "duration": 474,
    "start_time": "2023-06-26T04:36:15.339Z"
   },
   {
    "duration": 496,
    "start_time": "2023-06-26T04:37:36.672Z"
   },
   {
    "duration": 233,
    "start_time": "2023-06-26T04:38:32.067Z"
   },
   {
    "duration": 200,
    "start_time": "2023-06-26T04:40:25.176Z"
   },
   {
    "duration": 46,
    "start_time": "2023-06-26T04:41:54.216Z"
   },
   {
    "duration": 1291,
    "start_time": "2023-06-26T04:42:30.560Z"
   },
   {
    "duration": 649,
    "start_time": "2023-06-26T04:43:48.419Z"
   },
   {
    "duration": 159,
    "start_time": "2023-06-26T04:45:16.943Z"
   },
   {
    "duration": 9,
    "start_time": "2023-06-26T04:46:35.589Z"
   },
   {
    "duration": 239,
    "start_time": "2023-06-26T04:47:39.362Z"
   },
   {
    "duration": 350,
    "start_time": "2023-06-26T04:48:44.327Z"
   },
   {
    "duration": 60,
    "start_time": "2023-06-26T04:49:22.368Z"
   },
   {
    "duration": 5749,
    "start_time": "2023-06-26T04:50:14.921Z"
   },
   {
    "duration": 135,
    "start_time": "2023-06-26T04:50:38.521Z"
   },
   {
    "duration": 89,
    "start_time": "2023-06-26T04:51:51.517Z"
   },
   {
    "duration": 87,
    "start_time": "2023-06-26T04:53:26.919Z"
   },
   {
    "duration": 120,
    "start_time": "2023-06-26T04:53:44.879Z"
   },
   {
    "duration": 53,
    "start_time": "2023-06-26T04:54:05.555Z"
   },
   {
    "duration": 33,
    "start_time": "2023-06-26T04:56:52.374Z"
   },
   {
    "duration": 9,
    "start_time": "2023-06-26T04:57:11.375Z"
   },
   {
    "duration": 16,
    "start_time": "2023-06-26T04:57:26.319Z"
   },
   {
    "duration": 21,
    "start_time": "2023-06-26T04:58:06.621Z"
   },
   {
    "duration": 20,
    "start_time": "2023-06-26T04:58:17.662Z"
   },
   {
    "duration": 451,
    "start_time": "2023-06-26T04:59:57.648Z"
   },
   {
    "duration": 476,
    "start_time": "2023-06-26T05:00:32.481Z"
   },
   {
    "duration": 9,
    "start_time": "2023-06-26T05:00:39.987Z"
   },
   {
    "duration": 164,
    "start_time": "2023-06-26T05:00:56.119Z"
   },
   {
    "duration": 128,
    "start_time": "2023-06-26T05:01:35.473Z"
   },
   {
    "duration": 76,
    "start_time": "2023-06-26T05:02:50.431Z"
   },
   {
    "duration": 53,
    "start_time": "2023-06-26T05:04:19.632Z"
   },
   {
    "duration": 408,
    "start_time": "2023-06-26T05:04:29.687Z"
   },
   {
    "duration": 5100,
    "start_time": "2023-06-26T05:04:48.495Z"
   },
   {
    "duration": 103,
    "start_time": "2023-06-26T05:05:06.478Z"
   },
   {
    "duration": 336,
    "start_time": "2023-06-26T05:05:26.950Z"
   },
   {
    "duration": 68,
    "start_time": "2023-06-26T05:05:28.533Z"
   },
   {
    "duration": 5154,
    "start_time": "2023-06-26T05:08:29.863Z"
   },
   {
    "duration": 102,
    "start_time": "2023-06-26T05:08:35.018Z"
   },
   {
    "duration": 652,
    "start_time": "2023-06-26T05:12:40.527Z"
   },
   {
    "duration": 84,
    "start_time": "2023-06-26T05:13:22.435Z"
   },
   {
    "duration": 11,
    "start_time": "2023-06-26T05:14:07.183Z"
   },
   {
    "duration": 15,
    "start_time": "2023-06-26T05:17:09.747Z"
   },
   {
    "duration": 4,
    "start_time": "2023-06-26T05:17:29.290Z"
   },
   {
    "duration": 154,
    "start_time": "2023-06-26T05:17:48.198Z"
   },
   {
    "duration": 262,
    "start_time": "2023-06-26T05:18:37.066Z"
   },
   {
    "duration": 4,
    "start_time": "2023-06-26T05:35:19.898Z"
   },
   {
    "duration": 6,
    "start_time": "2023-06-26T05:35:19.903Z"
   },
   {
    "duration": 4,
    "start_time": "2023-06-26T05:35:19.911Z"
   },
   {
    "duration": 13,
    "start_time": "2023-06-26T05:35:19.917Z"
   },
   {
    "duration": 46,
    "start_time": "2023-06-26T05:35:19.932Z"
   },
   {
    "duration": 10,
    "start_time": "2023-06-26T05:35:19.980Z"
   },
   {
    "duration": 15,
    "start_time": "2023-06-26T05:35:19.991Z"
   },
   {
    "duration": 10,
    "start_time": "2023-06-26T05:35:20.008Z"
   },
   {
    "duration": 7,
    "start_time": "2023-06-26T05:35:20.020Z"
   },
   {
    "duration": 21,
    "start_time": "2023-06-26T05:35:20.028Z"
   },
   {
    "duration": 26,
    "start_time": "2023-06-26T05:35:20.051Z"
   },
   {
    "duration": 14,
    "start_time": "2023-06-26T05:35:20.079Z"
   },
   {
    "duration": 61811,
    "start_time": "2023-06-26T05:35:20.095Z"
   },
   {
    "duration": 4,
    "start_time": "2023-06-26T05:36:21.909Z"
   },
   {
    "duration": 8,
    "start_time": "2023-06-26T05:36:21.915Z"
   },
   {
    "duration": 5,
    "start_time": "2023-06-26T05:36:21.924Z"
   },
   {
    "duration": 5,
    "start_time": "2023-06-26T05:36:21.930Z"
   },
   {
    "duration": 67,
    "start_time": "2023-06-26T05:36:21.936Z"
   },
   {
    "duration": 6,
    "start_time": "2023-06-26T05:36:22.005Z"
   },
   {
    "duration": 4,
    "start_time": "2023-06-26T05:36:22.015Z"
   },
   {
    "duration": 188,
    "start_time": "2023-06-26T05:36:22.020Z"
   },
   {
    "duration": 50,
    "start_time": "2023-06-26T05:36:22.209Z"
   },
   {
    "duration": 451,
    "start_time": "2023-06-26T05:36:22.261Z"
   },
   {
    "duration": 489,
    "start_time": "2023-06-26T05:36:22.713Z"
   },
   {
    "duration": 198,
    "start_time": "2023-06-26T05:36:23.203Z"
   },
   {
    "duration": 111,
    "start_time": "2023-06-26T05:36:23.403Z"
   },
   {
    "duration": 273,
    "start_time": "2023-06-26T05:36:23.515Z"
   },
   {
    "duration": 45,
    "start_time": "2023-06-26T05:36:23.790Z"
   },
   {
    "duration": 1214,
    "start_time": "2023-06-26T05:36:23.836Z"
   },
   {
    "duration": 672,
    "start_time": "2023-06-26T05:36:25.052Z"
   },
   {
    "duration": 13,
    "start_time": "2023-06-26T05:36:25.727Z"
   },
   {
    "duration": 165,
    "start_time": "2023-06-26T05:36:25.741Z"
   },
   {
    "duration": 446,
    "start_time": "2023-06-26T05:36:25.908Z"
   },
   {
    "duration": 68,
    "start_time": "2023-06-26T05:36:26.356Z"
   },
   {
    "duration": 5058,
    "start_time": "2023-06-26T05:36:26.425Z"
   },
   {
    "duration": 110,
    "start_time": "2023-06-26T05:36:31.484Z"
   },
   {
    "duration": 12,
    "start_time": "2023-06-26T05:36:31.595Z"
   },
   {
    "duration": 193,
    "start_time": "2023-06-26T05:36:31.608Z"
   },
   {
    "duration": 130,
    "start_time": "2023-06-26T05:36:31.803Z"
   },
   {
    "duration": 31,
    "start_time": "2023-06-26T05:36:31.934Z"
   },
   {
    "duration": 496,
    "start_time": "2023-06-26T05:36:31.967Z"
   },
   {
    "duration": 123,
    "start_time": "2023-06-26T05:36:32.464Z"
   },
   {
    "duration": 664,
    "start_time": "2023-06-26T05:36:32.588Z"
   },
   {
    "duration": 370,
    "start_time": "2023-06-26T05:36:33.254Z"
   },
   {
    "duration": 182,
    "start_time": "2023-06-26T05:36:33.625Z"
   },
   {
    "duration": 1296,
    "start_time": "2023-06-26T06:14:45.464Z"
   },
   {
    "duration": 3,
    "start_time": "2023-06-26T06:14:46.763Z"
   },
   {
    "duration": 16,
    "start_time": "2023-06-26T06:14:46.767Z"
   },
   {
    "duration": 17,
    "start_time": "2023-06-26T06:14:46.785Z"
   },
   {
    "duration": 59,
    "start_time": "2023-06-26T06:14:46.805Z"
   },
   {
    "duration": 15,
    "start_time": "2023-06-26T06:14:46.866Z"
   },
   {
    "duration": 31,
    "start_time": "2023-06-26T06:14:46.882Z"
   },
   {
    "duration": 19,
    "start_time": "2023-06-26T06:14:46.914Z"
   },
   {
    "duration": 27,
    "start_time": "2023-06-26T06:14:46.934Z"
   },
   {
    "duration": 30,
    "start_time": "2023-06-26T06:14:46.962Z"
   },
   {
    "duration": 23,
    "start_time": "2023-06-26T06:14:46.994Z"
   },
   {
    "duration": 15,
    "start_time": "2023-06-26T06:14:47.019Z"
   },
   {
    "duration": 68624,
    "start_time": "2023-06-26T06:14:47.036Z"
   },
   {
    "duration": 4,
    "start_time": "2023-06-26T06:15:55.664Z"
   },
   {
    "duration": 34,
    "start_time": "2023-06-26T06:15:55.670Z"
   },
   {
    "duration": 14,
    "start_time": "2023-06-26T06:15:55.706Z"
   },
   {
    "duration": 22,
    "start_time": "2023-06-26T06:15:55.721Z"
   },
   {
    "duration": 36,
    "start_time": "2023-06-26T06:15:55.744Z"
   },
   {
    "duration": 6,
    "start_time": "2023-06-26T06:15:55.782Z"
   },
   {
    "duration": 15,
    "start_time": "2023-06-26T06:15:55.790Z"
   },
   {
    "duration": 183,
    "start_time": "2023-06-26T06:15:55.807Z"
   },
   {
    "duration": 50,
    "start_time": "2023-06-26T06:15:55.991Z"
   },
   {
    "duration": 461,
    "start_time": "2023-06-26T06:15:56.042Z"
   },
   {
    "duration": 532,
    "start_time": "2023-06-26T06:15:56.505Z"
   },
   {
    "duration": 168,
    "start_time": "2023-06-26T06:15:57.039Z"
   },
   {
    "duration": 199,
    "start_time": "2023-06-26T06:15:57.209Z"
   },
   {
    "duration": 287,
    "start_time": "2023-06-26T06:15:57.410Z"
   },
   {
    "duration": 42,
    "start_time": "2023-06-26T06:15:57.702Z"
   },
   {
    "duration": 1279,
    "start_time": "2023-06-26T06:15:57.746Z"
   },
   {
    "duration": 677,
    "start_time": "2023-06-26T06:15:59.026Z"
   },
   {
    "duration": 14,
    "start_time": "2023-06-26T06:15:59.705Z"
   },
   {
    "duration": 185,
    "start_time": "2023-06-26T06:15:59.721Z"
   },
   {
    "duration": 399,
    "start_time": "2023-06-26T06:15:59.908Z"
   },
   {
    "duration": 64,
    "start_time": "2023-06-26T06:16:00.309Z"
   },
   {
    "duration": 5307,
    "start_time": "2023-06-26T06:16:00.375Z"
   },
   {
    "duration": 111,
    "start_time": "2023-06-26T06:16:05.684Z"
   },
   {
    "duration": 12,
    "start_time": "2023-06-26T06:16:05.802Z"
   },
   {
    "duration": 187,
    "start_time": "2023-06-26T06:16:05.816Z"
   },
   {
    "duration": 37,
    "start_time": "2023-06-26T06:16:06.005Z"
   },
   {
    "duration": 25,
    "start_time": "2023-06-26T06:16:06.043Z"
   },
   {
    "duration": 581,
    "start_time": "2023-06-26T06:16:06.072Z"
   },
   {
    "duration": 158,
    "start_time": "2023-06-26T06:16:06.656Z"
   },
   {
    "duration": 700,
    "start_time": "2023-06-26T06:16:06.816Z"
   },
   {
    "duration": 108,
    "start_time": "2023-06-26T06:16:07.518Z"
   },
   {
    "duration": 214,
    "start_time": "2023-06-26T06:16:07.628Z"
   },
   {
    "duration": 3,
    "start_time": "2023-06-29T04:05:11.721Z"
   },
   {
    "duration": 1974,
    "start_time": "2023-06-29T04:05:16.632Z"
   },
   {
    "duration": 3,
    "start_time": "2023-06-29T04:05:18.608Z"
   },
   {
    "duration": 19,
    "start_time": "2023-06-29T04:05:18.612Z"
   },
   {
    "duration": 33,
    "start_time": "2023-06-29T04:05:18.632Z"
   },
   {
    "duration": 92,
    "start_time": "2023-06-29T04:05:18.668Z"
   },
   {
    "duration": 17,
    "start_time": "2023-06-29T04:05:18.761Z"
   },
   {
    "duration": 15,
    "start_time": "2023-06-29T04:05:18.779Z"
   },
   {
    "duration": 7,
    "start_time": "2023-06-29T04:05:18.795Z"
   },
   {
    "duration": 7,
    "start_time": "2023-06-29T04:05:18.804Z"
   },
   {
    "duration": 14,
    "start_time": "2023-06-29T04:05:18.812Z"
   },
   {
    "duration": 17,
    "start_time": "2023-06-29T04:05:18.827Z"
   },
   {
    "duration": 38,
    "start_time": "2023-06-29T04:05:18.845Z"
   },
   {
    "duration": 16,
    "start_time": "2023-06-29T04:05:18.884Z"
   },
   {
    "duration": 25,
    "start_time": "2023-06-29T04:05:18.902Z"
   },
   {
    "duration": 34,
    "start_time": "2023-06-29T04:05:18.928Z"
   },
   {
    "duration": 29,
    "start_time": "2023-06-29T04:05:18.964Z"
   },
   {
    "duration": 9,
    "start_time": "2023-06-29T04:05:18.994Z"
   },
   {
    "duration": 46,
    "start_time": "2023-06-29T04:05:19.004Z"
   },
   {
    "duration": 25,
    "start_time": "2023-06-29T04:05:19.051Z"
   },
   {
    "duration": 13,
    "start_time": "2023-06-29T04:05:19.078Z"
   },
   {
    "duration": 194,
    "start_time": "2023-06-29T04:05:19.092Z"
   },
   {
    "duration": 46,
    "start_time": "2023-06-29T04:05:19.287Z"
   },
   {
    "duration": 521,
    "start_time": "2023-06-29T04:05:19.338Z"
   },
   {
    "duration": 539,
    "start_time": "2023-06-29T04:05:19.862Z"
   },
   {
    "duration": 64,
    "start_time": "2023-06-29T04:05:20.403Z"
   },
   {
    "duration": 266,
    "start_time": "2023-06-29T04:05:20.469Z"
   },
   {
    "duration": 278,
    "start_time": "2023-06-29T04:05:20.741Z"
   },
   {
    "duration": 53,
    "start_time": "2023-06-29T04:05:21.021Z"
   },
   {
    "duration": 1225,
    "start_time": "2023-06-29T04:05:21.076Z"
   },
   {
    "duration": 660,
    "start_time": "2023-06-29T04:05:22.303Z"
   },
   {
    "duration": 16,
    "start_time": "2023-06-29T04:05:22.966Z"
   },
   {
    "duration": 159,
    "start_time": "2023-06-29T04:05:22.984Z"
   },
   {
    "duration": 450,
    "start_time": "2023-06-29T04:05:23.144Z"
   },
   {
    "duration": 70,
    "start_time": "2023-06-29T04:05:23.595Z"
   },
   {
    "duration": 5338,
    "start_time": "2023-06-29T04:05:23.667Z"
   },
   {
    "duration": 167,
    "start_time": "2023-06-29T04:05:29.007Z"
   },
   {
    "duration": 9,
    "start_time": "2023-06-29T04:05:29.176Z"
   },
   {
    "duration": 79,
    "start_time": "2023-06-29T04:05:29.186Z"
   },
   {
    "duration": 43,
    "start_time": "2023-06-29T04:05:29.333Z"
   },
   {
    "duration": 77,
    "start_time": "2023-06-29T04:05:29.378Z"
   },
   {
    "duration": 490,
    "start_time": "2023-06-29T04:05:29.465Z"
   },
   {
    "duration": 131,
    "start_time": "2023-06-29T04:05:29.957Z"
   },
   {
    "duration": 714,
    "start_time": "2023-06-29T04:05:30.090Z"
   },
   {
    "duration": 110,
    "start_time": "2023-06-29T04:05:30.806Z"
   },
   {
    "duration": 250,
    "start_time": "2023-06-29T04:05:30.919Z"
   },
   {
    "duration": 111,
    "start_time": "2023-06-29T04:19:51.096Z"
   },
   {
    "duration": 7,
    "start_time": "2023-06-29T04:20:09.013Z"
   },
   {
    "duration": 9,
    "start_time": "2023-06-29T04:20:11.580Z"
   },
   {
    "duration": 3,
    "start_time": "2023-06-29T04:20:29.518Z"
   },
   {
    "duration": 24,
    "start_time": "2023-06-29T04:21:52.092Z"
   },
   {
    "duration": 4,
    "start_time": "2023-06-29T04:25:25.263Z"
   },
   {
    "duration": 130,
    "start_time": "2023-06-29T04:25:40.484Z"
   },
   {
    "duration": 46,
    "start_time": "2023-06-29T04:25:52.470Z"
   },
   {
    "duration": 4,
    "start_time": "2023-06-29T04:26:01.647Z"
   },
   {
    "duration": 35,
    "start_time": "2023-06-29T04:26:05.910Z"
   },
   {
    "duration": 2943,
    "start_time": "2023-06-29T04:26:42.127Z"
   },
   {
    "duration": 544,
    "start_time": "2023-06-29T04:26:54.682Z"
   },
   {
    "duration": 87,
    "start_time": "2023-06-29T04:27:04.246Z"
   },
   {
    "duration": 82,
    "start_time": "2023-06-29T04:27:11.954Z"
   },
   {
    "duration": 2065,
    "start_time": "2023-06-29T04:27:38.280Z"
   },
   {
    "duration": 346,
    "start_time": "2023-06-29T04:27:45.701Z"
   },
   {
    "duration": 14,
    "start_time": "2023-06-29T04:28:30.239Z"
   },
   {
    "duration": 116,
    "start_time": "2023-06-29T04:29:33.219Z"
   },
   {
    "duration": 162,
    "start_time": "2023-06-29T04:29:39.784Z"
   },
   {
    "duration": 31,
    "start_time": "2023-06-29T04:29:42.910Z"
   },
   {
    "duration": 2183,
    "start_time": "2023-06-29T04:30:01.357Z"
   },
   {
    "duration": 340,
    "start_time": "2023-06-29T04:30:12.592Z"
   },
   {
    "duration": 10,
    "start_time": "2023-06-29T04:32:34.963Z"
   },
   {
    "duration": 24,
    "start_time": "2023-06-29T04:35:10.719Z"
   },
   {
    "duration": 86,
    "start_time": "2023-06-29T04:35:25.280Z"
   },
   {
    "duration": 26,
    "start_time": "2023-06-29T04:35:35.047Z"
   },
   {
    "duration": 1259,
    "start_time": "2023-06-29T04:35:48.361Z"
   },
   {
    "duration": 266,
    "start_time": "2023-06-29T04:35:52.553Z"
   },
   {
    "duration": 127,
    "start_time": "2023-06-29T04:37:13.495Z"
   },
   {
    "duration": 34,
    "start_time": "2023-06-29T04:37:23.757Z"
   },
   {
    "duration": 128,
    "start_time": "2023-06-29T04:37:45.404Z"
   },
   {
    "duration": 176,
    "start_time": "2023-06-29T04:38:30.756Z"
   },
   {
    "duration": 313,
    "start_time": "2023-06-29T04:40:04.820Z"
   },
   {
    "duration": 165,
    "start_time": "2023-06-29T04:40:13.092Z"
   },
   {
    "duration": 4,
    "start_time": "2023-06-29T04:40:18.661Z"
   },
   {
    "duration": 7,
    "start_time": "2023-06-29T04:40:18.667Z"
   },
   {
    "duration": 6,
    "start_time": "2023-06-29T04:40:18.675Z"
   },
   {
    "duration": 15,
    "start_time": "2023-06-29T04:40:18.683Z"
   },
   {
    "duration": 47,
    "start_time": "2023-06-29T04:40:18.699Z"
   },
   {
    "duration": 14,
    "start_time": "2023-06-29T04:40:18.749Z"
   },
   {
    "duration": 15,
    "start_time": "2023-06-29T04:40:18.764Z"
   },
   {
    "duration": 3,
    "start_time": "2023-06-29T04:40:18.781Z"
   },
   {
    "duration": 14,
    "start_time": "2023-06-29T04:40:18.786Z"
   },
   {
    "duration": 31,
    "start_time": "2023-06-29T04:40:18.802Z"
   },
   {
    "duration": 20,
    "start_time": "2023-06-29T04:40:18.836Z"
   },
   {
    "duration": 11,
    "start_time": "2023-06-29T04:40:18.858Z"
   },
   {
    "duration": 13,
    "start_time": "2023-06-29T04:40:18.870Z"
   },
   {
    "duration": 30,
    "start_time": "2023-06-29T04:40:18.885Z"
   },
   {
    "duration": 8,
    "start_time": "2023-06-29T04:40:18.917Z"
   },
   {
    "duration": 9,
    "start_time": "2023-06-29T04:40:18.927Z"
   },
   {
    "duration": 10,
    "start_time": "2023-06-29T04:40:18.938Z"
   },
   {
    "duration": 47,
    "start_time": "2023-06-29T04:40:18.950Z"
   },
   {
    "duration": 7,
    "start_time": "2023-06-29T04:40:18.999Z"
   },
   {
    "duration": 7,
    "start_time": "2023-06-29T04:40:19.008Z"
   },
   {
    "duration": 147,
    "start_time": "2023-06-29T04:40:19.016Z"
   },
   {
    "duration": 35,
    "start_time": "2023-06-29T04:40:19.165Z"
   },
   {
    "duration": 3035,
    "start_time": "2023-06-29T04:40:19.201Z"
   },
   {
    "duration": 613,
    "start_time": "2023-06-29T04:40:22.241Z"
   },
   {
    "duration": 79,
    "start_time": "2023-06-29T04:40:22.856Z"
   },
   {
    "duration": 260,
    "start_time": "2023-06-29T04:40:22.937Z"
   },
   {
    "duration": 52,
    "start_time": "2023-06-29T04:40:23.199Z"
   },
   {
    "duration": 2326,
    "start_time": "2023-06-29T04:40:23.252Z"
   },
   {
    "duration": 362,
    "start_time": "2023-06-29T04:40:25.579Z"
   },
   {
    "duration": 18,
    "start_time": "2023-06-29T04:40:25.943Z"
   },
   {
    "duration": 88,
    "start_time": "2023-06-29T04:40:25.963Z"
   },
   {
    "duration": 201,
    "start_time": "2023-06-29T04:40:26.135Z"
   },
   {
    "duration": 37,
    "start_time": "2023-06-29T04:40:26.341Z"
   },
   {
    "duration": 2439,
    "start_time": "2023-06-29T04:40:26.379Z"
   },
   {
    "duration": 412,
    "start_time": "2023-06-29T04:40:28.820Z"
   },
   {
    "duration": 18,
    "start_time": "2023-06-29T04:40:29.234Z"
   },
   {
    "duration": 90,
    "start_time": "2023-06-29T04:40:29.254Z"
   },
   {
    "duration": 201,
    "start_time": "2023-06-29T04:40:29.346Z"
   },
   {
    "duration": 35,
    "start_time": "2023-06-29T04:40:29.549Z"
   },
   {
    "duration": 1410,
    "start_time": "2023-06-29T04:40:29.586Z"
   },
   {
    "duration": 308,
    "start_time": "2023-06-29T04:40:31.001Z"
   },
   {
    "duration": 622,
    "start_time": "2023-06-29T04:40:31.311Z"
   },
   {
    "duration": 85,
    "start_time": "2023-06-29T04:40:31.935Z"
   },
   {
    "duration": 219,
    "start_time": "2023-06-29T04:40:32.032Z"
   },
   {
    "duration": 10,
    "start_time": "2023-06-29T04:46:44.285Z"
   },
   {
    "duration": 158,
    "start_time": "2023-06-29T04:46:49.791Z"
   },
   {
    "duration": 22,
    "start_time": "2023-06-29T04:46:55.068Z"
   },
   {
    "duration": 1316,
    "start_time": "2023-06-29T04:47:04.850Z"
   },
   {
    "duration": 281,
    "start_time": "2023-06-29T04:47:12.341Z"
   },
   {
    "duration": 85,
    "start_time": "2023-06-29T04:47:50.077Z"
   },
   {
    "duration": 55,
    "start_time": "2023-06-29T04:47:58.185Z"
   },
   {
    "duration": 87,
    "start_time": "2023-06-29T04:48:10.422Z"
   },
   {
    "duration": 20,
    "start_time": "2023-06-29T04:48:11.688Z"
   },
   {
    "duration": 1230,
    "start_time": "2023-06-29T04:48:17.782Z"
   },
   {
    "duration": 331,
    "start_time": "2023-06-29T04:48:19.910Z"
   },
   {
    "duration": 407,
    "start_time": "2023-06-29T04:51:57.984Z"
   },
   {
    "duration": 2575,
    "start_time": "2023-06-29T04:52:24.253Z"
   },
   {
    "duration": 366,
    "start_time": "2023-06-29T04:52:56.107Z"
   },
   {
    "duration": 393,
    "start_time": "2023-06-29T04:53:33.555Z"
   },
   {
    "duration": 355,
    "start_time": "2023-06-29T04:55:34.253Z"
   },
   {
    "duration": 47,
    "start_time": "2023-06-29T04:57:26.672Z"
   },
   {
    "duration": 13,
    "start_time": "2023-06-29T05:01:38.852Z"
   },
   {
    "duration": 5,
    "start_time": "2023-06-29T05:02:11.388Z"
   },
   {
    "duration": 58,
    "start_time": "2023-06-29T05:02:21.018Z"
   },
   {
    "duration": 44,
    "start_time": "2023-06-29T05:02:39.152Z"
   },
   {
    "duration": 152,
    "start_time": "2023-06-29T05:07:18.181Z"
   }
  ],
  "kernelspec": {
   "display_name": "Python 3 (ipykernel)",
   "language": "python",
   "name": "python3"
  },
  "language_info": {
   "codemirror_mode": {
    "name": "ipython",
    "version": 3
   },
   "file_extension": ".py",
   "mimetype": "text/x-python",
   "name": "python",
   "nbconvert_exporter": "python",
   "pygments_lexer": "ipython3",
   "version": "3.8.8"
  },
  "toc": {
   "base_numbering": 1,
   "nav_menu": {},
   "number_sections": true,
   "sideBar": true,
   "skip_h1_title": true,
   "title_cell": "Содержание",
   "title_sidebar": "Contents",
   "toc_cell": true,
   "toc_position": {},
   "toc_section_display": true,
   "toc_window_display": false
  }
 },
 "nbformat": 4,
 "nbformat_minor": 2
}
