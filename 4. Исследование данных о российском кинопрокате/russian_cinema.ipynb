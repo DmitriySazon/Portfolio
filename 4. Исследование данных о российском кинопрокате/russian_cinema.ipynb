{
 "cells": [
  {
   "cell_type": "markdown",
   "metadata": {
    "id": "sIfNaMOxgFyK"
   },
   "source": [
    "## Исследование данных о российском кинопрокате\n",
    "\n"
   ]
  },
  {
   "cell_type": "markdown",
   "metadata": {
    "id": "kVGSplJOgFyO"
   },
   "source": [
    "Описание проекта  \n",
    "\n",
    "Заказчик этого исследования — Министерство культуры Российской Федерации.   \n",
    "Вам нужно изучить рынок российского кинопроката и выявить текущие тренды. Уделите внимание фильмам, которые получили государственную поддержку. Попробуйте ответить на вопрос, насколько такие фильмы интересны зрителю.   \n",
    "Вы будете работать с данными, опубликованными на портале открытых данных Министерства культуры. Набор данных содержит информацию о прокатных удостоверениях, сборах и государственной поддержке фильмов, а также информацию с сайта КиноПоиск.   \n",
    "\n",
    "Инструкция по выполнению  \n",
    "\n",
    "Шаг 1. Откройте файлы с данными и объедините их в один датафрейм\n",
    "Объедините данные таким образом, чтобы все объекты из датасета mkrf_movies обязательно вошли в получившийся датафрейм. \n",
    "\n",
    "Шаг 2. Предобработка данных  \n",
    "\n",
    "Проверьте типы данных в датафрейме и преобразуйте там, где это необходимо.\n",
    "Изучите пропуски в датафрейме. Объясните, почему заполнили пропуски определённым образом или почему не стали это делать.  \n",
    "Проверьте, есть ли в данных дубликаты. Опишите причины, которые могли повлиять на появление дублей.\n",
    "Изучите столбцы, которые содержат категориальные значения:  \n",
    "Посмотрите, какая общая проблема встречается почти во всех категориальных столбцах;  \n",
    "Исправьте проблемные значения в поле type.  \n",
    "Изучите столбцы, которые хранят количественные значения. Проверьте, обнаружились ли в таких столбцах подозрительные данные. Как с такими данными лучше поступить?  \n",
    "\n",
    "Добавьте новые столбцы:  \n",
    "\n",
    "Создайте столбец с информацией о годе проката. Выделите год из даты премьеры фильма;\n",
    "Создайте два столбца: с именем и фамилией главного режиссёра и основным жанром фильма. В столбцы войдут первые значения из списка режиссёров и жанров соответственно;  \n",
    "Посчитайте, какую долю от общего бюджета фильма составляет государственная поддержка.  \n",
    "\n",
    "Шаг 3. Проведите исследовательский анализ данных  \n",
    "\n",
    "Посмотрите, сколько фильмов выходило в прокат каждый год. Обратите внимание, что данные о прокате в кинотеатрах известны не для всех фильмов. Посчитайте, какую долю составляют фильмы с указанной информацией о прокате в кинотеатрах. Проанализируйте, как эта доля менялась по годам. Сделайте вывод о том, какой период полнее всего представлен в данных.  \n",
    "Изучите, как менялась динамика проката по годам. В каком году сумма сборов была минимальной? А максимальной?  \n",
    "С помощью сводной таблицы посчитайте среднюю и медианную сумму сборов для каждого года. Сравните значения и сделайте выводы.  \n",
    "Определите, влияет ли возрастное ограничение аудитории («6+», «12+», «16+», «18+» и т. д.) на сборы фильма в прокате в период с 2015 по 2019 год? Фильмы с каким возрастным ограничением собрали больше всего денег в прокате? Меняется ли картина в зависимости от года? Если да, предположите, с чем это может быть связано.  \n",
    "\n",
    "Шаг 4. Исследуйте фильмы, которые получили государственную поддержку  \n",
    "\n",
    "На этом этапе нет конкретных инструкций и заданий — поищите интересные закономерности в данных. Посмотрите, сколько выделяют средств на поддержку кино. Проверьте, хорошо ли окупаются такие фильмы, какой у них рейтинг.   \n",
    "\n",
    "Шаг 5. Напишите общий вывод  "
   ]
  },
  {
   "cell_type": "markdown",
   "metadata": {},
   "source": [
    "Описание данных\n",
    "\n",
    "first_column — содержание столбца 1 :    \n",
    "\n",
    "title — название фильма;  \n",
    "puNumber — номер прокатного удостоверения;  \n",
    "show_start_date — дата премьеры фильма;  \n",
    "type — тип фильма;  \n",
    "film_studio — студия-производитель;  \n",
    "production_country — страна-производитель;  \n",
    "director — режиссёр;  \n",
    "producer — продюсер;  \n",
    "age_restriction — возрастная категория;  \n",
    "refundable_support — объём возвратных средств государственной поддержки;  \n",
    "nonrefundable_support — объём невозвратных средств государственной поддержки;  \n",
    "financing_source — источник государственного финансирования;  \n",
    "budget — общий бюджет фильма;  \n",
    "ratings — рейтинг фильма на КиноПоиске;  \n",
    "genres — жанр фильма.  \n",
    "\n",
    "second_column — содержание столбца 2:  \n",
    "\n",
    "puNumber — номер прокатного удостоверения;  \n",
    "box_office — сборы в рублях.  "
   ]
  },
  {
   "cell_type": "markdown",
   "metadata": {
    "id": "3bSlkCsbgFyL"
   },
   "source": [
    "### Шаг 1. Откройте файлы с данными и объедините их в один датафрейм. "
   ]
  },
  {
   "cell_type": "markdown",
   "metadata": {
    "id": "kVGSplJOgFyO"
   },
   "source": [
    "Импортируем нужные библиотеки и посмотрим файлы с данными по отдельности."
   ]
  },
  {
   "cell_type": "code",
   "execution_count": 1,
   "metadata": {
    "id": "dw87FlzMgFyM",
    "scrolled": true
   },
   "outputs": [],
   "source": [
    "import pandas as pd\n",
    "import matplotlib.pyplot as plt\n",
    "import seaborn as sns\n"
   ]
  },
  {
   "cell_type": "code",
   "execution_count": 2,
   "metadata": {},
   "outputs": [],
   "source": [
    "try:\n",
    "    data_udo = pd.read_csv('/datasets/mkrf_movies.csv')\n",
    "except:\n",
    "    data_udo = pd.read_csv('C:/Users/sazon/Desktop/Задачи/YandexPracticum/cinema/mkrf_movies.csv')"
   ]
  },
  {
   "cell_type": "code",
   "execution_count": 3,
   "metadata": {
    "id": "kVGSplJOgFyO"
   },
   "outputs": [],
   "source": [
    "try:\n",
    "    data_pok = pd.read_csv('/datasets/mkrf_shows.csv')\n",
    "except:\n",
    "    data_pok = pd.read_csv('C:/Users/sazon/Desktop/Задачи/YandexPracticum/cinema/mkrf_shows.csv')"
   ]
  },
  {
   "cell_type": "code",
   "execution_count": 4,
   "metadata": {},
   "outputs": [
    {
     "data": {
      "text/html": [
       "<div>\n",
       "<style scoped>\n",
       "    .dataframe tbody tr th:only-of-type {\n",
       "        vertical-align: middle;\n",
       "    }\n",
       "\n",
       "    .dataframe tbody tr th {\n",
       "        vertical-align: top;\n",
       "    }\n",
       "\n",
       "    .dataframe thead th {\n",
       "        text-align: right;\n",
       "    }\n",
       "</style>\n",
       "<table border=\"1\" class=\"dataframe\">\n",
       "  <thead>\n",
       "    <tr style=\"text-align: right;\">\n",
       "      <th></th>\n",
       "      <th>title</th>\n",
       "      <th>puNumber</th>\n",
       "      <th>show_start_date</th>\n",
       "      <th>type</th>\n",
       "      <th>film_studio</th>\n",
       "      <th>production_country</th>\n",
       "      <th>director</th>\n",
       "      <th>producer</th>\n",
       "      <th>age_restriction</th>\n",
       "      <th>refundable_support</th>\n",
       "      <th>nonrefundable_support</th>\n",
       "      <th>budget</th>\n",
       "      <th>financing_source</th>\n",
       "      <th>ratings</th>\n",
       "      <th>genres</th>\n",
       "    </tr>\n",
       "  </thead>\n",
       "  <tbody>\n",
       "    <tr>\n",
       "      <th>0</th>\n",
       "      <td>Открытый простор</td>\n",
       "      <td>221048915</td>\n",
       "      <td>2015-11-27T12:00:00.000Z</td>\n",
       "      <td>Художественный</td>\n",
       "      <td>Тачстоун Пикчерз, Кобальт Пикчерз, Бикон Пикче...</td>\n",
       "      <td>США</td>\n",
       "      <td>Кевин Костнер</td>\n",
       "      <td>Дэвид Валдес, Кевин Костнер, Джейк Эбертс</td>\n",
       "      <td>«18+» - запрещено для детей</td>\n",
       "      <td>NaN</td>\n",
       "      <td>NaN</td>\n",
       "      <td>NaN</td>\n",
       "      <td>NaN</td>\n",
       "      <td>7.2</td>\n",
       "      <td>боевик,драма,мелодрама</td>\n",
       "    </tr>\n",
       "    <tr>\n",
       "      <th>1</th>\n",
       "      <td>Особо важное задание</td>\n",
       "      <td>111013716</td>\n",
       "      <td>2016-09-13T12:00:00.000Z</td>\n",
       "      <td>Художественный</td>\n",
       "      <td>Киностудия \"Мосфильм\"</td>\n",
       "      <td>СССР</td>\n",
       "      <td>Е.Матвеев</td>\n",
       "      <td>NaN</td>\n",
       "      <td>«6+» - для детей старше 6 лет</td>\n",
       "      <td>NaN</td>\n",
       "      <td>NaN</td>\n",
       "      <td>NaN</td>\n",
       "      <td>NaN</td>\n",
       "      <td>6.6</td>\n",
       "      <td>драма,военный</td>\n",
       "    </tr>\n",
       "    <tr>\n",
       "      <th>2</th>\n",
       "      <td>Особо опасен</td>\n",
       "      <td>221038416</td>\n",
       "      <td>2016-10-10T12:00:00.000Z</td>\n",
       "      <td>Художественный</td>\n",
       "      <td>Юниверсал Пикчерз, Кикстарт Продакшнз, Марк Пл...</td>\n",
       "      <td>США</td>\n",
       "      <td>Тимур Бекмамбетов</td>\n",
       "      <td>Джим Лемли, Джейсон Нетер, Марк Е.Платт, Яйн Смит</td>\n",
       "      <td>«18+» - запрещено для детей</td>\n",
       "      <td>NaN</td>\n",
       "      <td>NaN</td>\n",
       "      <td>NaN</td>\n",
       "      <td>NaN</td>\n",
       "      <td>6.8</td>\n",
       "      <td>фантастика,боевик,триллер</td>\n",
       "    </tr>\n",
       "    <tr>\n",
       "      <th>3</th>\n",
       "      <td>Особо опасен</td>\n",
       "      <td>221026916</td>\n",
       "      <td>2016-06-10T12:00:00.000Z</td>\n",
       "      <td>Художественный</td>\n",
       "      <td>Юниверсал Пикчерз, Кикстарт Продакшнз, Марк Пл...</td>\n",
       "      <td>США</td>\n",
       "      <td>Тимур Бекмамбетов</td>\n",
       "      <td>Джим Лемли, Джейсон Нетер, Марк Е.Платт, Яйн Смит</td>\n",
       "      <td>«18+» - запрещено для детей</td>\n",
       "      <td>NaN</td>\n",
       "      <td>NaN</td>\n",
       "      <td>NaN</td>\n",
       "      <td>NaN</td>\n",
       "      <td>6.8</td>\n",
       "      <td>фантастика,боевик,триллер</td>\n",
       "    </tr>\n",
       "    <tr>\n",
       "      <th>4</th>\n",
       "      <td>Особо опасен</td>\n",
       "      <td>221030815</td>\n",
       "      <td>2015-07-29T12:00:00.000Z</td>\n",
       "      <td>Художественный</td>\n",
       "      <td>Юниверсал Пикчерз, Кикстарт Продакшнз, Марк Пл...</td>\n",
       "      <td>США</td>\n",
       "      <td>Тимур Бекмамбетов</td>\n",
       "      <td>Джим Лемли, Джейсон Нетер, Марк Е.Платт, Яйн Смит</td>\n",
       "      <td>«18+» - запрещено для детей</td>\n",
       "      <td>NaN</td>\n",
       "      <td>NaN</td>\n",
       "      <td>NaN</td>\n",
       "      <td>NaN</td>\n",
       "      <td>6.8</td>\n",
       "      <td>фантастика,боевик,триллер</td>\n",
       "    </tr>\n",
       "  </tbody>\n",
       "</table>\n",
       "</div>"
      ],
      "text/plain": [
       "                  title   puNumber           show_start_date            type  \\\n",
       "0      Открытый простор  221048915  2015-11-27T12:00:00.000Z  Художественный   \n",
       "1  Особо важное задание  111013716  2016-09-13T12:00:00.000Z  Художественный   \n",
       "2          Особо опасен  221038416  2016-10-10T12:00:00.000Z  Художественный   \n",
       "3          Особо опасен  221026916  2016-06-10T12:00:00.000Z  Художественный   \n",
       "4          Особо опасен  221030815  2015-07-29T12:00:00.000Z  Художественный   \n",
       "\n",
       "                                         film_studio production_country  \\\n",
       "0  Тачстоун Пикчерз, Кобальт Пикчерз, Бикон Пикче...                США   \n",
       "1                              Киностудия \"Мосфильм\"               СССР   \n",
       "2  Юниверсал Пикчерз, Кикстарт Продакшнз, Марк Пл...                США   \n",
       "3  Юниверсал Пикчерз, Кикстарт Продакшнз, Марк Пл...                США   \n",
       "4  Юниверсал Пикчерз, Кикстарт Продакшнз, Марк Пл...                США   \n",
       "\n",
       "            director                                           producer  \\\n",
       "0      Кевин Костнер          Дэвид Валдес, Кевин Костнер, Джейк Эбертс   \n",
       "1          Е.Матвеев                                                NaN   \n",
       "2  Тимур Бекмамбетов  Джим Лемли, Джейсон Нетер, Марк Е.Платт, Яйн Смит   \n",
       "3  Тимур Бекмамбетов  Джим Лемли, Джейсон Нетер, Марк Е.Платт, Яйн Смит   \n",
       "4  Тимур Бекмамбетов  Джим Лемли, Джейсон Нетер, Марк Е.Платт, Яйн Смит   \n",
       "\n",
       "                 age_restriction  refundable_support  nonrefundable_support  \\\n",
       "0    «18+» - запрещено для детей                 NaN                    NaN   \n",
       "1  «6+» - для детей старше 6 лет                 NaN                    NaN   \n",
       "2    «18+» - запрещено для детей                 NaN                    NaN   \n",
       "3    «18+» - запрещено для детей                 NaN                    NaN   \n",
       "4    «18+» - запрещено для детей                 NaN                    NaN   \n",
       "\n",
       "   budget financing_source ratings                     genres  \n",
       "0     NaN              NaN     7.2     боевик,драма,мелодрама  \n",
       "1     NaN              NaN     6.6              драма,военный  \n",
       "2     NaN              NaN     6.8  фантастика,боевик,триллер  \n",
       "3     NaN              NaN     6.8  фантастика,боевик,триллер  \n",
       "4     NaN              NaN     6.8  фантастика,боевик,триллер  "
      ]
     },
     "execution_count": 4,
     "metadata": {},
     "output_type": "execute_result"
    }
   ],
   "source": [
    "data_udo.head()"
   ]
  },
  {
   "cell_type": "code",
   "execution_count": 5,
   "metadata": {},
   "outputs": [
    {
     "data": {
      "text/html": [
       "<div>\n",
       "<style scoped>\n",
       "    .dataframe tbody tr th:only-of-type {\n",
       "        vertical-align: middle;\n",
       "    }\n",
       "\n",
       "    .dataframe tbody tr th {\n",
       "        vertical-align: top;\n",
       "    }\n",
       "\n",
       "    .dataframe thead th {\n",
       "        text-align: right;\n",
       "    }\n",
       "</style>\n",
       "<table border=\"1\" class=\"dataframe\">\n",
       "  <thead>\n",
       "    <tr style=\"text-align: right;\">\n",
       "      <th></th>\n",
       "      <th>puNumber</th>\n",
       "      <th>box_office</th>\n",
       "    </tr>\n",
       "  </thead>\n",
       "  <tbody>\n",
       "    <tr>\n",
       "      <th>0</th>\n",
       "      <td>111000113</td>\n",
       "      <td>2.450000e+03</td>\n",
       "    </tr>\n",
       "    <tr>\n",
       "      <th>1</th>\n",
       "      <td>111000115</td>\n",
       "      <td>6.104000e+04</td>\n",
       "    </tr>\n",
       "    <tr>\n",
       "      <th>2</th>\n",
       "      <td>111000116</td>\n",
       "      <td>1.530300e+08</td>\n",
       "    </tr>\n",
       "    <tr>\n",
       "      <th>3</th>\n",
       "      <td>111000117</td>\n",
       "      <td>1.226096e+07</td>\n",
       "    </tr>\n",
       "    <tr>\n",
       "      <th>4</th>\n",
       "      <td>111000118</td>\n",
       "      <td>1.636841e+08</td>\n",
       "    </tr>\n",
       "  </tbody>\n",
       "</table>\n",
       "</div>"
      ],
      "text/plain": [
       "    puNumber    box_office\n",
       "0  111000113  2.450000e+03\n",
       "1  111000115  6.104000e+04\n",
       "2  111000116  1.530300e+08\n",
       "3  111000117  1.226096e+07\n",
       "4  111000118  1.636841e+08"
      ]
     },
     "execution_count": 5,
     "metadata": {},
     "output_type": "execute_result"
    }
   ],
   "source": [
    "data_pok.head()"
   ]
  },
  {
   "cell_type": "markdown",
   "metadata": {
    "id": "kVGSplJOgFyO"
   },
   "source": [
    "Запросим атрибуты таблиц методом info()"
   ]
  },
  {
   "cell_type": "code",
   "execution_count": 6,
   "metadata": {
    "id": "kVGSplJOgFyO",
    "scrolled": true
   },
   "outputs": [
    {
     "name": "stdout",
     "output_type": "stream",
     "text": [
      "<class 'pandas.core.frame.DataFrame'>\n",
      "RangeIndex: 7486 entries, 0 to 7485\n",
      "Data columns (total 15 columns):\n",
      " #   Column                 Non-Null Count  Dtype  \n",
      "---  ------                 --------------  -----  \n",
      " 0   title                  7486 non-null   object \n",
      " 1   puNumber               7486 non-null   object \n",
      " 2   show_start_date        7486 non-null   object \n",
      " 3   type                   7486 non-null   object \n",
      " 4   film_studio            7468 non-null   object \n",
      " 5   production_country     7484 non-null   object \n",
      " 6   director               7477 non-null   object \n",
      " 7   producer               6918 non-null   object \n",
      " 8   age_restriction        7486 non-null   object \n",
      " 9   refundable_support     332 non-null    float64\n",
      " 10  nonrefundable_support  332 non-null    float64\n",
      " 11  budget                 332 non-null    float64\n",
      " 12  financing_source       332 non-null    object \n",
      " 13  ratings                6519 non-null   object \n",
      " 14  genres                 6510 non-null   object \n",
      "dtypes: float64(3), object(12)\n",
      "memory usage: 877.4+ KB\n"
     ]
    }
   ],
   "source": [
    "data_udo.info()"
   ]
  },
  {
   "cell_type": "markdown",
   "metadata": {
    "id": "kVGSplJOgFyO"
   },
   "source": [
    "В данных заметил следующее:  \n",
    "puNumber (номер прокатного удостоверения) - должен быть тип int  \n",
    "show_start_date (дата премьеры фильма) - должен быть тип datetime  \n",
    "producer (продюсер) - есть нулевые значения  \n",
    "refundable_support (объём возвратных средств государственной поддержки) - есть нулевые значения  \n",
    "nonrefundable_support (объём невозвратных средств государственной поддержки) - есть нулевые значения  \n",
    "budget (общий бюджет фильма) - есть нулевые значения  \n",
    "financing_source (источник государственного финансирования) - есть нулевые значения  \n",
    "ratings (рейтинг фильма на КиноПоиске) - есть нулевые значения, должен быть тип float  \n",
    "genres (жанр фильма) - есть нулевые значения  \n",
    "\n"
   ]
  },
  {
   "cell_type": "code",
   "execution_count": 7,
   "metadata": {
    "id": "kVGSplJOgFyO"
   },
   "outputs": [
    {
     "name": "stdout",
     "output_type": "stream",
     "text": [
      "<class 'pandas.core.frame.DataFrame'>\n",
      "RangeIndex: 3158 entries, 0 to 3157\n",
      "Data columns (total 2 columns):\n",
      " #   Column      Non-Null Count  Dtype  \n",
      "---  ------      --------------  -----  \n",
      " 0   puNumber    3158 non-null   int64  \n",
      " 1   box_office  3158 non-null   float64\n",
      "dtypes: float64(1), int64(1)\n",
      "memory usage: 49.5 KB\n"
     ]
    }
   ],
   "source": [
    "data_pok.info()"
   ]
  },
  {
   "cell_type": "markdown",
   "metadata": {
    "id": "kVGSplJOgFyO"
   },
   "source": [
    "В этой таблице на первый взгляд все в порядке. "
   ]
  },
  {
   "cell_type": "markdown",
   "metadata": {
    "id": "kVGSplJOgFyO"
   },
   "source": [
    "Объединим оба датафрейма в один. Обьединять будем по столбцу puNumber, но для начала изменим тип данных в первом датафрейме."
   ]
  },
  {
   "cell_type": "markdown",
   "metadata": {
    "id": "kVGSplJOgFyO"
   },
   "source": [
    "Как оказалось, в одной из строчек стобца puNumber есть нечисловое значение 'нет', найдем его."
   ]
  },
  {
   "cell_type": "code",
   "execution_count": 8,
   "metadata": {
    "id": "kVGSplJOgFyO"
   },
   "outputs": [
    {
     "data": {
      "text/html": [
       "<div>\n",
       "<style scoped>\n",
       "    .dataframe tbody tr th:only-of-type {\n",
       "        vertical-align: middle;\n",
       "    }\n",
       "\n",
       "    .dataframe tbody tr th {\n",
       "        vertical-align: top;\n",
       "    }\n",
       "\n",
       "    .dataframe thead th {\n",
       "        text-align: right;\n",
       "    }\n",
       "</style>\n",
       "<table border=\"1\" class=\"dataframe\">\n",
       "  <thead>\n",
       "    <tr style=\"text-align: right;\">\n",
       "      <th></th>\n",
       "      <th>title</th>\n",
       "      <th>puNumber</th>\n",
       "      <th>show_start_date</th>\n",
       "      <th>type</th>\n",
       "      <th>film_studio</th>\n",
       "      <th>production_country</th>\n",
       "      <th>director</th>\n",
       "      <th>producer</th>\n",
       "      <th>age_restriction</th>\n",
       "      <th>refundable_support</th>\n",
       "      <th>nonrefundable_support</th>\n",
       "      <th>budget</th>\n",
       "      <th>financing_source</th>\n",
       "      <th>ratings</th>\n",
       "      <th>genres</th>\n",
       "    </tr>\n",
       "  </thead>\n",
       "  <tbody>\n",
       "    <tr>\n",
       "      <th>1797</th>\n",
       "      <td>Курбан-роман. (История с жертвой)</td>\n",
       "      <td>нет</td>\n",
       "      <td>2014-05-15T12:00:00.000Z</td>\n",
       "      <td>Художественный</td>\n",
       "      <td>ФОНД \"ИННОВАЦИЯ\"</td>\n",
       "      <td>Россия</td>\n",
       "      <td>С.Юзеев</td>\n",
       "      <td>М.Галицкая</td>\n",
       "      <td>«12+» - для детей старше 12 лет</td>\n",
       "      <td>NaN</td>\n",
       "      <td>NaN</td>\n",
       "      <td>NaN</td>\n",
       "      <td>NaN</td>\n",
       "      <td>NaN</td>\n",
       "      <td>NaN</td>\n",
       "    </tr>\n",
       "  </tbody>\n",
       "</table>\n",
       "</div>"
      ],
      "text/plain": [
       "                                  title puNumber           show_start_date  \\\n",
       "1797  Курбан-роман. (История с жертвой)      нет  2014-05-15T12:00:00.000Z   \n",
       "\n",
       "                type       film_studio production_country director  \\\n",
       "1797  Художественный  ФОНД \"ИННОВАЦИЯ\"             Россия  С.Юзеев   \n",
       "\n",
       "        producer                  age_restriction  refundable_support  \\\n",
       "1797  М.Галицкая  «12+» - для детей старше 12 лет                 NaN   \n",
       "\n",
       "      nonrefundable_support  budget financing_source ratings genres  \n",
       "1797                    NaN     NaN              NaN     NaN    NaN  "
      ]
     },
     "execution_count": 8,
     "metadata": {},
     "output_type": "execute_result"
    }
   ],
   "source": [
    "data_udo[data_udo.isin(['нет']).any(axis= 1 )]"
   ]
  },
  {
   "cell_type": "markdown",
   "metadata": {
    "id": "kVGSplJOgFyO"
   },
   "source": [
    "И поменяем значение на ноль."
   ]
  },
  {
   "cell_type": "code",
   "execution_count": 9,
   "metadata": {
    "id": "kVGSplJOgFyO"
   },
   "outputs": [],
   "source": [
    "data_udo['puNumber'] = data_udo['puNumber'].replace('нет', 0)"
   ]
  },
  {
   "cell_type": "code",
   "execution_count": 10,
   "metadata": {
    "id": "kVGSplJOgFyO"
   },
   "outputs": [],
   "source": [
    "data_udo['puNumber'] = data_udo['puNumber'].astype(int)"
   ]
  },
  {
   "cell_type": "code",
   "execution_count": 11,
   "metadata": {
    "id": "kVGSplJOgFyO"
   },
   "outputs": [],
   "source": [
    "data = data_udo.merge(data_pok,on='puNumber', how='left')"
   ]
  },
  {
   "cell_type": "markdown",
   "metadata": {
    "id": "kVGSplJOgFyO"
   },
   "source": [
    "Посмотрим на обновленный датафрейм"
   ]
  },
  {
   "cell_type": "code",
   "execution_count": 12,
   "metadata": {
    "id": "kVGSplJOgFyO",
    "scrolled": true
   },
   "outputs": [
    {
     "data": {
      "text/html": [
       "<div>\n",
       "<style scoped>\n",
       "    .dataframe tbody tr th:only-of-type {\n",
       "        vertical-align: middle;\n",
       "    }\n",
       "\n",
       "    .dataframe tbody tr th {\n",
       "        vertical-align: top;\n",
       "    }\n",
       "\n",
       "    .dataframe thead th {\n",
       "        text-align: right;\n",
       "    }\n",
       "</style>\n",
       "<table border=\"1\" class=\"dataframe\">\n",
       "  <thead>\n",
       "    <tr style=\"text-align: right;\">\n",
       "      <th></th>\n",
       "      <th>title</th>\n",
       "      <th>puNumber</th>\n",
       "      <th>show_start_date</th>\n",
       "      <th>type</th>\n",
       "      <th>film_studio</th>\n",
       "      <th>production_country</th>\n",
       "      <th>director</th>\n",
       "      <th>producer</th>\n",
       "      <th>age_restriction</th>\n",
       "      <th>refundable_support</th>\n",
       "      <th>nonrefundable_support</th>\n",
       "      <th>budget</th>\n",
       "      <th>financing_source</th>\n",
       "      <th>ratings</th>\n",
       "      <th>genres</th>\n",
       "      <th>box_office</th>\n",
       "    </tr>\n",
       "  </thead>\n",
       "  <tbody>\n",
       "    <tr>\n",
       "      <th>0</th>\n",
       "      <td>Открытый простор</td>\n",
       "      <td>221048915</td>\n",
       "      <td>2015-11-27T12:00:00.000Z</td>\n",
       "      <td>Художественный</td>\n",
       "      <td>Тачстоун Пикчерз, Кобальт Пикчерз, Бикон Пикче...</td>\n",
       "      <td>США</td>\n",
       "      <td>Кевин Костнер</td>\n",
       "      <td>Дэвид Валдес, Кевин Костнер, Джейк Эбертс</td>\n",
       "      <td>«18+» - запрещено для детей</td>\n",
       "      <td>NaN</td>\n",
       "      <td>NaN</td>\n",
       "      <td>NaN</td>\n",
       "      <td>NaN</td>\n",
       "      <td>7.2</td>\n",
       "      <td>боевик,драма,мелодрама</td>\n",
       "      <td>NaN</td>\n",
       "    </tr>\n",
       "    <tr>\n",
       "      <th>1</th>\n",
       "      <td>Особо важное задание</td>\n",
       "      <td>111013716</td>\n",
       "      <td>2016-09-13T12:00:00.000Z</td>\n",
       "      <td>Художественный</td>\n",
       "      <td>Киностудия \"Мосфильм\"</td>\n",
       "      <td>СССР</td>\n",
       "      <td>Е.Матвеев</td>\n",
       "      <td>NaN</td>\n",
       "      <td>«6+» - для детей старше 6 лет</td>\n",
       "      <td>NaN</td>\n",
       "      <td>NaN</td>\n",
       "      <td>NaN</td>\n",
       "      <td>NaN</td>\n",
       "      <td>6.6</td>\n",
       "      <td>драма,военный</td>\n",
       "      <td>NaN</td>\n",
       "    </tr>\n",
       "    <tr>\n",
       "      <th>2</th>\n",
       "      <td>Особо опасен</td>\n",
       "      <td>221038416</td>\n",
       "      <td>2016-10-10T12:00:00.000Z</td>\n",
       "      <td>Художественный</td>\n",
       "      <td>Юниверсал Пикчерз, Кикстарт Продакшнз, Марк Пл...</td>\n",
       "      <td>США</td>\n",
       "      <td>Тимур Бекмамбетов</td>\n",
       "      <td>Джим Лемли, Джейсон Нетер, Марк Е.Платт, Яйн Смит</td>\n",
       "      <td>«18+» - запрещено для детей</td>\n",
       "      <td>NaN</td>\n",
       "      <td>NaN</td>\n",
       "      <td>NaN</td>\n",
       "      <td>NaN</td>\n",
       "      <td>6.8</td>\n",
       "      <td>фантастика,боевик,триллер</td>\n",
       "      <td>NaN</td>\n",
       "    </tr>\n",
       "    <tr>\n",
       "      <th>3</th>\n",
       "      <td>Особо опасен</td>\n",
       "      <td>221026916</td>\n",
       "      <td>2016-06-10T12:00:00.000Z</td>\n",
       "      <td>Художественный</td>\n",
       "      <td>Юниверсал Пикчерз, Кикстарт Продакшнз, Марк Пл...</td>\n",
       "      <td>США</td>\n",
       "      <td>Тимур Бекмамбетов</td>\n",
       "      <td>Джим Лемли, Джейсон Нетер, Марк Е.Платт, Яйн Смит</td>\n",
       "      <td>«18+» - запрещено для детей</td>\n",
       "      <td>NaN</td>\n",
       "      <td>NaN</td>\n",
       "      <td>NaN</td>\n",
       "      <td>NaN</td>\n",
       "      <td>6.8</td>\n",
       "      <td>фантастика,боевик,триллер</td>\n",
       "      <td>NaN</td>\n",
       "    </tr>\n",
       "    <tr>\n",
       "      <th>4</th>\n",
       "      <td>Особо опасен</td>\n",
       "      <td>221030815</td>\n",
       "      <td>2015-07-29T12:00:00.000Z</td>\n",
       "      <td>Художественный</td>\n",
       "      <td>Юниверсал Пикчерз, Кикстарт Продакшнз, Марк Пл...</td>\n",
       "      <td>США</td>\n",
       "      <td>Тимур Бекмамбетов</td>\n",
       "      <td>Джим Лемли, Джейсон Нетер, Марк Е.Платт, Яйн Смит</td>\n",
       "      <td>«18+» - запрещено для детей</td>\n",
       "      <td>NaN</td>\n",
       "      <td>NaN</td>\n",
       "      <td>NaN</td>\n",
       "      <td>NaN</td>\n",
       "      <td>6.8</td>\n",
       "      <td>фантастика,боевик,триллер</td>\n",
       "      <td>NaN</td>\n",
       "    </tr>\n",
       "  </tbody>\n",
       "</table>\n",
       "</div>"
      ],
      "text/plain": [
       "                  title   puNumber           show_start_date            type  \\\n",
       "0      Открытый простор  221048915  2015-11-27T12:00:00.000Z  Художественный   \n",
       "1  Особо важное задание  111013716  2016-09-13T12:00:00.000Z  Художественный   \n",
       "2          Особо опасен  221038416  2016-10-10T12:00:00.000Z  Художественный   \n",
       "3          Особо опасен  221026916  2016-06-10T12:00:00.000Z  Художественный   \n",
       "4          Особо опасен  221030815  2015-07-29T12:00:00.000Z  Художественный   \n",
       "\n",
       "                                         film_studio production_country  \\\n",
       "0  Тачстоун Пикчерз, Кобальт Пикчерз, Бикон Пикче...                США   \n",
       "1                              Киностудия \"Мосфильм\"               СССР   \n",
       "2  Юниверсал Пикчерз, Кикстарт Продакшнз, Марк Пл...                США   \n",
       "3  Юниверсал Пикчерз, Кикстарт Продакшнз, Марк Пл...                США   \n",
       "4  Юниверсал Пикчерз, Кикстарт Продакшнз, Марк Пл...                США   \n",
       "\n",
       "            director                                           producer  \\\n",
       "0      Кевин Костнер          Дэвид Валдес, Кевин Костнер, Джейк Эбертс   \n",
       "1          Е.Матвеев                                                NaN   \n",
       "2  Тимур Бекмамбетов  Джим Лемли, Джейсон Нетер, Марк Е.Платт, Яйн Смит   \n",
       "3  Тимур Бекмамбетов  Джим Лемли, Джейсон Нетер, Марк Е.Платт, Яйн Смит   \n",
       "4  Тимур Бекмамбетов  Джим Лемли, Джейсон Нетер, Марк Е.Платт, Яйн Смит   \n",
       "\n",
       "                 age_restriction  refundable_support  nonrefundable_support  \\\n",
       "0    «18+» - запрещено для детей                 NaN                    NaN   \n",
       "1  «6+» - для детей старше 6 лет                 NaN                    NaN   \n",
       "2    «18+» - запрещено для детей                 NaN                    NaN   \n",
       "3    «18+» - запрещено для детей                 NaN                    NaN   \n",
       "4    «18+» - запрещено для детей                 NaN                    NaN   \n",
       "\n",
       "   budget financing_source ratings                     genres  box_office  \n",
       "0     NaN              NaN     7.2     боевик,драма,мелодрама         NaN  \n",
       "1     NaN              NaN     6.6              драма,военный         NaN  \n",
       "2     NaN              NaN     6.8  фантастика,боевик,триллер         NaN  \n",
       "3     NaN              NaN     6.8  фантастика,боевик,триллер         NaN  \n",
       "4     NaN              NaN     6.8  фантастика,боевик,триллер         NaN  "
      ]
     },
     "execution_count": 12,
     "metadata": {},
     "output_type": "execute_result"
    }
   ],
   "source": [
    "data.head()"
   ]
  },
  {
   "cell_type": "code",
   "execution_count": 13,
   "metadata": {
    "id": "kVGSplJOgFyO"
   },
   "outputs": [
    {
     "name": "stdout",
     "output_type": "stream",
     "text": [
      "<class 'pandas.core.frame.DataFrame'>\n",
      "Int64Index: 7486 entries, 0 to 7485\n",
      "Data columns (total 16 columns):\n",
      " #   Column                 Non-Null Count  Dtype  \n",
      "---  ------                 --------------  -----  \n",
      " 0   title                  7486 non-null   object \n",
      " 1   puNumber               7486 non-null   int32  \n",
      " 2   show_start_date        7486 non-null   object \n",
      " 3   type                   7486 non-null   object \n",
      " 4   film_studio            7468 non-null   object \n",
      " 5   production_country     7484 non-null   object \n",
      " 6   director               7477 non-null   object \n",
      " 7   producer               6918 non-null   object \n",
      " 8   age_restriction        7486 non-null   object \n",
      " 9   refundable_support     332 non-null    float64\n",
      " 10  nonrefundable_support  332 non-null    float64\n",
      " 11  budget                 332 non-null    float64\n",
      " 12  financing_source       332 non-null    object \n",
      " 13  ratings                6519 non-null   object \n",
      " 14  genres                 6510 non-null   object \n",
      " 15  box_office             3158 non-null   float64\n",
      "dtypes: float64(4), int32(1), object(11)\n",
      "memory usage: 965.0+ KB\n"
     ]
    }
   ],
   "source": [
    "data.info()"
   ]
  },
  {
   "cell_type": "markdown",
   "metadata": {
    "id": "KLDGpPG0gFyM"
   },
   "source": [
    "### Шаг 2. Предобработка данных"
   ]
  },
  {
   "cell_type": "markdown",
   "metadata": {
    "id": "ssWwKXsxgFyO"
   },
   "source": [
    "#### Шаг 2.1. Проверьте типы данных\n",
    "\n",
    "- Проверьте типы данных в датафрейме и преобразуйте их там, где это необходимо."
   ]
  },
  {
   "cell_type": "markdown",
   "metadata": {
    "id": "kVGSplJOgFyO"
   },
   "source": [
    "Выше мы определили, где нужно заменить тип данных, пора действовать"
   ]
  },
  {
   "cell_type": "code",
   "execution_count": 14,
   "metadata": {
    "id": "kVGSplJOgFyO"
   },
   "outputs": [],
   "source": [
    "data['show_start_date'] = pd.to_datetime(data['show_start_date'], format='%Y-%m-%dT%H:%M:%S.%fZ')\n"
   ]
  },
  {
   "cell_type": "markdown",
   "metadata": {
    "id": "8MJD_lkngFyP"
   },
   "source": [
    "При попытке поменять тип данных в столбце ratings, появляется ошибка, как выяснилось, в этом столбце  \n",
    "по мимо записи рейтинга от 0-9, записаны еще в процентах, попробуем найти эти строки(честно это я нагуглил и немного не понимаю как это работает, очень хотел бы увидеть ваше решение)"
   ]
  },
  {
   "cell_type": "code",
   "execution_count": 15,
   "metadata": {
    "id": "kVGSplJOgFyO"
   },
   "outputs": [],
   "source": [
    "invalid_raitings = data[data['ratings'].str.contains('[^0-9.]').fillna(False)]"
   ]
  },
  {
   "cell_type": "code",
   "execution_count": 16,
   "metadata": {
    "id": "8MJD_lkngFyP"
   },
   "outputs": [
    {
     "data": {
      "text/plain": [
       "min    1.0\n",
       "max    9.9\n",
       "Name: ratings, dtype: float64"
      ]
     },
     "execution_count": 16,
     "metadata": {},
     "output_type": "execute_result"
    }
   ],
   "source": [
    "data.loc[invalid_raitings.index, 'ratings'] = invalid_raitings['ratings'].str[0] + '.' + invalid_raitings['ratings'].str[1]\n",
    "\n",
    "data['ratings'] = pd.to_numeric(data['ratings'])\n",
    "\n",
    "data['ratings'].describe()[['min', 'max']]\n"
   ]
  },
  {
   "cell_type": "code",
   "execution_count": 17,
   "metadata": {
    "id": "kVGSplJOgFyO"
   },
   "outputs": [],
   "source": [
    "data['ratings'] = data['ratings'].astype(float)"
   ]
  },
  {
   "cell_type": "markdown",
   "metadata": {
    "id": "i0MOLbF-gFyP"
   },
   "source": [
    "#### Шаг 2.2. Изучите пропуски в датафрейме\n",
    "\n",
    "- Объясните, почему заполнили пропуски определённым образом или почему не стали этого делать."
   ]
  },
  {
   "cell_type": "markdown",
   "metadata": {
    "id": "aKck8RIdgFyQ"
   },
   "source": [
    "Посмотрим количество пропусков в каждом столбце"
   ]
  },
  {
   "cell_type": "code",
   "execution_count": 18,
   "metadata": {
    "id": "8MJD_lkngFyP"
   },
   "outputs": [
    {
     "data": {
      "text/plain": [
       "title                       0\n",
       "puNumber                    0\n",
       "show_start_date             0\n",
       "type                        0\n",
       "film_studio                18\n",
       "production_country          2\n",
       "director                    9\n",
       "producer                  568\n",
       "age_restriction             0\n",
       "refundable_support       7154\n",
       "nonrefundable_support    7154\n",
       "budget                   7154\n",
       "financing_source         7154\n",
       "ratings                   967\n",
       "genres                    976\n",
       "box_office               4328\n",
       "dtype: int64"
      ]
     },
     "execution_count": 18,
     "metadata": {},
     "output_type": "execute_result"
    }
   ],
   "source": [
    "data.isna().sum()"
   ]
  },
  {
   "cell_type": "markdown",
   "metadata": {
    "id": "aKck8RIdgFyQ"
   },
   "source": [
    "Посмотрим на пропуски в стобце film_studio"
   ]
  },
  {
   "cell_type": "code",
   "execution_count": 19,
   "metadata": {
    "id": "aKck8RIdgFyQ"
   },
   "outputs": [
    {
     "data": {
      "text/plain": [
       "1293                             Stars in Shorts\n",
       "4441                    Мульт личности. Выпуск 5\n",
       "6105                                Значит любит\n",
       "6181                       Несейка. Младшая дочь\n",
       "6379                                Ян Антонышев\n",
       "6380                                Ян Антонышев\n",
       "6399                       Доживем до каникул?..\n",
       "6485                                  До и После\n",
       "6494              Калмыцкий геше Нгаванг Вангьял\n",
       "6497                          Мой папа Чингисхан\n",
       "6498                         В плену города грёз\n",
       "6499                              Последнее фото\n",
       "6507                                Мой селфхарм\n",
       "6511              Обстоятельства места и времени\n",
       "6638    Эрик Булатов. Моя Третьяковка, серии 1-2\n",
       "6639                                       Брови\n",
       "6662                                     Топливо\n",
       "6722                         Путешествие в Париж\n",
       "Name: title, dtype: object"
      ]
     },
     "execution_count": 19,
     "metadata": {},
     "output_type": "execute_result"
    }
   ],
   "source": [
    "data.loc[data['film_studio'].isna(), 'title']"
   ]
  },
  {
   "cell_type": "markdown",
   "metadata": {
    "id": "aKck8RIdgFyQ"
   },
   "source": [
    "Решил поискать студии которые снимали эти фильмы, нашел не на всех информацию, информации о студии в основном нет на документальные фильмы и короткометражки. Скорее всего сняты они были не студией, а одним человеком или несколькими. Решил заменить пропущенные значения на те что нашел, а на какие не нашел заменю на 'нет' ."
   ]
  },
  {
   "cell_type": "code",
   "execution_count": 20,
   "metadata": {
    "id": "PnXKIVdFgFyR"
   },
   "outputs": [],
   "source": [
    "data.loc[(data['title'] == 'Stars in Shorts'),'film_studio'] = 'Biscuit Pictures, Mission Filmworks, Contemptible Entertainment'\n",
    "data.loc[(data['title'] == 'Несейка. Младшая дочь'),'film_studio'] = 'Продюсерский центр «Молодёжные инициативы»'\n",
    "data.loc[(data['title'] == 'Доживем до каникул?..'),'film_studio'] = 'МАТРЕШКА Films Productions'\n",
    "data.loc[(data['title'] == 'В плену города грёз'),'film_studio'] = 'Olga Michi Production'\n",
    "data.loc[(data['title'] == 'Эрик Булатов. Моя Третьяковка, серии 1-2'),'film_studio'] = 'ООО «Авторское телевидение»'\n",
    "\n"
   ]
  },
  {
   "cell_type": "code",
   "execution_count": 21,
   "metadata": {
    "id": "aKck8RIdgFyQ"
   },
   "outputs": [],
   "source": [
    "data['film_studio']=data.loc[:, 'film_studio'].fillna('нет')"
   ]
  },
  {
   "cell_type": "markdown",
   "metadata": {
    "id": "aKck8RIdgFyQ"
   },
   "source": [
    "В столбцах production_country и director пропусков 2 и 9, поступим с ними также как и со студиями.\n"
   ]
  },
  {
   "cell_type": "code",
   "execution_count": 22,
   "metadata": {
    "id": "aKck8RIdgFyQ"
   },
   "outputs": [],
   "source": [
    "data['production_country']=data.loc[:, 'production_country'].fillna('нет')"
   ]
  },
  {
   "cell_type": "code",
   "execution_count": 23,
   "metadata": {
    "id": "aKck8RIdgFyQ"
   },
   "outputs": [],
   "source": [
    "data['director']=data.loc[:, 'director'].fillna('нет')"
   ]
  },
  {
   "cell_type": "markdown",
   "metadata": {
    "id": "aKck8RIdgFyQ"
   },
   "source": [
    "Продюсер не указан для 568 фильмах - заменим пропуски на \"нет\""
   ]
  },
  {
   "cell_type": "code",
   "execution_count": 24,
   "metadata": {
    "id": "aKck8RIdgFyQ"
   },
   "outputs": [],
   "source": [
    "data['producer']=data.loc[:, 'producer'].fillna('нет')"
   ]
  },
  {
   "cell_type": "markdown",
   "metadata": {
    "id": "aKck8RIdgFyQ"
   },
   "source": [
    "976 фильмов остались без информации о жанре - заменим пропуски на \"нет\""
   ]
  },
  {
   "cell_type": "code",
   "execution_count": 25,
   "metadata": {
    "id": "aKck8RIdgFyQ"
   },
   "outputs": [],
   "source": [
    "data['genres']=data.loc[:, 'genres'].fillna('нет')"
   ]
  },
  {
   "cell_type": "markdown",
   "metadata": {
    "id": "aKck8RIdgFyQ"
   },
   "source": [
    "ratings: для 995 фильмов рейтинги не указаны - оставим пропуски как есть.   \n",
    "box_office: 4328 записей о кассовых сборах не заполнены. Вероятно, произошел сбой в выгрузке информации. Также оставим пропуски, чтобы не было искажения информации о кассовых сборах.  \n",
    "Только у 5% фильмов есть информация о бюджете фильма, а также об источнике государственного финансирования и объёмах возвратных и невозвратных средств государственной поддержки. Это связано с тем, что для фильмов, которые не получали государственную поддержку, данные о бюджете не указаны. Оставим данные пропуски как есть."
   ]
  },
  {
   "cell_type": "markdown",
   "metadata": {
    "id": "4c6k1t9ygFyQ"
   },
   "source": [
    "#### Шаг 2.3. Изучите дубликаты в датафрейме\n",
    "- Проверьте, есть ли в данных дубликаты. Опишите причины, которые могли повлиять на появление дублей."
   ]
  },
  {
   "cell_type": "markdown",
   "metadata": {
    "id": "aKck8RIdgFyQ"
   },
   "source": [
    "Проверим на явные дубликаты"
   ]
  },
  {
   "cell_type": "code",
   "execution_count": 26,
   "metadata": {
    "id": "aKck8RIdgFyQ"
   },
   "outputs": [
    {
     "data": {
      "text/plain": [
       "0"
      ]
     },
     "execution_count": 26,
     "metadata": {},
     "output_type": "execute_result"
    }
   ],
   "source": [
    "data.duplicated().sum()"
   ]
  },
  {
   "cell_type": "markdown",
   "metadata": {
    "id": "PnXKIVdFgFyR"
   },
   "source": [
    "Проверим теперь, есть ли дубликаты в столбце с номером прокатного удостоверения"
   ]
  },
  {
   "cell_type": "code",
   "execution_count": 27,
   "metadata": {
    "id": "PnXKIVdFgFyR"
   },
   "outputs": [
    {
     "data": {
      "text/plain": [
       "2"
      ]
     },
     "execution_count": 27,
     "metadata": {},
     "output_type": "execute_result"
    }
   ],
   "source": [
    "data['puNumber'].duplicated().sum()"
   ]
  },
  {
   "cell_type": "markdown",
   "metadata": {
    "id": "PnXKIVdFgFyR"
   },
   "source": [
    "Столбец содержит всего 2 дубликата - посмотрим на них"
   ]
  },
  {
   "cell_type": "code",
   "execution_count": 28,
   "metadata": {
    "id": "PnXKIVdFgFyR"
   },
   "outputs": [
    {
     "data": {
      "text/html": [
       "<div>\n",
       "<style scoped>\n",
       "    .dataframe tbody tr th:only-of-type {\n",
       "        vertical-align: middle;\n",
       "    }\n",
       "\n",
       "    .dataframe tbody tr th {\n",
       "        vertical-align: top;\n",
       "    }\n",
       "\n",
       "    .dataframe thead th {\n",
       "        text-align: right;\n",
       "    }\n",
       "</style>\n",
       "<table border=\"1\" class=\"dataframe\">\n",
       "  <thead>\n",
       "    <tr style=\"text-align: right;\">\n",
       "      <th></th>\n",
       "      <th>title</th>\n",
       "      <th>puNumber</th>\n",
       "      <th>show_start_date</th>\n",
       "      <th>type</th>\n",
       "      <th>film_studio</th>\n",
       "      <th>production_country</th>\n",
       "      <th>director</th>\n",
       "      <th>producer</th>\n",
       "      <th>age_restriction</th>\n",
       "      <th>refundable_support</th>\n",
       "      <th>nonrefundable_support</th>\n",
       "      <th>budget</th>\n",
       "      <th>financing_source</th>\n",
       "      <th>ratings</th>\n",
       "      <th>genres</th>\n",
       "      <th>box_office</th>\n",
       "    </tr>\n",
       "  </thead>\n",
       "  <tbody>\n",
       "    <tr>\n",
       "      <th>4638</th>\n",
       "      <td>Как жениться и остаться холостым</td>\n",
       "      <td>221154310</td>\n",
       "      <td>2010-12-17 12:00:00</td>\n",
       "      <td>Художественный</td>\n",
       "      <td>Ше Вам, Скрипт Ассосье, Тэ Фэ 1 Фильм Продюксь...</td>\n",
       "      <td>Франция</td>\n",
       "      <td>Эрик Лартиго</td>\n",
       "      <td>Амандин Било, Алан Шаба</td>\n",
       "      <td>«16+» - для детей старше 16 лет</td>\n",
       "      <td>NaN</td>\n",
       "      <td>NaN</td>\n",
       "      <td>NaN</td>\n",
       "      <td>NaN</td>\n",
       "      <td>7.0</td>\n",
       "      <td>мелодрама,комедия</td>\n",
       "      <td>NaN</td>\n",
       "    </tr>\n",
       "    <tr>\n",
       "      <th>4639</th>\n",
       "      <td>Иоанна - женщина на папском престоле /По роман...</td>\n",
       "      <td>221154310</td>\n",
       "      <td>2010-12-17 12:00:00</td>\n",
       "      <td>Художественный</td>\n",
       "      <td>Константин Фильм, А Эр Ди Дегето Фильм, Дюне ...</td>\n",
       "      <td>Германия - Великобритания - Италия - Испания</td>\n",
       "      <td>Зенке Вортманн</td>\n",
       "      <td>Оливер Бербен, Дорис Д.Хайнце, Фарук Элтан</td>\n",
       "      <td>«16+» - для детей старше 16 лет</td>\n",
       "      <td>NaN</td>\n",
       "      <td>NaN</td>\n",
       "      <td>NaN</td>\n",
       "      <td>NaN</td>\n",
       "      <td>7.6</td>\n",
       "      <td>драма,мелодрама,история</td>\n",
       "      <td>NaN</td>\n",
       "    </tr>\n",
       "    <tr>\n",
       "      <th>5067</th>\n",
       "      <td>Анализируй это!</td>\n",
       "      <td>221054410</td>\n",
       "      <td>2010-05-25 12:00:00</td>\n",
       "      <td>Художественный</td>\n",
       "      <td>Уорнер Бразерс, Вилладж Роудшоу Филмз ЛТД</td>\n",
       "      <td>США-Австралия</td>\n",
       "      <td>ХЭрольд Рэмис</td>\n",
       "      <td>Джейн Розенталь, Пола Уейнстейн</td>\n",
       "      <td>«16+» - для детей старше 16 лет</td>\n",
       "      <td>NaN</td>\n",
       "      <td>NaN</td>\n",
       "      <td>NaN</td>\n",
       "      <td>NaN</td>\n",
       "      <td>7.4</td>\n",
       "      <td>комедия,криминал</td>\n",
       "      <td>NaN</td>\n",
       "    </tr>\n",
       "    <tr>\n",
       "      <th>5068</th>\n",
       "      <td>Анализируй то!</td>\n",
       "      <td>221054410</td>\n",
       "      <td>2010-05-25 12:00:00</td>\n",
       "      <td>Художественный</td>\n",
       "      <td>Уорнер Бразерс, Виллидж Роадшоу Пикчерз, Эн-Пи...</td>\n",
       "      <td>США</td>\n",
       "      <td>Гарольд Реймис</td>\n",
       "      <td>Джейн Розенталь, Паул Уэйнстейн</td>\n",
       "      <td>«12+» - для детей старше 12 лет</td>\n",
       "      <td>NaN</td>\n",
       "      <td>NaN</td>\n",
       "      <td>NaN</td>\n",
       "      <td>NaN</td>\n",
       "      <td>6.8</td>\n",
       "      <td>комедия,криминал</td>\n",
       "      <td>NaN</td>\n",
       "    </tr>\n",
       "  </tbody>\n",
       "</table>\n",
       "</div>"
      ],
      "text/plain": [
       "                                                  title   puNumber  \\\n",
       "4638                   Как жениться и остаться холостым  221154310   \n",
       "4639  Иоанна - женщина на папском престоле /По роман...  221154310   \n",
       "5067                                    Анализируй это!  221054410   \n",
       "5068                                     Анализируй то!  221054410   \n",
       "\n",
       "         show_start_date            type  \\\n",
       "4638 2010-12-17 12:00:00  Художественный   \n",
       "4639 2010-12-17 12:00:00  Художественный   \n",
       "5067 2010-05-25 12:00:00  Художественный   \n",
       "5068 2010-05-25 12:00:00  Художественный   \n",
       "\n",
       "                                            film_studio  \\\n",
       "4638  Ше Вам, Скрипт Ассосье, Тэ Фэ 1 Фильм Продюксь...   \n",
       "4639   Константин Фильм, А Эр Ди Дегето Фильм, Дюне ...   \n",
       "5067          Уорнер Бразерс, Вилладж Роудшоу Филмз ЛТД   \n",
       "5068  Уорнер Бразерс, Виллидж Роадшоу Пикчерз, Эн-Пи...   \n",
       "\n",
       "                                production_country        director  \\\n",
       "4638                                       Франция    Эрик Лартиго   \n",
       "4639  Германия - Великобритания - Италия - Испания  Зенке Вортманн   \n",
       "5067                                 США-Австралия   ХЭрольд Рэмис   \n",
       "5068                                           США  Гарольд Реймис   \n",
       "\n",
       "                                        producer  \\\n",
       "4638                     Амандин Било, Алан Шаба   \n",
       "4639  Оливер Бербен, Дорис Д.Хайнце, Фарук Элтан   \n",
       "5067             Джейн Розенталь, Пола Уейнстейн   \n",
       "5068             Джейн Розенталь, Паул Уэйнстейн   \n",
       "\n",
       "                      age_restriction  refundable_support  \\\n",
       "4638  «16+» - для детей старше 16 лет                 NaN   \n",
       "4639  «16+» - для детей старше 16 лет                 NaN   \n",
       "5067  «16+» - для детей старше 16 лет                 NaN   \n",
       "5068  «12+» - для детей старше 12 лет                 NaN   \n",
       "\n",
       "      nonrefundable_support  budget financing_source  ratings  \\\n",
       "4638                    NaN     NaN              NaN      7.0   \n",
       "4639                    NaN     NaN              NaN      7.6   \n",
       "5067                    NaN     NaN              NaN      7.4   \n",
       "5068                    NaN     NaN              NaN      6.8   \n",
       "\n",
       "                       genres  box_office  \n",
       "4638        мелодрама,комедия         NaN  \n",
       "4639  драма,мелодрама,история         NaN  \n",
       "5067         комедия,криминал         NaN  \n",
       "5068         комедия,криминал         NaN  "
      ]
     },
     "execution_count": 28,
     "metadata": {},
     "output_type": "execute_result"
    }
   ],
   "source": [
    "data[data.duplicated(subset=['puNumber'], keep = False)]"
   ]
  },
  {
   "cell_type": "markdown",
   "metadata": {
    "id": "PnXKIVdFgFyR"
   },
   "source": [
    "puNumber наверное должен быть уникальным. Под одним номером прокатного удостоверения числятся два разных фильма с одной датой премьеры. Возможно сыграл человеческий фактор при заполнении какой-нибудь формы. Этот номер не имеет принципиального значения, оставлю как есть."
   ]
  },
  {
   "cell_type": "markdown",
   "metadata": {
    "id": "52fOPrEBgFyQ"
   },
   "source": [
    "#### Шаг 2.4. Изучите категориальные значения\n",
    "\n",
    "- Посмотрите, какая общая проблема встречается почти во всех категориальных столбцах;\n",
    "- Исправьте проблемные значения в поле `type`.\n",
    "\n",
    "<div id=\"accordion\">\n",
    "    <div class=\"card\">\n",
    "        <div class=\"card-header\" id=\"headingThree\">\n",
    "            <button class=\"btn btn-link collapsed\" data-toggle=\"collapse\" data-target=\"#collapseHint_1\" aria-expanded=\"false\" aria-controls=\"collapseHint_1\">Подсказка</button>\n",
    "        </div>\n",
    "        <div id=\"collapseHint_1\" class=\"collapse\" aria-labelledby=\"headingThree\" data-parent=\"#accordion\">\n",
    "            <div class=\"card-body\">\n",
    "В поле <code>type</code> есть несколько значений, у которых появился пробел в начале строки. Самый простой способ их «починить» -- использовать метод <a href=\"https://pandas.pydata.org/docs/reference/api/pandas.Series.str.strip.html#pandas.Series.str.strip\">.str.strip</a>. Этот метод удаляет все пробелы, которые встречаются в начале и в конце строки. Применяют его таким образом:<br>\n",
    "<code>df['type'].str.strip()</code>\n",
    "            </div>\n",
    "        </div>\n",
    "    </div>\n",
    "</div>"
   ]
  },
  {
   "cell_type": "markdown",
   "metadata": {
    "id": "PnXKIVdFgFyR"
   },
   "source": [
    "Удалим из столбца type лишние пробелы, которые встречаются в начале и в конце строки"
   ]
  },
  {
   "cell_type": "code",
   "execution_count": 29,
   "metadata": {
    "id": "PnXKIVdFgFyR"
   },
   "outputs": [],
   "source": [
    "data['type']=data['type'].str.strip()"
   ]
  },
  {
   "cell_type": "markdown",
   "metadata": {
    "id": "PnXKIVdFgFyR"
   },
   "source": [
    "Удалим также и из столбца production_country лишние пробелы, которые встречаются внутри строки"
   ]
  },
  {
   "cell_type": "code",
   "execution_count": 30,
   "metadata": {
    "id": "PnXKIVdFgFyR"
   },
   "outputs": [],
   "source": [
    "data['production_country']=data['production_country'].replace(' ','', regex=True)"
   ]
  },
  {
   "cell_type": "markdown",
   "metadata": {
    "id": "PnXKIVdFgFyR"
   },
   "source": [
    "Проверим на дубликаты столбец title"
   ]
  },
  {
   "cell_type": "code",
   "execution_count": 31,
   "metadata": {
    "id": "PnXKIVdFgFyR"
   },
   "outputs": [
    {
     "data": {
      "text/plain": [
       "714"
      ]
     },
     "execution_count": 31,
     "metadata": {},
     "output_type": "execute_result"
    }
   ],
   "source": [
    "data['title'].duplicated().sum()"
   ]
  },
  {
   "cell_type": "code",
   "execution_count": 32,
   "metadata": {
    "scrolled": true
   },
   "outputs": [
    {
     "data": {
      "text/html": [
       "<div>\n",
       "<style scoped>\n",
       "    .dataframe tbody tr th:only-of-type {\n",
       "        vertical-align: middle;\n",
       "    }\n",
       "\n",
       "    .dataframe tbody tr th {\n",
       "        vertical-align: top;\n",
       "    }\n",
       "\n",
       "    .dataframe thead th {\n",
       "        text-align: right;\n",
       "    }\n",
       "</style>\n",
       "<table border=\"1\" class=\"dataframe\">\n",
       "  <thead>\n",
       "    <tr style=\"text-align: right;\">\n",
       "      <th></th>\n",
       "      <th>title</th>\n",
       "      <th>puNumber</th>\n",
       "      <th>show_start_date</th>\n",
       "      <th>type</th>\n",
       "      <th>film_studio</th>\n",
       "      <th>production_country</th>\n",
       "      <th>director</th>\n",
       "      <th>producer</th>\n",
       "      <th>age_restriction</th>\n",
       "      <th>refundable_support</th>\n",
       "      <th>nonrefundable_support</th>\n",
       "      <th>budget</th>\n",
       "      <th>financing_source</th>\n",
       "      <th>ratings</th>\n",
       "      <th>genres</th>\n",
       "      <th>box_office</th>\n",
       "    </tr>\n",
       "  </thead>\n",
       "  <tbody>\n",
       "    <tr>\n",
       "      <th>2</th>\n",
       "      <td>Особо опасен</td>\n",
       "      <td>221038416</td>\n",
       "      <td>2016-10-10 12:00:00</td>\n",
       "      <td>Художественный</td>\n",
       "      <td>Юниверсал Пикчерз, Кикстарт Продакшнз, Марк Пл...</td>\n",
       "      <td>США</td>\n",
       "      <td>Тимур Бекмамбетов</td>\n",
       "      <td>Джим Лемли, Джейсон Нетер, Марк Е.Платт, Яйн Смит</td>\n",
       "      <td>«18+» - запрещено для детей</td>\n",
       "      <td>NaN</td>\n",
       "      <td>NaN</td>\n",
       "      <td>NaN</td>\n",
       "      <td>NaN</td>\n",
       "      <td>6.8</td>\n",
       "      <td>фантастика,боевик,триллер</td>\n",
       "      <td>NaN</td>\n",
       "    </tr>\n",
       "    <tr>\n",
       "      <th>3</th>\n",
       "      <td>Особо опасен</td>\n",
       "      <td>221026916</td>\n",
       "      <td>2016-06-10 12:00:00</td>\n",
       "      <td>Художественный</td>\n",
       "      <td>Юниверсал Пикчерз, Кикстарт Продакшнз, Марк Пл...</td>\n",
       "      <td>США</td>\n",
       "      <td>Тимур Бекмамбетов</td>\n",
       "      <td>Джим Лемли, Джейсон Нетер, Марк Е.Платт, Яйн Смит</td>\n",
       "      <td>«18+» - запрещено для детей</td>\n",
       "      <td>NaN</td>\n",
       "      <td>NaN</td>\n",
       "      <td>NaN</td>\n",
       "      <td>NaN</td>\n",
       "      <td>6.8</td>\n",
       "      <td>фантастика,боевик,триллер</td>\n",
       "      <td>NaN</td>\n",
       "    </tr>\n",
       "    <tr>\n",
       "      <th>4</th>\n",
       "      <td>Особо опасен</td>\n",
       "      <td>221030815</td>\n",
       "      <td>2015-07-29 12:00:00</td>\n",
       "      <td>Художественный</td>\n",
       "      <td>Юниверсал Пикчерз, Кикстарт Продакшнз, Марк Пл...</td>\n",
       "      <td>США</td>\n",
       "      <td>Тимур Бекмамбетов</td>\n",
       "      <td>Джим Лемли, Джейсон Нетер, Марк Е.Платт, Яйн Смит</td>\n",
       "      <td>«18+» - запрещено для детей</td>\n",
       "      <td>NaN</td>\n",
       "      <td>NaN</td>\n",
       "      <td>NaN</td>\n",
       "      <td>NaN</td>\n",
       "      <td>6.8</td>\n",
       "      <td>фантастика,боевик,триллер</td>\n",
       "      <td>NaN</td>\n",
       "    </tr>\n",
       "    <tr>\n",
       "      <th>12</th>\n",
       "      <td>Малышка на миллион /По мотивам рассказов Ф.Х.Т...</td>\n",
       "      <td>221011415</td>\n",
       "      <td>2015-04-03 12:00:00</td>\n",
       "      <td>Художественный</td>\n",
       "      <td>Уорнер Бразерс, Лейкшор Интертейнмент, Малпасо...</td>\n",
       "      <td>США</td>\n",
       "      <td>Клинт Иствуд</td>\n",
       "      <td>Клинт Иствуд, Том Розенберг, Альберт С.Рудди, ...</td>\n",
       "      <td>«16+» - для детей старше 16 лет</td>\n",
       "      <td>NaN</td>\n",
       "      <td>NaN</td>\n",
       "      <td>NaN</td>\n",
       "      <td>NaN</td>\n",
       "      <td>8.1</td>\n",
       "      <td>драма,спорт</td>\n",
       "      <td>NaN</td>\n",
       "    </tr>\n",
       "    <tr>\n",
       "      <th>26</th>\n",
       "      <td>Оружейный барон</td>\n",
       "      <td>221012515</td>\n",
       "      <td>2015-04-03 12:00:00</td>\n",
       "      <td>Художественный</td>\n",
       "      <td>Вэ И Пэ Медиенфондс 3, Асендант Пикчерз, Сатур...</td>\n",
       "      <td>США-Франция-Турция</td>\n",
       "      <td>Эндрю Никкол</td>\n",
       "      <td>Норман Голуайтли, Энди Грош, Николас Кейдж, Эн...</td>\n",
       "      <td>«18+» - запрещено для детей</td>\n",
       "      <td>NaN</td>\n",
       "      <td>NaN</td>\n",
       "      <td>NaN</td>\n",
       "      <td>NaN</td>\n",
       "      <td>7.7</td>\n",
       "      <td>боевик,драма,криминал</td>\n",
       "      <td>NaN</td>\n",
       "    </tr>\n",
       "    <tr>\n",
       "      <th>...</th>\n",
       "      <td>...</td>\n",
       "      <td>...</td>\n",
       "      <td>...</td>\n",
       "      <td>...</td>\n",
       "      <td>...</td>\n",
       "      <td>...</td>\n",
       "      <td>...</td>\n",
       "      <td>...</td>\n",
       "      <td>...</td>\n",
       "      <td>...</td>\n",
       "      <td>...</td>\n",
       "      <td>...</td>\n",
       "      <td>...</td>\n",
       "      <td>...</td>\n",
       "      <td>...</td>\n",
       "      <td>...</td>\n",
       "    </tr>\n",
       "    <tr>\n",
       "      <th>7369</th>\n",
       "      <td>Невиновен</td>\n",
       "      <td>111019319</td>\n",
       "      <td>2019-11-07 12:00:00</td>\n",
       "      <td>Художественный</td>\n",
       "      <td>ООО \"Кавказфильм\"</td>\n",
       "      <td>Россия</td>\n",
       "      <td>А.Емкужев</td>\n",
       "      <td>А.Емкужев, А.Хуажева, ООО \"Корпорация Русская ...</td>\n",
       "      <td>«16+» - для детей старше 16 лет</td>\n",
       "      <td>NaN</td>\n",
       "      <td>NaN</td>\n",
       "      <td>NaN</td>\n",
       "      <td>NaN</td>\n",
       "      <td>7.5</td>\n",
       "      <td>триллер,детектив,криминал</td>\n",
       "      <td>NaN</td>\n",
       "    </tr>\n",
       "    <tr>\n",
       "      <th>7416</th>\n",
       "      <td>Отель \"Гранд Будапешт\"</td>\n",
       "      <td>121035119</td>\n",
       "      <td>2019-12-13 12:00:00</td>\n",
       "      <td>Художественный</td>\n",
       "      <td>Американ Эмпирикал, Индиан Пэинтбраш, Скотт Ру...</td>\n",
       "      <td>Германия,США</td>\n",
       "      <td>Уэс Андерсен</td>\n",
       "      <td>Уэс Андерсон, Джереми Доусон, Стивен Рейлс</td>\n",
       "      <td>«16+» - для детей старше 16 лет</td>\n",
       "      <td>NaN</td>\n",
       "      <td>NaN</td>\n",
       "      <td>NaN</td>\n",
       "      <td>NaN</td>\n",
       "      <td>7.9</td>\n",
       "      <td>комедия,приключения,детектив</td>\n",
       "      <td>NaN</td>\n",
       "    </tr>\n",
       "    <tr>\n",
       "      <th>7438</th>\n",
       "      <td>Зверь</td>\n",
       "      <td>121035919</td>\n",
       "      <td>2019-12-05 12:00:00</td>\n",
       "      <td>Художественный</td>\n",
       "      <td>Студио энд Нью</td>\n",
       "      <td>ЮжнаяКорея</td>\n",
       "      <td>Ли Джон-хо</td>\n",
       "      <td>Чан Гён-ик, Чон Джи-хун, Пэк Кён сук</td>\n",
       "      <td>«18+» - запрещено для детей</td>\n",
       "      <td>NaN</td>\n",
       "      <td>NaN</td>\n",
       "      <td>NaN</td>\n",
       "      <td>NaN</td>\n",
       "      <td>6.5</td>\n",
       "      <td>триллер,драма</td>\n",
       "      <td>175003.51</td>\n",
       "    </tr>\n",
       "    <tr>\n",
       "      <th>7450</th>\n",
       "      <td>В тихом омуте</td>\n",
       "      <td>121036919</td>\n",
       "      <td>2019-12-09 12:00:00</td>\n",
       "      <td>Художественный</td>\n",
       "      <td>Хэд Гир Филмз, Крео Филмз, Локал Хироу, Метрол...</td>\n",
       "      <td>США</td>\n",
       "      <td>Адам Рэндолл</td>\n",
       "      <td>Мэтт Уолдек</td>\n",
       "      <td>«18+» - запрещено для детей</td>\n",
       "      <td>NaN</td>\n",
       "      <td>NaN</td>\n",
       "      <td>NaN</td>\n",
       "      <td>NaN</td>\n",
       "      <td>6.8</td>\n",
       "      <td>триллер,криминал,детектив</td>\n",
       "      <td>NaN</td>\n",
       "    </tr>\n",
       "    <tr>\n",
       "      <th>7474</th>\n",
       "      <td>Вторжение</td>\n",
       "      <td>111022519</td>\n",
       "      <td>2019-12-23 12:00:00</td>\n",
       "      <td>Художественный</td>\n",
       "      <td>ООО \"Арт Пикчерс Студия\", ООО \"Водород 2011\"</td>\n",
       "      <td>Россия</td>\n",
       "      <td>Ф.Бондарчук</td>\n",
       "      <td>Ф.Бондарчук, М.Врубель, А.Андрющенко, Д.Рудовский</td>\n",
       "      <td>«12+» - для детей старше 12 лет</td>\n",
       "      <td>100000000.0</td>\n",
       "      <td>400000000.0</td>\n",
       "      <td>944000000.0</td>\n",
       "      <td>Фонд кино</td>\n",
       "      <td>5.7</td>\n",
       "      <td>фантастика,боевик</td>\n",
       "      <td>NaN</td>\n",
       "    </tr>\n",
       "  </tbody>\n",
       "</table>\n",
       "<p>1272 rows × 16 columns</p>\n",
       "</div>"
      ],
      "text/plain": [
       "                                                  title   puNumber  \\\n",
       "2                                          Особо опасен  221038416   \n",
       "3                                          Особо опасен  221026916   \n",
       "4                                          Особо опасен  221030815   \n",
       "12    Малышка на миллион /По мотивам рассказов Ф.Х.Т...  221011415   \n",
       "26                                      Оружейный барон  221012515   \n",
       "...                                                 ...        ...   \n",
       "7369                                          Невиновен  111019319   \n",
       "7416                             Отель \"Гранд Будапешт\"  121035119   \n",
       "7438                                              Зверь  121035919   \n",
       "7450                                      В тихом омуте  121036919   \n",
       "7474                                          Вторжение  111022519   \n",
       "\n",
       "         show_start_date            type  \\\n",
       "2    2016-10-10 12:00:00  Художественный   \n",
       "3    2016-06-10 12:00:00  Художественный   \n",
       "4    2015-07-29 12:00:00  Художественный   \n",
       "12   2015-04-03 12:00:00  Художественный   \n",
       "26   2015-04-03 12:00:00  Художественный   \n",
       "...                  ...             ...   \n",
       "7369 2019-11-07 12:00:00  Художественный   \n",
       "7416 2019-12-13 12:00:00  Художественный   \n",
       "7438 2019-12-05 12:00:00  Художественный   \n",
       "7450 2019-12-09 12:00:00  Художественный   \n",
       "7474 2019-12-23 12:00:00  Художественный   \n",
       "\n",
       "                                            film_studio  production_country  \\\n",
       "2     Юниверсал Пикчерз, Кикстарт Продакшнз, Марк Пл...                 США   \n",
       "3     Юниверсал Пикчерз, Кикстарт Продакшнз, Марк Пл...                 США   \n",
       "4     Юниверсал Пикчерз, Кикстарт Продакшнз, Марк Пл...                 США   \n",
       "12    Уорнер Бразерс, Лейкшор Интертейнмент, Малпасо...                 США   \n",
       "26    Вэ И Пэ Медиенфондс 3, Асендант Пикчерз, Сатур...  США-Франция-Турция   \n",
       "...                                                 ...                 ...   \n",
       "7369                                  ООО \"Кавказфильм\"              Россия   \n",
       "7416  Американ Эмпирикал, Индиан Пэинтбраш, Скотт Ру...        Германия,США   \n",
       "7438                                     Студио энд Нью          ЮжнаяКорея   \n",
       "7450  Хэд Гир Филмз, Крео Филмз, Локал Хироу, Метрол...                 США   \n",
       "7474       ООО \"Арт Пикчерс Студия\", ООО \"Водород 2011\"              Россия   \n",
       "\n",
       "               director                                           producer  \\\n",
       "2     Тимур Бекмамбетов  Джим Лемли, Джейсон Нетер, Марк Е.Платт, Яйн Смит   \n",
       "3     Тимур Бекмамбетов  Джим Лемли, Джейсон Нетер, Марк Е.Платт, Яйн Смит   \n",
       "4     Тимур Бекмамбетов  Джим Лемли, Джейсон Нетер, Марк Е.Платт, Яйн Смит   \n",
       "12         Клинт Иствуд  Клинт Иствуд, Том Розенберг, Альберт С.Рудди, ...   \n",
       "26         Эндрю Никкол  Норман Голуайтли, Энди Грош, Николас Кейдж, Эн...   \n",
       "...                 ...                                                ...   \n",
       "7369          А.Емкужев  А.Емкужев, А.Хуажева, ООО \"Корпорация Русская ...   \n",
       "7416       Уэс Андерсен         Уэс Андерсон, Джереми Доусон, Стивен Рейлс   \n",
       "7438         Ли Джон-хо               Чан Гён-ик, Чон Джи-хун, Пэк Кён сук   \n",
       "7450       Адам Рэндолл                                        Мэтт Уолдек   \n",
       "7474        Ф.Бондарчук  Ф.Бондарчук, М.Врубель, А.Андрющенко, Д.Рудовский   \n",
       "\n",
       "                      age_restriction  refundable_support  \\\n",
       "2         «18+» - запрещено для детей                 NaN   \n",
       "3         «18+» - запрещено для детей                 NaN   \n",
       "4         «18+» - запрещено для детей                 NaN   \n",
       "12    «16+» - для детей старше 16 лет                 NaN   \n",
       "26        «18+» - запрещено для детей                 NaN   \n",
       "...                               ...                 ...   \n",
       "7369  «16+» - для детей старше 16 лет                 NaN   \n",
       "7416  «16+» - для детей старше 16 лет                 NaN   \n",
       "7438      «18+» - запрещено для детей                 NaN   \n",
       "7450      «18+» - запрещено для детей                 NaN   \n",
       "7474  «12+» - для детей старше 12 лет         100000000.0   \n",
       "\n",
       "      nonrefundable_support       budget financing_source  ratings  \\\n",
       "2                       NaN          NaN              NaN      6.8   \n",
       "3                       NaN          NaN              NaN      6.8   \n",
       "4                       NaN          NaN              NaN      6.8   \n",
       "12                      NaN          NaN              NaN      8.1   \n",
       "26                      NaN          NaN              NaN      7.7   \n",
       "...                     ...          ...              ...      ...   \n",
       "7369                    NaN          NaN              NaN      7.5   \n",
       "7416                    NaN          NaN              NaN      7.9   \n",
       "7438                    NaN          NaN              NaN      6.5   \n",
       "7450                    NaN          NaN              NaN      6.8   \n",
       "7474            400000000.0  944000000.0        Фонд кино      5.7   \n",
       "\n",
       "                            genres  box_office  \n",
       "2        фантастика,боевик,триллер         NaN  \n",
       "3        фантастика,боевик,триллер         NaN  \n",
       "4        фантастика,боевик,триллер         NaN  \n",
       "12                     драма,спорт         NaN  \n",
       "26           боевик,драма,криминал         NaN  \n",
       "...                            ...         ...  \n",
       "7369     триллер,детектив,криминал         NaN  \n",
       "7416  комедия,приключения,детектив         NaN  \n",
       "7438                 триллер,драма   175003.51  \n",
       "7450     триллер,криминал,детектив         NaN  \n",
       "7474             фантастика,боевик         NaN  \n",
       "\n",
       "[1272 rows x 16 columns]"
      ]
     },
     "execution_count": 32,
     "metadata": {},
     "output_type": "execute_result"
    }
   ],
   "source": [
    "data[data.duplicated(subset=['title'], keep = False)]"
   ]
  },
  {
   "cell_type": "markdown",
   "metadata": {},
   "source": [
    "Дубликаты в этом столбце могу обьяснить следующим, один и тот же фильм могут начать показывать в разное время под разной лицензией и/или разными прокатчиками."
   ]
  },
  {
   "cell_type": "markdown",
   "metadata": {},
   "source": [
    "Посмотрим на дату премьеры фильма"
   ]
  },
  {
   "cell_type": "code",
   "execution_count": 33,
   "metadata": {},
   "outputs": [
    {
     "data": {
      "text/plain": [
       "5521"
      ]
     },
     "execution_count": 33,
     "metadata": {},
     "output_type": "execute_result"
    }
   ],
   "source": [
    "data['show_start_date'].duplicated().sum()"
   ]
  },
  {
   "cell_type": "markdown",
   "metadata": {},
   "source": [
    " Вполне реально начать показ нескольких фильмов в одну и ту же дату."
   ]
  },
  {
   "cell_type": "markdown",
   "metadata": {},
   "source": [
    "Посмотрим на студии"
   ]
  },
  {
   "cell_type": "code",
   "execution_count": 34,
   "metadata": {},
   "outputs": [
    {
     "data": {
      "text/plain": [
       "1990"
      ]
     },
     "execution_count": 34,
     "metadata": {},
     "output_type": "execute_result"
    }
   ],
   "source": [
    "data['film_studio'].duplicated().sum()"
   ]
  },
  {
   "cell_type": "markdown",
   "metadata": {},
   "source": [
    "Тут дубликаты я  думаю связаны, что одна и та же студия выпускает не один фильм."
   ]
  },
  {
   "cell_type": "markdown",
   "metadata": {},
   "source": [
    "Посмотрим на режиссеров"
   ]
  },
  {
   "cell_type": "code",
   "execution_count": 35,
   "metadata": {},
   "outputs": [
    {
     "data": {
      "text/plain": [
       "2674"
      ]
     },
     "execution_count": 35,
     "metadata": {},
     "output_type": "execute_result"
    }
   ],
   "source": [
    "data['director'].duplicated().sum()"
   ]
  },
  {
   "cell_type": "markdown",
   "metadata": {},
   "source": [
    "Думаю тут та же песня, один режиссер снимал несколько фильмов"
   ]
  },
  {
   "cell_type": "markdown",
   "metadata": {},
   "source": [
    "Теперь продюсеры"
   ]
  },
  {
   "cell_type": "code",
   "execution_count": 36,
   "metadata": {},
   "outputs": [
    {
     "data": {
      "text/plain": [
       "2136"
      ]
     },
     "execution_count": 36,
     "metadata": {},
     "output_type": "execute_result"
    }
   ],
   "source": [
    "data['producer'].duplicated().sum()"
   ]
  },
  {
   "cell_type": "markdown",
   "metadata": {},
   "source": [
    "Думаю, что продюссеры принимают участие не в одном фильме."
   ]
  },
  {
   "cell_type": "markdown",
   "metadata": {},
   "source": [
    "Посмотрим на другие столбцы с  категориальными переменными"
   ]
  },
  {
   "cell_type": "code",
   "execution_count": 37,
   "metadata": {},
   "outputs": [
    {
     "data": {
      "text/html": [
       "<div>\n",
       "<style scoped>\n",
       "    .dataframe tbody tr th:only-of-type {\n",
       "        vertical-align: middle;\n",
       "    }\n",
       "\n",
       "    .dataframe tbody tr th {\n",
       "        vertical-align: top;\n",
       "    }\n",
       "\n",
       "    .dataframe thead th {\n",
       "        text-align: right;\n",
       "    }\n",
       "</style>\n",
       "<table border=\"1\" class=\"dataframe\">\n",
       "  <thead>\n",
       "    <tr style=\"text-align: right;\">\n",
       "      <th></th>\n",
       "      <th>title</th>\n",
       "      <th>film_studio</th>\n",
       "      <th>director</th>\n",
       "      <th>producer</th>\n",
       "      <th>genres</th>\n",
       "    </tr>\n",
       "  </thead>\n",
       "  <tbody>\n",
       "    <tr>\n",
       "      <th>0</th>\n",
       "      <td>Открытый простор</td>\n",
       "      <td>Тачстоун Пикчерз, Кобальт Пикчерз, Бикон Пикче...</td>\n",
       "      <td>Кевин Костнер</td>\n",
       "      <td>Дэвид Валдес, Кевин Костнер, Джейк Эбертс</td>\n",
       "      <td>боевик,драма,мелодрама</td>\n",
       "    </tr>\n",
       "    <tr>\n",
       "      <th>1</th>\n",
       "      <td>Особо важное задание</td>\n",
       "      <td>Киностудия \"Мосфильм\"</td>\n",
       "      <td>Е.Матвеев</td>\n",
       "      <td>нет</td>\n",
       "      <td>драма,военный</td>\n",
       "    </tr>\n",
       "    <tr>\n",
       "      <th>2</th>\n",
       "      <td>Особо опасен</td>\n",
       "      <td>Юниверсал Пикчерз, Кикстарт Продакшнз, Марк Пл...</td>\n",
       "      <td>Тимур Бекмамбетов</td>\n",
       "      <td>Джим Лемли, Джейсон Нетер, Марк Е.Платт, Яйн Смит</td>\n",
       "      <td>фантастика,боевик,триллер</td>\n",
       "    </tr>\n",
       "    <tr>\n",
       "      <th>3</th>\n",
       "      <td>Особо опасен</td>\n",
       "      <td>Юниверсал Пикчерз, Кикстарт Продакшнз, Марк Пл...</td>\n",
       "      <td>Тимур Бекмамбетов</td>\n",
       "      <td>Джим Лемли, Джейсон Нетер, Марк Е.Платт, Яйн Смит</td>\n",
       "      <td>фантастика,боевик,триллер</td>\n",
       "    </tr>\n",
       "    <tr>\n",
       "      <th>4</th>\n",
       "      <td>Особо опасен</td>\n",
       "      <td>Юниверсал Пикчерз, Кикстарт Продакшнз, Марк Пл...</td>\n",
       "      <td>Тимур Бекмамбетов</td>\n",
       "      <td>Джим Лемли, Джейсон Нетер, Марк Е.Платт, Яйн Смит</td>\n",
       "      <td>фантастика,боевик,триллер</td>\n",
       "    </tr>\n",
       "  </tbody>\n",
       "</table>\n",
       "</div>"
      ],
      "text/plain": [
       "                  title                                        film_studio  \\\n",
       "0      Открытый простор  Тачстоун Пикчерз, Кобальт Пикчерз, Бикон Пикче...   \n",
       "1  Особо важное задание                              Киностудия \"Мосфильм\"   \n",
       "2          Особо опасен  Юниверсал Пикчерз, Кикстарт Продакшнз, Марк Пл...   \n",
       "3          Особо опасен  Юниверсал Пикчерз, Кикстарт Продакшнз, Марк Пл...   \n",
       "4          Особо опасен  Юниверсал Пикчерз, Кикстарт Продакшнз, Марк Пл...   \n",
       "\n",
       "            director                                           producer  \\\n",
       "0      Кевин Костнер          Дэвид Валдес, Кевин Костнер, Джейк Эбертс   \n",
       "1          Е.Матвеев                                                нет   \n",
       "2  Тимур Бекмамбетов  Джим Лемли, Джейсон Нетер, Марк Е.Платт, Яйн Смит   \n",
       "3  Тимур Бекмамбетов  Джим Лемли, Джейсон Нетер, Марк Е.Платт, Яйн Смит   \n",
       "4  Тимур Бекмамбетов  Джим Лемли, Джейсон Нетер, Марк Е.Платт, Яйн Смит   \n",
       "\n",
       "                      genres  \n",
       "0     боевик,драма,мелодрама  \n",
       "1              драма,военный  \n",
       "2  фантастика,боевик,триллер  \n",
       "3  фантастика,боевик,триллер  \n",
       "4  фантастика,боевик,триллер  "
      ]
     },
     "execution_count": 37,
     "metadata": {},
     "output_type": "execute_result"
    }
   ],
   "source": [
    "data[['title', 'film_studio', 'director', 'producer', 'genres']].head()"
   ]
  },
  {
   "cell_type": "markdown",
   "metadata": {},
   "source": [
    "Единственное, что бросается в глаза, это то что некоторые значения в категориальных переменных хранятся как списки - несколько стран, режиссеров, студий, жанров и т.д. Решением данной проблемы станет выделение первых значений из этих списков. Ниже мы это сделаем с основным режиссером и основным жанром фильма, ну а с продюссером и студией особого смысла в этом не вижу."
   ]
  },
  {
   "cell_type": "markdown",
   "metadata": {
    "id": "XFSN5lrEgFyR"
   },
   "source": [
    "#### Шаг 2.5. Проверьте количественные значения"
   ]
  },
  {
   "cell_type": "markdown",
   "metadata": {
    "id": "PnXKIVdFgFyR"
   },
   "source": [
    "Посмотрим на количественные значения"
   ]
  },
  {
   "cell_type": "code",
   "execution_count": 38,
   "metadata": {
    "id": "YbzClBxagFyS"
   },
   "outputs": [
    {
     "data": {
      "text/html": [
       "<div>\n",
       "<style scoped>\n",
       "    .dataframe tbody tr th:only-of-type {\n",
       "        vertical-align: middle;\n",
       "    }\n",
       "\n",
       "    .dataframe tbody tr th {\n",
       "        vertical-align: top;\n",
       "    }\n",
       "\n",
       "    .dataframe thead th {\n",
       "        text-align: right;\n",
       "    }\n",
       "</style>\n",
       "<table border=\"1\" class=\"dataframe\">\n",
       "  <thead>\n",
       "    <tr style=\"text-align: right;\">\n",
       "      <th></th>\n",
       "      <th>puNumber</th>\n",
       "      <th>refundable_support</th>\n",
       "      <th>nonrefundable_support</th>\n",
       "      <th>budget</th>\n",
       "      <th>ratings</th>\n",
       "      <th>box_office</th>\n",
       "    </tr>\n",
       "  </thead>\n",
       "  <tbody>\n",
       "    <tr>\n",
       "      <th>count</th>\n",
       "      <td>7.486000e+03</td>\n",
       "      <td>3.320000e+02</td>\n",
       "      <td>3.320000e+02</td>\n",
       "      <td>3.320000e+02</td>\n",
       "      <td>6519.000000</td>\n",
       "      <td>3.158000e+03</td>\n",
       "    </tr>\n",
       "    <tr>\n",
       "      <th>mean</th>\n",
       "      <td>1.351785e+08</td>\n",
       "      <td>1.186446e+07</td>\n",
       "      <td>4.898099e+07</td>\n",
       "      <td>1.272297e+08</td>\n",
       "      <td>6.488173</td>\n",
       "      <td>7.647870e+07</td>\n",
       "    </tr>\n",
       "    <tr>\n",
       "      <th>std</th>\n",
       "      <td>3.838218e+07</td>\n",
       "      <td>2.491656e+07</td>\n",
       "      <td>5.998012e+07</td>\n",
       "      <td>1.885883e+08</td>\n",
       "      <td>1.114638</td>\n",
       "      <td>2.403531e+08</td>\n",
       "    </tr>\n",
       "    <tr>\n",
       "      <th>min</th>\n",
       "      <td>0.000000e+00</td>\n",
       "      <td>0.000000e+00</td>\n",
       "      <td>0.000000e+00</td>\n",
       "      <td>0.000000e+00</td>\n",
       "      <td>1.000000</td>\n",
       "      <td>0.000000e+00</td>\n",
       "    </tr>\n",
       "    <tr>\n",
       "      <th>25%</th>\n",
       "      <td>1.120250e+08</td>\n",
       "      <td>0.000000e+00</td>\n",
       "      <td>2.500000e+07</td>\n",
       "      <td>4.200000e+07</td>\n",
       "      <td>5.900000</td>\n",
       "      <td>8.623900e+04</td>\n",
       "    </tr>\n",
       "    <tr>\n",
       "      <th>50%</th>\n",
       "      <td>1.210155e+08</td>\n",
       "      <td>0.000000e+00</td>\n",
       "      <td>3.000000e+07</td>\n",
       "      <td>6.864992e+07</td>\n",
       "      <td>6.600000</td>\n",
       "      <td>2.327988e+06</td>\n",
       "    </tr>\n",
       "    <tr>\n",
       "      <th>75%</th>\n",
       "      <td>1.240033e+08</td>\n",
       "      <td>1.500000e+07</td>\n",
       "      <td>4.037500e+07</td>\n",
       "      <td>1.419853e+08</td>\n",
       "      <td>7.200000</td>\n",
       "      <td>2.397967e+07</td>\n",
       "    </tr>\n",
       "    <tr>\n",
       "      <th>max</th>\n",
       "      <td>2.310011e+08</td>\n",
       "      <td>1.800000e+08</td>\n",
       "      <td>4.000000e+08</td>\n",
       "      <td>2.305074e+09</td>\n",
       "      <td>9.900000</td>\n",
       "      <td>3.073569e+09</td>\n",
       "    </tr>\n",
       "  </tbody>\n",
       "</table>\n",
       "</div>"
      ],
      "text/plain": [
       "           puNumber  refundable_support  nonrefundable_support        budget  \\\n",
       "count  7.486000e+03        3.320000e+02           3.320000e+02  3.320000e+02   \n",
       "mean   1.351785e+08        1.186446e+07           4.898099e+07  1.272297e+08   \n",
       "std    3.838218e+07        2.491656e+07           5.998012e+07  1.885883e+08   \n",
       "min    0.000000e+00        0.000000e+00           0.000000e+00  0.000000e+00   \n",
       "25%    1.120250e+08        0.000000e+00           2.500000e+07  4.200000e+07   \n",
       "50%    1.210155e+08        0.000000e+00           3.000000e+07  6.864992e+07   \n",
       "75%    1.240033e+08        1.500000e+07           4.037500e+07  1.419853e+08   \n",
       "max    2.310011e+08        1.800000e+08           4.000000e+08  2.305074e+09   \n",
       "\n",
       "           ratings    box_office  \n",
       "count  6519.000000  3.158000e+03  \n",
       "mean      6.488173  7.647870e+07  \n",
       "std       1.114638  2.403531e+08  \n",
       "min       1.000000  0.000000e+00  \n",
       "25%       5.900000  8.623900e+04  \n",
       "50%       6.600000  2.327988e+06  \n",
       "75%       7.200000  2.397967e+07  \n",
       "max       9.900000  3.073569e+09  "
      ]
     },
     "execution_count": 38,
     "metadata": {},
     "output_type": "execute_result"
    }
   ],
   "source": [
    "data.describe()"
   ]
  },
  {
   "cell_type": "markdown",
   "metadata": {
    "id": "PnXKIVdFgFyR"
   },
   "source": [
    "Посчитаем количество фильмов, в которых бюджет составляет 0 руб, несмотря на наличие nonrefundable_support"
   ]
  },
  {
   "cell_type": "code",
   "execution_count": 39,
   "metadata": {
    "id": "PnXKIVdFgFyR"
   },
   "outputs": [
    {
     "data": {
      "text/plain": [
       "16"
      ]
     },
     "execution_count": 39,
     "metadata": {},
     "output_type": "execute_result"
    }
   ],
   "source": [
    "data[(data['nonrefundable_support'] != 0)&(data['budget']==0)]['title'].count()"
   ]
  },
  {
   "cell_type": "markdown",
   "metadata": {
    "id": "PnXKIVdFgFyR"
   },
   "source": [
    "Удалим их"
   ]
  },
  {
   "cell_type": "code",
   "execution_count": 40,
   "metadata": {
    "id": "PnXKIVdFgFyR"
   },
   "outputs": [
    {
     "data": {
      "text/plain": [
       "0"
      ]
     },
     "execution_count": 40,
     "metadata": {},
     "output_type": "execute_result"
    }
   ],
   "source": [
    "data = data[(data['nonrefundable_support'] != 0)&(data['budget']!=0)]\n",
    "data[(data['nonrefundable_support'] != 0)&(data['budget']==0)]['title'].count()"
   ]
  },
  {
   "cell_type": "markdown",
   "metadata": {
    "id": "PnXKIVdFgFyR"
   },
   "source": [
    " Посчитаем количество фильмов, в которых кассовые сборы составляет менее 1000 руб:"
   ]
  },
  {
   "cell_type": "code",
   "execution_count": 41,
   "metadata": {
    "id": "PnXKIVdFgFyR"
   },
   "outputs": [
    {
     "data": {
      "text/plain": [
       "231"
      ]
     },
     "execution_count": 41,
     "metadata": {},
     "output_type": "execute_result"
    }
   ],
   "source": [
    "data[data['box_office'] < 1000]['title'].count()"
   ]
  },
  {
   "cell_type": "markdown",
   "metadata": {
    "id": "PnXKIVdFgFyR"
   },
   "source": [
    "Вывод:\n",
    "budget. Бюджет фильма указан только в случае, если была получена гос.поддержка. Вызывают подозрения фильмы, в которых бюджет составляет 0 руб, несмотря на наличие nonrefundable_support - количество таких фильмов 16. Вероятно, что просто забыли указать реальный бюджет фильма.\n",
    "refundable_support. Получение гос.поддержки не всегда означает, что будет возвращена какая-то часть средств (т.е. объем возвратных средств гос.поддержки во многих случает составляет 0 руб). Это нормально.\n",
    "nonrefundable_support. Получение гос.поддержки всегда означает наличие какого-то объёма невозвратных средств. Поэтому выглядят подозрительными 9 фильмов с гос.поддержкой, у которых объём невозвратных средств составляет 0 руб. Скорее всего, забыли указать сумму nonrefundable_support. Эти фильмы были удалены вместе с 16 записями с нулевым бюджетом.\n",
    "ratings указан не для всех фильмов, но данные подозрения не вызывают.\n",
    "box_office (кассовые сборы) указаны только для половины фильмов. Известно, что сумма указана в руб. Выглядят подозрительными кассовые сборы c маленькими значениями Например, у 231 фильмов сборы составили менее 1000 руб. Это выглядит, нереальным."
   ]
  },
  {
   "cell_type": "markdown",
   "metadata": {
    "id": "Eu6oWp2CgFyS"
   },
   "source": [
    "#### Шаг 2.6. Добавьте новые столбцы\n",
    "\n",
    "\n",
    "\n"
   ]
  },
  {
   "cell_type": "markdown",
   "metadata": {
    "id": "7GgW-UpAgFyS"
   },
   "source": [
    "- Создайте столбец с информацией о годе проката. Выделите год из даты премьеры фильма."
   ]
  },
  {
   "cell_type": "code",
   "execution_count": 42,
   "metadata": {
    "id": "I-yd1DkWgFyT"
   },
   "outputs": [],
   "source": [
    "data['year'] = data['show_start_date'].dt.year"
   ]
  },
  {
   "cell_type": "markdown",
   "metadata": {
    "id": "PnXKIVdFgFyR"
   },
   "source": [
    "Создадим столбец с именем главного режиссера"
   ]
  },
  {
   "cell_type": "code",
   "execution_count": 43,
   "metadata": {
    "id": "LSbRZKbMgFyU"
   },
   "outputs": [],
   "source": [
    "df_director=data['director'].str.split(',',expand=True)\n",
    "data['director_first']=df_director[0]"
   ]
  },
  {
   "cell_type": "markdown",
   "metadata": {
    "id": "PnXKIVdFgFyR"
   },
   "source": [
    "Создадим столбец с названием главного жанра"
   ]
  },
  {
   "cell_type": "code",
   "execution_count": 44,
   "metadata": {
    "id": "PnXKIVdFgFyR"
   },
   "outputs": [],
   "source": [
    "df_genres=data['genres'].str.split(',',expand=True)\n",
    "data['genres_first']=df_genres[0]"
   ]
  },
  {
   "cell_type": "markdown",
   "metadata": {
    "id": "PnXKIVdFgFyR"
   },
   "source": [
    "Проверим результат"
   ]
  },
  {
   "cell_type": "code",
   "execution_count": 45,
   "metadata": {
    "id": "PnXKIVdFgFyR"
   },
   "outputs": [
    {
     "data": {
      "text/html": [
       "<div>\n",
       "<style scoped>\n",
       "    .dataframe tbody tr th:only-of-type {\n",
       "        vertical-align: middle;\n",
       "    }\n",
       "\n",
       "    .dataframe tbody tr th {\n",
       "        vertical-align: top;\n",
       "    }\n",
       "\n",
       "    .dataframe thead th {\n",
       "        text-align: right;\n",
       "    }\n",
       "</style>\n",
       "<table border=\"1\" class=\"dataframe\">\n",
       "  <thead>\n",
       "    <tr style=\"text-align: right;\">\n",
       "      <th></th>\n",
       "      <th>director</th>\n",
       "      <th>director_first</th>\n",
       "      <th>genres</th>\n",
       "      <th>genres_first</th>\n",
       "    </tr>\n",
       "  </thead>\n",
       "  <tbody>\n",
       "    <tr>\n",
       "      <th>0</th>\n",
       "      <td>Кевин Костнер</td>\n",
       "      <td>Кевин Костнер</td>\n",
       "      <td>боевик,драма,мелодрама</td>\n",
       "      <td>боевик</td>\n",
       "    </tr>\n",
       "    <tr>\n",
       "      <th>1</th>\n",
       "      <td>Е.Матвеев</td>\n",
       "      <td>Е.Матвеев</td>\n",
       "      <td>драма,военный</td>\n",
       "      <td>драма</td>\n",
       "    </tr>\n",
       "    <tr>\n",
       "      <th>2</th>\n",
       "      <td>Тимур Бекмамбетов</td>\n",
       "      <td>Тимур Бекмамбетов</td>\n",
       "      <td>фантастика,боевик,триллер</td>\n",
       "      <td>фантастика</td>\n",
       "    </tr>\n",
       "    <tr>\n",
       "      <th>3</th>\n",
       "      <td>Тимур Бекмамбетов</td>\n",
       "      <td>Тимур Бекмамбетов</td>\n",
       "      <td>фантастика,боевик,триллер</td>\n",
       "      <td>фантастика</td>\n",
       "    </tr>\n",
       "    <tr>\n",
       "      <th>4</th>\n",
       "      <td>Тимур Бекмамбетов</td>\n",
       "      <td>Тимур Бекмамбетов</td>\n",
       "      <td>фантастика,боевик,триллер</td>\n",
       "      <td>фантастика</td>\n",
       "    </tr>\n",
       "  </tbody>\n",
       "</table>\n",
       "</div>"
      ],
      "text/plain": [
       "            director     director_first                     genres  \\\n",
       "0      Кевин Костнер      Кевин Костнер     боевик,драма,мелодрама   \n",
       "1          Е.Матвеев          Е.Матвеев              драма,военный   \n",
       "2  Тимур Бекмамбетов  Тимур Бекмамбетов  фантастика,боевик,триллер   \n",
       "3  Тимур Бекмамбетов  Тимур Бекмамбетов  фантастика,боевик,триллер   \n",
       "4  Тимур Бекмамбетов  Тимур Бекмамбетов  фантастика,боевик,триллер   \n",
       "\n",
       "  genres_first  \n",
       "0       боевик  \n",
       "1        драма  \n",
       "2   фантастика  \n",
       "3   фантастика  \n",
       "4   фантастика  "
      ]
     },
     "execution_count": 45,
     "metadata": {},
     "output_type": "execute_result"
    }
   ],
   "source": [
    "data[['director', 'director_first', 'genres', 'genres_first']].head()"
   ]
  },
  {
   "cell_type": "markdown",
   "metadata": {
    "id": "PnXKIVdFgFyR"
   },
   "source": [
    "Добавим в таблицу столбец total_support, в котором сумируем объем возвратных и невозвратных средств гос.поддержки"
   ]
  },
  {
   "cell_type": "code",
   "execution_count": 46,
   "metadata": {
    "id": "LV6qFuZLgFyV"
   },
   "outputs": [],
   "source": [
    "data['total_support']=data['refundable_support']+data['nonrefundable_support']"
   ]
  },
  {
   "cell_type": "markdown",
   "metadata": {
    "id": "PnXKIVdFgFyR"
   },
   "source": [
    "Добавим столбец с расчетом доли каждого вида гос.поддержки от общего бюджета фильма"
   ]
  },
  {
   "cell_type": "code",
   "execution_count": 47,
   "metadata": {
    "id": "PnXKIVdFgFyR"
   },
   "outputs": [],
   "source": [
    "data['%_total_support']=data['total_support']/data['budget']\n",
    "data['%_refundable_support']=data['refundable_support']/data['budget']\n",
    "data['%_nonrefundable_support']=data['nonrefundable_support']/data['budget']\n"
   ]
  },
  {
   "cell_type": "code",
   "execution_count": 48,
   "metadata": {
    "id": "PnXKIVdFgFyR"
   },
   "outputs": [
    {
     "data": {
      "text/html": [
       "<div>\n",
       "<style scoped>\n",
       "    .dataframe tbody tr th:only-of-type {\n",
       "        vertical-align: middle;\n",
       "    }\n",
       "\n",
       "    .dataframe tbody tr th {\n",
       "        vertical-align: top;\n",
       "    }\n",
       "\n",
       "    .dataframe thead th {\n",
       "        text-align: right;\n",
       "    }\n",
       "</style>\n",
       "<table border=\"1\" class=\"dataframe\">\n",
       "  <thead>\n",
       "    <tr style=\"text-align: right;\">\n",
       "      <th></th>\n",
       "      <th>budget</th>\n",
       "      <th>total_support</th>\n",
       "      <th>refundable_support</th>\n",
       "      <th>nonrefundable_support</th>\n",
       "      <th>%_total_support</th>\n",
       "      <th>%_refundable_support</th>\n",
       "      <th>%_nonrefundable_support</th>\n",
       "    </tr>\n",
       "  </thead>\n",
       "  <tbody>\n",
       "    <tr>\n",
       "      <th>count</th>\n",
       "      <td>3.070000e+02</td>\n",
       "      <td>3.070000e+02</td>\n",
       "      <td>3.070000e+02</td>\n",
       "      <td>3.070000e+02</td>\n",
       "      <td>307.000000</td>\n",
       "      <td>307.000000</td>\n",
       "      <td>307.000000</td>\n",
       "    </tr>\n",
       "    <tr>\n",
       "      <th>mean</th>\n",
       "      <td>1.333371e+08</td>\n",
       "      <td>5.977107e+07</td>\n",
       "      <td>1.041042e+07</td>\n",
       "      <td>4.936065e+07</td>\n",
       "      <td>0.519514</td>\n",
       "      <td>0.057192</td>\n",
       "      <td>0.462322</td>\n",
       "    </tr>\n",
       "    <tr>\n",
       "      <th>std</th>\n",
       "      <td>1.929219e+08</td>\n",
       "      <td>7.387266e+07</td>\n",
       "      <td>2.385699e+07</td>\n",
       "      <td>6.015006e+07</td>\n",
       "      <td>0.168866</td>\n",
       "      <td>0.104377</td>\n",
       "      <td>0.184470</td>\n",
       "    </tr>\n",
       "    <tr>\n",
       "      <th>min</th>\n",
       "      <td>1.446246e+07</td>\n",
       "      <td>3.000000e+06</td>\n",
       "      <td>0.000000e+00</td>\n",
       "      <td>3.000000e+06</td>\n",
       "      <td>0.044043</td>\n",
       "      <td>0.000000</td>\n",
       "      <td>0.024553</td>\n",
       "    </tr>\n",
       "    <tr>\n",
       "      <th>25%</th>\n",
       "      <td>4.551094e+07</td>\n",
       "      <td>2.510000e+07</td>\n",
       "      <td>0.000000e+00</td>\n",
       "      <td>2.500000e+07</td>\n",
       "      <td>0.375000</td>\n",
       "      <td>0.000000</td>\n",
       "      <td>0.323825</td>\n",
       "    </tr>\n",
       "    <tr>\n",
       "      <th>50%</th>\n",
       "      <td>7.087617e+07</td>\n",
       "      <td>3.500000e+07</td>\n",
       "      <td>0.000000e+00</td>\n",
       "      <td>3.000000e+07</td>\n",
       "      <td>0.593163</td>\n",
       "      <td>0.000000</td>\n",
       "      <td>0.476190</td>\n",
       "    </tr>\n",
       "    <tr>\n",
       "      <th>75%</th>\n",
       "      <td>1.482258e+08</td>\n",
       "      <td>6.000000e+07</td>\n",
       "      <td>1.000000e+07</td>\n",
       "      <td>4.000000e+07</td>\n",
       "      <td>0.657363</td>\n",
       "      <td>0.090520</td>\n",
       "      <td>0.648232</td>\n",
       "    </tr>\n",
       "    <tr>\n",
       "      <th>max</th>\n",
       "      <td>2.305074e+09</td>\n",
       "      <td>5.000000e+08</td>\n",
       "      <td>1.800000e+08</td>\n",
       "      <td>4.000000e+08</td>\n",
       "      <td>0.784745</td>\n",
       "      <td>0.603861</td>\n",
       "      <td>0.700000</td>\n",
       "    </tr>\n",
       "  </tbody>\n",
       "</table>\n",
       "</div>"
      ],
      "text/plain": [
       "             budget  total_support  refundable_support  nonrefundable_support  \\\n",
       "count  3.070000e+02   3.070000e+02        3.070000e+02           3.070000e+02   \n",
       "mean   1.333371e+08   5.977107e+07        1.041042e+07           4.936065e+07   \n",
       "std    1.929219e+08   7.387266e+07        2.385699e+07           6.015006e+07   \n",
       "min    1.446246e+07   3.000000e+06        0.000000e+00           3.000000e+06   \n",
       "25%    4.551094e+07   2.510000e+07        0.000000e+00           2.500000e+07   \n",
       "50%    7.087617e+07   3.500000e+07        0.000000e+00           3.000000e+07   \n",
       "75%    1.482258e+08   6.000000e+07        1.000000e+07           4.000000e+07   \n",
       "max    2.305074e+09   5.000000e+08        1.800000e+08           4.000000e+08   \n",
       "\n",
       "       %_total_support  %_refundable_support  %_nonrefundable_support  \n",
       "count       307.000000            307.000000               307.000000  \n",
       "mean          0.519514              0.057192                 0.462322  \n",
       "std           0.168866              0.104377                 0.184470  \n",
       "min           0.044043              0.000000                 0.024553  \n",
       "25%           0.375000              0.000000                 0.323825  \n",
       "50%           0.593163              0.000000                 0.476190  \n",
       "75%           0.657363              0.090520                 0.648232  \n",
       "max           0.784745              0.603861                 0.700000  "
      ]
     },
     "execution_count": 48,
     "metadata": {},
     "output_type": "execute_result"
    }
   ],
   "source": [
    "mn=['budget', 'total_support', 'refundable_support', 'nonrefundable_support', '%_total_support', '%_refundable_support', '%_nonrefundable_support']\n",
    "data[mn].describe()"
   ]
  },
  {
   "cell_type": "markdown",
   "metadata": {
    "id": "PnXKIVdFgFyR"
   },
   "source": [
    "Видим, что медианная величина бюджета фильма с гос.поддержкой составляет около 71 млн руб, в то время как средняя величина составляет 133 млн руб.Это свидетельствует о том, что есть некоторые фильмы, снятые с гос.поддержкой, с очень значительным бюджетом. Их бюджет повлиял на среднюю величину, но не затронул значение медианного бюджета.\n",
    "\n",
    "Объем средств гос.поддержки в среднем составляет около 35 млн руб, т.е. около 49% от бюджета фильма. Причем гос.поддержка в основном представляет собой именно невозвратные средства в размере около 30 млн руб."
   ]
  },
  {
   "cell_type": "markdown",
   "metadata": {
    "id": "6t4EukPLgFyV"
   },
   "source": [
    "### Шаг 3. Проведите исследовательский анализ данных\n"
   ]
  },
  {
   "cell_type": "markdown",
   "metadata": {
    "id": "PnXKIVdFgFyR"
   },
   "source": [
    "Посмотрим в каких годах сколько фильмов выходило в кинотеатрах, с данными о сборах"
   ]
  },
  {
   "cell_type": "code",
   "execution_count": 49,
   "metadata": {
    "id": "ABeV47y7gFyW",
    "scrolled": true
   },
   "outputs": [
    {
     "data": {
      "text/plain": [
       "count     10.000000\n",
       "mean     313.300000\n",
       "std      174.344518\n",
       "min      105.000000\n",
       "25%      142.000000\n",
       "50%      315.500000\n",
       "75%      466.500000\n",
       "max      527.000000\n",
       "Name: box_office, dtype: float64"
      ]
     },
     "execution_count": 49,
     "metadata": {},
     "output_type": "execute_result"
    }
   ],
   "source": [
    "cinema=data.groupby('year')['box_office'].count()\n",
    "cinema.describe()"
   ]
  },
  {
   "cell_type": "markdown",
   "metadata": {
    "id": "PnXKIVdFgFyR"
   },
   "source": [
    "Посмотрим, сколько фильмов выходило в целом в прокат каждый год"
   ]
  },
  {
   "cell_type": "code",
   "execution_count": 50,
   "metadata": {
    "id": "PnXKIVdFgFyR"
   },
   "outputs": [
    {
     "data": {
      "text/plain": [
       "count     10.00000\n",
       "mean     746.10000\n",
       "std      160.76515\n",
       "min      501.00000\n",
       "25%      624.00000\n",
       "50%      751.00000\n",
       "75%      868.25000\n",
       "max      985.00000\n",
       "Name: title, dtype: float64"
      ]
     },
     "execution_count": 50,
     "metadata": {},
     "output_type": "execute_result"
    }
   ],
   "source": [
    "films=data.groupby('year')['title'].count()\n",
    "films.describe()"
   ]
  },
  {
   "cell_type": "markdown",
   "metadata": {
    "id": "PnXKIVdFgFyR"
   },
   "source": [
    "Посчитаем, какую долю составляют фильмы с указанной информацией о прокате."
   ]
  },
  {
   "cell_type": "code",
   "execution_count": 51,
   "metadata": {
    "id": "PnXKIVdFgFyR"
   },
   "outputs": [
    {
     "data": {
      "text/plain": [
       "count    10.000000\n",
       "mean     42.351240\n",
       "std      22.145975\n",
       "min      10.659898\n",
       "25%      23.490457\n",
       "50%      43.769360\n",
       "75%      62.341348\n",
       "max      70.459082\n",
       "dtype: float64"
      ]
     },
     "execution_count": 51,
     "metadata": {},
     "output_type": "execute_result"
    }
   ],
   "source": [
    "cinema_inf = cinema/films*100\n",
    "cinema_inf.describe()"
   ]
  },
  {
   "cell_type": "markdown",
   "metadata": {
    "id": "PnXKIVdFgFyR"
   },
   "source": [
    "Cреднее количество фильмов в год: 746  \n",
    "Cреднее количество фильмов в кинотеатрах в год: 313  \n",
    "Доля фильмов с указанной информацией о прокате в кинотеатрах: 42.4%  "
   ]
  },
  {
   "cell_type": "code",
   "execution_count": 53,
   "metadata": {
    "id": "PnXKIVdFgFyR"
   },
   "outputs": [
    {
     "data": {
      "image/png": "[encoded data removed]",
      "text/plain": [
       "<Figure size 1000x500 with 1 Axes>"
      ]
     },
     "metadata": {},
     "output_type": "display_data"
    }
   ],
   "source": [
    "films.plot(x='year', kind='bar', figsize = (10, 5), grid = True, title='Количество фильмов по годам')\n",
    "plt.ylabel('Количество фильмов')\n",
    "plt.show()"
   ]
  },
  {
   "cell_type": "code",
   "execution_count": 54,
   "metadata": {
    "id": "PnXKIVdFgFyR"
   },
   "outputs": [
    {
     "data": {
      "image/png": "[encoded data removed]",
      "text/plain": [
       "<Figure size 1000x500 with 1 Axes>"
      ]
     },
     "metadata": {},
     "output_type": "display_data"
    }
   ],
   "source": [
    "cinema.plot(x='year', y='cinema_inf', figsize = (10, 5), grid = True, title='Доля фильмов с указанной информацией о прокате в кинотеатрах')\n",
    "plt.ylabel('Количество фильмов')\n",
    "plt.show()"
   ]
  },
  {
   "cell_type": "markdown",
   "metadata": {
    "id": "PnXKIVdFgFyR"
   },
   "source": [
    "Данные о прокате в кинотеатрах известны не для всех фильмов.  \n",
    "В среднем, в прокат в целом выходило около 746 фильмов в год, а в прокат В КИНОТЕАТРЫ выходило в 2 раза меньше - 313 фильмов в год.  \n"
   ]
  },
  {
   "cell_type": "markdown",
   "metadata": {
    "id": "PnXKIVdFgFyR"
   },
   "source": [
    "Посмотрим на величину проката за каждый год"
   ]
  },
  {
   "cell_type": "code",
   "execution_count": 55,
   "metadata": {
    "id": "tfEhofYvgFyX"
   },
   "outputs": [
    {
     "data": {
      "text/html": [
       "<div>\n",
       "<style scoped>\n",
       "    .dataframe tbody tr th:only-of-type {\n",
       "        vertical-align: middle;\n",
       "    }\n",
       "\n",
       "    .dataframe tbody tr th {\n",
       "        vertical-align: top;\n",
       "    }\n",
       "\n",
       "    .dataframe thead th {\n",
       "        text-align: right;\n",
       "    }\n",
       "</style>\n",
       "<table border=\"1\" class=\"dataframe\">\n",
       "  <thead>\n",
       "    <tr style=\"text-align: right;\">\n",
       "      <th></th>\n",
       "      <th>sum</th>\n",
       "      <th>count</th>\n",
       "      <th>mean</th>\n",
       "    </tr>\n",
       "    <tr>\n",
       "      <th>year</th>\n",
       "      <th></th>\n",
       "      <th></th>\n",
       "      <th></th>\n",
       "    </tr>\n",
       "  </thead>\n",
       "  <tbody>\n",
       "    <tr>\n",
       "      <th>2010</th>\n",
       "      <td>2.428654e+06</td>\n",
       "      <td>105</td>\n",
       "      <td>2.313004e+04</td>\n",
       "    </tr>\n",
       "    <tr>\n",
       "      <th>2011</th>\n",
       "      <td>1.410276e+07</td>\n",
       "      <td>109</td>\n",
       "      <td>1.293832e+05</td>\n",
       "    </tr>\n",
       "    <tr>\n",
       "      <th>2012</th>\n",
       "      <td>6.955423e+06</td>\n",
       "      <td>128</td>\n",
       "      <td>5.433924e+04</td>\n",
       "    </tr>\n",
       "    <tr>\n",
       "      <th>2013</th>\n",
       "      <td>2.979971e+07</td>\n",
       "      <td>184</td>\n",
       "      <td>1.619549e+05</td>\n",
       "    </tr>\n",
       "    <tr>\n",
       "      <th>2014</th>\n",
       "      <td>7.434718e+09</td>\n",
       "      <td>278</td>\n",
       "      <td>2.674359e+07</td>\n",
       "    </tr>\n",
       "    <tr>\n",
       "      <th>2015</th>\n",
       "      <td>3.842744e+10</td>\n",
       "      <td>456</td>\n",
       "      <td>8.427071e+07</td>\n",
       "    </tr>\n",
       "    <tr>\n",
       "      <th>2016</th>\n",
       "      <td>4.674232e+10</td>\n",
       "      <td>523</td>\n",
       "      <td>8.937345e+07</td>\n",
       "    </tr>\n",
       "    <tr>\n",
       "      <th>2017</th>\n",
       "      <td>4.736491e+10</td>\n",
       "      <td>353</td>\n",
       "      <td>1.341782e+08</td>\n",
       "    </tr>\n",
       "    <tr>\n",
       "      <th>2018</th>\n",
       "      <td>4.867462e+10</td>\n",
       "      <td>470</td>\n",
       "      <td>1.035630e+08</td>\n",
       "    </tr>\n",
       "    <tr>\n",
       "      <th>2019</th>\n",
       "      <td>4.772358e+10</td>\n",
       "      <td>527</td>\n",
       "      <td>9.055708e+07</td>\n",
       "    </tr>\n",
       "  </tbody>\n",
       "</table>\n",
       "</div>"
      ],
      "text/plain": [
       "               sum  count          mean\n",
       "year                                   \n",
       "2010  2.428654e+06    105  2.313004e+04\n",
       "2011  1.410276e+07    109  1.293832e+05\n",
       "2012  6.955423e+06    128  5.433924e+04\n",
       "2013  2.979971e+07    184  1.619549e+05\n",
       "2014  7.434718e+09    278  2.674359e+07\n",
       "2015  3.842744e+10    456  8.427071e+07\n",
       "2016  4.674232e+10    523  8.937345e+07\n",
       "2017  4.736491e+10    353  1.341782e+08\n",
       "2018  4.867462e+10    470  1.035630e+08\n",
       "2019  4.772358e+10    527  9.055708e+07"
      ]
     },
     "execution_count": 55,
     "metadata": {},
     "output_type": "execute_result"
    }
   ],
   "source": [
    "rental=data.groupby('year')['box_office'].agg(['sum','count', 'mean'])\n",
    "rental"
   ]
  },
  {
   "cell_type": "markdown",
   "metadata": {
    "id": "PnXKIVdFgFyR"
   },
   "source": [
    "Построим  график, отражающий зависимость между величиной кассовых сборов и годом"
   ]
  },
  {
   "cell_type": "code",
   "execution_count": 56,
   "metadata": {
    "id": "PnXKIVdFgFyR"
   },
   "outputs": [
    {
     "data": {
      "image/png": "[encoded data removed]",
      "text/plain": [
       "<Figure size 640x480 with 1 Axes>"
      ]
     },
     "metadata": {},
     "output_type": "display_data"
    }
   ],
   "source": [
    "rental['sum'].plot(kind='bar', grid=True)\n",
    "plt.title('Кассовые сборы')\n",
    "plt.xlabel('Годы')\n",
    "plt.ylabel('Кассовые сборы, млрд руб')\n",
    "plt.show()"
   ]
  },
  {
   "cell_type": "markdown",
   "metadata": {
    "id": "PnXKIVdFgFyR"
   },
   "source": [
    "Видно, что с каждым годом объем кассовых сборов только увеличивается. Минимальная общая сумма кассовых сборов составила 2,4 млн руб - это было в 2010 году. А максимальная сумма составила 48.7 млрд руб - это было в 2018 году."
   ]
  },
  {
   "cell_type": "markdown",
   "metadata": {
    "id": "G-7qS-N-gFyY"
   },
   "source": [
    "- С помощью сводной таблицы посчитайте среднюю и медианную сумму сборов для каждого года."
   ]
  },
  {
   "cell_type": "code",
   "execution_count": 57,
   "metadata": {
    "id": "jmp-rgg9gFyY"
   },
   "outputs": [
    {
     "name": "stdout",
     "output_type": "stream",
     "text": [
      "              mean       median\n",
      "        box_office   box_office\n",
      "year                           \n",
      "2010  2.313004e+04     1700.000\n",
      "2011  1.293832e+05     3000.000\n",
      "2012  5.433924e+04     5660.000\n",
      "2013  1.619549e+05     3522.500\n",
      "2014  2.674359e+07    18137.500\n",
      "2015  8.427071e+07  4742671.665\n",
      "2016  8.937345e+07  3776087.560\n",
      "2017  1.341782e+08  9876765.000\n",
      "2018  1.035630e+08  8730277.525\n",
      "2019  9.055708e+07  4554745.000\n"
     ]
    },
    {
     "data": {
      "image/png": "[encoded data removed]",
      "text/plain": [
       "<Figure size 640x480 with 1 Axes>"
      ]
     },
     "metadata": {},
     "output_type": "display_data"
    }
   ],
   "source": [
    "box_office_year=data.pivot_table(index='year', values='box_office', aggfunc=['mean', 'median'])\n",
    "print(box_office_year)\n",
    "\n",
    "box_office_year.plot(grid=True)\n",
    "plt.title('Кассовые сборы по годам')\n",
    "plt.xlabel('Годы')\n",
    "plt.ylabel('Кассовые сборы')\n",
    "plt.show()"
   ]
  },
  {
   "cell_type": "markdown",
   "metadata": {
    "id": "PnXKIVdFgFyR"
   },
   "source": [
    "Видим, что медиана по кассовым сборам во много раз меньше среднего каждый год. Это свидетельствует о том, что есть некоторое количество фильмов с очень значительными сборами, что повлияло на среднююю величину."
   ]
  },
  {
   "cell_type": "code",
   "execution_count": 58,
   "metadata": {
    "id": "jsSbEqfjgFya"
   },
   "outputs": [
    {
     "name": "stdout",
     "output_type": "stream",
     "text": [
      "age_restriction\n",
      "«0+» - для любой зрительской аудитории    8.090774e+08\n",
      "«12+» - для детей старше 12 лет           5.901553e+10\n",
      "«16+» - для детей старше 16 лет           7.503778e+10\n",
      "«18+» - запрещено для детей               4.075766e+10\n",
      "«6+» - для детей старше 6 лет             5.331283e+10\n",
      "Name: box_office, dtype: float64\n"
     ]
    },
    {
     "data": {
      "image/png": "[encoded data removed]",
      "text/plain": [
       "<Figure size 640x480 with 1 Axes>"
      ]
     },
     "metadata": {},
     "output_type": "display_data"
    }
   ],
   "source": [
    "age_data_2014=data.query('year>2014').groupby('age_restriction')['box_office'].sum()\n",
    "print(age_data_2014)\n",
    "\n",
    "age_data_2014.plot(kind='bar', grid=True)\n",
    "plt.title('Кассовые сборы по возрастной категории')\n",
    "plt.xlabel('Года')\n",
    "plt.ylabel('Кассовые сборы')\n",
    "plt.show()"
   ]
  },
  {
   "cell_type": "code",
   "execution_count": 59,
   "metadata": {
    "id": "PnXKIVdFgFyR"
   },
   "outputs": [
    {
     "data": {
      "text/plain": [
       "age_restriction\n",
       "«0+» - для любой зрительской аудитории    3.790546e+08\n",
       "«12+» - для детей старше 12 лет           1.339986e+10\n",
       "«16+» - для детей старше 16 лет           1.077057e+10\n",
       "«18+» - запрещено для детей               5.430351e+09\n",
       "«6+» - для детей старше 6 лет             8.447618e+09\n",
       "Name: box_office, dtype: float64"
      ]
     },
     "metadata": {},
     "output_type": "display_data"
    },
    {
     "data": {
      "image/png": "[encoded data removed]",
      "text/plain": [
       "<Figure size 640x480 with 1 Axes>"
      ]
     },
     "metadata": {},
     "output_type": "display_data"
    }
   ],
   "source": [
    "age_data_2015=data.query('year==2015').groupby('age_restriction')['box_office'].sum()\n",
    "display(age_data_2015)\n",
    "\n",
    "age_data_2015.plot(kind='bar', grid=True)\n",
    "plt.title('Кассовые сборы по возрастной категории')\n",
    "plt.xlabel('Года')\n",
    "plt.ylabel('Кассовые сборы')\n",
    "plt.show()"
   ]
  },
  {
   "cell_type": "code",
   "execution_count": 59,
   "metadata": {
    "id": "PnXKIVdFgFyR"
   },
   "outputs": [
    {
     "data": {
      "text/plain": [
       "age_restriction\n",
       "«0+» - для любой зрительской аудитории      150,228,848.7\n",
       "«12+» - для детей старше 12 лет          11,150,762,104.0\n",
       "«16+» - для детей старше 16 лет          16,594,249,489.7\n",
       "«18+» - запрещено для детей               6,793,929,818.9\n",
       "«6+» - для детей старше 6 лет            12,053,146,008.2\n",
       "Name: box_office, dtype: float64"
      ]
     },
     "metadata": {},
     "output_type": "display_data"
    },
    {
     "data": {
      "image/png": "[encoded data removed]",
      "text/plain": [
       "<Figure size 432x288 with 1 Axes>"
      ]
     },
     "metadata": {
      "needs_background": "light"
     },
     "output_type": "display_data"
    }
   ],
   "source": [
    "age_data_2016=data.query('year==2016').groupby('age_restriction')['box_office'].sum()\n",
    "display(age_data_2016)\n",
    "\n",
    "age_data_2016.plot(kind='bar', grid=True)\n",
    "plt.title('Кассовые сборы по возрастной категории')\n",
    "plt.xlabel('Года')\n",
    "plt.ylabel('Кассовые сборы')\n",
    "plt.show()"
   ]
  },
  {
   "cell_type": "code",
   "execution_count": 60,
   "metadata": {
    "id": "PnXKIVdFgFyR"
   },
   "outputs": [
    {
     "data": {
      "text/plain": [
       "age_restriction\n",
       "«0+» - для любой зрительской аудитории    2.295989e+08\n",
       "«12+» - для детей старше 12 лет           7.517420e+09\n",
       "«16+» - для детей старше 16 лет           1.869459e+10\n",
       "«18+» - запрещено для детей               9.651496e+09\n",
       "«6+» - для детей старше 6 лет             1.127181e+10\n",
       "Name: box_office, dtype: float64"
      ]
     },
     "metadata": {},
     "output_type": "display_data"
    },
    {
     "data": {
      "image/png": "[encoded data removed]",
      "text/plain": [
       "<Figure size 640x480 with 1 Axes>"
      ]
     },
     "metadata": {},
     "output_type": "display_data"
    }
   ],
   "source": [
    "age_data_2017=data.query('year==2017').groupby('age_restriction')['box_office'].sum()\n",
    "display(age_data_2017)\n",
    "\n",
    "age_data_2017.plot(kind='bar', grid=True)\n",
    "plt.title('Кассовые сборы по возрастной категории')\n",
    "plt.xlabel('Года')\n",
    "plt.ylabel('Кассовые сборы')\n",
    "plt.show()"
   ]
  },
  {
   "cell_type": "code",
   "execution_count": 61,
   "metadata": {
    "id": "PnXKIVdFgFyR"
   },
   "outputs": [
    {
     "data": {
      "text/plain": [
       "age_restriction\n",
       "«0+» - для любой зрительской аудитории       32,449,002.1\n",
       "«12+» - для детей старше 12 лет          14,267,291,660.7\n",
       "«16+» - для детей старше 16 лет          16,278,405,946.9\n",
       "«18+» - запрещено для детей               8,760,085,501.1\n",
       "«6+» - для детей старше 6 лет             9,336,390,441.1\n",
       "Name: box_office, dtype: float64"
      ]
     },
     "metadata": {},
     "output_type": "display_data"
    },
    {
     "data": {
      "image/png": "[encoded data removed]",
      "text/plain": [
       "<Figure size 432x288 with 1 Axes>"
      ]
     },
     "metadata": {
      "needs_background": "light"
     },
     "output_type": "display_data"
    }
   ],
   "source": [
    "age_data_2018=data.query('year==2018').groupby('age_restriction')['box_office'].sum()\n",
    "display(age_data_2018)\n",
    "\n",
    "age_data_2018.plot(kind='bar', grid=True)\n",
    "plt.title('Кассовые сборы по возрастной категории')\n",
    "plt.xlabel('Года')\n",
    "plt.ylabel('Кассовые сборы')\n",
    "plt.show()"
   ]
  },
  {
   "cell_type": "code",
   "execution_count": 61,
   "metadata": {
    "id": "PnXKIVdFgFyR"
   },
   "outputs": [
    {
     "data": {
      "text/plain": [
       "age_restriction\n",
       "«0+» - для любой зрительской аудитории    1.774607e+07\n",
       "«12+» - для детей старше 12 лет           1.268020e+10\n",
       "«16+» - для детей старше 16 лет           1.269997e+10\n",
       "«18+» - запрещено для детей               1.012180e+10\n",
       "«6+» - для детей старше 6 лет             1.220387e+10\n",
       "Name: box_office, dtype: float64"
      ]
     },
     "metadata": {},
     "output_type": "display_data"
    },
    {
     "data": {
      "image/png": "[encoded data removed]",
      "text/plain": [
       "<Figure size 640x480 with 1 Axes>"
      ]
     },
     "metadata": {},
     "output_type": "display_data"
    }
   ],
   "source": [
    "age_data_2019=data.query('year==2019').groupby('age_restriction')['box_office'].sum()\n",
    "display(age_data_2019)\n",
    "\n",
    "age_data_2019.plot(kind='bar', grid=True)\n",
    "plt.title('Кассовые сборы по возрастной категории')\n",
    "plt.xlabel('Года')\n",
    "plt.ylabel('Кассовые сборы')\n",
    "plt.show()"
   ]
  },
  {
   "cell_type": "markdown",
   "metadata": {
    "id": "PnXKIVdFgFyR"
   },
   "source": [
    "За период с 2015-2019 больше всего кассовых сборов собрали фильмы категории 16+, далее идут фильмы категорий 12+ и 6+, затем идут фильмы категории 18+, а фильмы категории 0+ принесли меньше всего выручки. Анализ кассовых сборов по годам показал следующее:  \n",
    "\n",
    "2015: наибольшие кассовые сборы показали фильмы 12+, затем идут фильмы категории 16+ и 6+.  \n",
    "2016: начиная с этого года фильмы категории 16+ будут всегда занимать первое место по кассовым сборам, затем идут фильмы 12+ и 6+ с одинаковыми показателями.  \n",
    "2017: фильмы категории 12+ впервые уступили место фильмам 18+.  \n",
    "2018: фильмы 12+ заняли второе место, а третье место досталось фильмам категории 6+.  \n",
    "2019: почти равномерно распределились фильмы категорий 6+/12+/16+, ненамного отстают от них фильмы 18+.  \n",
    "Можно утверждать, что есть некоторая закономерность между возрастной категорией и кассовыми сборами. Например, фильмы категории 0+ почти не имеют значительных сборов. Также фильмы категории 18+ пости всегда приносят меньше сборов, чем фильмы категорий 6+/12+/16+. Это, вероятно, связано с тем, что их смотрят только совершеннолетние люди, а на фильмы категорий 6+/12+/16+ родители приходят вместе с детьми, или возможно связано с тем, что основной потребитель киноиндустрии это несовершеннолетняя молодежь."
   ]
  },
  {
   "cell_type": "markdown",
   "metadata": {
    "id": "l_Kg6Ku4gFya"
   },
   "source": [
    "### Шаг 4. Исследуйте фильмы, которые получили государственную поддержку"
   ]
  },
  {
   "cell_type": "markdown",
   "metadata": {
    "id": "W9QKpjUdgFyb"
   },
   "source": [
    "Создадим таблицу с данными по фильмам с гос.поддержкой"
   ]
  },
  {
   "cell_type": "code",
   "execution_count": 62,
   "metadata": {
    "id": "PnXKIVdFgFyR"
   },
   "outputs": [
    {
     "data": {
      "text/html": [
       "<div>\n",
       "<style scoped>\n",
       "    .dataframe tbody tr th:only-of-type {\n",
       "        vertical-align: middle;\n",
       "    }\n",
       "\n",
       "    .dataframe tbody tr th {\n",
       "        vertical-align: top;\n",
       "    }\n",
       "\n",
       "    .dataframe thead th {\n",
       "        text-align: right;\n",
       "    }\n",
       "</style>\n",
       "<table border=\"1\" class=\"dataframe\">\n",
       "  <thead>\n",
       "    <tr style=\"text-align: right;\">\n",
       "      <th></th>\n",
       "      <th>title</th>\n",
       "      <th>puNumber</th>\n",
       "      <th>show_start_date</th>\n",
       "      <th>type</th>\n",
       "      <th>film_studio</th>\n",
       "      <th>production_country</th>\n",
       "      <th>director</th>\n",
       "      <th>producer</th>\n",
       "      <th>age_restriction</th>\n",
       "      <th>refundable_support</th>\n",
       "      <th>...</th>\n",
       "      <th>ratings</th>\n",
       "      <th>genres</th>\n",
       "      <th>box_office</th>\n",
       "      <th>year</th>\n",
       "      <th>director_first</th>\n",
       "      <th>genres_first</th>\n",
       "      <th>total_support</th>\n",
       "      <th>%_total_support</th>\n",
       "      <th>%_refundable_support</th>\n",
       "      <th>%_nonrefundable_support</th>\n",
       "    </tr>\n",
       "  </thead>\n",
       "  <tbody>\n",
       "    <tr>\n",
       "      <th>1281</th>\n",
       "      <td>Пока еще жива</td>\n",
       "      <td>111005313</td>\n",
       "      <td>2013-10-11 12:00:00</td>\n",
       "      <td>Художественный</td>\n",
       "      <td>АНО содействия развитию кинематографии \"Ангел-...</td>\n",
       "      <td>Россия</td>\n",
       "      <td>А.Атанесян</td>\n",
       "      <td>А.Атанесян, М.Бабаханов, Р.Бутко</td>\n",
       "      <td>«16+» - для детей старше 16 лет</td>\n",
       "      <td>0.0</td>\n",
       "      <td>...</td>\n",
       "      <td>8.1</td>\n",
       "      <td>драма,мелодрама</td>\n",
       "      <td>365353.6</td>\n",
       "      <td>2013</td>\n",
       "      <td>А.Атанесян</td>\n",
       "      <td>драма</td>\n",
       "      <td>26500000.0</td>\n",
       "      <td>0.333703</td>\n",
       "      <td>0.0</td>\n",
       "      <td>0.333703</td>\n",
       "    </tr>\n",
       "    <tr>\n",
       "      <th>1448</th>\n",
       "      <td>Бесславные придурки</td>\n",
       "      <td>111003314</td>\n",
       "      <td>2014-03-28 12:00:00</td>\n",
       "      <td>Художественный</td>\n",
       "      <td>ООО \"Компания \"АТК-Студио\"</td>\n",
       "      <td>Россия</td>\n",
       "      <td>А.Якимчук</td>\n",
       "      <td>А.Тютрюмов</td>\n",
       "      <td>«12+» - для детей старше 12 лет</td>\n",
       "      <td>0.0</td>\n",
       "      <td>...</td>\n",
       "      <td>NaN</td>\n",
       "      <td>нет</td>\n",
       "      <td>28140.0</td>\n",
       "      <td>2014</td>\n",
       "      <td>А.Якимчук</td>\n",
       "      <td>нет</td>\n",
       "      <td>26000000.0</td>\n",
       "      <td>0.700000</td>\n",
       "      <td>0.0</td>\n",
       "      <td>0.700000</td>\n",
       "    </tr>\n",
       "    <tr>\n",
       "      <th>1498</th>\n",
       "      <td>Невидимки</td>\n",
       "      <td>111004213</td>\n",
       "      <td>2013-09-10 12:00:00</td>\n",
       "      <td>Художественный</td>\n",
       "      <td>ООО \"Компания \"РЕАЛ-ДАКОТА\"</td>\n",
       "      <td>Россия</td>\n",
       "      <td>Р.Давлетьяров, С.Комаров</td>\n",
       "      <td>Р.Давлетьяров, А.Котелевский, А.Олейников</td>\n",
       "      <td>«12+» - для детей старше 12 лет</td>\n",
       "      <td>0.0</td>\n",
       "      <td>...</td>\n",
       "      <td>5.3</td>\n",
       "      <td>комедия,фантастика</td>\n",
       "      <td>19957031.5</td>\n",
       "      <td>2013</td>\n",
       "      <td>Р.Давлетьяров</td>\n",
       "      <td>комедия</td>\n",
       "      <td>107847945.0</td>\n",
       "      <td>0.612691</td>\n",
       "      <td>0.0</td>\n",
       "      <td>0.612691</td>\n",
       "    </tr>\n",
       "    <tr>\n",
       "      <th>1524</th>\n",
       "      <td>БЕРЦЫ</td>\n",
       "      <td>111004314</td>\n",
       "      <td>2014-05-05 12:00:00</td>\n",
       "      <td>Художественный</td>\n",
       "      <td>ООО \"Студия \"Пассажир\"</td>\n",
       "      <td>Россия</td>\n",
       "      <td>Е.Миндадзе (псевдоним Катя Шагалова)</td>\n",
       "      <td>Л.Антонова</td>\n",
       "      <td>«16+» - для детей старше 16 лет</td>\n",
       "      <td>0.0</td>\n",
       "      <td>...</td>\n",
       "      <td>4.2</td>\n",
       "      <td>драма</td>\n",
       "      <td>55917.5</td>\n",
       "      <td>2014</td>\n",
       "      <td>Е.Миндадзе (псевдоним Катя Шагалова)</td>\n",
       "      <td>драма</td>\n",
       "      <td>28000000.0</td>\n",
       "      <td>0.690095</td>\n",
       "      <td>0.0</td>\n",
       "      <td>0.690095</td>\n",
       "    </tr>\n",
       "    <tr>\n",
       "      <th>1792</th>\n",
       "      <td>Братья Ч</td>\n",
       "      <td>111004414</td>\n",
       "      <td>2014-04-23 12:00:00</td>\n",
       "      <td>Художественный</td>\n",
       "      <td>ООО \"Студия \"Пассажир\"</td>\n",
       "      <td>Россия</td>\n",
       "      <td>М.Угаров</td>\n",
       "      <td>А.Миндадзе, Л.Антонова</td>\n",
       "      <td>«16+» - для детей старше 16 лет</td>\n",
       "      <td>0.0</td>\n",
       "      <td>...</td>\n",
       "      <td>6.4</td>\n",
       "      <td>драма</td>\n",
       "      <td>232100.0</td>\n",
       "      <td>2014</td>\n",
       "      <td>М.Угаров</td>\n",
       "      <td>драма</td>\n",
       "      <td>25000000.0</td>\n",
       "      <td>0.624764</td>\n",
       "      <td>0.0</td>\n",
       "      <td>0.624764</td>\n",
       "    </tr>\n",
       "  </tbody>\n",
       "</table>\n",
       "<p>5 rows × 23 columns</p>\n",
       "</div>"
      ],
      "text/plain": [
       "                    title   puNumber     show_start_date            type  \\\n",
       "1281        Пока еще жива  111005313 2013-10-11 12:00:00  Художественный   \n",
       "1448  Бесславные придурки  111003314 2014-03-28 12:00:00  Художественный   \n",
       "1498            Невидимки  111004213 2013-09-10 12:00:00  Художественный   \n",
       "1524                БЕРЦЫ  111004314 2014-05-05 12:00:00  Художественный   \n",
       "1792             Братья Ч  111004414 2014-04-23 12:00:00  Художественный   \n",
       "\n",
       "                                            film_studio production_country  \\\n",
       "1281  АНО содействия развитию кинематографии \"Ангел-...             Россия   \n",
       "1448                         ООО \"Компания \"АТК-Студио\"             Россия   \n",
       "1498                        ООО \"Компания \"РЕАЛ-ДАКОТА\"             Россия   \n",
       "1524                             ООО \"Студия \"Пассажир\"             Россия   \n",
       "1792                             ООО \"Студия \"Пассажир\"             Россия   \n",
       "\n",
       "                                  director  \\\n",
       "1281                            А.Атанесян   \n",
       "1448                             А.Якимчук   \n",
       "1498              Р.Давлетьяров, С.Комаров   \n",
       "1524  Е.Миндадзе (псевдоним Катя Шагалова)   \n",
       "1792                              М.Угаров   \n",
       "\n",
       "                                       producer  \\\n",
       "1281           А.Атанесян, М.Бабаханов, Р.Бутко   \n",
       "1448                                 А.Тютрюмов   \n",
       "1498  Р.Давлетьяров, А.Котелевский, А.Олейников   \n",
       "1524                                 Л.Антонова   \n",
       "1792                     А.Миндадзе, Л.Антонова   \n",
       "\n",
       "                      age_restriction  refundable_support  ...  ratings  \\\n",
       "1281  «16+» - для детей старше 16 лет                 0.0  ...      8.1   \n",
       "1448  «12+» - для детей старше 12 лет                 0.0  ...      NaN   \n",
       "1498  «12+» - для детей старше 12 лет                 0.0  ...      5.3   \n",
       "1524  «16+» - для детей старше 16 лет                 0.0  ...      4.2   \n",
       "1792  «16+» - для детей старше 16 лет                 0.0  ...      6.4   \n",
       "\n",
       "                  genres  box_office  year  \\\n",
       "1281     драма,мелодрама    365353.6  2013   \n",
       "1448                 нет     28140.0  2014   \n",
       "1498  комедия,фантастика  19957031.5  2013   \n",
       "1524               драма     55917.5  2014   \n",
       "1792               драма    232100.0  2014   \n",
       "\n",
       "                            director_first  genres_first  total_support  \\\n",
       "1281                            А.Атанесян         драма     26500000.0   \n",
       "1448                             А.Якимчук           нет     26000000.0   \n",
       "1498                         Р.Давлетьяров       комедия    107847945.0   \n",
       "1524  Е.Миндадзе (псевдоним Катя Шагалова)         драма     28000000.0   \n",
       "1792                              М.Угаров         драма     25000000.0   \n",
       "\n",
       "     %_total_support %_refundable_support  %_nonrefundable_support  \n",
       "1281        0.333703                  0.0                 0.333703  \n",
       "1448        0.700000                  0.0                 0.700000  \n",
       "1498        0.612691                  0.0                 0.612691  \n",
       "1524        0.690095                  0.0                 0.690095  \n",
       "1792        0.624764                  0.0                 0.624764  \n",
       "\n",
       "[5 rows x 23 columns]"
      ]
     },
     "execution_count": 62,
     "metadata": {},
     "output_type": "execute_result"
    }
   ],
   "source": [
    "support_data=data.query('nonrefundable_support>=0')\n",
    "support_data.head()"
   ]
  },
  {
   "cell_type": "code",
   "execution_count": 63,
   "metadata": {
    "id": "PnXKIVdFgFyR"
   },
   "outputs": [
    {
     "name": "stdout",
     "output_type": "stream",
     "text": [
      "Кол-во прокатных удостоверний у фильмов с гос.поддержкой: 307 , Кол-во фильмов с гос.поддержкой: 307\n"
     ]
    }
   ],
   "source": [
    "print('Кол-во прокатных удостоверний у фильмов с гос.поддержкой:', len(support_data['puNumber']),\n",
    "        ', Кол-во фильмов с гос.поддержкой:', len(support_data['title'].unique()))"
   ]
  },
  {
   "cell_type": "markdown",
   "metadata": {
    "id": "PnXKIVdFgFyR"
   },
   "source": [
    "Создадим таблицу с данными по фильмам без гос.поддержки"
   ]
  },
  {
   "cell_type": "code",
   "execution_count": 64,
   "metadata": {
    "id": "PnXKIVdFgFyR",
    "scrolled": true
   },
   "outputs": [
    {
     "data": {
      "text/html": [
       "<div>\n",
       "<style scoped>\n",
       "    .dataframe tbody tr th:only-of-type {\n",
       "        vertical-align: middle;\n",
       "    }\n",
       "\n",
       "    .dataframe tbody tr th {\n",
       "        vertical-align: top;\n",
       "    }\n",
       "\n",
       "    .dataframe thead th {\n",
       "        text-align: right;\n",
       "    }\n",
       "</style>\n",
       "<table border=\"1\" class=\"dataframe\">\n",
       "  <thead>\n",
       "    <tr style=\"text-align: right;\">\n",
       "      <th></th>\n",
       "      <th>title</th>\n",
       "      <th>puNumber</th>\n",
       "      <th>show_start_date</th>\n",
       "      <th>type</th>\n",
       "      <th>film_studio</th>\n",
       "      <th>production_country</th>\n",
       "      <th>director</th>\n",
       "      <th>producer</th>\n",
       "      <th>age_restriction</th>\n",
       "      <th>refundable_support</th>\n",
       "      <th>...</th>\n",
       "      <th>ratings</th>\n",
       "      <th>genres</th>\n",
       "      <th>box_office</th>\n",
       "      <th>year</th>\n",
       "      <th>director_first</th>\n",
       "      <th>genres_first</th>\n",
       "      <th>total_support</th>\n",
       "      <th>%_total_support</th>\n",
       "      <th>%_refundable_support</th>\n",
       "      <th>%_nonrefundable_support</th>\n",
       "    </tr>\n",
       "  </thead>\n",
       "  <tbody>\n",
       "    <tr>\n",
       "      <th>0</th>\n",
       "      <td>Открытый простор</td>\n",
       "      <td>221048915</td>\n",
       "      <td>2015-11-27 12:00:00</td>\n",
       "      <td>Художественный</td>\n",
       "      <td>Тачстоун Пикчерз, Кобальт Пикчерз, Бикон Пикче...</td>\n",
       "      <td>США</td>\n",
       "      <td>Кевин Костнер</td>\n",
       "      <td>Дэвид Валдес, Кевин Костнер, Джейк Эбертс</td>\n",
       "      <td>«18+» - запрещено для детей</td>\n",
       "      <td>NaN</td>\n",
       "      <td>...</td>\n",
       "      <td>7.2</td>\n",
       "      <td>боевик,драма,мелодрама</td>\n",
       "      <td>NaN</td>\n",
       "      <td>2015</td>\n",
       "      <td>Кевин Костнер</td>\n",
       "      <td>боевик</td>\n",
       "      <td>NaN</td>\n",
       "      <td>NaN</td>\n",
       "      <td>NaN</td>\n",
       "      <td>NaN</td>\n",
       "    </tr>\n",
       "    <tr>\n",
       "      <th>1</th>\n",
       "      <td>Особо важное задание</td>\n",
       "      <td>111013716</td>\n",
       "      <td>2016-09-13 12:00:00</td>\n",
       "      <td>Художественный</td>\n",
       "      <td>Киностудия \"Мосфильм\"</td>\n",
       "      <td>СССР</td>\n",
       "      <td>Е.Матвеев</td>\n",
       "      <td>нет</td>\n",
       "      <td>«6+» - для детей старше 6 лет</td>\n",
       "      <td>NaN</td>\n",
       "      <td>...</td>\n",
       "      <td>6.6</td>\n",
       "      <td>драма,военный</td>\n",
       "      <td>NaN</td>\n",
       "      <td>2016</td>\n",
       "      <td>Е.Матвеев</td>\n",
       "      <td>драма</td>\n",
       "      <td>NaN</td>\n",
       "      <td>NaN</td>\n",
       "      <td>NaN</td>\n",
       "      <td>NaN</td>\n",
       "    </tr>\n",
       "    <tr>\n",
       "      <th>2</th>\n",
       "      <td>Особо опасен</td>\n",
       "      <td>221038416</td>\n",
       "      <td>2016-10-10 12:00:00</td>\n",
       "      <td>Художественный</td>\n",
       "      <td>Юниверсал Пикчерз, Кикстарт Продакшнз, Марк Пл...</td>\n",
       "      <td>США</td>\n",
       "      <td>Тимур Бекмамбетов</td>\n",
       "      <td>Джим Лемли, Джейсон Нетер, Марк Е.Платт, Яйн Смит</td>\n",
       "      <td>«18+» - запрещено для детей</td>\n",
       "      <td>NaN</td>\n",
       "      <td>...</td>\n",
       "      <td>6.8</td>\n",
       "      <td>фантастика,боевик,триллер</td>\n",
       "      <td>NaN</td>\n",
       "      <td>2016</td>\n",
       "      <td>Тимур Бекмамбетов</td>\n",
       "      <td>фантастика</td>\n",
       "      <td>NaN</td>\n",
       "      <td>NaN</td>\n",
       "      <td>NaN</td>\n",
       "      <td>NaN</td>\n",
       "    </tr>\n",
       "    <tr>\n",
       "      <th>3</th>\n",
       "      <td>Особо опасен</td>\n",
       "      <td>221026916</td>\n",
       "      <td>2016-06-10 12:00:00</td>\n",
       "      <td>Художественный</td>\n",
       "      <td>Юниверсал Пикчерз, Кикстарт Продакшнз, Марк Пл...</td>\n",
       "      <td>США</td>\n",
       "      <td>Тимур Бекмамбетов</td>\n",
       "      <td>Джим Лемли, Джейсон Нетер, Марк Е.Платт, Яйн Смит</td>\n",
       "      <td>«18+» - запрещено для детей</td>\n",
       "      <td>NaN</td>\n",
       "      <td>...</td>\n",
       "      <td>6.8</td>\n",
       "      <td>фантастика,боевик,триллер</td>\n",
       "      <td>NaN</td>\n",
       "      <td>2016</td>\n",
       "      <td>Тимур Бекмамбетов</td>\n",
       "      <td>фантастика</td>\n",
       "      <td>NaN</td>\n",
       "      <td>NaN</td>\n",
       "      <td>NaN</td>\n",
       "      <td>NaN</td>\n",
       "    </tr>\n",
       "    <tr>\n",
       "      <th>4</th>\n",
       "      <td>Особо опасен</td>\n",
       "      <td>221030815</td>\n",
       "      <td>2015-07-29 12:00:00</td>\n",
       "      <td>Художественный</td>\n",
       "      <td>Юниверсал Пикчерз, Кикстарт Продакшнз, Марк Пл...</td>\n",
       "      <td>США</td>\n",
       "      <td>Тимур Бекмамбетов</td>\n",
       "      <td>Джим Лемли, Джейсон Нетер, Марк Е.Платт, Яйн Смит</td>\n",
       "      <td>«18+» - запрещено для детей</td>\n",
       "      <td>NaN</td>\n",
       "      <td>...</td>\n",
       "      <td>6.8</td>\n",
       "      <td>фантастика,боевик,триллер</td>\n",
       "      <td>NaN</td>\n",
       "      <td>2015</td>\n",
       "      <td>Тимур Бекмамбетов</td>\n",
       "      <td>фантастика</td>\n",
       "      <td>NaN</td>\n",
       "      <td>NaN</td>\n",
       "      <td>NaN</td>\n",
       "      <td>NaN</td>\n",
       "    </tr>\n",
       "  </tbody>\n",
       "</table>\n",
       "<p>5 rows × 23 columns</p>\n",
       "</div>"
      ],
      "text/plain": [
       "                  title   puNumber     show_start_date            type  \\\n",
       "0      Открытый простор  221048915 2015-11-27 12:00:00  Художественный   \n",
       "1  Особо важное задание  111013716 2016-09-13 12:00:00  Художественный   \n",
       "2          Особо опасен  221038416 2016-10-10 12:00:00  Художественный   \n",
       "3          Особо опасен  221026916 2016-06-10 12:00:00  Художественный   \n",
       "4          Особо опасен  221030815 2015-07-29 12:00:00  Художественный   \n",
       "\n",
       "                                         film_studio production_country  \\\n",
       "0  Тачстоун Пикчерз, Кобальт Пикчерз, Бикон Пикче...                США   \n",
       "1                              Киностудия \"Мосфильм\"               СССР   \n",
       "2  Юниверсал Пикчерз, Кикстарт Продакшнз, Марк Пл...                США   \n",
       "3  Юниверсал Пикчерз, Кикстарт Продакшнз, Марк Пл...                США   \n",
       "4  Юниверсал Пикчерз, Кикстарт Продакшнз, Марк Пл...                США   \n",
       "\n",
       "            director                                           producer  \\\n",
       "0      Кевин Костнер          Дэвид Валдес, Кевин Костнер, Джейк Эбертс   \n",
       "1          Е.Матвеев                                                нет   \n",
       "2  Тимур Бекмамбетов  Джим Лемли, Джейсон Нетер, Марк Е.Платт, Яйн Смит   \n",
       "3  Тимур Бекмамбетов  Джим Лемли, Джейсон Нетер, Марк Е.Платт, Яйн Смит   \n",
       "4  Тимур Бекмамбетов  Джим Лемли, Джейсон Нетер, Марк Е.Платт, Яйн Смит   \n",
       "\n",
       "                 age_restriction  refundable_support  ...  ratings  \\\n",
       "0    «18+» - запрещено для детей                 NaN  ...      7.2   \n",
       "1  «6+» - для детей старше 6 лет                 NaN  ...      6.6   \n",
       "2    «18+» - запрещено для детей                 NaN  ...      6.8   \n",
       "3    «18+» - запрещено для детей                 NaN  ...      6.8   \n",
       "4    «18+» - запрещено для детей                 NaN  ...      6.8   \n",
       "\n",
       "                      genres box_office  year     director_first  \\\n",
       "0     боевик,драма,мелодрама        NaN  2015      Кевин Костнер   \n",
       "1              драма,военный        NaN  2016          Е.Матвеев   \n",
       "2  фантастика,боевик,триллер        NaN  2016  Тимур Бекмамбетов   \n",
       "3  фантастика,боевик,триллер        NaN  2016  Тимур Бекмамбетов   \n",
       "4  фантастика,боевик,триллер        NaN  2015  Тимур Бекмамбетов   \n",
       "\n",
       "   genres_first  total_support %_total_support %_refundable_support  \\\n",
       "0        боевик            NaN             NaN                  NaN   \n",
       "1         драма            NaN             NaN                  NaN   \n",
       "2    фантастика            NaN             NaN                  NaN   \n",
       "3    фантастика            NaN             NaN                  NaN   \n",
       "4    фантастика            NaN             NaN                  NaN   \n",
       "\n",
       "   %_nonrefundable_support  \n",
       "0                      NaN  \n",
       "1                      NaN  \n",
       "2                      NaN  \n",
       "3                      NaN  \n",
       "4                      NaN  \n",
       "\n",
       "[5 rows x 23 columns]"
      ]
     },
     "execution_count": 64,
     "metadata": {},
     "output_type": "execute_result"
    }
   ],
   "source": [
    "no_support_data=data.query('nonrefundable_support.isnull() == True')\n",
    "no_support_data.head()"
   ]
  },
  {
   "cell_type": "code",
   "execution_count": 65,
   "metadata": {
    "id": "PnXKIVdFgFyR"
   },
   "outputs": [
    {
     "name": "stdout",
     "output_type": "stream",
     "text": [
      "Кол-во прокатных удостоверний у фильмов без гос.поддержки: 7154 , Кол-во фильмов без гос.поддержки: 6445\n"
     ]
    }
   ],
   "source": [
    "print('Кол-во прокатных удостоверний у фильмов без гос.поддержки:', len(no_support_data['puNumber']),\n",
    "        ', Кол-во фильмов без гос.поддержки:', len(no_support_data['title'].unique()))"
   ]
  },
  {
   "cell_type": "markdown",
   "metadata": {
    "id": "PnXKIVdFgFyR"
   },
   "source": [
    "Посчитаем, сколько выделяется средств на поддержку кино за весь период"
   ]
  },
  {
   "cell_type": "code",
   "execution_count": 66,
   "metadata": {
    "id": "PnXKIVdFgFyR"
   },
   "outputs": [
    {
     "name": "stdout",
     "output_type": "stream",
     "text": [
      "count    3.070000e+02\n",
      "mean     5.977107e+07\n",
      "std      7.387266e+07\n",
      "min      3.000000e+06\n",
      "25%      2.510000e+07\n",
      "50%      3.500000e+07\n",
      "75%      6.000000e+07\n",
      "max      5.000000e+08\n",
      "Name: total_support, dtype: float64\n",
      "Суммарная гос.поддержка за весь период: 18349718847\n"
     ]
    }
   ],
   "source": [
    "print(support_data['total_support'].describe())\n",
    "print('Суммарная гос.поддержка за весь период: %.0f' % support_data['total_support'].sum())"
   ]
  },
  {
   "cell_type": "markdown",
   "metadata": {
    "id": "PnXKIVdFgFyR"
   },
   "source": [
    "Посчитаем, как распределилась гос.поддержка по годам"
   ]
  },
  {
   "cell_type": "code",
   "execution_count": 67,
   "metadata": {
    "id": "PnXKIVdFgFyR"
   },
   "outputs": [
    {
     "data": {
      "text/html": [
       "<div>\n",
       "<style scoped>\n",
       "    .dataframe tbody tr th:only-of-type {\n",
       "        vertical-align: middle;\n",
       "    }\n",
       "\n",
       "    .dataframe tbody tr th {\n",
       "        vertical-align: top;\n",
       "    }\n",
       "\n",
       "    .dataframe thead th {\n",
       "        text-align: right;\n",
       "    }\n",
       "</style>\n",
       "<table border=\"1\" class=\"dataframe\">\n",
       "  <thead>\n",
       "    <tr style=\"text-align: right;\">\n",
       "      <th></th>\n",
       "      <th>sum</th>\n",
       "      <th>count</th>\n",
       "      <th>median</th>\n",
       "    </tr>\n",
       "    <tr>\n",
       "      <th>year</th>\n",
       "      <th></th>\n",
       "      <th></th>\n",
       "      <th></th>\n",
       "    </tr>\n",
       "  </thead>\n",
       "  <tbody>\n",
       "    <tr>\n",
       "      <th>2013</th>\n",
       "      <td>1.343479e+08</td>\n",
       "      <td>2</td>\n",
       "      <td>67173972.5</td>\n",
       "    </tr>\n",
       "    <tr>\n",
       "      <th>2014</th>\n",
       "      <td>5.490023e+08</td>\n",
       "      <td>15</td>\n",
       "      <td>28000000.0</td>\n",
       "    </tr>\n",
       "    <tr>\n",
       "      <th>2015</th>\n",
       "      <td>3.118241e+09</td>\n",
       "      <td>77</td>\n",
       "      <td>30000000.0</td>\n",
       "    </tr>\n",
       "    <tr>\n",
       "      <th>2016</th>\n",
       "      <td>3.977155e+09</td>\n",
       "      <td>58</td>\n",
       "      <td>35000000.0</td>\n",
       "    </tr>\n",
       "    <tr>\n",
       "      <th>2017</th>\n",
       "      <td>2.998972e+09</td>\n",
       "      <td>37</td>\n",
       "      <td>37346881.0</td>\n",
       "    </tr>\n",
       "    <tr>\n",
       "      <th>2018</th>\n",
       "      <td>2.983000e+09</td>\n",
       "      <td>51</td>\n",
       "      <td>35000000.0</td>\n",
       "    </tr>\n",
       "    <tr>\n",
       "      <th>2019</th>\n",
       "      <td>4.589000e+09</td>\n",
       "      <td>67</td>\n",
       "      <td>40000000.0</td>\n",
       "    </tr>\n",
       "  </tbody>\n",
       "</table>\n",
       "</div>"
      ],
      "text/plain": [
       "               sum  count      median\n",
       "year                                 \n",
       "2013  1.343479e+08      2  67173972.5\n",
       "2014  5.490023e+08     15  28000000.0\n",
       "2015  3.118241e+09     77  30000000.0\n",
       "2016  3.977155e+09     58  35000000.0\n",
       "2017  2.998972e+09     37  37346881.0\n",
       "2018  2.983000e+09     51  35000000.0\n",
       "2019  4.589000e+09     67  40000000.0"
      ]
     },
     "execution_count": 67,
     "metadata": {},
     "output_type": "execute_result"
    }
   ],
   "source": [
    "support_pivot=support_data.groupby('year')['total_support'].agg(['sum','count', 'median'])\n",
    "support_pivot"
   ]
  },
  {
   "cell_type": "markdown",
   "metadata": {
    "id": "PnXKIVdFgFyR"
   },
   "source": [
    "Посторим  график, отражающий зависимость между величиной гос.поддержки и годом"
   ]
  },
  {
   "cell_type": "code",
   "execution_count": 68,
   "metadata": {
    "id": "PnXKIVdFgFyR"
   },
   "outputs": [
    {
     "data": {
      "image/png": "[encoded data removed]",
      "text/plain": [
       "<Figure size 640x480 with 1 Axes>"
      ]
     },
     "metadata": {},
     "output_type": "display_data"
    }
   ],
   "source": [
    "support_pivot['sum'].plot(kind='bar', grid=True)\n",
    "plt.title('Сумма гос.поддержки по годам')\n",
    "plt.xlabel('Годы')\n",
    "plt.ylabel('Сумма гос.поддержки, млрд руб')\n",
    "plt.show()"
   ]
  },
  {
   "cell_type": "markdown",
   "metadata": {
    "id": "PnXKIVdFgFyR"
   },
   "source": [
    "Построим  график, отражающий зависимость между количеством фильмов, снятых с гос.поддержкой и годом"
   ]
  },
  {
   "cell_type": "code",
   "execution_count": 69,
   "metadata": {
    "id": "PnXKIVdFgFyR"
   },
   "outputs": [
    {
     "data": {
      "image/png": "[encoded data removed]",
      "text/plain": [
       "<Figure size 640x480 with 1 Axes>"
      ]
     },
     "metadata": {},
     "output_type": "display_data"
    }
   ],
   "source": [
    "support_pivot['count'].plot(kind='bar', grid=True)\n",
    "plt.title('Количество фильмов, снятых с гос.поддержкой, по годам')\n",
    "plt.xlabel('Годы')\n",
    "plt.ylabel('Количество фильмов')\n",
    "plt.show()"
   ]
  },
  {
   "cell_type": "markdown",
   "metadata": {
    "id": "PnXKIVdFgFyR"
   },
   "source": [
    "Посчитаем, как распределились бюджеты и кассовые сборы по годам"
   ]
  },
  {
   "cell_type": "code",
   "execution_count": 70,
   "metadata": {
    "id": "PnXKIVdFgFyR"
   },
   "outputs": [
    {
     "name": "stderr",
     "output_type": "stream",
     "text": [
      "C:\\Users\\sazon\\AppData\\Local\\Temp\\ipykernel_7716\\840325018.py:1: FutureWarning: Indexing with multiple keys (implicitly converted to a tuple of keys) will be deprecated, use a list instead.\n",
      "  net_support_pivot=support_data.groupby('year')['box_office', 'budget'].agg(['sum','count', 'median'])\n"
     ]
    },
    {
     "data": {
      "text/html": [
       "<div>\n",
       "<style scoped>\n",
       "    .dataframe tbody tr th:only-of-type {\n",
       "        vertical-align: middle;\n",
       "    }\n",
       "\n",
       "    .dataframe tbody tr th {\n",
       "        vertical-align: top;\n",
       "    }\n",
       "\n",
       "    .dataframe thead tr th {\n",
       "        text-align: left;\n",
       "    }\n",
       "\n",
       "    .dataframe thead tr:last-of-type th {\n",
       "        text-align: right;\n",
       "    }\n",
       "</style>\n",
       "<table border=\"1\" class=\"dataframe\">\n",
       "  <thead>\n",
       "    <tr>\n",
       "      <th></th>\n",
       "      <th colspan=\"3\" halign=\"left\">box_office</th>\n",
       "      <th colspan=\"3\" halign=\"left\">budget</th>\n",
       "      <th>result</th>\n",
       "    </tr>\n",
       "    <tr>\n",
       "      <th></th>\n",
       "      <th>sum</th>\n",
       "      <th>count</th>\n",
       "      <th>median</th>\n",
       "      <th>sum</th>\n",
       "      <th>count</th>\n",
       "      <th>median</th>\n",
       "      <th>sum</th>\n",
       "    </tr>\n",
       "    <tr>\n",
       "      <th>year</th>\n",
       "      <th></th>\n",
       "      <th></th>\n",
       "      <th></th>\n",
       "      <th></th>\n",
       "      <th></th>\n",
       "      <th></th>\n",
       "      <th></th>\n",
       "    </tr>\n",
       "  </thead>\n",
       "  <tbody>\n",
       "    <tr>\n",
       "      <th>2013</th>\n",
       "      <td>2.032239e+07</td>\n",
       "      <td>2</td>\n",
       "      <td>1.016119e+07</td>\n",
       "      <td>2.554354e+08</td>\n",
       "      <td>2</td>\n",
       "      <td>127717695.0</td>\n",
       "      <td>-2.351130e+08</td>\n",
       "    </tr>\n",
       "    <tr>\n",
       "      <th>2014</th>\n",
       "      <td>1.007188e+09</td>\n",
       "      <td>15</td>\n",
       "      <td>4.731240e+06</td>\n",
       "      <td>1.279485e+09</td>\n",
       "      <td>15</td>\n",
       "      <td>70876172.0</td>\n",
       "      <td>-2.722966e+08</td>\n",
       "    </tr>\n",
       "    <tr>\n",
       "      <th>2015</th>\n",
       "      <td>4.715365e+09</td>\n",
       "      <td>76</td>\n",
       "      <td>3.538065e+06</td>\n",
       "      <td>6.773184e+09</td>\n",
       "      <td>77</td>\n",
       "      <td>55404963.0</td>\n",
       "      <td>-2.057820e+09</td>\n",
       "    </tr>\n",
       "    <tr>\n",
       "      <th>2016</th>\n",
       "      <td>4.957724e+09</td>\n",
       "      <td>57</td>\n",
       "      <td>1.681433e+07</td>\n",
       "      <td>7.228943e+09</td>\n",
       "      <td>58</td>\n",
       "      <td>69655888.5</td>\n",
       "      <td>-2.271218e+09</td>\n",
       "    </tr>\n",
       "    <tr>\n",
       "      <th>2017</th>\n",
       "      <td>9.666281e+09</td>\n",
       "      <td>35</td>\n",
       "      <td>3.015617e+07</td>\n",
       "      <td>6.635078e+09</td>\n",
       "      <td>37</td>\n",
       "      <td>78096315.0</td>\n",
       "      <td>3.031203e+09</td>\n",
       "    </tr>\n",
       "    <tr>\n",
       "      <th>2018</th>\n",
       "      <td>8.940288e+09</td>\n",
       "      <td>51</td>\n",
       "      <td>2.273024e+07</td>\n",
       "      <td>6.466194e+09</td>\n",
       "      <td>51</td>\n",
       "      <td>93000000.0</td>\n",
       "      <td>2.474094e+09</td>\n",
       "    </tr>\n",
       "    <tr>\n",
       "      <th>2019</th>\n",
       "      <td>7.707502e+09</td>\n",
       "      <td>57</td>\n",
       "      <td>1.887846e+07</td>\n",
       "      <td>1.229617e+10</td>\n",
       "      <td>67</td>\n",
       "      <td>78355154.0</td>\n",
       "      <td>-4.588671e+09</td>\n",
       "    </tr>\n",
       "  </tbody>\n",
       "</table>\n",
       "</div>"
      ],
      "text/plain": [
       "        box_office                            budget                     \\\n",
       "               sum count        median           sum count       median   \n",
       "year                                                                      \n",
       "2013  2.032239e+07     2  1.016119e+07  2.554354e+08     2  127717695.0   \n",
       "2014  1.007188e+09    15  4.731240e+06  1.279485e+09    15   70876172.0   \n",
       "2015  4.715365e+09    76  3.538065e+06  6.773184e+09    77   55404963.0   \n",
       "2016  4.957724e+09    57  1.681433e+07  7.228943e+09    58   69655888.5   \n",
       "2017  9.666281e+09    35  3.015617e+07  6.635078e+09    37   78096315.0   \n",
       "2018  8.940288e+09    51  2.273024e+07  6.466194e+09    51   93000000.0   \n",
       "2019  7.707502e+09    57  1.887846e+07  1.229617e+10    67   78355154.0   \n",
       "\n",
       "            result  \n",
       "               sum  \n",
       "year                \n",
       "2013 -2.351130e+08  \n",
       "2014 -2.722966e+08  \n",
       "2015 -2.057820e+09  \n",
       "2016 -2.271218e+09  \n",
       "2017  3.031203e+09  \n",
       "2018  2.474094e+09  \n",
       "2019 -4.588671e+09  "
      ]
     },
     "execution_count": 70,
     "metadata": {},
     "output_type": "execute_result"
    }
   ],
   "source": [
    "net_support_pivot=support_data.groupby('year')['box_office', 'budget'].agg(['sum','count', 'median'])\n",
    "net_support_pivot['result','sum']=net_support_pivot['box_office','sum'] - net_support_pivot['budget','sum']\n",
    "net_support_pivot"
   ]
  },
  {
   "cell_type": "markdown",
   "metadata": {
    "id": "PnXKIVdFgFyR"
   },
   "source": [
    "Посторим  график, отражающий прибыльность фильмов с гос.поддержкой по годам"
   ]
  },
  {
   "cell_type": "code",
   "execution_count": 71,
   "metadata": {
    "id": "PnXKIVdFgFyR"
   },
   "outputs": [
    {
     "data": {
      "image/png": "[encoded data removed]",
      "text/plain": [
       "<Figure size 640x480 with 1 Axes>"
      ]
     },
     "metadata": {},
     "output_type": "display_data"
    }
   ],
   "source": [
    "net_support_pivot['result','sum'].plot(kind='bar', grid=True)\n",
    "plt.title('Кассовые сборы за минусом гос.поддержки по годам')\n",
    "plt.xlabel('Годы')\n",
    "plt.ylabel('Результат, млрд руб')\n",
    "plt.show()"
   ]
  },
  {
   "cell_type": "markdown",
   "metadata": {
    "id": "PnXKIVdFgFyR"
   },
   "source": [
    "Выведем описание рейтинга фильмов с гос.поддержкой"
   ]
  },
  {
   "cell_type": "code",
   "execution_count": 72,
   "metadata": {
    "id": "PnXKIVdFgFyR"
   },
   "outputs": [
    {
     "name": "stdout",
     "output_type": "stream",
     "text": [
      "count    292.000000\n",
      "mean       6.047945\n",
      "std        1.155100\n",
      "min        1.000000\n",
      "25%        5.400000\n",
      "50%        6.200000\n",
      "75%        6.725000\n",
      "max        9.400000\n",
      "Name: ratings, dtype: float64\n"
     ]
    }
   ],
   "source": [
    "print(support_data['ratings'].describe())"
   ]
  },
  {
   "cell_type": "markdown",
   "metadata": {
    "id": "PnXKIVdFgFyR"
   },
   "source": [
    "Выведем описание рейтинга фильмов без гос.поддержки"
   ]
  },
  {
   "cell_type": "code",
   "execution_count": 73,
   "metadata": {
    "id": "PnXKIVdFgFyR"
   },
   "outputs": [
    {
     "name": "stdout",
     "output_type": "stream",
     "text": [
      "count    6203.000000\n",
      "mean        6.511978\n",
      "std         1.107692\n",
      "min         1.100000\n",
      "25%         5.900000\n",
      "50%         6.600000\n",
      "75%         7.300000\n",
      "max         9.900000\n",
      "Name: ratings, dtype: float64\n"
     ]
    }
   ],
   "source": [
    "print(no_support_data['ratings'].describe())"
   ]
  },
  {
   "cell_type": "markdown",
   "metadata": {
    "id": "PnXKIVdFgFyR"
   },
   "source": [
    "Выведем страны, где были сняты фильмы, которые получили максимальные оценки зрителей"
   ]
  },
  {
   "cell_type": "code",
   "execution_count": 74,
   "metadata": {
    "id": "PnXKIVdFgFyR"
   },
   "outputs": [
    {
     "data": {
      "text/plain": [
       "production_country\n",
       "США                      69\n",
       "Россия                   62\n",
       "СССР                     33\n",
       "США-Великобритания       17\n",
       "Великобритания           14\n",
       "Франция                   7\n",
       "Япония                    6\n",
       "Великобритания-США        6\n",
       "США-Германия              6\n",
       "Россия-РеспубликаКипр     3\n",
       "Name: ratings, dtype: int64"
      ]
     },
     "execution_count": 74,
     "metadata": {},
     "output_type": "execute_result"
    }
   ],
   "source": [
    "data.query('ratings>8').groupby('production_country')['ratings'].count().sort_values(ascending=False).head(10)"
   ]
  },
  {
   "cell_type": "markdown",
   "metadata": {
    "id": "PnXKIVdFgFyR"
   },
   "source": [
    "Количество фильмов, вышедших в прокат за период с 2010-2019, снятых с гос.поддержкой, составляет 332.  Всего за период с 2013-2019 была оказана гос.поддержка на сумму 18,3 млрд руб. Медианное значение гос.поддержки одного фильма за весь период с 2013-2019 составляет 35 млн руб. Однако среднее значение составляет 59 млн руб. На среднее значение повлияли значительные суммыгос.поддержки некоторых фильмов (максимальная сумма гос.поддержки составила 500 млн руб). Минимальное значение гос.поддержки составило 3 млн руб.  \n",
    "Меньше всего фильмов с гос.поддержкой вышло в прокат в 2013 году (2 фильма). В 2014 году вышло 15 фильмов, а в 2015 году вышло больше всего фильмов с гос.поддержкой за весь рассматриваемый период (77 фильмов).  \n",
    "Максимальный объем гос.поддержки был предоставлен не в 2015 году (когда было выпущено максимальное количество фильмов с гос.поддержкой), а в 2019 году – 4,9 млрд руб;\n",
    "на втором месте по объему гос.поддержки за год занимает 2016 – 3.98 млрд руб.  \n",
    "Медианное значение рейтинга по фильмам с гос.поддержкой составляет 6,2, что на 0,4 меньше рейтинга фильмов без гос.поддержки. Таким образом, можно сделать вывод о том, что фильмы, снятые без участия государства, пользуются большей любовью у зрителей, чем фильмы, снятые с гом.поддержкой.\n",
    "\n",
    "\n"
   ]
  },
  {
   "cell_type": "markdown",
   "metadata": {
    "id": "V2gYwMcPgFyd"
   },
   "source": [
    "### Шаг 5. Напишите общий вывод"
   ]
  },
  {
   "cell_type": "markdown",
   "metadata": {
    "id": "PnXKIVdFgFyR"
   },
   "source": [
    "Перед нами была поставлена задача изучить рынок российского кинопроката и выявить текущие тренды. Мы получили данные о прокатных удостоверениях, сборах и государственной поддержке фильмов и сделали следующие выводы:  \n",
    "В среднем, в прокат выходило около 746 фильмов в год. Меньше всего фильмов вышло в прокат в 2017 году, больше всего фильмов вышло в 2010 году.\n",
    "\n",
    "КАССОВЫЕ СБОРЫ  \n",
    "\n",
    "Ежегодно объем кассовых сборов растет – это связано прежде всего с ростом средней величины кассовых сборов по фильмам. Минимальная общая сумма кассовых сборов составила 2,4 млн руб - это было в 2010 году. А максимальная сумма составила 48.7 млрд руб - это было в 2018 году.  \n",
    "\n",
    "ВОЗРАСТНОЕ ОГРАНИЧЕНИЕ  \n",
    "\n",
    "Наблюдается некоторая закономерность между возрастной категорией и кассовыми сборами. Например, фильмы категории 0+ почти не имеют значительных сборов. Также фильмы категории 18+ почти всегда приносят меньше сборов, чем фильмы категорий 6+/12+/16+. Это, вероятно, связано с тем, что их смотрят только совершеннолетние люди, а на фильмы категорий 6+/12+/16+ родители приходят вместе с детьми, или возможно связано с тем, что основной потребитель киноиндустрии представляет собой несовершеннолетнюю молодежь.  \n",
    "\n",
    "Фильмы, получившие максимальные оценки зрителей были сняты в основном в США, России, СССР, Великобретании и Франции.  \n",
    "\n",
    "ФИЛЬМЫ С ГОС.ПОДДЕРЖКОЙ  \n",
    "\n",
    "Количество фильмов, снятых с участием государства составляет около 4.8% от всех фильмов, выпущенных в прокат за весь рассматриваемый период. Количество фильмов, вышедших в прокат за период с 2010-2019, снятых с гос.поддержкой, составляет 307. Всего за период с 2013-2019 была оказана гос.поддержка на сумму 18.3 млрд руб. Медианное значение гос.поддержки одного фильма за весь период с 2013-2019 составляет 35 млн руб. Минимальное значение гос.поддержки составило 3 млн руб. Мы выяснили, что фильмы, снятые без участия государства, пользуются большей любовью у зрителей, чем фильмы, снятые с гом.поддержкой.  \n",
    "\n",
    "Самая распространенная возрастная категория как среди фильмов с гос.поддержкой так и без неё – это категория 16+.  \n",
    "\n",
    "Фильмы, снятые с гос.поддержкой не отличаются разнообразием жанров: 90% всех фильмов с гос.поддержкой представляют собой художественные фильмы, а оставшиеся 10% фильмов это мультфильмы. Однако, жанры фильмов, снятых без участия государства очень разнообразны. Несмотря на то, что художественные фильмы и мультфильмы также наиболее распространены, было снято много документальных, научно-популярных и прочих фильмов.  "
   ]
  }
 ],
 "metadata": {
  "ExecuteTimeLog": [
   {
    "duration": 537,
    "start_time": "2021-07-07T10:12:08.634Z"
   },
   {
    "duration": 206,
    "start_time": "2021-07-07T10:12:30.191Z"
   },
   {
    "duration": 227,
    "start_time": "2021-07-07T10:12:33.078Z"
   },
   {
    "duration": 153,
    "start_time": "2021-07-07T10:13:42.146Z"
   },
   {
    "duration": 233,
    "start_time": "2021-07-07T10:30:09.252Z"
   },
   {
    "duration": 19,
    "start_time": "2021-07-07T10:30:15.577Z"
   },
   {
    "duration": 18,
    "start_time": "2021-07-07T10:30:57.348Z"
   },
   {
    "duration": 19,
    "start_time": "2021-07-07T10:31:17.452Z"
   },
   {
    "duration": 21,
    "start_time": "2021-07-07T10:31:32.227Z"
   },
   {
    "duration": 27,
    "start_time": "2021-07-07T10:32:06.588Z"
   },
   {
    "duration": 23,
    "start_time": "2021-07-07T10:32:43.645Z"
   },
   {
    "duration": 24,
    "start_time": "2021-07-07T10:33:06.948Z"
   },
   {
    "duration": 7,
    "start_time": "2021-07-07T10:33:28.558Z"
   },
   {
    "duration": 23,
    "start_time": "2021-07-07T10:33:43.761Z"
   },
   {
    "duration": 28,
    "start_time": "2021-07-07T10:34:13.466Z"
   },
   {
    "duration": 23,
    "start_time": "2021-07-07T10:35:56.187Z"
   },
   {
    "duration": 6,
    "start_time": "2021-07-07T10:36:48.182Z"
   },
   {
    "duration": 14,
    "start_time": "2021-07-07T10:37:49.641Z"
   },
   {
    "duration": 6,
    "start_time": "2021-07-07T10:38:06.694Z"
   },
   {
    "duration": 6,
    "start_time": "2021-07-07T10:38:13.493Z"
   },
   {
    "duration": 19,
    "start_time": "2021-07-07T10:38:44.056Z"
   },
   {
    "duration": 186,
    "start_time": "2021-07-07T10:48:35.618Z"
   },
   {
    "duration": 24,
    "start_time": "2021-07-07T10:48:51.498Z"
   },
   {
    "duration": 20,
    "start_time": "2021-07-07T10:48:59.415Z"
   },
   {
    "duration": 20,
    "start_time": "2021-07-07T10:53:02.195Z"
   },
   {
    "duration": 188,
    "start_time": "2021-07-07T10:54:40.486Z"
   },
   {
    "duration": 115,
    "start_time": "2021-07-07T10:54:52.552Z"
   },
   {
    "duration": 214,
    "start_time": "2021-07-07T10:54:56.354Z"
   },
   {
    "duration": 47,
    "start_time": "2021-07-07T10:54:58.282Z"
   },
   {
    "duration": 217,
    "start_time": "2021-07-07T10:59:16.075Z"
   },
   {
    "duration": 51,
    "start_time": "2021-07-07T10:59:16.243Z"
   },
   {
    "duration": 578,
    "start_time": "2021-07-07T10:59:18.774Z"
   },
   {
    "duration": 161,
    "start_time": "2021-07-07T10:59:21.238Z"
   },
   {
    "duration": 59,
    "start_time": "2021-07-07T10:59:21.453Z"
   },
   {
    "duration": 3,
    "start_time": "2021-07-07T11:02:10.786Z"
   },
   {
    "duration": 13,
    "start_time": "2021-07-07T11:07:07.722Z"
   },
   {
    "duration": 26,
    "start_time": "2021-07-07T11:07:17.958Z"
   },
   {
    "duration": 22,
    "start_time": "2021-07-07T11:08:17.939Z"
   },
   {
    "duration": 212,
    "start_time": "2021-07-07T11:08:19.665Z"
   },
   {
    "duration": 21,
    "start_time": "2021-07-07T11:08:29.945Z"
   },
   {
    "duration": 31,
    "start_time": "2021-07-07T11:08:38.899Z"
   },
   {
    "duration": 23,
    "start_time": "2021-07-07T11:08:54.527Z"
   },
   {
    "duration": 8,
    "start_time": "2021-07-07T11:18:55.974Z"
   },
   {
    "duration": 7,
    "start_time": "2021-07-07T11:19:03.639Z"
   },
   {
    "duration": 7,
    "start_time": "2021-07-07T11:19:06.444Z"
   },
   {
    "duration": 578,
    "start_time": "2021-07-07T12:09:59.576Z"
   },
   {
    "duration": 195,
    "start_time": "2021-07-07T12:10:00.156Z"
   },
   {
    "duration": 115,
    "start_time": "2021-07-07T12:10:00.353Z"
   },
   {
    "duration": 3,
    "start_time": "2021-07-07T12:10:00.470Z"
   },
   {
    "duration": 32,
    "start_time": "2021-07-07T12:10:00.474Z"
   },
   {
    "duration": 23,
    "start_time": "2021-07-07T12:10:00.508Z"
   },
   {
    "duration": 19,
    "start_time": "2021-07-07T12:10:00.533Z"
   },
   {
    "duration": 44,
    "start_time": "2021-07-07T12:10:00.553Z"
   },
   {
    "duration": 7,
    "start_time": "2021-07-07T12:10:00.600Z"
   },
   {
    "duration": 7,
    "start_time": "2021-07-07T12:19:45.761Z"
   },
   {
    "duration": 21,
    "start_time": "2021-07-07T12:21:35.482Z"
   },
   {
    "duration": 21,
    "start_time": "2021-07-07T12:29:23.569Z"
   },
   {
    "duration": 525,
    "start_time": "2021-07-07T12:29:44.542Z"
   },
   {
    "duration": 214,
    "start_time": "2021-07-07T12:29:45.069Z"
   },
   {
    "duration": 92,
    "start_time": "2021-07-07T12:29:45.285Z"
   },
   {
    "duration": 3,
    "start_time": "2021-07-07T12:29:45.379Z"
   },
   {
    "duration": 28,
    "start_time": "2021-07-07T12:29:45.384Z"
   },
   {
    "duration": 23,
    "start_time": "2021-07-07T12:29:45.413Z"
   },
   {
    "duration": 21,
    "start_time": "2021-07-07T12:29:45.437Z"
   },
   {
    "duration": 41,
    "start_time": "2021-07-07T12:29:45.460Z"
   },
   {
    "duration": 7,
    "start_time": "2021-07-07T12:29:45.502Z"
   },
   {
    "duration": 20,
    "start_time": "2021-07-07T12:29:45.511Z"
   },
   {
    "duration": 12,
    "start_time": "2021-07-07T12:34:02.800Z"
   },
   {
    "duration": 7,
    "start_time": "2021-07-07T12:35:10.479Z"
   },
   {
    "duration": 8,
    "start_time": "2021-07-07T12:35:22.440Z"
   },
   {
    "duration": 6,
    "start_time": "2021-07-07T12:35:35.649Z"
   },
   {
    "duration": 6,
    "start_time": "2021-07-07T12:35:43.107Z"
   },
   {
    "duration": 22,
    "start_time": "2021-07-07T12:38:03.029Z"
   },
   {
    "duration": 10,
    "start_time": "2021-07-07T12:38:06.592Z"
   },
   {
    "duration": 563,
    "start_time": "2021-07-07T12:38:46.493Z"
   },
   {
    "duration": 265,
    "start_time": "2021-07-07T12:38:47.058Z"
   },
   {
    "duration": 94,
    "start_time": "2021-07-07T12:38:47.325Z"
   },
   {
    "duration": 3,
    "start_time": "2021-07-07T12:38:47.422Z"
   },
   {
    "duration": 30,
    "start_time": "2021-07-07T12:38:47.427Z"
   },
   {
    "duration": 16,
    "start_time": "2021-07-07T12:38:53.305Z"
   },
   {
    "duration": 10,
    "start_time": "2021-07-07T12:38:53.499Z"
   },
   {
    "duration": 8,
    "start_time": "2021-07-07T12:39:48.161Z"
   },
   {
    "duration": 27,
    "start_time": "2021-07-07T12:41:17.629Z"
   },
   {
    "duration": 17,
    "start_time": "2021-07-07T12:41:17.867Z"
   },
   {
    "duration": 21,
    "start_time": "2021-07-07T12:41:19.310Z"
   },
   {
    "duration": 7,
    "start_time": "2021-07-07T12:41:19.544Z"
   },
   {
    "duration": 20,
    "start_time": "2021-07-07T12:41:20.504Z"
   },
   {
    "duration": 554,
    "start_time": "2021-07-07T12:56:23.696Z"
   },
   {
    "duration": 200,
    "start_time": "2021-07-07T12:56:25.234Z"
   },
   {
    "duration": 119,
    "start_time": "2021-07-07T12:56:25.480Z"
   },
   {
    "duration": 4,
    "start_time": "2021-07-07T12:56:25.762Z"
   },
   {
    "duration": 26,
    "start_time": "2021-07-07T12:56:27.172Z"
   },
   {
    "duration": 12,
    "start_time": "2021-07-07T12:56:29.051Z"
   },
   {
    "duration": 10,
    "start_time": "2021-07-07T12:56:29.291Z"
   },
   {
    "duration": 8,
    "start_time": "2021-07-07T12:56:29.623Z"
   },
   {
    "duration": 28,
    "start_time": "2021-07-07T12:56:32.137Z"
   },
   {
    "duration": 19,
    "start_time": "2021-07-07T12:56:39.785Z"
   },
   {
    "duration": 20,
    "start_time": "2021-07-07T12:56:44.297Z"
   },
   {
    "duration": 7,
    "start_time": "2021-07-07T12:56:45.392Z"
   },
   {
    "duration": 23,
    "start_time": "2021-07-07T12:56:46.615Z"
   },
   {
    "duration": 4,
    "start_time": "2021-07-07T12:57:06.625Z"
   },
   {
    "duration": 32,
    "start_time": "2021-07-07T12:57:36.690Z"
   },
   {
    "duration": 18,
    "start_time": "2021-07-07T12:58:00.149Z"
   },
   {
    "duration": 15,
    "start_time": "2021-07-07T12:59:16.793Z"
   },
   {
    "duration": 7,
    "start_time": "2021-07-07T13:19:22.624Z"
   },
   {
    "duration": 6,
    "start_time": "2021-07-07T14:17:33.527Z"
   },
   {
    "duration": 9,
    "start_time": "2021-07-07T14:17:48.409Z"
   },
   {
    "duration": 8,
    "start_time": "2021-07-07T14:20:13.060Z"
   },
   {
    "duration": 8,
    "start_time": "2021-07-07T14:20:37.957Z"
   },
   {
    "duration": 8,
    "start_time": "2021-07-07T14:20:47.470Z"
   },
   {
    "duration": 9,
    "start_time": "2021-07-07T14:20:54.503Z"
   },
   {
    "duration": 10,
    "start_time": "2021-07-07T14:28:57.763Z"
   },
   {
    "duration": 3,
    "start_time": "2021-07-07T14:30:23.377Z"
   },
   {
    "duration": 3,
    "start_time": "2021-07-07T14:30:36.489Z"
   },
   {
    "duration": 103,
    "start_time": "2021-07-07T14:30:52.351Z"
   },
   {
    "duration": 8,
    "start_time": "2021-07-07T14:30:54.763Z"
   },
   {
    "duration": 8,
    "start_time": "2021-07-07T14:31:29.301Z"
   },
   {
    "duration": 13,
    "start_time": "2021-07-07T14:31:44.516Z"
   },
   {
    "duration": 7,
    "start_time": "2021-07-07T14:33:10.972Z"
   },
   {
    "duration": 11,
    "start_time": "2021-07-07T14:33:27.780Z"
   },
   {
    "duration": 8,
    "start_time": "2021-07-07T14:34:44.588Z"
   },
   {
    "duration": 57,
    "start_time": "2021-07-07T14:35:59.042Z"
   },
   {
    "duration": 3,
    "start_time": "2021-07-07T14:36:28.168Z"
   },
   {
    "duration": 5,
    "start_time": "2021-07-07T14:36:46.254Z"
   },
   {
    "duration": 4,
    "start_time": "2021-07-07T14:36:52.714Z"
   },
   {
    "duration": 3,
    "start_time": "2021-07-07T14:36:56.612Z"
   },
   {
    "duration": 4,
    "start_time": "2021-07-07T14:36:57.049Z"
   },
   {
    "duration": 3,
    "start_time": "2021-07-07T14:39:21.214Z"
   },
   {
    "duration": 7,
    "start_time": "2021-07-07T14:39:52.406Z"
   },
   {
    "duration": 11,
    "start_time": "2021-07-07T14:39:58.576Z"
   },
   {
    "duration": 9,
    "start_time": "2021-07-07T14:40:26.301Z"
   },
   {
    "duration": 10,
    "start_time": "2021-07-07T14:40:31.704Z"
   },
   {
    "duration": 11,
    "start_time": "2021-07-07T14:40:36.249Z"
   },
   {
    "duration": 10,
    "start_time": "2021-07-07T14:40:39.783Z"
   },
   {
    "duration": 9,
    "start_time": "2021-07-07T14:40:48.558Z"
   },
   {
    "duration": 10,
    "start_time": "2021-07-07T14:40:57.143Z"
   },
   {
    "duration": 9,
    "start_time": "2021-07-07T14:41:06.074Z"
   },
   {
    "duration": 4324,
    "start_time": "2021-07-07T14:41:22.004Z"
   },
   {
    "duration": 11,
    "start_time": "2021-07-07T14:41:33.392Z"
   },
   {
    "duration": 9,
    "start_time": "2021-07-07T14:41:39.288Z"
   },
   {
    "duration": 569,
    "start_time": "2021-07-07T14:42:14.387Z"
   },
   {
    "duration": 197,
    "start_time": "2021-07-07T14:42:14.959Z"
   },
   {
    "duration": 84,
    "start_time": "2021-07-07T14:42:16.052Z"
   },
   {
    "duration": 4,
    "start_time": "2021-07-07T14:42:16.900Z"
   },
   {
    "duration": 27,
    "start_time": "2021-07-07T14:42:19.898Z"
   },
   {
    "duration": 12,
    "start_time": "2021-07-07T14:42:21.577Z"
   },
   {
    "duration": 9,
    "start_time": "2021-07-07T14:42:21.813Z"
   },
   {
    "duration": 9,
    "start_time": "2021-07-07T14:42:22.569Z"
   },
   {
    "duration": 29,
    "start_time": "2021-07-07T14:42:25.837Z"
   },
   {
    "duration": 20,
    "start_time": "2021-07-07T14:42:27.003Z"
   },
   {
    "duration": 21,
    "start_time": "2021-07-07T14:42:28.767Z"
   },
   {
    "duration": 7,
    "start_time": "2021-07-07T14:42:29.838Z"
   },
   {
    "duration": 4,
    "start_time": "2021-07-07T14:43:25.493Z"
   },
   {
    "duration": 7,
    "start_time": "2021-07-07T14:43:26.573Z"
   },
   {
    "duration": 10,
    "start_time": "2021-07-07T14:43:31.639Z"
   },
   {
    "duration": 9,
    "start_time": "2021-07-07T14:43:32.046Z"
   },
   {
    "duration": 10,
    "start_time": "2021-07-07T14:43:33.301Z"
   },
   {
    "duration": 12,
    "start_time": "2021-07-07T14:43:33.658Z"
   },
   {
    "duration": 8,
    "start_time": "2021-07-07T14:43:34.552Z"
   },
   {
    "duration": 9,
    "start_time": "2021-07-07T14:43:35.058Z"
   },
   {
    "duration": 12,
    "start_time": "2021-07-07T14:43:35.914Z"
   },
   {
    "duration": 17,
    "start_time": "2021-07-07T14:45:34.368Z"
   },
   {
    "duration": 512,
    "start_time": "2021-07-07T14:51:58.236Z"
   },
   {
    "duration": 223,
    "start_time": "2021-07-07T14:51:58.750Z"
   },
   {
    "duration": 93,
    "start_time": "2021-07-07T14:51:58.977Z"
   },
   {
    "duration": 4,
    "start_time": "2021-07-07T14:51:59.071Z"
   },
   {
    "duration": 37,
    "start_time": "2021-07-07T14:51:59.077Z"
   },
   {
    "duration": 18,
    "start_time": "2021-07-07T14:51:59.116Z"
   },
   {
    "duration": 10,
    "start_time": "2021-07-07T14:51:59.137Z"
   },
   {
    "duration": 8,
    "start_time": "2021-07-07T14:51:59.149Z"
   },
   {
    "duration": 54,
    "start_time": "2021-07-07T14:51:59.158Z"
   },
   {
    "duration": 18,
    "start_time": "2021-07-07T14:51:59.213Z"
   },
   {
    "duration": 22,
    "start_time": "2021-07-07T14:51:59.232Z"
   },
   {
    "duration": 36,
    "start_time": "2021-07-07T14:51:59.255Z"
   },
   {
    "duration": 7,
    "start_time": "2021-07-07T14:51:59.293Z"
   },
   {
    "duration": 10,
    "start_time": "2021-07-07T14:51:59.302Z"
   },
   {
    "duration": 9,
    "start_time": "2021-07-07T14:51:59.313Z"
   },
   {
    "duration": 11,
    "start_time": "2021-07-07T14:51:59.324Z"
   },
   {
    "duration": 8,
    "start_time": "2021-07-07T14:51:59.337Z"
   },
   {
    "duration": 46,
    "start_time": "2021-07-07T14:51:59.347Z"
   },
   {
    "duration": 22,
    "start_time": "2021-07-07T14:51:59.395Z"
   },
   {
    "duration": 24,
    "start_time": "2021-07-07T14:57:32.911Z"
   },
   {
    "duration": 7,
    "start_time": "2021-07-07T14:58:22.070Z"
   },
   {
    "duration": 4,
    "start_time": "2021-07-07T14:59:11.239Z"
   },
   {
    "duration": 25,
    "start_time": "2021-07-07T15:07:22.208Z"
   },
   {
    "duration": 16,
    "start_time": "2021-07-07T15:08:25.560Z"
   },
   {
    "duration": 15,
    "start_time": "2021-07-07T15:08:40.647Z"
   },
   {
    "duration": 14,
    "start_time": "2021-07-07T15:08:46.669Z"
   },
   {
    "duration": 533,
    "start_time": "2021-07-07T15:18:07.440Z"
   },
   {
    "duration": 173,
    "start_time": "2021-07-07T15:18:07.974Z"
   },
   {
    "duration": 84,
    "start_time": "2021-07-07T15:18:08.149Z"
   },
   {
    "duration": 3,
    "start_time": "2021-07-07T15:18:08.235Z"
   },
   {
    "duration": 30,
    "start_time": "2021-07-07T15:18:08.240Z"
   },
   {
    "duration": 22,
    "start_time": "2021-07-07T15:18:08.272Z"
   },
   {
    "duration": 11,
    "start_time": "2021-07-07T15:18:08.295Z"
   },
   {
    "duration": 11,
    "start_time": "2021-07-07T15:18:08.309Z"
   },
   {
    "duration": 40,
    "start_time": "2021-07-07T15:18:08.322Z"
   },
   {
    "duration": 42,
    "start_time": "2021-07-07T15:18:08.364Z"
   },
   {
    "duration": 22,
    "start_time": "2021-07-07T15:18:08.408Z"
   },
   {
    "duration": 5,
    "start_time": "2021-07-07T15:18:08.432Z"
   },
   {
    "duration": 13,
    "start_time": "2021-07-07T15:18:08.439Z"
   },
   {
    "duration": 9,
    "start_time": "2021-07-07T15:18:08.454Z"
   },
   {
    "duration": 32,
    "start_time": "2021-07-07T15:18:08.465Z"
   },
   {
    "duration": 10,
    "start_time": "2021-07-07T15:18:08.501Z"
   },
   {
    "duration": 7,
    "start_time": "2021-07-07T15:18:08.513Z"
   },
   {
    "duration": 11,
    "start_time": "2021-07-07T15:18:08.521Z"
   },
   {
    "duration": 17,
    "start_time": "2021-07-07T15:18:08.534Z"
   },
   {
    "duration": 44,
    "start_time": "2021-07-07T15:18:08.553Z"
   },
   {
    "duration": 22,
    "start_time": "2021-07-07T15:18:08.599Z"
   },
   {
    "duration": 61,
    "start_time": "2021-07-07T15:18:08.622Z"
   },
   {
    "duration": 7,
    "start_time": "2021-07-07T15:18:39.457Z"
   },
   {
    "duration": 5,
    "start_time": "2021-07-07T16:05:17.020Z"
   },
   {
    "duration": 5,
    "start_time": "2021-07-07T16:51:28.794Z"
   },
   {
    "duration": 546,
    "start_time": "2021-07-07T16:52:26.306Z"
   },
   {
    "duration": 203,
    "start_time": "2021-07-07T16:52:27.523Z"
   },
   {
    "duration": 85,
    "start_time": "2021-07-07T16:52:27.736Z"
   },
   {
    "duration": 4,
    "start_time": "2021-07-07T16:52:27.899Z"
   },
   {
    "duration": 25,
    "start_time": "2021-07-07T16:52:28.674Z"
   },
   {
    "duration": 8,
    "start_time": "2021-07-07T16:52:32.956Z"
   },
   {
    "duration": 18,
    "start_time": "2021-07-07T16:52:35.616Z"
   },
   {
    "duration": 6,
    "start_time": "2021-07-07T16:52:36.913Z"
   },
   {
    "duration": 11,
    "start_time": "2021-07-07T16:52:40.258Z"
   },
   {
    "duration": 10,
    "start_time": "2021-07-07T16:52:46.251Z"
   },
   {
    "duration": 8,
    "start_time": "2021-07-07T16:52:47.182Z"
   },
   {
    "duration": 27,
    "start_time": "2021-07-07T16:53:20.391Z"
   },
   {
    "duration": 20,
    "start_time": "2021-07-07T16:53:22.022Z"
   },
   {
    "duration": 23,
    "start_time": "2021-07-07T16:53:23.690Z"
   },
   {
    "duration": 8,
    "start_time": "2021-07-07T16:53:24.261Z"
   },
   {
    "duration": 4,
    "start_time": "2021-07-07T16:53:38.733Z"
   },
   {
    "duration": 7,
    "start_time": "2021-07-07T16:53:40.445Z"
   },
   {
    "duration": 11,
    "start_time": "2021-07-07T16:53:41.348Z"
   },
   {
    "duration": 13,
    "start_time": "2021-07-07T16:53:45.250Z"
   },
   {
    "duration": 12,
    "start_time": "2021-07-07T16:53:45.467Z"
   },
   {
    "duration": 4,
    "start_time": "2021-07-07T16:55:32.704Z"
   },
   {
    "duration": 12,
    "start_time": "2021-07-07T16:55:49.012Z"
   },
   {
    "duration": 18,
    "start_time": "2021-07-07T16:55:49.547Z"
   },
   {
    "duration": 611,
    "start_time": "2021-07-07T16:58:35.156Z"
   },
   {
    "duration": 200,
    "start_time": "2021-07-07T16:58:35.770Z"
   },
   {
    "duration": 86,
    "start_time": "2021-07-07T16:58:35.972Z"
   },
   {
    "duration": 3,
    "start_time": "2021-07-07T16:58:36.060Z"
   },
   {
    "duration": 27,
    "start_time": "2021-07-07T16:58:36.065Z"
   },
   {
    "duration": 8,
    "start_time": "2021-07-07T16:58:36.094Z"
   },
   {
    "duration": 17,
    "start_time": "2021-07-07T16:58:36.103Z"
   },
   {
    "duration": 5,
    "start_time": "2021-07-07T16:58:36.123Z"
   },
   {
    "duration": 11,
    "start_time": "2021-07-07T16:58:36.130Z"
   },
   {
    "duration": 7,
    "start_time": "2021-07-07T16:58:36.143Z"
   },
   {
    "duration": 37,
    "start_time": "2021-07-07T16:58:36.152Z"
   },
   {
    "duration": 27,
    "start_time": "2021-07-07T16:58:36.191Z"
   },
   {
    "duration": 19,
    "start_time": "2021-07-07T16:58:36.219Z"
   },
   {
    "duration": 49,
    "start_time": "2021-07-07T16:58:36.240Z"
   },
   {
    "duration": 6,
    "start_time": "2021-07-07T16:58:36.291Z"
   },
   {
    "duration": 3,
    "start_time": "2021-07-07T16:58:36.299Z"
   },
   {
    "duration": 13,
    "start_time": "2021-07-07T16:58:36.304Z"
   },
   {
    "duration": 10,
    "start_time": "2021-07-07T16:58:36.319Z"
   },
   {
    "duration": 10,
    "start_time": "2021-07-07T16:58:36.331Z"
   },
   {
    "duration": 44,
    "start_time": "2021-07-07T16:58:36.343Z"
   },
   {
    "duration": 4,
    "start_time": "2021-07-07T16:58:36.388Z"
   },
   {
    "duration": 13,
    "start_time": "2021-07-07T16:58:36.394Z"
   },
   {
    "duration": 16,
    "start_time": "2021-07-07T16:58:36.410Z"
   },
   {
    "duration": 8,
    "start_time": "2021-07-07T17:02:31.629Z"
   },
   {
    "duration": 8,
    "start_time": "2021-07-07T17:02:34.308Z"
   },
   {
    "duration": 6,
    "start_time": "2021-07-07T17:05:13.483Z"
   },
   {
    "duration": 17,
    "start_time": "2021-07-07T17:05:20.606Z"
   },
   {
    "duration": 7,
    "start_time": "2021-07-07T17:05:34.638Z"
   },
   {
    "duration": 3,
    "start_time": "2021-07-07T17:06:31.883Z"
   },
   {
    "duration": 570,
    "start_time": "2021-07-07T17:06:37.165Z"
   },
   {
    "duration": 174,
    "start_time": "2021-07-07T17:06:37.737Z"
   },
   {
    "duration": 47,
    "start_time": "2021-07-07T17:06:37.913Z"
   },
   {
    "duration": 3,
    "start_time": "2021-07-07T17:06:37.962Z"
   },
   {
    "duration": 27,
    "start_time": "2021-07-07T17:06:37.967Z"
   },
   {
    "duration": 7,
    "start_time": "2021-07-07T17:06:37.996Z"
   },
   {
    "duration": 16,
    "start_time": "2021-07-07T17:06:38.005Z"
   },
   {
    "duration": 6,
    "start_time": "2021-07-07T17:06:38.024Z"
   },
   {
    "duration": 12,
    "start_time": "2021-07-07T17:06:38.031Z"
   },
   {
    "duration": 41,
    "start_time": "2021-07-07T17:06:38.045Z"
   },
   {
    "duration": 8,
    "start_time": "2021-07-07T17:06:38.088Z"
   },
   {
    "duration": 26,
    "start_time": "2021-07-07T17:06:38.098Z"
   },
   {
    "duration": 17,
    "start_time": "2021-07-07T17:06:38.126Z"
   },
   {
    "duration": 43,
    "start_time": "2021-07-07T17:06:38.144Z"
   },
   {
    "duration": 6,
    "start_time": "2021-07-07T17:06:38.188Z"
   },
   {
    "duration": 5,
    "start_time": "2021-07-07T17:06:38.195Z"
   },
   {
    "duration": 9,
    "start_time": "2021-07-07T17:06:38.201Z"
   },
   {
    "duration": 12,
    "start_time": "2021-07-07T17:06:38.212Z"
   },
   {
    "duration": 11,
    "start_time": "2021-07-07T17:06:38.226Z"
   },
   {
    "duration": 47,
    "start_time": "2021-07-07T17:06:38.239Z"
   },
   {
    "duration": 4,
    "start_time": "2021-07-07T17:06:38.288Z"
   },
   {
    "duration": 13,
    "start_time": "2021-07-07T17:06:38.293Z"
   },
   {
    "duration": 5,
    "start_time": "2021-07-07T17:06:38.309Z"
   },
   {
    "duration": 18,
    "start_time": "2021-07-07T17:06:38.325Z"
   },
   {
    "duration": 20,
    "start_time": "2021-07-07T17:07:02.805Z"
   },
   {
    "duration": 19,
    "start_time": "2021-07-07T17:07:08.527Z"
   },
   {
    "duration": 19,
    "start_time": "2021-07-07T17:07:12.758Z"
   },
   {
    "duration": 22,
    "start_time": "2021-07-07T17:07:17.497Z"
   },
   {
    "duration": 19,
    "start_time": "2021-07-07T17:07:19.645Z"
   },
   {
    "duration": 10,
    "start_time": "2021-07-07T17:07:34.239Z"
   },
   {
    "duration": 17,
    "start_time": "2021-07-07T17:07:54.144Z"
   },
   {
    "duration": 14,
    "start_time": "2021-07-07T17:08:14.357Z"
   },
   {
    "duration": 616,
    "start_time": "2021-07-07T17:08:45.254Z"
   },
   {
    "duration": 178,
    "start_time": "2021-07-07T17:08:45.872Z"
   },
   {
    "duration": 60,
    "start_time": "2021-07-07T17:08:46.054Z"
   },
   {
    "duration": 3,
    "start_time": "2021-07-07T17:08:46.116Z"
   },
   {
    "duration": 26,
    "start_time": "2021-07-07T17:08:46.121Z"
   },
   {
    "duration": 7,
    "start_time": "2021-07-07T17:08:46.149Z"
   },
   {
    "duration": 17,
    "start_time": "2021-07-07T17:08:46.158Z"
   },
   {
    "duration": 14,
    "start_time": "2021-07-07T17:08:46.176Z"
   },
   {
    "duration": 17,
    "start_time": "2021-07-07T17:08:46.193Z"
   },
   {
    "duration": 9,
    "start_time": "2021-07-07T17:08:46.211Z"
   },
   {
    "duration": 21,
    "start_time": "2021-07-07T17:08:46.221Z"
   },
   {
    "duration": 49,
    "start_time": "2021-07-07T17:08:46.244Z"
   },
   {
    "duration": 24,
    "start_time": "2021-07-07T17:08:46.295Z"
   },
   {
    "duration": 22,
    "start_time": "2021-07-07T17:08:46.321Z"
   },
   {
    "duration": 6,
    "start_time": "2021-07-07T17:08:46.345Z"
   },
   {
    "duration": 5,
    "start_time": "2021-07-07T17:08:46.353Z"
   },
   {
    "duration": 13,
    "start_time": "2021-07-07T17:08:46.386Z"
   },
   {
    "duration": 12,
    "start_time": "2021-07-07T17:08:46.402Z"
   },
   {
    "duration": 10,
    "start_time": "2021-07-07T17:08:46.415Z"
   },
   {
    "duration": 7,
    "start_time": "2021-07-07T17:08:46.427Z"
   },
   {
    "duration": 8,
    "start_time": "2021-07-07T17:08:46.435Z"
   },
   {
    "duration": 68,
    "start_time": "2021-07-07T17:08:46.446Z"
   },
   {
    "duration": 13,
    "start_time": "2021-07-07T17:08:46.516Z"
   },
   {
    "duration": 78,
    "start_time": "2021-07-07T17:08:46.530Z"
   },
   {
    "duration": 40,
    "start_time": "2021-07-07T17:09:08.185Z"
   },
   {
    "duration": 16,
    "start_time": "2021-07-07T17:09:19.324Z"
   },
   {
    "duration": 21,
    "start_time": "2021-07-07T17:09:23.290Z"
   },
   {
    "duration": 13,
    "start_time": "2021-07-07T17:09:54.812Z"
   },
   {
    "duration": 13,
    "start_time": "2021-07-07T17:10:02.039Z"
   },
   {
    "duration": 10,
    "start_time": "2021-07-07T17:10:29.632Z"
   },
   {
    "duration": 13,
    "start_time": "2021-07-07T17:10:52.372Z"
   },
   {
    "duration": 13,
    "start_time": "2021-07-07T17:11:17.270Z"
   },
   {
    "duration": 13,
    "start_time": "2021-07-07T17:14:59.284Z"
   },
   {
    "duration": 547,
    "start_time": "2021-07-07T17:18:52.403Z"
   },
   {
    "duration": 163,
    "start_time": "2021-07-07T17:18:52.952Z"
   },
   {
    "duration": 44,
    "start_time": "2021-07-07T17:18:53.117Z"
   },
   {
    "duration": 3,
    "start_time": "2021-07-07T17:18:53.162Z"
   },
   {
    "duration": 26,
    "start_time": "2021-07-07T17:18:53.167Z"
   },
   {
    "duration": 6,
    "start_time": "2021-07-07T17:18:53.195Z"
   },
   {
    "duration": 15,
    "start_time": "2021-07-07T17:18:53.203Z"
   },
   {
    "duration": 5,
    "start_time": "2021-07-07T17:18:53.220Z"
   },
   {
    "duration": 11,
    "start_time": "2021-07-07T17:18:53.228Z"
   },
   {
    "duration": 9,
    "start_time": "2021-07-07T17:18:53.241Z"
   },
   {
    "duration": 41,
    "start_time": "2021-07-07T17:18:53.252Z"
   },
   {
    "duration": 33,
    "start_time": "2021-07-07T17:18:53.295Z"
   },
   {
    "duration": 19,
    "start_time": "2021-07-07T17:18:53.330Z"
   },
   {
    "duration": 49,
    "start_time": "2021-07-07T17:18:53.350Z"
   },
   {
    "duration": 5,
    "start_time": "2021-07-07T17:18:53.401Z"
   },
   {
    "duration": 5,
    "start_time": "2021-07-07T17:18:53.408Z"
   },
   {
    "duration": 11,
    "start_time": "2021-07-07T17:18:53.414Z"
   },
   {
    "duration": 9,
    "start_time": "2021-07-07T17:18:53.427Z"
   },
   {
    "duration": 10,
    "start_time": "2021-07-07T17:18:53.437Z"
   },
   {
    "duration": 39,
    "start_time": "2021-07-07T17:18:53.448Z"
   },
   {
    "duration": 26,
    "start_time": "2021-07-07T17:18:55.799Z"
   },
   {
    "duration": 598,
    "start_time": "2021-07-07T17:20:17.862Z"
   },
   {
    "duration": 161,
    "start_time": "2021-07-07T17:20:18.462Z"
   },
   {
    "duration": 45,
    "start_time": "2021-07-07T17:20:18.626Z"
   },
   {
    "duration": 4,
    "start_time": "2021-07-07T17:20:18.673Z"
   },
   {
    "duration": 38,
    "start_time": "2021-07-07T17:20:26.877Z"
   },
   {
    "duration": 7,
    "start_time": "2021-07-07T17:20:37.405Z"
   },
   {
    "duration": 19,
    "start_time": "2021-07-07T17:20:51.534Z"
   },
   {
    "duration": 5,
    "start_time": "2021-07-07T17:20:57.228Z"
   },
   {
    "duration": 7,
    "start_time": "2021-07-07T17:21:08.235Z"
   },
   {
    "duration": 19,
    "start_time": "2021-07-07T17:21:42.158Z"
   },
   {
    "duration": 14,
    "start_time": "2021-07-07T17:21:50.225Z"
   },
   {
    "duration": 22,
    "start_time": "2021-07-07T17:22:54.104Z"
   },
   {
    "duration": 5,
    "start_time": "2021-07-07T17:22:56.371Z"
   },
   {
    "duration": 14,
    "start_time": "2021-07-07T17:22:58.316Z"
   },
   {
    "duration": 5,
    "start_time": "2021-07-07T17:22:58.493Z"
   },
   {
    "duration": 35,
    "start_time": "2021-07-07T17:22:59.666Z"
   },
   {
    "duration": 6,
    "start_time": "2021-07-07T17:23:02.410Z"
   },
   {
    "duration": 611,
    "start_time": "2021-07-07T17:24:59.664Z"
   },
   {
    "duration": 178,
    "start_time": "2021-07-07T17:25:01.945Z"
   },
   {
    "duration": 47,
    "start_time": "2021-07-07T17:25:02.125Z"
   },
   {
    "duration": 2,
    "start_time": "2021-07-07T17:25:07.903Z"
   },
   {
    "duration": 254,
    "start_time": "2021-07-07T17:25:08.232Z"
   },
   {
    "duration": 182,
    "start_time": "2021-07-07T17:25:08.671Z"
   },
   {
    "duration": 6,
    "start_time": "2021-07-07T17:25:13.104Z"
   },
   {
    "duration": 36,
    "start_time": "2021-07-07T17:25:13.662Z"
   },
   {
    "duration": 7,
    "start_time": "2021-07-07T17:25:14.528Z"
   },
   {
    "duration": 24,
    "start_time": "2021-07-07T17:25:27.982Z"
   },
   {
    "duration": 3,
    "start_time": "2021-07-07T17:25:48.982Z"
   },
   {
    "duration": 165,
    "start_time": "2021-07-07T17:25:48.987Z"
   },
   {
    "duration": 50,
    "start_time": "2021-07-07T17:25:49.154Z"
   },
   {
    "duration": 4,
    "start_time": "2021-07-07T17:25:49.206Z"
   },
   {
    "duration": 26,
    "start_time": "2021-07-07T17:25:49.212Z"
   },
   {
    "duration": 7,
    "start_time": "2021-07-07T17:25:49.240Z"
   },
   {
    "duration": 16,
    "start_time": "2021-07-07T17:25:49.249Z"
   },
   {
    "duration": 22,
    "start_time": "2021-07-07T17:25:49.266Z"
   },
   {
    "duration": 16,
    "start_time": "2021-07-07T17:25:49.291Z"
   },
   {
    "duration": 9,
    "start_time": "2021-07-07T17:25:49.309Z"
   },
   {
    "duration": 7,
    "start_time": "2021-07-07T17:25:49.319Z"
   },
   {
    "duration": 28,
    "start_time": "2021-07-07T17:25:49.328Z"
   },
   {
    "duration": 44,
    "start_time": "2021-07-07T17:25:49.357Z"
   },
   {
    "duration": 22,
    "start_time": "2021-07-07T17:25:49.403Z"
   },
   {
    "duration": 7,
    "start_time": "2021-07-07T17:25:49.427Z"
   },
   {
    "duration": 3,
    "start_time": "2021-07-07T17:25:49.436Z"
   },
   {
    "duration": 44,
    "start_time": "2021-07-07T17:25:49.441Z"
   },
   {
    "duration": 12,
    "start_time": "2021-07-07T17:25:49.488Z"
   },
   {
    "duration": 13,
    "start_time": "2021-07-07T17:25:49.502Z"
   },
   {
    "duration": 10,
    "start_time": "2021-07-07T17:25:49.516Z"
   },
   {
    "duration": 62,
    "start_time": "2021-07-07T17:25:49.527Z"
   },
   {
    "duration": 26,
    "start_time": "2021-07-07T17:26:51.809Z"
   },
   {
    "duration": 26,
    "start_time": "2021-07-07T17:26:55.759Z"
   },
   {
    "duration": 26,
    "start_time": "2021-07-07T17:27:04.501Z"
   },
   {
    "duration": 25,
    "start_time": "2021-07-07T17:28:24.859Z"
   },
   {
    "duration": 21,
    "start_time": "2021-07-07T17:28:55.250Z"
   },
   {
    "duration": 21,
    "start_time": "2021-07-07T17:28:58.885Z"
   },
   {
    "duration": 7,
    "start_time": "2021-07-07T17:45:40.972Z"
   },
   {
    "duration": 13,
    "start_time": "2021-07-07T17:45:42.529Z"
   },
   {
    "duration": 27,
    "start_time": "2021-07-07T17:45:51.026Z"
   },
   {
    "duration": 518,
    "start_time": "2021-07-07T17:46:15.532Z"
   },
   {
    "duration": 235,
    "start_time": "2021-07-07T17:46:16.053Z"
   },
   {
    "duration": 80,
    "start_time": "2021-07-07T17:46:16.292Z"
   },
   {
    "duration": 5,
    "start_time": "2021-07-07T17:46:16.373Z"
   },
   {
    "duration": 26,
    "start_time": "2021-07-07T17:46:16.380Z"
   },
   {
    "duration": 7,
    "start_time": "2021-07-07T17:46:16.408Z"
   },
   {
    "duration": 16,
    "start_time": "2021-07-07T17:46:16.418Z"
   },
   {
    "duration": 5,
    "start_time": "2021-07-07T17:46:16.436Z"
   },
   {
    "duration": 13,
    "start_time": "2021-07-07T17:46:16.442Z"
   },
   {
    "duration": 35,
    "start_time": "2021-07-07T17:46:16.456Z"
   },
   {
    "duration": 8,
    "start_time": "2021-07-07T17:46:16.493Z"
   },
   {
    "duration": 28,
    "start_time": "2021-07-07T17:46:16.502Z"
   },
   {
    "duration": 17,
    "start_time": "2021-07-07T17:46:16.532Z"
   },
   {
    "duration": 44,
    "start_time": "2021-07-07T17:46:16.551Z"
   },
   {
    "duration": 6,
    "start_time": "2021-07-07T17:46:16.597Z"
   },
   {
    "duration": 4,
    "start_time": "2021-07-07T17:46:16.605Z"
   },
   {
    "duration": 9,
    "start_time": "2021-07-07T17:46:16.610Z"
   },
   {
    "duration": 9,
    "start_time": "2021-07-07T17:46:16.621Z"
   },
   {
    "duration": 10,
    "start_time": "2021-07-07T17:46:16.632Z"
   },
   {
    "duration": 43,
    "start_time": "2021-07-07T17:46:16.644Z"
   },
   {
    "duration": 26,
    "start_time": "2021-07-07T17:46:16.689Z"
   },
   {
    "duration": 19,
    "start_time": "2021-07-07T17:46:16.718Z"
   },
   {
    "duration": 8,
    "start_time": "2021-07-07T17:46:16.738Z"
   },
   {
    "duration": 43,
    "start_time": "2021-07-07T17:46:16.747Z"
   },
   {
    "duration": 19,
    "start_time": "2021-07-07T17:46:16.791Z"
   },
   {
    "duration": 9,
    "start_time": "2021-07-07T17:46:16.812Z"
   },
   {
    "duration": 60,
    "start_time": "2021-07-07T17:46:16.822Z"
   },
   {
    "duration": -8,
    "start_time": "2021-07-07T17:46:16.892Z"
   },
   {
    "duration": 12,
    "start_time": "2021-07-07T17:48:47.707Z"
   },
   {
    "duration": 553,
    "start_time": "2021-07-07T18:10:09.350Z"
   },
   {
    "duration": 230,
    "start_time": "2021-07-07T18:10:09.905Z"
   },
   {
    "duration": 97,
    "start_time": "2021-07-07T18:10:10.137Z"
   },
   {
    "duration": 5,
    "start_time": "2021-07-07T18:10:10.236Z"
   },
   {
    "duration": 29,
    "start_time": "2021-07-07T18:10:10.242Z"
   },
   {
    "duration": 7,
    "start_time": "2021-07-07T18:10:10.272Z"
   },
   {
    "duration": 15,
    "start_time": "2021-07-07T18:10:10.281Z"
   },
   {
    "duration": 4,
    "start_time": "2021-07-07T18:10:10.299Z"
   },
   {
    "duration": 14,
    "start_time": "2021-07-07T18:10:10.305Z"
   },
   {
    "duration": 8,
    "start_time": "2021-07-07T18:10:10.321Z"
   },
   {
    "duration": 8,
    "start_time": "2021-07-07T18:10:10.331Z"
   },
   {
    "duration": 56,
    "start_time": "2021-07-07T18:10:10.341Z"
   },
   {
    "duration": 19,
    "start_time": "2021-07-07T18:10:10.399Z"
   },
   {
    "duration": 23,
    "start_time": "2021-07-07T18:10:10.419Z"
   },
   {
    "duration": 6,
    "start_time": "2021-07-07T18:10:10.444Z"
   },
   {
    "duration": 9,
    "start_time": "2021-07-07T18:10:10.451Z"
   },
   {
    "duration": 30,
    "start_time": "2021-07-07T18:10:10.462Z"
   },
   {
    "duration": 9,
    "start_time": "2021-07-07T18:10:10.494Z"
   },
   {
    "duration": 14,
    "start_time": "2021-07-07T18:10:10.505Z"
   },
   {
    "duration": 7,
    "start_time": "2021-07-07T18:10:10.521Z"
   },
   {
    "duration": 26,
    "start_time": "2021-07-07T18:10:10.530Z"
   },
   {
    "duration": 44,
    "start_time": "2021-07-07T18:10:10.558Z"
   },
   {
    "duration": 7,
    "start_time": "2021-07-07T18:10:10.605Z"
   },
   {
    "duration": 11,
    "start_time": "2021-07-07T18:10:10.614Z"
   },
   {
    "duration": 19,
    "start_time": "2021-07-07T18:10:10.626Z"
   },
   {
    "duration": 44,
    "start_time": "2021-07-07T18:10:10.646Z"
   },
   {
    "duration": 516,
    "start_time": "2021-07-07T18:14:00.826Z"
   },
   {
    "duration": 230,
    "start_time": "2021-07-07T18:14:01.344Z"
   },
   {
    "duration": 105,
    "start_time": "2021-07-07T18:14:01.576Z"
   },
   {
    "duration": 5,
    "start_time": "2021-07-07T18:14:01.683Z"
   },
   {
    "duration": 46,
    "start_time": "2021-07-07T18:14:01.690Z"
   },
   {
    "duration": 7,
    "start_time": "2021-07-07T18:14:01.738Z"
   },
   {
    "duration": 20,
    "start_time": "2021-07-07T18:14:01.747Z"
   },
   {
    "duration": 16,
    "start_time": "2021-07-07T18:14:01.769Z"
   },
   {
    "duration": 14,
    "start_time": "2021-07-07T18:14:01.787Z"
   },
   {
    "duration": 15,
    "start_time": "2021-07-07T18:14:01.803Z"
   },
   {
    "duration": 12,
    "start_time": "2021-07-07T18:14:01.820Z"
   },
   {
    "duration": 35,
    "start_time": "2021-07-07T18:14:01.833Z"
   },
   {
    "duration": 31,
    "start_time": "2021-07-07T18:14:01.869Z"
   },
   {
    "duration": 37,
    "start_time": "2021-07-07T18:14:01.902Z"
   },
   {
    "duration": 8,
    "start_time": "2021-07-07T18:14:01.942Z"
   },
   {
    "duration": 16,
    "start_time": "2021-07-07T18:14:01.952Z"
   },
   {
    "duration": 13,
    "start_time": "2021-07-07T18:14:01.970Z"
   },
   {
    "duration": 32,
    "start_time": "2021-07-07T18:14:01.985Z"
   },
   {
    "duration": 11,
    "start_time": "2021-07-07T18:14:02.019Z"
   },
   {
    "duration": 22,
    "start_time": "2021-07-07T18:14:02.031Z"
   },
   {
    "duration": 27,
    "start_time": "2021-07-07T18:14:02.055Z"
   },
   {
    "duration": 18,
    "start_time": "2021-07-07T18:14:02.084Z"
   },
   {
    "duration": 18,
    "start_time": "2021-07-07T18:14:02.106Z"
   },
   {
    "duration": 11,
    "start_time": "2021-07-07T18:14:02.126Z"
   },
   {
    "duration": 21,
    "start_time": "2021-07-07T18:14:02.138Z"
   },
   {
    "duration": 32,
    "start_time": "2021-07-07T18:14:02.161Z"
   },
   {
    "duration": 28,
    "start_time": "2021-07-07T18:14:44.295Z"
   },
   {
    "duration": 6,
    "start_time": "2021-07-07T18:15:05.834Z"
   },
   {
    "duration": 511,
    "start_time": "2021-07-07T18:15:41.541Z"
   },
   {
    "duration": 183,
    "start_time": "2021-07-07T18:15:42.054Z"
   },
   {
    "duration": 50,
    "start_time": "2021-07-07T18:15:42.239Z"
   },
   {
    "duration": 5,
    "start_time": "2021-07-07T18:15:42.291Z"
   },
   {
    "duration": 48,
    "start_time": "2021-07-07T18:15:42.297Z"
   },
   {
    "duration": 8,
    "start_time": "2021-07-07T18:15:42.346Z"
   },
   {
    "duration": 17,
    "start_time": "2021-07-07T18:15:42.356Z"
   },
   {
    "duration": 15,
    "start_time": "2021-07-07T18:15:42.375Z"
   },
   {
    "duration": 12,
    "start_time": "2021-07-07T18:15:42.392Z"
   },
   {
    "duration": 7,
    "start_time": "2021-07-07T18:15:42.406Z"
   },
   {
    "duration": 7,
    "start_time": "2021-07-07T18:15:42.415Z"
   },
   {
    "duration": 29,
    "start_time": "2021-07-07T18:15:42.423Z"
   },
   {
    "duration": 43,
    "start_time": "2021-07-07T18:15:42.453Z"
   },
   {
    "duration": 18,
    "start_time": "2021-07-07T18:15:42.497Z"
   },
   {
    "duration": 6,
    "start_time": "2021-07-07T18:15:42.516Z"
   },
   {
    "duration": 3,
    "start_time": "2021-07-07T18:15:42.523Z"
   },
   {
    "duration": 18,
    "start_time": "2021-07-07T18:15:42.528Z"
   },
   {
    "duration": 10,
    "start_time": "2021-07-07T18:15:42.547Z"
   },
   {
    "duration": 36,
    "start_time": "2021-07-07T18:15:42.559Z"
   },
   {
    "duration": 8,
    "start_time": "2021-07-07T18:15:42.597Z"
   },
   {
    "duration": 28,
    "start_time": "2021-07-07T18:15:42.606Z"
   },
   {
    "duration": 52,
    "start_time": "2021-07-07T18:15:42.635Z"
   },
   {
    "duration": 7,
    "start_time": "2021-07-07T18:15:42.690Z"
   },
   {
    "duration": 10,
    "start_time": "2021-07-07T18:15:42.699Z"
   },
   {
    "duration": 19,
    "start_time": "2021-07-07T18:15:42.711Z"
   },
   {
    "duration": 9,
    "start_time": "2021-07-07T18:15:42.732Z"
   },
   {
    "duration": 5,
    "start_time": "2021-07-07T18:15:42.743Z"
   },
   {
    "duration": 1450,
    "start_time": "2021-07-07T18:15:51.984Z"
   },
   {
    "duration": 161,
    "start_time": "2021-07-07T18:15:53.435Z"
   },
   {
    "duration": 124,
    "start_time": "2021-07-07T18:15:53.598Z"
   },
   {
    "duration": 5,
    "start_time": "2021-07-07T18:15:53.724Z"
   },
   {
    "duration": 34,
    "start_time": "2021-07-07T18:15:53.730Z"
   },
   {
    "duration": 7,
    "start_time": "2021-07-07T18:15:53.765Z"
   },
   {
    "duration": 15,
    "start_time": "2021-07-07T18:15:53.773Z"
   },
   {
    "duration": 5,
    "start_time": "2021-07-07T18:15:53.791Z"
   },
   {
    "duration": 19,
    "start_time": "2021-07-07T18:15:53.798Z"
   },
   {
    "duration": 9,
    "start_time": "2021-07-07T18:15:53.818Z"
   },
   {
    "duration": 19,
    "start_time": "2021-07-07T18:15:53.828Z"
   },
   {
    "duration": 27,
    "start_time": "2021-07-07T18:15:53.848Z"
   },
   {
    "duration": 16,
    "start_time": "2021-07-07T18:15:53.884Z"
   },
   {
    "duration": 29,
    "start_time": "2021-07-07T18:15:53.901Z"
   },
   {
    "duration": 5,
    "start_time": "2021-07-07T18:15:53.932Z"
   },
   {
    "duration": 15,
    "start_time": "2021-07-07T18:15:53.939Z"
   },
   {
    "duration": 13,
    "start_time": "2021-07-07T18:15:53.956Z"
   },
   {
    "duration": 20,
    "start_time": "2021-07-07T18:15:53.971Z"
   },
   {
    "duration": 14,
    "start_time": "2021-07-07T18:15:53.992Z"
   },
   {
    "duration": 9,
    "start_time": "2021-07-07T18:15:54.009Z"
   },
   {
    "duration": 28,
    "start_time": "2021-07-07T18:15:54.020Z"
   },
   {
    "duration": 50,
    "start_time": "2021-07-07T18:15:54.051Z"
   },
   {
    "duration": 8,
    "start_time": "2021-07-07T18:15:54.105Z"
   },
   {
    "duration": 11,
    "start_time": "2021-07-07T18:15:54.115Z"
   },
   {
    "duration": 20,
    "start_time": "2021-07-07T18:15:54.128Z"
   },
   {
    "duration": 13,
    "start_time": "2021-07-07T18:15:54.184Z"
   },
   {
    "duration": 7,
    "start_time": "2021-07-07T18:15:54.199Z"
   },
   {
    "duration": 7,
    "start_time": "2021-07-07T18:17:08.042Z"
   },
   {
    "duration": 8,
    "start_time": "2021-07-07T18:17:21.008Z"
   },
   {
    "duration": 7,
    "start_time": "2021-07-07T18:17:29.003Z"
   },
   {
    "duration": 8,
    "start_time": "2021-07-07T18:17:32.492Z"
   },
   {
    "duration": 9,
    "start_time": "2021-07-07T18:17:41.758Z"
   },
   {
    "duration": 255,
    "start_time": "2021-07-07T18:20:20.897Z"
   },
   {
    "duration": 173,
    "start_time": "2021-07-07T18:20:26.636Z"
   },
   {
    "duration": 7,
    "start_time": "2021-07-07T18:21:47.164Z"
   },
   {
    "duration": 254,
    "start_time": "2021-07-07T18:23:08.703Z"
   },
   {
    "duration": 21,
    "start_time": "2021-07-07T18:23:22.506Z"
   },
   {
    "duration": 315,
    "start_time": "2021-07-07T18:25:54.801Z"
   },
   {
    "duration": 34,
    "start_time": "2021-07-07T18:26:51.817Z"
   },
   {
    "duration": 327,
    "start_time": "2021-07-07T18:26:56.147Z"
   },
   {
    "duration": 342,
    "start_time": "2021-07-07T18:27:15.887Z"
   },
   {
    "duration": 302,
    "start_time": "2021-07-07T18:28:18.569Z"
   },
   {
    "duration": 226,
    "start_time": "2021-07-07T18:29:20.879Z"
   },
   {
    "duration": 207,
    "start_time": "2021-07-07T18:29:58.114Z"
   },
   {
    "duration": 140,
    "start_time": "2021-07-07T18:32:04.372Z"
   },
   {
    "duration": 158,
    "start_time": "2021-07-07T18:32:32.508Z"
   },
   {
    "duration": 145,
    "start_time": "2021-07-07T18:32:41.365Z"
   },
   {
    "duration": 132,
    "start_time": "2021-07-07T18:32:45.199Z"
   },
   {
    "duration": 11,
    "start_time": "2021-07-07T18:35:24.679Z"
   },
   {
    "duration": 268,
    "start_time": "2021-07-07T18:36:16.145Z"
   },
   {
    "duration": 227,
    "start_time": "2021-07-07T18:37:04.918Z"
   },
   {
    "duration": 3,
    "start_time": "2021-07-07T18:37:33.012Z"
   },
   {
    "duration": 671,
    "start_time": "2021-07-07T18:37:38.295Z"
   },
   {
    "duration": 54,
    "start_time": "2021-07-07T18:37:53.406Z"
   },
   {
    "duration": 631,
    "start_time": "2021-07-07T18:37:56.463Z"
   },
   {
    "duration": 19,
    "start_time": "2021-07-07T18:39:40.535Z"
   },
   {
    "duration": 20,
    "start_time": "2021-07-07T18:40:12.236Z"
   },
   {
    "duration": 633,
    "start_time": "2021-07-07T18:42:00.398Z"
   },
   {
    "duration": 218,
    "start_time": "2021-07-07T18:42:01.033Z"
   },
   {
    "duration": 49,
    "start_time": "2021-07-07T18:42:01.253Z"
   },
   {
    "duration": 5,
    "start_time": "2021-07-07T18:42:01.303Z"
   },
   {
    "duration": 27,
    "start_time": "2021-07-07T18:42:01.310Z"
   },
   {
    "duration": 8,
    "start_time": "2021-07-07T18:42:01.339Z"
   },
   {
    "duration": 20,
    "start_time": "2021-07-07T18:42:01.348Z"
   },
   {
    "duration": 6,
    "start_time": "2021-07-07T18:42:01.386Z"
   },
   {
    "duration": 16,
    "start_time": "2021-07-07T18:42:01.394Z"
   },
   {
    "duration": 9,
    "start_time": "2021-07-07T18:42:01.411Z"
   },
   {
    "duration": 11,
    "start_time": "2021-07-07T18:42:01.421Z"
   },
   {
    "duration": 31,
    "start_time": "2021-07-07T18:42:01.434Z"
   },
   {
    "duration": 18,
    "start_time": "2021-07-07T18:42:01.485Z"
   },
   {
    "duration": 23,
    "start_time": "2021-07-07T18:42:01.505Z"
   },
   {
    "duration": 6,
    "start_time": "2021-07-07T18:42:01.530Z"
   },
   {
    "duration": 10,
    "start_time": "2021-07-07T18:42:01.538Z"
   },
   {
    "duration": 13,
    "start_time": "2021-07-07T18:42:01.550Z"
   },
   {
    "duration": 24,
    "start_time": "2021-07-07T18:42:01.564Z"
   },
   {
    "duration": 20,
    "start_time": "2021-07-07T18:42:01.590Z"
   },
   {
    "duration": 8,
    "start_time": "2021-07-07T18:42:01.611Z"
   },
   {
    "duration": 31,
    "start_time": "2021-07-07T18:42:01.620Z"
   },
   {
    "duration": 39,
    "start_time": "2021-07-07T18:42:01.653Z"
   },
   {
    "duration": 8,
    "start_time": "2021-07-07T18:42:01.696Z"
   },
   {
    "duration": 13,
    "start_time": "2021-07-07T18:42:01.705Z"
   },
   {
    "duration": 20,
    "start_time": "2021-07-07T18:42:01.720Z"
   },
   {
    "duration": 12,
    "start_time": "2021-07-07T18:42:01.741Z"
   },
   {
    "duration": 35,
    "start_time": "2021-07-07T18:42:01.755Z"
   },
   {
    "duration": 14,
    "start_time": "2021-07-07T18:42:01.792Z"
   },
   {
    "duration": 188,
    "start_time": "2021-07-07T18:42:01.808Z"
   },
   {
    "duration": 19,
    "start_time": "2021-07-07T18:42:01.998Z"
   },
   {
    "duration": 175,
    "start_time": "2021-07-07T18:42:02.019Z"
   },
   {
    "duration": 134,
    "start_time": "2021-07-07T18:42:02.196Z"
   },
   {
    "duration": 10,
    "start_time": "2021-07-07T18:42:02.331Z"
   },
   {
    "duration": 19,
    "start_time": "2021-07-07T18:42:02.343Z"
   },
   {
    "duration": 628,
    "start_time": "2021-07-07T18:46:30.701Z"
   },
   {
    "duration": 183,
    "start_time": "2021-07-07T18:46:31.331Z"
   },
   {
    "duration": 48,
    "start_time": "2021-07-07T18:46:31.516Z"
   },
   {
    "duration": 5,
    "start_time": "2021-07-07T18:46:31.566Z"
   },
   {
    "duration": 28,
    "start_time": "2021-07-07T18:46:31.572Z"
   },
   {
    "duration": 8,
    "start_time": "2021-07-07T18:46:31.602Z"
   },
   {
    "duration": 19,
    "start_time": "2021-07-07T18:46:31.611Z"
   },
   {
    "duration": 6,
    "start_time": "2021-07-07T18:46:31.633Z"
   },
   {
    "duration": 17,
    "start_time": "2021-07-07T18:46:31.642Z"
   },
   {
    "duration": 10,
    "start_time": "2021-07-07T18:46:31.684Z"
   },
   {
    "duration": 9,
    "start_time": "2021-07-07T18:46:31.695Z"
   },
   {
    "duration": 28,
    "start_time": "2021-07-07T18:46:31.705Z"
   },
   {
    "duration": 18,
    "start_time": "2021-07-07T18:46:31.735Z"
   },
   {
    "duration": 48,
    "start_time": "2021-07-07T18:46:31.755Z"
   },
   {
    "duration": 6,
    "start_time": "2021-07-07T18:46:31.804Z"
   },
   {
    "duration": 4,
    "start_time": "2021-07-07T18:46:31.812Z"
   },
   {
    "duration": 9,
    "start_time": "2021-07-07T18:46:31.817Z"
   },
   {
    "duration": 10,
    "start_time": "2021-07-07T18:46:31.827Z"
   },
   {
    "duration": 12,
    "start_time": "2021-07-07T18:46:31.838Z"
   },
   {
    "duration": 39,
    "start_time": "2021-07-07T18:46:31.851Z"
   },
   {
    "duration": 24,
    "start_time": "2021-07-07T18:46:31.892Z"
   },
   {
    "duration": 15,
    "start_time": "2021-07-07T18:46:31.918Z"
   },
   {
    "duration": 7,
    "start_time": "2021-07-07T18:46:31.936Z"
   },
   {
    "duration": 8,
    "start_time": "2021-07-07T18:46:31.944Z"
   },
   {
    "duration": 19,
    "start_time": "2021-07-07T18:46:31.984Z"
   },
   {
    "duration": 10,
    "start_time": "2021-07-07T18:46:32.004Z"
   },
   {
    "duration": 5,
    "start_time": "2021-07-07T18:46:32.016Z"
   },
   {
    "duration": 9,
    "start_time": "2021-07-07T18:46:32.023Z"
   },
   {
    "duration": 199,
    "start_time": "2021-07-07T18:46:32.033Z"
   },
   {
    "duration": 19,
    "start_time": "2021-07-07T18:46:32.234Z"
   },
   {
    "duration": 159,
    "start_time": "2021-07-07T18:46:32.255Z"
   },
   {
    "duration": 134,
    "start_time": "2021-07-07T18:46:32.416Z"
   },
   {
    "duration": 10,
    "start_time": "2021-07-07T18:46:32.552Z"
   },
   {
    "duration": 34,
    "start_time": "2021-07-07T18:46:32.563Z"
   },
   {
    "duration": 1039,
    "start_time": "2021-07-08T08:41:09.419Z"
   },
   {
    "duration": 333,
    "start_time": "2021-07-08T08:41:10.459Z"
   },
   {
    "duration": 173,
    "start_time": "2021-07-08T08:41:10.794Z"
   },
   {
    "duration": 5,
    "start_time": "2021-07-08T08:41:10.968Z"
   },
   {
    "duration": 25,
    "start_time": "2021-07-08T08:41:10.975Z"
   },
   {
    "duration": 9,
    "start_time": "2021-07-08T08:41:11.002Z"
   },
   {
    "duration": 18,
    "start_time": "2021-07-08T08:41:11.013Z"
   },
   {
    "duration": 6,
    "start_time": "2021-07-08T08:41:11.033Z"
   },
   {
    "duration": 44,
    "start_time": "2021-07-08T08:41:11.042Z"
   },
   {
    "duration": 10,
    "start_time": "2021-07-08T08:41:11.088Z"
   },
   {
    "duration": 9,
    "start_time": "2021-07-08T08:41:11.100Z"
   },
   {
    "duration": 27,
    "start_time": "2021-07-08T08:41:11.111Z"
   },
   {
    "duration": 46,
    "start_time": "2021-07-08T08:41:11.140Z"
   },
   {
    "duration": 17,
    "start_time": "2021-07-08T08:41:11.187Z"
   },
   {
    "duration": 6,
    "start_time": "2021-07-08T08:41:11.206Z"
   },
   {
    "duration": 5,
    "start_time": "2021-07-08T08:41:11.213Z"
   },
   {
    "duration": 10,
    "start_time": "2021-07-08T08:41:11.219Z"
   },
   {
    "duration": 9,
    "start_time": "2021-07-08T08:41:11.230Z"
   },
   {
    "duration": 45,
    "start_time": "2021-07-08T08:41:11.241Z"
   },
   {
    "duration": 7,
    "start_time": "2021-07-08T08:41:11.287Z"
   },
   {
    "duration": 24,
    "start_time": "2021-07-08T08:41:11.296Z"
   },
   {
    "duration": 16,
    "start_time": "2021-07-08T08:41:11.322Z"
   },
   {
    "duration": 7,
    "start_time": "2021-07-08T08:41:11.341Z"
   },
   {
    "duration": 41,
    "start_time": "2021-07-08T08:41:11.349Z"
   },
   {
    "duration": 17,
    "start_time": "2021-07-08T08:41:11.391Z"
   },
   {
    "duration": 9,
    "start_time": "2021-07-08T08:41:11.410Z"
   },
   {
    "duration": 5,
    "start_time": "2021-07-08T08:41:11.421Z"
   },
   {
    "duration": 6,
    "start_time": "2021-07-08T08:41:11.428Z"
   },
   {
    "duration": 198,
    "start_time": "2021-07-08T08:41:11.435Z"
   },
   {
    "duration": 18,
    "start_time": "2021-07-08T08:41:11.635Z"
   },
   {
    "duration": 155,
    "start_time": "2021-07-08T08:41:11.655Z"
   },
   {
    "duration": 138,
    "start_time": "2021-07-08T08:41:11.811Z"
   },
   {
    "duration": 10,
    "start_time": "2021-07-08T08:41:11.950Z"
   },
   {
    "duration": 29,
    "start_time": "2021-07-08T08:41:11.961Z"
   },
   {
    "duration": 171,
    "start_time": "2021-07-08T08:47:44.522Z"
   },
   {
    "duration": 124,
    "start_time": "2021-07-08T08:47:46.872Z"
   },
   {
    "duration": 191,
    "start_time": "2021-07-08T08:47:58.148Z"
   },
   {
    "duration": 191,
    "start_time": "2021-07-08T08:48:07.412Z"
   },
   {
    "duration": 261,
    "start_time": "2021-07-08T08:48:10.385Z"
   },
   {
    "duration": 255,
    "start_time": "2021-07-08T08:48:14.494Z"
   },
   {
    "duration": 219,
    "start_time": "2021-07-08T08:48:22.752Z"
   },
   {
    "duration": 173,
    "start_time": "2021-07-08T08:49:06.395Z"
   },
   {
    "duration": 180,
    "start_time": "2021-07-08T08:49:21.011Z"
   },
   {
    "duration": 6,
    "start_time": "2021-07-08T08:50:31.697Z"
   },
   {
    "duration": 10,
    "start_time": "2021-07-08T08:50:47.394Z"
   },
   {
    "duration": 11,
    "start_time": "2021-07-08T08:53:49.332Z"
   },
   {
    "duration": 171,
    "start_time": "2021-07-08T08:54:28.408Z"
   },
   {
    "duration": 636,
    "start_time": "2021-07-08T09:02:48.385Z"
   },
   {
    "duration": 227,
    "start_time": "2021-07-08T09:02:49.023Z"
   },
   {
    "duration": 104,
    "start_time": "2021-07-08T09:02:49.252Z"
   },
   {
    "duration": 5,
    "start_time": "2021-07-08T09:02:49.358Z"
   },
   {
    "duration": 27,
    "start_time": "2021-07-08T09:02:49.365Z"
   },
   {
    "duration": 8,
    "start_time": "2021-07-08T09:02:49.394Z"
   },
   {
    "duration": 18,
    "start_time": "2021-07-08T09:02:49.404Z"
   },
   {
    "duration": 6,
    "start_time": "2021-07-08T09:02:49.424Z"
   },
   {
    "duration": 11,
    "start_time": "2021-07-08T09:02:49.433Z"
   },
   {
    "duration": 13,
    "start_time": "2021-07-08T09:02:49.485Z"
   },
   {
    "duration": 9,
    "start_time": "2021-07-08T09:02:49.500Z"
   },
   {
    "duration": 38,
    "start_time": "2021-07-08T09:02:49.511Z"
   },
   {
    "duration": 42,
    "start_time": "2021-07-08T09:02:49.551Z"
   },
   {
    "duration": 21,
    "start_time": "2021-07-08T09:02:49.594Z"
   },
   {
    "duration": 6,
    "start_time": "2021-07-08T09:02:49.616Z"
   },
   {
    "duration": 3,
    "start_time": "2021-07-08T09:02:49.623Z"
   },
   {
    "duration": 9,
    "start_time": "2021-07-08T09:02:49.628Z"
   },
   {
    "duration": 52,
    "start_time": "2021-07-08T09:02:49.638Z"
   },
   {
    "duration": 11,
    "start_time": "2021-07-08T09:02:49.692Z"
   },
   {
    "duration": 8,
    "start_time": "2021-07-08T09:02:49.704Z"
   },
   {
    "duration": 27,
    "start_time": "2021-07-08T09:02:49.713Z"
   },
   {
    "duration": 59,
    "start_time": "2021-07-08T09:02:49.741Z"
   },
   {
    "duration": 8,
    "start_time": "2021-07-08T09:02:49.803Z"
   },
   {
    "duration": 14,
    "start_time": "2021-07-08T09:02:49.813Z"
   },
   {
    "duration": 20,
    "start_time": "2021-07-08T09:02:49.829Z"
   },
   {
    "duration": 44,
    "start_time": "2021-07-08T09:02:49.851Z"
   },
   {
    "duration": 14,
    "start_time": "2021-07-08T09:02:49.896Z"
   },
   {
    "duration": 221,
    "start_time": "2021-07-08T09:02:49.912Z"
   },
   {
    "duration": 6,
    "start_time": "2021-07-08T09:02:50.134Z"
   },
   {
    "duration": 206,
    "start_time": "2021-07-08T09:02:50.142Z"
   },
   {
    "duration": 19,
    "start_time": "2021-07-08T09:02:50.350Z"
   },
   {
    "duration": 21,
    "start_time": "2021-07-08T09:02:50.370Z"
   },
   {
    "duration": 20,
    "start_time": "2021-07-08T09:02:50.393Z"
   },
   {
    "duration": 5,
    "start_time": "2021-07-08T09:02:50.414Z"
   },
   {
    "duration": 5,
    "start_time": "2021-07-08T09:03:34.173Z"
   },
   {
    "duration": 6,
    "start_time": "2021-07-08T09:04:49.062Z"
   },
   {
    "duration": 9,
    "start_time": "2021-07-08T09:04:50.118Z"
   },
   {
    "duration": 14,
    "start_time": "2021-07-08T09:04:58.512Z"
   },
   {
    "duration": 9,
    "start_time": "2021-07-08T09:05:10.988Z"
   },
   {
    "duration": 11,
    "start_time": "2021-07-08T09:05:11.743Z"
   },
   {
    "duration": 7,
    "start_time": "2021-07-08T09:05:25.677Z"
   },
   {
    "duration": 13,
    "start_time": "2021-07-08T09:05:47.189Z"
   },
   {
    "duration": 13,
    "start_time": "2021-07-08T09:05:54.755Z"
   },
   {
    "duration": 4,
    "start_time": "2021-07-08T09:06:29.189Z"
   },
   {
    "duration": 244,
    "start_time": "2021-07-08T09:06:29.195Z"
   },
   {
    "duration": 91,
    "start_time": "2021-07-08T09:06:29.441Z"
   },
   {
    "duration": 4,
    "start_time": "2021-07-08T09:06:29.534Z"
   },
   {
    "duration": 28,
    "start_time": "2021-07-08T09:06:29.540Z"
   },
   {
    "duration": 6,
    "start_time": "2021-07-08T09:06:29.570Z"
   },
   {
    "duration": 18,
    "start_time": "2021-07-08T09:06:29.578Z"
   },
   {
    "duration": 5,
    "start_time": "2021-07-08T09:06:29.597Z"
   },
   {
    "duration": 13,
    "start_time": "2021-07-08T09:06:29.605Z"
   },
   {
    "duration": 8,
    "start_time": "2021-07-08T09:06:29.620Z"
   },
   {
    "duration": 7,
    "start_time": "2021-07-08T09:06:29.630Z"
   },
   {
    "duration": 63,
    "start_time": "2021-07-08T09:06:29.639Z"
   },
   {
    "duration": 17,
    "start_time": "2021-07-08T09:06:29.704Z"
   },
   {
    "duration": 20,
    "start_time": "2021-07-08T09:06:29.723Z"
   },
   {
    "duration": 6,
    "start_time": "2021-07-08T09:06:29.745Z"
   },
   {
    "duration": 3,
    "start_time": "2021-07-08T09:06:29.752Z"
   },
   {
    "duration": 7,
    "start_time": "2021-07-08T09:06:29.785Z"
   },
   {
    "duration": 11,
    "start_time": "2021-07-08T09:06:29.794Z"
   },
   {
    "duration": 15,
    "start_time": "2021-07-08T09:06:29.807Z"
   },
   {
    "duration": 8,
    "start_time": "2021-07-08T09:06:29.823Z"
   },
   {
    "duration": 70,
    "start_time": "2021-07-08T09:06:29.832Z"
   },
   {
    "duration": 17,
    "start_time": "2021-07-08T09:06:29.903Z"
   },
   {
    "duration": 9,
    "start_time": "2021-07-08T09:06:29.921Z"
   },
   {
    "duration": 9,
    "start_time": "2021-07-08T09:06:29.932Z"
   },
   {
    "duration": 57,
    "start_time": "2021-07-08T09:06:29.942Z"
   },
   {
    "duration": 11,
    "start_time": "2021-07-08T09:06:30.001Z"
   },
   {
    "duration": 19,
    "start_time": "2021-07-08T09:06:30.016Z"
   },
   {
    "duration": 217,
    "start_time": "2021-07-08T09:06:30.037Z"
   },
   {
    "duration": 6,
    "start_time": "2021-07-08T09:06:30.255Z"
   },
   {
    "duration": 205,
    "start_time": "2021-07-08T09:06:30.263Z"
   },
   {
    "duration": 27,
    "start_time": "2021-07-08T09:06:30.470Z"
   },
   {
    "duration": 11,
    "start_time": "2021-07-08T09:06:30.500Z"
   },
   {
    "duration": 31,
    "start_time": "2021-07-08T09:06:30.513Z"
   },
   {
    "duration": 18,
    "start_time": "2021-07-08T09:06:30.546Z"
   },
   {
    "duration": 11,
    "start_time": "2021-07-08T09:06:30.566Z"
   },
   {
    "duration": 19,
    "start_time": "2021-07-08T09:06:30.579Z"
   },
   {
    "duration": 20,
    "start_time": "2021-07-08T09:06:49.466Z"
   },
   {
    "duration": 9,
    "start_time": "2021-07-08T09:06:51.994Z"
   },
   {
    "duration": 20,
    "start_time": "2021-07-08T09:06:52.273Z"
   },
   {
    "duration": 246,
    "start_time": "2021-07-08T09:10:21.272Z"
   },
   {
    "duration": 84,
    "start_time": "2021-07-08T09:10:21.436Z"
   },
   {
    "duration": 7,
    "start_time": "2021-07-08T09:10:37.608Z"
   },
   {
    "duration": 189,
    "start_time": "2021-07-08T09:10:38.573Z"
   },
   {
    "duration": 185,
    "start_time": "2021-07-08T09:10:53.181Z"
   },
   {
    "duration": 11,
    "start_time": "2021-07-08T09:10:59.549Z"
   },
   {
    "duration": 42,
    "start_time": "2021-07-08T09:10:59.709Z"
   },
   {
    "duration": 12,
    "start_time": "2021-07-08T09:11:02.857Z"
   },
   {
    "duration": 28,
    "start_time": "2021-07-08T09:11:10.062Z"
   },
   {
    "duration": 249,
    "start_time": "2021-07-08T09:11:37.388Z"
   },
   {
    "duration": 232,
    "start_time": "2021-07-08T09:11:49.485Z"
   },
   {
    "duration": 453,
    "start_time": "2021-07-08T09:12:01.546Z"
   },
   {
    "duration": 440,
    "start_time": "2021-07-08T09:12:12.347Z"
   },
   {
    "duration": 213,
    "start_time": "2021-07-08T09:13:32.196Z"
   },
   {
    "duration": 172,
    "start_time": "2021-07-08T09:14:07.400Z"
   },
   {
    "duration": 185,
    "start_time": "2021-07-08T09:14:14.905Z"
   },
   {
    "duration": 209,
    "start_time": "2021-07-08T09:14:40.109Z"
   },
   {
    "duration": 201,
    "start_time": "2021-07-08T09:14:54.506Z"
   },
   {
    "duration": 622,
    "start_time": "2021-07-08T09:18:14.497Z"
   },
   {
    "duration": 220,
    "start_time": "2021-07-08T09:18:15.121Z"
   },
   {
    "duration": 79,
    "start_time": "2021-07-08T09:18:15.343Z"
   },
   {
    "duration": 4,
    "start_time": "2021-07-08T09:18:15.425Z"
   },
   {
    "duration": 24,
    "start_time": "2021-07-08T09:18:15.431Z"
   },
   {
    "duration": 8,
    "start_time": "2021-07-08T09:18:15.457Z"
   },
   {
    "duration": 16,
    "start_time": "2021-07-08T09:18:15.466Z"
   },
   {
    "duration": 5,
    "start_time": "2021-07-08T09:18:15.484Z"
   },
   {
    "duration": 10,
    "start_time": "2021-07-08T09:18:15.493Z"
   },
   {
    "duration": 8,
    "start_time": "2021-07-08T09:18:15.504Z"
   },
   {
    "duration": 7,
    "start_time": "2021-07-08T09:18:15.513Z"
   },
   {
    "duration": 26,
    "start_time": "2021-07-08T09:18:15.522Z"
   },
   {
    "duration": 49,
    "start_time": "2021-07-08T09:18:15.550Z"
   },
   {
    "duration": 21,
    "start_time": "2021-07-08T09:18:15.601Z"
   },
   {
    "duration": 8,
    "start_time": "2021-07-08T09:18:15.624Z"
   },
   {
    "duration": 3,
    "start_time": "2021-07-08T09:18:15.634Z"
   },
   {
    "duration": 8,
    "start_time": "2021-07-08T09:18:15.639Z"
   },
   {
    "duration": 45,
    "start_time": "2021-07-08T09:18:15.649Z"
   },
   {
    "duration": 13,
    "start_time": "2021-07-08T09:18:15.696Z"
   },
   {
    "duration": 10,
    "start_time": "2021-07-08T09:18:15.711Z"
   },
   {
    "duration": 64,
    "start_time": "2021-07-08T09:18:15.722Z"
   },
   {
    "duration": 19,
    "start_time": "2021-07-08T09:18:15.788Z"
   },
   {
    "duration": 9,
    "start_time": "2021-07-08T09:18:15.809Z"
   },
   {
    "duration": 9,
    "start_time": "2021-07-08T09:18:15.820Z"
   },
   {
    "duration": 18,
    "start_time": "2021-07-08T09:18:15.831Z"
   },
   {
    "duration": 43,
    "start_time": "2021-07-08T09:18:15.851Z"
   },
   {
    "duration": 12,
    "start_time": "2021-07-08T09:18:15.897Z"
   },
   {
    "duration": 219,
    "start_time": "2021-07-08T09:18:15.911Z"
   },
   {
    "duration": 8,
    "start_time": "2021-07-08T09:18:16.132Z"
   },
   {
    "duration": 199,
    "start_time": "2021-07-08T09:18:16.141Z"
   },
   {
    "duration": 18,
    "start_time": "2021-07-08T09:18:16.341Z"
   },
   {
    "duration": 24,
    "start_time": "2021-07-08T09:18:16.361Z"
   },
   {
    "duration": 24,
    "start_time": "2021-07-08T09:18:16.387Z"
   },
   {
    "duration": 211,
    "start_time": "2021-07-08T09:18:16.413Z"
   },
   {
    "duration": 18,
    "start_time": "2021-07-08T09:18:16.626Z"
   },
   {
    "duration": 596,
    "start_time": "2021-07-08T10:06:33.623Z"
   },
   {
    "duration": 181,
    "start_time": "2021-07-08T10:06:34.221Z"
   },
   {
    "duration": 176,
    "start_time": "2021-07-08T10:06:34.635Z"
   },
   {
    "duration": 239,
    "start_time": "2021-07-08T10:06:55.572Z"
   },
   {
    "duration": 6,
    "start_time": "2021-07-08T10:06:57.687Z"
   },
   {
    "duration": 4,
    "start_time": "2021-07-08T10:07:03.956Z"
   },
   {
    "duration": 4,
    "start_time": "2021-07-08T10:07:10.376Z"
   },
   {
    "duration": 4,
    "start_time": "2021-07-08T10:17:19.889Z"
   },
   {
    "duration": 3,
    "start_time": "2021-07-08T10:19:19.407Z"
   },
   {
    "duration": 197,
    "start_time": "2021-07-08T10:19:19.412Z"
   },
   {
    "duration": 127,
    "start_time": "2021-07-08T10:19:19.611Z"
   },
   {
    "duration": 4,
    "start_time": "2021-07-08T10:19:19.740Z"
   },
   {
    "duration": 27,
    "start_time": "2021-07-08T10:19:19.746Z"
   },
   {
    "duration": 7,
    "start_time": "2021-07-08T10:19:19.775Z"
   },
   {
    "duration": 30,
    "start_time": "2021-07-08T10:19:19.784Z"
   },
   {
    "duration": 7,
    "start_time": "2021-07-08T10:19:19.817Z"
   },
   {
    "duration": 26,
    "start_time": "2021-07-08T10:19:19.826Z"
   },
   {
    "duration": 18,
    "start_time": "2021-07-08T10:19:19.854Z"
   },
   {
    "duration": 14,
    "start_time": "2021-07-08T10:19:19.874Z"
   },
   {
    "duration": 48,
    "start_time": "2021-07-08T10:19:19.890Z"
   },
   {
    "duration": 17,
    "start_time": "2021-07-08T10:19:19.940Z"
   },
   {
    "duration": 38,
    "start_time": "2021-07-08T10:19:19.959Z"
   },
   {
    "duration": 8,
    "start_time": "2021-07-08T10:19:19.999Z"
   },
   {
    "duration": 15,
    "start_time": "2021-07-08T10:19:20.009Z"
   },
   {
    "duration": 22,
    "start_time": "2021-07-08T10:19:20.026Z"
   },
   {
    "duration": 10,
    "start_time": "2021-07-08T10:19:20.050Z"
   },
   {
    "duration": 10,
    "start_time": "2021-07-08T10:19:20.062Z"
   },
   {
    "duration": 20,
    "start_time": "2021-07-08T10:19:20.073Z"
   },
   {
    "duration": 29,
    "start_time": "2021-07-08T10:19:20.095Z"
   },
   {
    "duration": 17,
    "start_time": "2021-07-08T10:19:20.126Z"
   },
   {
    "duration": 40,
    "start_time": "2021-07-08T10:19:20.146Z"
   },
   {
    "duration": 15,
    "start_time": "2021-07-08T10:19:20.189Z"
   },
   {
    "duration": 19,
    "start_time": "2021-07-08T10:19:20.206Z"
   },
   {
    "duration": 10,
    "start_time": "2021-07-08T10:19:20.226Z"
   },
   {
    "duration": 11,
    "start_time": "2021-07-08T10:19:20.238Z"
   },
   {
    "duration": 297,
    "start_time": "2021-07-08T10:19:20.250Z"
   },
   {
    "duration": 6,
    "start_time": "2021-07-08T10:19:20.549Z"
   },
   {
    "duration": 191,
    "start_time": "2021-07-08T10:19:20.557Z"
   },
   {
    "duration": 19,
    "start_time": "2021-07-08T10:19:20.750Z"
   },
   {
    "duration": 20,
    "start_time": "2021-07-08T10:19:20.771Z"
   },
   {
    "duration": 15,
    "start_time": "2021-07-08T10:19:20.793Z"
   },
   {
    "duration": 222,
    "start_time": "2021-07-08T10:19:20.809Z"
   },
   {
    "duration": 20,
    "start_time": "2021-07-08T10:19:21.033Z"
   },
   {
    "duration": 27,
    "start_time": "2021-07-08T10:45:04.055Z"
   },
   {
    "duration": 8,
    "start_time": "2021-07-08T10:45:08.478Z"
   },
   {
    "duration": 8,
    "start_time": "2021-07-08T10:45:31.982Z"
   },
   {
    "duration": 10,
    "start_time": "2021-07-08T10:46:01.221Z"
   },
   {
    "duration": 17,
    "start_time": "2021-07-08T10:46:40.011Z"
   },
   {
    "duration": 193,
    "start_time": "2021-07-08T10:48:19.471Z"
   },
   {
    "duration": 225,
    "start_time": "2021-07-08T10:49:26.480Z"
   },
   {
    "duration": 204,
    "start_time": "2021-07-08T10:49:59.992Z"
   },
   {
    "duration": 435,
    "start_time": "2021-07-08T10:50:06.779Z"
   },
   {
    "duration": 199,
    "start_time": "2021-07-08T10:50:14.891Z"
   },
   {
    "duration": 204,
    "start_time": "2021-07-08T10:50:18.501Z"
   },
   {
    "duration": 244,
    "start_time": "2021-07-08T10:50:23.359Z"
   },
   {
    "duration": 192,
    "start_time": "2021-07-08T10:50:29.135Z"
   },
   {
    "duration": 218,
    "start_time": "2021-07-08T10:50:33.092Z"
   },
   {
    "duration": 207,
    "start_time": "2021-07-08T10:52:45.381Z"
   },
   {
    "duration": 5,
    "start_time": "2021-07-08T10:53:34.641Z"
   },
   {
    "duration": 196,
    "start_time": "2021-07-08T10:53:41.478Z"
   },
   {
    "duration": 43,
    "start_time": "2021-07-08T10:53:50.335Z"
   },
   {
    "duration": 32,
    "start_time": "2021-07-08T10:53:55.294Z"
   },
   {
    "duration": 55,
    "start_time": "2021-07-08T10:54:09.675Z"
   },
   {
    "duration": 16,
    "start_time": "2021-07-08T10:54:12.260Z"
   },
   {
    "duration": 15,
    "start_time": "2021-07-08T10:54:49.150Z"
   },
   {
    "duration": 20,
    "start_time": "2021-07-08T10:56:07.596Z"
   },
   {
    "duration": 16,
    "start_time": "2021-07-08T10:58:26.276Z"
   },
   {
    "duration": 22,
    "start_time": "2021-07-08T10:59:00.486Z"
   },
   {
    "duration": 18,
    "start_time": "2021-07-08T11:02:09.653Z"
   },
   {
    "duration": 10,
    "start_time": "2021-07-08T11:03:44.331Z"
   },
   {
    "duration": 10,
    "start_time": "2021-07-08T11:03:54.055Z"
   },
   {
    "duration": 12,
    "start_time": "2021-07-08T11:04:41.967Z"
   },
   {
    "duration": 24,
    "start_time": "2021-07-08T11:07:30.732Z"
   },
   {
    "duration": 6,
    "start_time": "2021-07-08T11:07:37.364Z"
   },
   {
    "duration": 16,
    "start_time": "2021-07-08T11:08:01.819Z"
   },
   {
    "duration": 17,
    "start_time": "2021-07-08T11:09:47.488Z"
   },
   {
    "duration": 246,
    "start_time": "2021-07-08T11:10:00.830Z"
   },
   {
    "duration": 18,
    "start_time": "2021-07-08T11:13:55.195Z"
   },
   {
    "duration": 204,
    "start_time": "2021-07-08T11:14:04.951Z"
   },
   {
    "duration": 19,
    "start_time": "2021-07-08T11:15:10.613Z"
   },
   {
    "duration": 680,
    "start_time": "2021-07-08T11:16:25.793Z"
   },
   {
    "duration": 451,
    "start_time": "2021-07-08T11:16:40.313Z"
   },
   {
    "duration": 469,
    "start_time": "2021-07-08T11:17:21.286Z"
   },
   {
    "duration": 20,
    "start_time": "2021-07-08T11:19:12.554Z"
   },
   {
    "duration": 35,
    "start_time": "2021-07-08T11:20:05.484Z"
   },
   {
    "duration": 53,
    "start_time": "2021-07-08T11:21:40.050Z"
   },
   {
    "duration": 13,
    "start_time": "2021-07-08T11:22:26.059Z"
   },
   {
    "duration": 19,
    "start_time": "2021-07-08T11:22:47.419Z"
   },
   {
    "duration": 25,
    "start_time": "2021-07-08T11:23:19.958Z"
   },
   {
    "duration": 29,
    "start_time": "2021-07-08T11:23:25.415Z"
   },
   {
    "duration": 10,
    "start_time": "2021-07-08T11:24:45.138Z"
   },
   {
    "duration": 19,
    "start_time": "2021-07-08T11:24:54.498Z"
   },
   {
    "duration": 12,
    "start_time": "2021-07-08T11:25:32.225Z"
   },
   {
    "duration": 19,
    "start_time": "2021-07-08T11:25:37.092Z"
   },
   {
    "duration": 17,
    "start_time": "2021-07-08T11:25:58.116Z"
   },
   {
    "duration": 15,
    "start_time": "2021-07-08T11:26:02.258Z"
   },
   {
    "duration": 8,
    "start_time": "2021-07-08T11:26:59.682Z"
   },
   {
    "duration": 184,
    "start_time": "2021-07-08T11:27:21.894Z"
   },
   {
    "duration": 8,
    "start_time": "2021-07-08T11:27:23.824Z"
   },
   {
    "duration": 202,
    "start_time": "2021-07-08T11:27:23.962Z"
   },
   {
    "duration": 360,
    "start_time": "2021-07-08T11:28:33.215Z"
   },
   {
    "duration": 231,
    "start_time": "2021-07-08T11:32:05.542Z"
   },
   {
    "duration": 607,
    "start_time": "2021-07-08T11:36:27.854Z"
   },
   {
    "duration": 241,
    "start_time": "2021-07-08T11:36:28.463Z"
   },
   {
    "duration": 67,
    "start_time": "2021-07-08T11:36:28.709Z"
   },
   {
    "duration": 5,
    "start_time": "2021-07-08T11:36:28.778Z"
   },
   {
    "duration": 32,
    "start_time": "2021-07-08T11:36:28.784Z"
   },
   {
    "duration": 11,
    "start_time": "2021-07-08T11:36:28.819Z"
   },
   {
    "duration": 20,
    "start_time": "2021-07-08T11:36:28.834Z"
   },
   {
    "duration": 36,
    "start_time": "2021-07-08T11:36:28.857Z"
   },
   {
    "duration": 16,
    "start_time": "2021-07-08T11:36:28.895Z"
   },
   {
    "duration": 14,
    "start_time": "2021-07-08T11:36:28.913Z"
   },
   {
    "duration": 9,
    "start_time": "2021-07-08T11:36:28.930Z"
   },
   {
    "duration": 55,
    "start_time": "2021-07-08T11:36:28.941Z"
   },
   {
    "duration": 27,
    "start_time": "2021-07-08T11:36:28.999Z"
   },
   {
    "duration": 30,
    "start_time": "2021-07-08T11:36:29.028Z"
   },
   {
    "duration": 31,
    "start_time": "2021-07-08T11:36:29.060Z"
   },
   {
    "duration": 3,
    "start_time": "2021-07-08T11:36:29.093Z"
   },
   {
    "duration": 12,
    "start_time": "2021-07-08T11:36:29.099Z"
   },
   {
    "duration": 11,
    "start_time": "2021-07-08T11:36:29.112Z"
   },
   {
    "duration": 12,
    "start_time": "2021-07-08T11:36:29.125Z"
   },
   {
    "duration": 9,
    "start_time": "2021-07-08T11:36:29.139Z"
   },
   {
    "duration": 31,
    "start_time": "2021-07-08T11:36:29.191Z"
   },
   {
    "duration": 17,
    "start_time": "2021-07-08T11:36:29.226Z"
   },
   {
    "duration": 7,
    "start_time": "2021-07-08T11:36:29.245Z"
   },
   {
    "duration": 10,
    "start_time": "2021-07-08T11:36:29.254Z"
   },
   {
    "duration": 30,
    "start_time": "2021-07-08T11:36:29.292Z"
   },
   {
    "duration": 11,
    "start_time": "2021-07-08T11:36:29.324Z"
   },
   {
    "duration": 11,
    "start_time": "2021-07-08T11:36:29.337Z"
   },
   {
    "duration": 230,
    "start_time": "2021-07-08T11:36:29.349Z"
   },
   {
    "duration": 13,
    "start_time": "2021-07-08T11:36:29.588Z"
   },
   {
    "duration": 205,
    "start_time": "2021-07-08T11:36:29.603Z"
   },
   {
    "duration": 20,
    "start_time": "2021-07-08T11:36:29.810Z"
   },
   {
    "duration": 9,
    "start_time": "2021-07-08T11:36:29.832Z"
   },
   {
    "duration": 16,
    "start_time": "2021-07-08T11:36:29.843Z"
   },
   {
    "duration": 283,
    "start_time": "2021-07-08T11:36:29.861Z"
   },
   {
    "duration": 50,
    "start_time": "2021-07-08T11:36:30.146Z"
   },
   {
    "duration": 14,
    "start_time": "2021-07-08T11:36:30.198Z"
   },
   {
    "duration": 11,
    "start_time": "2021-07-08T11:36:30.214Z"
   },
   {
    "duration": 245,
    "start_time": "2021-07-08T11:36:30.227Z"
   },
   {
    "duration": 439,
    "start_time": "2021-07-08T11:36:30.474Z"
   },
   {
    "duration": 210,
    "start_time": "2021-07-08T11:36:30.915Z"
   },
   {
    "duration": 15,
    "start_time": "2021-07-08T11:36:31.127Z"
   },
   {
    "duration": 17,
    "start_time": "2021-07-08T11:38:20.451Z"
   },
   {
    "duration": 642,
    "start_time": "2021-07-08T11:46:17.881Z"
   },
   {
    "duration": 210,
    "start_time": "2021-07-08T11:46:18.525Z"
   },
   {
    "duration": 104,
    "start_time": "2021-07-08T11:46:18.741Z"
   },
   {
    "duration": 8,
    "start_time": "2021-07-08T11:46:18.847Z"
   },
   {
    "duration": 25,
    "start_time": "2021-07-08T11:46:18.857Z"
   },
   {
    "duration": 14,
    "start_time": "2021-07-08T11:46:18.884Z"
   },
   {
    "duration": 22,
    "start_time": "2021-07-08T11:46:18.900Z"
   },
   {
    "duration": 5,
    "start_time": "2021-07-08T11:46:18.924Z"
   },
   {
    "duration": 13,
    "start_time": "2021-07-08T11:46:18.931Z"
   },
   {
    "duration": 45,
    "start_time": "2021-07-08T11:46:18.946Z"
   },
   {
    "duration": 12,
    "start_time": "2021-07-08T11:46:18.993Z"
   },
   {
    "duration": 38,
    "start_time": "2021-07-08T11:46:19.006Z"
   },
   {
    "duration": 50,
    "start_time": "2021-07-08T11:46:19.046Z"
   },
   {
    "duration": 29,
    "start_time": "2021-07-08T11:46:19.099Z"
   },
   {
    "duration": 7,
    "start_time": "2021-07-08T11:46:19.130Z"
   },
   {
    "duration": 3,
    "start_time": "2021-07-08T11:46:19.139Z"
   },
   {
    "duration": 11,
    "start_time": "2021-07-08T11:46:19.144Z"
   },
   {
    "duration": 40,
    "start_time": "2021-07-08T11:46:19.157Z"
   },
   {
    "duration": 15,
    "start_time": "2021-07-08T11:46:19.199Z"
   },
   {
    "duration": 10,
    "start_time": "2021-07-08T11:46:19.217Z"
   },
   {
    "duration": 68,
    "start_time": "2021-07-08T11:46:19.230Z"
   },
   {
    "duration": 17,
    "start_time": "2021-07-08T11:46:19.301Z"
   },
   {
    "duration": 7,
    "start_time": "2021-07-08T11:46:19.321Z"
   },
   {
    "duration": 11,
    "start_time": "2021-07-08T11:46:19.330Z"
   },
   {
    "duration": 59,
    "start_time": "2021-07-08T11:46:19.343Z"
   },
   {
    "duration": 17,
    "start_time": "2021-07-08T11:46:19.405Z"
   },
   {
    "duration": 16,
    "start_time": "2021-07-08T11:46:19.424Z"
   },
   {
    "duration": 252,
    "start_time": "2021-07-08T11:46:19.443Z"
   },
   {
    "duration": 9,
    "start_time": "2021-07-08T11:46:19.697Z"
   },
   {
    "duration": 224,
    "start_time": "2021-07-08T11:46:19.708Z"
   },
   {
    "duration": 21,
    "start_time": "2021-07-08T11:46:19.934Z"
   },
   {
    "duration": 9,
    "start_time": "2021-07-08T11:46:19.956Z"
   },
   {
    "duration": 32,
    "start_time": "2021-07-08T11:46:19.967Z"
   },
   {
    "duration": 288,
    "start_time": "2021-07-08T11:46:20.004Z"
   },
   {
    "duration": 23,
    "start_time": "2021-07-08T11:46:20.300Z"
   },
   {
    "duration": 11,
    "start_time": "2021-07-08T11:46:20.325Z"
   },
   {
    "duration": 11,
    "start_time": "2021-07-08T11:46:20.339Z"
   },
   {
    "duration": 259,
    "start_time": "2021-07-08T11:46:20.352Z"
   },
   {
    "duration": 438,
    "start_time": "2021-07-08T11:46:20.613Z"
   },
   {
    "duration": 207,
    "start_time": "2021-07-08T11:46:21.054Z"
   },
   {
    "duration": 27,
    "start_time": "2021-07-08T11:46:21.262Z"
   },
   {
    "duration": 19,
    "start_time": "2021-07-08T11:46:21.291Z"
   },
   {
    "duration": 820,
    "start_time": "2021-07-08T11:49:01.655Z"
   },
   {
    "duration": 372,
    "start_time": "2021-07-08T11:49:02.478Z"
   },
   {
    "duration": 98,
    "start_time": "2021-07-08T11:49:02.853Z"
   },
   {
    "duration": 6,
    "start_time": "2021-07-08T11:49:02.953Z"
   },
   {
    "duration": 39,
    "start_time": "2021-07-08T11:49:02.960Z"
   },
   {
    "duration": 9,
    "start_time": "2021-07-08T11:49:03.003Z"
   },
   {
    "duration": 23,
    "start_time": "2021-07-08T11:49:03.014Z"
   },
   {
    "duration": 6,
    "start_time": "2021-07-08T11:49:03.041Z"
   },
   {
    "duration": 20,
    "start_time": "2021-07-08T11:49:03.049Z"
   },
   {
    "duration": 18,
    "start_time": "2021-07-08T11:49:03.084Z"
   },
   {
    "duration": 14,
    "start_time": "2021-07-08T11:49:03.104Z"
   },
   {
    "duration": 39,
    "start_time": "2021-07-08T11:49:03.119Z"
   },
   {
    "duration": 38,
    "start_time": "2021-07-08T11:49:03.160Z"
   },
   {
    "duration": 26,
    "start_time": "2021-07-08T11:49:03.200Z"
   },
   {
    "duration": 7,
    "start_time": "2021-07-08T11:49:03.227Z"
   },
   {
    "duration": 4,
    "start_time": "2021-07-08T11:49:03.236Z"
   },
   {
    "duration": 15,
    "start_time": "2021-07-08T11:49:03.243Z"
   },
   {
    "duration": 21,
    "start_time": "2021-07-08T11:49:03.285Z"
   },
   {
    "duration": 17,
    "start_time": "2021-07-08T11:49:03.309Z"
   },
   {
    "duration": 10,
    "start_time": "2021-07-08T11:49:03.328Z"
   },
   {
    "duration": 65,
    "start_time": "2021-07-08T11:49:03.340Z"
   },
   {
    "duration": 18,
    "start_time": "2021-07-08T11:49:03.407Z"
   },
   {
    "duration": 8,
    "start_time": "2021-07-08T11:49:03.428Z"
   },
   {
    "duration": 15,
    "start_time": "2021-07-08T11:49:03.438Z"
   },
   {
    "duration": 40,
    "start_time": "2021-07-08T11:49:03.455Z"
   },
   {
    "duration": 12,
    "start_time": "2021-07-08T11:49:03.497Z"
   },
   {
    "duration": 29,
    "start_time": "2021-07-08T11:49:03.511Z"
   },
   {
    "duration": 285,
    "start_time": "2021-07-08T11:49:03.542Z"
   },
   {
    "duration": 8,
    "start_time": "2021-07-08T11:49:03.829Z"
   },
   {
    "duration": 227,
    "start_time": "2021-07-08T11:49:03.838Z"
   },
   {
    "duration": 40,
    "start_time": "2021-07-08T11:49:04.066Z"
   },
   {
    "duration": 10,
    "start_time": "2021-07-08T11:49:04.108Z"
   },
   {
    "duration": 26,
    "start_time": "2021-07-08T11:49:04.121Z"
   },
   {
    "duration": 290,
    "start_time": "2021-07-08T11:49:04.149Z"
   },
   {
    "duration": 26,
    "start_time": "2021-07-08T11:49:04.441Z"
   },
   {
    "duration": 31,
    "start_time": "2021-07-08T11:49:04.470Z"
   },
   {
    "duration": 14,
    "start_time": "2021-07-08T11:49:04.503Z"
   },
   {
    "duration": 259,
    "start_time": "2021-07-08T11:49:04.521Z"
   },
   {
    "duration": 480,
    "start_time": "2021-07-08T11:49:04.782Z"
   },
   {
    "duration": 225,
    "start_time": "2021-07-08T11:49:05.264Z"
   },
   {
    "duration": 22,
    "start_time": "2021-07-08T11:49:05.491Z"
   },
   {
    "duration": 24,
    "start_time": "2021-07-08T11:49:05.515Z"
   },
   {
    "duration": 634,
    "start_time": "2021-07-08T11:52:24.960Z"
   },
   {
    "duration": 199,
    "start_time": "2021-07-08T11:52:25.599Z"
   },
   {
    "duration": 106,
    "start_time": "2021-07-08T11:52:25.803Z"
   },
   {
    "duration": 7,
    "start_time": "2021-07-08T11:52:25.911Z"
   },
   {
    "duration": 29,
    "start_time": "2021-07-08T11:52:25.920Z"
   },
   {
    "duration": 7,
    "start_time": "2021-07-08T11:52:25.951Z"
   },
   {
    "duration": 26,
    "start_time": "2021-07-08T11:52:25.961Z"
   },
   {
    "duration": 11,
    "start_time": "2021-07-08T11:52:25.990Z"
   },
   {
    "duration": 29,
    "start_time": "2021-07-08T11:52:26.005Z"
   },
   {
    "duration": 9,
    "start_time": "2021-07-08T11:52:26.036Z"
   },
   {
    "duration": 8,
    "start_time": "2021-07-08T11:52:26.047Z"
   },
   {
    "duration": 63,
    "start_time": "2021-07-08T11:52:26.057Z"
   },
   {
    "duration": 17,
    "start_time": "2021-07-08T11:52:26.122Z"
   },
   {
    "duration": 43,
    "start_time": "2021-07-08T11:52:26.142Z"
   },
   {
    "duration": 17,
    "start_time": "2021-07-08T11:52:26.187Z"
   },
   {
    "duration": 5,
    "start_time": "2021-07-08T11:52:26.206Z"
   },
   {
    "duration": 12,
    "start_time": "2021-07-08T11:52:26.212Z"
   },
   {
    "duration": 11,
    "start_time": "2021-07-08T11:52:26.226Z"
   },
   {
    "duration": 12,
    "start_time": "2021-07-08T11:52:26.238Z"
   },
   {
    "duration": 38,
    "start_time": "2021-07-08T11:52:26.252Z"
   },
   {
    "duration": 40,
    "start_time": "2021-07-08T11:52:26.292Z"
   },
   {
    "duration": 17,
    "start_time": "2021-07-08T11:52:26.336Z"
   },
   {
    "duration": 39,
    "start_time": "2021-07-08T11:52:26.355Z"
   },
   {
    "duration": 11,
    "start_time": "2021-07-08T11:52:26.395Z"
   },
   {
    "duration": 23,
    "start_time": "2021-07-08T11:52:26.408Z"
   },
   {
    "duration": 12,
    "start_time": "2021-07-08T11:52:26.432Z"
   },
   {
    "duration": 41,
    "start_time": "2021-07-08T11:52:26.446Z"
   },
   {
    "duration": 215,
    "start_time": "2021-07-08T11:52:26.493Z"
   },
   {
    "duration": 8,
    "start_time": "2021-07-08T11:52:26.710Z"
   },
   {
    "duration": 228,
    "start_time": "2021-07-08T11:52:26.720Z"
   },
   {
    "duration": 18,
    "start_time": "2021-07-08T11:52:26.950Z"
   },
   {
    "duration": 35,
    "start_time": "2021-07-08T11:52:26.969Z"
   },
   {
    "duration": 23,
    "start_time": "2021-07-08T11:52:27.006Z"
   },
   {
    "duration": 258,
    "start_time": "2021-07-08T11:52:27.030Z"
   },
   {
    "duration": 24,
    "start_time": "2021-07-08T11:52:27.290Z"
   },
   {
    "duration": 12,
    "start_time": "2021-07-08T11:52:27.316Z"
   },
   {
    "duration": 10,
    "start_time": "2021-07-08T11:52:27.329Z"
   },
   {
    "duration": 298,
    "start_time": "2021-07-08T11:52:27.341Z"
   },
   {
    "duration": 436,
    "start_time": "2021-07-08T11:52:27.641Z"
   },
   {
    "duration": 216,
    "start_time": "2021-07-08T11:52:28.079Z"
   },
   {
    "duration": 20,
    "start_time": "2021-07-08T11:52:28.297Z"
   },
   {
    "duration": 17,
    "start_time": "2021-07-08T11:52:28.319Z"
   },
   {
    "duration": 1581,
    "start_time": "2023-03-07T04:39:00.857Z"
   },
   {
    "duration": 133,
    "start_time": "2023-03-07T04:39:19.315Z"
   },
   {
    "duration": 8,
    "start_time": "2023-03-07T04:39:37.048Z"
   },
   {
    "duration": 114,
    "start_time": "2023-03-07T07:46:51.256Z"
   },
   {
    "duration": 53,
    "start_time": "2023-03-07T07:47:20.124Z"
   },
   {
    "duration": 19,
    "start_time": "2023-03-07T07:50:01.921Z"
   },
   {
    "duration": 11,
    "start_time": "2023-03-07T07:53:21.930Z"
   },
   {
    "duration": 447,
    "start_time": "2023-03-07T08:19:02.401Z"
   },
   {
    "duration": 33,
    "start_time": "2023-03-07T08:27:13.030Z"
   },
   {
    "duration": 4,
    "start_time": "2023-03-07T08:33:24.557Z"
   },
   {
    "duration": 5,
    "start_time": "2023-03-07T08:33:32.412Z"
   },
   {
    "duration": 17,
    "start_time": "2023-03-07T08:33:50.410Z"
   },
   {
    "duration": 13,
    "start_time": "2023-03-07T08:36:49.423Z"
   },
   {
    "duration": 22,
    "start_time": "2023-03-07T08:37:05.060Z"
   },
   {
    "duration": 16,
    "start_time": "2023-03-07T08:38:37.211Z"
   },
   {
    "duration": 1253,
    "start_time": "2023-03-07T08:54:35.693Z"
   },
   {
    "duration": 1303,
    "start_time": "2023-03-07T08:54:58.813Z"
   },
   {
    "duration": 1975,
    "start_time": "2023-03-07T08:55:43.321Z"
   },
   {
    "duration": 14,
    "start_time": "2023-03-07T08:56:01.209Z"
   },
   {
    "duration": 16,
    "start_time": "2023-03-07T08:56:33.509Z"
   },
   {
    "duration": 11,
    "start_time": "2023-03-07T08:56:45.213Z"
   },
   {
    "duration": 13,
    "start_time": "2023-03-07T08:58:10.805Z"
   },
   {
    "duration": 76,
    "start_time": "2023-03-07T09:01:47.909Z"
   },
   {
    "duration": 8,
    "start_time": "2023-03-07T09:02:25.666Z"
   },
   {
    "duration": 14,
    "start_time": "2023-03-07T09:02:38.047Z"
   },
   {
    "duration": 34,
    "start_time": "2023-03-07T09:03:04.522Z"
   },
   {
    "duration": 28,
    "start_time": "2023-03-07T09:03:46.435Z"
   },
   {
    "duration": 10,
    "start_time": "2023-03-07T09:11:02.122Z"
   },
   {
    "duration": 10,
    "start_time": "2023-03-07T09:11:56.743Z"
   },
   {
    "duration": 13,
    "start_time": "2023-03-07T09:12:07.757Z"
   },
   {
    "duration": 14,
    "start_time": "2023-03-07T09:13:44.650Z"
   },
   {
    "duration": 85,
    "start_time": "2023-03-07T09:14:17.969Z"
   },
   {
    "duration": 12,
    "start_time": "2023-03-07T09:14:35.320Z"
   },
   {
    "duration": 4,
    "start_time": "2023-03-07T09:15:29.944Z"
   },
   {
    "duration": 11,
    "start_time": "2023-03-07T09:15:39.927Z"
   },
   {
    "duration": 33,
    "start_time": "2023-03-07T09:17:10.564Z"
   },
   {
    "duration": 760,
    "start_time": "2023-03-07T09:26:06.297Z"
   },
   {
    "duration": 1360,
    "start_time": "2023-03-07T09:29:58.270Z"
   },
   {
    "duration": 15,
    "start_time": "2023-03-07T09:30:21.600Z"
   },
   {
    "duration": 14,
    "start_time": "2023-03-07T09:30:51.400Z"
   },
   {
    "duration": 14,
    "start_time": "2023-03-07T09:31:19.497Z"
   },
   {
    "duration": 7,
    "start_time": "2023-03-07T09:33:25.993Z"
   },
   {
    "duration": 89,
    "start_time": "2023-03-07T09:38:25.296Z"
   },
   {
    "duration": 25,
    "start_time": "2023-03-07T09:39:28.711Z"
   },
   {
    "duration": 62,
    "start_time": "2023-03-07T09:39:55.646Z"
   },
   {
    "duration": 56,
    "start_time": "2023-03-07T09:40:22.594Z"
   },
   {
    "duration": 55,
    "start_time": "2023-03-07T09:40:52.653Z"
   },
   {
    "duration": 58,
    "start_time": "2023-03-07T09:41:06.999Z"
   },
   {
    "duration": 16,
    "start_time": "2023-03-07T09:41:16.845Z"
   },
   {
    "duration": 13,
    "start_time": "2023-03-07T09:41:39.789Z"
   },
   {
    "duration": 8,
    "start_time": "2023-03-07T09:43:29.753Z"
   },
   {
    "duration": 355,
    "start_time": "2023-03-07T09:43:51.966Z"
   },
   {
    "duration": 17,
    "start_time": "2023-03-07T09:44:05.230Z"
   },
   {
    "duration": 10,
    "start_time": "2023-03-07T09:45:19.986Z"
   },
   {
    "duration": 7,
    "start_time": "2023-03-07T09:45:35.667Z"
   },
   {
    "duration": 14,
    "start_time": "2023-03-07T09:45:36.735Z"
   },
   {
    "duration": 3,
    "start_time": "2023-03-07T09:45:52.754Z"
   },
   {
    "duration": 243,
    "start_time": "2023-03-10T04:23:05.107Z"
   },
   {
    "duration": 68,
    "start_time": "2023-03-10T04:23:05.353Z"
   },
   {
    "duration": 17,
    "start_time": "2023-03-10T04:23:05.423Z"
   },
   {
    "duration": 10,
    "start_time": "2023-03-10T04:23:05.443Z"
   },
   {
    "duration": 24,
    "start_time": "2023-03-10T04:23:05.455Z"
   },
   {
    "duration": 5,
    "start_time": "2023-03-10T04:23:05.480Z"
   },
   {
    "duration": 12,
    "start_time": "2023-03-10T04:23:05.486Z"
   },
   {
    "duration": 14,
    "start_time": "2023-03-10T04:23:05.500Z"
   },
   {
    "duration": 45,
    "start_time": "2023-03-10T04:23:05.517Z"
   },
   {
    "duration": 21,
    "start_time": "2023-03-10T04:23:05.564Z"
   },
   {
    "duration": 20,
    "start_time": "2023-03-10T04:23:05.587Z"
   },
   {
    "duration": 47,
    "start_time": "2023-03-10T04:23:05.610Z"
   },
   {
    "duration": 18,
    "start_time": "2023-03-10T04:23:05.659Z"
   },
   {
    "duration": 3,
    "start_time": "2023-03-10T04:23:05.679Z"
   },
   {
    "duration": 22,
    "start_time": "2023-03-10T04:25:16.729Z"
   },
   {
    "duration": 13,
    "start_time": "2023-03-10T04:25:24.099Z"
   },
   {
    "duration": 27,
    "start_time": "2023-03-10T04:25:28.053Z"
   },
   {
    "duration": 1541,
    "start_time": "2023-03-11T09:09:45.266Z"
   },
   {
    "duration": 88,
    "start_time": "2023-03-11T09:09:46.808Z"
   },
   {
    "duration": 18,
    "start_time": "2023-03-11T09:09:46.898Z"
   },
   {
    "duration": 17,
    "start_time": "2023-03-11T09:09:46.919Z"
   },
   {
    "duration": 23,
    "start_time": "2023-03-11T09:09:46.938Z"
   },
   {
    "duration": 3,
    "start_time": "2023-03-11T09:09:46.963Z"
   },
   {
    "duration": 19,
    "start_time": "2023-03-11T09:09:46.967Z"
   },
   {
    "duration": 15,
    "start_time": "2023-03-11T09:09:46.987Z"
   },
   {
    "duration": 19,
    "start_time": "2023-03-11T09:09:47.004Z"
   },
   {
    "duration": 21,
    "start_time": "2023-03-11T09:09:47.024Z"
   },
   {
    "duration": 11,
    "start_time": "2023-03-11T09:09:47.047Z"
   },
   {
    "duration": 14,
    "start_time": "2023-03-11T09:09:47.060Z"
   },
   {
    "duration": 14,
    "start_time": "2023-03-11T09:09:47.075Z"
   },
   {
    "duration": 3,
    "start_time": "2023-03-11T09:09:47.091Z"
   },
   {
    "duration": 4,
    "start_time": "2023-03-11T09:11:25.138Z"
   },
   {
    "duration": 9,
    "start_time": "2023-03-11T09:11:29.971Z"
   },
   {
    "duration": 5,
    "start_time": "2023-03-11T09:14:31.069Z"
   },
   {
    "duration": 85,
    "start_time": "2023-03-11T09:14:46.631Z"
   },
   {
    "duration": 9,
    "start_time": "2023-03-11T09:15:21.775Z"
   },
   {
    "duration": 4,
    "start_time": "2023-03-11T09:17:09.646Z"
   },
   {
    "duration": 5,
    "start_time": "2023-03-11T09:17:13.774Z"
   },
   {
    "duration": 4,
    "start_time": "2023-03-11T09:17:17.218Z"
   },
   {
    "duration": 3,
    "start_time": "2023-03-11T09:17:28.002Z"
   },
   {
    "duration": 8,
    "start_time": "2023-03-11T09:17:50.410Z"
   },
   {
    "duration": 8,
    "start_time": "2023-03-11T09:18:27.514Z"
   },
   {
    "duration": 3,
    "start_time": "2023-03-11T09:18:41.144Z"
   },
   {
    "duration": 4,
    "start_time": "2023-03-11T09:18:41.997Z"
   },
   {
    "duration": 5,
    "start_time": "2023-03-11T09:18:55.899Z"
   },
   {
    "duration": 13,
    "start_time": "2023-03-11T09:19:41.369Z"
   },
   {
    "duration": 137,
    "start_time": "2023-03-11T09:23:40.040Z"
   },
   {
    "duration": 6,
    "start_time": "2023-03-11T09:23:44.226Z"
   },
   {
    "duration": 3,
    "start_time": "2023-03-11T09:31:40.767Z"
   },
   {
    "duration": 24,
    "start_time": "2023-03-11T09:32:18.669Z"
   },
   {
    "duration": 17,
    "start_time": "2023-03-11T09:34:32.039Z"
   },
   {
    "duration": 7,
    "start_time": "2023-03-11T09:35:00.409Z"
   },
   {
    "duration": 10,
    "start_time": "2023-03-11T09:35:48.858Z"
   },
   {
    "duration": 6,
    "start_time": "2023-03-11T09:35:59.678Z"
   },
   {
    "duration": 6,
    "start_time": "2023-03-11T09:36:17.560Z"
   },
   {
    "duration": 12,
    "start_time": "2023-03-11T09:40:20.204Z"
   },
   {
    "duration": 1842,
    "start_time": "2023-03-11T09:40:32.332Z"
   },
   {
    "duration": 6,
    "start_time": "2023-03-11T09:41:42.376Z"
   },
   {
    "duration": 5,
    "start_time": "2023-03-11T10:24:54.464Z"
   },
   {
    "duration": 8,
    "start_time": "2023-03-11T10:25:12.003Z"
   },
   {
    "duration": 5,
    "start_time": "2023-03-11T10:26:43.607Z"
   },
   {
    "duration": 30,
    "start_time": "2023-03-11T10:27:10.259Z"
   },
   {
    "duration": 23,
    "start_time": "2023-03-11T10:28:07.845Z"
   },
   {
    "duration": 24,
    "start_time": "2023-03-11T10:28:25.125Z"
   },
   {
    "duration": 4,
    "start_time": "2023-03-11T10:29:49.439Z"
   },
   {
    "duration": 4,
    "start_time": "2023-03-11T10:57:11.676Z"
   },
   {
    "duration": 4,
    "start_time": "2023-03-11T10:57:32.310Z"
   },
   {
    "duration": 4,
    "start_time": "2023-03-11T10:58:52.032Z"
   },
   {
    "duration": 4,
    "start_time": "2023-03-11T11:01:14.223Z"
   },
   {
    "duration": 33,
    "start_time": "2023-03-11T11:04:08.481Z"
   },
   {
    "duration": 1664,
    "start_time": "2023-03-13T06:52:25.652Z"
   },
   {
    "duration": 92,
    "start_time": "2023-03-13T06:52:27.319Z"
   },
   {
    "duration": 16,
    "start_time": "2023-03-13T06:52:27.412Z"
   },
   {
    "duration": 15,
    "start_time": "2023-03-13T06:52:27.430Z"
   },
   {
    "duration": 36,
    "start_time": "2023-03-13T06:52:27.447Z"
   },
   {
    "duration": 4,
    "start_time": "2023-03-13T06:52:27.484Z"
   },
   {
    "duration": 10,
    "start_time": "2023-03-13T06:52:27.490Z"
   },
   {
    "duration": 18,
    "start_time": "2023-03-13T06:52:27.501Z"
   },
   {
    "duration": 27,
    "start_time": "2023-03-13T06:52:27.521Z"
   },
   {
    "duration": 36,
    "start_time": "2023-03-13T06:52:27.550Z"
   },
   {
    "duration": 15,
    "start_time": "2023-03-13T06:52:27.588Z"
   },
   {
    "duration": 20,
    "start_time": "2023-03-13T06:52:27.606Z"
   },
   {
    "duration": 28,
    "start_time": "2023-03-13T06:52:27.628Z"
   },
   {
    "duration": 25,
    "start_time": "2023-03-13T06:52:27.659Z"
   },
   {
    "duration": 44,
    "start_time": "2023-03-13T06:52:27.686Z"
   },
   {
    "duration": 24,
    "start_time": "2023-03-13T06:52:27.732Z"
   },
   {
    "duration": 11,
    "start_time": "2023-03-13T06:52:27.757Z"
   },
   {
    "duration": 27,
    "start_time": "2023-03-13T06:52:27.770Z"
   },
   {
    "duration": 14,
    "start_time": "2023-03-13T06:52:27.799Z"
   },
   {
    "duration": 13,
    "start_time": "2023-03-13T06:52:27.815Z"
   },
   {
    "duration": 10,
    "start_time": "2023-03-13T06:52:27.829Z"
   },
   {
    "duration": 38,
    "start_time": "2023-03-13T06:52:27.840Z"
   },
   {
    "duration": 1528,
    "start_time": "2023-03-13T07:05:39.145Z"
   },
   {
    "duration": 6,
    "start_time": "2023-03-13T07:06:02.955Z"
   },
   {
    "duration": 18,
    "start_time": "2023-03-13T07:06:37.874Z"
   },
   {
    "duration": 6,
    "start_time": "2023-03-13T07:16:08.922Z"
   },
   {
    "duration": 6,
    "start_time": "2023-03-13T07:16:33.150Z"
   },
   {
    "duration": 7,
    "start_time": "2023-03-13T07:16:44.024Z"
   },
   {
    "duration": 11,
    "start_time": "2023-03-13T07:17:12.645Z"
   },
   {
    "duration": 87,
    "start_time": "2023-03-13T07:18:26.178Z"
   },
   {
    "duration": 142,
    "start_time": "2023-03-13T07:18:34.816Z"
   },
   {
    "duration": 17,
    "start_time": "2023-03-13T07:18:48.198Z"
   },
   {
    "duration": 6,
    "start_time": "2023-03-13T07:19:16.662Z"
   },
   {
    "duration": 27,
    "start_time": "2023-03-13T07:19:19.646Z"
   },
   {
    "duration": 5,
    "start_time": "2023-03-13T07:22:51.474Z"
   },
   {
    "duration": 5,
    "start_time": "2023-03-13T07:23:32.155Z"
   },
   {
    "duration": 11,
    "start_time": "2023-03-13T07:25:23.530Z"
   },
   {
    "duration": 6,
    "start_time": "2023-03-13T07:28:44.246Z"
   },
   {
    "duration": 12,
    "start_time": "2023-03-13T07:30:07.776Z"
   },
   {
    "duration": 30,
    "start_time": "2023-03-13T07:30:25.065Z"
   },
   {
    "duration": 7,
    "start_time": "2023-03-13T07:32:24.239Z"
   },
   {
    "duration": 9,
    "start_time": "2023-03-13T07:32:57.828Z"
   },
   {
    "duration": 7,
    "start_time": "2023-03-13T07:34:44.189Z"
   },
   {
    "duration": 4,
    "start_time": "2023-03-13T07:37:44.227Z"
   },
   {
    "duration": 5,
    "start_time": "2023-03-13T07:39:41.871Z"
   },
   {
    "duration": 12,
    "start_time": "2023-03-13T07:39:52.216Z"
   },
   {
    "duration": 83,
    "start_time": "2023-03-13T07:48:51.456Z"
   },
   {
    "duration": 76,
    "start_time": "2023-03-13T07:48:58.144Z"
   },
   {
    "duration": 11,
    "start_time": "2023-03-13T07:49:06.829Z"
   },
   {
    "duration": 5,
    "start_time": "2023-03-13T07:49:13.630Z"
   },
   {
    "duration": 131,
    "start_time": "2023-03-13T07:51:52.220Z"
   },
   {
    "duration": 59,
    "start_time": "2023-03-13T07:51:52.353Z"
   },
   {
    "duration": 20,
    "start_time": "2023-03-13T07:51:52.414Z"
   },
   {
    "duration": 24,
    "start_time": "2023-03-13T07:51:52.437Z"
   },
   {
    "duration": 58,
    "start_time": "2023-03-13T07:51:52.463Z"
   },
   {
    "duration": 31,
    "start_time": "2023-03-13T07:51:52.524Z"
   },
   {
    "duration": 36,
    "start_time": "2023-03-13T07:51:52.558Z"
   },
   {
    "duration": 50,
    "start_time": "2023-03-13T07:51:52.596Z"
   },
   {
    "duration": 57,
    "start_time": "2023-03-13T07:51:52.649Z"
   },
   {
    "duration": 49,
    "start_time": "2023-03-13T07:51:52.710Z"
   },
   {
    "duration": 47,
    "start_time": "2023-03-13T07:51:52.761Z"
   },
   {
    "duration": 38,
    "start_time": "2023-03-13T07:51:52.811Z"
   },
   {
    "duration": 34,
    "start_time": "2023-03-13T07:51:52.851Z"
   },
   {
    "duration": 35,
    "start_time": "2023-03-13T07:51:52.887Z"
   },
   {
    "duration": 35,
    "start_time": "2023-03-13T07:51:52.924Z"
   },
   {
    "duration": 14,
    "start_time": "2023-03-13T07:51:52.961Z"
   },
   {
    "duration": 31,
    "start_time": "2023-03-13T07:51:52.977Z"
   },
   {
    "duration": 52,
    "start_time": "2023-03-13T07:51:53.010Z"
   },
   {
    "duration": 21,
    "start_time": "2023-03-13T07:51:53.063Z"
   },
   {
    "duration": 20,
    "start_time": "2023-03-13T07:51:53.087Z"
   },
   {
    "duration": 28,
    "start_time": "2023-03-13T07:51:53.109Z"
   },
   {
    "duration": 26,
    "start_time": "2023-03-13T07:51:53.138Z"
   },
   {
    "duration": 45,
    "start_time": "2023-03-13T07:51:53.166Z"
   },
   {
    "duration": 6,
    "start_time": "2023-03-13T07:51:53.213Z"
   },
   {
    "duration": 31,
    "start_time": "2023-03-13T07:51:53.221Z"
   },
   {
    "duration": 6,
    "start_time": "2023-03-13T07:51:53.254Z"
   },
   {
    "duration": 45,
    "start_time": "2023-03-13T07:51:53.262Z"
   },
   {
    "duration": 38,
    "start_time": "2023-03-13T07:51:53.311Z"
   },
   {
    "duration": 6,
    "start_time": "2023-03-13T07:51:53.351Z"
   },
   {
    "duration": 25,
    "start_time": "2023-03-13T07:51:53.359Z"
   },
   {
    "duration": 33,
    "start_time": "2023-03-13T07:51:53.386Z"
   },
   {
    "duration": 16,
    "start_time": "2023-03-13T07:51:53.421Z"
   },
   {
    "duration": 24,
    "start_time": "2023-03-13T07:52:35.945Z"
   },
   {
    "duration": 24,
    "start_time": "2023-03-13T07:54:59.437Z"
   },
   {
    "duration": 18,
    "start_time": "2023-03-13T07:55:01.513Z"
   },
   {
    "duration": 13,
    "start_time": "2023-03-13T07:56:08.526Z"
   },
   {
    "duration": 5,
    "start_time": "2023-03-13T07:59:44.647Z"
   },
   {
    "duration": 7,
    "start_time": "2023-03-13T07:59:46.025Z"
   },
   {
    "duration": 33,
    "start_time": "2023-03-13T08:00:41.468Z"
   },
   {
    "duration": 49,
    "start_time": "2023-03-13T08:10:20.226Z"
   },
   {
    "duration": 20,
    "start_time": "2023-03-13T09:23:45.565Z"
   },
   {
    "duration": 11,
    "start_time": "2023-03-13T09:23:54.595Z"
   },
   {
    "duration": 8,
    "start_time": "2023-03-13T09:24:16.294Z"
   },
   {
    "duration": 6,
    "start_time": "2023-03-13T09:27:34.732Z"
   },
   {
    "duration": 10,
    "start_time": "2023-03-13T09:27:45.023Z"
   },
   {
    "duration": 9,
    "start_time": "2023-03-13T09:27:54.526Z"
   },
   {
    "duration": 6,
    "start_time": "2023-03-13T09:33:07.930Z"
   },
   {
    "duration": 8,
    "start_time": "2023-03-13T09:33:57.713Z"
   },
   {
    "duration": 98,
    "start_time": "2023-03-13T09:35:33.513Z"
   },
   {
    "duration": 12,
    "start_time": "2023-03-13T09:36:10.320Z"
   },
   {
    "duration": 11,
    "start_time": "2023-03-13T09:36:26.623Z"
   },
   {
    "duration": 219,
    "start_time": "2023-03-13T09:39:21.408Z"
   },
   {
    "duration": 207,
    "start_time": "2023-03-13T09:40:26.854Z"
   },
   {
    "duration": 161,
    "start_time": "2023-03-13T09:41:18.919Z"
   },
   {
    "duration": 211,
    "start_time": "2023-03-13T09:42:07.099Z"
   },
   {
    "duration": 13,
    "start_time": "2023-03-13T09:47:29.989Z"
   },
   {
    "duration": 178,
    "start_time": "2023-03-13T09:52:28.566Z"
   },
   {
    "duration": 240,
    "start_time": "2023-03-13T10:03:44.644Z"
   },
   {
    "duration": 291,
    "start_time": "2023-03-13T10:04:00.403Z"
   },
   {
    "duration": 235,
    "start_time": "2023-03-13T10:04:12.704Z"
   },
   {
    "duration": 228,
    "start_time": "2023-03-13T10:04:28.894Z"
   },
   {
    "duration": 220,
    "start_time": "2023-03-13T10:04:46.699Z"
   },
   {
    "duration": 20,
    "start_time": "2023-03-13T10:07:04.535Z"
   },
   {
    "duration": 197,
    "start_time": "2023-03-13T10:07:13.015Z"
   },
   {
    "duration": 199,
    "start_time": "2023-03-13T10:07:33.532Z"
   },
   {
    "duration": 200,
    "start_time": "2023-03-13T10:08:20.559Z"
   },
   {
    "duration": 213,
    "start_time": "2023-03-13T10:08:54.374Z"
   },
   {
    "duration": 244,
    "start_time": "2023-03-13T10:09:44.253Z"
   },
   {
    "duration": 212,
    "start_time": "2023-03-13T10:10:03.804Z"
   },
   {
    "duration": 207,
    "start_time": "2023-03-13T10:10:21.060Z"
   },
   {
    "duration": 279,
    "start_time": "2023-03-13T10:10:39.186Z"
   },
   {
    "duration": 104,
    "start_time": "2023-03-13T10:31:42.192Z"
   },
   {
    "duration": 1275,
    "start_time": "2023-03-13T10:32:25.201Z"
   },
   {
    "duration": 1575,
    "start_time": "2023-03-13T10:32:37.328Z"
   },
   {
    "duration": 5,
    "start_time": "2023-03-13T10:32:57.297Z"
   },
   {
    "duration": 36,
    "start_time": "2023-03-13T10:34:28.649Z"
   },
   {
    "duration": 63,
    "start_time": "2023-03-13T10:34:55.157Z"
   },
   {
    "duration": 8,
    "start_time": "2023-03-13T10:35:43.410Z"
   },
   {
    "duration": 10,
    "start_time": "2023-03-13T10:37:07.243Z"
   },
   {
    "duration": 13,
    "start_time": "2023-03-13T10:37:39.774Z"
   },
   {
    "duration": 14,
    "start_time": "2023-03-13T10:38:13.916Z"
   },
   {
    "duration": 244,
    "start_time": "2023-03-13T10:38:56.444Z"
   },
   {
    "duration": 178,
    "start_time": "2023-03-13T10:39:33.288Z"
   },
   {
    "duration": 14,
    "start_time": "2023-03-13T10:41:37.340Z"
   },
   {
    "duration": 29,
    "start_time": "2023-03-13T10:42:05.686Z"
   },
   {
    "duration": 81,
    "start_time": "2023-03-13T10:43:04.349Z"
   },
   {
    "duration": 183,
    "start_time": "2023-03-13T10:43:35.174Z"
   },
   {
    "duration": 10,
    "start_time": "2023-03-13T10:44:26.229Z"
   },
   {
    "duration": 8,
    "start_time": "2023-03-13T10:45:09.029Z"
   },
   {
    "duration": 16,
    "start_time": "2023-03-13T10:46:23.831Z"
   },
   {
    "duration": 10,
    "start_time": "2023-03-13T10:46:55.609Z"
   },
   {
    "duration": 113,
    "start_time": "2023-03-13T10:47:20.806Z"
   },
   {
    "duration": 45,
    "start_time": "2023-03-13T10:47:20.921Z"
   },
   {
    "duration": 15,
    "start_time": "2023-03-13T10:47:20.968Z"
   },
   {
    "duration": 17,
    "start_time": "2023-03-13T10:47:20.986Z"
   },
   {
    "duration": 39,
    "start_time": "2023-03-13T10:47:21.005Z"
   },
   {
    "duration": 5,
    "start_time": "2023-03-13T10:47:21.046Z"
   },
   {
    "duration": 14,
    "start_time": "2023-03-13T10:47:21.053Z"
   },
   {
    "duration": 24,
    "start_time": "2023-03-13T10:47:21.069Z"
   },
   {
    "duration": 25,
    "start_time": "2023-03-13T10:47:21.095Z"
   },
   {
    "duration": 23,
    "start_time": "2023-03-13T10:47:21.124Z"
   },
   {
    "duration": 38,
    "start_time": "2023-03-13T10:47:21.151Z"
   },
   {
    "duration": 15,
    "start_time": "2023-03-13T10:47:21.191Z"
   },
   {
    "duration": 16,
    "start_time": "2023-03-13T10:47:21.208Z"
   },
   {
    "duration": 3,
    "start_time": "2023-03-13T10:47:21.226Z"
   },
   {
    "duration": 19,
    "start_time": "2023-03-13T10:47:21.231Z"
   },
   {
    "duration": 26,
    "start_time": "2023-03-13T10:47:21.252Z"
   },
   {
    "duration": 26,
    "start_time": "2023-03-13T10:47:21.280Z"
   },
   {
    "duration": 30,
    "start_time": "2023-03-13T10:47:21.307Z"
   },
   {
    "duration": 38,
    "start_time": "2023-03-13T10:47:21.339Z"
   },
   {
    "duration": 12,
    "start_time": "2023-03-13T10:47:21.379Z"
   },
   {
    "duration": 9,
    "start_time": "2023-03-13T10:47:21.393Z"
   },
   {
    "duration": 16,
    "start_time": "2023-03-13T10:47:21.403Z"
   },
   {
    "duration": 38,
    "start_time": "2023-03-13T10:47:21.421Z"
   },
   {
    "duration": 5,
    "start_time": "2023-03-13T10:47:21.461Z"
   },
   {
    "duration": 36,
    "start_time": "2023-03-13T10:47:21.468Z"
   },
   {
    "duration": 5,
    "start_time": "2023-03-13T10:47:21.506Z"
   },
   {
    "duration": 21,
    "start_time": "2023-03-13T10:47:21.513Z"
   },
   {
    "duration": 38,
    "start_time": "2023-03-13T10:47:21.538Z"
   },
   {
    "duration": 7,
    "start_time": "2023-03-13T10:47:21.577Z"
   },
   {
    "duration": 12,
    "start_time": "2023-03-13T10:47:21.586Z"
   },
   {
    "duration": 5,
    "start_time": "2023-03-13T10:47:21.600Z"
   },
   {
    "duration": 6,
    "start_time": "2023-03-13T10:47:21.607Z"
   },
   {
    "duration": 25,
    "start_time": "2023-03-13T10:47:21.615Z"
   },
   {
    "duration": 39,
    "start_time": "2023-03-13T10:47:21.642Z"
   },
   {
    "duration": 14,
    "start_time": "2023-03-13T10:47:21.683Z"
   },
   {
    "duration": 18,
    "start_time": "2023-03-13T10:47:21.698Z"
   },
   {
    "duration": 25,
    "start_time": "2023-03-13T10:47:21.718Z"
   },
   {
    "duration": 51,
    "start_time": "2023-03-13T10:47:21.746Z"
   },
   {
    "duration": 12,
    "start_time": "2023-03-13T10:47:21.799Z"
   },
   {
    "duration": 36,
    "start_time": "2023-03-13T10:47:21.813Z"
   },
   {
    "duration": 16,
    "start_time": "2023-03-13T10:47:21.851Z"
   },
   {
    "duration": 203,
    "start_time": "2023-03-13T10:47:21.870Z"
   },
   {
    "duration": 158,
    "start_time": "2023-03-13T10:47:22.075Z"
   },
   {
    "duration": 12,
    "start_time": "2023-03-13T10:47:22.235Z"
   },
   {
    "duration": 179,
    "start_time": "2023-03-13T10:47:22.249Z"
   },
   {
    "duration": 277,
    "start_time": "2023-03-13T10:47:22.430Z"
   },
   {
    "duration": 198,
    "start_time": "2023-03-13T10:47:22.709Z"
   },
   {
    "duration": 269,
    "start_time": "2023-03-13T10:47:22.909Z"
   },
   {
    "duration": 180,
    "start_time": "2023-03-13T10:47:23.180Z"
   },
   {
    "duration": 183,
    "start_time": "2023-03-13T10:47:23.362Z"
   },
   {
    "duration": 190,
    "start_time": "2023-03-13T10:47:23.546Z"
   },
   {
    "duration": 217,
    "start_time": "2023-03-13T10:47:23.738Z"
   },
   {
    "duration": 68,
    "start_time": "2023-03-13T10:47:23.957Z"
   },
   {
    "duration": 4,
    "start_time": "2023-03-13T10:47:24.027Z"
   },
   {
    "duration": 75,
    "start_time": "2023-03-13T10:47:24.033Z"
   },
   {
    "duration": 7,
    "start_time": "2023-03-13T10:47:24.110Z"
   },
   {
    "duration": 9,
    "start_time": "2023-03-13T10:47:24.119Z"
   },
   {
    "duration": 31,
    "start_time": "2023-03-13T10:47:24.129Z"
   },
   {
    "duration": 171,
    "start_time": "2023-03-13T10:47:24.161Z"
   },
   {
    "duration": 175,
    "start_time": "2023-03-13T10:47:24.333Z"
   },
   {
    "duration": 24,
    "start_time": "2023-03-13T10:47:24.510Z"
   },
   {
    "duration": 189,
    "start_time": "2023-03-13T10:47:24.536Z"
   },
   {
    "duration": 8,
    "start_time": "2023-03-13T10:47:24.726Z"
   },
   {
    "duration": 12,
    "start_time": "2023-03-13T10:47:24.735Z"
   },
   {
    "duration": 14,
    "start_time": "2023-03-13T10:47:24.748Z"
   },
   {
    "duration": 24,
    "start_time": "2023-03-13T10:48:18.187Z"
   },
   {
    "duration": 1367,
    "start_time": "2023-03-13T17:23:38.630Z"
   },
   {
    "duration": 84,
    "start_time": "2023-03-13T17:23:39.999Z"
   },
   {
    "duration": 14,
    "start_time": "2023-03-13T17:23:40.085Z"
   },
   {
    "duration": 9,
    "start_time": "2023-03-13T17:23:40.101Z"
   },
   {
    "duration": 20,
    "start_time": "2023-03-13T17:23:40.112Z"
   },
   {
    "duration": 3,
    "start_time": "2023-03-13T17:23:40.134Z"
   },
   {
    "duration": 7,
    "start_time": "2023-03-13T17:23:40.139Z"
   },
   {
    "duration": 36,
    "start_time": "2023-03-13T17:23:40.148Z"
   },
   {
    "duration": 18,
    "start_time": "2023-03-13T17:23:40.185Z"
   },
   {
    "duration": 12,
    "start_time": "2023-03-13T17:23:40.205Z"
   },
   {
    "duration": 11,
    "start_time": "2023-03-13T17:23:40.218Z"
   },
   {
    "duration": 13,
    "start_time": "2023-03-13T17:23:40.231Z"
   },
   {
    "duration": 45,
    "start_time": "2023-03-13T17:23:40.245Z"
   },
   {
    "duration": 3,
    "start_time": "2023-03-13T17:23:40.292Z"
   },
   {
    "duration": 11,
    "start_time": "2023-03-13T17:23:40.296Z"
   },
   {
    "duration": 7,
    "start_time": "2023-03-13T17:23:40.309Z"
   },
   {
    "duration": 17,
    "start_time": "2023-03-13T17:23:40.318Z"
   },
   {
    "duration": 7,
    "start_time": "2023-03-13T17:23:40.336Z"
   },
   {
    "duration": 14,
    "start_time": "2023-03-13T17:23:40.345Z"
   },
   {
    "duration": 10,
    "start_time": "2023-03-13T17:23:40.360Z"
   },
   {
    "duration": 11,
    "start_time": "2023-03-13T17:23:40.371Z"
   },
   {
    "duration": 5,
    "start_time": "2023-03-13T17:23:40.384Z"
   },
   {
    "duration": 31,
    "start_time": "2023-03-13T17:23:40.391Z"
   },
   {
    "duration": 4,
    "start_time": "2023-03-13T17:23:40.424Z"
   },
   {
    "duration": 18,
    "start_time": "2023-03-13T17:23:40.430Z"
   },
   {
    "duration": 30,
    "start_time": "2023-03-13T17:23:40.449Z"
   },
   {
    "duration": 10,
    "start_time": "2023-03-13T17:23:40.481Z"
   },
   {
    "duration": 21,
    "start_time": "2023-03-13T17:23:40.494Z"
   },
   {
    "duration": 5,
    "start_time": "2023-03-13T17:23:40.516Z"
   },
   {
    "duration": 7,
    "start_time": "2023-03-13T17:23:40.522Z"
   },
   {
    "duration": 5,
    "start_time": "2023-03-13T17:23:40.530Z"
   },
   {
    "duration": 8,
    "start_time": "2023-03-13T17:23:40.536Z"
   },
   {
    "duration": 20,
    "start_time": "2023-03-13T17:23:40.579Z"
   },
   {
    "duration": 15,
    "start_time": "2023-03-13T17:23:40.600Z"
   },
   {
    "duration": 10,
    "start_time": "2023-03-13T17:23:40.616Z"
   },
   {
    "duration": 4,
    "start_time": "2023-03-13T17:23:40.628Z"
   },
   {
    "duration": 6,
    "start_time": "2023-03-13T17:23:40.633Z"
   },
   {
    "duration": 51,
    "start_time": "2023-03-13T17:23:40.640Z"
   },
   {
    "duration": 8,
    "start_time": "2023-03-13T17:23:40.693Z"
   },
   {
    "duration": 11,
    "start_time": "2023-03-13T17:23:40.703Z"
   },
   {
    "duration": 8,
    "start_time": "2023-03-13T17:23:40.715Z"
   },
   {
    "duration": 214,
    "start_time": "2023-03-13T17:23:40.725Z"
   },
   {
    "duration": 134,
    "start_time": "2023-03-13T17:23:40.940Z"
   },
   {
    "duration": 11,
    "start_time": "2023-03-13T17:23:41.080Z"
   },
   {
    "duration": 159,
    "start_time": "2023-03-13T17:23:41.093Z"
   },
   {
    "duration": 175,
    "start_time": "2023-03-13T17:23:41.254Z"
   },
   {
    "duration": 111,
    "start_time": "2023-03-13T17:23:41.431Z"
   },
   {
    "duration": 0,
    "start_time": "2023-03-13T17:23:41.543Z"
   },
   {
    "duration": 0,
    "start_time": "2023-03-13T17:23:41.544Z"
   },
   {
    "duration": 0,
    "start_time": "2023-03-13T17:23:41.546Z"
   },
   {
    "duration": 0,
    "start_time": "2023-03-13T17:23:41.547Z"
   },
   {
    "duration": 0,
    "start_time": "2023-03-13T17:23:41.548Z"
   },
   {
    "duration": 0,
    "start_time": "2023-03-13T17:23:41.549Z"
   },
   {
    "duration": 0,
    "start_time": "2023-03-13T17:23:41.550Z"
   },
   {
    "duration": 0,
    "start_time": "2023-03-13T17:23:41.551Z"
   },
   {
    "duration": 0,
    "start_time": "2023-03-13T17:23:41.552Z"
   },
   {
    "duration": 0,
    "start_time": "2023-03-13T17:23:41.553Z"
   },
   {
    "duration": 0,
    "start_time": "2023-03-13T17:23:41.554Z"
   },
   {
    "duration": 0,
    "start_time": "2023-03-13T17:23:41.554Z"
   },
   {
    "duration": 0,
    "start_time": "2023-03-13T17:23:41.555Z"
   },
   {
    "duration": 0,
    "start_time": "2023-03-13T17:23:41.579Z"
   },
   {
    "duration": 0,
    "start_time": "2023-03-13T17:23:41.581Z"
   },
   {
    "duration": 0,
    "start_time": "2023-03-13T17:23:41.582Z"
   },
   {
    "duration": 0,
    "start_time": "2023-03-13T17:23:41.584Z"
   },
   {
    "duration": 0,
    "start_time": "2023-03-13T17:23:41.584Z"
   },
   {
    "duration": 1090,
    "start_time": "2023-03-13T17:41:43.634Z"
   },
   {
    "duration": 39,
    "start_time": "2023-03-13T17:41:44.726Z"
   },
   {
    "duration": 12,
    "start_time": "2023-03-13T17:41:44.766Z"
   },
   {
    "duration": 8,
    "start_time": "2023-03-13T17:41:44.780Z"
   },
   {
    "duration": 18,
    "start_time": "2023-03-13T17:41:44.789Z"
   },
   {
    "duration": 4,
    "start_time": "2023-03-13T17:41:44.808Z"
   },
   {
    "duration": 6,
    "start_time": "2023-03-13T17:41:44.813Z"
   },
   {
    "duration": 9,
    "start_time": "2023-03-13T17:41:44.820Z"
   },
   {
    "duration": 16,
    "start_time": "2023-03-13T17:41:44.831Z"
   },
   {
    "duration": 11,
    "start_time": "2023-03-13T17:41:44.879Z"
   },
   {
    "duration": 11,
    "start_time": "2023-03-13T17:41:44.892Z"
   },
   {
    "duration": 7,
    "start_time": "2023-03-13T17:41:44.904Z"
   },
   {
    "duration": 24,
    "start_time": "2023-03-13T17:41:44.913Z"
   },
   {
    "duration": 3,
    "start_time": "2023-03-13T17:41:44.938Z"
   },
   {
    "duration": 14,
    "start_time": "2023-03-13T17:41:44.942Z"
   },
   {
    "duration": 8,
    "start_time": "2023-03-13T17:41:44.958Z"
   },
   {
    "duration": 14,
    "start_time": "2023-03-13T17:41:44.967Z"
   },
   {
    "duration": 21,
    "start_time": "2023-03-13T17:41:44.982Z"
   },
   {
    "duration": 15,
    "start_time": "2023-03-13T17:41:45.005Z"
   },
   {
    "duration": 34,
    "start_time": "2023-03-13T17:41:45.021Z"
   },
   {
    "duration": 42,
    "start_time": "2023-03-13T17:41:45.057Z"
   },
   {
    "duration": 11,
    "start_time": "2023-03-13T17:41:45.100Z"
   },
   {
    "duration": 29,
    "start_time": "2023-03-13T17:41:45.112Z"
   },
   {
    "duration": 5,
    "start_time": "2023-03-13T17:41:45.142Z"
   },
   {
    "duration": 21,
    "start_time": "2023-03-13T17:41:45.150Z"
   },
   {
    "duration": 4,
    "start_time": "2023-03-13T17:41:45.173Z"
   },
   {
    "duration": 27,
    "start_time": "2023-03-13T17:41:45.178Z"
   },
   {
    "duration": 25,
    "start_time": "2023-03-13T17:41:45.208Z"
   },
   {
    "duration": 5,
    "start_time": "2023-03-13T17:41:45.234Z"
   },
   {
    "duration": 10,
    "start_time": "2023-03-13T17:41:45.240Z"
   },
   {
    "duration": 11,
    "start_time": "2023-03-13T17:41:45.251Z"
   },
   {
    "duration": 8,
    "start_time": "2023-03-13T17:41:45.264Z"
   },
   {
    "duration": 24,
    "start_time": "2023-03-13T17:41:45.273Z"
   },
   {
    "duration": 13,
    "start_time": "2023-03-13T17:41:45.298Z"
   },
   {
    "duration": 24,
    "start_time": "2023-03-13T17:41:45.312Z"
   },
   {
    "duration": 8,
    "start_time": "2023-03-13T17:41:45.337Z"
   },
   {
    "duration": 7,
    "start_time": "2023-03-13T17:41:45.346Z"
   },
   {
    "duration": 36,
    "start_time": "2023-03-13T17:41:45.354Z"
   },
   {
    "duration": 6,
    "start_time": "2023-03-13T17:41:45.392Z"
   },
   {
    "duration": 7,
    "start_time": "2023-03-13T17:41:45.399Z"
   },
   {
    "duration": 9,
    "start_time": "2023-03-13T17:41:45.407Z"
   },
   {
    "duration": 147,
    "start_time": "2023-03-13T17:41:45.417Z"
   },
   {
    "duration": 117,
    "start_time": "2023-03-13T17:41:45.566Z"
   },
   {
    "duration": 10,
    "start_time": "2023-03-13T17:41:45.684Z"
   },
   {
    "duration": 126,
    "start_time": "2023-03-13T17:41:45.695Z"
   },
   {
    "duration": 152,
    "start_time": "2023-03-13T17:41:45.823Z"
   },
   {
    "duration": 106,
    "start_time": "2023-03-13T17:41:45.979Z"
   },
   {
    "duration": 0,
    "start_time": "2023-03-13T17:41:46.086Z"
   },
   {
    "duration": 0,
    "start_time": "2023-03-13T17:41:46.087Z"
   },
   {
    "duration": 0,
    "start_time": "2023-03-13T17:41:46.088Z"
   },
   {
    "duration": 0,
    "start_time": "2023-03-13T17:41:46.089Z"
   },
   {
    "duration": 0,
    "start_time": "2023-03-13T17:41:46.090Z"
   },
   {
    "duration": 0,
    "start_time": "2023-03-13T17:41:46.091Z"
   },
   {
    "duration": 0,
    "start_time": "2023-03-13T17:41:46.091Z"
   },
   {
    "duration": 0,
    "start_time": "2023-03-13T17:41:46.092Z"
   },
   {
    "duration": 0,
    "start_time": "2023-03-13T17:41:46.093Z"
   },
   {
    "duration": 0,
    "start_time": "2023-03-13T17:41:46.094Z"
   },
   {
    "duration": 0,
    "start_time": "2023-03-13T17:41:46.094Z"
   },
   {
    "duration": 0,
    "start_time": "2023-03-13T17:41:46.095Z"
   },
   {
    "duration": 0,
    "start_time": "2023-03-13T17:41:46.096Z"
   },
   {
    "duration": 0,
    "start_time": "2023-03-13T17:41:46.096Z"
   },
   {
    "duration": 0,
    "start_time": "2023-03-13T17:41:46.097Z"
   },
   {
    "duration": 0,
    "start_time": "2023-03-13T17:41:46.098Z"
   },
   {
    "duration": 0,
    "start_time": "2023-03-13T17:41:46.098Z"
   },
   {
    "duration": 0,
    "start_time": "2023-03-13T17:41:46.099Z"
   },
   {
    "duration": 409,
    "start_time": "2023-03-13T18:06:34.510Z"
   },
   {
    "duration": 49,
    "start_time": "2023-03-14T10:00:03.438Z"
   },
   {
    "duration": 1656,
    "start_time": "2023-03-14T10:00:12.132Z"
   },
   {
    "duration": 72,
    "start_time": "2023-03-14T10:00:13.790Z"
   },
   {
    "duration": 17,
    "start_time": "2023-03-14T10:00:13.864Z"
   },
   {
    "duration": 13,
    "start_time": "2023-03-14T10:00:13.883Z"
   },
   {
    "duration": 28,
    "start_time": "2023-03-14T10:00:13.898Z"
   },
   {
    "duration": 16,
    "start_time": "2023-03-14T10:00:13.928Z"
   },
   {
    "duration": 10,
    "start_time": "2023-03-14T10:00:13.945Z"
   },
   {
    "duration": 30,
    "start_time": "2023-03-14T10:00:13.957Z"
   },
   {
    "duration": 26,
    "start_time": "2023-03-14T10:00:13.989Z"
   },
   {
    "duration": 32,
    "start_time": "2023-03-14T10:00:14.018Z"
   },
   {
    "duration": 13,
    "start_time": "2023-03-14T10:00:14.051Z"
   },
   {
    "duration": 23,
    "start_time": "2023-03-14T10:00:14.066Z"
   },
   {
    "duration": 23,
    "start_time": "2023-03-14T10:00:14.090Z"
   },
   {
    "duration": 9,
    "start_time": "2023-03-14T10:00:14.115Z"
   },
   {
    "duration": 21,
    "start_time": "2023-03-14T10:00:14.126Z"
   },
   {
    "duration": 6,
    "start_time": "2023-03-14T10:00:14.148Z"
   },
   {
    "duration": 12,
    "start_time": "2023-03-14T10:00:14.155Z"
   },
   {
    "duration": 12,
    "start_time": "2023-03-14T10:00:14.169Z"
   },
   {
    "duration": 6,
    "start_time": "2023-03-14T10:00:14.182Z"
   },
   {
    "duration": 15,
    "start_time": "2023-03-14T10:00:14.190Z"
   },
   {
    "duration": 19,
    "start_time": "2023-03-14T10:00:14.206Z"
   },
   {
    "duration": 12,
    "start_time": "2023-03-14T10:00:14.227Z"
   },
   {
    "duration": 33,
    "start_time": "2023-03-14T10:00:14.241Z"
   },
   {
    "duration": 4,
    "start_time": "2023-03-14T10:00:14.275Z"
   },
   {
    "duration": 33,
    "start_time": "2023-03-14T10:00:14.280Z"
   },
   {
    "duration": 6,
    "start_time": "2023-03-14T10:00:14.314Z"
   },
   {
    "duration": 14,
    "start_time": "2023-03-14T10:00:14.322Z"
   },
   {
    "duration": 54,
    "start_time": "2023-03-14T10:00:14.343Z"
   },
   {
    "duration": 7,
    "start_time": "2023-03-14T10:00:14.399Z"
   },
   {
    "duration": 17,
    "start_time": "2023-03-14T10:00:14.407Z"
   },
   {
    "duration": 15,
    "start_time": "2023-03-14T10:00:14.426Z"
   },
   {
    "duration": 20,
    "start_time": "2023-03-14T10:00:14.443Z"
   },
   {
    "duration": 37,
    "start_time": "2023-03-14T10:00:14.465Z"
   },
   {
    "duration": 17,
    "start_time": "2023-03-14T10:00:14.504Z"
   },
   {
    "duration": 22,
    "start_time": "2023-03-14T10:00:14.522Z"
   },
   {
    "duration": 4,
    "start_time": "2023-03-14T10:00:14.546Z"
   },
   {
    "duration": 7,
    "start_time": "2023-03-14T10:00:14.551Z"
   },
   {
    "duration": 36,
    "start_time": "2023-03-14T10:00:14.560Z"
   },
   {
    "duration": 8,
    "start_time": "2023-03-14T10:00:14.597Z"
   },
   {
    "duration": 12,
    "start_time": "2023-03-14T10:00:14.607Z"
   },
   {
    "duration": 26,
    "start_time": "2023-03-14T10:00:14.621Z"
   },
   {
    "duration": 184,
    "start_time": "2023-03-14T10:00:14.648Z"
   },
   {
    "duration": 151,
    "start_time": "2023-03-14T10:00:14.833Z"
   },
   {
    "duration": 13,
    "start_time": "2023-03-14T10:00:14.985Z"
   },
   {
    "duration": 174,
    "start_time": "2023-03-14T10:00:15.000Z"
   },
   {
    "duration": 196,
    "start_time": "2023-03-14T10:00:15.176Z"
   },
   {
    "duration": 196,
    "start_time": "2023-03-14T10:00:15.374Z"
   },
   {
    "duration": 182,
    "start_time": "2023-03-14T10:00:15.572Z"
   },
   {
    "duration": 253,
    "start_time": "2023-03-14T10:00:15.756Z"
   },
   {
    "duration": 185,
    "start_time": "2023-03-14T10:00:16.010Z"
   },
   {
    "duration": 181,
    "start_time": "2023-03-14T10:00:16.196Z"
   },
   {
    "duration": 182,
    "start_time": "2023-03-14T10:00:16.378Z"
   },
   {
    "duration": 69,
    "start_time": "2023-03-14T10:00:16.561Z"
   },
   {
    "duration": 4,
    "start_time": "2023-03-14T10:00:16.632Z"
   },
   {
    "duration": 58,
    "start_time": "2023-03-14T10:00:16.641Z"
   },
   {
    "duration": 5,
    "start_time": "2023-03-14T10:00:16.700Z"
   },
   {
    "duration": 17,
    "start_time": "2023-03-14T10:00:16.706Z"
   },
   {
    "duration": 22,
    "start_time": "2023-03-14T10:00:16.725Z"
   },
   {
    "duration": 151,
    "start_time": "2023-03-14T10:00:16.749Z"
   },
   {
    "duration": 171,
    "start_time": "2023-03-14T10:00:16.902Z"
   },
   {
    "duration": 26,
    "start_time": "2023-03-14T10:00:17.074Z"
   },
   {
    "duration": 172,
    "start_time": "2023-03-14T10:00:17.101Z"
   },
   {
    "duration": 7,
    "start_time": "2023-03-14T10:00:17.274Z"
   },
   {
    "duration": 13,
    "start_time": "2023-03-14T10:00:17.283Z"
   },
   {
    "duration": 9,
    "start_time": "2023-03-14T10:00:17.298Z"
   },
   {
    "duration": 1444,
    "start_time": "2023-03-15T10:00:07.832Z"
   },
   {
    "duration": 312,
    "start_time": "2023-03-15T10:00:18.270Z"
   },
   {
    "duration": 79,
    "start_time": "2023-03-15T10:00:50.658Z"
   },
   {
    "duration": 19,
    "start_time": "2023-03-15T10:00:52.315Z"
   },
   {
    "duration": 92,
    "start_time": "2023-03-15T10:01:09.158Z"
   },
   {
    "duration": 8,
    "start_time": "2023-03-15T10:01:11.931Z"
   },
   {
    "duration": 3,
    "start_time": "2023-03-15T10:01:40.682Z"
   },
   {
    "duration": 87,
    "start_time": "2023-03-15T10:01:40.686Z"
   },
   {
    "duration": 18,
    "start_time": "2023-03-15T10:01:40.775Z"
   },
   {
    "duration": 32,
    "start_time": "2023-03-15T10:01:40.795Z"
   },
   {
    "duration": 9,
    "start_time": "2023-03-15T10:01:40.829Z"
   },
   {
    "duration": 19,
    "start_time": "2023-03-15T10:01:40.839Z"
   },
   {
    "duration": 10,
    "start_time": "2023-03-15T10:01:40.859Z"
   },
   {
    "duration": 22,
    "start_time": "2023-03-15T10:01:40.870Z"
   },
   {
    "duration": 3,
    "start_time": "2023-03-15T10:01:40.893Z"
   },
   {
    "duration": 6,
    "start_time": "2023-03-15T10:01:40.898Z"
   },
   {
    "duration": 10,
    "start_time": "2023-03-15T10:01:40.906Z"
   },
   {
    "duration": 50,
    "start_time": "2023-03-15T10:01:40.917Z"
   },
   {
    "duration": 13,
    "start_time": "2023-03-15T10:01:40.969Z"
   },
   {
    "duration": 12,
    "start_time": "2023-03-15T10:01:40.985Z"
   },
   {
    "duration": 9,
    "start_time": "2023-03-15T10:01:40.999Z"
   },
   {
    "duration": 46,
    "start_time": "2023-03-15T10:01:41.010Z"
   },
   {
    "duration": 3,
    "start_time": "2023-03-15T10:01:41.057Z"
   },
   {
    "duration": 10,
    "start_time": "2023-03-15T10:01:41.061Z"
   },
   {
    "duration": 5,
    "start_time": "2023-03-15T10:01:41.072Z"
   },
   {
    "duration": 10,
    "start_time": "2023-03-15T10:01:41.079Z"
   },
   {
    "duration": 4,
    "start_time": "2023-03-15T10:01:41.091Z"
   },
   {
    "duration": 5,
    "start_time": "2023-03-15T10:01:41.097Z"
   },
   {
    "duration": 4,
    "start_time": "2023-03-15T10:01:41.103Z"
   },
   {
    "duration": 15,
    "start_time": "2023-03-15T10:01:41.108Z"
   },
   {
    "duration": 32,
    "start_time": "2023-03-15T10:01:41.124Z"
   },
   {
    "duration": 25,
    "start_time": "2023-03-15T10:01:41.157Z"
   },
   {
    "duration": 5,
    "start_time": "2023-03-15T10:01:41.183Z"
   },
   {
    "duration": 22,
    "start_time": "2023-03-15T10:01:41.189Z"
   },
   {
    "duration": 5,
    "start_time": "2023-03-15T10:01:41.212Z"
   },
   {
    "duration": 44,
    "start_time": "2023-03-15T10:01:41.219Z"
   },
   {
    "duration": 25,
    "start_time": "2023-03-15T10:01:41.264Z"
   },
   {
    "duration": 5,
    "start_time": "2023-03-15T10:01:41.290Z"
   },
   {
    "duration": 7,
    "start_time": "2023-03-15T10:01:41.296Z"
   },
   {
    "duration": 5,
    "start_time": "2023-03-15T10:01:41.305Z"
   },
   {
    "duration": 7,
    "start_time": "2023-03-15T10:01:41.311Z"
   },
   {
    "duration": 52,
    "start_time": "2023-03-15T10:01:41.319Z"
   },
   {
    "duration": 16,
    "start_time": "2023-03-15T10:01:41.372Z"
   },
   {
    "duration": 14,
    "start_time": "2023-03-15T10:01:41.389Z"
   },
   {
    "duration": 4,
    "start_time": "2023-03-15T10:01:41.404Z"
   },
   {
    "duration": 10,
    "start_time": "2023-03-15T10:01:41.409Z"
   },
   {
    "duration": 52,
    "start_time": "2023-03-15T10:01:41.422Z"
   },
   {
    "duration": 7,
    "start_time": "2023-03-15T10:01:41.476Z"
   },
   {
    "duration": 7,
    "start_time": "2023-03-15T10:01:41.484Z"
   },
   {
    "duration": 6,
    "start_time": "2023-03-15T10:01:41.493Z"
   },
   {
    "duration": 188,
    "start_time": "2023-03-15T10:01:41.501Z"
   },
   {
    "duration": 139,
    "start_time": "2023-03-15T10:01:41.690Z"
   },
   {
    "duration": 11,
    "start_time": "2023-03-15T10:01:41.831Z"
   },
   {
    "duration": 139,
    "start_time": "2023-03-15T10:01:41.854Z"
   },
   {
    "duration": 183,
    "start_time": "2023-03-15T10:01:41.995Z"
   },
   {
    "duration": 163,
    "start_time": "2023-03-15T10:01:42.180Z"
   },
   {
    "duration": 162,
    "start_time": "2023-03-15T10:01:42.344Z"
   },
   {
    "duration": 219,
    "start_time": "2023-03-15T10:01:42.507Z"
   },
   {
    "duration": 172,
    "start_time": "2023-03-15T10:01:42.727Z"
   },
   {
    "duration": 165,
    "start_time": "2023-03-15T10:01:42.900Z"
   },
   {
    "duration": 169,
    "start_time": "2023-03-15T10:01:43.066Z"
   },
   {
    "duration": 76,
    "start_time": "2023-03-15T10:01:43.237Z"
   },
   {
    "duration": 5,
    "start_time": "2023-03-15T10:01:43.315Z"
   },
   {
    "duration": 65,
    "start_time": "2023-03-15T10:01:43.321Z"
   },
   {
    "duration": 7,
    "start_time": "2023-03-15T10:01:43.388Z"
   },
   {
    "duration": 20,
    "start_time": "2023-03-15T10:01:43.396Z"
   },
   {
    "duration": 12,
    "start_time": "2023-03-15T10:01:43.417Z"
   },
   {
    "duration": 128,
    "start_time": "2023-03-15T10:01:43.431Z"
   },
   {
    "duration": 158,
    "start_time": "2023-03-15T10:01:43.561Z"
   },
   {
    "duration": 22,
    "start_time": "2023-03-15T10:01:43.720Z"
   },
   {
    "duration": 161,
    "start_time": "2023-03-15T10:01:43.743Z"
   },
   {
    "duration": 7,
    "start_time": "2023-03-15T10:01:43.906Z"
   },
   {
    "duration": 7,
    "start_time": "2023-03-15T10:01:43.914Z"
   },
   {
    "duration": 11,
    "start_time": "2023-03-15T10:01:43.922Z"
   },
   {
    "duration": 3,
    "start_time": "2023-03-15T10:02:28.323Z"
   },
   {
    "duration": 7,
    "start_time": "2023-03-15T10:02:44.376Z"
   },
   {
    "duration": 4,
    "start_time": "2023-03-15T10:09:56.454Z"
   },
   {
    "duration": 30,
    "start_time": "2023-03-15T10:12:24.323Z"
   },
   {
    "duration": 5,
    "start_time": "2023-03-15T10:18:38.233Z"
   },
   {
    "duration": 137,
    "start_time": "2023-03-15T10:19:50.046Z"
   },
   {
    "duration": 5,
    "start_time": "2023-03-15T10:21:02.742Z"
   },
   {
    "duration": 2,
    "start_time": "2023-03-15T10:35:30.423Z"
   },
   {
    "duration": 99,
    "start_time": "2023-03-15T10:35:30.427Z"
   },
   {
    "duration": 17,
    "start_time": "2023-03-15T10:35:30.527Z"
   },
   {
    "duration": 38,
    "start_time": "2023-03-15T10:35:30.556Z"
   },
   {
    "duration": 7,
    "start_time": "2023-03-15T10:35:30.596Z"
   },
   {
    "duration": 46,
    "start_time": "2023-03-15T10:35:30.604Z"
   },
   {
    "duration": 23,
    "start_time": "2023-03-15T10:35:30.652Z"
   },
   {
    "duration": 44,
    "start_time": "2023-03-15T10:35:30.677Z"
   },
   {
    "duration": 4,
    "start_time": "2023-03-15T10:35:30.723Z"
   },
   {
    "duration": 35,
    "start_time": "2023-03-15T10:35:30.729Z"
   },
   {
    "duration": 29,
    "start_time": "2023-03-15T10:35:30.767Z"
   },
   {
    "duration": 27,
    "start_time": "2023-03-15T10:35:30.797Z"
   },
   {
    "duration": 35,
    "start_time": "2023-03-15T10:35:30.826Z"
   },
   {
    "duration": 38,
    "start_time": "2023-03-15T10:35:30.863Z"
   },
   {
    "duration": 21,
    "start_time": "2023-03-15T10:35:30.903Z"
   },
   {
    "duration": 45,
    "start_time": "2023-03-15T10:35:30.926Z"
   },
   {
    "duration": 6,
    "start_time": "2023-03-15T10:35:30.973Z"
   },
   {
    "duration": 28,
    "start_time": "2023-03-15T10:35:30.981Z"
   },
   {
    "duration": 35,
    "start_time": "2023-03-15T10:35:31.011Z"
   },
   {
    "duration": 22,
    "start_time": "2023-03-15T10:35:31.048Z"
   },
   {
    "duration": 25,
    "start_time": "2023-03-15T10:35:31.072Z"
   },
   {
    "duration": 34,
    "start_time": "2023-03-15T10:35:31.098Z"
   },
   {
    "duration": 24,
    "start_time": "2023-03-15T10:35:31.133Z"
   },
   {
    "duration": 41,
    "start_time": "2023-03-15T10:35:31.158Z"
   },
   {
    "duration": 21,
    "start_time": "2023-03-15T10:35:31.201Z"
   },
   {
    "duration": 57,
    "start_time": "2023-03-15T10:35:31.225Z"
   },
   {
    "duration": 5,
    "start_time": "2023-03-15T10:35:31.283Z"
   },
   {
    "duration": 48,
    "start_time": "2023-03-15T10:35:31.289Z"
   },
   {
    "duration": 35,
    "start_time": "2023-03-15T10:35:31.340Z"
   },
   {
    "duration": 44,
    "start_time": "2023-03-15T10:35:31.376Z"
   },
   {
    "duration": 26,
    "start_time": "2023-03-15T10:35:31.422Z"
   },
   {
    "duration": 39,
    "start_time": "2023-03-15T10:35:31.449Z"
   },
   {
    "duration": 5,
    "start_time": "2023-03-15T10:35:31.489Z"
   },
   {
    "duration": 26,
    "start_time": "2023-03-15T10:35:31.496Z"
   },
   {
    "duration": 41,
    "start_time": "2023-03-15T10:35:31.523Z"
   },
   {
    "duration": 10,
    "start_time": "2023-03-15T10:35:31.566Z"
   },
   {
    "duration": 37,
    "start_time": "2023-03-15T10:35:31.577Z"
   },
   {
    "duration": 22,
    "start_time": "2023-03-15T10:35:31.615Z"
   },
   {
    "duration": 13,
    "start_time": "2023-03-15T10:35:31.639Z"
   },
   {
    "duration": 29,
    "start_time": "2023-03-15T10:35:31.654Z"
   },
   {
    "duration": 36,
    "start_time": "2023-03-15T10:35:31.685Z"
   },
   {
    "duration": 22,
    "start_time": "2023-03-15T10:35:31.722Z"
   },
   {
    "duration": 9,
    "start_time": "2023-03-15T10:35:31.751Z"
   },
   {
    "duration": 12,
    "start_time": "2023-03-15T10:35:31.762Z"
   },
   {
    "duration": 57,
    "start_time": "2023-03-15T10:35:31.776Z"
   },
   {
    "duration": 8,
    "start_time": "2023-03-15T10:35:31.835Z"
   },
   {
    "duration": 46,
    "start_time": "2023-03-15T10:35:31.845Z"
   },
   {
    "duration": 28,
    "start_time": "2023-03-15T10:35:31.893Z"
   },
   {
    "duration": 183,
    "start_time": "2023-03-15T10:35:31.923Z"
   },
   {
    "duration": 139,
    "start_time": "2023-03-15T10:35:32.107Z"
   },
   {
    "duration": 15,
    "start_time": "2023-03-15T10:35:32.247Z"
   },
   {
    "duration": 206,
    "start_time": "2023-03-15T10:35:32.263Z"
   },
   {
    "duration": 164,
    "start_time": "2023-03-15T10:35:32.470Z"
   },
   {
    "duration": 162,
    "start_time": "2023-03-15T10:35:32.635Z"
   },
   {
    "duration": 172,
    "start_time": "2023-03-15T10:35:32.799Z"
   },
   {
    "duration": 169,
    "start_time": "2023-03-15T10:35:32.973Z"
   },
   {
    "duration": 168,
    "start_time": "2023-03-15T10:35:33.144Z"
   },
   {
    "duration": 171,
    "start_time": "2023-03-15T10:35:33.314Z"
   },
   {
    "duration": 160,
    "start_time": "2023-03-15T10:35:33.487Z"
   },
   {
    "duration": 43,
    "start_time": "2023-03-15T10:35:33.649Z"
   },
   {
    "duration": 4,
    "start_time": "2023-03-15T10:35:33.694Z"
   },
   {
    "duration": 70,
    "start_time": "2023-03-15T10:35:33.700Z"
   },
   {
    "duration": 6,
    "start_time": "2023-03-15T10:35:33.771Z"
   },
   {
    "duration": 6,
    "start_time": "2023-03-15T10:35:33.778Z"
   },
   {
    "duration": 9,
    "start_time": "2023-03-15T10:35:33.785Z"
   },
   {
    "duration": 149,
    "start_time": "2023-03-15T10:35:33.795Z"
   },
   {
    "duration": 143,
    "start_time": "2023-03-15T10:35:33.945Z"
   },
   {
    "duration": 18,
    "start_time": "2023-03-15T10:35:34.090Z"
   },
   {
    "duration": 161,
    "start_time": "2023-03-15T10:35:34.109Z"
   },
   {
    "duration": 6,
    "start_time": "2023-03-15T10:35:34.272Z"
   },
   {
    "duration": 6,
    "start_time": "2023-03-15T10:35:34.280Z"
   },
   {
    "duration": 10,
    "start_time": "2023-03-15T10:35:34.288Z"
   },
   {
    "duration": 6,
    "start_time": "2023-03-15T10:37:44.004Z"
   },
   {
    "duration": 136,
    "start_time": "2023-03-15T10:38:35.956Z"
   },
   {
    "duration": 5,
    "start_time": "2023-03-15T10:38:52.681Z"
   },
   {
    "duration": 107,
    "start_time": "2023-03-15T10:40:11.423Z"
   },
   {
    "duration": 8,
    "start_time": "2023-03-15T10:41:41.775Z"
   },
   {
    "duration": 7,
    "start_time": "2023-03-15T10:42:08.759Z"
   },
   {
    "duration": 7,
    "start_time": "2023-03-15T10:42:23.320Z"
   },
   {
    "duration": 1486,
    "start_time": "2023-03-16T10:22:54.782Z"
   },
   {
    "duration": 298,
    "start_time": "2023-03-16T10:22:56.270Z"
   },
   {
    "duration": 26,
    "start_time": "2023-03-16T10:22:56.569Z"
   },
   {
    "duration": 72,
    "start_time": "2023-03-16T10:22:56.597Z"
   },
   {
    "duration": 7,
    "start_time": "2023-03-16T10:22:56.672Z"
   },
   {
    "duration": 19,
    "start_time": "2023-03-16T10:22:56.681Z"
   },
   {
    "duration": 11,
    "start_time": "2023-03-16T10:22:56.701Z"
   },
   {
    "duration": 35,
    "start_time": "2023-03-16T10:22:56.714Z"
   },
   {
    "duration": 4,
    "start_time": "2023-03-16T10:22:56.750Z"
   },
   {
    "duration": 18,
    "start_time": "2023-03-16T10:22:56.756Z"
   },
   {
    "duration": 26,
    "start_time": "2023-03-16T10:22:56.776Z"
   },
   {
    "duration": 19,
    "start_time": "2023-03-16T10:22:56.804Z"
   },
   {
    "duration": 18,
    "start_time": "2023-03-16T10:22:56.825Z"
   },
   {
    "duration": 13,
    "start_time": "2023-03-16T10:22:56.846Z"
   },
   {
    "duration": 28,
    "start_time": "2023-03-16T10:22:56.861Z"
   },
   {
    "duration": 16,
    "start_time": "2023-03-16T10:22:56.891Z"
   },
   {
    "duration": 3,
    "start_time": "2023-03-16T10:22:56.909Z"
   },
   {
    "duration": 25,
    "start_time": "2023-03-16T10:22:56.913Z"
   },
   {
    "duration": 10,
    "start_time": "2023-03-16T10:22:56.940Z"
   },
   {
    "duration": 13,
    "start_time": "2023-03-16T10:22:56.952Z"
   },
   {
    "duration": 5,
    "start_time": "2023-03-16T10:22:56.967Z"
   },
   {
    "duration": 7,
    "start_time": "2023-03-16T10:22:56.973Z"
   },
   {
    "duration": 6,
    "start_time": "2023-03-16T10:22:56.981Z"
   },
   {
    "duration": 14,
    "start_time": "2023-03-16T10:22:56.988Z"
   },
   {
    "duration": 23,
    "start_time": "2023-03-16T10:22:57.005Z"
   },
   {
    "duration": 33,
    "start_time": "2023-03-16T10:22:57.030Z"
   },
   {
    "duration": 4,
    "start_time": "2023-03-16T10:22:57.065Z"
   },
   {
    "duration": 21,
    "start_time": "2023-03-16T10:22:57.071Z"
   },
   {
    "duration": 12,
    "start_time": "2023-03-16T10:22:57.094Z"
   },
   {
    "duration": 13,
    "start_time": "2023-03-16T10:22:57.108Z"
   },
   {
    "duration": 21,
    "start_time": "2023-03-16T10:22:57.123Z"
   },
   {
    "duration": 29,
    "start_time": "2023-03-16T10:22:57.146Z"
   },
   {
    "duration": 5,
    "start_time": "2023-03-16T10:22:57.177Z"
   },
   {
    "duration": 21,
    "start_time": "2023-03-16T10:22:57.183Z"
   },
   {
    "duration": 20,
    "start_time": "2023-03-16T10:22:57.206Z"
   },
   {
    "duration": 14,
    "start_time": "2023-03-16T10:22:57.228Z"
   },
   {
    "duration": 34,
    "start_time": "2023-03-16T10:22:57.244Z"
   },
   {
    "duration": 7,
    "start_time": "2023-03-16T10:22:57.280Z"
   },
   {
    "duration": 20,
    "start_time": "2023-03-16T10:22:57.288Z"
   },
   {
    "duration": 6,
    "start_time": "2023-03-16T10:22:57.309Z"
   },
   {
    "duration": 4,
    "start_time": "2023-03-16T10:22:57.318Z"
   },
   {
    "duration": 27,
    "start_time": "2023-03-16T10:22:57.341Z"
   },
   {
    "duration": 23,
    "start_time": "2023-03-16T10:22:57.370Z"
   },
   {
    "duration": 13,
    "start_time": "2023-03-16T10:22:57.395Z"
   },
   {
    "duration": 3,
    "start_time": "2023-03-16T10:22:57.410Z"
   },
   {
    "duration": 27,
    "start_time": "2023-03-16T10:22:57.414Z"
   },
   {
    "duration": 28,
    "start_time": "2023-03-16T10:22:57.443Z"
   },
   {
    "duration": 9,
    "start_time": "2023-03-16T10:22:57.473Z"
   },
   {
    "duration": 8,
    "start_time": "2023-03-16T10:22:57.483Z"
   },
   {
    "duration": 6,
    "start_time": "2023-03-16T10:22:57.493Z"
   },
   {
    "duration": 203,
    "start_time": "2023-03-16T10:22:57.501Z"
   },
   {
    "duration": 192,
    "start_time": "2023-03-16T10:22:57.706Z"
   },
   {
    "duration": 15,
    "start_time": "2023-03-16T10:22:57.901Z"
   },
   {
    "duration": 208,
    "start_time": "2023-03-16T10:22:57.918Z"
   },
   {
    "duration": 196,
    "start_time": "2023-03-16T10:22:58.127Z"
   },
   {
    "duration": 180,
    "start_time": "2023-03-16T10:22:58.324Z"
   },
   {
    "duration": 177,
    "start_time": "2023-03-16T10:22:58.506Z"
   },
   {
    "duration": 257,
    "start_time": "2023-03-16T10:22:58.686Z"
   },
   {
    "duration": 193,
    "start_time": "2023-03-16T10:22:58.945Z"
   },
   {
    "duration": 198,
    "start_time": "2023-03-16T10:22:59.140Z"
   },
   {
    "duration": 179,
    "start_time": "2023-03-16T10:22:59.341Z"
   },
   {
    "duration": 76,
    "start_time": "2023-03-16T10:22:59.522Z"
   },
   {
    "duration": 6,
    "start_time": "2023-03-16T10:22:59.600Z"
   },
   {
    "duration": 57,
    "start_time": "2023-03-16T10:22:59.608Z"
   },
   {
    "duration": 6,
    "start_time": "2023-03-16T10:22:59.666Z"
   },
   {
    "duration": 22,
    "start_time": "2023-03-16T10:22:59.674Z"
   },
   {
    "duration": 18,
    "start_time": "2023-03-16T10:22:59.698Z"
   },
   {
    "duration": 179,
    "start_time": "2023-03-16T10:22:59.718Z"
   },
   {
    "duration": 178,
    "start_time": "2023-03-16T10:22:59.899Z"
   },
   {
    "duration": 24,
    "start_time": "2023-03-16T10:23:00.079Z"
   },
   {
    "duration": 185,
    "start_time": "2023-03-16T10:23:00.105Z"
   },
   {
    "duration": 8,
    "start_time": "2023-03-16T10:23:00.291Z"
   },
   {
    "duration": 31,
    "start_time": "2023-03-16T10:23:00.301Z"
   },
   {
    "duration": 43,
    "start_time": "2023-03-16T10:23:00.334Z"
   },
   {
    "duration": 6,
    "start_time": "2023-03-16T10:42:12.232Z"
   },
   {
    "duration": 6,
    "start_time": "2023-03-16T10:43:49.488Z"
   },
   {
    "duration": 7,
    "start_time": "2023-03-16T10:44:20.604Z"
   },
   {
    "duration": 8,
    "start_time": "2023-03-16T10:44:31.353Z"
   },
   {
    "duration": 6,
    "start_time": "2023-03-16T10:44:54.658Z"
   },
   {
    "duration": 6,
    "start_time": "2023-03-16T10:45:02.891Z"
   },
   {
    "duration": 7,
    "start_time": "2023-03-16T10:45:13.762Z"
   },
   {
    "duration": 7,
    "start_time": "2023-03-16T10:45:21.729Z"
   },
   {
    "duration": 129,
    "start_time": "2023-03-16T10:45:32.951Z"
   },
   {
    "duration": 8,
    "start_time": "2023-03-16T10:45:38.305Z"
   },
   {
    "duration": 7,
    "start_time": "2023-03-16T10:47:18.733Z"
   },
   {
    "duration": 5,
    "start_time": "2023-03-16T10:47:38.765Z"
   },
   {
    "duration": 102,
    "start_time": "2023-03-16T10:47:44.057Z"
   },
   {
    "duration": 13,
    "start_time": "2023-03-16T10:49:17.584Z"
   },
   {
    "duration": 10,
    "start_time": "2023-03-16T10:50:13.881Z"
   },
   {
    "duration": 123,
    "start_time": "2023-03-16T11:17:08.849Z"
   },
   {
    "duration": 4,
    "start_time": "2023-03-16T11:17:28.310Z"
   },
   {
    "duration": 4,
    "start_time": "2023-03-16T11:17:50.473Z"
   },
   {
    "duration": 105,
    "start_time": "2023-03-16T11:17:57.814Z"
   },
   {
    "duration": 11,
    "start_time": "2023-03-16T11:18:30.455Z"
   },
   {
    "duration": 10,
    "start_time": "2023-03-16T11:18:38.385Z"
   },
   {
    "duration": 8,
    "start_time": "2023-03-16T11:19:00.656Z"
   },
   {
    "duration": 12,
    "start_time": "2023-03-16T11:19:53.006Z"
   },
   {
    "duration": 20,
    "start_time": "2023-03-16T11:27:52.201Z"
   },
   {
    "duration": 17,
    "start_time": "2023-03-16T11:28:04.329Z"
   },
   {
    "duration": 6,
    "start_time": "2023-03-16T11:30:17.698Z"
   },
   {
    "duration": 6,
    "start_time": "2023-03-16T11:32:57.431Z"
   },
   {
    "duration": 6,
    "start_time": "2023-03-16T11:33:11.290Z"
   },
   {
    "duration": 8,
    "start_time": "2023-03-16T11:33:20.406Z"
   },
   {
    "duration": 9,
    "start_time": "2023-03-16T11:33:44.020Z"
   },
   {
    "duration": 16,
    "start_time": "2023-03-16T11:34:39.321Z"
   },
   {
    "duration": 9,
    "start_time": "2023-03-16T11:35:21.857Z"
   },
   {
    "duration": 6,
    "start_time": "2023-03-16T11:35:29.652Z"
   },
   {
    "duration": 7,
    "start_time": "2023-03-16T11:35:39.054Z"
   },
   {
    "duration": 9,
    "start_time": "2023-03-16T11:36:31.093Z"
   },
   {
    "duration": 31,
    "start_time": "2023-03-16T11:48:06.441Z"
   },
   {
    "duration": 3,
    "start_time": "2023-03-16T12:02:50.814Z"
   },
   {
    "duration": 123,
    "start_time": "2023-03-16T12:02:50.820Z"
   },
   {
    "duration": 22,
    "start_time": "2023-03-16T12:02:50.945Z"
   },
   {
    "duration": 55,
    "start_time": "2023-03-16T12:02:50.969Z"
   },
   {
    "duration": 8,
    "start_time": "2023-03-16T12:02:51.026Z"
   },
   {
    "duration": 52,
    "start_time": "2023-03-16T12:02:51.036Z"
   },
   {
    "duration": 44,
    "start_time": "2023-03-16T12:02:51.091Z"
   },
   {
    "duration": 46,
    "start_time": "2023-03-16T12:02:51.137Z"
   },
   {
    "duration": 20,
    "start_time": "2023-03-16T12:02:51.184Z"
   },
   {
    "duration": 36,
    "start_time": "2023-03-16T12:02:51.206Z"
   },
   {
    "duration": 33,
    "start_time": "2023-03-16T12:02:51.246Z"
   },
   {
    "duration": 50,
    "start_time": "2023-03-16T12:02:51.281Z"
   },
   {
    "duration": 36,
    "start_time": "2023-03-16T12:02:51.333Z"
   },
   {
    "duration": 13,
    "start_time": "2023-03-16T12:02:51.371Z"
   },
   {
    "duration": 22,
    "start_time": "2023-03-16T12:02:51.385Z"
   },
   {
    "duration": 45,
    "start_time": "2023-03-16T12:02:51.409Z"
   },
   {
    "duration": 13,
    "start_time": "2023-03-16T12:02:51.455Z"
   },
   {
    "duration": 32,
    "start_time": "2023-03-16T12:02:51.471Z"
   },
   {
    "duration": 15,
    "start_time": "2023-03-16T12:02:51.505Z"
   },
   {
    "duration": 37,
    "start_time": "2023-03-16T12:02:51.522Z"
   },
   {
    "duration": 66,
    "start_time": "2023-03-16T12:02:51.561Z"
   },
   {
    "duration": 25,
    "start_time": "2023-03-16T12:02:51.628Z"
   },
   {
    "duration": 22,
    "start_time": "2023-03-16T12:02:51.654Z"
   },
   {
    "duration": 18,
    "start_time": "2023-03-16T12:02:51.678Z"
   },
   {
    "duration": 18,
    "start_time": "2023-03-16T12:02:51.698Z"
   },
   {
    "duration": 29,
    "start_time": "2023-03-16T12:02:51.718Z"
   },
   {
    "duration": 5,
    "start_time": "2023-03-16T12:02:51.748Z"
   },
   {
    "duration": 39,
    "start_time": "2023-03-16T12:02:51.754Z"
   },
   {
    "duration": 7,
    "start_time": "2023-03-16T12:02:51.799Z"
   },
   {
    "duration": 22,
    "start_time": "2023-03-16T12:02:51.808Z"
   },
   {
    "duration": 57,
    "start_time": "2023-03-16T12:02:51.833Z"
   },
   {
    "duration": 63,
    "start_time": "2023-03-16T12:02:51.892Z"
   },
   {
    "duration": 5,
    "start_time": "2023-03-16T12:02:51.957Z"
   },
   {
    "duration": 15,
    "start_time": "2023-03-16T12:02:51.963Z"
   },
   {
    "duration": 7,
    "start_time": "2023-03-16T12:02:51.980Z"
   },
   {
    "duration": 57,
    "start_time": "2023-03-16T12:02:51.988Z"
   },
   {
    "duration": 31,
    "start_time": "2023-03-16T12:02:52.047Z"
   },
   {
    "duration": 7,
    "start_time": "2023-03-16T12:02:52.081Z"
   },
   {
    "duration": 51,
    "start_time": "2023-03-16T12:02:52.090Z"
   },
   {
    "duration": 7,
    "start_time": "2023-03-16T12:02:52.143Z"
   },
   {
    "duration": 19,
    "start_time": "2023-03-16T12:02:52.152Z"
   },
   {
    "duration": 28,
    "start_time": "2023-03-16T12:02:52.173Z"
   },
   {
    "duration": 38,
    "start_time": "2023-03-16T12:02:52.203Z"
   },
   {
    "duration": 21,
    "start_time": "2023-03-16T12:02:52.243Z"
   },
   {
    "duration": 5,
    "start_time": "2023-03-16T12:02:52.266Z"
   },
   {
    "duration": 9,
    "start_time": "2023-03-16T12:02:52.272Z"
   },
   {
    "duration": 89,
    "start_time": "2023-03-16T12:02:52.282Z"
   },
   {
    "duration": 11,
    "start_time": "2023-03-16T12:02:52.373Z"
   },
   {
    "duration": 65,
    "start_time": "2023-03-16T12:02:52.386Z"
   },
   {
    "duration": 9,
    "start_time": "2023-03-16T12:02:52.453Z"
   },
   {
    "duration": 199,
    "start_time": "2023-03-16T12:02:52.464Z"
   },
   {
    "duration": 199,
    "start_time": "2023-03-16T12:02:52.665Z"
   },
   {
    "duration": 11,
    "start_time": "2023-03-16T12:02:52.866Z"
   },
   {
    "duration": 269,
    "start_time": "2023-03-16T12:02:52.878Z"
   },
   {
    "duration": 192,
    "start_time": "2023-03-16T12:02:53.149Z"
   },
   {
    "duration": 185,
    "start_time": "2023-03-16T12:02:53.343Z"
   },
   {
    "duration": 192,
    "start_time": "2023-03-16T12:02:53.530Z"
   },
   {
    "duration": 212,
    "start_time": "2023-03-16T12:02:53.724Z"
   },
   {
    "duration": 198,
    "start_time": "2023-03-16T12:02:53.941Z"
   },
   {
    "duration": 199,
    "start_time": "2023-03-16T12:02:54.142Z"
   },
   {
    "duration": 188,
    "start_time": "2023-03-16T12:02:54.343Z"
   },
   {
    "duration": 48,
    "start_time": "2023-03-16T12:02:54.533Z"
   },
   {
    "duration": 4,
    "start_time": "2023-03-16T12:02:54.583Z"
   },
   {
    "duration": 68,
    "start_time": "2023-03-16T12:02:54.589Z"
   },
   {
    "duration": 6,
    "start_time": "2023-03-16T12:02:54.659Z"
   },
   {
    "duration": 9,
    "start_time": "2023-03-16T12:02:54.667Z"
   },
   {
    "duration": 10,
    "start_time": "2023-03-16T12:02:54.678Z"
   },
   {
    "duration": 173,
    "start_time": "2023-03-16T12:02:54.690Z"
   },
   {
    "duration": 176,
    "start_time": "2023-03-16T12:02:54.865Z"
   },
   {
    "duration": 24,
    "start_time": "2023-03-16T12:02:55.042Z"
   },
   {
    "duration": 189,
    "start_time": "2023-03-16T12:02:55.067Z"
   },
   {
    "duration": 9,
    "start_time": "2023-03-16T12:02:55.258Z"
   },
   {
    "duration": 9,
    "start_time": "2023-03-16T12:02:55.269Z"
   },
   {
    "duration": 10,
    "start_time": "2023-03-16T12:02:55.280Z"
   },
   {
    "duration": 1353,
    "start_time": "2023-03-16T17:32:47.780Z"
   },
   {
    "duration": 180,
    "start_time": "2023-03-16T17:32:49.136Z"
   },
   {
    "duration": 27,
    "start_time": "2023-03-16T17:32:49.318Z"
   },
   {
    "duration": 95,
    "start_time": "2023-03-16T17:32:49.347Z"
   },
   {
    "duration": 9,
    "start_time": "2023-03-16T17:32:49.444Z"
   },
   {
    "duration": 41,
    "start_time": "2023-03-16T17:32:49.454Z"
   },
   {
    "duration": 18,
    "start_time": "2023-03-16T17:32:49.497Z"
   },
   {
    "duration": 39,
    "start_time": "2023-03-16T17:32:49.517Z"
   },
   {
    "duration": 5,
    "start_time": "2023-03-16T17:32:49.558Z"
   },
   {
    "duration": 17,
    "start_time": "2023-03-16T17:32:49.566Z"
   },
   {
    "duration": 16,
    "start_time": "2023-03-16T17:32:49.586Z"
   },
   {
    "duration": 21,
    "start_time": "2023-03-16T17:32:49.604Z"
   },
   {
    "duration": 20,
    "start_time": "2023-03-16T17:32:49.627Z"
   },
   {
    "duration": 27,
    "start_time": "2023-03-16T17:32:49.671Z"
   },
   {
    "duration": 13,
    "start_time": "2023-03-16T17:32:49.700Z"
   },
   {
    "duration": 27,
    "start_time": "2023-03-16T17:32:49.715Z"
   },
   {
    "duration": 23,
    "start_time": "2023-03-16T17:32:49.744Z"
   },
   {
    "duration": 17,
    "start_time": "2023-03-16T17:32:49.769Z"
   },
   {
    "duration": 12,
    "start_time": "2023-03-16T17:32:49.789Z"
   },
   {
    "duration": 15,
    "start_time": "2023-03-16T17:32:49.803Z"
   },
   {
    "duration": 10,
    "start_time": "2023-03-16T17:32:49.820Z"
   },
   {
    "duration": 7,
    "start_time": "2023-03-16T17:32:49.831Z"
   },
   {
    "duration": 34,
    "start_time": "2023-03-16T17:32:49.840Z"
   },
   {
    "duration": 11,
    "start_time": "2023-03-16T17:32:49.877Z"
   },
   {
    "duration": 7,
    "start_time": "2023-03-16T17:32:49.890Z"
   },
   {
    "duration": 29,
    "start_time": "2023-03-16T17:32:49.899Z"
   },
   {
    "duration": 4,
    "start_time": "2023-03-16T17:32:49.930Z"
   },
   {
    "duration": 24,
    "start_time": "2023-03-16T17:32:49.965Z"
   },
   {
    "duration": 6,
    "start_time": "2023-03-16T17:32:49.991Z"
   },
   {
    "duration": 17,
    "start_time": "2023-03-16T17:32:49.998Z"
   },
   {
    "duration": 11,
    "start_time": "2023-03-16T17:32:50.017Z"
   },
   {
    "duration": 68,
    "start_time": "2023-03-16T17:32:50.030Z"
   },
   {
    "duration": 5,
    "start_time": "2023-03-16T17:32:50.099Z"
   },
   {
    "duration": 11,
    "start_time": "2023-03-16T17:32:50.106Z"
   },
   {
    "duration": 17,
    "start_time": "2023-03-16T17:32:50.119Z"
   },
   {
    "duration": 11,
    "start_time": "2023-03-16T17:32:50.138Z"
   },
   {
    "duration": 51,
    "start_time": "2023-03-16T17:32:50.150Z"
   },
   {
    "duration": 7,
    "start_time": "2023-03-16T17:32:50.203Z"
   },
   {
    "duration": 25,
    "start_time": "2023-03-16T17:32:50.213Z"
   },
   {
    "duration": 14,
    "start_time": "2023-03-16T17:32:50.240Z"
   },
   {
    "duration": 5,
    "start_time": "2023-03-16T17:32:50.259Z"
   },
   {
    "duration": 32,
    "start_time": "2023-03-16T17:32:50.266Z"
   },
   {
    "duration": 24,
    "start_time": "2023-03-16T17:32:50.300Z"
   },
   {
    "duration": 12,
    "start_time": "2023-03-16T17:32:50.326Z"
   },
   {
    "duration": 4,
    "start_time": "2023-03-16T17:32:50.340Z"
   },
   {
    "duration": 31,
    "start_time": "2023-03-16T17:32:50.346Z"
   },
   {
    "duration": 43,
    "start_time": "2023-03-16T17:32:50.380Z"
   },
   {
    "duration": 9,
    "start_time": "2023-03-16T17:32:50.425Z"
   },
   {
    "duration": 32,
    "start_time": "2023-03-16T17:32:50.436Z"
   },
   {
    "duration": 10,
    "start_time": "2023-03-16T17:32:50.472Z"
   },
   {
    "duration": 222,
    "start_time": "2023-03-16T17:32:50.484Z"
   },
   {
    "duration": 190,
    "start_time": "2023-03-16T17:32:50.709Z"
   },
   {
    "duration": 12,
    "start_time": "2023-03-16T17:32:50.901Z"
   },
   {
    "duration": 189,
    "start_time": "2023-03-16T17:32:50.915Z"
   },
   {
    "duration": 237,
    "start_time": "2023-03-16T17:32:51.106Z"
   },
   {
    "duration": 207,
    "start_time": "2023-03-16T17:32:51.345Z"
   },
   {
    "duration": 200,
    "start_time": "2023-03-16T17:32:51.554Z"
   },
   {
    "duration": 328,
    "start_time": "2023-03-16T17:32:51.756Z"
   },
   {
    "duration": 231,
    "start_time": "2023-03-16T17:32:52.087Z"
   },
   {
    "duration": 218,
    "start_time": "2023-03-16T17:32:52.320Z"
   },
   {
    "duration": 218,
    "start_time": "2023-03-16T17:32:52.541Z"
   },
   {
    "duration": 52,
    "start_time": "2023-03-16T17:32:52.760Z"
   },
   {
    "duration": 5,
    "start_time": "2023-03-16T17:32:52.813Z"
   },
   {
    "duration": 73,
    "start_time": "2023-03-16T17:32:52.820Z"
   },
   {
    "duration": 6,
    "start_time": "2023-03-16T17:32:52.895Z"
   },
   {
    "duration": 9,
    "start_time": "2023-03-16T17:32:52.903Z"
   },
   {
    "duration": 14,
    "start_time": "2023-03-16T17:32:52.914Z"
   },
   {
    "duration": 206,
    "start_time": "2023-03-16T17:32:52.930Z"
   },
   {
    "duration": 213,
    "start_time": "2023-03-16T17:32:53.138Z"
   },
   {
    "duration": 32,
    "start_time": "2023-03-16T17:32:53.354Z"
   },
   {
    "duration": 189,
    "start_time": "2023-03-16T17:32:53.388Z"
   },
   {
    "duration": 11,
    "start_time": "2023-03-16T17:32:53.579Z"
   },
   {
    "duration": 15,
    "start_time": "2023-03-16T17:32:53.592Z"
   },
   {
    "duration": 25,
    "start_time": "2023-03-16T17:32:53.609Z"
   },
   {
    "duration": 1258,
    "start_time": "2023-03-17T08:54:19.713Z"
   },
   {
    "duration": 154,
    "start_time": "2023-03-17T08:54:20.973Z"
   },
   {
    "duration": 23,
    "start_time": "2023-03-17T08:54:21.128Z"
   },
   {
    "duration": 84,
    "start_time": "2023-03-17T08:54:21.153Z"
   },
   {
    "duration": 7,
    "start_time": "2023-03-17T08:54:21.240Z"
   },
   {
    "duration": 25,
    "start_time": "2023-03-17T08:54:21.249Z"
   },
   {
    "duration": 14,
    "start_time": "2023-03-17T08:54:21.275Z"
   },
   {
    "duration": 29,
    "start_time": "2023-03-17T08:54:21.291Z"
   },
   {
    "duration": 4,
    "start_time": "2023-03-17T08:54:21.323Z"
   },
   {
    "duration": 25,
    "start_time": "2023-03-17T08:54:21.329Z"
   },
   {
    "duration": 26,
    "start_time": "2023-03-17T08:54:21.362Z"
   },
   {
    "duration": 21,
    "start_time": "2023-03-17T08:54:21.390Z"
   },
   {
    "duration": 17,
    "start_time": "2023-03-17T08:54:21.412Z"
   },
   {
    "duration": 13,
    "start_time": "2023-03-17T08:54:21.433Z"
   },
   {
    "duration": 44,
    "start_time": "2023-03-17T08:54:21.447Z"
   },
   {
    "duration": 21,
    "start_time": "2023-03-17T08:54:21.493Z"
   },
   {
    "duration": 3,
    "start_time": "2023-03-17T08:54:21.515Z"
   },
   {
    "duration": 17,
    "start_time": "2023-03-17T08:54:21.520Z"
   },
   {
    "duration": 9,
    "start_time": "2023-03-17T08:54:21.538Z"
   },
   {
    "duration": 37,
    "start_time": "2023-03-17T08:54:21.549Z"
   },
   {
    "duration": 8,
    "start_time": "2023-03-17T08:54:21.588Z"
   },
   {
    "duration": 10,
    "start_time": "2023-03-17T08:54:21.598Z"
   },
   {
    "duration": 6,
    "start_time": "2023-03-17T08:54:21.610Z"
   },
   {
    "duration": 9,
    "start_time": "2023-03-17T08:54:21.617Z"
   },
   {
    "duration": 10,
    "start_time": "2023-03-17T08:54:21.628Z"
   },
   {
    "duration": 33,
    "start_time": "2023-03-17T08:54:21.640Z"
   },
   {
    "duration": 5,
    "start_time": "2023-03-17T08:54:21.675Z"
   },
   {
    "duration": 17,
    "start_time": "2023-03-17T08:54:21.682Z"
   },
   {
    "duration": 6,
    "start_time": "2023-03-17T08:54:21.701Z"
   },
   {
    "duration": 16,
    "start_time": "2023-03-17T08:54:21.709Z"
   },
   {
    "duration": 8,
    "start_time": "2023-03-17T08:54:21.727Z"
   },
   {
    "duration": 43,
    "start_time": "2023-03-17T08:54:21.737Z"
   },
   {
    "duration": 5,
    "start_time": "2023-03-17T08:54:21.782Z"
   },
   {
    "duration": 8,
    "start_time": "2023-03-17T08:54:21.788Z"
   },
   {
    "duration": 9,
    "start_time": "2023-03-17T08:54:21.799Z"
   },
   {
    "duration": 10,
    "start_time": "2023-03-17T08:54:21.809Z"
   },
   {
    "duration": 42,
    "start_time": "2023-03-17T08:54:21.820Z"
   },
   {
    "duration": 7,
    "start_time": "2023-03-17T08:54:21.864Z"
   },
   {
    "duration": 16,
    "start_time": "2023-03-17T08:54:21.873Z"
   },
   {
    "duration": 6,
    "start_time": "2023-03-17T08:54:21.890Z"
   },
   {
    "duration": 8,
    "start_time": "2023-03-17T08:54:21.900Z"
   },
   {
    "duration": 31,
    "start_time": "2023-03-17T08:54:21.909Z"
   },
   {
    "duration": 38,
    "start_time": "2023-03-17T08:54:21.942Z"
   },
   {
    "duration": 14,
    "start_time": "2023-03-17T08:54:21.981Z"
   },
   {
    "duration": 4,
    "start_time": "2023-03-17T08:54:21.996Z"
   },
   {
    "duration": 15,
    "start_time": "2023-03-17T08:54:22.001Z"
   },
   {
    "duration": 41,
    "start_time": "2023-03-17T08:54:22.017Z"
   },
   {
    "duration": 9,
    "start_time": "2023-03-17T08:54:22.069Z"
   },
   {
    "duration": 10,
    "start_time": "2023-03-17T08:54:22.079Z"
   },
   {
    "duration": 14,
    "start_time": "2023-03-17T08:54:22.090Z"
   },
   {
    "duration": 170,
    "start_time": "2023-03-17T08:54:22.105Z"
   },
   {
    "duration": 157,
    "start_time": "2023-03-17T08:54:22.277Z"
   },
   {
    "duration": 9,
    "start_time": "2023-03-17T08:54:22.436Z"
   },
   {
    "duration": 156,
    "start_time": "2023-03-17T08:54:22.457Z"
   },
   {
    "duration": 182,
    "start_time": "2023-03-17T08:54:22.615Z"
   },
   {
    "duration": 175,
    "start_time": "2023-03-17T08:54:22.799Z"
   },
   {
    "duration": 171,
    "start_time": "2023-03-17T08:54:22.976Z"
   },
   {
    "duration": 257,
    "start_time": "2023-03-17T08:54:23.149Z"
   },
   {
    "duration": 166,
    "start_time": "2023-03-17T08:54:23.408Z"
   },
   {
    "duration": 163,
    "start_time": "2023-03-17T08:54:23.575Z"
   },
   {
    "duration": 173,
    "start_time": "2023-03-17T08:54:23.740Z"
   },
   {
    "duration": 81,
    "start_time": "2023-03-17T08:54:23.915Z"
   },
   {
    "duration": 4,
    "start_time": "2023-03-17T08:54:23.998Z"
   },
   {
    "duration": 46,
    "start_time": "2023-03-17T08:54:24.004Z"
   },
   {
    "duration": 5,
    "start_time": "2023-03-17T08:54:24.051Z"
   },
   {
    "duration": 23,
    "start_time": "2023-03-17T08:54:24.057Z"
   },
   {
    "duration": 15,
    "start_time": "2023-03-17T08:54:24.081Z"
   },
   {
    "duration": 132,
    "start_time": "2023-03-17T08:54:24.097Z"
   },
   {
    "duration": 167,
    "start_time": "2023-03-17T08:54:24.230Z"
   },
   {
    "duration": 19,
    "start_time": "2023-03-17T08:54:24.399Z"
   },
   {
    "duration": 163,
    "start_time": "2023-03-17T08:54:24.420Z"
   },
   {
    "duration": 7,
    "start_time": "2023-03-17T08:54:24.585Z"
   },
   {
    "duration": 17,
    "start_time": "2023-03-17T08:54:24.593Z"
   },
   {
    "duration": 18,
    "start_time": "2023-03-17T08:54:24.611Z"
   },
   {
    "duration": 16,
    "start_time": "2023-03-17T08:56:46.357Z"
   },
   {
    "duration": 19,
    "start_time": "2023-03-17T08:57:42.160Z"
   },
   {
    "duration": 13,
    "start_time": "2023-03-17T09:02:12.217Z"
   },
   {
    "duration": 21,
    "start_time": "2023-03-17T09:53:16.782Z"
   },
   {
    "duration": 162,
    "start_time": "2023-03-17T09:57:03.362Z"
   },
   {
    "duration": 39,
    "start_time": "2023-03-17T10:00:44.145Z"
   },
   {
    "duration": 34,
    "start_time": "2023-03-17T10:00:55.423Z"
   },
   {
    "duration": 3,
    "start_time": "2023-03-17T10:02:01.135Z"
   },
   {
    "duration": 131,
    "start_time": "2023-03-17T10:02:01.224Z"
   },
   {
    "duration": 45,
    "start_time": "2023-03-17T10:02:01.357Z"
   },
   {
    "duration": 106,
    "start_time": "2023-03-17T10:02:01.406Z"
   },
   {
    "duration": 8,
    "start_time": "2023-03-17T10:02:01.514Z"
   },
   {
    "duration": 53,
    "start_time": "2023-03-17T10:02:01.525Z"
   },
   {
    "duration": 68,
    "start_time": "2023-03-17T10:02:01.580Z"
   },
   {
    "duration": 80,
    "start_time": "2023-03-17T10:02:01.649Z"
   },
   {
    "duration": 13,
    "start_time": "2023-03-17T10:02:01.731Z"
   },
   {
    "duration": 80,
    "start_time": "2023-03-17T10:02:01.745Z"
   },
   {
    "duration": 49,
    "start_time": "2023-03-17T10:02:01.827Z"
   },
   {
    "duration": 78,
    "start_time": "2023-03-17T10:02:01.878Z"
   },
   {
    "duration": 73,
    "start_time": "2023-03-17T10:02:01.963Z"
   },
   {
    "duration": 26,
    "start_time": "2023-03-17T10:02:02.038Z"
   },
   {
    "duration": 54,
    "start_time": "2023-03-17T10:02:02.070Z"
   },
   {
    "duration": 29,
    "start_time": "2023-03-17T10:02:02.125Z"
   },
   {
    "duration": 63,
    "start_time": "2023-03-17T10:02:02.156Z"
   },
   {
    "duration": 79,
    "start_time": "2023-03-17T10:02:02.222Z"
   },
   {
    "duration": 30,
    "start_time": "2023-03-17T10:02:02.303Z"
   },
   {
    "duration": 59,
    "start_time": "2023-03-17T10:02:02.334Z"
   },
   {
    "duration": 100,
    "start_time": "2023-03-17T10:02:02.395Z"
   },
   {
    "duration": 43,
    "start_time": "2023-03-17T10:02:02.502Z"
   },
   {
    "duration": 64,
    "start_time": "2023-03-17T10:02:02.546Z"
   },
   {
    "duration": 18,
    "start_time": "2023-03-17T10:02:02.611Z"
   },
   {
    "duration": 27,
    "start_time": "2023-03-17T10:02:02.630Z"
   },
   {
    "duration": 80,
    "start_time": "2023-03-17T10:02:02.664Z"
   },
   {
    "duration": 5,
    "start_time": "2023-03-17T10:02:02.746Z"
   },
   {
    "duration": 84,
    "start_time": "2023-03-17T10:02:02.752Z"
   },
   {
    "duration": 7,
    "start_time": "2023-03-17T10:02:02.838Z"
   },
   {
    "duration": 24,
    "start_time": "2023-03-17T10:02:02.846Z"
   },
   {
    "duration": 52,
    "start_time": "2023-03-17T10:02:02.872Z"
   },
   {
    "duration": 40,
    "start_time": "2023-03-17T10:02:02.928Z"
   },
   {
    "duration": 16,
    "start_time": "2023-03-17T10:02:02.970Z"
   },
   {
    "duration": 39,
    "start_time": "2023-03-17T10:02:02.992Z"
   },
   {
    "duration": 10,
    "start_time": "2023-03-17T10:02:03.033Z"
   },
   {
    "duration": 74,
    "start_time": "2023-03-17T10:02:03.045Z"
   },
   {
    "duration": 15,
    "start_time": "2023-03-17T10:02:03.121Z"
   },
   {
    "duration": 41,
    "start_time": "2023-03-17T10:02:03.137Z"
   },
   {
    "duration": 39,
    "start_time": "2023-03-17T10:02:03.180Z"
   },
   {
    "duration": 13,
    "start_time": "2023-03-17T10:02:03.222Z"
   },
   {
    "duration": 15,
    "start_time": "2023-03-17T10:02:03.237Z"
   },
   {
    "duration": 97,
    "start_time": "2023-03-17T10:02:03.254Z"
   },
   {
    "duration": 82,
    "start_time": "2023-03-17T10:02:03.352Z"
   },
   {
    "duration": 15,
    "start_time": "2023-03-17T10:02:03.435Z"
   },
   {
    "duration": 12,
    "start_time": "2023-03-17T10:02:03.452Z"
   },
   {
    "duration": 49,
    "start_time": "2023-03-17T10:02:03.466Z"
   },
   {
    "duration": 8,
    "start_time": "2023-03-17T10:02:03.517Z"
   },
   {
    "duration": 32,
    "start_time": "2023-03-17T10:02:03.526Z"
   },
   {
    "duration": 25,
    "start_time": "2023-03-17T10:02:03.562Z"
   },
   {
    "duration": 39,
    "start_time": "2023-03-17T10:02:03.594Z"
   },
   {
    "duration": 14,
    "start_time": "2023-03-17T10:02:03.635Z"
   },
   {
    "duration": 211,
    "start_time": "2023-03-17T10:02:03.650Z"
   },
   {
    "duration": 253,
    "start_time": "2023-03-17T10:02:03.862Z"
   },
   {
    "duration": 13,
    "start_time": "2023-03-17T10:02:04.117Z"
   },
   {
    "duration": 192,
    "start_time": "2023-03-17T10:02:04.132Z"
   },
   {
    "duration": 235,
    "start_time": "2023-03-17T10:02:04.326Z"
   },
   {
    "duration": 205,
    "start_time": "2023-03-17T10:02:04.563Z"
   },
   {
    "duration": 269,
    "start_time": "2023-03-17T10:02:04.769Z"
   },
   {
    "duration": 239,
    "start_time": "2023-03-17T10:02:05.043Z"
   },
   {
    "duration": 229,
    "start_time": "2023-03-17T10:02:05.286Z"
   },
   {
    "duration": 270,
    "start_time": "2023-03-17T10:02:05.517Z"
   },
   {
    "duration": 219,
    "start_time": "2023-03-17T10:02:05.792Z"
   },
   {
    "duration": 36,
    "start_time": "2023-03-17T10:02:06.015Z"
   },
   {
    "duration": 71,
    "start_time": "2023-03-17T10:02:06.052Z"
   },
   {
    "duration": 42,
    "start_time": "2023-03-17T10:02:06.125Z"
   },
   {
    "duration": 13,
    "start_time": "2023-03-17T10:02:06.169Z"
   },
   {
    "duration": 55,
    "start_time": "2023-03-17T10:02:06.186Z"
   },
   {
    "duration": 12,
    "start_time": "2023-03-17T10:02:06.243Z"
   },
   {
    "duration": 227,
    "start_time": "2023-03-17T10:02:06.266Z"
   },
   {
    "duration": 171,
    "start_time": "2023-03-17T10:02:06.495Z"
   },
   {
    "duration": 3,
    "start_time": "2023-03-17T10:12:21.938Z"
   },
   {
    "duration": 160,
    "start_time": "2023-03-17T10:12:21.942Z"
   },
   {
    "duration": 26,
    "start_time": "2023-03-17T10:12:22.104Z"
   },
   {
    "duration": 87,
    "start_time": "2023-03-17T10:12:22.131Z"
   },
   {
    "duration": 8,
    "start_time": "2023-03-17T10:12:22.220Z"
   },
   {
    "duration": 27,
    "start_time": "2023-03-17T10:12:22.229Z"
   },
   {
    "duration": 28,
    "start_time": "2023-03-17T10:12:22.264Z"
   },
   {
    "duration": 57,
    "start_time": "2023-03-17T10:12:22.294Z"
   },
   {
    "duration": 7,
    "start_time": "2023-03-17T10:12:22.353Z"
   },
   {
    "duration": 54,
    "start_time": "2023-03-17T10:12:22.362Z"
   },
   {
    "duration": 15,
    "start_time": "2023-03-17T10:12:22.419Z"
   },
   {
    "duration": 19,
    "start_time": "2023-03-17T10:12:22.436Z"
   },
   {
    "duration": 56,
    "start_time": "2023-03-17T10:12:22.465Z"
   },
   {
    "duration": 13,
    "start_time": "2023-03-17T10:12:22.523Z"
   },
   {
    "duration": 12,
    "start_time": "2023-03-17T10:12:22.537Z"
   },
   {
    "duration": 22,
    "start_time": "2023-03-17T10:12:22.551Z"
   },
   {
    "duration": 55,
    "start_time": "2023-03-17T10:12:22.575Z"
   },
   {
    "duration": 49,
    "start_time": "2023-03-17T10:12:22.632Z"
   },
   {
    "duration": 38,
    "start_time": "2023-03-17T10:12:22.687Z"
   },
   {
    "duration": 20,
    "start_time": "2023-03-17T10:12:22.727Z"
   },
   {
    "duration": 11,
    "start_time": "2023-03-17T10:12:22.749Z"
   },
   {
    "duration": 66,
    "start_time": "2023-03-17T10:12:22.762Z"
   },
   {
    "duration": 10,
    "start_time": "2023-03-17T10:12:22.829Z"
   },
   {
    "duration": 11,
    "start_time": "2023-03-17T10:12:22.840Z"
   },
   {
    "duration": 60,
    "start_time": "2023-03-17T10:12:22.852Z"
   },
   {
    "duration": 33,
    "start_time": "2023-03-17T10:12:22.914Z"
   },
   {
    "duration": 5,
    "start_time": "2023-03-17T10:12:22.948Z"
   },
   {
    "duration": 70,
    "start_time": "2023-03-17T10:12:22.954Z"
   },
   {
    "duration": 5,
    "start_time": "2023-03-17T10:12:23.028Z"
   },
   {
    "duration": 64,
    "start_time": "2023-03-17T10:12:23.035Z"
   },
   {
    "duration": 16,
    "start_time": "2023-03-17T10:12:23.107Z"
   },
   {
    "duration": 28,
    "start_time": "2023-03-17T10:12:23.124Z"
   },
   {
    "duration": 19,
    "start_time": "2023-03-17T10:12:23.154Z"
   },
   {
    "duration": 56,
    "start_time": "2023-03-17T10:12:23.177Z"
   },
   {
    "duration": 15,
    "start_time": "2023-03-17T10:12:23.234Z"
   },
   {
    "duration": 56,
    "start_time": "2023-03-17T10:12:23.251Z"
   },
   {
    "duration": 36,
    "start_time": "2023-03-17T10:12:23.309Z"
   },
   {
    "duration": 41,
    "start_time": "2023-03-17T10:12:23.346Z"
   },
   {
    "duration": 34,
    "start_time": "2023-03-17T10:12:23.389Z"
   },
   {
    "duration": 28,
    "start_time": "2023-03-17T10:12:23.425Z"
   },
   {
    "duration": 54,
    "start_time": "2023-03-17T10:12:23.454Z"
   },
   {
    "duration": 8,
    "start_time": "2023-03-17T10:12:23.509Z"
   },
   {
    "duration": 31,
    "start_time": "2023-03-17T10:12:23.518Z"
   },
   {
    "duration": 33,
    "start_time": "2023-03-17T10:12:23.551Z"
   },
   {
    "duration": 46,
    "start_time": "2023-03-17T10:12:23.586Z"
   },
   {
    "duration": 18,
    "start_time": "2023-03-17T10:12:23.634Z"
   },
   {
    "duration": 68,
    "start_time": "2023-03-17T10:12:23.653Z"
   },
   {
    "duration": 33,
    "start_time": "2023-03-17T10:12:23.722Z"
   },
   {
    "duration": 21,
    "start_time": "2023-03-17T10:12:23.757Z"
   },
   {
    "duration": 47,
    "start_time": "2023-03-17T10:12:23.783Z"
   },
   {
    "duration": 11,
    "start_time": "2023-03-17T10:12:23.831Z"
   },
   {
    "duration": 192,
    "start_time": "2023-03-17T10:12:23.843Z"
   },
   {
    "duration": 187,
    "start_time": "2023-03-17T10:12:24.037Z"
   },
   {
    "duration": 13,
    "start_time": "2023-03-17T10:12:24.226Z"
   },
   {
    "duration": 206,
    "start_time": "2023-03-17T10:12:24.241Z"
   },
   {
    "duration": 226,
    "start_time": "2023-03-17T10:12:24.449Z"
   },
   {
    "duration": 199,
    "start_time": "2023-03-17T10:12:24.677Z"
   },
   {
    "duration": 225,
    "start_time": "2023-03-17T10:12:24.877Z"
   },
   {
    "duration": 250,
    "start_time": "2023-03-17T10:12:25.104Z"
   },
   {
    "duration": 238,
    "start_time": "2023-03-17T10:12:25.356Z"
   },
   {
    "duration": 306,
    "start_time": "2023-03-17T10:12:25.598Z"
   },
   {
    "duration": 219,
    "start_time": "2023-03-17T10:12:25.908Z"
   },
   {
    "duration": 47,
    "start_time": "2023-03-17T10:12:26.128Z"
   },
   {
    "duration": 20,
    "start_time": "2023-03-17T10:12:26.177Z"
   },
   {
    "duration": 40,
    "start_time": "2023-03-17T10:12:26.200Z"
   },
   {
    "duration": 6,
    "start_time": "2023-03-17T10:12:26.241Z"
   },
   {
    "duration": 20,
    "start_time": "2023-03-17T10:12:26.248Z"
   },
   {
    "duration": 53,
    "start_time": "2023-03-17T10:12:26.269Z"
   },
   {
    "duration": 165,
    "start_time": "2023-03-17T10:12:26.323Z"
   },
   {
    "duration": 181,
    "start_time": "2023-03-17T10:12:26.494Z"
   },
   {
    "duration": 22,
    "start_time": "2023-03-17T10:12:26.677Z"
   },
   {
    "duration": 187,
    "start_time": "2023-03-17T10:12:26.701Z"
   },
   {
    "duration": 8,
    "start_time": "2023-03-17T10:12:26.889Z"
   },
   {
    "duration": 21,
    "start_time": "2023-03-17T10:12:26.899Z"
   },
   {
    "duration": 14,
    "start_time": "2023-03-17T10:12:26.921Z"
   },
   {
    "duration": 1349,
    "start_time": "2023-03-17T20:55:33.722Z"
   },
   {
    "duration": 333,
    "start_time": "2023-03-17T20:55:35.073Z"
   },
   {
    "duration": 34,
    "start_time": "2023-03-17T20:55:35.408Z"
   },
   {
    "duration": 128,
    "start_time": "2023-03-17T20:55:35.444Z"
   },
   {
    "duration": 27,
    "start_time": "2023-03-17T20:55:35.574Z"
   },
   {
    "duration": 57,
    "start_time": "2023-03-17T20:55:35.603Z"
   },
   {
    "duration": 81,
    "start_time": "2023-03-17T20:55:35.662Z"
   },
   {
    "duration": 79,
    "start_time": "2023-03-17T20:55:35.745Z"
   },
   {
    "duration": 21,
    "start_time": "2023-03-17T20:55:35.826Z"
   },
   {
    "duration": 19,
    "start_time": "2023-03-17T20:55:35.850Z"
   },
   {
    "duration": 55,
    "start_time": "2023-03-17T20:55:35.878Z"
   },
   {
    "duration": 53,
    "start_time": "2023-03-17T20:55:35.936Z"
   },
   {
    "duration": 59,
    "start_time": "2023-03-17T20:55:35.997Z"
   },
   {
    "duration": 75,
    "start_time": "2023-03-17T20:55:36.065Z"
   },
   {
    "duration": 11,
    "start_time": "2023-03-17T20:55:36.141Z"
   },
   {
    "duration": 60,
    "start_time": "2023-03-17T20:55:36.153Z"
   },
   {
    "duration": 4,
    "start_time": "2023-03-17T20:55:36.220Z"
   },
   {
    "duration": 14,
    "start_time": "2023-03-17T20:55:36.225Z"
   },
   {
    "duration": 9,
    "start_time": "2023-03-17T20:55:36.241Z"
   },
   {
    "duration": 73,
    "start_time": "2023-03-17T20:55:36.252Z"
   },
   {
    "duration": 5,
    "start_time": "2023-03-17T20:55:36.327Z"
   },
   {
    "duration": 8,
    "start_time": "2023-03-17T20:55:36.334Z"
   },
   {
    "duration": 78,
    "start_time": "2023-03-17T20:55:36.344Z"
   },
   {
    "duration": 9,
    "start_time": "2023-03-17T20:55:36.424Z"
   },
   {
    "duration": 10,
    "start_time": "2023-03-17T20:55:36.435Z"
   },
   {
    "duration": 44,
    "start_time": "2023-03-17T20:55:36.446Z"
   },
   {
    "duration": 37,
    "start_time": "2023-03-17T20:55:36.492Z"
   },
   {
    "duration": 16,
    "start_time": "2023-03-17T20:55:36.533Z"
   },
   {
    "duration": 16,
    "start_time": "2023-03-17T20:55:36.551Z"
   },
   {
    "duration": 66,
    "start_time": "2023-03-17T20:55:36.568Z"
   },
   {
    "duration": 9,
    "start_time": "2023-03-17T20:55:36.635Z"
   },
   {
    "duration": 50,
    "start_time": "2023-03-17T20:55:36.645Z"
   },
   {
    "duration": 15,
    "start_time": "2023-03-17T20:55:36.697Z"
   },
   {
    "duration": 15,
    "start_time": "2023-03-17T20:55:36.713Z"
   },
   {
    "duration": 8,
    "start_time": "2023-03-17T20:55:36.730Z"
   },
   {
    "duration": 8,
    "start_time": "2023-03-17T20:55:36.739Z"
   },
   {
    "duration": 21,
    "start_time": "2023-03-17T20:55:36.748Z"
   },
   {
    "duration": 68,
    "start_time": "2023-03-17T20:55:36.771Z"
   },
   {
    "duration": 5,
    "start_time": "2023-03-17T20:55:36.840Z"
   },
   {
    "duration": 12,
    "start_time": "2023-03-17T20:55:36.847Z"
   },
   {
    "duration": 28,
    "start_time": "2023-03-17T20:55:36.861Z"
   },
   {
    "duration": 32,
    "start_time": "2023-03-17T20:55:36.891Z"
   },
   {
    "duration": 30,
    "start_time": "2023-03-17T20:55:36.925Z"
   },
   {
    "duration": 78,
    "start_time": "2023-03-17T20:55:36.958Z"
   },
   {
    "duration": 12,
    "start_time": "2023-03-17T20:55:37.038Z"
   },
   {
    "duration": 5,
    "start_time": "2023-03-17T20:55:37.051Z"
   },
   {
    "duration": 38,
    "start_time": "2023-03-17T20:55:37.075Z"
   },
   {
    "duration": 64,
    "start_time": "2023-03-17T20:55:37.115Z"
   },
   {
    "duration": 19,
    "start_time": "2023-03-17T20:55:37.181Z"
   },
   {
    "duration": 31,
    "start_time": "2023-03-17T20:55:37.202Z"
   },
   {
    "duration": 10,
    "start_time": "2023-03-17T20:55:37.235Z"
   },
   {
    "duration": 240,
    "start_time": "2023-03-17T20:55:37.247Z"
   },
   {
    "duration": 157,
    "start_time": "2023-03-17T20:55:37.488Z"
   },
   {
    "duration": 40,
    "start_time": "2023-03-17T20:55:37.647Z"
   },
   {
    "duration": 183,
    "start_time": "2023-03-17T20:55:37.698Z"
   },
   {
    "duration": 225,
    "start_time": "2023-03-17T20:55:37.883Z"
   },
   {
    "duration": 239,
    "start_time": "2023-03-17T20:55:38.110Z"
   },
   {
    "duration": 238,
    "start_time": "2023-03-17T20:55:38.351Z"
   },
   {
    "duration": 314,
    "start_time": "2023-03-17T20:55:38.592Z"
   },
   {
    "duration": 216,
    "start_time": "2023-03-17T20:55:38.913Z"
   },
   {
    "duration": 217,
    "start_time": "2023-03-17T20:55:39.130Z"
   },
   {
    "duration": 219,
    "start_time": "2023-03-17T20:55:39.349Z"
   },
   {
    "duration": 35,
    "start_time": "2023-03-17T20:55:39.575Z"
   },
   {
    "duration": 19,
    "start_time": "2023-03-17T20:55:39.613Z"
   },
   {
    "duration": 37,
    "start_time": "2023-03-17T20:55:39.633Z"
   },
   {
    "duration": 6,
    "start_time": "2023-03-17T20:55:39.672Z"
   },
   {
    "duration": 43,
    "start_time": "2023-03-17T20:55:39.681Z"
   },
   {
    "duration": 13,
    "start_time": "2023-03-17T20:55:39.725Z"
   },
   {
    "duration": 188,
    "start_time": "2023-03-17T20:55:39.739Z"
   },
   {
    "duration": 167,
    "start_time": "2023-03-17T20:55:39.929Z"
   },
   {
    "duration": 28,
    "start_time": "2023-03-17T20:55:40.098Z"
   },
   {
    "duration": 197,
    "start_time": "2023-03-17T20:55:40.128Z"
   },
   {
    "duration": 7,
    "start_time": "2023-03-17T20:55:40.327Z"
   },
   {
    "duration": 9,
    "start_time": "2023-03-17T20:55:40.335Z"
   },
   {
    "duration": 13,
    "start_time": "2023-03-17T20:55:40.346Z"
   }
  ],
  "colab": {
   "name": "DA+. Сборный проект 1. Шаблон (1).ipynb",
   "provenance": []
  },
  "kernelspec": {
   "display_name": "Python 3 (ipykernel)",
   "language": "python",
   "name": "python3"
  },
  "language_info": {
   "codemirror_mode": {
    "name": "ipython",
    "version": 3
   },
   "file_extension": ".py",
   "mimetype": "text/x-python",
   "name": "python",
   "nbconvert_exporter": "python",
   "pygments_lexer": "ipython3",
   "version": "3.9.18"
  },
  "toc": {
   "base_numbering": 1,
   "nav_menu": {},
   "number_sections": true,
   "sideBar": true,
   "skip_h1_title": true,
   "title_cell": "Table of Contents",
   "title_sidebar": "Contents",
   "toc_cell": false,
   "toc_position": {
    "height": "calc(100% - 180px)",
    "left": "10px",
    "top": "150px",
    "width": "223px"
   },
   "toc_section_display": true,
   "toc_window_display": true
  }
 },
 "nbformat": 4,
 "nbformat_minor": 4
}
