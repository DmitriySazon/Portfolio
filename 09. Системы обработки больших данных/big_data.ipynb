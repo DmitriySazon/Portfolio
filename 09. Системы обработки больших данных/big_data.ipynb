{
 "cells": [
  {
   "cell_type": "markdown",
   "id": "GEqQaHzsZ_bA",
   "metadata": {
    "id": "GEqQaHzsZ_bA"
   },
   "source": [
    "# Описание проекта\n",
    "\n",
    "В проекте вам нужно обучить модель линейной регрессии на данных о жилье в Калифорнии в 1990 году. На основе данных нужно предсказать медианную стоимость дома в жилом массиве. Обучите модель и сделайте предсказания на тестовой выборке. Для оценки качества модели используйте метрики RMSE, MAE и R2."
   ]
  },
  {
   "cell_type": "markdown",
   "id": "5f06a303",
   "metadata": {},
   "source": [
    "В колонках датасета содержатся следующие данные:  \n",
    "* longitude — широта;\n",
    "* latitude — долгота;\n",
    "* housing_median_age — медианный возраст домов в жилом массиве;\n",
    "* total_rooms — общее количество комнат в домах жилого массива;\n",
    "* total_bedrooms — общее количество спален в домах жилого массива;\n",
    "* population — количество человек, которые проживают в жилом массиве;\n",
    "* households — количество домовладений в жилом массиве;\n",
    "* median_income — медианный доход жителей жилого массива;\n",
    "* median_house_value — медианная стоимость дома в жилом массиве;\n",
    "* ocean_proximity — близость к океану.\n",
    "\n",
    "На основе данных нужно предсказать медианную стоимость дома в жилом массиве — median_house_value. Для оценки качества модели используются метрики: RMSE, MAE и R2."
   ]
  },
  {
   "cell_type": "markdown",
   "id": "53871372",
   "metadata": {
    "id": "53871372"
   },
   "source": [
    "# Подготовка данных"
   ]
  },
  {
   "cell_type": "code",
   "execution_count": 1,
   "id": "df92e3ec",
   "metadata": {
    "id": "df92e3ec"
   },
   "outputs": [],
   "source": [
    "import pandas as pd \n",
    "import numpy as np\n",
    "import pyspark\n",
    "\n",
    "from pyspark.sql import SparkSession\n",
    "from pyspark.sql.types import *\n",
    "import pyspark.sql.functions as F\n",
    "import seaborn as sns\n",
    "from pyspark.ml.feature import OneHotEncoder \n",
    "from pyspark.ml.feature import StringIndexer, VectorAssembler, StandardScaler\n",
    "from pyspark.ml.regression import LinearRegression\n",
    "from pyspark.ml.evaluation import RegressionEvaluator\n",
    "RANDOM_SEED = 2022"
   ]
  },
  {
   "cell_type": "markdown",
   "id": "dbe4a96a",
   "metadata": {},
   "source": [
    "**Инициализируем локальную Spark-сессию**"
   ]
  },
  {
   "cell_type": "code",
   "execution_count": 2,
   "id": "2d04f210",
   "metadata": {},
   "outputs": [],
   "source": [
    "spark = SparkSession.builder \\\n",
    "                    .appName(\"EDA California Housing\") \\\n",
    "                    .getOrCreate()"
   ]
  },
  {
   "cell_type": "markdown",
   "id": "eaf8591d",
   "metadata": {},
   "source": [
    "**Прочитаем содержимое файла '\\/datasets/housing.csv'**"
   ]
  },
  {
   "cell_type": "code",
   "execution_count": 3,
   "id": "f512f0cb",
   "metadata": {
    "scrolled": true
   },
   "outputs": [
    {
     "name": "stderr",
     "output_type": "stream",
     "text": [
      "                                                                                \r"
     ]
    },
    {
     "name": "stdout",
     "output_type": "stream",
     "text": [
      "root\n",
      " |-- longitude: double (nullable = true)\n",
      " |-- latitude: double (nullable = true)\n",
      " |-- housing_median_age: double (nullable = true)\n",
      " |-- total_rooms: double (nullable = true)\n",
      " |-- total_bedrooms: double (nullable = true)\n",
      " |-- population: double (nullable = true)\n",
      " |-- households: double (nullable = true)\n",
      " |-- median_income: double (nullable = true)\n",
      " |-- median_house_value: double (nullable = true)\n",
      " |-- ocean_proximity: string (nullable = true)\n",
      "\n"
     ]
    }
   ],
   "source": [
    "df_housing = spark.read.load('/datasets/housing.csv',\n",
    "                                        format='csv',\n",
    "                                             sep=',',\n",
    "                                    inferSchema=True,\n",
    "                                         header=True)\n",
    "\n",
    "\n",
    "df_housing.printSchema()"
   ]
  },
  {
   "cell_type": "markdown",
   "id": "2cdfb8e3",
   "metadata": {},
   "source": [
    "**Выведем первые пять строк**"
   ]
  },
  {
   "cell_type": "code",
   "execution_count": 4,
   "id": "832a3732",
   "metadata": {},
   "outputs": [
    {
     "data": {
      "text/html": [
       "<div>\n",
       "<style scoped>\n",
       "    .dataframe tbody tr th:only-of-type {\n",
       "        vertical-align: middle;\n",
       "    }\n",
       "\n",
       "    .dataframe tbody tr th {\n",
       "        vertical-align: top;\n",
       "    }\n",
       "\n",
       "    .dataframe thead th {\n",
       "        text-align: right;\n",
       "    }\n",
       "</style>\n",
       "<table border=\"1\" class=\"dataframe\">\n",
       "  <thead>\n",
       "    <tr style=\"text-align: right;\">\n",
       "      <th></th>\n",
       "      <th>longitude</th>\n",
       "      <th>latitude</th>\n",
       "      <th>housing_median_age</th>\n",
       "      <th>total_rooms</th>\n",
       "      <th>total_bedrooms</th>\n",
       "      <th>population</th>\n",
       "      <th>households</th>\n",
       "      <th>median_income</th>\n",
       "      <th>median_house_value</th>\n",
       "      <th>ocean_proximity</th>\n",
       "    </tr>\n",
       "  </thead>\n",
       "  <tbody>\n",
       "    <tr>\n",
       "      <th>0</th>\n",
       "      <td>-122.23</td>\n",
       "      <td>37.88</td>\n",
       "      <td>41.0</td>\n",
       "      <td>880.0</td>\n",
       "      <td>129.0</td>\n",
       "      <td>322.0</td>\n",
       "      <td>126.0</td>\n",
       "      <td>8.3252</td>\n",
       "      <td>452600.0</td>\n",
       "      <td>NEAR BAY</td>\n",
       "    </tr>\n",
       "    <tr>\n",
       "      <th>1</th>\n",
       "      <td>-122.22</td>\n",
       "      <td>37.86</td>\n",
       "      <td>21.0</td>\n",
       "      <td>7099.0</td>\n",
       "      <td>1106.0</td>\n",
       "      <td>2401.0</td>\n",
       "      <td>1138.0</td>\n",
       "      <td>8.3014</td>\n",
       "      <td>358500.0</td>\n",
       "      <td>NEAR BAY</td>\n",
       "    </tr>\n",
       "    <tr>\n",
       "      <th>2</th>\n",
       "      <td>-122.24</td>\n",
       "      <td>37.85</td>\n",
       "      <td>52.0</td>\n",
       "      <td>1467.0</td>\n",
       "      <td>190.0</td>\n",
       "      <td>496.0</td>\n",
       "      <td>177.0</td>\n",
       "      <td>7.2574</td>\n",
       "      <td>352100.0</td>\n",
       "      <td>NEAR BAY</td>\n",
       "    </tr>\n",
       "    <tr>\n",
       "      <th>3</th>\n",
       "      <td>-122.25</td>\n",
       "      <td>37.85</td>\n",
       "      <td>52.0</td>\n",
       "      <td>1274.0</td>\n",
       "      <td>235.0</td>\n",
       "      <td>558.0</td>\n",
       "      <td>219.0</td>\n",
       "      <td>5.6431</td>\n",
       "      <td>341300.0</td>\n",
       "      <td>NEAR BAY</td>\n",
       "    </tr>\n",
       "    <tr>\n",
       "      <th>4</th>\n",
       "      <td>-122.25</td>\n",
       "      <td>37.85</td>\n",
       "      <td>52.0</td>\n",
       "      <td>1627.0</td>\n",
       "      <td>280.0</td>\n",
       "      <td>565.0</td>\n",
       "      <td>259.0</td>\n",
       "      <td>3.8462</td>\n",
       "      <td>342200.0</td>\n",
       "      <td>NEAR BAY</td>\n",
       "    </tr>\n",
       "  </tbody>\n",
       "</table>\n",
       "</div>"
      ],
      "text/plain": [
       "   longitude  latitude  housing_median_age  total_rooms  total_bedrooms  \\\n",
       "0    -122.23     37.88                41.0        880.0           129.0   \n",
       "1    -122.22     37.86                21.0       7099.0          1106.0   \n",
       "2    -122.24     37.85                52.0       1467.0           190.0   \n",
       "3    -122.25     37.85                52.0       1274.0           235.0   \n",
       "4    -122.25     37.85                52.0       1627.0           280.0   \n",
       "\n",
       "   population  households  median_income  median_house_value ocean_proximity  \n",
       "0       322.0       126.0         8.3252            452600.0        NEAR BAY  \n",
       "1      2401.0      1138.0         8.3014            358500.0        NEAR BAY  \n",
       "2       496.0       177.0         7.2574            352100.0        NEAR BAY  \n",
       "3       558.0       219.0         5.6431            341300.0        NEAR BAY  \n",
       "4       565.0       259.0         3.8462            342200.0        NEAR BAY  "
      ]
     },
     "execution_count": 4,
     "metadata": {},
     "output_type": "execute_result"
    }
   ],
   "source": [
    "pd.DataFrame(df_housing.take(5), columns=df_housing.columns)"
   ]
  },
  {
   "cell_type": "markdown",
   "id": "52d69147",
   "metadata": {},
   "source": [
    "**Выведем типы данных колонок датасета. Используем для этого метод pySpark dtypes**"
   ]
  },
  {
   "cell_type": "code",
   "execution_count": 5,
   "id": "a8102b61",
   "metadata": {
    "scrolled": true
   },
   "outputs": [
    {
     "name": "stdout",
     "output_type": "stream",
     "text": [
      "               column    type\n",
      "0           longitude  double\n",
      "1            latitude  double\n",
      "2  housing_median_age  double\n",
      "3         total_rooms  double\n",
      "4      total_bedrooms  double\n",
      "5          population  double\n",
      "6          households  double\n",
      "7       median_income  double\n",
      "8  median_house_value  double\n",
      "9     ocean_proximity  string\n"
     ]
    }
   ],
   "source": [
    "print(pd.DataFrame(df_housing.dtypes, columns=['column', 'type']))"
   ]
  },
  {
   "cell_type": "markdown",
   "id": "00a1506a",
   "metadata": {},
   "source": [
    "**Более детально изучим данные. Для этого вызовем метод describe**"
   ]
  },
  {
   "cell_type": "code",
   "execution_count": 6,
   "id": "88935dd8",
   "metadata": {
    "scrolled": true
   },
   "outputs": [
    {
     "name": "stderr",
     "output_type": "stream",
     "text": [
      "                                                                                \r"
     ]
    },
    {
     "data": {
      "text/html": [
       "<div>\n",
       "<style scoped>\n",
       "    .dataframe tbody tr th:only-of-type {\n",
       "        vertical-align: middle;\n",
       "    }\n",
       "\n",
       "    .dataframe tbody tr th {\n",
       "        vertical-align: top;\n",
       "    }\n",
       "\n",
       "    .dataframe thead th {\n",
       "        text-align: right;\n",
       "    }\n",
       "</style>\n",
       "<table border=\"1\" class=\"dataframe\">\n",
       "  <thead>\n",
       "    <tr style=\"text-align: right;\">\n",
       "      <th></th>\n",
       "      <th>summary</th>\n",
       "      <th>longitude</th>\n",
       "      <th>latitude</th>\n",
       "      <th>housing_median_age</th>\n",
       "      <th>total_rooms</th>\n",
       "      <th>total_bedrooms</th>\n",
       "      <th>population</th>\n",
       "      <th>households</th>\n",
       "      <th>median_income</th>\n",
       "      <th>median_house_value</th>\n",
       "      <th>ocean_proximity</th>\n",
       "    </tr>\n",
       "  </thead>\n",
       "  <tbody>\n",
       "    <tr>\n",
       "      <th>0</th>\n",
       "      <td>count</td>\n",
       "      <td>20640</td>\n",
       "      <td>20640</td>\n",
       "      <td>20640</td>\n",
       "      <td>20640</td>\n",
       "      <td>20433</td>\n",
       "      <td>20640</td>\n",
       "      <td>20640</td>\n",
       "      <td>20640</td>\n",
       "      <td>20640</td>\n",
       "      <td>20640</td>\n",
       "    </tr>\n",
       "    <tr>\n",
       "      <th>1</th>\n",
       "      <td>mean</td>\n",
       "      <td>-119.56970445736148</td>\n",
       "      <td>35.6318614341087</td>\n",
       "      <td>28.639486434108527</td>\n",
       "      <td>2635.7630813953488</td>\n",
       "      <td>537.8705525375618</td>\n",
       "      <td>1425.4767441860465</td>\n",
       "      <td>499.5396802325581</td>\n",
       "      <td>3.8706710029070246</td>\n",
       "      <td>206855.81690891474</td>\n",
       "      <td>None</td>\n",
       "    </tr>\n",
       "    <tr>\n",
       "      <th>2</th>\n",
       "      <td>stddev</td>\n",
       "      <td>2.003531723502584</td>\n",
       "      <td>2.135952397457101</td>\n",
       "      <td>12.58555761211163</td>\n",
       "      <td>2181.6152515827944</td>\n",
       "      <td>421.38507007403115</td>\n",
       "      <td>1132.46212176534</td>\n",
       "      <td>382.3297528316098</td>\n",
       "      <td>1.899821717945263</td>\n",
       "      <td>115395.61587441359</td>\n",
       "      <td>None</td>\n",
       "    </tr>\n",
       "    <tr>\n",
       "      <th>3</th>\n",
       "      <td>min</td>\n",
       "      <td>-124.35</td>\n",
       "      <td>32.54</td>\n",
       "      <td>1.0</td>\n",
       "      <td>2.0</td>\n",
       "      <td>1.0</td>\n",
       "      <td>3.0</td>\n",
       "      <td>1.0</td>\n",
       "      <td>0.4999</td>\n",
       "      <td>14999.0</td>\n",
       "      <td>&lt;1H OCEAN</td>\n",
       "    </tr>\n",
       "    <tr>\n",
       "      <th>4</th>\n",
       "      <td>max</td>\n",
       "      <td>-114.31</td>\n",
       "      <td>41.95</td>\n",
       "      <td>52.0</td>\n",
       "      <td>39320.0</td>\n",
       "      <td>6445.0</td>\n",
       "      <td>35682.0</td>\n",
       "      <td>6082.0</td>\n",
       "      <td>15.0001</td>\n",
       "      <td>500001.0</td>\n",
       "      <td>NEAR OCEAN</td>\n",
       "    </tr>\n",
       "  </tbody>\n",
       "</table>\n",
       "</div>"
      ],
      "text/plain": [
       "  summary            longitude           latitude  housing_median_age  \\\n",
       "0   count                20640              20640               20640   \n",
       "1    mean  -119.56970445736148   35.6318614341087  28.639486434108527   \n",
       "2  stddev    2.003531723502584  2.135952397457101   12.58555761211163   \n",
       "3     min              -124.35              32.54                 1.0   \n",
       "4     max              -114.31              41.95                52.0   \n",
       "\n",
       "          total_rooms      total_bedrooms          population  \\\n",
       "0               20640               20433               20640   \n",
       "1  2635.7630813953488   537.8705525375618  1425.4767441860465   \n",
       "2  2181.6152515827944  421.38507007403115    1132.46212176534   \n",
       "3                 2.0                 1.0                 3.0   \n",
       "4             39320.0              6445.0             35682.0   \n",
       "\n",
       "          households       median_income  median_house_value ocean_proximity  \n",
       "0              20640               20640               20640           20640  \n",
       "1  499.5396802325581  3.8706710029070246  206855.81690891474            None  \n",
       "2  382.3297528316098   1.899821717945263  115395.61587441359            None  \n",
       "3                1.0              0.4999             14999.0       <1H OCEAN  \n",
       "4             6082.0             15.0001            500001.0      NEAR OCEAN  "
      ]
     },
     "execution_count": 6,
     "metadata": {},
     "output_type": "execute_result"
    }
   ],
   "source": [
    "df_housing.describe().toPandas()"
   ]
  },
  {
   "cell_type": "markdown",
   "id": "d2dc9d39",
   "metadata": {},
   "source": [
    "# Предобработка данных"
   ]
  },
  {
   "cell_type": "markdown",
   "id": "0d246c2e",
   "metadata": {},
   "source": [
    "**Исследуем данные на наличие пропусков**"
   ]
  },
  {
   "cell_type": "code",
   "execution_count": 7,
   "id": "54d5be93",
   "metadata": {},
   "outputs": [
    {
     "name": "stdout",
     "output_type": "stream",
     "text": [
      "longitude 0\n",
      "latitude 0\n",
      "housing_median_age 0\n",
      "total_rooms 0\n",
      "total_bedrooms 207\n",
      "population 0\n",
      "households 0\n",
      "median_income 0\n",
      "median_house_value 0\n",
      "ocean_proximity 0\n"
     ]
    }
   ],
   "source": [
    "columns = df_housing.columns\n",
    "\n",
    "\n",
    "for column in columns:\n",
    "    print(column, df_housing.where(F.isnan(column) | F.col(column).isNull()).count())"
   ]
  },
  {
   "cell_type": "markdown",
   "id": "35846bc6",
   "metadata": {},
   "source": [
    "**Колонка total_bedrooms содержит 207 пропусков - это 1% от общего количества записей в таблице. Поэтому удалим строки, содержащие пропуски**"
   ]
  },
  {
   "cell_type": "code",
   "execution_count": 8,
   "id": "c00e07b9",
   "metadata": {},
   "outputs": [],
   "source": [
    "df_housing = df_housing.na.drop(how='any')"
   ]
  },
  {
   "cell_type": "markdown",
   "id": "888ab235",
   "metadata": {},
   "source": [
    "**Проверим, как сработало удаление**"
   ]
  },
  {
   "cell_type": "code",
   "execution_count": 9,
   "id": "b9253b7f",
   "metadata": {},
   "outputs": [
    {
     "name": "stdout",
     "output_type": "stream",
     "text": [
      "longitude 0\n",
      "latitude 0\n",
      "housing_median_age 0\n",
      "total_rooms 0\n",
      "total_bedrooms 0\n",
      "population 0\n",
      "households 0\n",
      "median_income 0\n",
      "median_house_value 0\n",
      "ocean_proximity 0\n"
     ]
    }
   ],
   "source": [
    "columns = df_housing.columns\n",
    "\n",
    "\n",
    "for column in columns:\n",
    "    print(column, df_housing.where(F.isnan(column) | F.col(column).isNull()).count())"
   ]
  },
  {
   "cell_type": "markdown",
   "id": "ad2ac256",
   "metadata": {},
   "source": [
    "**Разделим наш датасет на две части - выборку для обучения и выборку для тестирования качества модели. Для каждого разбиения будем использовать метод randomSplit().Выведем количество записей в выборках на экран при помощи метода count()**"
   ]
  },
  {
   "cell_type": "code",
   "execution_count": 10,
   "id": "8309ac04",
   "metadata": {},
   "outputs": [
    {
     "name": "stdout",
     "output_type": "stream",
     "text": [
      "16247 4186\n"
     ]
    }
   ],
   "source": [
    "train_data, test_data = df_housing.randomSplit([.8,.2], seed=RANDOM_SEED)\n",
    "print(train_data.count(), test_data.count()) "
   ]
  },
  {
   "cell_type": "markdown",
   "id": "b978c387",
   "metadata": {},
   "source": [
    "**Далее приступим к первому этапу — трансформации признаков.  \n",
    "Преобразуем колонку с категориальными значениями с помощью базовых трансформеров признаков — StringIndexer и OneHotEncoder**"
   ]
  },
  {
   "cell_type": "markdown",
   "id": "a57c017c",
   "metadata": {},
   "source": [
    "**Обучение модели StringIndexer на тренировочных данных**"
   ]
  },
  {
   "cell_type": "code",
   "execution_count": 11,
   "id": "643a23f8",
   "metadata": {},
   "outputs": [
    {
     "name": "stderr",
     "output_type": "stream",
     "text": [
      "                                                                                \r"
     ]
    }
   ],
   "source": [
    "indexer = StringIndexer(inputCol='ocean_proximity', outputCol='ocean_proximity_idx')\n",
    "indexer_model = indexer.fit(train_data)"
   ]
  },
  {
   "cell_type": "markdown",
   "id": "edc0c24a",
   "metadata": {},
   "source": [
    "**Применение обученной модели на тренировочных данных**"
   ]
  },
  {
   "cell_type": "code",
   "execution_count": 12,
   "id": "85739fe9",
   "metadata": {},
   "outputs": [],
   "source": [
    "train_data = indexer_model.transform(train_data)"
   ]
  },
  {
   "cell_type": "markdown",
   "id": "66b359ae",
   "metadata": {},
   "source": [
    "**Применение обученной модели на тестовых данных**"
   ]
  },
  {
   "cell_type": "code",
   "execution_count": 13,
   "id": "67c93ead",
   "metadata": {},
   "outputs": [],
   "source": [
    "test_data = indexer_model.transform(test_data)"
   ]
  },
  {
   "cell_type": "markdown",
   "id": "d769ffd3",
   "metadata": {},
   "source": [
    "**Обучение модели OneHotEncoder на преобразованных тренировочных данных**"
   ]
  },
  {
   "cell_type": "code",
   "execution_count": 14,
   "id": "8d35b721",
   "metadata": {},
   "outputs": [],
   "source": [
    "encoder = OneHotEncoder(inputCols=['ocean_proximity_idx'], outputCols=['ocean_proximity_ohe'])\n",
    "encoder_model = encoder.fit(train_data)"
   ]
  },
  {
   "cell_type": "markdown",
   "id": "6d1f675e",
   "metadata": {},
   "source": [
    "**Применение обученной модели OneHotEncoder на преобразованных тренировочных данных**"
   ]
  },
  {
   "cell_type": "code",
   "execution_count": 15,
   "id": "b5f13187",
   "metadata": {},
   "outputs": [],
   "source": [
    "train_data = encoder_model.transform(train_data)"
   ]
  },
  {
   "cell_type": "markdown",
   "id": "5b9bf0f6",
   "metadata": {},
   "source": [
    "**Применение обученной модели OneHotEncoder на преобразованных тестовых данных**"
   ]
  },
  {
   "cell_type": "code",
   "execution_count": 16,
   "id": "97b24b6b",
   "metadata": {},
   "outputs": [],
   "source": [
    "test_data = encoder_model.transform(test_data)"
   ]
  },
  {
   "cell_type": "code",
   "execution_count": 20,
   "id": "50b68f8b",
   "metadata": {},
   "outputs": [],
   "source": [
    "train_data = train_data.drop('ocean_proximity')"
   ]
  },
  {
   "cell_type": "code",
   "execution_count": 21,
   "id": "2ea900e1",
   "metadata": {},
   "outputs": [],
   "source": [
    "test_data = test_data.drop('ocean_proximity')"
   ]
  },
  {
   "cell_type": "code",
   "execution_count": 22,
   "id": "adab5e9a",
   "metadata": {},
   "outputs": [
    {
     "data": {
      "text/html": [
       "<div>\n",
       "<style scoped>\n",
       "    .dataframe tbody tr th:only-of-type {\n",
       "        vertical-align: middle;\n",
       "    }\n",
       "\n",
       "    .dataframe tbody tr th {\n",
       "        vertical-align: top;\n",
       "    }\n",
       "\n",
       "    .dataframe thead th {\n",
       "        text-align: right;\n",
       "    }\n",
       "</style>\n",
       "<table border=\"1\" class=\"dataframe\">\n",
       "  <thead>\n",
       "    <tr style=\"text-align: right;\">\n",
       "      <th></th>\n",
       "      <th>longitude</th>\n",
       "      <th>latitude</th>\n",
       "      <th>housing_median_age</th>\n",
       "      <th>total_rooms</th>\n",
       "      <th>total_bedrooms</th>\n",
       "      <th>population</th>\n",
       "      <th>households</th>\n",
       "      <th>median_income</th>\n",
       "      <th>median_house_value</th>\n",
       "      <th>ocean_proximity_idx</th>\n",
       "      <th>ocean_proximity_ohe</th>\n",
       "    </tr>\n",
       "  </thead>\n",
       "  <tbody>\n",
       "    <tr>\n",
       "      <th>0</th>\n",
       "      <td>-124.35</td>\n",
       "      <td>40.54</td>\n",
       "      <td>52.0</td>\n",
       "      <td>1820.0</td>\n",
       "      <td>300.0</td>\n",
       "      <td>806.0</td>\n",
       "      <td>270.0</td>\n",
       "      <td>3.0147</td>\n",
       "      <td>94600.0</td>\n",
       "      <td>2.0</td>\n",
       "      <td>(0.0, 0.0, 1.0, 0.0)</td>\n",
       "    </tr>\n",
       "    <tr>\n",
       "      <th>1</th>\n",
       "      <td>-124.30</td>\n",
       "      <td>41.80</td>\n",
       "      <td>19.0</td>\n",
       "      <td>2672.0</td>\n",
       "      <td>552.0</td>\n",
       "      <td>1298.0</td>\n",
       "      <td>478.0</td>\n",
       "      <td>1.9797</td>\n",
       "      <td>85800.0</td>\n",
       "      <td>2.0</td>\n",
       "      <td>(0.0, 0.0, 1.0, 0.0)</td>\n",
       "    </tr>\n",
       "    <tr>\n",
       "      <th>2</th>\n",
       "      <td>-124.27</td>\n",
       "      <td>40.69</td>\n",
       "      <td>36.0</td>\n",
       "      <td>2349.0</td>\n",
       "      <td>528.0</td>\n",
       "      <td>1194.0</td>\n",
       "      <td>465.0</td>\n",
       "      <td>2.5179</td>\n",
       "      <td>79000.0</td>\n",
       "      <td>2.0</td>\n",
       "      <td>(0.0, 0.0, 1.0, 0.0)</td>\n",
       "    </tr>\n",
       "    <tr>\n",
       "      <th>3</th>\n",
       "      <td>-124.26</td>\n",
       "      <td>40.58</td>\n",
       "      <td>52.0</td>\n",
       "      <td>2217.0</td>\n",
       "      <td>394.0</td>\n",
       "      <td>907.0</td>\n",
       "      <td>369.0</td>\n",
       "      <td>2.3571</td>\n",
       "      <td>111400.0</td>\n",
       "      <td>2.0</td>\n",
       "      <td>(0.0, 0.0, 1.0, 0.0)</td>\n",
       "    </tr>\n",
       "    <tr>\n",
       "      <th>4</th>\n",
       "      <td>-124.25</td>\n",
       "      <td>40.28</td>\n",
       "      <td>32.0</td>\n",
       "      <td>1430.0</td>\n",
       "      <td>419.0</td>\n",
       "      <td>434.0</td>\n",
       "      <td>187.0</td>\n",
       "      <td>1.9417</td>\n",
       "      <td>76100.0</td>\n",
       "      <td>2.0</td>\n",
       "      <td>(0.0, 0.0, 1.0, 0.0)</td>\n",
       "    </tr>\n",
       "  </tbody>\n",
       "</table>\n",
       "</div>"
      ],
      "text/plain": [
       "   longitude  latitude  housing_median_age  total_rooms  total_bedrooms  \\\n",
       "0    -124.35     40.54                52.0       1820.0           300.0   \n",
       "1    -124.30     41.80                19.0       2672.0           552.0   \n",
       "2    -124.27     40.69                36.0       2349.0           528.0   \n",
       "3    -124.26     40.58                52.0       2217.0           394.0   \n",
       "4    -124.25     40.28                32.0       1430.0           419.0   \n",
       "\n",
       "   population  households  median_income  median_house_value  \\\n",
       "0       806.0       270.0         3.0147             94600.0   \n",
       "1      1298.0       478.0         1.9797             85800.0   \n",
       "2      1194.0       465.0         2.5179             79000.0   \n",
       "3       907.0       369.0         2.3571            111400.0   \n",
       "4       434.0       187.0         1.9417             76100.0   \n",
       "\n",
       "   ocean_proximity_idx   ocean_proximity_ohe  \n",
       "0                  2.0  (0.0, 0.0, 1.0, 0.0)  \n",
       "1                  2.0  (0.0, 0.0, 1.0, 0.0)  \n",
       "2                  2.0  (0.0, 0.0, 1.0, 0.0)  \n",
       "3                  2.0  (0.0, 0.0, 1.0, 0.0)  \n",
       "4                  2.0  (0.0, 0.0, 1.0, 0.0)  "
      ]
     },
     "execution_count": 22,
     "metadata": {},
     "output_type": "execute_result"
    }
   ],
   "source": [
    "train_data.toPandas().head()"
   ]
  },
  {
   "cell_type": "code",
   "execution_count": 25,
   "id": "aec7be82",
   "metadata": {},
   "outputs": [],
   "source": [
    "categorical_assembler = VectorAssembler(inputCols=[\"ocean_proximity_ohe\"], outputCol=\"categorical_features\")\n",
    "train_data = categorical_assembler.transform(train_data)"
   ]
  },
  {
   "cell_type": "code",
   "execution_count": 27,
   "id": "e9d95611",
   "metadata": {},
   "outputs": [],
   "source": [
    "test_data = categorical_assembler.transform(test_data)"
   ]
  },
  {
   "cell_type": "markdown",
   "id": "1c4cf207",
   "metadata": {},
   "source": [
    "**Трансформируем числовые признаки**"
   ]
  },
  {
   "cell_type": "code",
   "execution_count": 28,
   "id": "093cf059",
   "metadata": {
    "scrolled": true
   },
   "outputs": [],
   "source": [
    "numerical_cols = [\"longitude\", \"latitude\", \"housing_median_age\", \"total_rooms\", \"total_bedrooms\", \"population\", \"households\", \"median_income\"]\n",
    "numerical_assembler = VectorAssembler(inputCols=numerical_cols, outputCol=\"numerical_features\")\n",
    "train_data = numerical_assembler.transform(train_data)\n",
    "test_data = numerical_assembler.transform(test_data)"
   ]
  },
  {
   "cell_type": "code",
   "execution_count": 29,
   "id": "4acec22d",
   "metadata": {},
   "outputs": [],
   "source": [
    "standardScaler = StandardScaler(inputCol='numerical_features', outputCol=\"numerical_features_scaled\")\n",
    "scaler_model = standardScaler.fit(train_data)\n",
    "train_data = scaler_model.transform(train_data)\n",
    "test_data = scaler_model.transform(test_data)"
   ]
  },
  {
   "cell_type": "markdown",
   "id": "71603e84",
   "metadata": {},
   "source": [
    "**Далее соберем полученные категорийные и числовые признаки с помощью VectorAssembler**"
   ]
  },
  {
   "cell_type": "code",
   "execution_count": 31,
   "id": "7e2f56ad",
   "metadata": {
    "scrolled": true
   },
   "outputs": [],
   "source": [
    "all_features = ['categorical_features','numerical_features_scaled']\n",
    "\n",
    "final_assembler = VectorAssembler(inputCols=all_features, outputCol=\"features\") \n",
    "train_data = final_assembler.transform(train_data)"
   ]
  },
  {
   "cell_type": "code",
   "execution_count": 32,
   "id": "b63f9452",
   "metadata": {},
   "outputs": [],
   "source": [
    "test_data = final_assembler.transform(test_data)"
   ]
  },
  {
   "cell_type": "code",
   "execution_count": 33,
   "id": "e82fc0e6",
   "metadata": {},
   "outputs": [
    {
     "name": "stdout",
     "output_type": "stream",
     "text": [
      "+--------------------+-------------------------+\n",
      "|categorical_features|numerical_features_scaled|\n",
      "+--------------------+-------------------------+\n",
      "|       (4,[2],[1.0])|     [-62.014527297581...|\n",
      "|       (4,[2],[1.0])|     [-61.989591822190...|\n",
      "|       (4,[2],[1.0])|     [-61.974630536955...|\n",
      "+--------------------+-------------------------+\n",
      "only showing top 3 rows\n",
      "\n"
     ]
    }
   ],
   "source": [
    "train_data.select(all_features).show(3) "
   ]
  },
  {
   "cell_type": "markdown",
   "id": "9f0a82f3",
   "metadata": {
    "id": "9f0a82f3"
   },
   "source": [
    "# Обучение моделей"
   ]
  },
  {
   "cell_type": "markdown",
   "id": "97ef5c38",
   "metadata": {
    "id": "bddb08c4"
   },
   "source": [
    "**Нам нужно построить две модели линейной регрессии на разных наборах данных**"
   ]
  },
  {
   "cell_type": "markdown",
   "id": "0a31d1fd",
   "metadata": {},
   "source": [
    "**Первая модель линейной регрессии будет использовать все данные**"
   ]
  },
  {
   "cell_type": "code",
   "execution_count": 35,
   "id": "1f81c4a3",
   "metadata": {},
   "outputs": [],
   "source": [
    "target = 'median_house_value'"
   ]
  },
  {
   "cell_type": "code",
   "execution_count": 36,
   "id": "aa1a48a0",
   "metadata": {},
   "outputs": [],
   "source": [
    "lr_1 = LinearRegression(labelCol=target, featuresCol='features',regParam=0.0)"
   ]
  },
  {
   "cell_type": "code",
   "execution_count": 37,
   "id": "6262699e",
   "metadata": {},
   "outputs": [
    {
     "name": "stderr",
     "output_type": "stream",
     "text": [
      "23/11/01 07:33:57 WARN Instrumentation: [cb766a4f] regParam is zero, which might cause numerical instability and overfitting.\n",
      "23/11/01 07:33:58 WARN BLAS: Failed to load implementation from: com.github.fommil.netlib.NativeSystemBLAS\n",
      "23/11/01 07:33:58 WARN BLAS: Failed to load implementation from: com.github.fommil.netlib.NativeRefBLAS\n",
      "23/11/01 07:33:58 WARN LAPACK: Failed to load implementation from: com.github.fommil.netlib.NativeSystemLAPACK\n",
      "23/11/01 07:33:58 WARN LAPACK: Failed to load implementation from: com.github.fommil.netlib.NativeRefLAPACK\n",
      "                                                                                \r"
     ]
    }
   ],
   "source": [
    "model = lr_1.fit(train_data) "
   ]
  },
  {
   "cell_type": "markdown",
   "id": "d33c6b25",
   "metadata": {},
   "source": [
    "**Сохраним трансформированную таблицу с колонкой предсказания первой модели в переменной predictions**"
   ]
  },
  {
   "cell_type": "code",
   "execution_count": 38,
   "id": "ff4d1469",
   "metadata": {},
   "outputs": [],
   "source": [
    "predictions = model.transform(test_data)"
   ]
  },
  {
   "cell_type": "code",
   "execution_count": 39,
   "id": "5f662066",
   "metadata": {},
   "outputs": [],
   "source": [
    "predictions_col = 'prediction'"
   ]
  },
  {
   "cell_type": "markdown",
   "id": "183cb71a",
   "metadata": {},
   "source": [
    "**Теперь аналогично построим вторую модель, используя только числовые переменные, исключив категориальные**"
   ]
  },
  {
   "cell_type": "code",
   "execution_count": 40,
   "id": "0f8e1278",
   "metadata": {},
   "outputs": [],
   "source": [
    "lr_2 = LinearRegression(labelCol=target, featuresCol='numerical_features_scaled', regParam=0.0)"
   ]
  },
  {
   "cell_type": "code",
   "execution_count": 41,
   "id": "670049e0",
   "metadata": {},
   "outputs": [
    {
     "name": "stderr",
     "output_type": "stream",
     "text": [
      "23/11/01 07:34:15 WARN Instrumentation: [8f589d7a] regParam is zero, which might cause numerical instability and overfitting.\n"
     ]
    }
   ],
   "source": [
    "model2 = lr_2.fit(train_data) "
   ]
  },
  {
   "cell_type": "markdown",
   "id": "82aead41",
   "metadata": {},
   "source": [
    "**Сохраним трансформированную таблицу с колонкой предсказания первой модели в переменной predictions2**"
   ]
  },
  {
   "cell_type": "code",
   "execution_count": 42,
   "id": "afcbe4f2",
   "metadata": {},
   "outputs": [],
   "source": [
    "predictions2 = model2.transform(test_data)"
   ]
  },
  {
   "cell_type": "markdown",
   "id": "757fd103",
   "metadata": {
    "id": "757fd103"
   },
   "source": [
    "# Анализ результатов"
   ]
  },
  {
   "cell_type": "markdown",
   "id": "0d6a058b",
   "metadata": {},
   "source": [
    "**Для анализа результатов работы модели создадим объект класса RegressionEvaluator**"
   ]
  },
  {
   "cell_type": "code",
   "execution_count": 43,
   "id": "2014ff75",
   "metadata": {},
   "outputs": [],
   "source": [
    "evaluator = RegressionEvaluator(predictionCol=predictions_col, labelCol = target)"
   ]
  },
  {
   "cell_type": "markdown",
   "id": "ead783ef",
   "metadata": {},
   "source": [
    "**Сравним результаты работы линейной регрессии на двух наборах данных с помощью метрики RMSE**"
   ]
  },
  {
   "cell_type": "markdown",
   "id": "3cb4c41b",
   "metadata": {},
   "source": [
    "**Для первой (учитывающей все признаки)**"
   ]
  },
  {
   "cell_type": "code",
   "execution_count": 44,
   "id": "f1314950",
   "metadata": {},
   "outputs": [
    {
     "data": {
      "text/plain": [
       "69547.08641366745"
      ]
     },
     "execution_count": 44,
     "metadata": {},
     "output_type": "execute_result"
    }
   ],
   "source": [
    "evaluator.evaluate(predictions, {evaluator.metricName: \"rmse\"})"
   ]
  },
  {
   "cell_type": "markdown",
   "id": "5ebe067f",
   "metadata": {},
   "source": [
    "**Для второй (учитывающей только количественные признаки)**"
   ]
  },
  {
   "cell_type": "code",
   "execution_count": 45,
   "id": "8800b411",
   "metadata": {},
   "outputs": [
    {
     "data": {
      "text/plain": [
       "70338.98028310479"
      ]
     },
     "execution_count": 45,
     "metadata": {},
     "output_type": "execute_result"
    }
   ],
   "source": [
    "evaluator.evaluate(predictions2, {evaluator.metricName: \"rmse\"})"
   ]
  },
  {
   "cell_type": "markdown",
   "id": "9fbf20c2",
   "metadata": {},
   "source": [
    "**Чем точнее модель, тем больше значение RMSE будет стремиться к нулю, следовательно первая модель точнее**"
   ]
  },
  {
   "cell_type": "markdown",
   "id": "de338c44",
   "metadata": {},
   "source": [
    "**Сравним результаты работы линейной регрессии на двух наборах данных с помощью метрики MAE**"
   ]
  },
  {
   "cell_type": "markdown",
   "id": "af68f1e8",
   "metadata": {},
   "source": [
    "**Для первой (учитывающей все признаки)**"
   ]
  },
  {
   "cell_type": "code",
   "execution_count": 46,
   "id": "42d6caf1",
   "metadata": {},
   "outputs": [
    {
     "data": {
      "text/plain": [
       "50655.72889279407"
      ]
     },
     "execution_count": 46,
     "metadata": {},
     "output_type": "execute_result"
    }
   ],
   "source": [
    "evaluator.evaluate(predictions, {evaluator.metricName: \"mae\"})"
   ]
  },
  {
   "cell_type": "markdown",
   "id": "376e32ca",
   "metadata": {},
   "source": [
    "**Для второй (учитывающей только количественные признаки)**"
   ]
  },
  {
   "cell_type": "code",
   "execution_count": 47,
   "id": "d7ca9e30",
   "metadata": {},
   "outputs": [
    {
     "data": {
      "text/plain": [
       "51552.859235811164"
      ]
     },
     "execution_count": 47,
     "metadata": {},
     "output_type": "execute_result"
    }
   ],
   "source": [
    "evaluator.evaluate(predictions2, {evaluator.metricName: \"mae\"})"
   ]
  },
  {
   "cell_type": "markdown",
   "id": "ea3fd0f3",
   "metadata": {},
   "source": [
    "**Для модели, которая идеально работает, MAE будет равен 0. Поэтому, чем меньше будет значение этой метрики, тем точнее модель, следовательно первая модель точнее**"
   ]
  },
  {
   "cell_type": "markdown",
   "id": "8b3f4e36",
   "metadata": {},
   "source": [
    "**Сравним результаты работы линейной регрессии на двух наборах данных с помощью метрики R2**"
   ]
  },
  {
   "cell_type": "markdown",
   "id": "f68338f1",
   "metadata": {},
   "source": [
    "**Для первой (учитывающей все признаки)**"
   ]
  },
  {
   "cell_type": "code",
   "execution_count": 48,
   "id": "0f27dc4a",
   "metadata": {},
   "outputs": [
    {
     "data": {
      "text/plain": [
       "0.6389097095366882"
      ]
     },
     "execution_count": 48,
     "metadata": {},
     "output_type": "execute_result"
    }
   ],
   "source": [
    "evaluator.evaluate(predictions, {evaluator.metricName: \"r2\"})"
   ]
  },
  {
   "cell_type": "markdown",
   "id": "67e10dbb",
   "metadata": {},
   "source": [
    "**Для второй (учитывающей только количественные признаки)**"
   ]
  },
  {
   "cell_type": "code",
   "execution_count": 49,
   "id": "7790799a",
   "metadata": {},
   "outputs": [
    {
     "data": {
      "text/plain": [
       "0.6306398264599548"
      ]
     },
     "execution_count": 49,
     "metadata": {},
     "output_type": "execute_result"
    }
   ],
   "source": [
    "evaluator.evaluate(predictions2, {evaluator.metricName: \"r2\"})"
   ]
  },
  {
   "cell_type": "markdown",
   "id": "5c1461bb",
   "metadata": {},
   "source": [
    "**R2 равно единице, когда модель идеально предсказывает результат, а 0 - когда работает также, как и среднее. Соответственно, чем выше R2, тем точнее модель, следовательно первая модель точнее**"
   ]
  },
  {
   "cell_type": "markdown",
   "id": "666a3649",
   "metadata": {},
   "source": [
    "# Вывод"
   ]
  },
  {
   "cell_type": "markdown",
   "id": "3e71051c",
   "metadata": {},
   "source": [
    "В рамках данной работы мы:    \n",
    "\n",
    "Инициализировали локальную Spark-сессию;    \n",
    "Провели предобработку данных, используя методы pySpark;    \n",
    "Исследовали данные на наличие пропусков и избавились от них;    \n",
    "Преобразовали колонку с категориальными значениями техникой One hot encoding;    \n",
    "Провели стандартизацию количественных признаков;    \n",
    "Построив две модели линейной регрессии на разных наборах данных:  \n",
    "\n",
    "используя все данные из файла;  \n",
    "\n",
    "используя только числовые переменные, исключив категориальные.  \n",
    "\n",
    "Выяснили, что согласно всем трем метрикам RMSE, MAE и R2 точнее работает первая модель, использующая все данные из файла."
   ]
  },
  {
   "cell_type": "markdown",
   "metadata": {},
   "source": []
  }
 ],
 "metadata": {
  "ExecuteTimeLog": [
   {
    "duration": 1440,
    "start_time": "2023-10-31T14:03:22.002Z"
   },
   {
    "duration": 21454,
    "start_time": "2023-10-31T14:04:20.205Z"
   },
   {
    "duration": 10699,
    "start_time": "2023-10-31T14:06:02.071Z"
   },
   {
    "duration": 40,
    "start_time": "2023-10-31T14:07:19.675Z"
   },
   {
    "duration": 403,
    "start_time": "2023-10-31T14:09:59.987Z"
   },
   {
    "duration": 4716,
    "start_time": "2023-10-31T14:11:06.055Z"
   },
   {
    "duration": 3975,
    "start_time": "2023-10-31T14:14:40.070Z"
   },
   {
    "duration": 15,
    "start_time": "2023-10-31T14:15:40.202Z"
   },
   {
    "duration": 4466,
    "start_time": "2023-10-31T14:16:09.620Z"
   },
   {
    "duration": 3,
    "start_time": "2023-10-31T14:17:38.594Z"
   },
   {
    "duration": 1259,
    "start_time": "2023-10-31T14:19:46.625Z"
   },
   {
    "duration": 2533,
    "start_time": "2023-10-31T14:21:47.652Z"
   },
   {
    "duration": 46,
    "start_time": "2023-10-31T14:22:27.814Z"
   },
   {
    "duration": 1131,
    "start_time": "2023-10-31T14:25:02.734Z"
   },
   {
    "duration": 23,
    "start_time": "2023-10-31T14:30:33.978Z"
   },
   {
    "duration": 314,
    "start_time": "2023-10-31T14:30:42.351Z"
   },
   {
    "duration": 3103,
    "start_time": "2023-10-31T14:31:51.749Z"
   },
   {
    "duration": 219,
    "start_time": "2023-10-31T14:32:24.608Z"
   },
   {
    "duration": 3301,
    "start_time": "2023-10-31T14:32:41.760Z"
   },
   {
    "duration": 22,
    "start_time": "2023-10-31T14:33:26.439Z"
   },
   {
    "duration": 3,
    "start_time": "2023-10-31T14:33:36.668Z"
   },
   {
    "duration": 8,
    "start_time": "2023-10-31T14:34:01.346Z"
   },
   {
    "duration": 3336,
    "start_time": "2023-10-31T14:34:09.717Z"
   },
   {
    "duration": 23,
    "start_time": "2023-10-31T14:34:59.075Z"
   },
   {
    "duration": 9,
    "start_time": "2023-10-31T14:35:53.232Z"
   },
   {
    "duration": 891,
    "start_time": "2023-10-31T14:38:16.685Z"
   },
   {
    "duration": 862,
    "start_time": "2023-10-31T14:38:46.822Z"
   },
   {
    "duration": 557,
    "start_time": "2023-10-31T14:41:21.452Z"
   },
   {
    "duration": 594,
    "start_time": "2023-10-31T14:42:01.165Z"
   },
   {
    "duration": 554,
    "start_time": "2023-10-31T14:44:20.630Z"
   },
   {
    "duration": 484,
    "start_time": "2023-10-31T14:44:37.667Z"
   },
   {
    "duration": 1549,
    "start_time": "2023-10-31T15:12:47.661Z"
   },
   {
    "duration": 18970,
    "start_time": "2023-10-31T15:12:52.826Z"
   },
   {
    "duration": 1459,
    "start_time": "2023-11-01T02:27:26.398Z"
   },
   {
    "duration": 15556,
    "start_time": "2023-11-01T02:27:27.859Z"
   },
   {
    "duration": 9484,
    "start_time": "2023-11-01T02:27:43.418Z"
   },
   {
    "duration": 517,
    "start_time": "2023-11-01T02:27:52.904Z"
   },
   {
    "duration": 6,
    "start_time": "2023-11-01T02:27:53.423Z"
   },
   {
    "duration": 4601,
    "start_time": "2023-11-01T02:27:53.430Z"
   },
   {
    "duration": 4989,
    "start_time": "2023-11-01T02:27:58.032Z"
   },
   {
    "duration": 88,
    "start_time": "2023-11-01T02:28:03.023Z"
   },
   {
    "duration": 4304,
    "start_time": "2023-11-01T02:28:03.113Z"
   },
   {
    "duration": 1430,
    "start_time": "2023-11-01T02:31:41.387Z"
   },
   {
    "duration": 432,
    "start_time": "2023-11-01T02:32:07.195Z"
   },
   {
    "duration": 2,
    "start_time": "2023-11-01T02:32:51.444Z"
   },
   {
    "duration": 1224,
    "start_time": "2023-11-01T02:35:31.563Z"
   },
   {
    "duration": 15155,
    "start_time": "2023-11-01T02:35:32.789Z"
   },
   {
    "duration": 9171,
    "start_time": "2023-11-01T02:35:47.947Z"
   },
   {
    "duration": 522,
    "start_time": "2023-11-01T02:35:57.120Z"
   },
   {
    "duration": 6,
    "start_time": "2023-11-01T02:35:57.644Z"
   },
   {
    "duration": 3972,
    "start_time": "2023-11-01T02:35:57.651Z"
   },
   {
    "duration": 4503,
    "start_time": "2023-11-01T02:36:01.625Z"
   },
   {
    "duration": 79,
    "start_time": "2023-11-01T02:36:06.130Z"
   },
   {
    "duration": 4097,
    "start_time": "2023-11-01T02:36:06.212Z"
   },
   {
    "duration": 1227,
    "start_time": "2023-11-01T02:36:10.311Z"
   },
   {
    "duration": 486,
    "start_time": "2023-11-01T02:36:11.540Z"
   },
   {
    "duration": 6,
    "start_time": "2023-11-01T02:45:31.029Z"
   },
   {
    "duration": 28,
    "start_time": "2023-11-01T02:46:13.372Z"
   },
   {
    "duration": 21,
    "start_time": "2023-11-01T02:46:55.502Z"
   },
   {
    "duration": 3,
    "start_time": "2023-11-01T02:56:43.757Z"
   },
   {
    "duration": 1190,
    "start_time": "2023-11-01T02:57:41.686Z"
   },
   {
    "duration": 14960,
    "start_time": "2023-11-01T02:57:43.052Z"
   },
   {
    "duration": 8904,
    "start_time": "2023-11-01T02:57:58.014Z"
   },
   {
    "duration": 517,
    "start_time": "2023-11-01T02:58:06.921Z"
   },
   {
    "duration": 63,
    "start_time": "2023-11-01T02:58:07.440Z"
   },
   {
    "duration": 4327,
    "start_time": "2023-11-01T02:58:07.505Z"
   },
   {
    "duration": 4478,
    "start_time": "2023-11-01T02:58:11.834Z"
   },
   {
    "duration": 26,
    "start_time": "2023-11-01T02:58:16.315Z"
   },
   {
    "duration": 3762,
    "start_time": "2023-11-01T02:58:16.402Z"
   },
   {
    "duration": 3,
    "start_time": "2023-11-01T02:58:20.202Z"
   },
   {
    "duration": 1495,
    "start_time": "2023-11-01T02:58:20.207Z"
   },
   {
    "duration": 1447,
    "start_time": "2023-11-01T02:58:57.306Z"
   },
   {
    "duration": 224,
    "start_time": "2023-11-01T02:59:00.034Z"
   },
   {
    "duration": 1389,
    "start_time": "2023-11-01T03:02:07.644Z"
   },
   {
    "duration": 15585,
    "start_time": "2023-11-01T03:02:09.122Z"
   },
   {
    "duration": 8916,
    "start_time": "2023-11-01T03:02:24.711Z"
   },
   {
    "duration": 492,
    "start_time": "2023-11-01T03:02:33.629Z"
   },
   {
    "duration": 6,
    "start_time": "2023-11-01T03:02:34.123Z"
   },
   {
    "duration": 4605,
    "start_time": "2023-11-01T03:02:34.131Z"
   },
   {
    "duration": 4170,
    "start_time": "2023-11-01T03:02:38.738Z"
   },
   {
    "duration": 23,
    "start_time": "2023-11-01T03:02:42.910Z"
   },
   {
    "duration": 3986,
    "start_time": "2023-11-01T03:02:42.935Z"
   },
   {
    "duration": 4,
    "start_time": "2023-11-01T03:02:46.923Z"
   },
   {
    "duration": 1288,
    "start_time": "2023-11-01T03:02:46.929Z"
   },
   {
    "duration": 437,
    "start_time": "2023-11-01T03:02:48.218Z"
   },
   {
    "duration": 1262,
    "start_time": "2023-11-01T03:08:13.271Z"
   },
   {
    "duration": 15069,
    "start_time": "2023-11-01T03:08:14.536Z"
   },
   {
    "duration": 8896,
    "start_time": "2023-11-01T03:08:29.607Z"
   },
   {
    "duration": 462,
    "start_time": "2023-11-01T03:08:38.505Z"
   },
   {
    "duration": 32,
    "start_time": "2023-11-01T03:08:38.970Z"
   },
   {
    "duration": 4024,
    "start_time": "2023-11-01T03:08:39.004Z"
   },
   {
    "duration": 4182,
    "start_time": "2023-11-01T03:08:43.030Z"
   },
   {
    "duration": 17,
    "start_time": "2023-11-01T03:08:47.213Z"
   },
   {
    "duration": 3821,
    "start_time": "2023-11-01T03:08:47.232Z"
   },
   {
    "duration": 1662,
    "start_time": "2023-11-01T03:08:51.055Z"
   },
   {
    "duration": 88,
    "start_time": "2023-11-01T03:08:52.718Z"
   },
   {
    "duration": 122,
    "start_time": "2023-11-01T03:08:52.807Z"
   },
   {
    "duration": 14,
    "start_time": "2023-11-01T03:09:44.666Z"
   },
   {
    "duration": 1227,
    "start_time": "2023-11-01T03:09:59.364Z"
   },
   {
    "duration": 15335,
    "start_time": "2023-11-01T03:10:00.593Z"
   },
   {
    "duration": 8201,
    "start_time": "2023-11-01T03:10:15.930Z"
   },
   {
    "duration": 600,
    "start_time": "2023-11-01T03:10:24.133Z"
   },
   {
    "duration": 66,
    "start_time": "2023-11-01T03:10:24.735Z"
   },
   {
    "duration": 4221,
    "start_time": "2023-11-01T03:10:24.803Z"
   },
   {
    "duration": 4186,
    "start_time": "2023-11-01T03:10:29.026Z"
   },
   {
    "duration": 17,
    "start_time": "2023-11-01T03:10:33.213Z"
   },
   {
    "duration": 4571,
    "start_time": "2023-11-01T03:10:33.233Z"
   },
   {
    "duration": 1309,
    "start_time": "2023-11-01T03:10:37.806Z"
   },
   {
    "duration": 93,
    "start_time": "2023-11-01T03:10:39.117Z"
   },
   {
    "duration": 133,
    "start_time": "2023-11-01T03:10:39.213Z"
   },
   {
    "duration": 0,
    "start_time": "2023-11-01T03:10:39.347Z"
   },
   {
    "duration": 10,
    "start_time": "2023-11-01T03:10:53.722Z"
   },
   {
    "duration": 1263,
    "start_time": "2023-11-01T03:16:37.442Z"
   },
   {
    "duration": 15030,
    "start_time": "2023-11-01T03:16:38.709Z"
   },
   {
    "duration": 8460,
    "start_time": "2023-11-01T03:16:53.742Z"
   },
   {
    "duration": 535,
    "start_time": "2023-11-01T03:17:02.204Z"
   },
   {
    "duration": 63,
    "start_time": "2023-11-01T03:17:02.741Z"
   },
   {
    "duration": 4197,
    "start_time": "2023-11-01T03:17:02.806Z"
   },
   {
    "duration": 4103,
    "start_time": "2023-11-01T03:17:07.005Z"
   },
   {
    "duration": 20,
    "start_time": "2023-11-01T03:17:11.110Z"
   },
   {
    "duration": 4472,
    "start_time": "2023-11-01T03:17:11.132Z"
   },
   {
    "duration": 1396,
    "start_time": "2023-11-01T03:17:15.606Z"
   },
   {
    "duration": 3,
    "start_time": "2023-11-01T03:18:57.418Z"
   },
   {
    "duration": 1397,
    "start_time": "2023-11-01T03:19:06.207Z"
   },
   {
    "duration": 46,
    "start_time": "2023-11-01T03:20:19.385Z"
   },
   {
    "duration": 19,
    "start_time": "2023-11-01T03:20:54.108Z"
   },
   {
    "duration": 206,
    "start_time": "2023-11-01T03:21:25.805Z"
   },
   {
    "duration": 47,
    "start_time": "2023-11-01T03:21:59.007Z"
   },
   {
    "duration": 37,
    "start_time": "2023-11-01T03:22:31.757Z"
   },
   {
    "duration": 242,
    "start_time": "2023-11-01T03:27:28.487Z"
   },
   {
    "duration": 620,
    "start_time": "2023-11-01T03:36:28.388Z"
   },
   {
    "duration": 9,
    "start_time": "2023-11-01T03:37:03.080Z"
   },
   {
    "duration": 1856,
    "start_time": "2023-11-01T03:37:38.176Z"
   },
   {
    "duration": 9,
    "start_time": "2023-11-01T03:47:47.498Z"
   },
   {
    "duration": 7,
    "start_time": "2023-11-01T03:48:03.775Z"
   },
   {
    "duration": 1450,
    "start_time": "2023-11-01T03:48:05.487Z"
   },
   {
    "duration": 1307,
    "start_time": "2023-11-01T03:59:03.536Z"
   },
   {
    "duration": 15194,
    "start_time": "2023-11-01T03:59:04.845Z"
   },
   {
    "duration": 8871,
    "start_time": "2023-11-01T03:59:20.041Z"
   },
   {
    "duration": 519,
    "start_time": "2023-11-01T03:59:28.915Z"
   },
   {
    "duration": 7,
    "start_time": "2023-11-01T03:59:29.436Z"
   },
   {
    "duration": 4317,
    "start_time": "2023-11-01T03:59:29.501Z"
   },
   {
    "duration": 4191,
    "start_time": "2023-11-01T03:59:33.821Z"
   },
   {
    "duration": 87,
    "start_time": "2023-11-01T03:59:38.015Z"
   },
   {
    "duration": 4132,
    "start_time": "2023-11-01T03:59:38.105Z"
   },
   {
    "duration": 1562,
    "start_time": "2023-11-01T03:59:42.239Z"
   },
   {
    "duration": 1629,
    "start_time": "2023-11-01T03:59:43.804Z"
   },
   {
    "duration": 103,
    "start_time": "2023-11-01T03:59:45.435Z"
   },
   {
    "duration": 85,
    "start_time": "2023-11-01T03:59:45.540Z"
   },
   {
    "duration": 209,
    "start_time": "2023-11-01T03:59:45.628Z"
   },
   {
    "duration": 94,
    "start_time": "2023-11-01T03:59:45.839Z"
   },
   {
    "duration": 71,
    "start_time": "2023-11-01T03:59:45.935Z"
   },
   {
    "duration": 143,
    "start_time": "2023-11-01T03:59:46.009Z"
   },
   {
    "duration": 0,
    "start_time": "2023-11-01T03:59:46.154Z"
   },
   {
    "duration": 0,
    "start_time": "2023-11-01T03:59:46.155Z"
   },
   {
    "duration": 9,
    "start_time": "2023-11-01T04:00:09.986Z"
   },
   {
    "duration": 6,
    "start_time": "2023-11-01T04:00:10.809Z"
   },
   {
    "duration": 1080,
    "start_time": "2023-11-01T04:00:11.846Z"
   },
   {
    "duration": 22,
    "start_time": "2023-11-01T04:00:42.832Z"
   },
   {
    "duration": 31,
    "start_time": "2023-11-01T04:00:50.524Z"
   },
   {
    "duration": 31,
    "start_time": "2023-11-01T04:02:02.144Z"
   },
   {
    "duration": 22,
    "start_time": "2023-11-01T04:04:14.059Z"
   },
   {
    "duration": 19,
    "start_time": "2023-11-01T04:04:17.851Z"
   },
   {
    "duration": 43,
    "start_time": "2023-11-01T04:06:13.984Z"
   },
   {
    "duration": 18,
    "start_time": "2023-11-01T04:07:13.376Z"
   },
   {
    "duration": 25,
    "start_time": "2023-11-01T04:07:16.312Z"
   },
   {
    "duration": 83,
    "start_time": "2023-11-01T04:08:49.725Z"
   },
   {
    "duration": 946,
    "start_time": "2023-11-01T04:09:45.355Z"
   },
   {
    "duration": 120,
    "start_time": "2023-11-01T04:11:04.961Z"
   },
   {
    "duration": 1217,
    "start_time": "2023-11-01T04:11:46.279Z"
   },
   {
    "duration": 15210,
    "start_time": "2023-11-01T04:11:47.498Z"
   },
   {
    "duration": 9197,
    "start_time": "2023-11-01T04:12:02.711Z"
   },
   {
    "duration": 529,
    "start_time": "2023-11-01T04:12:11.910Z"
   },
   {
    "duration": 64,
    "start_time": "2023-11-01T04:12:12.440Z"
   },
   {
    "duration": 4027,
    "start_time": "2023-11-01T04:12:12.505Z"
   },
   {
    "duration": 4073,
    "start_time": "2023-11-01T04:12:16.535Z"
   },
   {
    "duration": 97,
    "start_time": "2023-11-01T04:12:20.611Z"
   },
   {
    "duration": 4253,
    "start_time": "2023-11-01T04:12:20.710Z"
   },
   {
    "duration": 1316,
    "start_time": "2023-11-01T04:12:25.001Z"
   },
   {
    "duration": 1515,
    "start_time": "2023-11-01T04:12:26.319Z"
   },
   {
    "duration": 95,
    "start_time": "2023-11-01T04:12:27.836Z"
   },
   {
    "duration": 73,
    "start_time": "2023-11-01T04:12:27.933Z"
   },
   {
    "duration": 216,
    "start_time": "2023-11-01T04:12:28.008Z"
   },
   {
    "duration": 99,
    "start_time": "2023-11-01T04:12:28.226Z"
   },
   {
    "duration": 84,
    "start_time": "2023-11-01T04:12:28.327Z"
   },
   {
    "duration": 9,
    "start_time": "2023-11-01T04:12:28.413Z"
   },
   {
    "duration": 80,
    "start_time": "2023-11-01T04:12:28.424Z"
   },
   {
    "duration": 1332,
    "start_time": "2023-11-01T04:12:28.506Z"
   },
   {
    "duration": 187,
    "start_time": "2023-11-01T04:12:29.840Z"
   },
   {
    "duration": 1072,
    "start_time": "2023-11-01T04:12:30.029Z"
   },
   {
    "duration": 2199,
    "start_time": "2023-11-01T04:19:45.323Z"
   },
   {
    "duration": 1358,
    "start_time": "2023-11-01T06:23:00.592Z"
   },
   {
    "duration": 14310,
    "start_time": "2023-11-01T06:23:01.951Z"
   },
   {
    "duration": 7198,
    "start_time": "2023-11-01T06:23:16.264Z"
   },
   {
    "duration": 488,
    "start_time": "2023-11-01T06:23:23.465Z"
   },
   {
    "duration": 4,
    "start_time": "2023-11-01T06:23:23.955Z"
   },
   {
    "duration": 3806,
    "start_time": "2023-11-01T06:23:23.961Z"
   },
   {
    "duration": 3588,
    "start_time": "2023-11-01T06:23:27.768Z"
   },
   {
    "duration": 14,
    "start_time": "2023-11-01T06:23:31.358Z"
   },
   {
    "duration": 3794,
    "start_time": "2023-11-01T06:23:31.374Z"
   },
   {
    "duration": 1482,
    "start_time": "2023-11-01T06:23:35.175Z"
   },
   {
    "duration": 1209,
    "start_time": "2023-11-01T06:23:36.658Z"
   },
   {
    "duration": 84,
    "start_time": "2023-11-01T06:23:37.868Z"
   },
   {
    "duration": 25,
    "start_time": "2023-11-01T06:23:37.953Z"
   },
   {
    "duration": 204,
    "start_time": "2023-11-01T06:23:37.980Z"
   },
   {
    "duration": 66,
    "start_time": "2023-11-01T06:23:38.186Z"
   },
   {
    "duration": 88,
    "start_time": "2023-11-01T06:23:38.254Z"
   },
   {
    "duration": 7,
    "start_time": "2023-11-01T06:23:38.344Z"
   },
   {
    "duration": 4,
    "start_time": "2023-11-01T06:23:38.353Z"
   },
   {
    "duration": 1146,
    "start_time": "2023-11-01T06:23:38.358Z"
   },
   {
    "duration": 147,
    "start_time": "2023-11-01T06:23:39.506Z"
   },
   {
    "duration": 1012,
    "start_time": "2023-11-01T06:23:39.654Z"
   },
   {
    "duration": 2161,
    "start_time": "2023-11-01T06:23:40.668Z"
   },
   {
    "duration": 208,
    "start_time": "2023-11-01T06:23:42.830Z"
   },
   {
    "duration": 0,
    "start_time": "2023-11-01T06:23:43.040Z"
   },
   {
    "duration": 0,
    "start_time": "2023-11-01T06:23:43.041Z"
   },
   {
    "duration": 0,
    "start_time": "2023-11-01T06:23:43.042Z"
   },
   {
    "duration": 0,
    "start_time": "2023-11-01T06:23:43.043Z"
   },
   {
    "duration": 0,
    "start_time": "2023-11-01T06:23:43.044Z"
   },
   {
    "duration": 0,
    "start_time": "2023-11-01T06:23:43.046Z"
   },
   {
    "duration": 0,
    "start_time": "2023-11-01T06:23:43.048Z"
   },
   {
    "duration": 0,
    "start_time": "2023-11-01T06:23:43.049Z"
   },
   {
    "duration": 0,
    "start_time": "2023-11-01T06:23:43.050Z"
   },
   {
    "duration": 0,
    "start_time": "2023-11-01T06:23:43.051Z"
   },
   {
    "duration": 0,
    "start_time": "2023-11-01T06:23:43.051Z"
   },
   {
    "duration": 0,
    "start_time": "2023-11-01T06:23:43.052Z"
   },
   {
    "duration": 0,
    "start_time": "2023-11-01T06:23:43.054Z"
   },
   {
    "duration": 0,
    "start_time": "2023-11-01T06:23:43.055Z"
   },
   {
    "duration": 0,
    "start_time": "2023-11-01T06:23:43.058Z"
   },
   {
    "duration": 98,
    "start_time": "2023-11-01T06:36:17.202Z"
   },
   {
    "duration": 5,
    "start_time": "2023-11-01T06:36:22.174Z"
   },
   {
    "duration": 1237,
    "start_time": "2023-11-01T06:36:41.476Z"
   },
   {
    "duration": 696,
    "start_time": "2023-11-01T06:38:46.544Z"
   },
   {
    "duration": 413,
    "start_time": "2023-11-01T06:38:47.241Z"
   },
   {
    "duration": 16,
    "start_time": "2023-11-01T06:38:47.737Z"
   },
   {
    "duration": 15,
    "start_time": "2023-11-01T06:38:48.307Z"
   },
   {
    "duration": 14,
    "start_time": "2023-11-01T06:38:49.423Z"
   },
   {
    "duration": 16,
    "start_time": "2023-11-01T06:38:50.058Z"
   },
   {
    "duration": 16,
    "start_time": "2023-11-01T06:38:50.558Z"
   },
   {
    "duration": 553,
    "start_time": "2023-11-01T06:38:54.911Z"
   },
   {
    "duration": 36,
    "start_time": "2023-11-01T06:39:01.275Z"
   },
   {
    "duration": 698,
    "start_time": "2023-11-01T06:39:07.951Z"
   },
   {
    "duration": 1244,
    "start_time": "2023-11-01T06:39:09.171Z"
   },
   {
    "duration": 578,
    "start_time": "2023-11-01T06:39:25.787Z"
   },
   {
    "duration": 382,
    "start_time": "2023-11-01T06:39:28.187Z"
   },
   {
    "duration": 14,
    "start_time": "2023-11-01T06:39:28.665Z"
   },
   {
    "duration": 13,
    "start_time": "2023-11-01T06:39:29.105Z"
   },
   {
    "duration": 345,
    "start_time": "2023-11-01T06:39:33.615Z"
   },
   {
    "duration": 28,
    "start_time": "2023-11-01T06:39:57.975Z"
   },
   {
    "duration": 997,
    "start_time": "2023-11-01T06:39:59.671Z"
   },
   {
    "duration": 765,
    "start_time": "2023-11-01T06:40:08.511Z"
   },
   {
    "duration": 104,
    "start_time": "2023-11-01T06:40:22.399Z"
   },
   {
    "duration": 467,
    "start_time": "2023-11-01T06:40:29.487Z"
   },
   {
    "duration": 4,
    "start_time": "2023-11-01T06:40:37.853Z"
   },
   {
    "duration": 1159,
    "start_time": "2023-11-01T06:40:41.039Z"
   },
   {
    "duration": 428,
    "start_time": "2023-11-01T06:45:49.517Z"
   },
   {
    "duration": 382,
    "start_time": "2023-11-01T06:45:50.071Z"
   },
   {
    "duration": 12,
    "start_time": "2023-11-01T06:45:50.455Z"
   },
   {
    "duration": 17,
    "start_time": "2023-11-01T06:45:50.818Z"
   },
   {
    "duration": 14,
    "start_time": "2023-11-01T06:45:51.174Z"
   },
   {
    "duration": 17,
    "start_time": "2023-11-01T06:45:51.551Z"
   },
   {
    "duration": 16,
    "start_time": "2023-11-01T06:45:51.937Z"
   },
   {
    "duration": 5,
    "start_time": "2023-11-01T06:45:52.153Z"
   },
   {
    "duration": 4,
    "start_time": "2023-11-01T06:45:52.390Z"
   },
   {
    "duration": 656,
    "start_time": "2023-11-01T06:45:52.727Z"
   },
   {
    "duration": 28,
    "start_time": "2023-11-01T06:45:54.472Z"
   },
   {
    "duration": 418,
    "start_time": "2023-11-01T06:46:18.065Z"
   },
   {
    "duration": 991,
    "start_time": "2023-11-01T06:46:21.620Z"
   },
   {
    "duration": 30,
    "start_time": "2023-11-01T06:47:29.583Z"
   },
   {
    "duration": 5,
    "start_time": "2023-11-01T06:47:32.716Z"
   },
   {
    "duration": 102,
    "start_time": "2023-11-01T06:47:37.442Z"
   },
   {
    "duration": 910,
    "start_time": "2023-11-01T06:47:37.990Z"
   },
   {
    "duration": 8,
    "start_time": "2023-11-01T06:47:54.612Z"
   },
   {
    "duration": 641,
    "start_time": "2023-11-01T06:48:05.344Z"
   },
   {
    "duration": 32,
    "start_time": "2023-11-01T06:48:21.609Z"
   },
   {
    "duration": 720,
    "start_time": "2023-11-01T06:48:22.220Z"
   },
   {
    "duration": 27,
    "start_time": "2023-11-01T06:48:30.442Z"
   },
   {
    "duration": 458,
    "start_time": "2023-11-01T06:48:32.217Z"
   },
   {
    "duration": 15,
    "start_time": "2023-11-01T06:53:26.251Z"
   },
   {
    "duration": 376,
    "start_time": "2023-11-01T06:53:42.486Z"
   },
   {
    "duration": 277,
    "start_time": "2023-11-01T06:53:43.070Z"
   },
   {
    "duration": 11,
    "start_time": "2023-11-01T06:53:43.600Z"
   },
   {
    "duration": 12,
    "start_time": "2023-11-01T06:53:44.120Z"
   },
   {
    "duration": 16,
    "start_time": "2023-11-01T06:53:44.758Z"
   },
   {
    "duration": 15,
    "start_time": "2023-11-01T06:53:45.341Z"
   },
   {
    "duration": 14,
    "start_time": "2023-11-01T06:53:45.838Z"
   },
   {
    "duration": 5,
    "start_time": "2023-11-01T06:53:46.067Z"
   },
   {
    "duration": 5,
    "start_time": "2023-11-01T06:53:46.266Z"
   },
   {
    "duration": 327,
    "start_time": "2023-11-01T06:53:46.925Z"
   },
   {
    "duration": 24,
    "start_time": "2023-11-01T06:53:51.310Z"
   },
   {
    "duration": 4,
    "start_time": "2023-11-01T06:54:02.580Z"
   },
   {
    "duration": 326,
    "start_time": "2023-11-01T06:54:05.842Z"
   },
   {
    "duration": 34,
    "start_time": "2023-11-01T06:54:21.090Z"
   },
   {
    "duration": 1565,
    "start_time": "2023-11-01T06:54:27.721Z"
   },
   {
    "duration": 1666,
    "start_time": "2023-11-01T07:07:04.891Z"
   },
   {
    "duration": 19870,
    "start_time": "2023-11-01T07:07:10.050Z"
   },
   {
    "duration": 9696,
    "start_time": "2023-11-01T07:07:29.922Z"
   },
   {
    "duration": 420,
    "start_time": "2023-11-01T07:07:39.620Z"
   },
   {
    "duration": 6,
    "start_time": "2023-11-01T07:07:40.042Z"
   },
   {
    "duration": 3960,
    "start_time": "2023-11-01T07:07:40.050Z"
   },
   {
    "duration": 4596,
    "start_time": "2023-11-01T07:07:44.012Z"
   },
   {
    "duration": 96,
    "start_time": "2023-11-01T07:07:48.611Z"
   },
   {
    "duration": 4233,
    "start_time": "2023-11-01T07:07:48.709Z"
   },
   {
    "duration": 1163,
    "start_time": "2023-11-01T07:07:52.945Z"
   },
   {
    "duration": 1551,
    "start_time": "2023-11-01T07:08:45.966Z"
   },
   {
    "duration": 41,
    "start_time": "2023-11-01T07:08:59.045Z"
   },
   {
    "duration": 20,
    "start_time": "2023-11-01T07:09:00.162Z"
   },
   {
    "duration": 189,
    "start_time": "2023-11-01T07:09:19.662Z"
   },
   {
    "duration": 52,
    "start_time": "2023-11-01T07:09:44.519Z"
   },
   {
    "duration": 24,
    "start_time": "2023-11-01T07:10:48.978Z"
   },
   {
    "duration": 2,
    "start_time": "2023-11-01T07:10:49.844Z"
   },
   {
    "duration": 3,
    "start_time": "2023-11-01T07:10:50.122Z"
   },
   {
    "duration": 1942,
    "start_time": "2023-11-01T07:10:52.100Z"
   },
   {
    "duration": 11,
    "start_time": "2023-11-01T07:11:10.379Z"
   },
   {
    "duration": 6,
    "start_time": "2023-11-01T07:11:10.951Z"
   },
   {
    "duration": 1168,
    "start_time": "2023-11-01T07:11:11.520Z"
   },
   {
    "duration": 133,
    "start_time": "2023-11-01T07:22:51.259Z"
   },
   {
    "duration": 8,
    "start_time": "2023-11-01T07:25:53.827Z"
   },
   {
    "duration": 42,
    "start_time": "2023-11-01T07:26:31.966Z"
   },
   {
    "duration": 2471,
    "start_time": "2023-11-01T07:26:40.065Z"
   },
   {
    "duration": 17,
    "start_time": "2023-11-01T07:27:31.820Z"
   },
   {
    "duration": 41,
    "start_time": "2023-11-01T07:28:08.586Z"
   },
   {
    "duration": 996,
    "start_time": "2023-11-01T07:28:29.433Z"
   },
   {
    "duration": 3206,
    "start_time": "2023-11-01T07:28:36.460Z"
   },
   {
    "duration": 23,
    "start_time": "2023-11-01T07:29:56.681Z"
   },
   {
    "duration": 21,
    "start_time": "2023-11-01T07:30:17.210Z"
   },
   {
    "duration": 593,
    "start_time": "2023-11-01T07:30:24.635Z"
   },
   {
    "duration": 10,
    "start_time": "2023-11-01T07:33:00.852Z"
   },
   {
    "duration": 3,
    "start_time": "2023-11-01T07:33:49.759Z"
   },
   {
    "duration": 211,
    "start_time": "2023-11-01T07:33:51.853Z"
   },
   {
    "duration": 2727,
    "start_time": "2023-11-01T07:33:57.113Z"
   },
   {
    "duration": 19,
    "start_time": "2023-11-01T07:34:04.715Z"
   },
   {
    "duration": 3,
    "start_time": "2023-11-01T07:34:05.357Z"
   },
   {
    "duration": 8,
    "start_time": "2023-11-01T07:34:13.519Z"
   },
   {
    "duration": 1630,
    "start_time": "2023-11-01T07:34:15.442Z"
   },
   {
    "duration": 18,
    "start_time": "2023-11-01T07:34:18.059Z"
   },
   {
    "duration": 12,
    "start_time": "2023-11-01T07:34:25.952Z"
   },
   {
    "duration": 543,
    "start_time": "2023-11-01T07:34:29.598Z"
   },
   {
    "duration": 426,
    "start_time": "2023-11-01T07:34:32.185Z"
   },
   {
    "duration": 434,
    "start_time": "2023-11-01T07:34:41.786Z"
   },
   {
    "duration": 270,
    "start_time": "2023-11-01T07:34:43.469Z"
   },
   {
    "duration": 315,
    "start_time": "2023-11-01T07:34:51.568Z"
   },
   {
    "duration": 308,
    "start_time": "2023-11-01T07:34:53.161Z"
   },
   {
    "duration": 80,
    "start_time": "2023-11-01T07:38:42.737Z"
   }
  ],
  "colab": {
   "name": "PySparkSprint.ipynb",
   "provenance": []
  },
  "kernelspec": {
   "display_name": "Python 3 (ipykernel)",
   "language": "python",
   "name": "python3"
  },
  "language_info": {
   "codemirror_mode": {
    "name": "ipython",
    "version": 3
   },
   "file_extension": ".py",
   "mimetype": "text/x-python",
   "name": "python",
   "nbconvert_exporter": "python",
   "pygments_lexer": "ipython3",
   "version": "3.9.5"
  },
  "toc": {
   "base_numbering": 1,
   "nav_menu": {},
   "number_sections": true,
   "sideBar": true,
   "skip_h1_title": true,
   "title_cell": "Table of Contents",
   "title_sidebar": "Contents",
   "toc_cell": false,
   "toc_position": {},
   "toc_section_display": true,
   "toc_window_display": false
  }
 },
 "nbformat": 4,
 "nbformat_minor": 5
}
